{
 "cells": [
  {
   "cell_type": "markdown",
   "id": "7153f31a",
   "metadata": {},
   "source": [
    "## Setup"
   ]
  },
  {
   "cell_type": "code",
   "execution_count": null,
   "id": "216b8b6e",
   "metadata": {},
   "outputs": [
    {
     "name": "stdout",
     "output_type": "stream",
     "text": [
      "The autoreload extension is already loaded. To reload it, use:\n",
      "  %reload_ext autoreload\n"
     ]
    }
   ],
   "source": [
    "%load_ext autoreload\n",
    "%autoreload 2\n",
    "\n",
    "import plotly.io as pio\n",
    "pio.renderers.default = \"sphinx_gallery\"\n",
    "import plotly.express as px\n",
    "import pandas as pd\n",
    "import numpy as np\n",
    "import itertools\n",
    "import statsmodels.api as sm\n",
    "import statsmodels.formula.api as smf\n",
    "from leap.data_generation.utils import heaviside\n",
    "from leap.data_generation.antibiotic_data import load_birth_data"
   ]
  },
  {
   "cell_type": "code",
   "execution_count": 81,
   "id": "da80c175",
   "metadata": {},
   "outputs": [],
   "source": [
    "# Plot Settings\n",
    "pio.templates.default = \"plotly_white\"\n",
    "config = {\n",
    "    'toImageButtonOptions': {\n",
    "        'format': 'png',\n",
    "        'scale': 2\n",
    "    }\n",
    "}"
   ]
  },
  {
   "cell_type": "markdown",
   "id": "bd455c38",
   "metadata": {},
   "source": [
    "## Data\n",
    "\n",
    "Since the antibiotic dosing data is private, we will create here a mock dataset. In this dataset,\n",
    "we will have the *total* number of courses of antibiotics prescribed to all infants in BC,\n",
    "stratified by sex and year."
   ]
  },
  {
   "cell_type": "code",
   "execution_count": null,
   "id": "84a3302d",
   "metadata": {},
   "outputs": [
    {
     "data": {
      "text/html": [
       "<div>\n",
       "<style scoped>\n",
       "    .dataframe tbody tr th:only-of-type {\n",
       "        vertical-align: middle;\n",
       "    }\n",
       "\n",
       "    .dataframe tbody tr th {\n",
       "        vertical-align: top;\n",
       "    }\n",
       "\n",
       "    .dataframe thead th {\n",
       "        text-align: right;\n",
       "    }\n",
       "</style>\n",
       "<table border=\"1\" class=\"dataframe\">\n",
       "  <thead>\n",
       "    <tr style=\"text-align: right;\">\n",
       "      <th></th>\n",
       "      <th>sex</th>\n",
       "      <th>year</th>\n",
       "      <th>n_abx</th>\n",
       "    </tr>\n",
       "  </thead>\n",
       "  <tbody>\n",
       "    <tr>\n",
       "      <th>0</th>\n",
       "      <td>F</td>\n",
       "      <td>2000</td>\n",
       "      <td>16000</td>\n",
       "    </tr>\n",
       "    <tr>\n",
       "      <th>1</th>\n",
       "      <td>F</td>\n",
       "      <td>2001</td>\n",
       "      <td>15360</td>\n",
       "    </tr>\n",
       "    <tr>\n",
       "      <th>2</th>\n",
       "      <td>F</td>\n",
       "      <td>2002</td>\n",
       "      <td>14720</td>\n",
       "    </tr>\n",
       "    <tr>\n",
       "      <th>3</th>\n",
       "      <td>F</td>\n",
       "      <td>2003</td>\n",
       "      <td>14080</td>\n",
       "    </tr>\n",
       "    <tr>\n",
       "      <th>4</th>\n",
       "      <td>F</td>\n",
       "      <td>2004</td>\n",
       "      <td>13440</td>\n",
       "    </tr>\n",
       "  </tbody>\n",
       "</table>\n",
       "</div>"
      ],
      "text/plain": [
       "  sex  year  n_abx\n",
       "0   F  2000  16000\n",
       "1   F  2001  15360\n",
       "2   F  2002  14720\n",
       "3   F  2003  14080\n",
       "4   F  2004  13440"
      ]
     },
     "execution_count": 100,
     "metadata": {},
     "output_type": "execute_result"
    }
   ],
   "source": [
    "# Data was collected for the years 2000-2018\n",
    "years = np.arange(2000, 2018)\n",
    "\n",
    "# Mock data for antibiotic courses prescribed to infants using an approximate linear trend\n",
    "n_abx_female = [-640 * i + 16000 for i, _ in enumerate(years)]\n",
    "n_abx_male = [-880 * i + 22000 for i, _ in enumerate(years)]\n",
    "n_abx = n_abx_female + n_abx_male\n",
    "\n",
    "# Create a DataFrame for antibiotic courses prescribed to infants\n",
    "df_abx = pd.DataFrame(\n",
    "    data=list(itertools.product([\"F\", \"M\"], years)),\n",
    "    columns=[\"sex\", \"year\"]\n",
    ")\n",
    "df_abx[\"n_abx\"] = n_abx\n",
    "df_abx.head()"
   ]
  },
  {
   "cell_type": "markdown",
   "id": "c2f53f20",
   "metadata": {},
   "source": [
    "Next, since the antibiotic data measures the number of antibiotics prescribed at a population level,\n",
    "we need to use population data from `Statistics Canada` to determine the number of antibiotics\n",
    "prescribed per capita:"
   ]
  },
  {
   "cell_type": "code",
   "execution_count": 55,
   "id": "fc370e84",
   "metadata": {},
   "outputs": [
    {
     "name": "stderr",
     "output_type": "stream",
     "text": [
      "/Users/work/Coding/RESP/leap/leap/data_generation/antibiotic_data.py:78: DtypeWarning:\n",
      "\n",
      "Columns (12,14) have mixed types. Specify dtype option on import or set low_memory=False.\n",
      "\n"
     ]
    },
    {
     "data": {
      "text/html": [
       "<div>\n",
       "<style scoped>\n",
       "    .dataframe tbody tr th:only-of-type {\n",
       "        vertical-align: middle;\n",
       "    }\n",
       "\n",
       "    .dataframe tbody tr th {\n",
       "        vertical-align: top;\n",
       "    }\n",
       "\n",
       "    .dataframe thead th {\n",
       "        text-align: right;\n",
       "    }\n",
       "</style>\n",
       "<table border=\"1\" class=\"dataframe\">\n",
       "  <thead>\n",
       "    <tr style=\"text-align: right;\">\n",
       "      <th></th>\n",
       "      <th>year</th>\n",
       "      <th>province</th>\n",
       "      <th>sex</th>\n",
       "      <th>n_birth</th>\n",
       "    </tr>\n",
       "  </thead>\n",
       "  <tbody>\n",
       "    <tr>\n",
       "      <th>0</th>\n",
       "      <td>2000</td>\n",
       "      <td>BC</td>\n",
       "      <td>M</td>\n",
       "      <td>21314</td>\n",
       "    </tr>\n",
       "    <tr>\n",
       "      <th>1</th>\n",
       "      <td>2000</td>\n",
       "      <td>BC</td>\n",
       "      <td>F</td>\n",
       "      <td>20119</td>\n",
       "    </tr>\n",
       "    <tr>\n",
       "      <th>2</th>\n",
       "      <td>2001</td>\n",
       "      <td>BC</td>\n",
       "      <td>M</td>\n",
       "      <td>20658</td>\n",
       "    </tr>\n",
       "    <tr>\n",
       "      <th>3</th>\n",
       "      <td>2001</td>\n",
       "      <td>BC</td>\n",
       "      <td>F</td>\n",
       "      <td>19578</td>\n",
       "    </tr>\n",
       "    <tr>\n",
       "      <th>4</th>\n",
       "      <td>2002</td>\n",
       "      <td>BC</td>\n",
       "      <td>M</td>\n",
       "      <td>20496</td>\n",
       "    </tr>\n",
       "  </tbody>\n",
       "</table>\n",
       "</div>"
      ],
      "text/plain": [
       "   year province sex  n_birth\n",
       "0  2000       BC   M    21314\n",
       "1  2000       BC   F    20119\n",
       "2  2001       BC   M    20658\n",
       "3  2001       BC   F    19578\n",
       "4  2002       BC   M    20496"
      ]
     },
     "execution_count": 55,
     "metadata": {},
     "output_type": "execute_result"
    }
   ],
   "source": [
    "df_birth = load_birth_data()\n",
    "df_birth.head()"
   ]
  },
  {
   "cell_type": "markdown",
   "id": "3756e2fe",
   "metadata": {},
   "source": [
    "We can now merge the `df_abx` and `df_birth` dataframes:"
   ]
  },
  {
   "cell_type": "code",
   "execution_count": null,
   "id": "03c84de3",
   "metadata": {},
   "outputs": [],
   "source": [
    "df = pd.merge(df_abx, df_birth, on=[\"year\", \"sex\"], how=\"left\")\n",
    "df.head()"
   ]
  },
  {
   "cell_type": "code",
   "execution_count": 98,
   "id": "0cbbc116",
   "metadata": {},
   "outputs": [
    {
     "data": {
      "application/vnd.plotly.v1+json": {
       "config": {
        "plotlyServerURL": "https://plot.ly"
       },
       "data": [
        {
         "hovertemplate": "sex=F<br>year=%{x}<br>Total Number of Antibiotic Courses Prescribed to Infant Population=%{y}<extra></extra>",
         "legendgroup": "F",
         "line": {
          "color": "#636efa",
          "dash": "solid"
         },
         "marker": {
          "symbol": "circle"
         },
         "mode": "lines",
         "name": "F",
         "orientation": "v",
         "showlegend": true,
         "type": "scatter",
         "x": {
          "bdata": "0AfRB9IH0wfUB9UH1gfXB9gH2QfaB9sH3AfdB94H3wfgB+EH",
          "dtype": "i2"
         },
         "xaxis": "x",
         "y": {
          "bdata": "gD4APIA5ADeANAAygC8ALYAqACiAJQAjgCAAHoAbABmAFgAU",
          "dtype": "i2"
         },
         "yaxis": "y"
        },
        {
         "hovertemplate": "sex=M<br>year=%{x}<br>Total Number of Antibiotic Courses Prescribed to Infant Population=%{y}<extra></extra>",
         "legendgroup": "M",
         "line": {
          "color": "#EF553B",
          "dash": "solid"
         },
         "marker": {
          "symbol": "circle"
         },
         "mode": "lines",
         "name": "M",
         "orientation": "v",
         "showlegend": true,
         "type": "scatter",
         "x": {
          "bdata": "0AfRB9IH0wfUB9UH1gfXB9gH2QfaB9sH3AfdB94H3wfgB+EH",
          "dtype": "i2"
         },
         "xaxis": "x2",
         "y": {
          "bdata": "8FWAUhBPoEswSMBEUEHgPXA6ADeQMyAwsCxAKdAlYCLwHoAb",
          "dtype": "i2"
         },
         "yaxis": "y2"
        }
       ],
       "layout": {
        "annotations": [
         {
          "font": {},
          "showarrow": false,
          "text": "sex=F",
          "x": 0.245,
          "xanchor": "center",
          "xref": "paper",
          "y": 1,
          "yanchor": "bottom",
          "yref": "paper"
         },
         {
          "font": {},
          "showarrow": false,
          "text": "sex=M",
          "x": 0.755,
          "xanchor": "center",
          "xref": "paper",
          "y": 1,
          "yanchor": "bottom",
          "yref": "paper"
         }
        ],
        "legend": {
         "title": {
          "text": "sex"
         },
         "tracegroupgap": 0
        },
        "margin": {
         "t": 60
        },
        "template": {
         "data": {
          "bar": [
           {
            "error_x": {
             "color": "#2a3f5f"
            },
            "error_y": {
             "color": "#2a3f5f"
            },
            "marker": {
             "line": {
              "color": "white",
              "width": 0.5
             },
             "pattern": {
              "fillmode": "overlay",
              "size": 10,
              "solidity": 0.2
             }
            },
            "type": "bar"
           }
          ],
          "barpolar": [
           {
            "marker": {
             "line": {
              "color": "white",
              "width": 0.5
             },
             "pattern": {
              "fillmode": "overlay",
              "size": 10,
              "solidity": 0.2
             }
            },
            "type": "barpolar"
           }
          ],
          "carpet": [
           {
            "aaxis": {
             "endlinecolor": "#2a3f5f",
             "gridcolor": "#C8D4E3",
             "linecolor": "#C8D4E3",
             "minorgridcolor": "#C8D4E3",
             "startlinecolor": "#2a3f5f"
            },
            "baxis": {
             "endlinecolor": "#2a3f5f",
             "gridcolor": "#C8D4E3",
             "linecolor": "#C8D4E3",
             "minorgridcolor": "#C8D4E3",
             "startlinecolor": "#2a3f5f"
            },
            "type": "carpet"
           }
          ],
          "choropleth": [
           {
            "colorbar": {
             "outlinewidth": 0,
             "ticks": ""
            },
            "type": "choropleth"
           }
          ],
          "contour": [
           {
            "colorbar": {
             "outlinewidth": 0,
             "ticks": ""
            },
            "colorscale": [
             [
              0,
              "#0d0887"
             ],
             [
              0.1111111111111111,
              "#46039f"
             ],
             [
              0.2222222222222222,
              "#7201a8"
             ],
             [
              0.3333333333333333,
              "#9c179e"
             ],
             [
              0.4444444444444444,
              "#bd3786"
             ],
             [
              0.5555555555555556,
              "#d8576b"
             ],
             [
              0.6666666666666666,
              "#ed7953"
             ],
             [
              0.7777777777777778,
              "#fb9f3a"
             ],
             [
              0.8888888888888888,
              "#fdca26"
             ],
             [
              1,
              "#f0f921"
             ]
            ],
            "type": "contour"
           }
          ],
          "contourcarpet": [
           {
            "colorbar": {
             "outlinewidth": 0,
             "ticks": ""
            },
            "type": "contourcarpet"
           }
          ],
          "heatmap": [
           {
            "colorbar": {
             "outlinewidth": 0,
             "ticks": ""
            },
            "colorscale": [
             [
              0,
              "#0d0887"
             ],
             [
              0.1111111111111111,
              "#46039f"
             ],
             [
              0.2222222222222222,
              "#7201a8"
             ],
             [
              0.3333333333333333,
              "#9c179e"
             ],
             [
              0.4444444444444444,
              "#bd3786"
             ],
             [
              0.5555555555555556,
              "#d8576b"
             ],
             [
              0.6666666666666666,
              "#ed7953"
             ],
             [
              0.7777777777777778,
              "#fb9f3a"
             ],
             [
              0.8888888888888888,
              "#fdca26"
             ],
             [
              1,
              "#f0f921"
             ]
            ],
            "type": "heatmap"
           }
          ],
          "histogram": [
           {
            "marker": {
             "pattern": {
              "fillmode": "overlay",
              "size": 10,
              "solidity": 0.2
             }
            },
            "type": "histogram"
           }
          ],
          "histogram2d": [
           {
            "colorbar": {
             "outlinewidth": 0,
             "ticks": ""
            },
            "colorscale": [
             [
              0,
              "#0d0887"
             ],
             [
              0.1111111111111111,
              "#46039f"
             ],
             [
              0.2222222222222222,
              "#7201a8"
             ],
             [
              0.3333333333333333,
              "#9c179e"
             ],
             [
              0.4444444444444444,
              "#bd3786"
             ],
             [
              0.5555555555555556,
              "#d8576b"
             ],
             [
              0.6666666666666666,
              "#ed7953"
             ],
             [
              0.7777777777777778,
              "#fb9f3a"
             ],
             [
              0.8888888888888888,
              "#fdca26"
             ],
             [
              1,
              "#f0f921"
             ]
            ],
            "type": "histogram2d"
           }
          ],
          "histogram2dcontour": [
           {
            "colorbar": {
             "outlinewidth": 0,
             "ticks": ""
            },
            "colorscale": [
             [
              0,
              "#0d0887"
             ],
             [
              0.1111111111111111,
              "#46039f"
             ],
             [
              0.2222222222222222,
              "#7201a8"
             ],
             [
              0.3333333333333333,
              "#9c179e"
             ],
             [
              0.4444444444444444,
              "#bd3786"
             ],
             [
              0.5555555555555556,
              "#d8576b"
             ],
             [
              0.6666666666666666,
              "#ed7953"
             ],
             [
              0.7777777777777778,
              "#fb9f3a"
             ],
             [
              0.8888888888888888,
              "#fdca26"
             ],
             [
              1,
              "#f0f921"
             ]
            ],
            "type": "histogram2dcontour"
           }
          ],
          "mesh3d": [
           {
            "colorbar": {
             "outlinewidth": 0,
             "ticks": ""
            },
            "type": "mesh3d"
           }
          ],
          "parcoords": [
           {
            "line": {
             "colorbar": {
              "outlinewidth": 0,
              "ticks": ""
             }
            },
            "type": "parcoords"
           }
          ],
          "pie": [
           {
            "automargin": true,
            "type": "pie"
           }
          ],
          "scatter": [
           {
            "fillpattern": {
             "fillmode": "overlay",
             "size": 10,
             "solidity": 0.2
            },
            "type": "scatter"
           }
          ],
          "scatter3d": [
           {
            "line": {
             "colorbar": {
              "outlinewidth": 0,
              "ticks": ""
             }
            },
            "marker": {
             "colorbar": {
              "outlinewidth": 0,
              "ticks": ""
             }
            },
            "type": "scatter3d"
           }
          ],
          "scattercarpet": [
           {
            "marker": {
             "colorbar": {
              "outlinewidth": 0,
              "ticks": ""
             }
            },
            "type": "scattercarpet"
           }
          ],
          "scattergeo": [
           {
            "marker": {
             "colorbar": {
              "outlinewidth": 0,
              "ticks": ""
             }
            },
            "type": "scattergeo"
           }
          ],
          "scattergl": [
           {
            "marker": {
             "colorbar": {
              "outlinewidth": 0,
              "ticks": ""
             }
            },
            "type": "scattergl"
           }
          ],
          "scattermap": [
           {
            "marker": {
             "colorbar": {
              "outlinewidth": 0,
              "ticks": ""
             }
            },
            "type": "scattermap"
           }
          ],
          "scattermapbox": [
           {
            "marker": {
             "colorbar": {
              "outlinewidth": 0,
              "ticks": ""
             }
            },
            "type": "scattermapbox"
           }
          ],
          "scatterpolar": [
           {
            "marker": {
             "colorbar": {
              "outlinewidth": 0,
              "ticks": ""
             }
            },
            "type": "scatterpolar"
           }
          ],
          "scatterpolargl": [
           {
            "marker": {
             "colorbar": {
              "outlinewidth": 0,
              "ticks": ""
             }
            },
            "type": "scatterpolargl"
           }
          ],
          "scatterternary": [
           {
            "marker": {
             "colorbar": {
              "outlinewidth": 0,
              "ticks": ""
             }
            },
            "type": "scatterternary"
           }
          ],
          "surface": [
           {
            "colorbar": {
             "outlinewidth": 0,
             "ticks": ""
            },
            "colorscale": [
             [
              0,
              "#0d0887"
             ],
             [
              0.1111111111111111,
              "#46039f"
             ],
             [
              0.2222222222222222,
              "#7201a8"
             ],
             [
              0.3333333333333333,
              "#9c179e"
             ],
             [
              0.4444444444444444,
              "#bd3786"
             ],
             [
              0.5555555555555556,
              "#d8576b"
             ],
             [
              0.6666666666666666,
              "#ed7953"
             ],
             [
              0.7777777777777778,
              "#fb9f3a"
             ],
             [
              0.8888888888888888,
              "#fdca26"
             ],
             [
              1,
              "#f0f921"
             ]
            ],
            "type": "surface"
           }
          ],
          "table": [
           {
            "cells": {
             "fill": {
              "color": "#EBF0F8"
             },
             "line": {
              "color": "white"
             }
            },
            "header": {
             "fill": {
              "color": "#C8D4E3"
             },
             "line": {
              "color": "white"
             }
            },
            "type": "table"
           }
          ]
         },
         "layout": {
          "annotationdefaults": {
           "arrowcolor": "#2a3f5f",
           "arrowhead": 0,
           "arrowwidth": 1
          },
          "autotypenumbers": "strict",
          "coloraxis": {
           "colorbar": {
            "outlinewidth": 0,
            "ticks": ""
           }
          },
          "colorscale": {
           "diverging": [
            [
             0,
             "#8e0152"
            ],
            [
             0.1,
             "#c51b7d"
            ],
            [
             0.2,
             "#de77ae"
            ],
            [
             0.3,
             "#f1b6da"
            ],
            [
             0.4,
             "#fde0ef"
            ],
            [
             0.5,
             "#f7f7f7"
            ],
            [
             0.6,
             "#e6f5d0"
            ],
            [
             0.7,
             "#b8e186"
            ],
            [
             0.8,
             "#7fbc41"
            ],
            [
             0.9,
             "#4d9221"
            ],
            [
             1,
             "#276419"
            ]
           ],
           "sequential": [
            [
             0,
             "#0d0887"
            ],
            [
             0.1111111111111111,
             "#46039f"
            ],
            [
             0.2222222222222222,
             "#7201a8"
            ],
            [
             0.3333333333333333,
             "#9c179e"
            ],
            [
             0.4444444444444444,
             "#bd3786"
            ],
            [
             0.5555555555555556,
             "#d8576b"
            ],
            [
             0.6666666666666666,
             "#ed7953"
            ],
            [
             0.7777777777777778,
             "#fb9f3a"
            ],
            [
             0.8888888888888888,
             "#fdca26"
            ],
            [
             1,
             "#f0f921"
            ]
           ],
           "sequentialminus": [
            [
             0,
             "#0d0887"
            ],
            [
             0.1111111111111111,
             "#46039f"
            ],
            [
             0.2222222222222222,
             "#7201a8"
            ],
            [
             0.3333333333333333,
             "#9c179e"
            ],
            [
             0.4444444444444444,
             "#bd3786"
            ],
            [
             0.5555555555555556,
             "#d8576b"
            ],
            [
             0.6666666666666666,
             "#ed7953"
            ],
            [
             0.7777777777777778,
             "#fb9f3a"
            ],
            [
             0.8888888888888888,
             "#fdca26"
            ],
            [
             1,
             "#f0f921"
            ]
           ]
          },
          "colorway": [
           "#636efa",
           "#EF553B",
           "#00cc96",
           "#ab63fa",
           "#FFA15A",
           "#19d3f3",
           "#FF6692",
           "#B6E880",
           "#FF97FF",
           "#FECB52"
          ],
          "font": {
           "color": "#2a3f5f"
          },
          "geo": {
           "bgcolor": "white",
           "lakecolor": "white",
           "landcolor": "white",
           "showlakes": true,
           "showland": true,
           "subunitcolor": "#C8D4E3"
          },
          "hoverlabel": {
           "align": "left"
          },
          "hovermode": "closest",
          "mapbox": {
           "style": "light"
          },
          "paper_bgcolor": "white",
          "plot_bgcolor": "white",
          "polar": {
           "angularaxis": {
            "gridcolor": "#EBF0F8",
            "linecolor": "#EBF0F8",
            "ticks": ""
           },
           "bgcolor": "white",
           "radialaxis": {
            "gridcolor": "#EBF0F8",
            "linecolor": "#EBF0F8",
            "ticks": ""
           }
          },
          "scene": {
           "xaxis": {
            "backgroundcolor": "white",
            "gridcolor": "#DFE8F3",
            "gridwidth": 2,
            "linecolor": "#EBF0F8",
            "showbackground": true,
            "ticks": "",
            "zerolinecolor": "#EBF0F8"
           },
           "yaxis": {
            "backgroundcolor": "white",
            "gridcolor": "#DFE8F3",
            "gridwidth": 2,
            "linecolor": "#EBF0F8",
            "showbackground": true,
            "ticks": "",
            "zerolinecolor": "#EBF0F8"
           },
           "zaxis": {
            "backgroundcolor": "white",
            "gridcolor": "#DFE8F3",
            "gridwidth": 2,
            "linecolor": "#EBF0F8",
            "showbackground": true,
            "ticks": "",
            "zerolinecolor": "#EBF0F8"
           }
          },
          "shapedefaults": {
           "line": {
            "color": "#2a3f5f"
           }
          },
          "ternary": {
           "aaxis": {
            "gridcolor": "#DFE8F3",
            "linecolor": "#A2B1C6",
            "ticks": ""
           },
           "baxis": {
            "gridcolor": "#DFE8F3",
            "linecolor": "#A2B1C6",
            "ticks": ""
           },
           "bgcolor": "white",
           "caxis": {
            "gridcolor": "#DFE8F3",
            "linecolor": "#A2B1C6",
            "ticks": ""
           }
          },
          "title": {
           "x": 0.05
          },
          "xaxis": {
           "automargin": true,
           "gridcolor": "#EBF0F8",
           "linecolor": "#EBF0F8",
           "ticks": "",
           "title": {
            "standoff": 15
           },
           "zerolinecolor": "#EBF0F8",
           "zerolinewidth": 2
          },
          "yaxis": {
           "automargin": true,
           "gridcolor": "#EBF0F8",
           "linecolor": "#EBF0F8",
           "ticks": "",
           "title": {
            "standoff": 15
           },
           "zerolinecolor": "#EBF0F8",
           "zerolinewidth": 2
          }
         }
        },
        "xaxis": {
         "anchor": "y",
         "domain": [
          0,
          0.49
         ],
         "nticks": 10,
         "title": {
          "text": "Birth Year"
         }
        },
        "xaxis2": {
         "anchor": "y2",
         "domain": [
          0.51,
          1
         ],
         "matches": "x",
         "nticks": 10,
         "title": {
          "text": "Birth Year"
         }
        },
        "yaxis": {
         "anchor": "x",
         "domain": [
          0,
          1
         ],
         "title": {
          "font": {
           "size": 12
          },
          "text": "Total Number of Antibiotic Courses Prescribed to Infant Population"
         }
        },
        "yaxis2": {
         "anchor": "x2",
         "domain": [
          0,
          1
         ],
         "matches": "y",
         "showticklabels": false,
         "title": {
          "font": {
           "size": 12
          }
         }
        }
       }
      }
     },
     "metadata": {},
     "output_type": "display_data"
    }
   ],
   "source": [
    "fig = px.line(\n",
    "    df,\n",
    "    x=\"year\",\n",
    "    y=\"n_abx\",\n",
    "    facet_col=\"sex\",\n",
    "    color=\"sex\",\n",
    "    labels={\"n_abx\": \"Total Number of Antibiotic Courses Prescribed to Infant Population\"},\n",
    ")\n",
    "fig.update_xaxes(title_text=\"Birth Year\", nticks=10)\n",
    "fig.update_yaxes(title_font=dict(size=12))\n",
    "\n",
    "fig.show()"
   ]
  },
  {
   "cell_type": "markdown",
   "id": "702a7591",
   "metadata": {},
   "source": [
    "## Model"
   ]
  },
  {
   "cell_type": "code",
   "execution_count": null,
   "id": "905539ac",
   "metadata": {},
   "outputs": [],
   "source": [
    "df[\"sex\"] = df.apply(lambda x: 1 if x[\"sex\"] == \"F\" else 2, axis=1)"
   ]
  },
  {
   "cell_type": "code",
   "execution_count": 57,
   "id": "fb5decee",
   "metadata": {},
   "outputs": [],
   "source": [
    "formula = \"n_abx ~ year + sex + heaviside(year, 2005) * year\""
   ]
  },
  {
   "cell_type": "code",
   "execution_count": 58,
   "id": "8dcc60b4",
   "metadata": {},
   "outputs": [
    {
     "name": "stdout",
     "output_type": "stream",
     "text": [
      "                 Generalized Linear Model Regression Results                  \n",
      "==============================================================================\n",
      "Dep. Variable:                  n_abx   No. Observations:                   36\n",
      "Model:                            GLM   Df Residuals:                       31\n",
      "Model Family:        NegativeBinomial   Df Model:                            4\n",
      "Link Function:                    Log   Scale:                          1.0000\n",
      "Method:                          IRLS   Log-Likelihood:                -260.35\n",
      "Date:                Tue, 12 Aug 2025   Deviance:                       18.039\n",
      "Time:                        13:53:48   Pearson chi2:                     18.0\n",
      "No. Iterations:                     5   Pseudo R-squ. (CS):              1.000\n",
      "Covariance Type:            nonrobust                                         \n",
      "==============================================================================================\n",
      "                                 coef    std err          z      P>|z|      [0.025      0.975]\n",
      "----------------------------------------------------------------------------------------------\n",
      "Intercept                     74.9737     16.193      4.630      0.000      43.236     106.711\n",
      "year                          -0.0377      0.008     -4.664      0.000      -0.054      -0.022\n",
      "sex                            0.2595      0.012     21.258      0.000       0.236       0.283\n",
      "heaviside(year, 2005)         87.6702     16.652      5.265      0.000      55.033     120.308\n",
      "heaviside(year, 2005):year    -0.0437      0.008     -5.259      0.000      -0.060      -0.027\n",
      "==============================================================================================\n"
     ]
    }
   ],
   "source": [
    "θ = 800\n",
    "alpha = 1 / θ\n",
    "\n",
    "# Fit the GLM model\n",
    "model = smf.glm(\n",
    "    formula=formula,\n",
    "    data=df,\n",
    "    family=sm.families.NegativeBinomial(alpha=alpha),\n",
    "    offset=np.log(df[\"n_birth\"])\n",
    ")\n",
    "results = model.fit(maxiter=1000)\n",
    "\n",
    "print(results.summary())"
   ]
  },
  {
   "cell_type": "markdown",
   "id": "ac864e07",
   "metadata": {},
   "source": [
    "Now that the model has been trained, we can obtain the $\\beta$ parameters:"
   ]
  },
  {
   "cell_type": "code",
   "execution_count": 59,
   "id": "9bfc4952",
   "metadata": {},
   "outputs": [],
   "source": [
    "β_0 = results.params[\"Intercept\"]\n",
    "β_t = results.params[\"year\"]\n",
    "β_s = results.params[\"sex\"]\n",
    "β_h = results.params[\"heaviside(year, 2005)\"]\n",
    "β_th = results.params[\"heaviside(year, 2005):year\"]"
   ]
  },
  {
   "cell_type": "markdown",
   "id": "3a5d5766",
   "metadata": {},
   "source": [
    "## Example: Sex = Male, Year = 2008"
   ]
  },
  {
   "cell_type": "code",
   "execution_count": 60,
   "id": "e9b88a21",
   "metadata": {},
   "outputs": [],
   "source": [
    "sex = 2\n",
    "year = 2008\n",
    "η = β_0 + β_s * sex + β_t * year + β_h * heaviside(year, 2005) + β_th * heaviside(year, 2005) * year"
   ]
  },
  {
   "cell_type": "markdown",
   "id": "d97edfeb",
   "metadata": {},
   "source": [
    "Now, $\\eta$ is the number of antibiotics prescribed per number of infants; what we want to know, is\n",
    "given an age, birth year, and sex, how many antibiotics were prescribed to that person during\n",
    "infancy? To do so, we need to use the `Negative Binomial` distribution.\n",
    "First, we compute $\\mu$, using the `link function`."
   ]
  },
  {
   "cell_type": "code",
   "execution_count": 61,
   "id": "b96b57a1",
   "metadata": {},
   "outputs": [],
   "source": [
    "µ = np.exp(η)"
   ]
  },
  {
   "cell_type": "markdown",
   "id": "d9a04795",
   "metadata": {},
   "source": [
    "Next, we make sure that $\\mu > 0.05$:"
   ]
  },
  {
   "cell_type": "code",
   "execution_count": 101,
   "id": "48864f14",
   "metadata": {},
   "outputs": [
    {
     "name": "stdout",
     "output_type": "stream",
     "text": [
      "µ = 0.674037\n"
     ]
    }
   ],
   "source": [
    "µ = max(µ, 0.05)\n",
    "print(f\"µ = {µ:.6f}\")"
   ]
  },
  {
   "cell_type": "markdown",
   "id": "7d5bd9b0",
   "metadata": {},
   "source": [
    "The standard parametrization of the Negative Binomial function uses $p$ and $r$, not $\\mu$.\n",
    "So, we need to convert $\\mu$ to $p$:"
   ]
  },
  {
   "cell_type": "code",
   "execution_count": 103,
   "id": "0a7b6eff",
   "metadata": {},
   "outputs": [
    {
     "name": "stdout",
     "output_type": "stream",
     "text": [
      "p = 0.999158, r = 800.0000\n"
     ]
    }
   ],
   "source": [
    "p = θ / (θ + µ)\n",
    "r = θ\n",
    "print(f\"p = {p:.6f}, r = {r:.4f}\")"
   ]
  },
  {
   "cell_type": "markdown",
   "id": "0be6dee5",
   "metadata": {},
   "source": [
    "The `Negative Binomial` distribution gives us the probability of an infant being prescribed $k$\n",
    "courses of antibiotics during infancy:\n",
    "\n",
    "$$\n",
    "\\begin{aligned}\n",
    "P(Y = k; r, p) := \\binom{k+r-1}{k}(1-p)^k p^r\n",
    "\\end{aligned}\n",
    "$$"
   ]
  },
  {
   "cell_type": "code",
   "execution_count": 70,
   "id": "22324a1d",
   "metadata": {},
   "outputs": [
    {
     "name": "stdout",
     "output_type": "stream",
     "text": [
      "Number of courses of antibiotics prescribed during infancy to a male person born in 2008: 1\n"
     ]
    }
   ],
   "source": [
    "n_abx = np.random.negative_binomial(r, p)\n",
    "sex = \"female\" if sex == 1 else \"male\"\n",
    "print(f\"Number of courses of antibiotics prescribed during infancy to a {sex} person born in {year}: {n_abx}\")"
   ]
  },
  {
   "cell_type": "markdown",
   "id": "8efdd79d",
   "metadata": {},
   "source": [
    "The number of antibiotics obtained is just a sampling from the distribution; if we repeated the\n",
    "selection multiple times, we could get different values. To visualize this, we can look at the\n",
    "distribution:"
   ]
  },
  {
   "cell_type": "code",
   "execution_count": null,
   "id": "6288500d",
   "metadata": {},
   "outputs": [
    {
     "data": {
      "text/html": [
       "<div>            <script src=\"https://cdnjs.cloudflare.com/ajax/libs/mathjax/2.7.5/MathJax.js?config=TeX-AMS-MML_SVG\"></script><script type=\"text/javascript\">if (window.MathJax && window.MathJax.Hub && window.MathJax.Hub.Config) {window.MathJax.Hub.Config({SVG: {font: \"STIX-Web\"}});}</script>                <script type=\"text/javascript\">window.PlotlyConfig = {MathJaxConfig: 'local'};</script>\n",
       "        <script charset=\"utf-8\" src=\"https://cdn.plot.ly/plotly-3.0.1.min.js\"></script>                <div id=\"0b141edc-2e0c-4b82-9630-be11a8471acd\" class=\"plotly-graph-div\" style=\"height:525px; width:100%;\"></div>            <script type=\"text/javascript\">                window.PLOTLYENV=window.PLOTLYENV || {};                                if (document.getElementById(\"0b141edc-2e0c-4b82-9630-be11a8471acd\")) {                    Plotly.newPlot(                        \"0b141edc-2e0c-4b82-9630-be11a8471acd\",                        [{\"bingroup\":\"x\",\"hovertemplate\":\"variable=0\\u003cbr\\u003evalue=%{x}\\u003cbr\\u003ecount=%{y}\\u003cextra\\u003e\\u003c\\u002fextra\\u003e\",\"legendgroup\":\"0\",\"marker\":{\"color\":\"#636efa\",\"pattern\":{\"shape\":\"\"}},\"name\":\"0\",\"nbinsx\":10,\"orientation\":\"v\",\"showlegend\":true,\"x\":{\"dtype\":\"i1\",\"bdata\":\"AAABAAAAAgEBAAMAAQABAQEAAAAAAQACAAECAQACAAEAAQIAAAIBAwEAAAABAAABAAAEAgEAAAEBAAABAAMAAAAAAQEBAQIBAQEBAQEAAgABAQIAAQEABAADAgEAAAABAAABAQABAQEBAAIAAAABAAABAwEAAAABAAEBAgAAAAEAAAEBAQAAAAAAAAAAAQAAAQACAgIAAQACAAABAAABAAIBAAABAgEAAAAAAQABAAABAQAAAgIAAQEAAgEBAQABAwAAAAAAAAIBAAEAAAEBAAABAQIBAAEBAAEAAAABAAEAAgABAQEAAAIAAAEBAQABAQABAAEAAgEAAQAAAAACAQABAgAAAQIAAAAAAgAAAQACAAEAAAAAAAEBAAECAAAAAAIAAAAAAAAAAAABAgAAAAIBAAEAAQAAAQAAAwEAAgEAAQACAQECAAACAAIAAAMBAAIAAwICAAIBBAEBAQABAQEAAAEBAAIBAAEDAAAAAAAAAAEAAQAAAAAAAgAAAQABAQAAAAABAgEBAQABAQEBAwABAAEBAgACAwEAAAACAQEAAQAAAwMAAAEAAAABAQEAAQABAAAAAQAAAAABAgIAAgABAAABAAEDAwIAAQAAAQEAAAACAAAAAQAAAAECAAABAQEAAAAAAQAAAAEBAAABAAAAAwMAAAABAQEBAgABAgABAAEAAgEBAAIBAAAAAAEAAAEAAAACAAEAAQEBAQEAAAEAAQMBAAIAAwABAQEBAQABAQAAAQABAAEBAQAAAAEAAAAAAAAAAQABAwEAAQABAAIBAQABAAAAAAECAAABAAAAAAAAAAAAAgEAAAACAAEAAAABAQIBAgEAAgMAAAABAQAAAgEAAQABAgIAAAICAAEBAAAAAQAAAAEAAAABAQECAAEAAAEBAgIBAAAAAQEBAAEBAAECAAEAAQAAAQEAAAMAAQEBAAABAAEAAQEDAAAAAAEAAgEAAAAAAAACAAIBAAABAQEBAQIAAQEAAAEBAAEBAAAAAAAAAQACAQIAAQEAAgABAAABAAEBAQIAAAABAQACAAIBAgABAAABAQMBAQEEAAADAAMBAAIBAAABAAAAAAACAQEAAAAAAgIAAAECAAEAAAEEAwABAQMAAQEBAQACAQAAAgEBAQEAAgEAAAEBAQICAgIEAQEBAAACAAIBAAEAAQAAAQEBAAIAAAAAAgEAAQEBAQAAAQACAgECAQABAQMAAAEBAQABAAAAAAIAAAIAAAAAAQIAAAAAAgECAgEAAAABAAACAQEAAAEAAQECAQMAAgEAAQAAAAEAAQEBAQAAAgACAAAAAAEAAAAAAAIBAAEBAAABAAEAAAECAAEBAAAAAAAAAAEAAwABAAAAAAAAAAAAAAAAAQAAAQAAAAAAAwAAAAEDAAABAAACAAAAAgACAQIDAQEAAAAAAQAAAAAAAAAAAwAAAAEBAAAAAQEAAwABAAAAAAAAAQEAAQAAAAEAAQEBAQEAAAAAAwABAgAAAAIBAAABAAECAAAAAAECAQIAAAIAAQIAAAAAAAABAQACAgABAAAAAQAAAgEBAQAAAAAAAgAAAQABAQAAAAEAAAAAAQIAAAEAAQAAAQABAQABAQAAAgEBAgABAAAAAgAAAQACAAABAAAAAgEAAQACAAIAAAMBAQABAQEBAAEAAAIBAQEBAAADAAAAAAEAAgECAAEAAgMAAQEBAQABAAEAAAIAAAEAAgAAAAAAAgABAAABAAABAQAAAQEBAAMAAAEAAAAAAwABAQEAAAEAAAAAAgIBAAEBAgEDAAEBAAAAAAIAAQEAAQIAAQABAgABAAECAAIBAAADAgEAAAIAAAEAAAAAAQEAAQEAAAIBAAACAwEBAQEBAAACAwAAAQECAAAAAwAAAAEAAAAAAAAAAAAAAAABAQABAQEBAAEBAAEAAQABAQABAgIAAAEBAAABAAEBAQABAQEAAAIAAAEBAQACAQABAAAAAQACAAAAAgAAAAABAQAAAgIDAAAAAAABAAICAQEAAAAABAEAAQAAAQAAAAAAAQIBAAAAAQACAgAAAAAAAQAAAQABAgABAgIAAAAAAQABAgAAAgACAAECAAAAAQEAAQABAQEAAQMAAAIAAAAAAQIDAAABAgEAAQABAgEBAwAAAQEBAAAAAgABAgIBAAABAQEBAQACAQACAAABAAABAgAAAQABAwEAAAABAQABAAABAQECAQEAAQEBAAECAAIAAQABAAABAAAAAgABAQAAAgIBAAABAQAAAgEAAAAAAgAAAQEBAAQAAQABAgABAwEBAQAAAAABAAABAQAAAAEAAAAAAQEBAQABAAIAAQEAAQEAAAAAAAEAAAAAAwEAAgUAAAQAAAAAAQAAAQAAAAAAAAAAAAEAAAABAAAAAAAAAAAAAAMBAAAAAAEAAQEBAAABAAIAAAEBAwAAAgAAAQEAAQIBAAIBAQIBAAEAAAABAAAAAAACAwEAAwABAAECAQACAwABAQECAgEAAgABAQABAQABAQAAAQIDAgABAAEDAQAAAAEAAAEBAgABAQIAAQAAAQIAAAACAwEBAgEDAQAAAQABAAEAAAIDAAADAAAAAgEAAAEBAAEBAgEBAAEBAAIAAQAAAAAAAAEBAAEAAAACAAECAQACAQAEAAABAgEBAAEAAAIAAAAAAAIBAQICAgABAQABAgEBAAQAAAABAgIAAAAAAAAAAQIBAQEAAAABAQEBAAEBAQIAAAEDAAABAQAAAAEBAQABAgIAAQABAAICAQAAAQEAAAEBAAEAAQACAAAAAgEAAgAAAAAAAAAAAQABAAEBAQABAQABAAEAAAEAAwECAAEBAAAAAQEDAQAAAQIAAAAAAAAAAQECAgEBAQABAAADAAMAAQECAQABAQEBAQEAAQACAQABAAABAQAAAQAAAAMBAAAEAQEBAQIAAAAAAQIAAwEDAQIAAQEAAAECAAEBAQAAAAEAAAIAAAAAAQAAAQACAAABAAAAAgACAgAAAAAAAQAAAQAAAQAAAQACAQACAQIAAgEBAAEAAQIAAQABAAABAgABAAAAAAAAAgADAgEAAQECAQAAAQIBAQAAAAABAAEAAAIAAQIBAgABAgMAAgEAAgEAAwEBAgEAAAEAAAEBAQEBAQABAAEAAQEAAAAAAQIAAAAAAAAAAgABAQEEAQEAAAAAAQAAAAABAQEAAgEBAQEAAAEAAAEBAQACAAEAAAEAAAQAAQEBAAAAAQAAAQEAAAAAAAEAAgEBAAAAAAIAAQIAAAACAgAAAAEAAAEBAQAAAAAAAAIBAAIBAAABAQABAgAAAwEBAAEAAQEBAgAAAAAAAAAAAQEAAAAAAAAAAQEAAAIAAgECAAIAAQIBAQABAQABAAEAAAABAQABAAAAAQIAAAAAAAAAAQAAAAIBAAAAAAABAAACAAAAAQAAAAMBAQEBAAACAAAAAQAAAQIBAQEBAAEAAQAAAgEAAAEAAAEBAAAAAAAAAgEAAgAAAQABAwACAQABAAAAAAEBAAAAAQEBAAEBAAAAAgEAAAAAAQACAgABAAACAAIAAAAAAgACAAEBAAAAAAAAAQABAQIBAAABAQABAAEAAQACAQIAAAEAAwIAAQAAAAEBAQEAAQEBAgAAAQEBAQACAAACAAAAAwAAAQEBAQACAAEBAQAAAAABAAADAQEAAAAEAAAAAAEBAAEAAgICAgEAAAAAAQEDAwEBAQAAAQAAAAABAQAAAQECAgAAAgABAQAAAQEAAAABAAIAAQABAQMAAAAAAAEAAAEBAQEAAQEAAgAAAQEBAQAAAAAAAAMBAQABAQEAAAEBAQEAAQACAAEBAAAAAAACAAEAAQEAAgABAAEBAAECAgABAQABAQACAgAAAgEBAwABAAICAQAAAAEBAQEAAQEBAAIBAQEAAAAAAgAFAQACAAIAAAEAAQEBAgAAAQABAQAAAgAAAQIAAQAAAwIBAAAAAAIAAAEAAQEAAQACAAEAAAIBAAEAAQABAAEBAgAAAQEAAQAAAQABAQABAAIAAAAAAQABAAAAAQAAAQACAAEAAAIAAAAAAQADAgEAAQEAAgABAQABAAACAgEBAAEBAAAAAAEAAAAAAQAAAQACAQMCAgIAAAAAAAABAQMBAgABAQAAAQIAAAAAAAAAAAAAAAEAAQABAAECAAABAAEAAAABAgEAAAABAwABAAEAAQADAAEBAAEAAgAAAQAAAQABAgABAQAAAAAAAQECAAAAAAABAAEAAQABAAAAAAECAQABAQADAAADAQEBAAIBAAECAQEAAQEAAQABAQAAAgEBAQAAAQACAAEAAAEBAQAAAAIAAAMAAQAAAAAAAAABAQABAAEBAAABAAEAAQACAQAAAAIBAwEBAAEBAAEAAAACAQABAQEAAAEAAAMBAAEBAAEAAAACAAEAAQEAAAIAAAIAAAAAAQAAAAAAAAAAAQECAAAAAQIAAQAAAAAAAQIAAAMAAQABAAEAAAABAQAEAQEAAAEAAQABAgEAAAEAAAIDAQICAAAAAAAAAgAAAAEAAQAAAQEBAgADAgEAAgIBAwIBAQEAAAEBAAEBAQABAAAAAAIBAAABAwABAQIAAAIAAgAAAQACAgMAAAAAAQIAAAEAAQAAAQADAAAAAAACAAABAQIAAQEDAgAAAAEBAAAAAgEAAQEBAQIAAgEAAAABAQEAAQEAAAABAQEDAQABAQABAgABAgEAAgABAAEAAAEAAAAAAAABAAEAAAAAAgEBAAABAQABAQIAAgABAAAAAAEAAAABAAABAgECAQABAAAAAAECBAIAAAAAAQAAAgAAAAEBAAACAgIBAAEBAAAAAAEBAAECAAEAAAAAAQAAAQABAAABAAABAAAAAQIBAAACAQAAAQAAAQABAQABAAAAAQABAQEAAQIBAAACAAIBAgABAQAAAAACAAEBAgEAAgACAAEBAAACAAAAAAAAAAICAQAAAgABAQAAAgEAAAAAAAIBAAAAAwABAQEAAQIBAQABAAEBAgEAAAEAAAACAAIAAQEAAgIBAQABAQAAAgIBAQABAAIBAQABAAABAgEBAAIBAAEAAAEDAgAAAQAAAQACAAIBAAAAAAAAAQMAAAECAAEAAAEAAAECAgAAAAEBAQAAAQAAAQABAQABAQEBAAEBAQAAAAAAAQEBAAMBAAIAAAEAAQAAAQEAAAAAAAAAAgABAAEAAAEAAAEDAAEAAgAAAQEAAQEAAQACAAEBAAAAAQABAAEBAAAAAAEBAQAAAQABAQAAAQIBAAAAAAECAQAAAQEBAAEAAAIAAAIBAAACAAACAAABAQECAAAAAQACAAABAAABAQEAAAAAAAECAAABAgAAAAAAAAEAAAABAgABAQAAAAEAAAEBAAAAAAABAAEAAAICAAEBAAEAAQMCAAABAQEBAQABAQIDAAAAAQABAAAAAAECAQECAQIAAQACAQAAAgABAAIBAAEAAQABAgEBAQACAQABAQIAAQIAAAABAAEAAAECAAEAAQIAAQEBAQAAAAECAAIBAAIAAQABAAIBAQEAAQEDAAEAAAAAAgECAQEBAQEAAAABAgABAAEBAQADAQABAAIBAAEBAQAAAAAAAQABAQEBAQABAQABAAEAAQAAAgIAAwABAAEBAAEAAQIAAAABAQACAAABAAEBAQAAAAEAAgAAAAEBAgAAAAEAAQABAAAAAgEAAAAAAAEBAAEAAQIBAAAAAAEBAAICAQACAAEAAAAAAAIBAAECAAAAAgEAAAEBAgIBAAABAAAAAQAAAAEBAQEBAQACAAAAAQIBAAEAAQAAAAIAAQAAAAEAAAABAQABAQEAAQACAAMCAAAAAQIAAAMAAAAAAAAAAAAAAAEAAAIAAAAAAAEBAQEBAAABAAAAAQABAAIAAgABAQACAAAAAAEBAQAAAwEDAAABAAAAAAEAAAACAgMAAAEBAAAAAQEABAAAAQABAQABAAAAAAEAAAABAQAAAAAAAQAAAQABAgEBAAABAAEBAAEBAAEBAgIBAAADAAEBAQAAAAEAAAAAAgEAAAEBAQEBAAMAAAEAAAACAQAAAQEBAAICAAIAAQAAAQAAAAAAAAAAAAECAQMAAQEEAAAAAQABAQECAAEBAgEBAQEAAAIBAwMAAAAEAAAAAAACAQABAAIBAQAAAAAAAAACAAMBAAAAAAECAAECAAEAAAEAAQEAAgIBAAEAAQABAAAAAAAAAAEDAQAAAAEBAQAAAQEBAAIAAgEAAAACAAEAAAEBAAABAAABAQAAAQIBAAAAAAAAAQQAAQIAAgIBAgIAAwABAQAAAQACAAIAAgIAAQACAAAAAAEBAAICAAEAAAEAAAECAQACAQEBAQABAAEBAAAAAAAAAAEAAQIAAQIBAQEAAAIBAgAAAQAAAQAAAAAAAAEBAAEBAgABAgABAgIBAQEAAAMAAAABAgEAAAEBAAEAAAIBAQAAAAEBAQEAAgABAAABAQAAAQAAAQABAQABAQEBAQEAAQACAAAAAQAAAAAAAAAAAgAAAAIBAAIBAAAAAwAAAwEAAQEBAAAAAQAAAAEBAAAAAAAAAQEDAwEBAAAAAQAAAQEAAAAAAAABAAAAAAABAAEAAQACAAMAAAEBAAAAAAABAQEBAAABAAEAAQAAAAICAgAAAAABAgEAAAABAwABAQAAAQADAAEBAAECAAIAAAEAAgADAAIAAAEBAQEAAQAAAQAAAQMBAQEBAAMCAQACAAEBAAAAAQAAAAEBAAAAAAEAAAADAQEAAQEAAAABAAACAQEBAgIBAAABAAAAAAAAAQAAAAEAAAEAAAEAAAECAAEAAAEAAQEBAAAAAQAAAAABAAECAgAAAgABAQIAAAEBAAAAAAAAAQADAQEBAQABAAEAAgABAAIBAAAAAAEBAAEBAAAAAAABAAAAAQAAAAEAAAAAAQEAAQAAAAIBAAEAAAAAAQECAAACAQEAAAIAAQAAAgAAAAECAQEAAAAAAAEAAAABAQICAAABAAAAAAABAAABAAAAAAIAAAABAQABAAIBAAAAAgAAAAAAAgAAAAAAAAIBAQEAAAAAAQEAAAAAAQAAAAEBAAECAAACAQAAAQEBAAIAAQECAQACAAEBAAAAAAEBAAAAAgAAAQAAAAEDAAICAwEAAAAAAgAAAAEAAAAAAQEAAwEAAQEBAAAAAgEBAAEAAAIBAAABAgIBAAEAAAABAAEAAAAAAAABAAEDAAABAAIBAAEAAwEAAQABAQAAAQEAAQIBAgIBAAACAAIAAAIBAQIBAAEBAQEAAQEAAAAAAQIAAAEAAgEAAQAAAAAAAgABAAABAQIDAAMDAQACAAEAAQEAAQABAQAAAQIAAQIAAAAAAAECAQAAAAAAAQAAAAAAAQAAAwAAAAABAgABAQEAAAAAAAAAAAACAAAAAQACAAABAAEAAAICAAABAAEDAAEBAQABAAABAgEAAAEAAAEBAQABBAABAQEDAQACAgECAAIAAAEDAgECAQACAAAAAQAAAgEAAQADAAABAQEBAAEBAQACAAACAQAAAAABAAABAQAAAQACAAABAQAAAAABAAIBAAEBAAECAgABAAAAAQEBAQAAAgABAQAAAAABAQEBAgACAAABAAAAAQIBAQAAAQABAQAAAgABAQABAQAAAAABAQEBAQAAAQEAAAAAAQEBAAIAAQABAQEBAgAAAQABAAABAAAAAAABAQEAAQABAQABAAEAAAEAAQAAAQEAAAAAAAEAAAMCAAEAAAACAQAAAAAAAAEAAAEAAAEBAAABAAIAAAABAgACAgABAAADAAEAAAICAQABAQABAAABAAAAAQEAAQACAAICAAAAAAEAAAAAAAEAAAIBAQAAAgEBAQACAwABAgEAAAAAAAEBAQEBAQABAQAAAQIBAAEBAAECAQAAAAAAAQACAAAAAAEBAAEBAQAAAQEAAAEAAwQAAgEAAAAAAAABAQMBAQEBAQACAQAAAQAAAQEBAQEBAQEAAAIBAAIAAQABAgIAAAABAAAAAAABAAEBAQAAAQEBAQACAQABAAABAgAAAAAAAAIAAQAAAAAAAQEAAQEAAgIBAAEBAwABAAECAgAAAQAAAgAAAAEAAAABAQAAAQAAAAMAAAICAAAAAAAAAAIAAAABAAAFAQEAAgECAAACAAAAAAMCAAEAAQAAAgIAAAIBAgAAAAAAAQEBAAAAAAEBAQAAAgAAAAAAAAEBAQABAQEAAgEAAQIAAAEBAAEAAgEAAAACAAAAAQAAAwAAAwAAAQMAAQADAQAAAQAAAQABAgEBAAAAAAABAAABAAAAAAEBAAAAAAECAAEBAAABAQABAAABAAMAAAAAAgICAQACAQEAAAAAAQABAAADAQABAAEAAAIAAAAAAAACAgIAAQAAAAACAwAAAAIAAAABAAABAQABAAAAAAADAQEBAAACAAABAAABAAAAAwEAAgQAAQABAAACAQEBAQEBAQICAQABAQAAAAEBAAAAAQIBAAEAAAAAAQEBAAABAAABAAECAgAAAQABAQAAAQIAAQEAAQABAQAAAAEAAQEEAQEAAAEBAAABAAACAQEBAQAAAAAAAAEBAAEBAQEBAgADAgABAAADAAECAAAAAQEAAAEBAAAAAQAAAAAAAQEAAQEAAQABAAABAAEAAAAAAAEAAAABAQABAAAAAAACAgAAAAIBAAEBAQEBAgEAAAAAAAEDAQEAAAEAAQEAAwACAAEAAQAAAQACAQACAAABAQECAQAAAQEBAAABAgEAAAACAAAAAAEBAAEAAAEBAQEBAAAAAgEAAAABAAAAAgABAAEBAQEBAgEAAQEBAAAAAgEAAAEAAgAAAQAAAAEBAAAAAQABAQAAAAABAAEBAAACAAAAAQICAAADAAIAAAACAgIAAQAAAAABAgAAAQABAAABAQACAAMCAAIAAAIAAgIAAQEAAAMBAQAAAQECAAAAAQAAAQAAAAEDAAAAAgAAAAEAAAABAAABAQIBAQEAAAABAAEAAQEBAAIAAgAAAAEBAQEBAAEAAAAAAAABAAAAAAEBAQAAAgAAAQAAAAAAAQAAAAABAAAAAAAAAAEAAQEAAAAAAAEDAAABAAEBAAAAAAAAAgABAAEBAQAAAQEAAgEBAAAAAAEBAAEBAAAAAQAAAAAAAAACAAABAAIAAQEAAQAAAAEBAAAAAAEBAAAAAgABAgAAAQAAAAEAAQAAAAEDAAADAQABAQIBAAAAAgAAAAABAQABAQABAQAAAQEAAAEBAAABAAAAAAAAAQEAAAECAQECAgIAAgEAAgEAAQABAQACAAIAAAAAAAADAQAAAQAAAAACAgEAAgAAAAAAAQECAAABAQABAQAAAAIAAQEBAQAAAAEAAAEAAQAAAgABAQIBAAABAwEAAwIBAQACAQABAAABAQECAAEDAgACAQIAAAMCAgEAAgIAAgAAAAABAAIAAgABAAEAAQEAAgAAAAABBAABAQACAAICAQABAAAAAAABAwABAQACAQIBAAEBAAEAAAABAAAAAgEBAAAAAQAAAAIBAQIBAQAAAgIAAQADAAABAAEAAgIAAQEBAQABAQIEAAAAAQEBAAEAAQAAAAAAAQEAAAQAAgAAAQAAAAAAAQEAAAEBAQAAAQABAAEBAAAAAQAAAQEAAAEAAgEBAQAAAQAEAQMCAQEAAQAAAAAAAAEAAAACAAEAAAECAQEAAAEAAQECAAIBAQEAAQACAAEAAQABAAEBAQEBAQAAAQAAAAEBAAIBAAEAAAAAAgEBAAABAQECAQADAAABAQAAAAEAAAEBAAABAgAAAAAAAQABAAAAAAAAAAAAAAEAAgAAAQAAAQABAQEBAQIBAQEAAAEAAQAAAQAAAQABAQABAAACAAABAAEAAAAAAAMBAgEBAAEBAQAABQECAAABAQABAAEBAQEAAgEAAgAAAgABAAMBAQACAAACAQAAAwAAAAEAAgEAAwMBAAEAAQEBAAEAAQAAAAIBAAEBAQEAAgABAQABAgACAAAAAQEAAQUAAAAAAAAAAAQAAAIAAAEBAAQAAQACAAMDAQEAAAEAAQAAAAAAAQABAAABAAEAAAMBAAAAAAEAAQABAQIAAAEBAAIAAAEAAAEBAQACAAAAAQAAAgECAQAAAQEBAAAAAAACAgEBAAEAAAEAAAECAAABAAEAAQMBAgMAAAEAAAAAAQAAAQEBAQADAgIBAAACAQACAAAAAAAAAAABAAEBAQEBAQAAAAAAAQAAAQIAAQAAAAICAgIBAAICAAAAAQABAAEAAQABAQEAAAIAAQAAAQAAAQEAAQABAgIBBAECAAEBAAIAAAQEAAAAAAACAAEAAAABAAECAAACAAAAAQEBAgEBAAEAAAABAAAAAgABAQABAQAAAgEAAQABAAACAgEAAAEAAQAAAAEBAgEAAwAAAQABAQEBAAACAAEAAQEDAAAAAAABAAAAAQADAAEAAgEDAQAAAAACAgAAAAAAAQIBAQIBAAACAQAAAQABAAEBAAABAAAAAAEAAAAAAAAAAQAAAAABAAIAAQEAAAABAQEAAQABAQABAAEBAAEAAAAAAQAAAQABAQEBAQMCAAABAAABAwEBAQEAAAABAQEBAQAEAAAAAQIAAgAAAAEAAgABAAEBAAEAAAIBAAAAAQABAAABAAAAAAEAAgEAAgABAQEAAQABAQAAAQEBAAAAAAAAAQEBAAIAAQIBAAABAQEDAQEBAQAAAAABAgABAAAAAAIBAAACAAAAAAEAAQEAAAABAQAAAQEBAQABBAAAAAEAAAADAgAAAQEAAQAAAAEBAAAAAAAAAAEAAAEBAAEAAQEBAAIBAAEBAAABAQABAAIBAQABAAAAAwEAAAEBAAACAAAAAAEBAAEAAQEAAQIAAQEAAAIBAAEAAAIAAAEBAgIBAgIAAAAAAAACAAAAAQAAAQAAAAEBAQACAQACAAAAAAABAQIDAgEBAAAAAAEBAAIDAAAAAAMAAQIAAAEAAAEAAAAAAQEBAQAAAQECAQAAAQAAAAECAQIBAgACAQMAAQABAAAAAQABAAACAgABAQACAQIAAQEAAAAAAgAAAQACAQEAAAADAAMEAQIBAAEBAAEAAAAAAAECAAABAQEBAQACAQAAAAEBAAMAAAAAAgEAAQAAAAACAAAAAAMDAAEBAQAAAAEAAAIBAgAAAAEAAAAAAAEBAQAAAgIAAAMBAAAAAAACAQEAAgABAQAAAgACAwIAAgIBAwABAQABAgEAAAAAAAAAAQABAAAAAAMAAAABAQAAAAIDAQEBAAABAAABAAAAAAEBAQAAAQAAAQABAAEAAAEAAAACAgEAAAIAAAAAAQEAAAEABAACAQICAAIBAQEAAAEAAQIAAQECAQAAAQAAAQAAAQAAAQAAAAABAQMBAAACAAADAQAAAAABAAAAAwACAQIAAQAAAAEBAAACAAAAAQEBAQEBAQEBAQAAAAMAAAAAAAABAgECAAABAAABAAAAAwABAAMBAgEBAQAAAQADAAEBAAABAgEAAQABAAAAAAABAwEBAQAAAQEAAAEBAQAAAAAAAQEAAAAAAAAAAgEAAAEAAgEAAQABAwABAAAAAAIAAQEAAAEBAAEBAAAAAAABAAEBAAIAAQIAAAEAAAABAQAAAQABAQABAAECAAAAAQIAAQEBAAMBAAEBAAEBAAAAAQAAAQIAAgEAAQIAAQABAQABAgIAAgAAAAAAAQIAAQABAQACAAAAAgACAAAAAAAAAgIAAAAAAAADAAAAAwEAAQEAAAIAAgABAAEAAgACAQAAAAIBAQEDAQAEAQEAAwEAAAAAAQEAAAABAQIBAQEAAAAAAAAAAAEAAgABAgEBAQABAAEAAgIAAAECAgIBAAIBAAEAAQABAAABAAAAAQIBAAABAAACAgADAQICAgABAQEAAQIAAQABAAAFAgABAQAAAQABAAAAAAEBAAAAAQABAQMAAQIAAQAAAAABAAABAAIBAAEAAgEBAAABAAABAQAAAQABAAABAgACAAEAAAEAAAAAAQABAAEBAgEAAAEBAAABAgEBAAEAAAECAAEAAQEAAAEBAAIBAAIDAQACAQECAQEAAgIBAQAAAAEAAAAAAAABAQEDAAADAAABAAAAAAECAAQBAQEBAQEAAQEBAQEBAQABAQAAAAAAAQEAAQEBAgAAAgEDAQEAAAAAAQEAAAEBAAAAAwEAAAADAQIAAAEBAQACAgIAAgEBAQIBAQEAAAIAAAAAAQAAAAAAAQAAAAAAAAEBAQAAAwABAAEBAAEBAAIBAQEBAQEAAQABAgEAAQEBAwEBAgACAQECAQEAAAADAAEAAgIAAAEAAQEAAQAAAAAAAAAAAAAAAgABAwAAAAEBAAABAQIAAwABAwEBAAAAAAABAQECAAAAAAMBAQIBAgMAAAAAAAEAAQEAAAAAAAABAAEAAQABAAABAgEAAQAAAQABAgABAQAAAgAAAQABAAEBAAAAAAEBAQMBAAIAAgAAAQABAAABAAMBAQAAAAMAAAAAAQACAQAAAgEAAQACAAABAgABAAACAAAAAAAAAQEAAAEBBAAAAQIAAQEAAAEAAAABAQAAAQACAQEAAQECAAAAAgMBAAIBAAAAAAAAAQEAAwABAAEAAAEAAQABAwECAAEBAQEBAAABAQABAAEDAgEBAAACAQAAAQABAAAAAQEAAQAAAAAAAAICAAACAAEAAAEAAAAAAQAAAAIBAAAAAAABAAEBAAAAAAAAAgIBAAEAAAAAAQABAQAAAAEBAAAAAgEAAAEAAAEAAAEAAQABAQEAAAAAAQEAAQEBAQECAAEAAQEAAAADAgAAAAIAAQEBAAABAAEAAAIAAAEAAAEAAAAAAAABAAACAgIAAAEAAQMAAAEDAAAAAAEAAAEAAAECAQEBAQAAAQAAAQEAAAEBAAADAQADAQEDAAEBAAAAAwICAQEAAAIBAQAAAAABAQACAAACAQEAAgEAAgACAAEAAAAAAAEAAwEAAQAAAAEAAQEBAAAAAQIAAQABAAEAAAMAAQABAgACAQABAAAAAAECAAEBAAECAQAAAAECAQACAQAAAQABAAEBAwAAAQIDAQIBAQAAAQEAAAABAgIAAQEDAQECAQIAAAABAAAAAAEAAAEBAQEDAQEBAAEBAgEBAQIAAQABAQEBAAEAAgACAAAAAAABAgAAAAADAgABAgABAQECAAADAAEAAQABAQAAAwAAAwEBAQEAAAEAAgEBAwIAAgEBAAEBAAMAAgIAAQAAAQAAAQMCAQAAAQABAAIBAQEAAQMBAQEAAQAAAQABAgIBAAIAAQADAAEBAAEAAAAAAQAAAQACAQEAAQIAAQAAAAEBAAABAAAAAAEAAgEBAgAAAAIBAAICAAACAQAAAAABAAEBAAAAAQABAgAAAQEAAAABAAABAQEAAQABAAAAAAEAAgABAQIBAAABAAIAAAEAAAAAAAIAAAEBAQACAQAAAAEBAAABAQEAAAABAwEBAAACAQABAAABAQAAAQACAAABAQEBAAEAAQIAAAABAQEBAQABAAQAAAIBAAABAAEBAQEAAAABAAABAAEBAAAAAAEAAAICAQIAAQEAAAAAAQIAAAEDAQABAQEAAQECAQACAQEBAAEBAAIAAAMBAAAAAQIBAQMBAAEAAQAAAgABAgAAAAAAAAABAgAAAQEBAQEAAQACAQIAAgEAAAACAgAAAgAAAAACAAEBAAMBAQEBAgEAAQAAAQABAQEBAAABAQAAAQEAAQIBAQABAAABAgAAAQEAAAAAAQABAAABAQIAAAABAQEAAgAAAwABAAAAAAEAAQAAAAAAAAACAgECAQAAAAAAAgAAAAABAAACAAEBAAMBAQEAAQEAAAABAQMAAAAAAQEAAgAAAQAAAQEAAQAAAAIBAgIBAQAAAQABAQEAAAABAAEAAAAAAQIDAQEAAAMAAAECAAACAAEBAAMAAAABAAEBAgEAAQECAAEBAAAAAAEBAAEAAQEAAgEBAAAAAAMAAQAAAQAAAAAAAAAAAAAAAQEAAQAAAgAAAAIBAAEBAgABAAABAAAAAwEEAQABAQABAQAAAAEBAAAAAAEAAAAAAAEAAQABAwAAAQAAAQACAAAAAQECAQACAQAAAgABAAECAAEBAQEAAQABAQAAAQAAAQAAAAEBAAIBAAIAAQICAAABAQMCAAEAAAIAAAIAAgIABAIBAQEAAAABAgABAgAAAQIBAAEAAAABAQAAAAABAAAAAAEBAQABAQABAQMAAAEAAQAAAQEBAgABAAABAgEAAQEBAQEBAAIAAQABAgACAgECAgABAAECAgEAAAEBAAAAAQAAAAIAAAABAAAAAQABAQICAAEBAQABAQACAQEAAwABAQACAAAAAQEBAAAAAAEEAAAAAAABAQAAAQIAAAAAAAAAAQABAgABAAEBAAABAgEBAQEAAAEBAAEDAQEBAAEAAAEAAAMAAAEAAQEAAAEAAgACAgAAAAIAAAEAAQIBAAEAAAECAAAAAQABAQABAAEBAAAAAAEBAQAAAQEAAAEBAQEBAAEBAQEBAAABAAABAAAAAAEBAAEBAAEBAQIAAAEAAgMBAAEBAQEBAAEBAAMFAQAAAAABAAEAAAIAAAAAAAABAAAAAQAAAAAAAQEBAQECAQEAAgEAAAQAAAEBAQABAQIAAAAAAQAAAQABAAEAAAEBAQEAAQIAAAEDAQACAQAAAQACAAAAAAEAAAAAAAEBAAECAQEAAAABAAEAAAIAAgEAAQEAAAIAAQMCAQAAAwEAAAABAQEBAgAAAgECAAEAAAABAQABAQEAAAIDAQAAAQEAAgEAAAIAAAAAAAAAAAIBAAIAAQAAAQABAAAAAAEBAQAAAQEAAAABAAIAAAAAAAABAgAAAAAAAAAAAAEAAQAAAQEBAAEAAAABAAEDAwEAAAAAAQABAAAAAQAAAQABAAAAAQICAQECAAEBAQAAAAEAAAAAAAIBAAAAAAEAAAABAgABAAABAgEAAAEBAQABAgAAAAEAAAEBAgACAAEAAAEAAAMAAQEAAAABAQABAAIAAQAAAAAAAQIAAQABAAEBAQECAQABAAACAAEBAAAAAAACAAEAAgACAQEBAAAAAQEAAAAAAAEAAAAAAQAAAQAAAAAAAQIAAQEAAAEAAAABAAEAAQIAAAEBAAABAAECAAIBAAAAAQAAAQICAAEBAQIAAgABAAAAAAABAAICAgQBAQAAAAIAAAABAQIAAgEAAAEAAAAAAQEBAgAAAAEAAAEAAgEAAgABAQEAAQIAAAADAQAAAAACAgEAAAEAAAEBAQAAAQAAAAAAAQEAAAEBAAIAAAACAQACAAECAAEAAAAFAQABAQABAAICAAABAgIBAQAAAAACAAAAAAEBAAIAAAABAAABAAACAQAAAAIBAQAAAAEAAQEAAAABAAAAAAECAAABAQABAQAAAAABAAIBAgEAAgMAAQMBAAAAAAAAAAAAAAAAAQABAAACAAEAAQEBAgEAAQACAQICAAACAQMCAAAAAAAAAAACAQADAQAAAgIAAQAAAQABAAEAAQABAAIBAAAAAQEAAAAAAgABAAICAAAAAAEAAAABAQEAAAMBAAEAAQAAAAABAAEAAQEBAAEAAQEAAAIAAAAAAAABAAAAAQEDAQACAAACAQAAAAACAAEBAAEBAAABAAEAAQIAAAECAAAAAgIAAAMAAgEAAAAAAQABAAECAAABAQEAAQEBAgAEAAIAAQAAAgEBAQECAQAAAQAAAQACAQACAAAAAgIBAQIBAgEAAAAAAAABAQEBAAACAAABAAEBAQABAQEAAQEBAAAAAwEBAAIBAgEDAQAAAAECAQEBAAEAAgIAAQAAAQEAAAAAAQEBAQIBAAEBAQEBAAAAAAIBAQABAQAAAwAAAAEAAQACAAACAQMAAAAAAwEBAQIBAgADAAABAQEAAQEBAQECAAAAAQEAAQAAAgABAQAAAQACAQABAAEBAQEAAAAAAAECAQEAAAAAAQMBAQMAAAEBAAAAAAAAAAAAAQAAAAEBAQIAAAEAAQABAQABAAEAAAAAAAIAAQIAAAEAAAECAQABAAECAQEAAQAAAQAAAQACAAEBAAIAAQABAQAAAAEAAQEAAAIAAQAAAQAAAAAAAAAAAQEBAQABAAEBAQECAAEBAQIBAAABAQAAAAAAAAAAAAEAAQAAAgIBAAABAQABAQAAAAAAAAABAgIAAAEAAQEBAAAAAgEAAQABAgAAAAEAAgAAAAEBAQEAAAAAAAAAAgECAAEAAAIBAgEBAAEBAQEAAAEAAAAAAQAAAQABAAEBAgIAAgAAAAADAAEAAAIAAAEBAAACAAAAAAEAAAIAAAAAAAABAgAAAgEAAwABAQAAAQAAAQIAAAAAAgABAQEBAgABAAAAAAABAQABAQABAAACAQABAAEBAAEBAAEBAAABAQAAAAADAAABAAEBAAEBAAABAAEBAQEBAQEAAAIAAQEAAQECAQAAAAEBAAADAAECAAAAAgAAAQIBAAIBAQEBAQEBAAEAAAAAAQABAAAAAAAAAAIAAQAAAQEBAQIBAQEAAAEAAQIAAQAAAQABAQEBAQEBAQAAAQEBAAEBAQIBAgIBAAAAAQABAwAAAQEAAAABAAAAAAAAAQIBAgEAAQEAAQECAAMBAgEBAQMAAAAAAAIAAQEBAAAAAAAAAAMCAAACAQABAQAAAQAAAQAAAQECAwAAAwACAwAAAAEAAAAAAAIBAgQDAgAAAQABAgMAAgEAAAEAAgAAAQAAAAABAQAAAAEBAAEAAAEBAQAAAQABBAEBAQAAAQAAAQAAAgIAAAEAAAEAAQABAAAAAgEAAQIBAgEAAQAAAAAAAQIAAgAAAQABAAEBAgAAAAEAAQABAwIBAAABAQADAAEAAgAAAAEBAAICAAAAAAEBAgAAAQABAgACAAECAQABAAEAAQMAAAEBAgABAAEAAAABAQACAQAABQEBAAACAAAAAQMAAAEAAAAAAQAAAQIBAAEAAQABAgABAAMAAgEAAAAAAAAAAAABAAEBAAAAAAACAAAAAAMAAQAAAAAAAQAAAAIBAQABAAEBAAEAAAEBAQIAAwABAAIBAgEAAQEBAAAAAQIAAQAAAQEAAQABAAACAgEBAAAAAAACAQACAQABAgEBAAADAAABAQAAAAEAAAAAAAABAAADAAABAQABAAMBAAEAAAACAAIAAAEBAgABAgEAAQECAgEAAQEAAQAAAwECAQABAQAAAQABAAAAAQEAAgEAAgEAAAMDAQACAAAAAQACAgEAAAEAAAEAAAABAAEAAgMDAAABAAACAAAAAAABAgIBAQABAQEAAQAAAgABAQABAAIAAQAAAwEAAAABAQMDAgABAAAAAAAAAgEBAgIBAQICAAEBAAEBBAABAAEBAQABAAEAAQAAAQAAAAMBAQAAAAAAAAEAAAEAAAEBAgEAAAEDAAMCAQACAQAAAAEAAAEAAQABAAABAQEBAwEAAgEAAAEAAAAAAgAAAAEAAgABAAIBAgAAAAAAAAIAAQEBAAEBAgAAAQEBAgEAAQICAAABAQADAQAAAAABAQABAQAAAgAAAQAAAAAAAAEBAQAAAAAAAQABAAAAAAIAAAEDAQAAAQABAQIAAQEAAgABAAEBAAABAAAAAAABBAECAQABAQABAAAAAAEAAAECAQABAQIBAQEDAQEBAAAAAgEBAQIBAgEAAAAAAQABAAICAQEBAAAAAAEDAAIAAAABAAABAgIAAgEAAgAAAAEAAQQBAgEBAQAAAAIAAQAAAgEAAwAAAAABAAACAAIDAAABAAABAAAAAgEBAAEBAgACAQECAgEBAAEAAQIAAAEAAQEBAgADAAAAAQECAAEAAgAAAQACAQAAAgAAAAEBAAIAAAAAAAIBAQABAAACAgABAgEBAAEAAAAAAQAAAQABAAABAAAAAgAAAAABAQICAgEFAQABAAAAAAABAAABAgAAAAACAQAAAQAAAQEAAQACAAABAAIBAQECAQABAAAAAAEAAAEAAQIAAQABAQAAAAEAAQEDAAAAAQEAAAACAQACAAAAAQEAAAIAAAEAAgEBAAABAAEEAAEBAgABAAEBAAEAAAABAQAAAAABAQEBAAEBAgIBAQAAAAAAAgEAAQAAAAEBAAEBAAABAQAAAAABAAABAQIBAQAAAAABAAABAAEAAQEBAQABAAEAAQEAAAAAAAEAAAABAAIAAAAAAAEAAQEBAQEBAgABAAAAAAIBAQABAAABAAEAAAEBAQEAAAECAAECAQECAgACAQEBAAAAAAIAAgEAAQIAAAEAAQEBAAEBAQABAAEAAAAAAQEAAQEBAgEDAAEBAQACAAEBAAAAAQMAAQMBAgIDAAECAQECAAAAAQABAAABAgABAAIBAgIAAQEBAAIBAAACAgEAAAEBAAEAAQABAAAAAgECAQAAAAAAAgAAAAABAAIAAgAAAAAAAAAAAQACAgABAQACAgEAAQEBAAECAgAAAwIBAAEAAAIBAQEBAQIAAAEBAQEAAAEBAAEAAQABAQEDAQEBAAEAAQACAAEBAQEBBAACAAACAAEBAQEDAAAAAAIAAAAAAAEAAQAAAAAAAAAAAAEBAAEAAQABAQAAAgABAAABAQAAAAABAQAAAgAAAQABAAAAAQEAAAEBAAACAAAAAQAAAAACAAEAAAEAAAEBAQAAAQMAAAEBAAABAQAAAQEBAAABAQEAAgEAAAAAAAAAAQECAAEAAAACAAIAAQAAAAICAAEAAAEAAAAAAAECAAEAAgABAAAAAAEAAQAAAAEBAAAAAAICAAEAAAEAAAAAAgABAQAAAQABAgABAAAAAQEAAQADAAABAQAAAAIAAQEBAAABAQADAQEAAAEAAQEBAAEBAgACAAABAQMBAQEAAAACAQEBAAABAQAAAAAAAAAAAQABAAICAgAAAgAAAAAAAQAAAQAAAAEBAAEBAgECAAMBAAEBAgEAAgEBAAACAwEBAQABAgEAAQEAAAABAQEBAQAAAQEAAQECAAEBAQUAAAEAAQAAAQEBAAABAAABAAABAQAAAAIBAAEAAQECAQEAAAABAAIBAgEAAQIBAAABAAEBAAAAAQECAAIBAQEBAgACAQEBAAABAAIBAgIAAQABAwABAAACAAABAQMBAAAAAQEBAwEAAQEAAQABAgACAAAAAQIAAgACAwAAAQEAAAEAAAACAAEBAAAAAAICAAAAAAABAQIBAgAAAQABAAMCAAAAAgEBAAABAQABAAAAAAIBAAEAAAEAAgEAAAAAAQIBAQEBAQEDAAECAAAAAAACAQIDAgIAAQADAwMCAAEAAQAAAQIBAAEAAQEAAQEBAAABAAAAAQEAAQAAAAEAAQAAAAAAAwACAQEAAAIAAQICAAEBAQEAAAADAAIBAQIBAAEBAAAAAAABAAIAAQIAAQEBAgACAAACAQEBAAABAQEBAQACAAIDAAEAAQAAAAEAAAEAAQABAQAAAAAAAAECAAACAAABAgAAAQABAAAAAAAAAQAAAAEAAQEBAgACAAABAAIBAAABAQABAAAAAAEAAQEAAAABAwIAAQAAAAEBAAAAAAAAAQAAAQAAAAIBAAABAAABAQAAAAAAAgACAQEAAAAAAAABAAEAAQAAAQEBAQEBAAECAAABAAAAAAIAAAACAAAAAQEBAgMAAAEBAAACAAEAAAEAAAEBAAAAAQACAAEAAAAAAQEBAAABAAIAAAIBAgEBAAAAAAAAAgABAAQBAQAAAAIBAAIAAQEBAQAAAAABAAEBAAIBAAABAAAAAAICAAABAAABAQEBAAEAAAEDAQMAAAEAAgABAAAAAQMDAQEBAQEAAQAAAAABAQABAAAAAAAAAAEBAAEAAQABAAIAAQABAQEAAgAAAQEAAgEBAAEAAAABAQAAAgEAAAEAAQEAAQABAAIDAAAAAAACAAIAAAEBAQEBAQAAAAEDAAABAAAAAQAAAwACAQEBAQACAgIBAAABAAABAAECAgIAAAEAAAACAgECAQEAAAEAAAAAAQEDAAAAAAIAAAAAAAAAAAEAAQEBAAIAAwAAAQABAAEAAwEAAQAAAAABAQIEAQEBAAECAQAAAQAAAQEAAAABAQEDAgEBAQEBAAACAAAAAgEABAEBAQEBAQABAAABAAACAAEBAAAAAAACAAAAAAMBAQEAAAECAAABAAAAAAIBAAEBAQMBAQEAAQAAAAEBAQAAAQABAAIDAAABAAAAAgABAAIBAQAAAQAAAgABAQEBAQECAQEBAQEAAwEBAAAAAQABAQEAAgABAAECAQABAAABAQEAAQMBAAECAAABBAIBAAAAAAIBAQECAAABAAABAQAAAAABAwACAAEAAAABAAECAAAAAQABAQAAAQEAAAIBAAAEAgEABgEAAAIBAAEAAAIBAAAAAAEBAAECAQAAAQIAAgAAAgAAAAAAAAEAAQABAQABAAEAAgIAAAMAAAEDAAAAAAABAgABAQAAAAEBAQAAAAACAAIBAAMAAAEAAQEBAAEAAQAAAAIAAQIAAAEBAwACAAAAAAABAQIBAAAAAgEAAQEDAAIAAQIAAAABAAACAQAAAAABAAAAAgAAAAAAAQACAQECAAAAAQAAAQECAAAAAAAAAAACAQABAAAAAgAAAAABAAEAAAAAAAADAAACAQAAAQEBAgAAAgEAAAEAAAAAAAEAAQEAAAABAAAAAQABAgEAAAMBAQEAAAAAAAEAAAEBAgABAAEBAQEBAQAAAQAAAAABAAABAQIAAwACAgIBAQABAAAAAAEBAQEAAAABAAAAAAEBAAQAAAEAAQECAAAAAAIAAQIBAAEAAQAAAgIAAgEBAQAAAAEBAQABAAABAQACAgEAAAAAAAAAAQEAAQACAQIBAAAAAgEBAgEAAgIAAgIBAAAAAAACAAMAAQIBAQEAAAEAAAAAAAAAAAIAAAEBAQEAAAAAAAECAQABAAEBAQECAAABAAIAAgAAAQEBAAAAAAEBAQABAgIBAAAAAQEAAwAABAICAAACAAAAAQIBAgABAAIBAgAAAAABAAACAQABAAICAQIAAAABAQAAAAEAAQAAAQABAAIBAAACAAEAAAAAAgMBAAABAAAAAgAAAAABAQECAgABAAABAQEBAQADAgEAAQABAQABAQADAgEBAgACAwABAgAAAgABAAACAQIAAQEAAQABAQEBAQEABAADAQEAAAEBAQMBAAAAAQEAAAAAAQACAAAAAgABAQEAAQABAQEBAAECAQABAQEAAQAAAQEAAAEBAAABAAEAAQIBAAIBAAAAAAAAAQABAQADAQABAgECAQAAAAACAQAAAAEAAQADAAACAQIAAQEBAQAAAAAAAAEAAAEBAAEAAQEAAQAAAQAAAQAAAwAAAAIBAAAAAgEDAgECAgABAQABAgEAAQAAAAECAQEAAAAAAgABAQAAAAACAAACAQEBAAIAAAAAAAAAAAABAAABAAEBAgABAAEBAAEBAAMAAAABAgABAQEBAAAAAQEAAAICAAEBAAECAAEAAgECAAIAAQAAAQEBAAEAAAABAQACAAECAQIAAQABAQAAAQEAAgEAAQAAAwABAQIAAQACAAEAAQIAAAABAAAAAAAAAQEBAAEBAwEBAAAAAAABAAAAAAAAAQEBAQACAQABAAABAQAAAAEBAQIAAAABAAABAAABAwEAAQAAAQIAAAAAAAEAAAAAAAABAAEBAgIAAAAAAAIAAQABAAAAAAABAQACAgEBAQACAAEAAQEAAAAAAQEAAAEAAAABAAAAAAAAAAEBAAAAAAEAAAEAAAIBAAEBAQIAAQEAAAABAQACAQIBAgIAAAEAAAADAAIAAAAAAAAAAAABAgACAAIAAwABAAEBAQEAAgAAAQAAAQAAAQEBAAEAAAEAAAADAgABAAIBAAAAAQABAQEAAQAAAQAAAAAAAAABAQACAAACAAEAAQABAAEAAAICAAEAAQMBAQEAAQEAAAEAAAEAAAABAAEAAQEAAAIBAQAAAgABAAIAAQAAAAEAAwABAAABAQEAAAIAAAIAAAABAAIABAIBAAAAAAMBAAADAAEAAgMBAQMAAgADAAEAAAACAQABAAEBAQEBAAIAAAACAQMAAAABAAAAAQABAAAAAAABAQAAAAEAAAEBAQAAAAAAAAAAAQIBAgABAAADAAAAAAECAAEAAQIAAgIAAAEAAQAAAQADAQAAAgMAAQAAAAAAAQEAAQEAAQAAAQIEAAAAAAIAAQABAAABAQEAAAECAAABAQACAAABAgABAAEAAAEBAAEAAAIAAAEBAAABAQEBAQABAAEAAAAAAQABAQEAAQAAAQIAAAEAAAIAAQABAQABAAEBAAEAAgEAAgAAAgEAAgEAAgEAAQEAAAAAAgAAAQEAAAAAAwABAAIBAQABAAABAwACAwABAgABAQEBAAEAAgEBAQACAAIAAAIAAAAAAQEBAAEAAgACAgAAAQABAAAAAQEBAAICAgABAAEBAAIBAQAAAAEAAwAAAgEAAAIAAAABAwACAAAAAQEAAAABAQAAAQABAQAAAwMAAAIAAAAAAAAAAAAAAAACAQAAAQEBAQQAAQEAAQAAAAIBAAAAAQIBAAABAAEAAAEBAAIAAQECAQAAAAEDAAIAAAEBAAADAQAAAAIAAQEBAgACAwABAQABAAABAAEAAAEBAAMBAQEAAQAAAAACAAIAAgEAAQAAAAAAAAEAAQAAAAIBAgAAAAADAAEBAAIBAAIAAgABAQEAAgEAAwAAAgABAAEAAQEAAAEBAAEAAAAAAAIDAwEBAAEBAQAAAwABAgAAAQAAAQABAQECAwADAQEAAAAAAAEBAQEBAQEAAgEAAAEBAAEBAQAAAAEBAQADAQEAAAACAQEBAAABAAEAAQAAAQEAAAIAAAMAAQABAQAAAgAAAQMAAQAAAAIBAQAAAAAAAAEAAAABAAEAAAECAAIAAAAAAgACAQEBAAADAAMAAQEAAAEBAAABAQAAAAEAAAACAAAAAQABAgAAAQEBAAADAAAAAAAAAAAAAQEAAAIBAQAAAQEAAQABAAMBAgEAAwQCAAABAAIBAgIBAgAAAgAAAAABAAABAAACAgAAAQAAAAEAAAAAAAMBAgIAAAEAAQIAAQAAAQAAAAAAAQEBAQAAAQEAAgACAgEBAQIAAAQAAAAAAAEBAAACAQACAAEAAAAAAAAAAgEAAgIAAgMCAAAAAQEBAAEAAAABAQICAAEAAQEAAAAAAAIAAQIAAQEBAAABAgACAAIAAQIBAQAAAQABAAAAAAAAAQABAQEBAgEBAAIBAQEAAAEAAgICAAAAAAABAQAEAQEBAQIBAAEAAwMAAAEBAAEBAAMAAQEAAQACAAABAAEAAAABAQIAAgAAAAEBAAABAAEBAAACAQQBAQAAAgIAAgAAAQECAAABAQEBAQAAAAEBAwEAAQAAAAAAAQABAQAAAQECAAEBAQUCAQIAAQABAQADAAAAAAEBAQABAAEAAAAAAAIBAAEAAAAAAAAAAAEBAAAAAAEBAQEAAQEBAAAAAAEBAAEBAQABAAACAAAAAgABAAECAQAAAgEAAAAAAAAAAQEAAQABAAAAAAIBAAAAAAIAAAEAAQIAAgAAAQUAAAAAAQIAAQEAAQEAAAICAwAAAAEAAAEAAQAAAAIAAQABAQEAAgABAQAAAAEAAgICAQEBAQAAAAABAAEAAQIBAAEBAQACAQEBAQABAAIAAAEBAgEAAAABAQAAAAABAAACAAAAAQABAAEAAQIAAAAAAAAAAAABAAEAAAAAAQECAgIAAAEAAQEBAQEAAQABAQIBAQABAwEAAAADAQQAAAAAAgABAQAAAQEBAAEAAgABAAAAAQQBAQAAAAMBAQACAQIAAgEBAAABAAEBAAABAAMCAAEAAQABAAEAAQEBAQEAAAACAQAAAAICAgACAAABAQIBAAAAAAACAgAAAQEAAAIAAwAAAQEBAAEAAgABAAEBAAAAAAADAAEAAAABAAEAAAAAAAAAAgEBAAABAAIAAQEAAQAAAAIAAAAAAAECAAACAAAAAQEBAQABAwEAAgEAAQABAQEBAQIDAAEAAAAAAAEAAQEBAAEBAQEAAAAAAgABAAEAAAACAQEAAQABAAEAAgICAQEAAQIBAQIBAgEAAAADAAAAAAIAAAAAAQABAQACAAECAAEAAAAAAAABAQAAAAAAAAEAAQAAAQECAAAAAQEAAAEAAAABAQAAAAABAAEAAAEAAQEAAAEAAAABAQACAgECAQEAAAEBAAECAAMAAAEAAQAAAQABAAAAAAAAAQEBAQEBAAAAAgAAAAEAAAEBAAEAAAAAAAAAAAABAAECAAEAAgIAAAMAAAEBAAEAAQABAQAAAQECAAAAAAEBAQAAAAAAAAABAAACAQIAAAAAAAIBAAAAAAAAAAAAAAEBAQABAQADAQEBAAECAQEDAAEAAAIBAAAAAAAAAQAAAAEBAAAAAQIAAQAAAAEBAAEAAAACAAEAAAACAAABAQAAAAAAAQABAgEAAQABAAEAAQAAAAABAQEBAAEBAQEAAAAAAAEAAAEBAAIBAAABAAABAAEAAAACAAAAAQADAQEBAAAAAAEAAgAAAQAAAQAAAAMDAQEBAAABAAAAAwMAAAAAAAAAAgEAAAEAAQAAAAEAAAEBAAAAAQMAAAEAAAABAgACAAEAAQIBAQAAAAABAQABAAEBAAEAAAEBAAEBAQEAAQEAAQABAQAAAAEBAQACAgIBAAAAAAEAAAEBAAAAAQAAAQAAAgABAAAAAAACAAIDAgEAAwEAAAAABAQCAAAAAAECAQAAAAEAAQEAAAEBAAEBAAAAAAAAAQMAAAABAAACAQIBAAMAAAACAwABAAEAAQABAQAAAQAAAAACAAQAAAMAAQECAQIBAAIDAQEAAAAAAAEBAQAAAAAAAQMAAAECAAAAAQAAAAEBAAEAAAAAAAAAAQEBAAEBAAAAAQABAgECAAIAAgMBAwECAAABAQADAQABAAAAAgIAAQEAAgEAAAIBAQABAQAAAAEBAQEBAQAAAQAAAQMBAAAAAQEAAAAAAAABAQEAAAEAAAEBAAAAAAAAAAEBAQEBAQEAAAABAAECAQABAgABAAAAAAACAgEBAQEAAAMAAAACAAIBAAABAAEAAAEAAQEAAQECAAABAAEAAgIBAgEAAAAAAAIAAAEAAAEBAgIAAQAAAgADAAACAgEAAgEAAAAAAAAAAgABAAIAAAAAAgIBAQEAAQAAAAEAAAAAAAAAAgICAgEBAQAAAAIBAAAAAAAAAgAAAAEAAQMAAAECAgACAAEAAgAAAAIAAgAAAAABAAMBAQEAAAIBAgABAAEBAAAAAAIBAAECAQEBAQIAAAEBAAAAAAABAgEAAAACAgAAAAACAAABAgACAgECAAAAAAIAAAIBAAABAQEAAwABAAEBAAEAAQABAQAAAgIAAAABAQMAAAADAAEBAAABAgAAAQACAAAAAQACAQEBAAEBAAMAAAEBAAEBAQEAAAEAAAEAAAABAQAAAAAAAAECAQABAAACAgEAAgIBAwABAAABAgABAQABAgEBAAADAAEAAAEBAAAAAgACAQAAAAABAAAAAAEBAAABAAABAAEAAQAAAAEAAQABAAAAAQEAAgABAQAAAAECAAEBAAIAAAEAAAECAAEAAQABAgABAAIBAQACAgAAAQABAAAAAQABAAEBAQABAQAEAgEBAQAAAQEAAQAAAAEAAgAAAQEBAAABAAAAAQEAAAABAAABAQIBAAEBAAAEAAIBAQEAAQMAAAIBAQAAAQEBAAAAAQAAAQEAAAAAAAAAAAEBAAECAgABAQABAQECAAABAAABAAEAAAIAAAEAAAEAAAAAAAEBAAEBAAIBAAEBAAABAQABAAAAAwABAAMAAQABAAADAAECAAEAAQIAAAACAAEAAgAAAgEAAAAAAAAAAwADAAABAQICAwIAAAMBAQIDAAEAAAECAQACAgAAAQAAAAMBAgEBAQABAAIAAAEAAQEBAAEAAAABAAEBAgACAQIAAAAAAQABAgABAAAAAAECAQEBAAEAAgEBAQMAAAAAAQABAQADAAAAAQEAAQECAQACAAABAgEAAAIDAAAAAAEAAwAAAAECAQEAAAABAQABAAECAgEAAAEAAQABAQACAgABAAECAQAAAAEBAAEAAAEAAQABBAABAgAAAAABAAACAAABAAAAAQAAAgACAAIBAAAAAAEAAQEBAQAAAgAAAQAAAAEAAAAAAQEAAAADAQEDAQABAQIAAQAAAAEAAQAAAAABAAAAAAMBAAABAAAAAAABAgIBAAEAAQAAAAQAAQEBAAQBAAEBAQECAAEBAAEAAQACAgAAAQAAAAEAAAEAAQAAAAEAAQABAQIAAQACAQEAAAIAAQAAAAEAAQAAAAABAAAAAAEAAAAAAAEAAAABAAABAQAAAAAAAAECAQECAQMAAQABAAEBAgIBAAAAAQEBAAIBAAEAAAEBAAADAQECAAAAAQEBAAACAAEAAQAAAQECAAEAAAABAQEBAAABAQAAAQABAAEAAAEAAAEBAAECAAEAAQAAAAEAAgACAgEAAAEAAAABAAAAAQAAAQIAAQEBAQIAAQADAAAAAAACAQADAwAAAgAAAQIAAAAAAAABAQEAAgABAQAAAAAAAgIBAQACAAEAAAEAAQABAQAAAAECAAEBAQAAAQABAAAAAAECAQEAAwABAAECAgECAAAAAQEBAAABAAEDAAAAAAABAAABAQAAAAIDAgECAAAAAAIBAAABAQEAAAEBAgECAAEBAAIAAAABAQABAgEAAwEBAQIAAQEBAQECAQEAAQIAAAICAAEAAAAAAQACAAABAAABAgEBAgAAAAEBAgIAAAABAQEAAAEAAgADAAAAAQACAAEAAQEBAAAAAQIBAAAAAAIBAAMBAAABAQEBBAAAAAABAAAAAAECAAECAQABAAMAAQAAAQEBAQEBAgIBAgEBAQABAAABAAIBAQEBAgECAgEAAwAAAQACAAABAAAAAAEBAAIAAwABAQAAAgAAAAMAAQEAAgABAAAAAAAAAQEBAAAAAAABAAAAAAAAAAEBAQABAAABAgAAAQIAAQABAgAAAAADAAAAAQEAAQIAAQAAAAABAQABAgEAAQECAAEAAAADAAIAAAEAAAECAwACAgABAQEBAQABAgAAAQABAQECAgIAAQAAAQMAAAAAAQABAQABAgAAAAIBAAACAgABAQECAwABAgICAAIBAAAAAQEBAQEBAAEAAAABAQABAgACAQEBAAEBAAACAQEBAAIBAQABAwAAAgEBAAEAAQABAQECAAMAAAABAAEBAQECAgAAAQACAgABAAAAAgAAAAEAAAADAQABAQABAAEAAAEAAQABAAABAQAEAQAAAAAAAAEBAwEBAAAAAQEBAAAAAQIAAAAAAAAAAAAAAAEAAQEBAAIAAgQAAAMAAQIAAAIBAgAAAgAAAQAAAAAAAAEBAQEAAQEBAgEBAgABAAAAAAEAAgACAQEAAgAAAQEAAgEAAAAAAgAAAAAAAQMAAQABAAECAAEAAAACAAEAAQEAAQECAAAAAQQBAAAAAAMBAQEAAQEAAAEBAAEAAAIBAQAAAgEAAAEBAAICAQEBAQEBAgMAAgAAAQEAAAEAAwEAAQECAAECAAACAAABAQAAAAEAAgICAQIAAAEAAAEBAAAAAgEAAAEBAAAAAAIBAgACAAAEAgAAAAEDAAEBAQACAgAAAQABAgAAAgIBAgAAAAAAAgIBAAEAAAEAAQACAAAAAAABAAIBAAEAAAEAAAEAAQADAAABAQEDAAAAAQEAAAAAAQABAQEAAAEBAAAAAAABAwAAAgABAAEBAAABAAAAAAEAAAIAAAAAAQEBAAEBAQAAAQEAAAABAQEBAAABAQAAAQAAAAABAAICAQIBAAABAAACAQAAAQIAAAADAQIAAQEAAAEDAAAAAQABAAIAAAEAAAEAAAECAAABAQAAAQEBAAEBAQADAAIAAQEAAgAAAAACAQADAAIAAQAAAAABAAABAAABAQEAAAACAQEAAAACAQECAgMCAAIAAQABAgEBAQEAAQEBAQAAAQAAAQECAQEAAQABAQEBAQABAAAAAQABAAABAQEAAAEAAgAAAgECAgAAAAQAAwAAAAAAAQABAQEBAgAAAgABAAAAAQEAAAEBAQAAAQABAQABAAAAAAEAAAEBAQEAAQEAAAABAQIAAAAAAwIBAQAAAAAAAQEAAQAAAAEAAgAAAgAAAAEAAAAAAgAAAQEAAgAAAAAAAAABAAIBAQECAAAAAQEAAQAAAAACAQACAAABAgEAAAEBAgIAAQEAAAEAAAADAAAAAAABAAAAAwABAAEBBAACAAAAAAEBAQAAAwAAAQAAAAACAQABAQABAQIABAIBAgECAAAAAQAAAQIAAgEAAQEAAgEDAQADAgABAAEAAQEAAQAAAQACAQEAAAABAAACAQEAAQECAAAAAgAAAAAAAgAAAAABAgABAAEBAQEAAgIBAQEBAAABAAEAAAAAAgIBAQAAAgABAAEBAAAAAQABAQEBAAIAAQEAAAEAAQEAAAAAAAACAAEBAgIAAQACAQAAAQABAQAAAAQAAQABAAACAAIAAAEBAAEAAAABAAICAAEBAAAAAAACAQIEAQABAQABAQEAAQQAAAMAAQEAAAIAAAIBAAABAAIBAAACAAAAAAMAAAEAAQEAAQEAAAABAQAAAAMAAQAAAAAAAAEAAQIAAAAAAAAAAAAAAAIBAAAAAAAAAQEAAQICAAEAAAEBAAEAAAEAAAAAAgACAQAAAAEBAAEAAQABAAIBAAIBAAAAAQICAQEAAAAAAQABAQECAAEAAAIBAgECAgMBAQIBAQAAAAABAAIBAQEAAQAAAgAAAQAAAAAAAAABAAEBAAABAAABAAABAgIAAgAAAAMAAQICAAAAAAEBAQEAAAABAQEBAwIAAgABAAECAAECAAEAAAECAQABBAIAAgEBAAAAAAACAAABAQABAgABAQEBAgAAAQAAAQAAAAABAAAAAQAAAAEBAAAAAwAAAgABAQAAAAMAAQAAAAAAAQECAQAAAQEBAAEAAgAAAQAAAgEBAgEAAAEBAgIAAQEAAAABAAEAAAEAAAEBAQAAAQECAAAAAAIBAQEAAAAAAAAAAQABAgAAAAACAQAAAQAAAAACAQEAAgADAAECAgABAQAAAQABAQABAgAAAAEBAQAAAgIBAAAAAAACAQEBAAAAAAAAAAAAAAABAAECAQICAAAAAAAAAQABAgIBAQEBAAAAAAAAAQAAAAAAAQEAAAEAAAECAAIBAAIAAAAAAQAAAQICAAABAQMAAAABAAABAQECAAEAAAIAAAABAAEBAQECAAAAAQABAQEDAgABAQEBAgABAQEBAQEBAQEBAgIAAgAAAAABAwEAAAEAAAIAAAAAAQEAAQAAAQAAAAEDAQABAAAAAQIBAAIAAQAAAAABAAMBAAEAAgEBAgEBAAEAAAEAAAABAQIBAAABAQAAAAACAAEBAAABAAAAAgEAAAEAAAAAAAABAAEAAAAAAQIAAQABAQIAAAIAAQABAQICAAECAQEAAAEAAQABAAAAAAQDAAACAQEAAAEAAQABAAEAAAEBAQIAAQEAAAEAAAABAgEAAAAAAgIAAgAAAQEAAAEBAQAAAAAAAAAAAAEBAAABAAACAAABAQAAAAECAAEAAAEAAAEAAQAAAAEAAQABAgAAAAEBAAEBAAABAAMBAQMBAQABAAEBAAEAAAAAAQACAQEAAQAAAgAAAQEAAQEAAAEAAQECAAEAAwABAQEAAAIBAAIAAQABAAEAAQIAAgICAQACAAIAAAEBAQAAAAAAAQEAAAACAQABAAMAAgEAAQEAAQAAAAEBAQABAQEAAQEAAQAAAQEAAQEAAAACAQEAAAEAAgEBAAAAAAEBAgEAAgABAgACAQECAAABAQEAAAACAAADAAABAAACAQEAAAEBAgABAgAAAAACAAICAAEBAAEBAAAAAQEBAgABAAEAAAAAAAABAQABAQAAAQEAAwABAQEAAgECAAEAAAAAAgEAAQEBAAEAAQABAAAAAQEAAQIAAgABAAAAAQAAAgMBAQEBAAECAAABAgAAAQACAgABAAEDAwEBAQIAAAABAQABAAABAgEAAAEAAAEBAQEAAwAAAQACAgABAAAAAgAAAQEAAQAAAgEAAAEBAAABAQEAAAEBAQEBAAEAAAEAAQIBAAAAAQICAAEBAAAAAAIBAgAAAQABAQACAAAAAQECAAAAAAAAAAIAAAAAAgEAAAAAAAEAAQAAAQEBAQABAQABAAABAQAAAQACAAEAAAIAAAEAAQECAQIBAAAAAQEAAgAAAAAAAAIAAAEAAAABAAIAAwADAAAAAQABAgEAAAEAAQIBAAUBAAABAQIAAgICAAEAAAACAgAAAAEBAAAAAAAAAAACAQABAAEBAAIBAAEBAgABAAEAAAMAAAEAAQAAAQAAAAAAAwAAAAAAAgEAAAEAAwABAQACAQEBAAADAAAAAgABAQIDAgEAAAMDAwIBAQAAAQAAAAECAAABAAABAAIAAQEBAgAAAgAAAAEAAQAAAAAAAgAAAAABAAEBAAEAAQEBAgIBAAAAAgAAAAAAAQACAAAAAAABAAAAAgABAQAAAQIBAAEEAAADAAAAAAEBAgAAAAECAAEBAgEAAAAAAAECAAMBAAEAAAABAAEAAgAEAgEAAAABAAAAAAIAAAEAAQMAAAABAQEBAQEAAAEAAAEAAAECAAICAQMAAAAAAgEAAgADAAACAgABAAEAAQAAAgIDAAABAAABAQEBAQABAAICAQAAAAAAAAAAAQEBAQAAAAEAAAECAQEAAQIBAAEAAAABAAEBAAEBAAEBAAAAAQAAAAIAAAEBAQEAAAAAAQAAAAAAAwIDAAECAQAAAAAAAAMAAAAAAQEAAwABAAAEAgAAAAACAAEAAQIAAAABAQAAAAAAAAEAAAEBAAAAAQECAAAAAQIAAgIBAQAAAAACAgEAAAEAAAEAAQAAAQIAAgABAAAAAAACAAEAAAAAAAECAAIAAQAAAAABAAIAAgIBAQEBAAIAAAEAAQECAAEAAgECAQEBAgAAAQIAAAEAAQAAAAEBAAAAAQAAAAQAAQAAAAECAgIAAAEAAwAAAQAAAQABAQEAAAAAAgIDAAAAAAECAAECAQAAAAAAAQAAAAAAAAEBAAEAAAECAQEAAAEBAAEAAgIAAQECAAEBAQEBAQAAAAEBAQAEAwEBAAABAQEAAAICAQABAAAAAQAAAgEAAAABAAACAgEAAQEAAAEAAQAAAQACAAAAAAIAAAABAQAAAgABAgAAAQIAAQEAAAEAAgABAAEAAAEBAAABAgAAAQMAAQACAgEAAQICAAABAAAAAAAAAAAAAQEAAAABAAABAAEBAAEAAQAAAgIAAQEBAwAAAAAAAQACAQEAAAEAAQEBAAECAwMBAAIAAAAAAQEAAAABAQIBAQEBAAEAAgABAQIDAAECAQAAAAAAAgADAgIAAAAAAAMBAAEBAAAAAQEAAAABAQEAAAABAwEBAQEBAQABAAAAAQEAAAIBAAIAAgEBAQEBAgIBAAIAAgEBAAIAAQEAAAAAAAAAAAEAAQEAAgEAAAAAAAAAAQEBAgEAAQEAAAAAAAAAAAMAAQAAAAEAAAEAAQEBAAABAQEBAQEAAAEBAAAAAQABAQIAAAAAAAEAAAEAAgACAQIAAgIBAQAAAQACAgEAAAAAAQABAQABAAABAAMAAQAAAQEBAQAAAgACAQEAAAECAQMBAwEAAAACAAAAAAEAAAABAgEBAAEAAAAAAQAAAAEAAAEBAgIBAQADAgABAAEAAQEAAQMAAQECAAAAAAAAAAIAAAACAQAAAAAAAAAAAQEBAQACAQAAAQAAAAABAAAAAQIBAAEBAQEAAwEBAgABAgACAQEBAAABAAABAAADAAAAAAAAAAEBAgABAgAAAAICAgAAAAABAQMAAQEAAAABAgACAwABAgAAAAAAAAABAAEAAgEBAAACAQECAQEAAAAAAAABAAABAQABAAEBAAACAQEAAQACAQAAAAAAAAAAAAAAAAEBAQAAAQAAAAABAQABAAIBAAAAAgIEAAEBAgEAAAAAAAEBAQACAQEAAQABAQABAgABAAAAAQEAAAEBAAEAAQABAgAAAQIAAQACAAAAAQEAAAABAQAAAAABAAIAAAADAQEBAgAAAQICAAEBAQEAAQAAAQEAAgAAAAEBAAABAAABAQACAAEAAgEAAQEAAQEAAAEBAAABAQEBAQABAQAAAAABAgMAAgABAQEAAgABAQEBAAABAQEBAAQBAQAAAAEBAAIBAQABAQABAAEBAQABAAACAQIBAAAAAAACAAEAAgAAAAABAQEBAwABAQAAAAEAAQAEAAABAQAAAQEEAAAAAAAAAAEAAAEABAABAQEBAAAAAAABAAEBAQECAQEAAAEBAAAAAQEAAQABAAAEAAEAAAIBAQEAAwICAAEAAQAAAAIAAQEBAAABAQEDAQEAAgEAAgICAgEAAAEAAAACAAABAQEBAAAAAAABAQAAAAABAQABAQECAQIBAAACAAABAAIAAAEBAgAAAAABAAEBAAEAAQIBAAABAAIAAgABAAAAAAEAAAAAAQABAAEBAAACAQIAAwAAAAIBAgABAAAAAQEAAgABAAEAAAAAAAEBAgABAAECAgEBAAIAAQEBAQAAAAEAAAACAAACAAIAAgABAAIAAQEAAQECAAEAAAAAAAAAAQIAAAAAAAEAAAEAAAAAAAECAQIBAAACAAACAQABAgEABAECAAEBAQEAAQAAAAMBAAAAAAIBAAACAAEAAgAAAAAAAQECAAABAAABAgAAAAEDAAAAAQAAAAABAAAAAQEBAgAAAgACAQAAAQEAAAIAAAABAwAAAAIAAAECAAEBAAAAAQAAAgAAAQAAAQECAQAAAAMAAQAAAAIAAAABAAIBAAECAQIBAQAAAQADAQIBAQEAAQECAQABAAMAAQEBAQEBAQECAgEBAQIBAAADAAABAQEAAQUAAQMBAQAAAQMAAAICAAACAAIAAAEAAAABAAICAgIAAAADAAAAAAIBAgIBAAAAAAAAAQEAAgIBAAABAQABAAIBAAEAAgABAAAAAQABAQEFAQABAAEBAAECAAICAAAAAAABAAAAAQEAAQEBAAAAAAABAAEBAAEDAgEAAgEBAQABAgECAAABAAMBAAAAAgABAAAAAQAAAAABAgMCAwAAAAACAQICAQAAAAEAAQEAAAIBAAABAQAAAAMBAAMAAAEAAQAAAQACAQEAAAAAAQAAAAAAAAEAAQEBAgABAAEAAAEAAQEBAAEBAQADAQAAAAABAgEDAQEBAAEAAAAAAAABAAECAAABAQIAAAIBAAABAQAAAgIAAQEBAAIBAQABAAAAAAABAAACAAACAQACAQAAAQIAAAIAAAIAAAAAAAAAAAEAAwEAAAMBAAMAAAIAAAIBAQABAAEBAQABAAAAAQEAAAABAQAAAQEBAAEAAAEAAQABAAEBAAAAAQACAQAAAQABAAAAAAECAgACAAAAAgECAgABAAABAAEAAwAAAAABAAEBAAEAAAAAAAABAAAAAQEAAAAAAQEAAQEBAAABAQAAAAICAQIBAQIAAgEBAQEAAAABAAECAQAAAgIBAAEBAAEBAwABAAABAAAAAQEAAQABAQEAAAAAAAAAAgABAQEAAwEAAQADAgIAAQIAAAEAAQIBAQEBAAACAQABAQAAAAABAAEBAQAAAAAAAAABAQEBAQEAAAEAAAAAAQABAAMAAAEBAQAAAgEBAAAAAQAAAQMAAQABAgIDAAEBAAEAAQEAAQEBAQAAAQIAAQEAAQEDAAAAAQEAAQAAAQAAAQIAAAIAAQAAAAEAAAIAAQAAAQAAAgAAAAEAAQAAAAAAAQECAQAEAQEAAQEBAgABAQAAAAEBAQABAAECAQEAAAEAAAAAAQEAAAAAAAABAAECAAEAAAABAAMAAAAAAgMBAAEAAAABAQEDAQAAAAECAAMDAQIAAAAAAQABAQIBAgAAAQABAQIAAAEBAQAAAQAAAAAAAQEBAAEAAgAAAQEBAAECAAEAAQEAAwAAAwABAQAAAAABAgIAAAABAAEDAwMAAAAAAAEBAgAAAQECAQACAAAAAAEAAQABAQAAAAABAQAAAAAAAQIAAAAAAQMCAAEAAQAAAAEAAAEAAAABAQABAAEBAAEBAQABAQACAQAAAQEAAQECAQECAAAAAAADAAEAAQECAAAAAAAAAAAAAQABAgABAAEAAQEEAAAAAAEBAQAAAAABAAAAAQIDAQEAAAECAQAAAAAAAAABAQABAgEAAAEAAQAAAQAAAAAAAQEBAAAAAAEAAQABAAACAQEEAQACAQEAAQEAAAACAQAAAAIAAgEAAQEBAAAAAQAAAQEBAQEAAAACAgAAAAIAAAEAAgEAAAEABAAAAAAAAAECAAEAAAAAAAEAAAMAAAABAgAAAAABAQEAAAEBAAEBAgAAAQABAQACAAAAAQACAgEAAQABAAAAAAEAAAEBAQAAAAAAAAADAgECAwAAAAAAAgAAAQEAAAEAAAABAAEBAAABAQACAQABAQADAAEAAQAAAAAAAAEAAAIAAAAAAgABAAAAAAAAAQICAQAAAQAAAAECAQAAAQABAAEAAQEAAwAAAQABAAACAAAAAgACAAABAgIBAgICAgEBAwABAQAAAAAAAQEAAAEAAQEAAgABAAEAAQIAAAEBAQEBAQIBAAEAAQAAAQACAAECAAIAAgAAAAEAAAEBAgAAAAADAQAAAAEAAgEBAAABAAEBAAEBAAABAAECAgECAgEAAQECAAEAAAAAAgEAAAICAAAAAAEAAAADAQEBAAIAAQECAAIAAQECAQEAAAEBAwABAAEBAAEAAAEAAAAAAQABAAEAAgAEAwABAwAAAQAAAQABAQIAAQABAAECAAABAAABAQAAAAACAAAAAAABAAEAAAABAQABAQAAAQAAAQEBAwAAAgABAAABAQAAAAACAgEDAAABAQIAAAEBAAAAAAAAAAABAAEAAQEBAQABAAIAAAABAAMAAAAAAAABAQEAAgABAAAAAAMAAAIBAQEDAQACAAEAAQABAAEBAAAAAAAAAQACAAEBAQABAAABAgEBAQACAAEAAAEBAAABAAEAAAEBAAABAAIAAAABAAABAwEBAQABAQABAAAEAgABAQEBAQEAAQAAAQAAAQIBAQABAQEABAIBAQAAAAEBAAEAAAACAAEAAQAAAAECAQMBAAADAAAAAAECAAIBAAIBAQEAAgECAAIAAQAAAQABAAABAQEAAAMAAAEDAAABAQEBAAAAAAEAAQMDAAABAQIBAQICAQEBAgABAAEDAAAAAAEAAQMAAAABAAECAAAAAAABAAAAAQEAAQAAAAAAAQECAgACAQEAAAIAAQABAQAAAAACAQABAAMBAQIBAgIAAQABAAEBAAABAAAAAQIAAQEBAgECAgEBAQEAAAEBAQABAwIAAwACAQEBAQAAAgMBAAADAQEAAAACAQEBAQEBAQEAAQAAAAECAQABAgABAAACAAABAQEBAAACAQEAAQAAAAAAAAAAAgAAAQABAQIBAAAAAgIBAQEBAwAAAQEBAAAAAAACAAEAAAEAAAABAAAAAAACAAEBAAABAAEAAQEAAQACAQAAAAABAQMBAAAAAQAAAQEBAAAAAAAAAAAAAAADAAEAAAAAAAAAAAICAwACAAECAAAAAAAAAQAAAAAAAQABAQQAAQECAAECAgEAAAACAAIBAAMBAQECAAACAQACAAEBAAAAAQABAAMCAAICAgACAAECAQABAAEDAAAAAQABAgABAAEAAAEAAAEAAgEAAgEAAQABAAEBAAAAAQEBAAABAQAAAAEBAQIBAQABAQAAAAAAAQACAAAAAAEBAAADAQEBAAAAAAAAAAECAQAAAQEBAgEDAAMBAAEAAQEBAQAAAQAAAAEAAAAAAAEBAAAAAAIAAAEAAQECAAABAAECAAAAAQECAAIAAAABAQABAQABAAAAAQEAAgAAAgACAAACAAAAAQADAAEAAwABAgAAAAAAAAEBAAACAQEAAgACAgEAAQAAAQAAAAABAAIAAAAAAgABAQABAQAAAAAAAAAAAQACAQEAAQEAAAECAQABAgAAAAACAQEAAAEBAgEAAQAAAQAEAAEAAgADAgQAAwAAAAEAAQACAAEAAAABAAIAAwEBAgECBAEAAQAAAAEAAQEAAQEAAQEBAAACAAEAAQAAAAAAAAABAAEAAgABAAAAAQABAQEAAQAAAQAAAAABAgABAgAAAQEAAAAAAQEAAQAAAQIAAgACAAEBAAIBAgABAAAAAAEDAAIBAAABAAAAAAEAAQACAQABAQEBAAIBAAEBAAABAQABAgEAAAABAAAAAAAAAAABAAECBAIAAAEAAQAAAwACAgEAAQABAAACAAEBAAABAAIAAAEDAAEAAwABAAAAAAEAAAECAQIDAQABAQABAQABAQEAAQECAAEAAQEAAQEBAQABAQEBAAAAAAEAAQEAAAAAAAAAAAEAAQEAAAAAAAAAAQABAAAAAAACAQAAAAEAAAACAAEBAAABAQIBAAEDAAEAAQEAAgAAAAAAAAIBAAAAAgIAAAAAAAEAAAECAgAAAAADAQEBAQABAAAAAAEAAQAAAQIBAQAAAQAAAQAAAQEAAQABAAEAAAIBAgAAAAEAAgEAAAAAAAAAAQECAQEAAAAAAQABAQEAAAABAAMCAQAAAQEBAAMAAQAAAAABAAICAAACAwEAAQAAAgEBAAEAAQEAAAEAAAMBAQEAAQIDAAABAAEAAAABAAIAAAEBAwAAAAAAAAAAAAACAAABAQIBAQABAAAAAAAAAQABAAABAAEBAgEAAwAAAQAAAAAAAAEAAQEAAwIAAAIAAQAAAQABAAABAQEAAAAAAQAAAQABAAIAAQAAAAEBAQEAAAEAAgICAgEAAQAAAAABAAEAAAEBAQEBAQEBAAEAAAAAAAACAQMBAAADAAEAAgAAAAACAQAAAAEBAAACAAECAAABAAICAAAAAQECAAEAAQABAQMAAAEAAgICAAABAAAAAQEAAAAAAgEAAAEAAAAAAAABAAAAAQAAAAAAAQEBAAABAQEBAAMCAwABAQAAAAABAAIAAQABAgAAAgAAAAABAgEBAgAAAAEAAAEAAQACAgEDAgEBAQEAAgABAgAAAAMBAgEBAgECAQEBAQECAAEAAAEBAAAAAQAAAAABAgABAAEDAQEBAQEEAAIBAQIBAAADAQAAAwADAAEAAQEBAAAAAAABAQMBAQEBAAAAAQIAAAAAAQABAAABAAIBAAABAQEAAAIAAgADAAAAAAAAAwEBAAEAAQEAAAABAwABAgIAAAEBAQABBAcDAgMDAAAAAQIBAAAAAAAAAQIAAAABAQAAAQADAAEAAAEBAAEAAAEBAAAAAAIAAAABAAMBAAEBAAEAAAAAAAEAAQEAAAABAAMBAQABAAAAAAAAAQABAQAAAQACAAQBAAEBAAAAAAAAAQAAAAACAAEAAAIBAAAAAAEBAAAAAgIAAAEAAAEBAQAAAQECAgAEAAACAAAAAQABAAAAAQEBAAIBAQAAAQAAAgEBAQECAAAAAAEAAgABAgABAAAAAQABAAABAgEBAQABAQEDAAEBAgACAAEAAAAAAAEBAAABAAECAQEAAQACAAEAAAMAAAEBAQABAAAAAQEAAQECAAAAAAAAAQEBAQEAAAAAAgEAAAAAAAAAAQABAQABAwAAAAAEAAEAAAIBAQEAAQEBAwACAAABAAIAAAAAAAAAAQIAAAIBAAIAAAABAQABAAIAAAABAQEBAQAAAAEAAgACAQAAAQEAAQEAAAEBAQAAAAEAAQEBAAEBAQAAAQEBAQIAAQEBAAAAAAAAAQABAAEAAQABAQAAAAAAAQEAAAABAQMBAQAAAQEAAAMCAAABAAIDAAEAAAEAAAACAQAAAQECAQAAAAAAAAEAAQEBAQIAAQAAAQEAAAAAAAEAAQAAAQICAQEAAQIAAAEAAAAAAQEAAAAAAQAAAQEAAQAAAQIBAAACAQAAAQEAAAAAAAAAAAABAQECAAAAAQAAAQAAAAAAAgAAAAMCAAIAAAEBAAABAAABAAACAgEBAQIAAQACAQEBAAICAAEDAAEBAAEBAgEAAAACAQIBAAEAAAACAAEBAgAAAAEBAQEAAAMBAAAAAgABAAADAQECAAEBAQAAAAEBAQAAAAACAAAAAAAAAAABAQICAAAAAQIAAAADAQEBAAIAAQEBAQAAAQABAAABAgIAAQAAAgEAAQEAAAIBAAABAAABAgECAAAAAAAAAAECAQABAQAAAQACAAABAAABAwAAAQEAAQEDAQAAAAEAAQICAAABAAABAgABAAACAQAAAgEAAAEAAAABAAABAAABAAEBAAACAAEAAAEBAQABAQABAAEBAAECAQEAAQABAAAAAAEBAAIDAAEBAQABAgEAAQEAAAECAQAAAAABAQEAAgAAAgEAAAEAAQACAAEDAwEAAQAAAgAAAAEBAQAAAQICAAAAAAECAQEAAAICAQADAAABAAECAgIBAAIAAAEBAAIBAQABAgABAAEBAAABAQABAAEBAQAAAAADAQACAgABAAEAAAACAgAAAQECAAEAAAABAAEAAAAAAAIBAQAAAAABAAMDAQMBAAACAAAAAAACAAIBAAAAAAAAAQAAAAAAAAAAAgEAAAMAAQEAAQAAAAAAAgECAQABAQABAQADAgEAAQIBAAACAAABAAAAAQAAAAEBAgMBAQAAAQAAAQEAAAAAAQABAQAAAAEAAAABAAAAAQAAAAEBAQEAAAEBAAEBAQIAAQIBAQEAAAABAAEBAgABAgEBAQABAAACAQEAAAAAAQMAAQABAwEBAgEBAQEEAAABAQEAAAACAAEAAgEBAAABAAAAAAABAAQAAQAAAQEAAQAAAQAAAAEAAAEBAAAAAQIAAQAAAAEAAAIBAQACAQEAAgEBAAAAAQABAAAAAAEAAQAAAQEAAAEDAQEAAAABAQAAAAABAAEFAAEDAAIAAAIAAgADAAACAQAAAAIAAQAFAAABAAAAAAABAAAAAAABAAEBAgABAAECAQAAAAIAAAABAAEBAAIBAAEAAgEAAAIAAwABAAABAQEDAAAAAQECAQAEAQAAAgABAAAAAAIAAQAAAAABAAAAAAAAAAAAAAEAAAAGAQAAAAAAAgABAgAAAAAAAQABAQAAAgMCAAAAAQEBAQAAAQABAQAAAQADAQEAAAADAAAAAQEAAAIAAAABAQEAAAECAAECAAEBAAIBAQACAAAAAAAAAQAAAQIBAgAAAgIAAAABAQABAgACAwABAAEAAAAAAAACAAEAAAEBAAEAAQEAAQACAQAAAgEBAAAAAAAAAAABAQAAAQAAAAEAAQAAAAEAAAABAAAAAwAAAgAAAAIAAAABAQACAAEAAAMAAAEBAAAAAAADAAACAAECAAAAAAMAAQAAAQIAAQEAAAEBAQMAAQAAAgEBAQEBAAAAAQAAAwEAAQABAAAAAAABAAEBAQEAAQIBAgAAAAABAgEAAAACAAABAwEAAAEAAQAAAQEAAgEAAQAAAgEAAQAAAQABAAEAAQEAAgECAQABAQEAAQAAAQABAAEBAQAAAAAAAAIAAgAAAAEBAAEAAAABAAACAAEAAAAAAQEBAgEBAAADAQMAAQABAAAAAAABAAIAAgADAAAAAQIBAQAAAAAAAQABAAEAAQAAAgICAAIAAAEBAQABAwEBAQEAAgIAAAAAAAAAAAABAgIAAAEBAQAAAQEAAAAAAQAAAAAAAAABAQACAQEAAQEAAQABAAAAAQADAAIAAAAAAQEAAgAAAAEAAwICAgABAQAAAQECAAADAgEAAAEAAAAAAgEBAAAAAAEBAgICAAMCAQAAAAMBAAEBAgEAAQEAAgEAAAABAQIBAAABAAEAAAABAQAAAAEBAAACAwABAQEBAAEBAAABAAEAAwABAQIBAgAAAQIBAQEAAQEAAAEBAQAAAgIAAQABAQAAAQEAAAEBAAEAAQAAAQEAAAABAQAAAAEAAQECAQIAAAABAAEAAQEBAQIAAAABAAABAAABAAEBAAAAAQIAAAABAAIBAQABAAIAAQABAQECAAMAAQAAAAMCAQAAAAAAAAAAAAIAAQEAAAECAAEAAwIBAQEAAAEBAQAAAAIBAQAAAAEAAgABAQAAAQIAAQEAAAIAAQEAAAAAAAIBAAACAgABAQEDAQAAAAEBAAABAgICAAQAAwAAAAAAAQMBAQACAAEBAAABAQIBAAABAQAAAAABAAEBAQEBAgACAAABAgAAAgEAAAABAQAAAQEBAQACAAABAAACAAEAAQIBAgAAAAAAAAEBAQABAAEBAAACAQICAAABAAEAAAAAAAAEAAABAAABAAAAAQAAAAAAAQEDAAAAAAAAAAEAAwEAAQABAgICAQABAAIAAAABAAAAAQEAAgIBAAEAAQAAAAEBAQABAAADAQAAAAECAgABAAEAAAIAAQABAQEAAAAAAAAAAgEBAQEBAgABAQACAQEBAAABAgACAQAAAAABAQACAAAAAAEAAgAAAAABBAIAAAEAAQEAAAEAAAIAAAAAAQABAQEAAQAAAQAAAAABAwAAAQABAAABAQECAAABAAABAAEBAgEAAQEBAAEBAAABAAACAAMAAAAAAAABAAEAAAIAAAAAAAECAQABAAAAAgAAAQAAAQEBAgAAAwECAAEAAgEAAQACAgEBAAEAAQAAAQABAAAAAwABAAEBAgACAAABAgEAAAACAAICAAEAAAIAAAADAQABAAABAQACAQEBAAAAAAADAQEAAAMBAQEAAQEGAgEAAAAAAAAAAAACAAAAAQIBAAABAQEAAQEAAAEAAQEBAAAAAAACAAAAAQECAAAAAAEAAQIBAAEAAAEAAAABAAAAAQABAQAAAAEAAQACAAAAAQEBAAICAQEDAAEAAAAAAAAAAgEAAQIAAAEBAQABAAEBAAADAAECAAEBAgIBAQAAAAMBAAIAAAEAAAEAAQACAQAAAAIBAQABAAADAAAAAAEAAAEAAAEDAAAAAQABAAAAAQEAAAQBAAIAAAMBAAABAAABAAIBAAAAAQIBAQAAAAEAAAABAAAAAAEBAQABAQAAAgEAAQIAAAAAAAEBAAABAQEAAAIBAAEAAQAAAAEAAgABAAEAAAAAAAEAAAABAAEAAAABAQEBAAEAAgAAAQADAQAAAAAAAAECAAEAAgEAAAABAQMBAQABAAABAAABAAAAAAEAAAAAAgEAAQAAAQABAAEAAAAAAQIBAAAAAAIAAQEAAAAAAAABAgABAQAAAQACAQEAAAABAAEAAAAAAgABAQECAAEAAAECAgMAAAAAAAEBAQEAAAABAgABAAEBAAIAAgEAAAEAAQEBAQABAAEAAAIAAAEAAAABAQEAAAEBAQIAAQAAAAIAAQEBAAEBAQEAAAABAQIBAAAAAgAAAgIAAAACAAADAwEAAQEBAAACAQEAAAIAAAEAAQAAAQAAAAEBAAEBAAABAQEAAQAAAQEBAAAAAAAAAAADAAICAAEAAQAAAgEBAQECAAEBAQABAQABAAABAwABAQEAAAIBAAAAAAAAAAEABAEAAQIAAAEAAQIBAAEAAQAAAwAAAQABAAABAgABAQABAAAAAAICAAAAAAAAAAECAAEAAQABAgEBAQEBAAAAAAEAAQABAwAAAAAAAgAAAQAAAAAAAAAAAwEBAAAAAAAAAgEAAAEAAAABAQEAAAAAAgIAAQEBAQAAAAAAAQAAAAABAAIAAAIAAAECAAEAAAEAAAICAAABAQECAQABAQACAQEBAAAAAAABAQEAAQIAAQEBAAACAAIBAgABAAABAgEBAgABAAEAAQIBAAIBAAEAAAEDAAAAAAABAQACAQABAgACAQEBAAIAAAABAAEAAAACAAAAAwAAAgICAQABAQAAAQECAAEAAgEBAQEAAAECAAEBAgIAAAEBAAAAAAAAAAAAAAAAAAABAAECAgABAQAAAAEBAAAAAQAAAQIAAAACAAEBAAIAAQAAAAEBAAEAAQEAAgAAAgEAAQAAAAAAAAACAAEAAAEBAwACAgAAAQECAAEAAAEAAgEDAAIBAAEBAQEAAAEAAQABAAMAAAIAAgEBAQABAgIAAwAAAAIAAAEBAAEAAQEAAQABAQEAAgAAAAAAAAABAAECAQABAQACAQEBAAEAAQABAgAAAAAAAAABAQABAAEAAQABAAEAAQEAAgAAAQAAAQEAAQEAAAACAgAAAAEAAgAAAQEDAQABAAEAAwEDAAAAAQAAAAEAAAEBAAADAAAAAQAAAAAAAAEAAAAAAQABAAECAAAAAQAAAQIAAgEAAQEAAAABAAEAAAAAAgAAAgABAAAAAAECAQABAAEAAQAAAQEAAAABAgABAAAAAgABAAAAAQACAAEAAQIAAAEBAAADAAAAAAEBAQAAAgABAAEAAAAAAAEAAgABAAACAQEBAgABAQIAAQABAAEEAAAAAAEAAAECAAABAAEBAAEAAAABAQEAAAEBAAEAAAACAAEAAQEAAAABAAABAAEAAQAAAAEBAAAAAQABAAABAAABAgABAQAAAAEBAgEBAQEBAAABAAICAQIAAAEBAQIBAAIAAQAAAQEDAQABAAIBAAABAAMAAAAAAAAAAQABAQEAAgEAAAEBAAAAAAEAAAEAAAABAgEAAAAAAQAAAQMAAAIAAQABAQEAAAMBAAEAAAAAAQECAQEAAAEBAQAAAQADAQAAAQEBAQABAQABAAABAQABAAEDAQAAAQABAQAAAAACAQEBAQAAAQEFAQECAAABAAEAAQAAAAAAAAABAAAAAAEBAAIBAQABAAEAAAAAAQAAAAEBAAACAQACAAACAAAAAQAAAQIAAQABAAEAAQIAAQMAAwACAAIAAQAEAAAAAQEAAAIDAAEBAAAAAAACAgABAQEBAQEAAAEBAAEAAQABAQAAAAAAAQIBAAEAAAABAAACAgABAQAAAAAAAQABAgEBAAAAAgABAAIBAAABAAEAAgEBAQEAAAIAAQECAAIAAAIAAwEAAAEBAgAAAAEAAAEAAAAAAQIAAQAAAgEBAQEBAQIAAQICAQIBAAIBAAACAAEAAAECAQEAAAEBAAEAAAABAQAAAQEDAAIAAAEAAAAAAAAAAAABAAIAAAABAQMBAAEAAQADAQEBAAAAAQEAAQAAAAABAgEAAAIAAgABAgAAAAEAAgABAgAAAAEAAAEBAgEAAAACAAEBAQEBAQECAAABAAEBAAAAAgAAAAIBAgMBAAAAAQAAAQAAAQEAAQAAAAIBAQEAAAAAAwEBAAICAgABAAEAAAAAAQABAQACAQABAQAAAAAAAgEBAQEAAAEAAQEAAAEBAAAAAAAAAgABAQECAAAAAAAAAAEAAAABAAIBAQIBAQEAAAACAAABAAEBAQEBAAEAAQEAAwEAAAAAAAAAAAEAAgABAAABAAAAAAEAAAEBAQECAAAAAgAAAQABAAABAQAAAQAAAAAAAQEAAAEAAQABAgEAAAAAAAABAAEAAAAAAAAAAAEAAAEAAAIBAAABAQIAAgEAAQABAAAAAAEAAQAAAQAAAAAAAQEAAQAAAAEAAAIAAAIBAAEBAAAAAAABAAABAAIAAQAAAQEAAQEAAAIAAAABAQIAAAAAAgACAAEBAQEAAAABAAAAAAABAAAAAAABAQAAAgABAQEAAgABAAEBAAACAQEBAAEAAgEAAgEBAAABAAAAAAEEAQABAgEAAQABAQEBAAIAAQEAAAEAAAAAAAEAAAAAAAADAAAAAgAAAAMAAAEBAQABAQABAQACAQABAgMBAwIAAAACAAABAAEAAQEAAAAAAgIAAQABAAEAAQEAAgIAAQACAAECAQIAAAAAAgEAAQIBAQECAAAAAQECAQAAAAAAAQEBAQEDAgAAAAQDAAABAAAAAAAAAwACAQAAAQECAAACAAACAgEAAAAAAAABAQACAAACAQEAAgAAAAACAQIBAAAAAQAAAAEAAAABAAEAAQQAAQACAAIBAQIAAAIBAAIBAwABAAEAAAEBAQAAAAAAAQAAAAACAgIAAQEAAQABAQACAAICAAEBAAACAAEAAAEBAQEAAAAAAQMAAAAAAAEBAgECAwECAQIAAQEAAQECBAEAAAAAAQABAAACAAABAAIAAQADAAEBAAICAAABAAABAwAAAAABAgIBAAEAAQEAAQEAAAABAAAAAAAAAAEBAAABAQABAAEBAQAAAAAAAgMAAAEAAQAAAgEAAQAAAAAAAQEAAQEAAQABAQABAQABAQIAAQEAAQAAAAEBAAACAQEAAAEAAQACAAIBAAABAgEAAAABAQAAAQAAAgEAAQACAQEAAQACAQAAAQEAAQEBAgECAQECAAECAAAABAAAAQAAAAECAAEAAAECAAACAQAAAAAAAQEAAQEBAAECAAEBAAAAAAEBAAEAAwEAAQAAAQAAAAAAAQEAAQEAAAEAAAAAAgAAAAECAAEAAAABAAAAAAEAAAAAAQEAAQAAAQEBAQACAAEBAAEBAAEAAAACAAABAQAAAQABAAECAQEAAgABAQEBAAEBAAABAAIBAAEAAAAAAQABAQQAAAEAAQAAAQEBAAABAQICAAEAAQAAAQAAAAEAAAACAQAAAQAAAQEAAQADAwECAQABAAIAAAEBAAABAgAAAAAAAAAAAAAAAAAAAQACAAEAAAAAAAABAgABAgIBAQABAQIAAAMBAAIDAgABAQEAAAABAQABAAEEAQABAAEBAAICAAAAAQABAQABAAABAAECAAABAQAAAQAAAAAAAQEAAQABAAAAAQIBAAEAAwABAQECAAACAQABAQACAAABAAEAAgIAAAIAAQAAAQAAAAMAAAABAAEAAgEAAQEAAAICAAEAAAIBAAIBAAEBAAECAgIBAAEBAAEAAAEAAQEBAAACAQABAQAAAAABAQAAAAAAAQEAAAAAAAEAAgABAQAAAgABAQAAAQAAAAABAgIAAAEAAQAAAQEAAAMAAAEAAQECAAACAQEAAwEDAQMAAAECAQABAAEBAAIBAAEAAQAAAAAAAgACAAAAAgAAAQABAAEAAAAAAgEBAAEAAQEBAQAAAgEBAgABAAAAAAAAAAEAAAAAAgABAAECAQAAAwACAAACAQAAAQAAAgACAQEAAAAAAQAAAwEAAQIAAAAAAgECAAEAAAABAAEBAAMCAAEAAAEBAQIAAQEDAQEAAwIAAAEAAAIAAAAAAAIBAwEAAgAAAAAAAAIAAQECAQAAAAABAgEAAAAAAQEAAAEBAQADAAAAAAEAAQABAQAAAQAAAAEAAwMAAwEAAAACAAACAQEBAgAAAgABAAABAAAAAAABAAACAAACAgADAwABAwEAAwAAAAIAAgAAAAAAAAIAAgABAQAAAAABAAEBAQABAAEAAAEBAAAAAAABAQAAAAEBAQAAAQABAAEAAAEAAQAAAQIBAwIAAQEAAQEAAQAAAAABAQECAAABAQEAAAEBAAAAAQABAQAAAAABAAECAAAAAQABAQECAgIBAAAAAAEBAAIAAgIBAQAAAQACAQEABAEBAQAAAgIAAAAAAAAAAAABAQAAAAECAAAAAAICAQEBAgIAAgABAAEAAAIAAAIAAgECAAEBAAIAAAABAQAAAAIAAAABAQECAQAAAgECAAEBAAEAAAEAAAECAQABAAAAAQQBAgEAAAEAAQABAAIAAAACAQEAAAAAAQECAAAAAAICAAECAAEAAQEAAAABAQEAAAEAAAEAAQAAAQAAAQEAAAAAAAECAwEAAQEBAQABAAAAAQAAAQAAAQAAAAIBAQECAQABAAACAQACAgECAQABAAEBAAIAAAEBAQIBAQEBAAAAAAAAAAEAAQAAAQAAAAEAAAEAAQEBAQAAAQAAAQIAAgAAAAACAAABAAAAAAAAAAEAAgADAgEBAQABAAEBAAECAQAAAQEBAAABAAABAQIBAAAAAQACAgIBAAACAAAAAAABAAAAAAAAAQIBAAAAAQABAAAAAQEBAQEAAAEAAAECAgEBAgIAAAECAAABAQAAAAEAAQEAAAAAAQACAwADAQACAAEBAgEAAAACAgEAAAAAAAIAAQACAAAAAQEBAAAAAQAAAQIAAQIBAAAAAQAAAAEBAAEAAAEAAAAAAwMAAQABAQEAAQIAAQEAAQABAAIBAAEBAAEAAAACAgEBAAABAAEAAQAAAAAAAAAAAAEAAAEAAAAAAAACAAEAAgIAAAEAAQABAQEBAgEBAQEAAQABAAIBAQABAAEAAAIDAQABAAEAAAADAQEAAQEAAwAAAQIBAAABAAAAAAIBAAECAQIBAQECAAABAAAAAgEBAQABAgEBAQEAAAAAAAEAAQABAAAAAQABAQAAAAABAQADAAEAAgADAAECAAEAAQABAAIAAAAAAAABAAACAAAAAAABAgEAAgABAAEAAQAAAAIBAQABAQIBAAEAAQAAAAAAAQAAAgIAAAAAAAAAAgIAAwIAAwABAAABAQEAAQAAAAEAAQACAAEAAAAAAAMAAwABAAAAAAIAAQABAgAAAQAAAAIBAQABAgEBAQECAQABAQEBAAABAAICAgEBBAAAAgIAAAEBAAMCAAABAQACAgECAAEDAAABAQAAAAABAAAAAQABAAAAAAAAAQIAAQIAAQAAAQABAQABAAABAAABAQABAQAAAAABAAIAAgAAAAIBAAAAAQEBAQEAAAMDAAACAAAAAAACAQABAAAAAAABAQEAAQEAAAEAAQIAAAACAAIDAAEBAQEAAQEDAAIBAAEAAAMAAgEAAAEAAwEAAAADAAEAAAIAAAAAAQAAAAABAAABAAMAAAABAAEAAQECAAEBAQABAQAAAQEAAgAAAAICAQAAAQAAAQACAAECAAEBAAAAAAEAAAEDAQEAAAAAAQAAAAABAgIAAAABAQAAAAEAAgIAAAIAAAABAQIBAAACAAAAAAEBAQACAAABAAECAQEAAQAAAAAAAgQBAAAAAQECAAAAAQEBAQEAAQEBAQABAgAAAAMBAAAAAQEAAAEAAQAAAAEAAgAEAQEBAAABAAECAgEAAQIAAgAAAgAAAAEAAgADAQEAAAAAAQIBAAEBAAAAAAAAAAECAgEEBAEAAQAAAQAAAwMAAQABAAEAAQIBAAECAAABAQAAAAECAAEBAgEDAAEBAgEAAQEAAgEDAAEBAQABAQEAAAABAQAAAAACAAEBAAIBAAEAAgEBAAAAAAMAAQEAAAEAAAEAAQABAQEBAAEAAAAAAAECAgECAAADAAIBAAABAQEAAQEAAgAAAgEAAAIAAAEAAAIAAQMAAQABAgAAAQAAAgABAAIAAAEAAQIBAAEAAQECAAIAAQAAAAABAAEAAQEBAQEAAAABAQACAQADAgEAAAIAAAABAQABAQABAgIAAQECAAEBAAEAAAAAAAAAAAAAAAABAAEAAAABAQABAAEAAAEAAwAAAgEAAAABAAAAAQAAAQEDAQAAAAABAAAAAAIDAAAAAAAAAQEAAAAAAAAAAAECAQIAAQABAAABAAECAQAAAQECAAQAAQAAAgEAAAACAAAAAgMAAgACAQEAAAEBAAAAAQABAgECAQEAAAEAAAEAAAECAQACAQAAAAIAAgICAAMBAQAABAAAAQAAAAECAAAAAAEBAAECAQEAAAEAAAABAAABAgEAAgEBAQEAAgEBAQEBAAAAAgEDAQADAgECAQIBAQEAAAEAAQIAAgADAAEBAAIAAAEAAAABAgACAQIAAAIAAAEBAAEBAgEBAAEBAAABAAIBAgABAAECAAABAQAAAAACAQAAAgABAAACAQEAAQACAQAAAQABAQEBAgEAAAACAQEAAwAAAAEAAAIBAAEAAQEDBAABAAABAQICAQAAAAMBAAMCAAIAAAIDAAADAAAAAQEBAgAAAAABAAABAgEDAgEAAAECAQAAAAEBAAAAAQAAAgAAAAAAAQAAAQABAAEAAQIAAAIBAAEAAAABAQIAAAEBAAAAAgEBAQIAAAEAAAABAAEAAgABAAIBAQIAAgEDAQEAAAECAQACAAEAAQABAAAAAQAAAAAAAAAAAAEEAAAAAQIAAQAAAQABAAEBAAACAAAAAQABAAABAAEAAAABAAEBAwEAAQEAAgABAQEBAAEAAQAAAgMBAQEAAAIAAQACAAABAQIBAAAAAQEAAAAAAQIAAQABAgEBAAAAAAEAAAEBAQABAQEBAAABAQAAAQEAAQAFAAMAAAICAQIAAAEBAgACAAABAQIBAAEAAQABAAIBAgIAAQEBAAAAAQIBAAAAAQMAAQEAAAACAAEAAQAAAAABAAEBAgAAAQACAQMAAAAAAAECAQABAQABAQEAAQAAAQECAwAAAQEBAAABAQAAAAIBAQEAAAIAAQAAAAABAAEAAQABAgAAAQEAAAEAAAEAAQABAgMAAAAAAQAAAAEAAAABAAEBAQEBAQABAQAAAwIAAgABAAEBAAAAAgACAAIBAAABAAEAAAEAAAAAAQAAAAECAAACAwAAAgAAAAABAAIBAQADAQABAQEAAQABAAEAAAABAQABAAABAQADAQEAAQMBAQAAAQAAAAAAAQEBAQAAAQAAAQIAAQAAAAAAAAAAAAEBAQEAAgIBAAECAAAAAAABAAEAAQACAAEAAgEAAQEBAQABAQEAAAIAAAEAAQEBAAACAwICAQAAAAAAAAEBAAIDAAEAAQEAAAAAAAABAAAAAAEAAQACAAEAAAAAAAEBAgACAAACAQABAAAABAEBAAQCAAABAQABAAAAAQIAAgEAAwEAAAEBAAECAQABAAEAAAAAAQIBAQIAAQABAQAAAAIBAgAAAAADAAIABAIAAAAAAQAAAAEAAQEBAgAAAwAAAAABAQEDAQAAAQAAAQEBAAABAgAAAQABAAIAAQABAQIAAAEBAAEAAgEAAQAAAQABAAABAgMAAQEBAQABAAEBAAICAAIBAQEBAAEBAAEAAAABAAACAgABAAEAAAEBAAAAAgIDAAECAAABAAEAAgAAAAABAAAAAQAAAAIBAAAAAQECAQAAAQABAQABAAAAAAACAQAAAAEBAgECAAAAAAECAQIAAAEDAAACAAAAAAECAAAAAAAAAAAAAQIAAQAAAAECAgEAAAMBBQIAAAAAAAAAAAAAAQEAAAABAQEAAAAAAAAAAAACAQAAAQIAAQEDAQEAAAEAAAAAAQAAAQABAAABAQABAAABAQEAAQEBAAABAQAAAQAAAQEAAAEBAAAAAAEAAQEAAAEAAQEDAAABAAADAQABAAEAAAECAAEBAQECAAAAAQIAAQAAAAABAQAAAQABAgIAAgEBAgAAAAIAAAAAAAEBAAEAAAABAAABAAIAAAACAgEAAAEAAQEAAAEBAAEBAAAAAAAAAQEBAAEBAQABAAEBAgICAQAAAAICAQMAAQABAAABAAAAAAEBAgIBAAABAAABAAAAAQABAQEBAQEAAQIAAAAAAQABAQECAAABAQEDAQICAAAAAAEDAgEAAQACAQABAQAAAgAAAQAAAAAAAAACAQAAAAAAAQAAAAEAAQAAAQICAAABAQAAAQEBAAEAAAABAQABAQIAAAEBAAABAAECAQEBAQEBAAAAAAECAAABAAAAAAECAAEAAQEBAQEDAQAAAQAAAwABAQACAAABAQEAAAABAgMDAAAAAgEAAAABAgADAQEBAQACAAEAAQABAQEBAQEBAAIBAAEAAAEBAgABAAAAAgABAQAAAAAAAQMBAAAAAQEAAwACAAEBAAECAQABAAAAAAEAAQMBAgMAAAABAAABAAADAAEBAQAAAQEAAAAAAAAAAwAAAgABAQACAAACAwAAAAEBAQABAAABAQAAAAABAgACAQMAAAEBAQEBAQEAAQAAAAEAAAEBAwABAQABAwAAAAICAAEAAQEAAQAAAAEAAgAAAgICAAIAAgAAAAEBAgAAAAIBAQAAAAAAAAEAAgABAAECAgEAAAAAAAAAAQADAQEAAAEAAQEAAQAAAAABAAAAAAAAAQABAAEBAAEAAQEAAAAAAAACAQECAAAAAAICAQAAAQAAAgIAAAAAAAEAAAAAAAIBAAAAAAACAAAAAQEAAAACAgEEAAIAAAEAAAAAAAADAQACAAEBAAEAAAEBAAEAAQAAAAIAAQEAAAABAgIBAgACAAEAAAAAAAEAAgIAAAABAQEAAAAAAQEAAQABAQABAQACAQABAAAAAAEAAQAAAgAAAQAAAQAAAAAAAAEAAQABAQAAAAAAAQABAgIBAAIAAAAAAQEAAQAAAQAAAAEAAQMBAAAAAAEAAQEBAAABAAABAQIAAQEAAAICAgABAQICAQEBAAQAAgIBAQEAAQABAAAAAQEAAAEBAAAAAAIBAgADAQACAAEAAQEAAAEAAAABAAAAAQEAAQEAAAAAAQAAAQIAAAABAQEBAAAAAAEAAgABAQMBAAAAAgAAAAAAAQEBAwAAAQIBAAIDAAAAAAAAAAEAAgEAAwEAAQEAAAIBAAAAAAIAAgMBAAEAAgAAAAIDAQAAAgMAAAECAQABAAAAAAAAAQACAAAAAAABAQECAAAAAAUAAQEAAQICAAIAAgAAAQABAAEBAAECAQIBAAABAAEBAAEBAQACAAEBAAEBAAEAAQAAAAIAAAACAAQDAwAAAAABAAEAAQAAAAIAAQIAAAAAAgEBAQAAAQIBAAIAAAABAAAAAQAAAQABAAEBAgABAQAAAQEBAQECAgAAAQABAQACAAABAgACAQEAAQAAAAEBAQAAAAAAAQAAAAEAAAAAAQIDAQACBAEBAQAAAQABAAEAAgEBAgAAAAEBAQAAAgIAAQIDAQIAAQAAAAEAAQMBAAABAAACAAABAQAEAAABAQABAgIBAAIBAQECAAAAAAADAAEAAAAAAQACAAEAAQABAAIBAAABAQAAAQIBAAEAAQAAAAABAQAAAQACAAEBAAACAAABAAIBAAECAQAAAgEAAAEAAAABAQABAAABAAAAAQEBAAABAAAAAQEBAAABAQAAAgECAAIBAgAAAAEBAAEAAQABAQEBAAEAAgAAAQEAAgIAAQEAAQAAAQECAAIBAAEBAAABAAIBAAEBAAIBAQABAQAAAAIAAAEBAgICAQACAAAAAQAAAAAAAQMBAQEAAgEAAQECAQAAAAABAQACAgEAAAQAAAECAwAAAAEAAQEDAAEAAAACAAAAAAAAAAABAAEAAAAAAgEAAAAAAAAAAAABAQADAwEDAQAAAAUBAAABAAABAAAAAQABAQEAAQEAAQEAAAEAAQABAgAAAQABAQABAAIAAAICAgIAAQMAAAABAAAAAQEBAAEAAQICAAEAAAADAAAAAQEAAAABAQAAAAEAAQADAAEAAwAAAAAAAAABAAAAAgAAAAADAAABAQABAgAAAgADAQABAwIAAAAAAQEBAAAAAAEAAAIAAQACAgADAAEAAQECAQABAAAAAQECAQEBAQAAAQAAAAAAAQEBAAAAAAEBAAAAAQUAAQECAQEAAgEBAQEAAAEAAAEBAAEAAAEAAAACAQABAQIBAAEBAgEAAAIBAAEBAgAAAQABAAAAAgEEAAMAAAAAAAABAQAAAgAAAAAAAgABAQEAAAABAgEAAQEAAgAAAwAAAAIAAAIAAgEAAQAAAQEDAgABAQIAAQAAAAABAAEBAAAAAQEBAgICAQAAAgAAAwABAAAAAQAAAAABAAEAAAEBAAACAgEAAAAAAAEBAAAAAAABAAABAgACAgABAAEBAAABAAABAAEBAAABAQMAAQABAAABAgABAQEBAgABAQAAAQAAAQECAAECAAECAAABAQACAQABAQAAAgIBAQABAgAAAAEAAAEBAAACAAIAAQAAAAIAAAEBAAACAQEBAAAAAAAAAQAAAAMBAgAAAQEDAgECAwABAAEAAQIDAQADAAIBAAEAAAABAAAAAQEBAAIAAAACAAEBAAABAgAAAAEAAwMAAAAAAAIBAAEAAAABBAACAgEBAAABAQAAAgAAAgEAAAABAAEBAAABAAEAAAABAQIBAgAAAQEAAAAAAQACAAABAgACAgAAAAABAQABAgAAAAAAAAAAAgICAAIBAAABAAAAAAABAAAAAgABAgEBAQABAAEAAQEAAAAAAAIBAAAAAAACAAAAAwEAAAIAAgEBAQEAAAAAAAAAAQEBAAABAAAAAQEAAAEBAAEAAAACAQABAAEBAQABAAABAQIDAQEBAQAAAAABAAAAAAIAAQEAAgEBAQEAAQECAQEBAAAAAAACAAABAQEBAQACAQADAgECAQEBAQEAAAEBAAABAQAAAwIBAQABAAEAAQACAAICAAABAAAAAAECAQMBAwEDAQAAAAACAQADAAAAAgEAAQIBAQEAAQABAQAAAQEAAQEBAQEBAQEAAAEDAAEBAAIAAAICAQQDAAEAAAAAAAADAAAAAQABAQAAAAMBAgEBAAABAAEAAAAAAAEBAAAAAQACAAIBAAACAgEAAQEAAAAAAQIBAQABAQAAAwECAAICAAEAAQEAAAABAAABAQAAAAAAAQEAAAEAAAAAAQEAAAAAAQECAAAAAQEAAQABAAAAAAEAAAEBAAAAAAEAAAAAAQAAAAEBAAABAAEBAAABAQAAAQEBAQEAAgAAAQAAAQICAQEBAAEAAQABAAEAAQAAAAEAAAEAAAEAAQIAAAEAAQACAAEBAQAAAwAAAQEAAAECAAAAAQIAAAABAAAAAQEBAgEBAQIAAgABAAAAAQABAAAAAAAAAAEBAAIAAAICAQIAAQAAAQEAAQEAAAECAAABAgABAAABAQICAAEAAAABAQABAQAAAgAAAAAAAAEAAAACAQECAQMAAQABAgEAAAIDAgEAAgACAQEAAAAAAAEAAAABAgAAAQACAAEAAAEBAAAAAQAAAgMAAAEAAAEBAQEAAwEAAgEAAAEAAQABAAEBAQABAAEAAQABAAAAAQICAQAAAAEAAAABAQICAgEBAAEAAAEAAQIBAAIAAQEBAQABAAABAgEAAQACAQABAQMCAAIBAQABAAAAAgAAAAABAAAAAQIBAAEBAQEAAAAAAAIAAAABAAAAAQABAQEAAQAAAgEAAgAAAAIAAwIAAAAAAQEBAQABAgECAAABAgAAAAEAAQEBAgABAAEBAQABAQIAAQABAAMBAAEBAAIBAAABAQEAAQIAAQAAAgAAAAAAAQEBAQABAAAAAAADAgABAAAAAAEBAAABAAAAAQAAAQACAAAAAAECAAEAAAABAQIDAQEAAwACAQAAAAABAAEBAgEBAAIAAQICAAEBAAIBAAEBAAEAAQABAQEAAQAAAQABAAEBAAEBAQACAAAAAQEAAAAAAgAAAAAAAgAAAAEBAQEAAAEAAAEBAAAAAQEBAAAAAQECAgECAwABAAMAAAAAAAEAAAABAgABAQAAAQEAAQAAAQABAAEAAAACAgAAAQEBAAACAgQAAAAAAAEDAQEAAQAAAAAAAQEBBQIAAgIBAQAAAQMCAAEBAAEAAAAAAgEAAgMAAQACAwABAAEAAAAAAAABAAAAAAEAAAABAgEAAAABAAADAgACAAAAAQIAAQEBAAABAAEAAgIDAAEAAAEBAAAAAgAABAEDAAACAAIBAAABAQEAAgEBAQABAAAAAQABAAEAAAACAAAAAQABAQEAAAACAQIAAQEBAAEAAQACAAEBAgEBAgACAQAAAQAAAAIBAQAAAAABAQAAAAEAAAIAAAECAAABAAEDAQEAAQABAQACAQAAAAEBAAAAAAEAAwABAAEBAAEBAAEBAAAAAAAAAQABAQIAAAABAAEBAAEBAQEAAAAAAQABAQACAAEBAAIBAAEAAAABAgAAAgAAAwEAAQABAQADAgMBAAAAAQABAQICAQAAAgABAgAAAAAAAQEBAAAAAAEAAQMAAQAAAAAAAAMAAAEAAgABAAAAAAIBAAAAAAAAAAEAAAABAgABAAACAQAAAgAAAQAAAQAAAgIAAgEBAQABAQEDAAAAAAABAQEAAQACAgIAAgAAAAACAgAAAAAAAAAAAQMBAAABAQECAAEBAAABAgEBAAAAAQMCAQIBAQAAAAABAgEDAAABAAABAQAAAgECAAAAAgABAAEAAAABAQEAAAEAAAAAAAIAAgAAAQIBAAACAgEDAAEBAQEAAAABAQEAAAIBAAACAQABAQABAAEAAgACAAAAAAAAAQIAAAABAAEDAAIAAAADAAEAAAEAAAAAAAEAAQEAAgECAAAAAAEAAAEBAgIBAAMCAQABAgICAAABAgAAAAAAAAECAQABAgEBAAABAQABAQEAAgEAAgEAAAAAAAEAAQAAAgACAwEBAAIBAAEBAAEAAQEAAAAAAQECAgAAAQEAAQIBAAEAAQAAAAECAAAAAAEAAAEAAQAAAAEAAQEAAQACAQAAAAABAAAAAgAAAQEBAAECAAAAAQIBAAABAgADAAEBAAAAAAEAAQAAAAIAAQEAAQECAQACAAEAAAAAAAACAAEDAgEBAAIBAQABAAADAAIBAAEAAAAAAAADAgEBAgABAQABAgEBAQEBAAACAAABAQABAQMBAAABAQAAAAEAAQADAgAAAAAAAQICAQEAAAEAAQABAgABAQEBAAAAAQEBAQECAQAAAAEBAAABAAMBAAAAAAEBAQACAAEAAAABAQEAAAABAgMAAQADAQEBAgAAAQABAQEBAAECAQAAAQEAAgAAAgABAgABAAEAAAIAAAAAAQAAAAIAAgAAAQEDAAAAAQEAAAABAQEBAQIBAAACAQMCAAABAgEAAAIAAAEAAgEBAQECAAIBAgMBAwEAAQABAQAAAAEBAQEAAQIBAAEAAQIAAAAAAgAAAQIAAAECAQAAAAIBAQABAAAAAQAAAQAAAAEBAQIAAgACAAAAAAABAQMAAgEAAAEAAAEAAQECAQABAAAAAAAAAAAAAgAAAAECAAAAAQABAQAAAAIBAAEBAAAAAAAAAAACAAAAAQAAAQAAAgAAAAABAQEAAQEAAAACAAIDAAEAAAAAAAEBAAEAAAEAAQEAAQABAAABAAABAQEAAQEBAAEBAAAAAAMAAAAAAAEBAQABAAAAAQEAAAEAAQIBAQABAAABAAAAAAAAAQIBAAABAAEBAAABAAEDAAABAAECAAIAAgAAAgECAAEBAAEAAQICAAMBAQECAQEBAAACAQABAQEAAQICAQAAAAABAQEAAQIBAQADAQIBAAABAQABAQIAAAABAAABAQAAAAMBAAEBAgAAAgECAQAAAAMAAAAAAQACAQICAQAAAAEBAAAAAAABAAEBAgEBAAAAAQAAAAABAQAAAAMDAAQAAAABAAIAAAEAAQABAQAAAAABAAIAAQACAAICAAEAAQEAAQAAAQEAAQEAAAAAAAEAAAAAAAEAAgEAAAEBAAIAAAAAAAICAgAAAAAAAAEAAAECAAAAAAAAAQAAAAABAAEAAQIBAAEBAgAAAQAAAAICAAABAAABAAEAAAAAAAEAAQIAAgABAQABAAAAAQEAAAAAAAAAAQAAAAACAgAAAgEAAQEBAAABAQIAAQICAgEBAAEBAAEAAAAAAAADAAABAQABAAEBAgIAAAAAAQACAAEAAQIBAgABBAAAAAEAAgECAAEAAQAAAQEAAgAAAAEAAAEAAAMBAAEAAAAAAwAAAQABAAAAAQAAAAIAAAABAAEBAAABAQEBAQAAAAACAQAAAQEAAQEAAAEAAAICAAACAAABAQEBAQABAQAAAAABAAEBAgEAAAAAAAEBAAEAAAEBAQIBAAEAAQECAQACAwEBAQIAAgABAAACAAABAgAAAQABAgEAAAIAAwEAAAEDAAABAQAAAAABAQABAAAAAAAAAAEBAAABAAADAAAAAAIBAAAAAQEAAAAAAQAAAAABAQABAAAAAAECAQIAAAEAAgABAQABAAAAAQAAAQEBAQECAAIBAgAAAQEAAAAAAgABAAABAQABAQICAgACAgMBAAABAAEAAQECAAICAAQAAQABAQABAQABAAEAAwEBAAACAAEBAAABAAIAAQIBAAEAAQACAQEAAAIAAQABAAAAAgIBAAAAAwEAAAAAAAEBAAAAAAAAAAQBAQEAAAEBAAABAQABAQABAAEBAQEAAQAAAQACAQAAAAAAAAEAAAMAAQQAAQAAAAEAAAACAAAAAAIBAAACAQAAAAIBAQECAQAAAQAAAQEBAAAAAgABAAEAAAIAAAECAgEEAQABAQMBAQEBAAABAAIBAAAAAAABAQAAAgMAAAABAAEAAQECAgABAAEAAAEAAAACAQIAAAABAAECAAABAQEBAQAAAQIAAAECAQEAAAIAAAECAAACAwMAAAEAAAAEAAABAQMCAAABAQABAAAAAQEBAAICAAABAAEBAgACAQEAAQEBAAEBAgIAAAEBAAAAAAAAAAEBAQEAAAEBAQABAAACAQEAAQIAAQEAAgAAAQEBAAABAQAAAQAAAAEAAAMBAgICAAIBAQIBAAABAAAAAgABAAAAAAAAAAABAQABAQABAgABAAEAAAEBAAIAAQECAAECAAABAQABAAAAAgAAAQEBAAAAAAEBAAEAAAIBAQIAAQEAAQAAAQEAAAEEAAEAAQABAAACAwEAAAACAAAAAQEAAQMAAAEBAQACAAEAAAABAQABAAAAAQIBAQAAAQAAAAAAAQABAAEBAwACAQMCAAAAAAEAAAAAAAABAQABAAEAAAAAAAABAAAAAQEBAQABAAAAAAEBAAEAAAABAQEAAQECAAICAQEBAQEBAwEAAQAAAAABAgAAAAEBAgABAQECAAEAAAEBAAABAQIAAAAAAQABAAAAAAEBAQAAAwEAAAABAQAAAQIAAAIBAAEBAAIAAQEAAgAAAQQAAAABAQEAAAEAAQAAAQEAAAAAAQABAAAAAAECAQAAAQEAAQECAAECAQABAgABAAEAAQACAAQCAAIDAAIAAAIAAQABAAIBAwAAAQIAAAECAgAAAAEAAAECAgIBAAAAAAIBAAQDAAABAAEBAAAAAAADAQEAAAACAAIAAAABAAABAQABAQABAQEBAQEBAAEAAQABAAACAAABAQAAAgEAAgACAAABAQECAQQAAAAAAAABAgABAgABAAEAAQABAAEBAAEBAQABAQAAAAEAAgECAAECAQEAAAAAAQABAAEAAAABAAEAAAABAQUAAQABAAEDAQAAAAMAAQAAAAEBAQAAAgEBAAAAAgQBAgABAQEBAAEAAQEBAAEBAQABAgAAAQEBAQEBAAAAAAAAAAAAAQAAAQABAAEAAAEBAQAAAQEAAAAAAAACAgECAAAAAAEBAAEAAgAAAQAAAAEBAAEAAQEBAgEBAwEAAQEAAAABAAEBAAADAAQAAAEAAgEBAgAAAAECAQABAQAAAQAAAQABAQAAAAAAAgAAAQEAAQEAAgEAAQAAAQACAQIAAQABAAEAAQABAAIAAAAAAAABAQEBAwABAAAAAAABAQIAAQEAAAIAAAABAQABAAEBAgEAAQAAAAEBAAEBAQIBAAAAAQAAAQEBAQACAQEBAAAAAAEAAQEAAgEBAAECAAABAAABAAABAgABAQIAAAEAAAEBAwABAQAAAAABAQEBAQEAAAEAAAEAAQAAAQQCAQACAAABAAIAAQACAAEAAgAAAAABAAAAAQEBAQEBAAEAAQABAQABAQIBAAAAAAEBAAAAAQEAAAAAAQIBAgADAAABAwEBAAEAAQEBAQABAQACAAAAAAECAQAAAQACAQABAAQAAAEAAQACAgAAAAEBAQAAAAABBAEAAAAAAQABAQAAAQAAAQABAQACAgEAAQADAgMAAAIAAQEBAQEBAAMAAQEAAwABAAAAAAIAAAIAAgMBAAIAAAEBAAQAAAEAAAAAAQECAAABAAEAAQAAAAAAAAEAAQACAAEBAAEAAQABAQAAAAAAAAABAgEBAAAAAAEAAgAAAQACAAEAAAEBAAAAAQAAAAICAAAAAAAAAQEAAAIAAAEBAQAAAQEBAwAAAQEAAAEAAAEAAgIBAAEAAQAAAQADAQIBAQEDAQEAAgEBAgIBBQIBAwEAAAIBAQIAAAEAAQABAAEAAgABAQECAAEBAgABAgABAAAAAQEBAgABAQAAAQEAAgIBAAIAAQACAAABAAEAAQAAAgIBAQAAAAEAAAABAQEAAgEAAAAAAAABAQAAAQMAAgEBAQAAAQABAAAAAAEAAAEAAQEBAQEAAAABAQADAQMBAAABAAABAQIAAgAAAQABAQEAAQEAAAIBAAABAAEBAAEAAwICAQAAAAEAAAAAAQAAAAABAQMAAAAAAQAAAAEAAgABAQAAAQEDAAUAAAABAQEBAAEAAQAAAAAAAAABAQEBAQABAAIAAAABAAABAQAAAAABAQAAAAABAAACAgAAAAIBAgEAAAECAQAAAAEBAQIAAQABAAAAAAEAAAEAAAIBAQEAAQAAAAABAAABAQEBAAECAAABAAEBAAIAAAABAAIBAQIBAAEAAQEBAAIAAAACAQABAAAAAQABAgIAAAAAAAABAQEBAQACAAEAAQEAAAABAAABAQEBAQAAAQACAAABAgECAAAAAQABAQACAQEAAAEAAAAAAAADAQEDAgAAAgICAAEDAQADAQIAAAEAAAAAAgEAAAABAQACAAACAQIBAAAAAAAAAAAAAAEBAAIBAAAAAQAAAAIAAAAAAAIAAAACAQEBAAACAQEAAQEAAQEAAQAAAgIBAQABAAIAAgAAAAIBAAIAAgEBAAEAAQIAAAIBAAABAgECAQIAAAEBAAACAAEBAAEBAQAAAgABAAAAAQECAQAAAAIAAAAAAAEAAQEAAQABAAAAAQEEAAABAAABAAADAAACAAABAQAAAAIAAAAAAAEBAAEDAQACAQEAAgEBAAIBAAAAAAAAAAEBAQEAAAAAAAAAAQEAAQIAAgAAAAEAAAEAAAEAAAEBAAEAAgABAAAAAQABAgAAAAEAAAABAAAAAQEBAgAAAQABAAIAAAACAgEAAQAAAQABAQEAAQAAAgEAAAEBAQEAAQAAAgACAAABAgACAAEAAQAAAQAAAQEAAQAAAQACAgAABAABAAAAAQEBAQAAAQABAQEDAAIBAAEAAgABAQAAAgAAAgEAAAEAAAAAAQAAAgECAAEAAAAAAAAAAAEDAAEBAQECAAAAAAAAAAAAAQABAAEAAAIAAAABAQEBAgABAAECAAECAQAAAAEAAQACAAACAAACAgABAAEBAQAAAQEAAgADAQICAAIAAwABAAABAAEBAQABAAECAQABAQACAgIAAQEAAQACAwEAAQABAAECAQMAAQIBAAEBAwIBAAEBAAAAAQEBAAABAQEBAQIAAQIBAQABAAABAQABAAAAAAIBAQEAAQADAAAAAQEAAAEBAAAAAQABAAEAAAEAAAAAAAABAQMCAAEBAQABAAABAAABAAABAQAAAAACAQAAAQIBAQEAAAACAAAAAQEAAgIAAQIAAQABAQABAAAAAQEBAAEAAgABAAABAAEAAAABAAIAAQEBAwABAQEAAQEAAAEAAgAAAQAAAAABAAEAAAEAAAEBAgMAAQIAAgAAAAIAAwABAAAAAAEBAAIAAAAAAQABAAIBAQEAAgEAAAEAAQMAAQABAQAAAQAAAQAAAgEDAAAAAgECAQABAAEAAQACAAAAAQEBAQACAAMAAAABAQACAwECAAAAAQAAAAEAAQACAgECAQIAAQAAAQIBAAIAAQEBAwEAAQEDAAECAAEAAAAAAAEBBAACBAAAAQECAAEBAAEBAQAAAQEAAAAAAAADAQEBAAACAAACAAADAAAAAgABAQEBAAAAAAEAAQAAAAABAAEBAQIBAQUBAAAAAQEBAQEAAAABAQEAAAMAAAABAQABAwAAAAIDAAEBAQABAAEBAAEBAgIAAQABAAEBAAEAAAABAAMAAgEAAgABAAACAQEAAAACAAECAAABAAABAwEAAAAAAAAAAAEAAgABAAABAAAAAQEAAAEAAQEAAAEAAgICAAEAAQEAAAACAAABAwECAgACAgEBBQIDAQMBAAABAAMDAwACAQAAAQIAAgECAQAAAAABAAIAAQACAAAAAAIAAAEAAQIAAAACAAEBAQEBAgAAAwADAAADAwAAAAIAAAAAAAEAAgABAgEAAAAAAAAAAAACAAEBAAAAAAACAQEBAQEAAgAAAAABAAAAAAIAAAABAQACAwAAAAAAAQAAAQEBAAABAwEBAAEAAgAAAAMBAAABAAMBAgAAAAECAAIBAAEAAAABAAIBAgACAQIAAAACAAEAAgACAAEBAQAEAgAAAQAAAAAAAAIAAAABAAIBAgEAAAEBAQABAAABAwACAgAAAQEAAQEAAQECAAIBAwACAgABAQEAAAEABAEAAgAAAAIAAgAAAAECAgEBAAAAAAEBAAAAAQABAQIBAQAAAAACAQEAAAABAAIAAAICAQMBAAEAAgEBAAEBAQEBAQIAAAEBAAEAAQMAAAAAAwAAAAEAAQIAAAAAAQAAAAABAQIAAQEAAAAAAAEAAAAAAQACAgABAQAAAwABAAEBAQABAQAAAAAAAQABAAMCAAACAQEBAAADAAEBAAACAAABAgIAAQACAAEAAAABAAABAAEBAQIBAQIBAQEAAgAAAAEAAAIBAAEAAAABAAABAAIAAAICAQADAAAAAgEAAQEAAQEBAAAAAgABAAAAAAEDAAABAAICAQEBAAEBAAABAAABAAIDAQEAAAAAAAIBAAAAAAIAAAAAAQIBAAMBAQIAAAACAQEAAQABAAIBAAMAAAACAAIAAAEEAAAAAAABAQECAAEAAgAAAQIBAAAAAgEAAQAAAQIAAAEBAAEAAAEBAAACAAAAAAAAAAABAAABAQECAAEAAQIAAAAAAQAAAQEBAQAAAQEBAAEAAAEAAAIAAAEAAAABAgACAQEBAgABAAAAAQABAgAAAAACAQAAAQABAAAAAQECAQAAAAICAAACAgAAAgEAAQABAQACAQAAAQIAAAABAQACAAAAAAABAQEAAgEEAQEAAQIBAQAAAAABAAABAgABAAAAAAABAAAAAQIBAQEAAAAAAAACAAEAAAAAAQMBAgEBAQEAAgACAAAAAQABAwECAAEAAAEAAAIAAQIAAQEBAAIBAAAAAAEBAAIBAQAAAAABAAEDAAIAAQAAAQAAAQEBAQEBAAEAAAEBAQAAAAIAAAEAAgACAQACAAECAQEBAAAAAwEBAAEAAAABAAEAAgADAAEAAQABAAEAAAEAAAMAAQAAAAEAAAABAAEBAAAAAAEBAAEAAQMDAAICAQIBAQAAAQABAQEBAQEAAQAAAQAAAQAAAQEBAAABAAMAAAABAgECAAABAQABAgABAQAAAwEAAQMBAgEBAQAAAAAAAQIAAAAAAQAAAAAAAAEAAgEAAwEBAAICAgABAQEBAAABAQICAgAAAQABAgAAAQAAAAEAAQABAQEBAAQAAQACAAAAAwQAAwABAAABAQAABAIBAAIAAQECAQAAAQEBAAAAAAABAQACAAAAAAEABAEBAQECAQMAAQIBAAEAAQACAQEBAgABAAEAAAABAAACAQEAAAIAAAAAAAEBAAACAAAAAAEBAAMAAAEBAAAAAAABAAEBAAEAAAAAAAEAAAECAAEAAQACAAECAAEBAAMCAAEAAQABAAECAAIAAgECAAEBAAABAQABAAEAAAEAAQEAAAMAAQAAAAAAAAABAAEAAQIAAgIBAAABAgECAgABAQEAAwEAAwACAAIAAQAAAQICAAEAAQAAAwEAAAAAAQEAAAEABAAAAgAAAgAAAQAAAgACAAEAAQECAAIAAAIBAQAAAAEAAQEAAAICAQEAAAAAAAAEAQAAAAEBAAIAAAAAAAAAAQEAAAABAQABAQABAQAAAAECAQEBAAIBAQAAAAABAQACAQIBAAAAAgAAAQACAQEAAAEAAAABAQEAAQAAAgACAAECAAEAAAIAAAABAAADAQIDAAAAAAABAQAAAAEAAQICAQIAAAEBAgAAAAIBAQAAAAACAAABAgMAAQAAAQEBAAABAQECAAEAAQEBAAABAgIBAgEAAAEBAAAAAgIBAQIBAgEAAAEBAAAAAAEAAAMAAgACAQAAAAACAAEAAAIAAQEBAQEBAAAAAgEBAAAAAQEAAQEBAAICAAAAAQEBAAEBAAAAAQAAAQIBAAEAAAEBAgEBAAABAAABAQABAQEAAQEAAAAAAAECAQABAQQAAAEBAQIAAAMAAAABAQECAQICAQAAAAEAAAIBAQAAAAACAAABAAEDAQEAAQAEAQAAAQABAQMBAQABAAEAAAABAAEAAAEAAAABAAABAQAAAgABAAEBAQABAAEAAAACAAEDAQEAAAEBAQIBAAEAAQEAAQACAQABAAAAAAAAAAIBAQEBAAABAgEAAAAAAAAAAAEAAAABAAAAAQAAAQEAAQEAAQACAQEAAAAAAAABAAADAAIAAQIBAgEAAgEAAAACAAABAgAAAQABAQABAQAAAAEBAwEAAgIAAAAAAQEBAQEAAQEAAAAAAQAAAQICAAICAQEBAAEBAAABAgEAAQAAAQEAAgAAAgMAAAABAAEBAAAAAgAAAAAAAAEBAAECAwAAAQEAAAEAAAEAAAMAAQEDAQEAAAEAAAABAQEBAAABAAIAAQAAAQAAAgABAwECAQEAAAEAAAEAAAEDAAEAAAAAAQEBAQAAAAABAAEBAgAAAAABAAEBAQEBAQEBAAECAAIBAAEAAAAAAQABAAABAAAAAAMAAQAAAQAAAAABAQAAAQABAQADAQEAAgIBAQAAAQABAAMBAAAAAAAAAAACAAABAAAAAAAAAAABAQABAgAAAAAAAAACAQACAAIBAAEAAAABAQEAAAIBAAICAAIBAQEAAQADAgAAAAAAAAIAAAIAAAEAAAABAAABAAACAQECAAAAAAECAQEBAAEBAwABAQEBAwABAAECAQADAQIAAAEAAAEDAQIAAAAAAAAAAAACAQEBAAABAAEAAAEBAAAAAQAAAQEAAAABAgAAAAACAAIAAQEAAAQBAQAAAgEAAAABAAAAAAEBAAIBAQIAAAIAAAECAAABAgIABAAAAgACAAACAQEAAAABAAEAAQADAQAAAAIBAAEAAQEAAgAAAgAAAgABAAABAgAAAQABAAAAAAEAAQEBAQIAAAAFAgABAQEAAAABAQECAAACAAEAAQEAAQABAAIBAAAAAQAAAAICAwABAQECAgABAAIAAAABAAAAAQIAAAIAAgEAAAAAAQAAAAIAAAABAQEAAQAAAAABAgABAAABAQAAAAABAAAAAAEAAAEAAQEBAQEAAgIAAQIAAAECAAEAAAEAAAUAAAAAAQMAAgAAAQEAAAABAQAAAAAAAAEBAAACAQECAAEAAAABAAAAAAAAAQACAQABAQEBAQAAAAABAQAAAQACAAABAgAAAwEAAQACAAABAAEAAgABAwABAQEAAAEBAQIAAQAAAAECAQABAQUAAQAAAAEAAAAAAAABAAAAAQAAAQIBAQECAQEBAQACAQAAAAEAAQAAAAACAgQBAAAAAQAAAAAAAAEAAQEAAgEBAQEBAAAAAQMBAAIAAQABAQACAQEBAQAAAAEAAAECAQIBAQEBAAIAAAEEAAIBAQIBAAAAAQABAAACAQEBAgEAAAABAAAAAAABAQEAAAEAAgAAAAAAAwEAAQEAAAABAQAAAgEBAAIAAAAAAAAAAAAAAQEAAQEBAAECAQAAAAAAAAEBAAAAAQEAAgEBAwABAAEBAgEAAQAAAAMAAAIAAAEBAAMBAAAAAQACAAACAAABAAAAAQICBAQAAQAAAAAAAAABAQAAAAADAQIAAAAAAAABAAECAAEBAQABAAABAAEAAAIBAAAAAQIBAAEAAQAAAAEBAAAAAgEAAAACAgIBAAEAAAEBAAEAAAEAAAADAAIBAAABAQIBAAAAAAEBAQECAAECAwEBAQABAQAAAwACAAEBAAABAQEBAQMCAQAAAQIBAAAAAAACAgAAAQEBAAEBAQAAAQABAgIBAQABAgEAAAABAAAAAgABAwMAAQABAAICAAABAAABAAAAAAAAAAAAAQECAAEAAQEBAAIAAAABAAEAAAEAAAICAgABAAABAAAAAQAAAQEAAAICAAABAQIBAAACAAAAAwAAAgAAAAABAAABAQEAAgEBAQABAQEBAAIBAAEAAQIAAAEAAgACAAACAAEAAQABAAACAgEBBAEAAAEBAAACAAEAAAEAAAEBAQEBAgMBAQIBAAEDAAAAAAIBAQAAAgEDAQECAAEBAAAAAAABAAIBAAEAAAEBAAEBAgIDAQIBAAEAAAAAAQABAAIBAAABAAIBAAEAAQAAAQABAAECAQEAAgQCAAIAAAEAAAABAAIAAAAAAwABAAAAAgABAQICAgEAAQEBAgABAgABAQEAAAIAAQAAAQEAAQAAAAEBBAABAAECAQAAAQABAQABAQAAAQAAAAECAwMAAgIBAAABAAIBAgAAAAIBAgABAQABAAAAAAEAAQAAAQEBAQABAQECAAABAAABAAEBAAEAAQAAAQABAQAAAgEAAAEAAQIBAAACAAABAAEBAAAAAAAAAQABAAAAAAADAAABAQAAAAAAAgABAQIAAAAAAAEAAQEBAgABAgACAQABAQABAAICAAEAAQEAAQAAAQAAAQABAQAAAAAAAQEBAAAAAQEBAAIAAQAAAgIAAAAAAAEBAgMCAAABAQEAAAEBAAEBAQABAAAAAAAAAgACAQEAAQEBAgIAAQAAAAEAAQAAAQMBAQABAQMBAAEBAQIBAAABAQAAAAABAgEAAAEAAAABAAACAgAAAAECAQEBAAEAAAAAAQEBAQABAAAAAAAAAAABAQIAAAMBAAAAAAEDAAIAAAADAQAAAAEAAAABAQAAAQAAAAEAAQAAAAADAAADAQIAAAEAAgADAAEBAQABAAEAAQAAAQABAQAAAAEBAAABAQACAQAAAQAAAAEBAAACAQECAQEAAgEAAQAAAAEBAQAAAAEAAAABAgIBAQABAQEBAAEBAAIAAQEDAgEAAQABAAABAQAAAAEAAAABAgAAAAEBAQEDAgAAAAAAAAAAAQAAAQEBAAAAAAACAAAAAQEBAQEBAgMBAAABAAAAAAABAAACAAAAAAEAAQAAAAEAAAMBAAACAAAAAgABAQMBAAEAAAAAAAEAAQEAAQMAAgABAQABAQAAAAABAAAAAAEAAAACAAEAAAAAAgABAAIBAQECAAACAwAAAAIBAQEAAAAAAQEBAAMAAgEAAAEBAAIBAAIAAAMAAQAAAAABAAABAwACAAABAAEAAAEBAAIBAgICAAEAAAEBAAEAAQEAAgEAAAAAAQAAAgIAAAABAQAAAAMBAAAAAQABAAQBAAAAAgIDAAEAAAAAAQECAgABAAABAAAAAQEBAAABAAAAAQEAAQEAAQAAAQEAAAEBAAABAQEAAQEAAQAAAAABAAEAAAIAAAEAAAEAAAECAgAAAQAAAAAAAAAAAgAAAQAAAQAAAQABAQEBAAEAAAEAAAAAAQEAAAACAQAAAAABAAEBAAMBAQIAAQEAAAABAQEAAAAAAAAAAgEBAAIBAQEAAAAABAACAAAAAAAAAAABAQEAAgEAAgAAAAAAAgABAAEBAAEAAAIAAAEAAQEAAQIAAAAAAAIBAAAAAAACAQEAAAAAAgMBAAIAAQEAAQIAAAEBAQACAAADAAAAAgAAAAEAAQABAAMBAQABAAAAAQEBAAABAQAAAwADAAEAAQABAgIBAAIAAAABAQEAAQAAAgABAAEAAQAAAAEBAQABAAAAAAECAAAAAAEAAAIAAAEBAAABAQAAAAACAAAAAQACAAEBAAAAAgAAAQIAAQAAAQAAAQACAQEBAAACAwECAQEBAAMBAQMAAgABAQADAAEAAAAAAAEAAAEAAQAAAAAAAgACAAEAAAABAAIAAAEBAQACAAIAAAABAQEBAAABAAABAgEBAgABAgABAAEAAAIAAQAAAAAAAAEBAAACAQACAQMCAQAAAgABAQAAAQABAQEBAQAAAgAAAAABAAABAgAAAAAAAAAAAQAAAQMAAAEBAAEBAQEAAAABAQEAAQECAAMBAAACAQACAQICAQEAAQABAAAAAAAAAgABAgABAgAAAAEAAAAAAAEAAAAAAgABAAAAAAIAAgAAAAADAgICAAIBAQEBAAAAAAABAAIBAQAAAQAAAAAAAQIAAAIBAAAAAgAAAAABAAIAAAEAAAEAAAAAAAEAAQABAgABBAEAAQAAAAABAQEAAQABAgABAAEBAAAAAQMAAQADAAIBAQABAQEAAQMAAQABAAEBAQABAQEAAAACAQABAAEAAAIDAQEBAwAAAQEAAQAAAAMBAQEAAAEAAAEBAQEAAQIBAAEBAQAAAAAAAAMAAAIBAgAAAAABAAEAAAAAAAEDAAMBAQAAAAABAgAAAAAAAAAAAAEAAAEBAAAAAwABAAABAAACAgEAAAAAAQEBAQECAgMAAQACAAABAAEAAQABAAAAAAABAAEDAAEAAQABAgAAAQEBAQEAAAAAAQAAAQEBAQEAAgEBAAEBAAABAAICAAEAAQEAAQECAQAAAQAAAAEAAAAAAAABAAIAAQAAAQEAAwACAQEAAQABAQAAAAECAAEAAQEBAAEBAAEBAAABAAABAAEAAQIAAQEAAgABAAEAAgABAwAAAAABAQECAQAAAAAAAQACAAEAAAECAAACAQECAAACAgACAAAAAAACAAAAAQAAAAABAAEBAQABAAEBAAEBAQEBAQEAAAMAAAAAAAEBAgAAAQEBAQACAAABAAABAAAAAAAAAAEBAAEBAAAAAAECAAAAAQEBAAEAAAIAAAAAAAABAAAAAQEAAAEAAAMAAAEAAAAAAQEAAQEBAAACAQEBAQEAAQAAAAABAAEBAAABAAABAQEAAQABAQEAAAEAAgAAAAABAAIAAAAAAQACAAAAAgAAAAMAAQAAAAAAAAEBAQECAAIBAAABAgACAQIBAAECAQEAAAEAAQEAAQEBAgEBAAAAAAACAAIBAAIAAQIBAAEAAgAAAQAAAQABAAIAAAAAAQEBAgAAAAEAAAEAAQEAAQICAAAAAQAAAQABAAACAAABAQADAAABAQEAAAABAgEAAQEAAAACAAEAAAABAAEAAQAAAAEBAAIAAAAAAQMCAAIAAAACAAAAAAAAAAAAAgAAAQAAAQIAAAEBAAECAQEAAQIAAAIBAAAAAQEAAQEDAAAAAQACAAEAAQIBAAEAAAAAAAAAAAABAQAAAQEBAAABAAEAAAACAAAEAgIAAAAAAAABAQEAAAABAAEBAAAAAgABAAAAAAEAAAABAQEAAAAAAQACAAABAQABAAAAAQEAAAEAAAEAAAICBAAAAAAAAAABAgICAAECAQAAAAIAAQABAQAAAQIAAAABAAIAAQECAAADAAEBAAABAQAAAAAAAAACAAECAAACAAAAAQEAAQABAQABAAEBAQIAAAAAAQABAAAAAQEBAwABAQIAAAABAQMCAAEBAAEAAQACAAABAQQAAgEBAAEAAQAAAAABAAEBAAABAAABAAABAAABAwAAAQECAQEAAAEBAAMBAQEBAQEAAAAAAgQBAQIBAQIBAgEAAQAAAQIAAQABAQEBAAAAAgABAAIBAgABAAABAgEBAAECAQADAQABAAABAAEAAQAAAAEAAAEBAAABAAAAAAEBAQABAQAAAAEBAAEBAAEAAAAAAQAAAgIAAQAAAQAAAAEBAAACAAAAAgAAAgEDAAABAgIBAAIAAAEAAAABAQEAAAABAwACAAECAQACAAAAAQECAAACAgABAQEAAQEAAQEAAAEAAAIBAQAAAAEAAgEAAAEAAAAAAQAAAAEAAgAAAAECAAABAAEBAQABAQAAAAIBAAAAAgAAAgIBAAECAAEAAAEAAAEAAAACAQAAAQABAAAAAAEAAAIAAQAAAwABAAAAAAAAAAAAAAABAAAAAQQAAwIAAAAAAAEAAAABAAABAAEAAgAEAAAAAAIBAAEBAgACAQAAAQAAAQABAAIBAAEAAQAAAAAAAQAAAQAAAAEBAQABAAABAAABAAAAAgABAgEAAAAAAQEAAAACAQEAAQEBAAAAAgAAAQIAAAEBAAIAAAAAAAEAAQAAAAAAAAABAQIAAQEBAgIAAQEDBAEAAAABAQECAQAAAQEBAAEDAAECAQEBAQEBAAIAAQAAAAABAQEAAAABAAAAAAACAAABAAABAQAAAQABAQABAgABAQAAAQABAQAAAAEAAAEAAAIAAwAAAAAAAwACAAABAAEAAQAAAAAAAQMAAAEBAQAAAAECAAIAAAABAQAAAQABAAEAAQIAAAMCAQIAAgEAAgEBAAAAAAACAAMDAAIBAQABAAABAAEBAQECAAECAgEAAgADAgEAAAAAAAABAwAAAAMAAAACAQECAAAAAAIBAAQCAAAAAQIAAQEAAQEBAgEBAAEAAAAAAgAAAAECAAEAAQEAAQAAAAEBAAAABAAAAQEAAAIAAQEAAAEAAQIBAAIBAQAAAAIBAgAAAAAAAAECAAAAAQIBAQACAAABAAEAAQIAAgABAAEBAAEAAAABAAABAQEAAAAAAAMAAAABAQIBAQABAAACAQEBAQABAAABAAAAAgIAAQABAAAAAQACAQAAAQEBAAACAAAAAQEAAQEAAAAAAQEBAQEAAgIAAAIDAgAAAAEBAQAAAQAAAwAAAAABAAEAAAECAAABAwAAAAIAAAAAAQIBAQEAAgAAAQACAQABAQABAQABAQICAQABAQAAAAAAAAEDAgEAAAEBAAEAAAAAAAIBAQEAAAAAAAEAAQEBAAEAAQAAAQEBAwAAAgABAAUDAAEBAgIBAAAAAAEAAQAAAQEBAAEAAAAAAAIAAAAAAQABAQABAAABAAEAAgABAAABAAACAQEAAAAAAAEAAAAAAAAAAQICAAEAAgAAAQIAAAAAAgABAQIAAQABAQIAAQEBAQAAAQABAQAAAAAAAQEBAgMBAAABAAEBAQEAAAAAAAEAAQECAQEAAAAAAwABAQAAAgICAQEAAAAAAAAAAAAAAQAEAwEAAQEAAgAAAQABAAIAAAAAAQECAgAAAgABAAEAAAIBAQAAAAEBAAIAAAABAAAAAAEAAQMBAgECAAEBAQABAAABAAIAAAAAAgIAAgEBAAABAwIBAAABAgABAgAAAAEAAAEAAAAAAQEAAAABAQAAAAEAAAACAQABAAEAAAAAAAAAAAECAAACAAAAAQABAAEAAAABAgABAAIAAAIBAQEBAAEAAAABAgEAAAEAAAEAAAAAAAACAAECAAIAAQAAAQACAQEBAQAAAAEAAQABAAAAAQABAQAAAwEAAAEBAgAAAAMAAAIAAQAAAAACAgMBAQAAAAADAAACAAAAAAABAQEBAgAAAAIBAwIAAgACAQIAAAAAAQABAAEAAgEAAAEAAAMAAQABAQEAAAECAQAAAAAAAQAAAgACAAEAAgAAAAAAAQABAAABAAACAQIAAQAAAAAAAAAAAgAAAAABAAACAAAAAQABAQAAAAEEAgEBAwEBAgABAAECAAIAAwEDAQABAAABAAEAAQEAAgAAAAAAAAEBAgABAQEBAQEAAgABAAAAAAIAAQEAAAACAQAAAQEBAgABAAABAQAAAAMCAAAAAAACAQECAQAAAAIBAAIBAAEBAQAAAAABAAECAAEAAQAAAAABAgAAAwEBAgEAAAEBAQEDAQEBAQAAAQECAQEBAQAAAQABAAAAAgABAAAAAAABAAEAAAIAAAIBAQEBAQAAAwABAAAAAQAEAAABAgAAAAEAAAAAAAABAAIAAQABAAAAAQIBAAAAAgABAQAAAAEAAAAAAAECAQEBAQAAAAIBAAEAAAAAAQAAAAABAAIAAAEAAAEAAQEBAQEAAgABAgAAAQEAAQACAQMBAQIBAQEBAQABAgIAAAEBAAAAAAAAAgEBAAICAAEAAAAAAAEBAgAAAQEBAQABAQACAAEAAgAAAQEBAAAAAAAAAQAAAAACAQAAAAEAAAECAAIBAAABAAAAAQABAAEAAAIAAQUAAQEAAQEAAgIBAAAAAAEBAgAAAAEBAAEAAAAAAwAAAgEAAAAAAgEAAAACAAACAAAAAQIAAAECAAAAAAAAAQEAAAAAAAAAAAABAAEBAQEAAQEBAQEAAAEAAAAAAAABAQEBAAIBAgAAAgAAAAABAgIBAgEAAQEBAQABAAAAAAAAAAAAAQIAAQAAAgABAwAAAQAAAAEAAQAAAQMCAQAAAgECAAABAQAAAQAAAQEBAgMAAgAAAAIBAgEAAQABAAEBAgAAAQEBAwEBAwABAgICAQAAAgABAAEBAAABAAAAAQIBAQAAAAAAAQAAAgEBAAEBAAEDAAEBAAAAAAEBAAECAAAAAgEAAQECAAAAAgABAQIBAQAAAAIAAgEAAQABAQEAAAIAAAEAAAACAAIAAQAAAQEAAAAAAAIAAAIAAAABAQACAAEBAAIBAAEBAwACAAEBAQECAwEAAAAAAAEAAQABAQIAAQEDAgEAAAEAAQAAAQABAAEBAAICAAEAAAEAAAIAAAEAAQABAgIAAAABAAIBAQAAAAABAAIAAQAAAAAAAgABAAACAAAAAAABAgEBAQEAAAAAAgAAAAABAAAAAgABAAAAAAEAAAAAAQEBAAAAAQAAAQAAAAABAQAAAQIAAAECAAAAAQACAAEAAgAAAAAAAQAAAAABAAEAAQEBAQEBAQEAAAEBAwAAAQEBAQEBAQICAAABAAABAAAAAQECAgEAAgEBAwAAAAAAAQEAAAEBAwAAAQACAAABAQAAAQIAAAAAAQEBAgIAAAEAAQACAgEBAgICAgABAQABAQEAAAEAAQAAAAABAAIAAQIBAQEBAAAAAQABAQAAAQEBAQIAAAAAAgIBAwACAQEAAAEDAgACAAIAAAIBAAEAAAEBAAEBAgEAAAEBAQIAAAICAQEBAQAAAAAAAQICAAECAAEBAQAAAAAAAQAAAAEAAAACAQMAAQAAAAABAQABAgABAQEBAAEAAAEAAgIBAwAAAQADAQADAAIBAQMAAQEAAQECAgABAgABAAAAAQIAAAEBAQEBAAAAAgAAAAEBAwEAAgEAAAAAAAAAAAEBAQAAAgABAAIAAAEAAAIAAAIAAQEBAgMAAAIBAAAAAgIAAAEAAAAAAgAAAQAAAQAAAAICAwIAAQAAAAEDAAABAAAAAAACAAAAAQAAAQABAAABAAEBAAAAAQABAAAAAAEBAAAAAgAAAQEAAAIAAAAAAAAAAAEAAAEBAAAAAAEAAQAAAAEBAQEBAAAAAQEDAwEBAAABAQEAAQEAAQEAAAAABQAAAAEAAAABAAQAAAACAAEAAAEAAAABAQAAAAICAQEAAQABAAACAAEAAAECAAABAgEAAAABAwABAgAAAAABAQIAAgICAQEAAQAAAAACAAABAgAAAAEBAAEBAAABAAMBAAABAAUAAQEBAAAAAwEBAAACAAECAAECAQABAAEAAQACAAABAQEAAAABAQEAAgEBAwECAQIBAQMBAAAAAgEBAgADAQEAAQIBAgABAQAAAAEAAgECAQIAAAIAAgMAAgIBAAEAAQABAAEAAQAAAgIAAAEBAQAAAQEBAAABAQMBAAEBAgIBAgEAAQABAQABAAAAAAIBAAEAAgABAAAAAAECAAEAAQEBAQEBAgAAAQEBAAABAQECAAABAAABAQABAgABAAEAAgECAAABAAEAAQAAAQEAAQABAAAAAQAAAQADAAAEAQEDAQAAAAABAAEBAQEAAAEBAQAAAAAAAQIBAAIAAAEBAAEEAAEAAAMCAgAAAQEBAAECAAEAAgAAAAABAQAAAQQBAQEBAQABAAACAAAAAAIAAQAAAwEAAQAAAgAAAwEAAgAAAAIBAQEAAAEAAAAAAAACAAEAAgIBAgAAAAACAQEAAgEAAgEBAQMBAAAAAQABAQAAAQABAQAAAQEAAAABAAICAQEDAQABAQEAAQIAAQEAAQAAAAEAAQABAQECAQABAQEBAQEBAAACAQAAAgEBAAEBAAAAAQABAAIBAQICAgAAAgAAAAEAAQEBAQEBAQAAAQIBAQIAAQABAAIBAAABAAEBAQACAQABAQEAAQEAAQEBAgIAAAAAAQEAAAAAAAIBBAEBAAAAAwMBAQAAAAAAAAEBAQECAgEAAAEBAAABAQABAAEBAAABAAABAgABAQIBAAAAAAABAAAAAQEAAAEAAgEAAAAAAQEAAQABAAABAAABAQEAAQEAAgEBAAECAAIBAQAAAAIAAAABAAMAAQABAQAAAQEBAAIAAQECAQEAAAEAAQEAAAECAAABAAAAAAEBAAAAAQIAAQAAAAAAAQEBAAABAgABAAIBAQECAAIAAgAAAQECAAIAAQAAAQIBAAAAAAABAQEBAgAAAQAAAAIBAAABAAABAAABAAEBAQAAAQQBAAABAAECAwABAAEBAQABAQAAAAAAAAACAQEAAQIBAQEAAAEBAQEAAAABAAAAAAEAAAABAQECAAEAAQEAAAABAAAAAAEAAQAAAQEDAAIAAgACAAABAAEAAAECAQEAAQQAAQEBAAEAAAEAAQAAAQADAAEAAQAAAAIDAQABAQECAgEAAAECAQECAAABAQECAAABAQEAAgIAAAEBAgIAAgAAAQAAAQEAAgAAAAABAAAAAQABAAEAAAEBAQICAAEDAAIBAAEBAAIBAgABAgMCAAABAAAAAAAAAAMAAQEAAQEBAwABAAEBAAIAAAICBAEAAAABAAEAAAABAQAAAAABAAIBAAIBAwAAAAAAAgEBAQIBAQAAAgEAAQEBAAMBAQAAAQAAAQIAAgAAAAAAAAEBAgEAAAAAAAABAAAAAQECAAACAQAAAAIBAAEAAQEAAAAAAgEAAQEAAQABAAABAQEAAQAAAAEAAAAAAAECAQEAAQAAAAEBAAEAAAEBAAIBAQABAgAAAQACAwABAAABAgACAQAAAAEAAAABAQAAAAEAAAEBAAAAAQADAgAAAAEAAAACAQAEAAEAAQAAAgIAAQABAAEBAAIAAAABAAABAAAAAAEBAQEBAAIAAAEAAQEAAQEBAQADAQIBAQEBAgAAAAEAAQEAAQEBAgEAAQEBAgEBAAMAAAABAQEAAQAAAAAAAAECAQEAAAEBAAAAAQAAAAACAAMAAQMBAQEAAQACAgIAAgIAAwEAAgAAAAEAAQMBAAAAAQAAAAIBAAABAQAAAQABAQEBAAEBAAABAAAAAAIBAQEAAAABAQEAAAAAAAACAAEDAAIBAQAAAAAAAgEBAwAAAgAAAgEBBQAAAgEAAAADAAACAQICAAAAAQAAAAIAAAAAAAAAAgAAAAAAAAIAAgEAAAEAAQABAAADAQABAQEAAAIAAQEAAQEBAAAAAQAAAAEBAQEAAAACAAAAAQABAQABAgEAAQABAAECAQEAAgAAAQABAgEAAQABAQAAAgABAQABAAAAAAEAAAAAAAIAAAIBAAIBAgABAAEBAQMBAAMCAAIBAAIAAwAAAAEAAAAAAQEAAAEAAAAAAgEAAgEBAQACAAAAAQABAAAAAAIAAAEBAQAAAAAAAAEBAQECAAIBAQAAAAABAQEBAQAAAgACAgABAAAAAQACAAEAAAABAAAAAAABAAAAAQEBAAAAAQEAAQABAAABAQAAAAABAQAAAAEAAwAAAAIBAAAAAAABAAEBAQIBAAEAAQEAAgAAAAEAAAABAAAAAAIAAAEAAAAAAQEAAAEABAEAAQAAAQABAgEAAAACAAAAAAEBAAAABAAAAQEBAQABAQIAAAEBAAAAAAABAQIBAAAAAQAAAgABAAAAAgEAAQABAAABAAABAAIAAQEAAAEBAAEAAAAAAQEBAAAAAAIAAAEAAAAAAQMAAgECAAACAQEAAQAAAAIBAQAAAQAAAQECAQEBAAABAgEAAAEAAQABAQAAAAEAAQEBAAEAAAEBAQIAAQIBAQAAAAAAAQAAAQAAAQABAAAAAAEBAQABAAABAAEBAgABAQAAAAABAAACAwEBAgEAAAEBAAECAQAAAAEBAAEBAAMAAAAAAQAAAQECAQABAQAAAAEBAAAAAAEBAgABAAAAAgMCAQIAAAABAgEAAAMBAAABAAABAAICAAEAAQACAAEAAgABAAEDAgABAAEBAQABAQAAAAAAAgEBAQABAQICAQEAAAADAAABAAIBAQAAAAAAAAEAAAIAAAEBAQEAAAADAAEAAgEAAAACAQAAAAABAgAAAAAAAgEBAAEAAAIAAAABAAAAAAIBAQAAAAABAQIAAAEAAQAAAQIAAAEBAgEAAgEAAAEBAAEBAQEAAAEAAQIBAAEAAgAAAAIBAAEAAgACAQIAAQABAQMAAAEAAQAAAAAABAIBAAAAAQAAAgAAAgEAAQAAAAECAAEBAQECAAICAQEBAAAAAAABAAEAAAAAAQEAAAIAAQMAAAEAAQAAAAEAAQACAAEBAQABAQABAAECAQAAAgAAAAEAAAAAAQEAAAEAAQABAAEAAAIBAAECAAICAAEAAgEAAQEAAQAAAAEAAAECAAEBAAMAAgECAAECAAECAgEAAQICAgADAgEBAAABAAAAAQEAAAEAAQABAAAAAQAAAAEBAAABAgECAAECAAABAAAAAAABAQIBAQEFAAABAAABAQABAQABAAACAAQAAQEBAQAAAQEBAAACAQACAAABAAAAAwEAAQIBAgAAAgEDAQEAAAEAAAICAgABAAEAAQECAQAAAQEAAQEAAAAAAAABAAAAAAEBAAEAAAABAgEAAAAAAAAAAAMAAQAAAgAAAQEAAAAAAgABAgAAAAEAAQECAAAAAAAAAQACAAACAAACAAAAAAAAAAEAAgACAAAAAQAAAAEAAAECAAADAAAAAQEAAAEAAQEBAQMCAAEBAAAAAgEAAQECAgAAAAAAAAABAQAAAAIBAQAAAgEAAAABAAAAAwIAAAEAAAEBAAEBAAEBAAABAAACAAEAAAEBAAAAAgEAAAABAAEAAAADAAABAQEAAAIAAAABAAAAAAAAAQECAAAAAQEAAAABAgEBAAAAAQEAAQAAAAACAQEAAwIBAQEBAgECAAEAAQIAAgECAQAAAAAAAgEBAQAEAAABAQEEAAABAAAAAQIBAAABAAIAAAEAAQEBAAIBAQACAAIAAAIBAAABAQABAAAAAwEAAAABAAABAAAAAQACAQEAAQEAAAABAAAAAAEBAAABAQEAAQEAAgABAgEAAAEBAAEAAAABAAAAAQEDAQEBAQMBAQACAQAAAQEAAAABAAAAAAACAQEAAQEAAgACAQAAAQADAQAAAwAAAgAAAQEAAAABAQABAAAAAQEBAAEAAAAAAAAAAQEBAwIBAAABAAIBAQAAAAABAwAAAwAAAQABAQEAAAABAAABAAMAAwEBAAABAAEBAgACAgECAQABAwACAQEAAQIAAAECAgACAAABAQABAAEBAAAAAQABAQABAQAAAAABAQEAAAEAAAEAAQEDAAIBAAEBAAABAQAAAgIAAAABAQACAAAAAQAEAAAABAABAAAAAgAAAAABAAEBAAEAAQACAAAAAAMAAQAAAAACAQEAAQEAAAAAAAABAAEAAAACAAABAAABAgECAAEAAQABAAABAAEAAgEBAAAAAAEAAAAAAQECAQIBAQAAAAEAAAEAAQAAAgECAQACAgEBAAABAAEAAQABAAAAAAIAAAIBAAAAAAABAQEAAAEDAAABAQEAAQEAAQAAAgAAAAABAgABAAEAAAACAQAAAQEBAgAAAQABAAAAAwIAAQIAAQECAQAAAQAAAgEAAAEBAAABAQIDAQEAAQAAAQEAAgAAAQAAAAAAAAABAQABAAEAAAEAAgAAAQABAQEBAQIBAAEBAAIAAQEBAAEAAgEAAQIBAgAAAQAAAAAAAAIAAAIAAQAAAgABAQEBAAACAgEBAQECAAEAAAEBAAMAAQEBAAEAAAEAAQEAAAICAgABAgEAAAIDAQAAAAEAAAEBAAABAAAAAQEBAAECAAEBAgIAAAAAAAEAAgABAgAAAAEAAAIAAgABAAAAAAEAAQAAAAABAQEAAAEAAAEAAgICAQMAAAAAAQAAAQEAAAABAAAAAAEDAAEBAAIBAgAAAQAAAAMCAAAAAAABAAEDAgECAQAAAAABAwACAAACAQABAQEAAgABAAMBAAAAAAMAAAABAAAAAQEBAAEAAAIAAAEAAAABAQAAAAABAQAAAAEAAAAAAQAAAAEAAQABAAIBAAIBAQICAAAAAgEBAAAAAAMCAgMAAAACAAEAAQAAAgECAQABAQEAAAAAAQAAAQEBAQAAAAAAAAAAAAEAAAABAAEBAAAAAAEAAAEBAQEAAQIBAAIBAAAAAQEAAAAAAAABAAAAAAECAQACAAAAAAAAAAAAAAIBAQADAQAAAAACAAACAAICAgIDAgEAAAABAQEAAQACAAABAAEBAQABAAAAAAAAAAIBAQEAAAECAQEAAQACAAEBAQABAQAAAgICAgEAAAABAAAAAAEAAQEAAQEAAAEAAAEBAAAAAAABAAEBAAABAAAAAQEAAAEAAQACAQMAAAIAAgIDAAAAAAECAAAAAgABAQQAAAEAAQECAAAAAAEAAAAAAAEAAQAAAAAAAgABAAEAAAEDAgIAAAEAAAAAAgQAAAACAQAAAgMAAAMAAgEAAAABAAECAAEAAQABAwAAAAABAgMDAQECAQEAAQEAAAADAQABAAAAAgEAAQEBAAABAQICAAECAgECAgABAAAAAAAAAwEAAAEBAAABAAIBAQEAAAECAAIAAgAAAgAAAQABAgACAAEAAgAAAwABAAEBAgAAAAEBAAABAAAAAQEAAgMAAAACAAACAAEBAQAAAAAAAQAAAQIAAQEAAgABAQABAAEBAAAAAQAAAQABAAEBAAEAAQABAQAAAAABAQAAAAECAAIAAAEBAQEBAgIAAQICAQAAAQACAAABAAEAAQAAAQAAAgECAAEAAAABAQAAAQAAAQAABAEBAAAAAwEAAAEBAQABAAABBAAAAAABAAACAQABAAAAAQAAAQAAAAACAgEDAgABAgEBAgEDAQEAAQEAAAIBAAMAAQEAAAEBAAAAAAABAgABAwEDAgECAQECAAABAAAAAQEAAAACAAIBAAIAAgIAAQABAAEBAAABAAAAAAEBAAEBAwMAAAAAAQEAAAEBAAABAQABAAEAAQABAQIBAAEAAAEAAQABAAIBAAABAAECAgIAAgABAAABAgADAAAAAQABAAEBAgEBAwAAAQAAAAACAAMBAQAAAQAAAAEAAQABAQECAAABAQECAQEAAAEAAAAAAQEBAAEBAQIDAAADAAEAAQAAAQICAAAAAQABAQAAAQIAAAABAQABAQEAAAABAAABAgEAAQABAQAAAAUAAAEAAAABAAAAAwIBAAAAAAIAAAAAAAAAAgAAAAAAAgAAAAAAAAEAAAACAgEBAAAAAAABAAEBAAAAAQEBAAECAAMAAgAAAgEAAgEAAQACAAEAAAEBAAABAQAAAAABAQAAAAABAAABAAAAAAACAQABAwEBAAIBAAEBAQEDAQAAAQAAAAAAAQAAAAAAAQEBAgEAAQABAQABAQEBAAECAAAAAAABAwECAQIAAQAAAQAAAgABAQEAAgAAAAAAAAEBAgABAAACAAAAAgABAAEAAAMDAAABAwABAgIBAAABAAADAAEAAAIBAQAAAQAAAAEAAQAAAgADAQEAAAEBAAABAQAAAAIAAQACAAEAAQEAAgAAAQABAAEAAgEBAgEAAgEBAgEBAQABAAEBAAEAAQEBAgABAQEAAQICAAAAAAMBAQEAAQACAgMCAAEBAAICAAIAAAAAAQIBAAEBAgABAgEBAAEBAQAAAQAABAAAAAIAAAAAAQECAQEBAQEAAAABAAEBAAAAAAEAAAEAAAAAAAEAAQEAAAAAAQABAQABAgAAAAIAAQAAAAAAAAICAAECAAABAQAAAAAAAAIBAAABAQAAAAABAQEAAQAAAAABAQEBAQEAAAABAAAAAgAAAwADAAMAAAEBAAABAgMCAAIAAQAAAQAAAAACAAIBAAAAAAACAgEBAgEAAQAAAAEBAAAAAAIBAgADAQAAAAABAAAAAAEBAQABAQEAAAEAAAABAQAAAAEAAAABAAMBAgEAAAACAQAAAQEAAAEBAgECAAABAAECAAAAAAABAAEAAQIAAAABAAACAAEBAAECAAAAAAAAAAAAAQAAAQAAAAABAAEBAAAAAAABAgABAAAAAAEAAQIBAQAAAAAAAQABAAAAAQIBAAAAAAIAAQEBAQEBAAACAAABAAIAAgAAAAEBAAAAAAEBAAABAwEAAQIBAQABAAACAAEDAAABAAAAAAEBAAQBAQAAAAEBAAIBAQAAAgEAAAEBAQABAAEBAAABAAACAAEAAgAAAAAAAAAAAAEEAgABAAABAgAAAQAAAQEAAAABAQEBAAEAAAIAAgAAAQIDAAAAAAEBAAEDAQEAAgEAAAIAAQAAAgACAAEAAAAAAAEAAAEDAAECAAIBAAAAAAAAAAAAAAABAAEEAgIBAAAAAQABAQECAAIAAQABAAEAAAIBAAAAAwEAAAEBAQAAAAAAAAABAQABAAABAQACAAEAAAAAAAACAQEBAwEBAAAAAAABAQMBAAEBAAIBAgIAAgIBAQEBAAAAAAAAAAAAAAABAQAAAAEAAAEAAgAAAQAAAQABAQAAAgAAAAAAAwADAgAAAAAAAAECAQAAAAMAAAECAAEBAQEBAAEAAQAAAgAAAAEAAAACAAIAAAAAAAECAAABAQEBAQABAQAAAgABAAABAAAAAAACAAAAAgAAAgEAAAEDAAABAQEAAQAAAQIAAAEAAAIBAAAAAQACAgEAAAIAAAEBAAEBAAEBAQAAAQEAAAAAAAAAAAABAQAAAQIAAAAAAAIAAAEAAQAAAQAAAQEBAAABAAAAAAEAAAECAAACAAEAAQEAAQMBAAIAAQABAAMCAAABAAAAAgAAAAABAAIAAAAAAQAAAAEAAQEAAQAAAQABAQEAAAAAAAEBAgAAAgICAQIAAAAAAQEAAAEAAAIAAAEAAQACAAABAQAAAQACAQABAgEBAQIBAQIAAAEAAAEAAQEBAgACAAABAQAAAAEBAAAAAAEAAAIBAAIAAQEAAQIAAAIEAgAAAQABAAIAAAEAAQACAQEAAAIAAQAAAAEBAAAAAAEBAAEAAAAAAQAAAQEBAQACAAAAAAABAgEBAQEAAAABAAEBAQIBAQEBAgABAAACAAAAAAABAQACAAEBAgAAAQABAAAAAAAAAAEAAwAAAAABAQAAAQEBAAABAAABAAMAAAABAQEBAQEAAQAAAQABAQAAAAEBAQAAAgEBAwABAAAAAAECAAEAAAACAQAAAAABAgEBAQEAAAEAAAEBAQACAQEAAQACAAABAAAAAAACAQEAAQEAAwAAAAEAAgEAAQAAAAEAAQAAAQABAAACAAEAAQAAAQAAAQEDAAEAAQAAAAAAAAIAAAAAAAAAAAABAAAAAQEAAAEBAAACAwEAAAABAAAAAAABAAEBAgEAAgACAgABAAAAAQEAAAABAAAAAAIDAAAAAQABAAAAAAAAAwEAAAEAAwAAAAAAAQAAAAIBAAECAQMAAAABAQIBAAACAAAAAQEAAAAAAAEAAQAAAAABAAAAAQABAQEDAQACAgEBAAEAAAEAAAABAgAAAQEBAAEAAAEAAAECAQABAAAAAQAAAAIAAAAAAAABAQABAgABAAICAAIAAAAAAAACAgABAQEBAQEBAQEBAAAAAAEAAQAAAQAAAgAAAQIAAAAAAAECAQEAAAAAAQAAAAECAAAAAAACAgIBAwAAAAAAAQEAAAEBAQEAAAACAQAAAQMCAAAAAAEBAgIAAAEAAAACAAIBAQIAAAABAQAAAAEAAgAAAAAAAQIBAQAAAgAAAwMAAAIAAAEBAAAAAAABAQEAAQAAAQEBAAEAAQABAQEAAQAAAAEAAQEBAAAAAgAAAAAAAAABAAAAAAEAAAACAAEAAQACAAAAAQABAAIAAQEAAQEBAQAAAQEAAAABAQADAQEBAAEAAQABAAABAQABAQABAAACAAAEAQECAAEAAAEBAAABAAABAAEAAQEAAQEAAAEAAQEBAAEBAAEAAwEAAAAAAAEAAQICAQEAAAAAAwEBAAEAAQEAAAEBAQAAAAACAQAAAAAAAQEBAQEAAQIBAgEAAwAAAAAAAAEAAQIAAAABAAMAAAEAAQICAAIBAAABAAEAAAAAAAIBAgAAAQABAAIBAQECAgEBAAIAAAAAAAEBAQAEAAIAAAAAAAAAAAECAAEAAAMAAAEAAAABAAAAAQABAAACAAABAAABAAABAAEAAQAAAAEBAAEBAAABAQABAAIBAQADAAABAAABAAIAAAABAAABAAAAAAIAAAAABAIAAgEBAAAEAQEBAAEAAAEBAQADAAAAAAMAAQACAAEBAQAAAQIBAAEBAAAAAwABAAEDAAECAwECAQAAAAEAAQICAQAAAQECAAMAAAABAQIBAAAAAAEAAAAAAQEAAAEAAQICAQEAAAAAAAABAAEAAAEBAAAEAAEAAgAAAAEAAgAAAQEAAAECAAACAQACAAABAAAAAQABAAECAQEAAQEAAAEBAQEAAwABAQIBAAAAAAEAAgIBAQIBAAABAAABAQABAAEBAQEAAgAAAQECAAAAAwEBAQEAAQEBAQICAAEAAAAAAgABAQABAAABAAEAAQEBAQABAgEAAQIAAQABAgIAAgEBAAEBAQEBAAAAAAABAQMAAAIAAQABAAEAAgABAQEBAAAAAAABAQABAAAAAAAAAAEDAAABAQECAAEAAgACAAAAAQIBAAEBAAEBAAMAAgIAAAEBAQECAAAAAAACAAEAAgEBAAABAAAAAgEAAAABAAECAAIAAAAAAAIBAAIAAAEAAQAAAAABAAEAAAEAAAEAAQMAAAAAAQIAAAEBAAABAAABAgAAAQAAAAEAAAEAAAAAAQEAAAEBAQEBAgACAQAAAAAAAQEAAQAAAQMAAAACAAABAAIBAQMCAAEBAAECAAAAAAIAAAACAQAAAgAAAAAAAQAAAAAAAQABAQAAAQIAAAACAgABAAEBAAAAAAEAAAIBAAEBAAAAAQMAAQEAAQUBAQEAAAEAAAEAAQEBAAAAAAAAAAEAAQIBAAAAAAABAAACAAMBAgAAAAIAAAACAgICAQIAAAADAAAAAAIAAAEBAQABAAEAAwEAAQAAAAABAQEDAAAAAQIBAQAAAQABAAEBAgAEAAAAAAAAAAAAAAEBAQABAAAAAQAAAQEBAAEBAAEBAAACAAAAAAAAAQEBAAEBAgEAAAABAQIBAAEBAQEAAAAAAQAAAAABAAAAAAAAAQAABQAAAAECAgACAAAAAAAAAQABAQEBAgACAQEAAQMBAQAAAQEBAAAAAQEBAAABAAIBAwEBAAEAAAAAAgAAAQABAQIAAAEBAAEBAAEAAgEAAAEAAAAAAwEAAAABAgAAAAEBAQAAAgAAAAECAQEAAAABAQEAAgEBAgEAAQIAAgEBAAABAAIBAAABAgECAQABAAIAAQAAAAECAAAAAAEAAwABAQEDAAABAAAAAQABAQEBAAAAAAACAQEAAAAAAAACAAAAAQABAAEAAQIAAAACAAAAAQEDAAEBAQAAAgAAAgEAAQEAAwACAgAAAgEBAQAAAQEBAAEAAAABAQABAAACAAEBAAEAAQEBAAEBAAEAAAAAAgABAQEBAAAAAAEAAAEDAAIBAAAAAAAAAAAAAQAAAQIAAAIAAAACAAAAAgAAAAEBAAMBAAABAAAAAQACAQICAQAAAQECAAEAAQIAAQABAgABAAIAAAAAAAACAQAAAAABAAEAAgIBAgECAQECAAACAAABAAEBAgIBAQABAAAAAAEAAQABAAABAAMBAAAAAQABAQAAAgEAAAEAAQEBAgAAAQAAAAAAAQIAAAABAgAAAAAAAAEAAQABAAIAAAEAAAABAAEAAQECAQIAAQIAAAAAAAIAAAEAAgEAAAEAAQICAgEABAABAwABAQIBAQEAAAAAAQMBAAEAAQABAQEBAwABAgACAAEBAgEAAAEBAAAAAAAAAQEBAQAAAQAAAAAAAAACAgAAAAEAAQIAAAAAAAACAAIAAQMBAAEAAAAAAQAAAAIBAgABAQADAAAAAAEBAAIBAAEAAAAAAAIAAwAAAAEBAAAAAQIAAAEAAAEAAgEAAQEDAQABAAEAAQIBAAIBAQAAAQEAAAAAAAAAAAAAAgEAAgABAAABAAAAAAEAAQEAAgIAAAAAAQAAAAAAAAEAAgAAAAIBAAIDAQABAQEAAAEBAAEBAQACAQEAAgAAAQEAAgABAQABAQAAAAEAAQEAAAECAAAAAQECAgABAAABAAEBAAEAAAAEAAABAAACAQEBAQAAAAAAAgEAAAEBAAAAAgIAAwAAAAAAAAACAAICAQEBAQEAAAAAAQEBAAADAAEAAQIBAAABAAABAAEAAAIAAgIAAAEAAAAAAAEAAQAAAQACAAIAAgAAAAEBAAAAAAEAAAEAAAEAAQACAQECAAEAAAEAAQEAAgEAAAIBBAMBAgAAAQEAAAACAAAAAQEAAAAAAQEBAAIBAAIBAAIBAAEAAAAAAAABAQECAQEBAgAAAQAAAAEBAQEBAAEAAAACAQEAAAEBAQEAAQEAAAAAAAABAwEBAAEAAAAAAQABAwICAAEAAgAAAQAAAQAAAQABAwIBAQIAAAAAAQACAAAAAQAAAAEAAAEAAAEAAQABAAAAAQEBAQACAQAAAAIAAAABAgAAAAAAAgACAwAAAAEAAgABAQABAQEAAgIAAQEAAAAAAAEAAQAAAQABAAAAAAAAAQAAAQACAQEBAAAAAAEAAAEAAQACAAAAAAAAAQEAAQABAAEAAQACAQABAQECAAAAAAEAAQAAAAABAgAAAAABAAEAAAACAQEBAAEBAAEBAAABAQAEAgABAQEBAQAAAAABAQECAQAAAgAAAgAAAQAAAQIAAgABAAEAAQIAAAEAAAEAAQEDAAEAAAAAAAABAQEAAQAAAgIAAAAAAgAAAAAAAAEAAAABAAEAAAAAAAEAAAEAAAAAAAIBAAECAAIAAAABAAEBAAEBAAEAAAIAAAIAAQABAAABAAIAAQIBAAAAAQEBAAMAAAECAAABAQAAAAACAAEAAgAAAgEBAQAAAAEAAAEAAQEBAAAAAQECAAABAQEAAAABAQABAAAAAAICAQAAAQIAAQAAAAIAAAACAQAAAAAAAgABAQEAAAIBAAABAQMBAQEDAgMBAgAAAQIAAAEAAgAAAQIAAAECAQAAAgEAAAAAAQMAAQAAAAACAAAAAQACAgEBAAABAwIBAAIAAQABAAAAAAEBAgIAAAAAAQABAAEAAQEBAQABAAEAAQEBAAAAAQABAAIAAAABAAEAAQAAAAAAAAAAAAAAAAAAAAMBAAEBAAIAAAEAAgEAAgAAAAEBAAECAQEAAAIAAQEAAQIAAQABAAACAAECAQMAAQAAAQEBAgAAAAIAAAAAAAAAAAABAAAAAQEAAAEAAQACAAAAAgABAAABAAEBAAEAAAEAAQABAQEAAAEAAQIBAgAAAQEAAAABAAABAgAAAgABAgIAAgEAAQACAAABAAAAAgABAAACAAEAAQECAAABAQIAAAEBAAAAAAIAAQABAQEAAAEAAgABAAEBAAIAAQAAAQAAAAEBAgECAQAAAQAAAQABAAIAAAEBAAAAAAAAAAIAAQICAAAAAAAAAAAAAwMBAQEBAQACAQEAAAEAAAABAAEAAwAAAAEAAAAAAAEBAQEAAAECAAABAQEAAAIAAAEDAQQDAAAAAAAAAAIAAAECAAECAAABAAAAAAEAAAABAQMBAAEBAAABAgECAgABAQEBAAEBAAAAAQAAAQADAAAAAAAAAQECAAABAAADAQECAAAAAQAAAAECAAEAAAEAAAIBAQECAAABAAAAAAIEAQEBAAIAAgABAAEAAQEBAAABAAEAAAAAAAABAAICAQEAAAIAAQIBAAEAAAACAQEBAQABAAAAAAAAAAECAQIAAAACAAEBAgEBAAIAAAIAAQACAAIAAAECAQEBAQAAAAAAAAADAQEBAAAAAQEABAABAgIBAAEAAAEAAQIAAQACAQABAQEAAAEBAAAAAAEAAAEBAgIBAAABAAICAAABAAABAAABAAABAAEAAAAAAAAAAAAAAAEAAQEAAAAAAAAAAQEBAAAAAAAAAAEBAAADAAABAQACAAAAAAIAAgIAAAAAAQABAQEBAQAAAAAAAAAAAQACAAMBAQEBAAEBAAEAAgEBAQACAgEBAAIAAAACAgABAQICAAEAAAEAAAEAAAABAAEAAQEBAAAAAAIAAAADAAECAQACAgECAAABAAAAAAEAAAAAAQABAQAAAQEAAAEAAQICAAAAAAABAAAAAAABAAEAAAEAAAEAAQABAAEBAQEBAAEAAAABAAAAAAEAAQAAAwEEAAEAAAEAAQEAAAABAQAAAAEBAQEAAAAAAAAAAgMAAAAAAQAAAgECAQAAAQEBAAAAAQIAAQEAAQACAAIBAAEAAQIAAAAAAgEAAQAAAgAAAAAAAQEAAAABAAEAAQIAAgAAAQACAQACAAMCAAAAAQAAAwAAAAAAAAEBAQAAAAABAAACAQEAAAAAAgABAAAAAAAAAQEAAAACAAADAgEBAQECAwEBAAABAAIAAQAAAQAAAQAAAAACAAACAAAAAAAAAQAAAQEAAAAAAAIAAAEAAAADAgABAAAAAQEAAQEBAAABAQABAgEBAAACAQEAAAEBAgABAAMBAAEAAQEAAQABAAACAQIAAAEAAAEBAAEBAAAAAwAAAAEAAAACAAAAAQEAAAAAAAAAAAABAgEAAQICAAABAQABAAEAAQEBAwABAwACAQEBAAEAAQEBAQABAgEAAAEAAAABAAEBAAEAAQAAAAICAQEBAAEAAAEAAAACAAABAQAAAAEBAgAAAQIAAAABAgEAAQABAAABAAABAAEAAAEBAgEAAQABAQAAAAAAAAEAAAEAAQIBAwADAgABAQEAAAQAAAABAgEAAAABAQACAAEAAQMEAAEAAAAAAAAAAQEAAQABAAAAAQMDAQACAQABAQADAAABBAICAAEBAAIBAQEAAQEBAgIAAAEAAAABAQMBAQEAAQABAQAAAQAAAAAAAgAAAAECAwAAAQAAAAIAAAACAQAAAwEAAQAAAQIAAAAAAAAAAQEAAwABAAEAAAEAAAADAgAAAAAAAQEBAAABAgECAQMBAAAAAQIBAAEBAAIBAAEAAQAAAQEBAAADAAAAAAEBAgAAAQIBAQAAAgABAQABAQAAAAABAgABAgAAAAAAAQAAAAICAQAAAQICAQABAQIAAAEAAQEAAAEBAAIDAQIAAQICAQEAAAABAwEBAQEAAQABAgAAAQEBAAIAAAEAAAACAAEBAQEAAQAAAAEAAAEAAAABAQEAAAAAAQAAAQEAAgAAAQAAAAAAAAMCAQEBAAECAAEDAAAAAAAAAAAAAQEBAAEBAAIBAQABAAEAAAABAQEDAgACAAEAAAABAQEBAQEAAQEBAQEAAAIAAQEBAAACAAABAQEBAAABAAEAAgABAQECAAABAAEAAQABAQEBAAEAAAEAAQACAgAAAAAAAAIBAAICAAEAAAIAAQICAgEAAAEBAgEAAAABAAACAgECAAAAAAEBAAABAAEAAAEBAAABAAEBAQAAAAEAAAABAQEAAgAAAQEAAQEAAAECAAEAAAIBAAIAAAEAAQACAgEBAQABAQACAQEBAQABBAEBAAIAAAEBAQEEAQAAAAAAAAAAAAAAAAABAwACAAABAQABAQIBAAAAAQECAgAAAAAAAAIBAQIAAgABAAIAAAABAAECAAAAAgABAgEBAQEBAAABAgAAAAEAAAIBAAABAAABAAIBAAECAAABAAABAQEBAQIBAAABAAEDAAICAAAAAQIAAAAAAgAAAQMCAQABAAABAAEBAAAAAQEBAQEBAQABAAECAAEBAQECAQAAAAEAAQAAAQICAgAAAAMAAAAAAAIBAAAAAAABAQECAAAAAQACAAIAAQIBAQEDAAEAAAMBAQAAAQMBAAABAgABAQAAAAEAAAMBAQIAAQABAgAAAAABAAMCAQAAAAABAQAAAQEAAAAAAQEAAAAAAgAAAgAAAAABAQAAAAACAQAAAAIAAgEBAgEBAAACAAEAAAEBAQEAAAEAAAEAAAAAAAEBAAEBAQEBAAEAAAECAAAAAAAAAgEBAAEAAQAAAAEDAQEBAAABAAAAAAEAAQABAgEBAAEAAAACAgAAAAAAAAABAQABAAEAAAIAAAEAAQACAAMAAAACAAACAQEAAAAAAAEBAAABAAEAAAAAAgEBAQEAAQABAgAAAQAAAQAAAQEAAAEAAAIBAAABAAAAAAIAAgABAAEAAQEAAAACAAABAAAAAgAAAAAAAAAAAQEBAQEBAQAAAAIAAAAAAgABAAAAAAABAQEAAQEBAwEAAQEAAAEBAAEBAAEBAAAAAAABAgABAAAAAQEAAAEBAgABAQIBAAABAQABAgEAAgECAAAAAQIBBAEBAQEDAQABAgIAAAABAQABAgEBAAEAAAAAAAAAAQABAAIAAgAAAAEAAAEAAQAAAgEAAAEBAAEAAAIBAQACAAAAAAEBAQAAAAEBAgAAAAEAAgAAAQAAAgABAQADAQEAAAEAAQEAAQIAAAACAQAAAgEBAgECAAECAQEAAAIAAAEAAAEAAAECAAACAAABAQEBAAAABAEBAgEAAQEDAAACAQAAAAACAAEAAQAAAQIBAQEAAQEAAgEAAAABAgAAAAAAAQADAQEAAwIGAgEAAgABAQEBAAIAAQABAAAAAQABAAACAAECAgEAAQUAAgAAAQEBAQIBAAABAgEAAQIBAAAAAAABAgQAAQIAAQEAAQABAAEBAAAAAAIAAAECAQAAAgAAAAICAAABAQABAAAAAAABAQIAAAEAAAACAAABAAACAgACAQEBAQMAAAIAAAIBAAEAAAABAAEAAgIAAAAAAAMAAAAAAQABAAEBAAAAAAMAAAABAAAAAAABAQAAAAACAAEAAAIAAQMAAgAAAAEAAQMBAAEBAQABAAAAAgAAAAEAAAEBAQAAAAEAAAABBAIAAAEAAQIBAAACAAABAQABAAAAAgIAAQAAAAEAAgAAAwAAAgAAAAEBAQEAAAIAAQIAAAAAAQIAAwEAAgEAAQAAAAEAAAEAAAABAAEBAgEAAQIBAQAAAQIAAQEBAAECAQABAQAAAQIAAAAAAAAAAAEBAAAAAAIAAgADAQIAAQAAAQABAQIAAAEAAAECAgEAAQEAAQABAQEAAAABAAEAAAEBAQEBAAEABAEBAAEBAQAAAAEAAgAAAQACAAAAAAABAQEAAQIBAgAAAAAAAQABAQIAAQABAAIAAAABAAAAAgAAAgABAQEAAAAAAQEAAgEAAQEBAAEAAQEBAAAAAAEAAQEDAAABAgEBAAEBAAECAAEAAAMCAQIAAQAAAAACAAABAAAAAgEBAAEAAQEAAQAAAAACAAEAAAIAAAECAAEBAwACAAAAAgECAAEBAgABAAEAAAAAAAACAAAAAAEBAQEAAAEDAQECAQEAAAEAAgACAAAAAQAAAAEBAgEBAAACAgABAAABAAAAAgAAAQACAAABAAAAAAABAAABAAABAAIAAQACAAEBAAEBAQABAQABAQAAAAEBAQEEAQEAAAACAQAAAQABAAAAAAEBAAACAAAAAQEAAQAAAAABAAABAAEBAAEBAAACAAABAAAAAAAAAQAAAgAAAgACAAEAAAIAAAEBAQEAAAEAAAQCAAAAAAICAAEBAQIBAAAAAAEAAAAAAAAAAQABAQICAAEAAAEAAQEBAAACAQIDAAEAAgEAAQEBAAACAAEAAAACAQAAAAAAAAEAAQABAAABAAIAAgIBAQEAAAEAAAABAAECAAAAAAEDAAEAAQICAAACAQIAAAIBAQEBAAICAQABAQAAAAAAAAAAAgAAAgAAAgAAAAAAAgIBAgIAAwIAAAEBAAIBAAEAAQACAAAAAQEBAAEAAAIAAQEAAQEBAQAAAQEBAgAAAAEAAAAAAAACAAABAAAAAQABAAEBAQABAAAAAAEAAAEBAgEBAAIDAAIAAQADAAACAgEAAAAAAAEBAwACAgABAQEAAQACAAACAgAAAAAAAQAAAgEAAAAAAAEAAQEAAAAAAwEAAAIAAQABAAECAgABAAAAAQAAAQEBAAABAAABAAEBAQAAAQMAAQABAQACAQECAQEBAgAAAAECAQEAAAAAAAEBAgEAAAEAAAEAAQEAAAECAgIBAAABAQAAAgIAAQQAAQEAAQAAAQACAQABAAAAAgABAAAAAQAAAwABAAEAAQABAAABAQEBAAIBAAABAgABAQECAAAAAAIAAAABAgEAAAACAAAAAQAAAAABAAABAAABAAEAAgEBAAAAAgAAAQABAgIAAgACAwABAQEAAAAAAAEAAAAAAAEAAwAAAAEAAQACAQEBAAECAgEAAQAAAgEBAQABAAIAAAECAgEAAQACAgABAQABAAEAAAIBAAEAAAABAgAAAAEAAAADAAABAQEAAQEBAAACAAADAQAAAAAAAQMBAgAAAQIAAAIAAQABAAMBAwAAAAECAQEAAQAAAQEAAgICAQACAQIBAQABAAABAQIAAgAAAgEBAQAAAgABAgEBAQMBAAAAAQAAAQMDAQEAAAACAAABAQAAAAIAAAEBAAEBAwEAAAACAAMBAQIAAQEAAQIAAQEAAAAAAQACAQABAAABAAAAAQAAAQAAAAABAAAAAQABAAEAAAAAAAAAAAEAAQEAAAABAgABAQEBAQEAAAMAAAEBAAABAQECAwIAAgABAAAAAAAAAAEAAAEAAAEBAAEAAwABAQAAAQEBAQAAAAABAgEAAQAAAAECAAEBAAEBAQAAAAAAAAIBAAEAAAEAAgEAAQECAAABAAMBAAAAAgACAQAAAQABAAAAAAEAAAAAAQAAAAEAAgABAQEAAQIAAAIAAAAAAAAAAQACAQICAgABAAADAQEBAQEBAQEBAQEBAQEAAQEAAAACAAEAAQIAAgAAAQADAQABAgAAAQAAAAAAAAEAAAEAAgAAAQAAAAABAQEDAQEBAAABAgEAAAABAQAAAQECAAAAAAAAAQAAAAEBAQEAAgEAAAEBAAEAAAEABAAAAgABAAAAAQACAAAAAAEAAgICAgEBAQEBAQMAAAEBAQIBAQABAAABAQIDAQEAAgEAAAABAAABAgACAAEBAAEAAQAAAAECAAECAgEAAAEBAgAAAgEAAQIAAwEBAQIAAQAAAAABAQEAAwEDAAEBAQECAAAAAgEAAAAAAAEBAAADAAAAAQEAAAABAQEBAAICAQIBAAAAAAADAQEAAAAAAQABAAABAAEBAQABAAACAAEAAQABAAAAAwABAAMDAQAAAAIAAAAAAQABAQEAAAMAAQAAAwMAAQABAQICAAAAAAEAAAAAAQIAAgAAAAAAAAEBAQAAAAEBAAIAAAEAAAAAAAABAQAAAgABAAABAAEBAQECAQIAAgEAAAAEAAAAAAAAAAABAAEBAAABAAACAQEAAgABAQAAAgAAAQACAAABAQABAAAAAAAAAAEBAQABAQAAAQABAAABAQAAAQEDAgAAAAEAAAAAAQABAAEAAAAAAAMBAAAAAgMAAAACAAEBAAACAAAAAQAAAAEBAQEBAAEBAAEBAQAAAAAAAAICAAABAgABAQEAAAABAQAAAAABAQAAAgEAAAECAAAAAAAAAQEBAAACAQACAQEAAgAAAQEAAQAAAQEBAAAAAAEBAQECAQEAAQAAAgAAAAADAAACAQEBAQACAQACAgIBAAIBAgMAAAACAQACAAEBAAAAAQEAAAAAAgICAAACAAEAAQEBAAIAAgEAAQABAgABAAAAAAEBAgABAAABAgIAAgABAQECAwAAAQABAAAAAAIAAgAAAQAAAgABAAABAAABAQEBAAAAAAEAAAEBAAEBAQEAAAABAAEAAwIAAwAAAAABAAACAAECAAEAAAIBAgABAQAAAgABAAEAAQABAAEAAQEAAQEBAgAAAAABAAEBAAAAAAAAAAEBBAADAQMAAQEBAAABAAAAAgAAAAAAAAAAAAIAAQEAAgAAAQABAQIBAAIDAgECAAABAgAAAAACAAADAAAAAgEAAQEAAAIBAAAAAQAAAgAAAAIBAAAAAAEAAQACAQABAQEAAAEAAAEAAQABAgACAAEAAQIAAAIAAgEAAAAAAQACAAIAAQIBAAABAAEAAAEAAAAAAQABAQECAAEBAgAAAQEAAgAAAQEAAAADAgABAAEAAAABAgABAQABAAMBAAEBAQADAQEAAAABAAACAQABAAIAAQIAAwACAQAAAAEAAAAAAQABAAEAAQACAQEAAQABAQABAAABAgECAAACAAEAAgEAAQABAQACAAAAAAIBAAEAAQACAAAAAQABAAAAAQAAAQEBAAICAgEBAQEAAQAAAAABAAEBAQAAAQEBAwABAQEBAAEAAgAAAgEBAQACAgABAAAAAAAAAQEAAQAAAQABAAACAAAAAAAAAQIAAAIAAAAAAAEDAQEAAQABAAEAAAACAAAAAQAAAQIAAgEDAgABAQABAAABAAEAAQAAAgIBAAAAAQACAAEAAAUBAQMAAAEAAQEAAQEAAQACAAIAAAEBAAQAAAEAAAIAAAMBAAEDAQADAAEAAAEAAAEAAQEAAAEBAQEBAAACAQEAAAACAAEAAQABAAAAAAABAQABAAECAAABAAIBAQACAAAAAQEAAAAAAQECAAABAgABAAECAAADAAAAAQABAAICAQABAQAAAAABAAEAAAEBAAAAAAABAgABAAEAAgAAAQEAAwEBAAAAAQACAQABAAABAAACAAACAgACAQEBAAABAQEAAgECAAAAAAMAAAEBAQEAAQEAAAABAgABAAEAAQEBAAEBAgEAAQABAAEBAAICAQAAAQEAAAECAAABAAAAAQABAAEAAAABAgACAAABAAACAAEBAwAAAgEAAQABAAAAAQAAAgADAAAAAAEBAAIAAAEBAAACAAAAAQADAAEAAAADAQIAAQABAgABAQACAgEAAQAAAAAAAQEBAgAAAQAAAQECAgAAAAABAAECAgABAQAAAwEBAAEBAQAAAwABAgAAAQEAAAMAAAAAAwEDAAEBAQABAQADAgAAAQABAQACAAAAAQIAAQAAAQAAAAEBAQAAAAAAAQAFAAEAAQEAAgAAAAICAQEAAQAAAAMCAgAAAQEAAAICAAADAAAAAQABAAABAAAAAQAAAAAAAgEAAAAAAAEBAAIAAAIBAAEAAQEDAAEAAQEBAQMAAQEAAAEAAgIAAAAAAAAAAQABAAABAQAAAAAAAAIAAQAAAAACAQIBAAEBAAEAAAAAAAEAAAADAAACAAEAAQAAAgEAAAEAAAIBAQEAAQEAAAEBAgECAAEDAQEAAAAAAQMBAAAAAQIBAAABAAEBAAEAAAEAAAEBAQABAAEAAAAAAAACAAIAAAAAAAABAAAAAAEAAAEBAAAAAgAAAAECAQEBAQAAAAEAAAEBAQEBAAABAAADAQEAAAIAAQAAAAEBAQABAwEBAAAAAQEBAQQEAQAAAAAAAQAAAQIAAAAAAAEAAAEAAQABAQAABAAAAAEAAAEAAAABAQEAAAABAAAAAAAAAAAAAAEBAQIAAQEAAAAAAQAAAQIBAAIAAAAAAAABAQEAAAAAAQABAQAAAgEBAAAEAQIDAwAAAAABAAABAAAAAwAAAAEDAAEAAAABAAEBAgACAAAAAAABAQIBAgAAAQAAAAACAAEAAgIAAgMAAQAAAQEBAAAAAQIAAQIBAQEBAAEAAQEAAAAAAAAAAAABAAIAAAEAAAEAAgICAAAAAAEBAAEAAAACAQACAAEAAAEBAQAAAQEBAAABAgEBAAAAAQEAAwEAAQIAAAMAAQEAAAAAAAEBAAAAAAIBAAIAAAICAgADAQAAAgAAAgEAAAEAAAABAgAAAAABAgEBAgIBAQAAAAACAgEBAAIAAQEAAgEAAAEAAAEAAQAAAAEAAQAAAQAABAEAAAAAAAAAAAECAAACAAEAAQACAQEBAAAAAgIAAAEAAQEDAQACAAECAAACAAAAAAMBAAACAQEAAQAAAAEAAAEAAAIDAAEBAgACAgEAAAEAAQECAQEBAAABAAABAQEAAQMBAQABAAABAAAAAAEAAAABAQAAAQABAAIBAQEAAAABAAAAAQMAAQABAAAAAAICAAEAAQEAAAIAAAICAQEAAgABAAACAQAAAgEBAAEAAQAAAAACAAIAAAEBAAAAAQEAAQEBAAABAQEAAAECAAECAQABAQEAAAMBAAMBAAEAAQEAAgABAQAAAAEBAAEBAAEDAQEAAAEAAAEBAQAAAAEBAgAAAAMBAAEBAAACAAECAAABAAEDAAECAAAAAwAAAAAAAAEBAQAAAgABAAAAAQEAAAEDAQAAAQAAAQMBAAEAAAIAAQABAAIAAQAAAAECAAAAAAAAAAEAAQEAAAABAAEAAAIAAQEAAAAAAQEAAQIAAAAAAQEAAAABAAEAAAABAgEBAAECAAABAAAAAQAAAAEBAAIBAAABAAAAAQABAAACAQAAAAABAAAAAQAAAAABAAABAQAAAAECAAABAQACAAEAAAABAQABAgEBAgABAAABAQAAAAEAAAEAAAEAAQABAAABAAIBAAEBAgABAQAAAQABAQAAAQEAAgAAAQEBAQABAQEBAAIBAQAAAQAAAwIBAQEAAAAAAQABAAEBAAABAAABAAABAQEAAQECAQEAAQEAAAEAAQAAAAIAAQAAAwAAAQIAAAEAAAEAAQAAAAIAAQABAgEBAQEAAAECAQACAQACAAAAAAAAAAAAAAABAAACAQEAAQABAAEAAAABAQEBAgMBAgIAAAADAwACAAAAAAEBAAAAAAIAAAEAAQAAAQIBAQEBAAABAAAAAQABAAABAAAAAAABAQIBAAEAAwAAAAEDAAEBAQACAAEAAQEAAQEAAAEBAAACAQIBAQABAQECAQAAAQEBAAAAAAIAAAIBAAECAAEAAQAAAAAAAAECAwEAAQEBAAABAAEAAQEAAQABAQIBAgMAAQECAAABAgAAAAIAAAAAAQABAAEAAQEBAQABAQAAAgABAAMBAAEBAAEBAQACAAEAAAECAQIBAAEAAwMBAAABAAACAQABAwEAAAABAQEBAAABAQABAAEBAQEAAAABAAQAAQACAQAAAQEBAgACAQEAAQAAAAACAQAAAAAABAAAAwABAAAAAAAAAQAAAQAAAAEAAAABAAAAAAAAAQAAAQEBAgABAQAAAQEBAAABAAEBAAABAQAAAAACAAAAAAEBAAEAAQAAAgABAAEAAQAAAQEAAQIAAAAAAAIBAAABAAABAQEAAAEAAgABAQAAAQABAQABAAABAgEBAgEBAQABAAIBAAEBAgAAAQABAAAAAgIFAAACAAEBAAAAAAIBAAIAAAABAAECAQABAAABAAAAAgECAQEAAAECAQAAAAIBAAEBAgMCAAICAQEDAAEAAQABAAACAQEAAAABAQEAAwABAQEAAAEAAAABAQABAgAAAQEBAQABAAEBAgACAQEBBAEAAgEBAQEBAAEAAQECAAAAAAEBAwABAAEBAQEAAgABAgAAAAAAAAABAQMAAAEBAQEAAQIAAgABAAAAAQAAAAEAAAABAgIBAAEBAAEBAAEAAAAAAQAAAAEAAQEAAQEAAAICAAEAAgADAgIBAAACAAEAAQIBAQEBAAECAAEEAAAAAAEAAAEAAgAAAAAAAgEAAAEDAQACAAIAAgEBAgABAQEBAAADAAAAAQAAAQIBAQEAAAAAAAAAAAEAAAEBAQACAAABAQEBAQABAAEBAAACAAAAAQIAAQABAgAAAQMCAQEAAgEBAQABAQABAQABAQACAQAAAAMAAAABAwEAAQADAAAAAQEAAAAAAAEBAgAAAQAAAAABAwEBAQACAgEBAAEAAgACAQMCAQMAAQAAAAMAAgEBAAADAAIAAAIAAAEDAAAAAAICAAEAAAEBAAAAAgAAAgICAQAAAQAAAQAAAgACAgEAAAEBAQIBAAIAAAAAAgAAAQIAAAABAQABAgABAAAAAQAAAgEBAQAAAQABAAAAAAEAAQACAAICAQIAAAAAAQABAgAAAAAAAAAAAAEAAQABAQABAQABAQEAAAAAAAACAQECAQAAAAECAAEAAAAAAAABAgAAAAIBAQEBAAABAQABAwQAAQAAAQABAAEBAQEBAAIAAQMDAQICAAACAAEAAAAAAAIAAQIAAgAAAAAAAQEBAAEAAAEAAAEAAQAAAQAAAQABAgMBAAEAAAMAAAEAAAEAAQABAQABAQABAQEBAAEBAAIAAAAAAAAAAQABAQAAAAAAAAABAwEAAQECAAEDAAEAAAEAAAEDAAEBAQAAAAEAAAACAQEBAQEAAQEBAQIAAQIAAAEAAAEAAQAAAQAAAQABAAECAAABAAEAAQIBAAAAAAAAAAECAAIBAwMCAAECAAACAwEAAAEAAAIAAQEBAAABAAAAAgAAAQIAAAAAAAEBAAABAQEAAQEBAAAAAQEBAgMAAgAAAAEBAAIAAQABAQABAQABAwABAAEAAAEBAQIAAgABAQEEAQMAAAAAAAAAAAAAAAAAAgEAAAACAQAAAAABAAABAQACAgAAAAAAAAABAAEBAAECAAEDAAAAAAAAAAAAAAAAAAABAQAAAAAAAQEAAAACAAAAAQEEAgEBAAACAQAAAQAAAAMAAQEDAAABAAABAAIAAAABAAMAAAABAgABAQEBAgAAAQEBBAACAgAAAAAAAAABAAICAQECAQEAAQAAAQEAAQEAAgECAAABAAEAAwAAAAEAAgACAAADAAABAQAAAAIDAgACAQACAAICAAMBAAAAAwEAAQEBAAEAAQAAAAEAAAAAAQAAAgEBAAEBAAABAAECAQACAQECAgEAAAAAAgAAAQEBAQAAAwAAAAIBAQEBAAEAAQEAAAAAAAEBAQEBAQIBAAEAAgAAAQIAAgABAAABAQAAAgAAAAIBAAEBAAACAQEAAAACAQEBAQAAAgAAAgEAAQAAAAIAAQABAQEAAQMBAAEBAQMBAwEAAgAAAgACAAAAAQAAAQEBAAMEAQABAAEAAQEAAQABAAAAAQEDAAABAQAAAAABAAABAQAAAAAAAAAAAAABAAEAAAAAAgEBAAABAAADAgAAAAACAgACAAEAAAEAAAEBAAEAAAAEAQABAAEAAgABAAIAAQABAQEAAwIBAAEBAAEBAwAAAQAAAAAAAAEAAAAAAAEAAAAAAwECAQABAAIAAAEBAgEBAQIBAAAAAAEBAAMBAQACAgABAAABAAEBAAABAAACAQEBAQEAAAAAAAABAQEBAAACBAIAAQEDAAEEAQACAAEBAAAAAAAAAgAAAAEAAgAAAAAAAQEAAQAAAAAAAQAAAAAAAAEAAAIBAgAAAAABAQECAQACAAABAQIBAAAAAQACAQEBAQAAAAEBAAEAAAAAAAAAAQAAAAAAAAECAAAAAAECAQABAAABAAABAAABAQACAAEAAAAAAAAAAQEAAAEAAgEAAQIBAAAAAQABAQAAAQIAAAAAAAAAAAIAAgAAAAAAAAEBAAAAAgEAAAABAgABAAEBAQABAQAAAQACAQABAAEBAgABAQAAAAAAAAAAAQIBAAIAAgABAAEAAAAAAwABAAABAAABAgEBAQABAQAAAAEAAAEBAQEBAAEAAgECAAEAAQEAAQACAAIAAAAAAAAAAAAAAgAAAAABAQABAQEAAAABAAIAAAIDAAAAAAEAAAAAAgAAAQAAAAEBAAIAAAAAAQIBAgEBBgIBAQIBAQECAAEAAQADAQAAAQAAAAAAAwIAAAEBAgABAAEAAAAABAECAAAAAgEAAAEBAAAAAQEBAgEAAgEBAgAAAAAAAAIAAgAAAQEBAgABAQAAAQEAAAADAwEBAAAAAAIAAQABBAABAwEBAgAAAAEBAAEBAAMAAQAAAgECAQIAAAIBAAABAgAAAAEAAAEABAEAAgEBAAIBAwIAAQAAAAEAAAAAAQEAAAAAAQEAAAAAAgABAQEAAgAAAAABAAIAAQECAQEAAQACAAEBAQAAAAABAQAAAAEAAQEAAAEAAQEBAAAAAAAAAgAAAgAAAQACAgEAAgEAAAIBAAABAQEAAAABAQABAQABAAEAAAAAAQEAAAABAQAAAAACAQABAAEAAAEBAAEAAQAAAQEBAAECAAAAAAEAAgEBAgAAAAECAgAAAAEBAAAAAAMAAAEBAAABAAEBAAAAAQEBAQABAAABAAMAAAEBAAEAAAABAAADAQAAAQEAAAEBAQIAAQEAAAEDAAEAAQABAAEBAAAAAAAAAAAAAgMAAAABAAACAAAAAQAAAAEAAAABAwIBAAEBAgAAAAAAAQEBAAAAAgAAAAIBAQAAAAACAAACAAACAQABAQAAAQAAAQEAAAABAAEAAQEAAAIBAQIAAAEAAgEBAAAAAQEAAAAAAAABAAAAAAABAQECAQEAAAEAAAAAAAIAAQECAwAAAAIAAAEBAQAAAQEAAAABAAEAAAABAAAEAAAAAQEDAQEAAAEBAAIBAAAAAAEAAAAAAwABAQADAQAAAAECAAABAQACAQABAAABAAEBAAEAAQACAwIAAAAAAQAAAAIAAQAAAQEBAAEAAAEBAAAAAQEAAAEBAQECAQEBAAABAQAAAQAAAQABAAEBAQAAAgMCAQEAAQABAAABAgABAgIBAAAAAAEBAAABAAAAAAAAAAMAAQABAQICAAAAAQECAAICAgEAAAAAAQEAAAEAAQMAAQEAAAAAAAAAAAUAAQABAAAAAAAAAAEAAAEAAAAAAQEAAAABAAAAAwAAAAABAAIAAQIAAAIBAQACAQICAQAAAAEAAAEAAQAAAAABAAABAQABAAIBAAEBAQEBAAIAAAEAAQEAAgIAAgEBAAECAAAAAQAAAAABAAAAAAABAQAAAAEAAAEAAAACAQEAAQECAQAAAQIAAQAAAAABAAAAAAAAAQEAAQEAAAEBAgACAAACAAAAAAACAgEBAAEAAQAAAAADAQABAQEBAAAAAwIBAAABAAEBAQABAAIAAAAAAQAAAAABAAAAAQAAAQEBAAECAQEAAAAAAAIAAAACAAEBAAABAAAAAAMCAQAAAAACAAEBAgAAAAMBAAABAQAAAQABAQABAwABAQEAAAABAAAAAQACAQAAAgAAAgABAAEBAAAAAAEAAQEAAAACAAEBAAEAAQAAAAEBAAABAQEBAAAAAQACAAEBAQEBAAEBAAAAAgABAAACAAEBAQIBAQAAAgEAAAABAgEBAAAAAAICAwECAAEAAQECAgAAAQEBAAAAAAABAQABAQECAQAAAAEAAQAAAAABAQEAAAAAAAEBAAACAAABAAEAAAIAAQACAAEAAAAAAAAAAQEBAQACAAMAAAIBAgICAAEBAAAAAQAAAQABAAEBAAABAAIAAQAAAAACAAAAAQIBAAEBAQAAAgAAAQEBAAIBAgAAAAEAAgEAAQEAAgAAAQEBAQABAwIAAQECAAMAAAEAAAMBAQEBAwMCAQAAAAAAAQADAAABAAABAgECAgEAAgABAAECAAEAAAEAAQEAAQABAQAAAAIAAAACAAEAAQMAAQABAAEAAQIAAgAAAAEAAQECAAECAAAAAQAAAAEBAAABAwEAAAEBAgABAQABAQEAAQAAAQIBAAAAAAEDBAECAQAAAQABAQAAAgAAAAABAAEAAAABAAADAAIAAAEAAAAAAAAAAAEAAQEAAAEBAQEBAAACAAABAAEBAAIAAQEBAAECAAEAAQECAAECAAAAAAABAAABAAEAAQAAAAEAAQAAAAEAAAEAAQECAQEAAAEBAAECAAAAAAIAAQEBAgAAAQECAAIAAAEAAAABAQABAAICAAQBAQAAAAABAAEAAAEAAQEBAAEBAAAEAAEAAQEAAQEBAQEBAAEAAAIAAQAAAQACAgABAAMAAgAAAAIAAAIAAAIAAQECAQABAgQAAQABAQEAAAACAQAAAAICAAABAQAAAAEAAQICAwEAAAEAAQABAAAABQAAAQIAAQAAAAAAAQABAAABAAABAAAAAAAAAQIBAAAAAAEAAQAAAQAAAAEAAAAAAAABAQABAQABAAEBAQABAAABAAEAAAABAAMCAAECAAIAAAACAQEAAAABAAAAAAABAQAAAQACAAIBAAEBAQEAAQABAAIAAgABAAAAAgACAQEAAAABAQAABAEAAAEBAAABAwAAAgAAAQIAAgECAQEAAAECAAEAAAAAAQAAAwACAQABAAAAAAAAAAEBAAABAAABAAAAAAACAAAAAAEAAQAAAAMDAQAAAAABAAACAAEBAAEBAQABAAACAAAAAAAAAAIAAQACAgABAAAAAgAAAQEAAQABAAIBAAAAAAECAQECAAEAAAEAAQECAQEAAAACAAACAgABAAAAAAEAAAABAAEAAAACAQEBAQAAAQMAAAEBAAACAAIBAAECAAAAAQAAAQACAQADAQEAAAIBAAACAQABAAEAAAAAAAQCAAABAgAAAwAAAAMBAwAAAQEAAAAAAgABAQABAgIBAgACAAEBAAAAAQEAAAEAAwAAAQAAAAABAQAAAQAAAgAAAAAAAAABAQAAAAEAAAABAAABAAAEAAEAAAAAAQAAAQABAAACAAABAAAAAAEAAQIDAAEBAQAAAAABAAAAAAIBAAABAQABAQAAAAEAAAAAAAABAAIBAAACAAIAAQABAAAAAQEAAAAAAAIBAAABAQACBAAAAQIAAQAAAAEDAAAAAgABAQABAAMAAQEBAAEAAAAAAAACAgAAAAICAQEAAAAAAgAAAgABAAEBAQEAAAIAAAAAAgIAAAIAAQEBAAEAAAAAAgAAAAABAAAAAAAAAgEBAQECAQEAAQACAAAAAAACAgAAAQEDAQABAwIAAAEBAAEAAAEAAAAAAQABAAEAAAAAAQABAAMAAAECAQEAAAEAAAABAQEAAQAAAQEAAQABAQEAAAAAAQEAAAIAAgEAAAEBAQEBAAABAAAAAQEAAAMAAQEBAAEBAwAAAQEBAAAAAAEAAAECAQIBAQAAAAEAAQACAgABAAAAAQQAAQEBAQEBAAEAAAABAAEBAAQCAAMBAQEAAwIAAgEAAAICAgEBAQEAAAEAAAEAAQAAAQAAAAIAAgEBAQAAAAIAAQABAAEAAAIBAQACAQQAAAAAAwAAAQIBAQEBAAACAgAAAAACAAAAAAAAAQABAAIABAACAQAAAQEAAAABAAIBAQEBAAAAAQAAAQAAAQEBAAAAAAAAAgABAwABAQEAAgIBAQABAwABAQAAAQABAAIAAAEBAAMAAQEAAAEBAAABAAEAAAMCAQAAAQAAAQABAgAAAAIBAQAAAAABAQMAAgECAQACAQAAAQAAAgEAAAEBAQAAAAAAAAAAAQEAAAAAAgABAAAAAQEBAQABAAECAAAAAwAAAAEBAAABAAECAQABAAMBAAABAAAAAAABAgEAAQAAAAEAAAEBAAQBAAIAAgECAwEAAAAAAAAAAAMBAQAAAAAAAAIBAAAAAAEAAAMAAQECAAEBAAAAAAEAAQAAAAAAAQEAAAECAgAAAwABAAABAQMAAwEAAAIAAAICAgAAAgEBAQIBAQABAAABAAECAAIAAAABAAAAAQEAAQEAAAICAgABAAAAAAAAAQAAAgEAAgEAAAAAAQAAAQABAAMBAQEAAAAAAQABAgEAAgEAAAEBAAEBAgEBAgACAAEBAwABAAAAAAAAAAAAAQIAAQQBAAMAAAMAAAEAAQIAAAEBAAIBAQEAAAAAAQEBAQAAAQABAAEAAQAAAAECBQABAgAAAAECAAABAQEDAAEDAQABAAAAAAAAAQIAAQABAQEAAQAAAAACAQEBAAAAAQEAAAEAAAAAAAEDAgAAAAAAAAAAAAABAAAAAQABAAEBAAIAAQEBAAIBAQIAAQACAAABAgABAQAAAgEBAQEBAAEAAgACAgEBAgADAgEBAQEAAQEAAQAAAAAAAAEAAAAAAAAAAAABAAAAAAABAQIAAAIAAAIAAAIBAgABAAEAAAICAAEBAQEBAAABAAAAAAEBAQEAAAMAAQAAAQIAAAEBAQECAAEBAAEBAQAAAgEAAgABAQEAAgEBAQABAAEAAAEAAAAAAQEAAQIAAQICAQABAQIAAAIDAAAAAAEAAAEAAgAAAwAAAQEBAQEAAAIAAAACAAACAAABAAIBAQIAAQEBAAICAAEBAAEAAAABAQAAAQEAAAEBAQEBAQABAQABAAAAAgEAAQEBAAEBAQAAAAABAQIAAAAAAAAAAAEBAgIBAAEBAAEAAAIBAAABAAAAAAEAAQIAAwEBAwEAAgAAAAAAAgACAgAAAwEAAAECAQAAAQIBAAEBAgAAAAABAQABAQAAAAACAQEBAQIAAAABAAAAAAEBAQEAAAABAAACAAEBAAAAAAECAAAAAAAAAgACAQEAAQAAAQIBAAACAQEAAAABAAABAQEDAQEAAAACAQECAAABAQIAAQEAAAADAQAAAQAAAQEAAgEBAAAAAAABAQEAAQAAAQAAAQEBAAAAAAABAAEAAAEAAAECAQAAAAEAAAABAgEAAQECAQIAAgAAAQACAAAAAQEAAAEBAQAAAAEBAAAAAAAAAAAAAAEAAQABAAACAQEBAAAAAQMAAAAAAgICAQAAAQAAAAAAAQABAAAAAAAAAwABAgEDAAEAAQACAAEBAQEAAAAAAAEAAQIBAAAAAAABAQAAAAEAAQEAAgIAAAEDAAAAAAEBAQIAAQACAAAAAAEAAAACAgEAAQEAAQAAAAIAAAIAAgAAAAMAAQAAAAEAAAEAAQIAAAIAAQABAwAAAQABAQAAAAEBAQACAAABAQACAQACAwAAAQMAAQMBAQAAAQACAAABAAEBAAMCAAABAQAAAgEAAQABAAAAAQIAAAABAAEAAAAAAgQAAAEAAgAAAAEAAQAAAAEAAgACAAAAAQEBAAABAAEAAAAAAAAAAAAAAQACAQEAAgAAAAIAAAEBAAAAAAAAAAAAAQAAAQEBAQEAAQEBAQAAAgEAAwABAQIBAAEAAAEAAAEBAAAAAAACAAEBAwEBAQABAgEAAAABAAABAgEBAAEBAgABAwAAAAEAAwIAAQIAAAEAAAAAAQAAAAAAAAABAAAAAgIBAAAAAQEBAgACAQEAAwABAAAAAgABAAAAAgEBAAABAAIAAAABAAEAAAICAQAAAAEAAQAAAgEBAQACAAAAAgECAQEAAAAAAAEAAAACAAEAAQIAAAEAAAEBAwABAAABAQABAQIBAAAAAAEBAQEAAAAAAAEBAAEAAQAAAAEAAAABAAAAAAECAAABAAEAAQEAAQABAAAAAAEAAQIAAAAAAAEAAAABAAAAAAAAAQAAAwEDAgAAAAABAAEBAgABAAABAQIBAQEBAQACAQAAAwAAAQAAAwAAAQEBAAAAAgEAAAAAAAAAAAEAAwEBAQEBAQACAQAAAAABAAAAAAAAAAAAAAAAAwAAAQAAAAACAQEBAQABAgAAAQAAAQAAAAABAQEAAQAAAAEBAAAAAQABAwAAAAEBAQIAAQEDAgAAAAAAAQEBAQABAAAAAQABAAAAAAAAAAAAAQACAwIBAQABAAIAAQMAAAIAAQEAAQEBAgEDAQABAQABAAACAAABAAIAAAABAQQBAAAAAAABAgIABAAAAQMBAQEBAAABAAAAAQABAAAAAQEAAQABAAICAAABAAIAAQEAAgIAAQAAAgABAQEAAAECAQAAAQEAAQEAAQABAQABAgABAAEBAAACAAABAAIAAAAAAgABAQAAAAECAAAAAAAAAQEBAAEAAAEAAAEAAAEBAAEBAgEAAAEBAAAAAAAAAAEBAAIBAAEAAQAAAAEAAAEBAQAAAQACAQABAQIAAgAAAAAAAgAAAQECAAIAAAAAAAEAAQACAQAAAAEBAgACAQABAQQAAgEAAQABAQAAAwEBAAACAAEBAQECAQIBAAAAAQABAgABAQEBAAABAAIBAAAAAQABAQABAQABAQABAQABAAACAAEBAQEAAAAAAQAAAAABAQABAAIAAAEAAAABAQAAAAEAAAIAAQICAQAAAQICAQABAAABAAAAAAIBAAEAAAEAAAABAQEAAAABAQAAAAAAAQEBAQEAAQABAAACAAIAAQEAAAEBAQEAAgAAAAABAQECAQABAAEBAAABAAAAAQEAAAIBAQICAQEAAAACAQIAAAEBAAEAAAEAAQAAAQADAQMAAQABAwEBAAACAAAAAgABAAABAAIAAAEBAQABAAECAAEBAAEAAAAAAAACAwABAAEAAgAAAQABAAIBAAAAAgACAAAAAgABAAABAgEBAAIBAQEAAQEBAAACAAAAAAEAAAAABQAAAAABAAEAAAAAAAEAAAAAAAEAAQACAAABAAIBAAIBAQABAAAAAAEAAQAAAgAAAAAAAwABAAABAQEAAAAAAgAAAwAAAAABAAEAAAAAAQAAAQACAQAAAAABAAEBAQABAAAAAQAAAAEAAAIBAgAAAQAAAQEBAAEAAAACAQAAAAAAAAIAAQIAAgIBAAEBAAAAAQABAAAAAQABAQEAAQAAAQACAAEAAgAAAAIAAQECAQAAAAAAAAABAQEAAAAAAAEAAAEAAAEAAgABAQABAgEAAgEAAAAAAQAAAQABAgEAAAAAAQABAQECAQABAAEAAAEBAAAAAAABAQICAgAAAQAAAQIAAAEAAQABAAEAAAABAgIAAQABAgIAAAEAAwMAAAABAQAAAAACAQACAAEAAAAAAAADAAIBAgABAgEAAwEBAQAAAgAAAAACAAEAAAEBAAABAAEBAQEAAQACAQABAAABAQEAAgAAAAEBAAABAAAAAQEAAQEAAAAAAgAAAAABAAAAAgEAAAIAAAAAAAAAAAABAAAAAgECAAEBAgEBAAAAAAAAAQEAAgAAAAEAAAACAAACAAABAQEAAQABAQAAAwIAAAADAAEAAAECAAAAAAAAAQAAAgABAAMAAAAAAAABAAEAAAAAAgIDAgACAgEAAQAAAAAAAQIBAQABAgEAAAMCAQEAAgICAAAAAgAAAQABAQEBAAAAAAACAQABAQACAAEFAAAAAAABAQAAAQQAAgEAAAAAAgABAQEBAAEBAAIAAAEAAAEBAgEBAAEBAQECAAIAAQAAAgAAAQABAQIBAgAAAQEBAQIBAAMBAAAAAAEAAAAAAAEAAQABAgACAAACAAAAAAAAAAEAAAAABAAAAgAAAAICAQAAAAAAAAAAAwEBAAABAQEAAQACAgAAAAEBAAAAAAAAAQEAAAAAAQEAAAABAAAAAAABAAABAQEBAAAAAQAAAQABAAECAAIBAAEBAQEBAAABAgEAAQIBAQABAAAAAAAAAQACAQAAAQEAAAEEAQAAAAEAAAAAAQEBAAAAAgIAAAEAAQAAAAAAAgEBAQEAAAAAAAABAgAAAAABAAABAAABAAEAAQEBAAACAQABAAIAAgECAAIAAAAAAAABAAEAAAAAAAAAAQADAQAAAQEBAAEAAQACAQIAAAEBAgABAAEAAAAAAQAAAAEBAQEBAgEBAAEBAAAAAQEAAAICAQIAAQADAQEAAAEAAQIAAAAAAgEBAgMAAQEAAAAAAQACAAECAAEBAQAAAQACAQEAAQABAAAAAQAAAQACAQEBAAAAAAABAQAAAQMAAQEAAAIBAwEAAQACAQICAQAAAQABAQEBAQABAQACAAAAAAEBAAEAAQIAAAAAAQEAAAEBAAIAAAAAAQEBAAIAAAAAAAIAAAEAAAICAAEBAQEAAAAAAgMBAQIAAAAAAAAAAAACAAAAAAAAAAEAAAEBAAIBAgABAAEAAAABAAEBAAEBAAEAAAAAAQAAAAACAQEBAQEBAAAAAwABAAABAQEBAQEBAAABAQEBAQIAAQAAAQABAAAAAAAAAgABAQABAgEBAAECAQABAAAAAgEAAAICAQAAAwMAAAABAQECAQAAAQEAAAAAAAEBAAABAQEAAQEBAAAAAAEAAQEAAAEAAAEBAgABAQAAAwIAAAEBAQICAAAAAAABAAEAAAABAAADAAEBAAEBAQABAAEBAAAAAQEAAAABAAABAAIBAQAAAAICAQABAgIAAAEAAAABAQEBAwEAAAABAQAAAQIBAAACAgEBAwEAAAABAAEAAQABAAADAwAAAQEAAAEAAQABAAAAAAEBAAAAAQAAAgAAAQEAAQACAgAAAAEBAQAAAQAAAAAAAAEAAgABAAAAAQACAgAAAAEBAAABAAABAAEBAAAAAAABAQEAAAIAAQEAAAEAAAECAAEAAAABAAABAQAAAAABAAEBAQAAAQADAQEAAQABAAAAAQABAAABAQEBAAAAAAACAAEAAQEBAAABAgEBAAEAAQAAAAIAAQIAAQECAAIDAAACAQAAAQADAQIAAAAAAAABAAABAAEAAAEBAAIAAQEBAQEBAQAAAAEAAQEBAQACAwEAAQAAAQECAAEAAAEAAQEAAAADAgIBAQECAAEAAgAAAAEBAQABAAECAQAAAQECAQACAQAAAQABAAABAQEAAAEAAgACAQIBAQIAAQADAAAAAAEAAQABAAIAAgACAQEAAQAAAAABAAIAAAIBAQACAAAAAAABAAAAAQACAQAAAAEAAQAEAAEBAAEBAgAAAQAAAgEAAQIBAAABAAACAAAAAQABAQEAAwAAAQEAAQAAAQIBAQIAAgAAAAAAAAIAAQEBAgAAAAAAAAAAAQABAQABAAAAAQQBAAAAAAEBAgEAAAABAAECAgABAAAAAAAAAQACAAABAAMAAAACAAABAQEAAAEBAAAAAQIAAQEBAQAAAgAAAQEAAgIBAAIBAAAAAAIAAQABAAEAAAEAAAEAAAABAAEAAAECAAEAAAEBAQICAQACAAAAAAABAQAAAQAAAAIBAQEAAAEBAQEAAAAAAAABAQECAAAAAQABAAEAAAACAgIBAQAAAAACAQMAAAICAwIBAQAAAQECAwABAAEAAgAAAAAAAAEDAQACAQIBAAADAAEAAAABAAABAAAAAAACAAAAAQADAAEAAQEDAQEAAQEAAAABAQABAQABAAIAAQIBAQEAAAABAAAAAAEBAQIAAQIAAgAAAAEAAgEAAAEAAAEAAAABAQEAAAAAAgAAAAAAAAAAAAAAAAAAAwEAAQEAAwABAQEAAAIBAAABAQAAAAAAAAABAgEBAQIAAQABAQABAQEDAQABAAEAAAEBAAABAAEAAAEBAgMBAQECAQABAQAAAgACAgEAAQEDAAECAAEAAAEAAQAAAAECAQAAAAAAAQEDAAAAAAABAgEAAAABAAAAAQEAAQABAgEAAAACAwAAAQABAAEAAgAAAQAAAgEBAAEBAAIAAQABAAAAAQAAAQMAAQIAAQEAAQEAAQEAAAEDAAADAAECAAIBAQEAAAAAAAAAAAABAAEBAQABAQECAAEBAAEAAQIBAAEAAQIAAAAAAQEAAAABAAABAQABAAEDAAABAAABAAAAAAEAAAEAAQEBAgAAAQABAQEAAQAAAAICAAAAAQEBAQIBAAAAAQACAQADAQABAQICAQEDAwACAQAAAQEAAAABAQAAAAAAAgIAAAAAAAAAAAEBAQIAAQAAAgEDAAABAgECAgIBAQEAAQIAAAECAQEBAgEAAAAAAAEABAEAAAEAAAAAAAAAAAIAAwEBAgAAAgAAAAEAAQADAwEAAgECAAADAAQBAAAAAgAAAAEBAQIBAQECAQEBAQACAwABAAABAQEBAAIBAgIBAAAAAQABAQEBAAAAAAEBAAIBBAAAAwAAAgECAAEAAAAAAQABAgEAAQABAQEAAQABAgABAQAAAAABAAAAAAMBAAEBAAEBAgAAAQAAAQAAAAAAAAAAAgEBAAABAQABAQAAAgAAAQMBAgAAAAAAAQABAAABAAEBAAEAAQABAAMCAAABAAABAAIBAgEBAAEBAQAAAAIBAAIAAQABAQABAAAAAAIBAAEBAAAAAAABAQIAAAADAgEBAQAAAQICAAACAAEBAQECAgAAAAABAAABAAAAAAEAAQADAAAAAAAAAQIBAAEBAQAAAgAAAgEBAAACAAABAAEBAQAAAAEBAgIBAQMAAQABAAIAAQAAAAIBAAAAAQAAAQEBAAIAAAEAAAEBAAEBAQABAAAAAAACBAEBAAAAAQIBAQEBAQACAQAAAQECAQABAQABAQIAAQAAAAAAAAABAwABAAEAAgABAQIBAAEBAAADAgACAQAAAQEBAwAAAAEAAwAAAQABAgAAAgABAQIBAgIBAQAAAQABAQEBAQAAAQABAAEAAwIAAgABAgAAAAEBAQAAAAAAAQAAAwAAAQIAAgMAAAECAAABAQEAAAEAAQABAgADAAEAAQABAAEBAAAAAAABAQMBAQIBAwEAAQABAAIAAAIBAAEAAAABAQEAAAIAAgECAAEBAAAAAAAAAAEAAQABAgABAwAAAAIAAQAAAQACAAABAgAAAAEBAQEBAQABAAABAAABAAEAAAABAAEBAAQBBAABAAAAAAEAAQIAAAEBAAEDAQACAQABAAEAAQABAgAAAAACAAABAAAAAQABAAAAAQAAAAAAAQAAAQACAQEAAAAAAQIAAAEAAQEBAAAAAAACAAIBAQABAwACAAAAAAMBAAAAAQIAAAABAQAAAQEBAQAAAQAAAQEBAgEBAwIAAgAAAQIAAQABAAACAAEBAQEAAAEAAQAAAAAAAAEAAQEAAAIBAQEAAAEAAAEAAQABAgAAAAEAAAACAAABAAAAAgMAAQAAAgAAAgEEAAECAAIAAAAAAAAAAQABAAEBAAEAAQMBAgECAQAAAAABAAIAAAIBAwAAAQMBAAABAQEAAAEBAQEAAAEAAgABAgAAAAIBAAMAAQEAAQABAgEAAAEAAAAAAAABAgAAAgEBAAAAAAEDAAEAAwAAAQAAAQACAQAAAQACAAABAQABAQECAAECAgICAAIAAQECAAAAAQABAQEDAAMAAQECAQABAQAAAQABAAAAAQAAAAAAAAABAAAAAwEBAQAAAAAAAAIBAQAAAAACAAIAAAIAAQIAAwAAAgAAAAABAgABAQEAAQEBAAEAAAAAAQEBAQAAAQABAQAAAAECAAAAAwAAAQEAAAEAAAIAAAAAAQAAAAEAAAABAAMBAgAAAAABAAEAAAABAAAAAAIAAAAAAgECAAABAAABAQECAAIAAAABAAIBAQABAQABAQABAQEAAgIBAAABAQEAAAAAAAEAAQAAAAABAQEAAQIBAgIAAQAAAQAAAQACAAIBAAEAAAABAAIBAQEAAAEAAAMAAQABAAEAAgABAQAAAgACAQICAQEAAQEBAQEBAAABAQEAAAABAQEBAAEFAAAAAQEBAQMBAQIAAQEBAgABAQEAAAAAAAAAAAIAAQEAAQAAAAACAAEBAQEAAAAAAQIBAAAAAAEAAAECAAMAAAEAAQABAAIAAQIAAAAAAAACAAAAAAEAAAABAQABAgECAAEAAAABAQQAAQAAAAIAAgABAQIAAAAAAQEAAAEAAAAAAAADAAEDAAEAAAEBAQEBAQEAAQAAAAAAAwEAAAEAAgABAAEBAAABAAEAAQIAAAAAAQAAAAIDAAAAAAEBAQAAAQABAAAAAAEBAAAAAAEAAgADAAABAAAAAQACAQIAAQAAAQIAAQEBAAEBAAAAAAABAQABAQIBAgEBAAEBAQACAQACAQAAAAEAAAEAAAABAwEBAAIBAgABAAEBBAEBAQAAAAICAQAAAAACAAEBAwIBAgAAAAAAAAABAQAAAAABAwEAAAACAQACAQICAQEBAAECAAAAAAACAQEAAgABAAABAAAAAQMBAAABAAAAAQEDAQIBAAABAAEDAAAAAAABAgABAQEAAAEBAQABAQIAAAACAQABAAEBAAAAAAEBAwAAAAEBAAEAAgABAQEAAQABAAADAAAAAAAAAAACAQIBAQAAAQMAAAEAAAEAAQACAgEBAQACAAAAAAECAAABAQAAAAEBAAEDAQAAAAAAAAABAQIAAAAAAgECAQECAQIBAgIAAQAAAQAAAAAAAQAAAgACAAABAQAAAAAAAAAAAQAAAAEBAQAAAQEAAAAAAAIAAAIBAQEAAAEAAgEAAAEAAAEBAQECAAEAAQAAAQEBAAIBAAIBAQABAgAAAQIDAQEBAAIAAQMAAAEBAQEBAQABAAAAAAEAAQABAAAAAAIBAAAAAQAAAQEAAAEBAQIDAQAAAAABAQAAAQEBAgEBAwEAAAAAAAAAAAABAAIBAAEAAQIBAAABAAABAQEBAgIBAQIDAQAAAAAAAgMAAQEAAQAAAgEAAAAAAwEBAwEAAAACAQEBAQMAAwAAAQEAAAAAAQACAgABAAMAAAIBAgEAAAEAAAACAAEBAAACAgEAAAABAQACAAEAAAABAAECAgAAAAEBAQAAAAECAAEAAAAAAAEAAAEAAwAAAAMBAAEBAQEBAQAAAQACAAACAAEAAAABAAMCAQECAAQBAAEBAAIBAAACAAECAAEAAAEAAAABAQEBAQAAAgAAAQIBAAEBAQIAAQEAAAECAAABAgAAAwAAAAABAQAAAAABAAABAAABAAACAAACAAACAAAAAAAAAAABAAEAAQABAQAAAQIAAQEBAQEAAAEBAgIAAAAAAQEBAAIAAgAAAAEAAAEAAgEBAQABAQAAAAECAAMAAAMAAAABAAAAAAAAAQEAAwEAAgABAQEBAwAAAAABAgEBAQAAAgABAAEBAAADAAIAAQABAwAAAAMCAAMAAAABAQAAAQAAAQAAAAEBAAADAgACAQABAQEBAAEAAQACAQECAAECAAABAAAAAQIBAQABAAECAwEAAAIBBQABAAABAQAAAAADAAAAAAAAAQAAAAECAQACAAAAAQAAAgABAAIAAAEAAAABAQABAQAAAgAAAAAAAAAAAAEAAQEAAAEAAAMBAAEAAgECAQEAAAEAAAEAAAIAAAAAAAIBAAABAAAAAQAAAQAAAAABAAACAQABAQEBAgEBAAQAAwEDAAIAAQABAgIAAQIAAwAAAAEAAQEAAAIBAQAAAQAAAAABAAAAAgABAQIDAQEBAAAAAAAAAAEBAAEBAAEAAQEBAQACAAAAAAEAAwABAQAAAAAAAgAAAAEAAQAAAQIAAgEAAQEAAQACAAAAAAEBAQEAAAECAQACAAAAAgEAAAAAAQEAAAADAQICAAIBAAEAAAAAAAABAAEAAAEBAgEDAAACAQACAQAAAgAAAgAAAAEBAQACAQIAAQAAAQEAAAAAAQIAAQAAAAIBAQECAQEBAQAAAwEBAQAAAAEBAAACAAEAAQIDAAADAQEAAQAAAAACAQAAAAAAAAABAQECAQAAAQABAQAAAQMBAAEAAAAAAAIAAAAAAAEAAAAAAAAAAQECAAAAAQEAAQABAAACAAABAAABAAAAAAAAAAECAQACAgEBAQIAAAEAAQAAAAAAAQIBAQACAQAAAgECAAABAQABAAEAAQICAAABAQEAAAAAAAAAAAEBAAABAQABAQEAAQIAAAMBAQABAQECAQMBAAABAAICAQABAAEBAAIBAAMAAAABAAACAQEAAgAAAQACAAEAAAEAAAIAAQEAAQACAQAAAQEBAAAAAQEBAAEBAgACAQEAAQECAAABAQEAAAAAAQAAAAABAAAAAQAAAQAAAgAAAQAAAQMBAgEAAQABAwAAAQICAAEAAAACAQEAAQEBAAABAQIAAAEBAAIAAgACAQEAAAABAAECAAEAAAAAAQAAAAABAQADAAEAAgAAAQAAAgEAAwIAAAEAAgADAAAAAQAAAQIBAQACAQACAAEBAgABAAAAAAABAAAAAAEBAwECAAAAAAIAAQMBAAAAAAAAAwEAAAABAAIBAAEBAAEBAgABAAABAgIAAAIBAQEAAAEAAAABAQAAAQEAAQEBAAEBAQACAgACAQACAgEBAgEBAAEBAAAAAAABAAEAAgAAAAABAQAAAQEBAQABAQAAAAACAAEDAQEBAQABAAICAAABAAABAQABAAEBAAEDAQACAAIAAQACAAAAAQAAAgIAAAAAAQECAAABAgACAAABAAEBAQAAAQABAAEBAAEAAQABAQIBAwEBAQEAAAEBAAAAAwACAQEAAAAAAQABAAICAAABAQAAAgABAAIAAAECAAICAAEAAQABAAAAAAAAAAABAAEAAQIAAAEAAgECAAIBAAABAQEBAQAAAQAAAAABAgABAQIAAAEAAAAAAgABAwEAAAEAAAEAAQABAgECAAICAwIAAAEAAAEAAQAAAQAAAAEBAQAAAQEBAQEBAgEAAQIAAQEAAQECAgEAAgABAQEBAAAAAAACAQACAQEAAAABAAMCAAABAAABAAEAAAEBAAEBAQEBAAABAAAAAQAAAQAAAQABBQEBAgMAAAABAgEBAAEAAAEBAAAAAAAAAQEDAgABAQEBAAAAAgABAAEAAAEAAAECAQADAAAAAQECAAABAQIBAwAAAAEAAQAAAAEAAAAAAAAAAQAAAAACAQACAAABAQECAAAAAAACAgAAAAEAAQACAAEBAAIAAQADAAEAAQEDAAABAQEAAAAAAAABAAABAQABAgABAAIDAAECAQABAQEBAQEAAAEAAAEAAAAAAwAAAAEBAQECAAECAAAAAAIBAQEAAAAAAQEBAQEBAAABAgABAAEAAQAAAAAAAAAAAAAAAQAAAAAAAAEBAAABAQAAAAIDAAEAAgABAQAAAAABAQEBAAMAAgACAQAAAQEBAAIAAAEAAAABAAABAAEAAgIBAAAAAAACAAABAwMCAQABAAABAAABAAAAAAABAgIAAgEAAQABAAMCAQABAAEBAAAAAAEBAQAAAQACAQAAAQEAAQABAgIAAQEDAAACAAECAQAAAAAAAAAAAAEBAAEAAAAAAAAAAAAAAAAAAQEAAAABAAAAAQEAAAAAAQAAAAAAAAIAAQAAAQEAAAAAAQIAAAAAAQEBAAABAQEAAQEBAQEBAQAAAQMAAQAAAAAAAAAAAQEAAAEAAAAAAAAAAQAAAAEAAAAAAAABAQIAAAEAAQABAAEAAQAAAAABAQAAAQACAAAAAAABAQAAAAEAAAECAgACAAAAAQABAAABAAEBAAAEAQIAAAEBAAEBAgAAAQAAAwEBAAACAQICAAMAAQECAAAAAAAAAgAAAQICAwAAAQEAAQABAAEAAAACAAIBAQEBAAEBAAIBAAABAAAAAQABAAABAQAAAQEAAAEBAAEBAAAAAQAAAQEBAAEAAgEBAgAAAAABAAABAQAAAQAAAAAAAQAAAAABAAEBAAABAQABAgEBAQAAAAEAAAABAQEAAAABAAAAAAIAAgAAAAABAAABAAEBAAECAAABAAEBAAEBAAEBAQEAAQABAAEAAAAAAAMAAAABAAABAQAAAAACAAACAgEAAAIAAAECAAACAAACAAABAAABAgACAAIBAAAAAAIAAQAAAgIBAgIAAAEAAQABAAABAQEAAwAAAgMAAAAAAQEAAQAAAgEAAAECAAAAAAEAAAEAAAEAAgABAAACAQABAgEAAAIBAAEBBQAAAgAAAQECAAIAAQIBAgABAAACAgAAAAEBAAECAwMCAAMAAAAAAgEAAQEAAAICAAIAAAACAAAAAAABAgQCAAIDAQIAAAEBAgABAQABAAAAAQIBAQEBAQIAAQEAAAECAQAAAgEBAAABAAAAAAABAAAAAQAAAQEAAgAAAAEAAAMAAwAAAQAAAQABAQMBAQEBAQAAAAIAAQAAAQEAAAAAAAACAQEAAQABAQAAAAIBAQEBAAECAAQAAAECAQABAQEAAAEAAAEAAQEAAQIDAAAAAAAAAQAAAQABAAIBAgAAAAEAAAACAAEAAQIBAAABAAIAAAAAAAAAAAEAAQEBAgEAAQIAAAEAAAIAAAABAAEAAAABAAICAQABAAABAAABAQACAAABAgEBAAAAAgABAAAAAAECAQEBAgEBAAABAwIAAQAAAQAAAQEAAgAAAAIBAAIBAQEAAgEDAAAAAQAAAAABAgEBAQIAAAABAAIBAAEAAQABAQAAAgEDAQEAAQAAAAEBAgICAQEBAAABAAADAAECAgABAQEAAQEAAQAAAAAAAQEAAAAAAQEAAQMBAAIAAAABAgEBAAEBAQEAAAABAAAAAAEAAAABAgMBAAAAAAAAAAEDAAAAAAEBAAABAQEAAAEBAgEBAQAAAQAAAAEAAQADAQABAAACAAADAAAAAAAAAQEAAAEAAwEAAAEBAQEBAQAAAgECAQIAAAAAAQECAQAAAAABAQAAAAACAgEAAAAAAAAAAQEAAAACAAAAAAIBAAEBAAEAAAABAAAAAAEBAgABAQEAAwIAAgEAAAICAAAAAQACAAEAAgAAAAAAAAACAQAAAAEAAQAAAAICAQEBAAAAAAEBAQABAQAAAAAAAAABAAACAQABAgEBAAABAQABAAABAQEAAgAAAgECAAEBAAABAAABAAAAAAABAAEAAQIAAAEAAgEAAAECAgEAAQACAAAAAQMAAQAEAAEBAAIBAAIBAQECAQABAAAAAAEAAAAAAAEDAwEBAQEBAAIDAAAAAQAAAAEBAAEAAgEAAAIAAQABAAIAAgQBAQABAAEAAAIFAQECAAABAQABAQIAAgECAQIAAQMAAQIAAAIBAAAAAQAAAgAAAAICAQAAAAEAAAAAAAACAQIAAQABAgABAAIBAAEAAAAAAAIAAAACAgEAAwAAAQECAAAAAQEAAQABAQABAAEAAAMAAgABAwIBAAEAAAABAQEAAAMAAQABAAABAQEBAAEAAAAAAQABAAACAQAAAAECAQAAAgEAAwIAAQAAAQIBAQAAAAABAAEBAgADAQAAAAABAgAAAgABAQICAAIAAgAAAQACAAEDAAEBAQEAAQEAAAEAAAAAAAEAAAAAAQIBAAAAAQABAQABAgAAAAIBAgEAAQAAAQEAAAAAAQAAAQAAAAECAAECAQEBAAAAAQAAAAAAAwACAgIAAQACAAABAgABAQIAAQABAgEBAQABAwIAAAECAgIAAQECAAIAAQEBAgIAAAEBAAACAAEBAQABAQEAAgAAAQEBAgEAAAEAAAAAAAMBAAEAAAEAAAEAAQMCAgQAAAAEAAAAAwABAQEAAAEBAQABAQABAAEAAQAAAAECAQEBAAICAAABAQIBAAAAAQEBBAIBAAABAAAAAAAAAAEAAQEAAgAAAAABAQEBAQAAAQABAAIAAAMDAAAAAQAAAAIBAgECAgEAAQAAAQEAAQEBAAABAAAAAQEAAAAAAQEAAQAAAgIAAAIAAAAAAwAAAQEAAgABAAABAAEAAQEBAQAAAgEAAAAAAAEBAAIAAAADAAEAAAAAAAEBAQAAAAABAAACAQEBAAAEAAEEAAEBAAACAQABAAEBAQEAAAABAQEAAAABAAIAAQAAAQAAAAAAAAAAAAACAQAAAAABAAABAAEAAAACAQEBAQEAAQACAAECAAACAgECAAAAAAEBAQABAAEBAQAAAgEAAAEAAAIAAAECAAQAAAAAAQAAAAEAAQAAAAAAAAIDAAABAQACAgEBAAEBAAAAAgABAAEBAgAAAAIAAQEAAAACAAMBAgABAAICAQABBAIBAwACAAIBAAEDAAABAAAAAQEAAgEAAgABAQABAQADAQEAAQAAAQEBAAEBAAACAAEAAAEBAQABAwECAAAAAAABAAAAAgECAAEBAAADAAECAAAAAAECAQABAAEAAAEAAAEBAQAAAAABAAAAAAICAAECAAAAAQACAgAAAgACAAEBAAIBAAACAAAAAAEBAgABAAAAAAEAAgICAQIAAAAAAAAAAAEAAgAAAAAAAQECAwAAAQEAAAABAgAAAQEBAQACAgACAgAAAQMAAAIAAAEBAgAAAgIAAAEAAAAAAQEAAgAAAAMAAQAAAQAAAAEBAQAAAQACAAAAAAAAAQEAAwABAwECAQEAAQEAAAEAAAEAAgEAAQAAAAAAAAAAAAIAAQEEAQIAAQEDAAABAQABAQEAAAEDAgIBAgIBAgEAAAEBAwABAAACAQIBAwABAAICAAACAgIBAAAAAQABAAEBAAAAAAIBAAABAQAAAAAAAAEBAwIAAQAAAQICAQEBAQABAAACAAECAAMAAAACAQACAQEBAQABAAAAAQAAAwABAAAAAQEAAAIAAQABAAAAAAAAAAEBAAEBAQEBAAAAAgMBAAMBAQAAAQEBAQIBAQICAQECAAAAAgEBAAAAAAEBAAAAAQEAAQEAAQABAQIAAgAAAAAAAAMAAAMAAQEBAgIAAgEBAAIAAQABAQEBAAABAAAAAQEBAAEBAAEAAAAAAAEBBAAAAgIAAAEAAQABAQIBAAEDAAEBAAEBAAEBAgEAAgABAgAAAQEAAwAAAQEAAQECAQEBBAIAAAACAQACAgABAQEAAAABAQEBAAEAAQACAAEAAgABAQABAAABAgEBAgADAAAAAAAAAAAAAAEAAgABAAABAQAAAAIAAQEAAAIAAAEAAAABAAIBAAABAAABAQIAAQIBAAACAQACAAAAAQEAAQABAQABAQAAAAAAAQEAAAIBAAIBAAEAAgECAQMAAAEBAAEAAAADAQEBAAEBAgABAAIAAQABAQECAAAAAAAAAAABAAABAgMCAgEBAAEBAQADAQABAAAAAAABAAABAQACAQEAAQEAAgEAAQECAQECBAMAAQABAQEBAQABAAAAAQABAAEBAQAAAAABAgAAAAAAAAICAAABAQEBAAEAAQAAAAEAAQABAQIBAgABAQEBAAAAAQABAAABAAEBAAEBAAAAAQAAAAAAAgMAAAECAQEAAAEAAAEAAQIAAQEAAAACAQABAAEBAAACAAQBAQIBAAEBAAACAQEBAQEBAAAAAAIAAgABAgACAwEAAAAAAgAAAgAAAQABAwIAAgEDAQAAAQEBAAEDAAEBAAAAAQEAAQMAAQAAAAEAAAEAAAABAAICAQACAAEAAAABAAACAgACAAAAAwEAAgIDAAAAAQABAAABAAEAAgEBAQAAAAEBAAICAAABAAEAAAACAAECAQABAAABAAEBAAECAQEBAAAAAAABAgEBAAIBAAAAAgACAAABAAABAAAAAQIAAAEAAgECAQAAAAAAAAABAAIBAAMAAQEBAAAAAAAAAAABAAEAAQIAAAECAAAAAAEAAAIAAQEBAAEAAQAAAwMBAwAAAAICAAMBAgABAAABAQABAAABBAABAAACAgAAAQABAQAAAQAAAAMCAQMAAAABAAEAAgACAQEBAQEAAgEAAAEBAgIAAgAAAAEBAAAAAAABAQECAAEAAQEAAAABAAIAAAIBAAEDAAEBAgAAAAIAAQAAAQAAAAEAAAABAAMBAwAAAAAAAQEAAAACAAABAAEAAAIAAQAAAAEAAQAAAQEAAgAAAQABAAIBAAEAAAECAAABAAMAAAAAAAAAAAABAQAAAAEAAgEAAAABAQAAAQAAAAEAAQEBAQAAAQEAAQAAAAEAAgAAAQACAgIBAAAAAAAAAAIAAQEAAQEBAgABAAEAAAEAAAACAAEAAAABAQABAgACAAAAAAABAAABAQAAAAIAAQAAAQEEAAAAAAEBAAIBAgIAAAAAAAAAAAACAAACAQEBAgAAAAMBAQEBAAAAAQAAAQEAAAIBAAAAAQAAAAEAAQABAQAAAQECAQAAAQEBAgAAAQAAAAEBAQAAAAAAAQECAQAAAQACAgIBAQMAAAABAAAAAQAAAgAAAQAAAQEAAAEAAQACAAABAQEBAAABAAEBAAEBAAABAAIAAAEDAAABAAEBAAABAAEAAAEAAQEDAAAAAAIAAQEAAAEFAgAAAQAAAAABAAEBAAABAAAAAQABAgIBAAEAAAEAAAIAAgEAAAEBAAEAAAABAAAAAQAAAQEBAQIAAAIBAQABAQECAAACAAAAAQIAAQEBAAAAAQAAAQIBAgAAAQACAQMAAAAAAgAAAQEBAAACAAEAAQACAQECAQEAAQACAQAAAgABAQEBAAAAAgACAQABAgAAAAAAAQABAAABAAEBAQAAAQEBAAEAAAECAQABAwAAAAIAAAACAgAAAQAAAAIBAAIAAAAAAAIAAwEBAAIAAQEAAQEAAAABAAABAgAAAAAAAQEAAQAAAAACAQAAAQEAAAAAAAEAAAEBAQIBAAABAAABAQABAAACAAAAAQEBAQAAAQAAAAAAAwMBAQEBAAAAAQAAAQIAAAEBAAEBAQMBAAEBAgEBAAAAAQEBAQEBAgEAAAEBAAEBAAIAAQICAQABAgMDAAEBAAACAgABAAACAAEBAgAAAAABAQQAAAEAAgACAQAAAAACAgAAAAIAAAAAAQEBAQIAAgIAAAACAAABAAABAQAAAQEAAAAAAgEAAAEAAAABAAACAQAAAAEBAQAAAQEBAQICAAQAAgACAgADAQEBAAMAAQEAAQABAAADAAEAAQEBAAEBAgEBAAIAAAEBAQIAAQEBAQEAAQAAAAQAAQEAAQABAAQAAQACAAAAAAIAAQACAQEDAQACAQAAAQABAQEBAAACAQAAAQAAAQABAAEAAgAAAAIAAAEAAQECAQEAAAEBAgMBAQACAAAAAQEBAAAAAgEAAQABAgAAAAEBAQEBAAEAAQEBAgAAAQABAAEAAAAAAwAAAAABAQAAAAEAAAEBAAABAAABAQIBAAEAAQECAAMAAgEAAAEBAAEAAAEAAAADAgAAAAEAAQMAAQEAAQAAAAACAQABAAAAAwAAAAIAAAEAAAQBAAEAAQABAQEAAgABAAEAAAAAAQEAAQAEAAEAAAEAAAADAAAAAAEAAAACAQACAQAAAgABAQAAAAABAQAAAAMAAAABAgIAAgEBAQECAAABAAECAAABAAEAAAEAAQEAAQAAAQMAAAAAAAABAQAAAAABAAEAAAACAQADAQACAAIAAQIAAQIAAAAAAAIBAAABAQEBAAIAAAIBAAEAAQEAAAEAAQEAAQIAAAABAAIAAAAAAAAAAAIBAAAAAgQAAAEDAAMBAwABAAAAAQAAAAECAwACAAIAAgAAAQAAAAIBAAAAAAEBAQIAAgAAAQAAAQIBAQABAQEAAQABAAIBBAABAwICAQEBAAABAAAAAgEBAAEAAAABAAEAAAEAAAAAAgABAAAAAwAAAAIBAwEDAQABAgABAAEBAAECAAABAAADAgEAAgAAAwACAAADAAEEAQABAQEAAQICAQEBAAABAAAAAAABAQAAAAAAAQEAAQACAAABAAAAAAEAAAECAQACAAABAQAAAAEAAQEAAgACAwIBAQEAAAABAAABAQIBAQEAAAEAAAABAgEBAQAAAAEAAAAAAAMAAAABAQIBAgEAAQECAgIAAgAAAAABAQICAgABAgECAAEAAAAAAQACAwAAAAECAQEAAQEBAQEAAQECAQEAAQEAAQEBAAEAAAEAAAEAAAABAQABAgAAAQABAgAAAwEAAQABAgECAgACAQAAAAACAQMBAAIAAQAAAgACAAIBAAAAAQABAQIAAAAAAAEAAQIDAQMAAAAAAAEDAQABAAIBAAAAAAEAAAEAAAABAAEAAAAAAQMAAAEBAAABAQEAAAAAAAAAAgAAAAIAAQACAAACAgABAAACAAEBAAEAAAAAAgAAAQABAAAAAAEAAAABAAEBAQICAwEAAQEBAAIAAgAAAQEBAQAAAAEAAQEAAAIBAQMBAQICAQACAAEAAgEAAgAAAQEAAQEAAAEAAQMBAQEBAAABAAEBAAAAAAEBAAAAAAMAAQIBAgACAAABAAAAAAAAAAAAAAIAAAAAAQIAAAAAAAEAAAABAAIDAgMBAQEAAQACAQEBAQEAAQAAAQECAgABAAEAAAIAAQAAAAEBAAEBAAEBAAAAAAABAQABAAAAAAACAQECAAEAAAAAAAAAAAEAAQAAAQAAAwACAAEBAAEAAAAAAgEBAAAAAQABAQEBAAEAAgAAAAACBAABAAEAAgEBBAAAAQAAAQACAAQAAAABAQABAAEBAQIAAQEBAAIAAAEBAQABAAAEAgEAAAEBAAAAAgECAQACAAAAAAEAAAABAQAAAAABAwAAAAAAAAEBAAAAAQAAAQECAgIAAQEAAQABAQACAQEAAAEBAQAAAAABAQEAAQEBAQECAgABAQAAAQABAgAAAAACAQABAgEAAAAAAAAAAAEBAgEAAQABAQEAAAAAAgICAAECAAMAAQAAAQEBAAAAAQAAAQAAAQAAAgMAAAABAQEBAQEAAAAAAAIBAAEBAAAAAAEAAAMAAgEBAQADAAEAAAAAAAEBAAEAAQEAAAQCAQECAQEAAAEAAAABAAMBAQEAAAEBAgAAAQAAAAEAAAMAAQAAAQACAAEBAAAAAAABAwEAAAABAAAAAAEBAQIBAAEAAAABAAABAAICAAIAAAECAAACAAAAAAABAQEAAgABAAECAQEAAAAAAgICAAICAAEBAQEAAgEAAAIAAgEAAAAAAAEBAQAAAQQAAgECAAIBAQAAAQAAAAABAgEAAwABAAAAAAABAQAAAAEBAAABAgACAQABAQEAAAABAQEAAgAAAAICAAEAAQEBAQIAAQEAAAEBAwABAAECAgEAAAAAAgEBAAEAAAABAAIAAAEBAgECAQACAAAAAAIBAAEAAQAAAAACAAEAAwQAAAABAQABAQABAAACAAEDAAAAAQEAAAAAAQACAQACAAEBAQEAAgEBAQAAAQABAAIBAQICAAEAAAEBAQEBAQABAQABAAIAAAIBAAACAAEAAQIAAAEDAQIAAwAAAAAAAQEBAQEAAQABAQEBAAAAAAEAAQAAAQAAAAABAQABAQACAAABAAEAAAACAAACAgEAAAAAAAEAAAAAAAAAAAEBAgIAAQABAAECAQEAAgQBAQAAAAIBAAACAQEBAAAAAAIBAAEAAQEDAAEAAwABAQAAAQABAAACAwIAAAAAAgABAAAAAAEAAAEBAAABAAEAAQEBAAEAAAAAAAECAgEAAQEBAwACAQEAAAEAAAABAgEBAAEBAAAAAAAAAAACAQAAAAAAAQABAwABAAABAAAAAAABAAIBAAEAAAMCAAADAAEAAAAAAQAAAAAAAAEBAQEBAQACAAAAAAEAAgAAAAIAAAEAAQEBAAAAAAIBAAEBAQIAAwEBAgEBAAIBAQEAAAEBAAEAAQAAAQEAAQAAAgEBAAACAAAAAQEAAQEAAQABAAAAAgAAAAAAAAEAAQEBAAIAAAEAAAEBAAABAAEBAAAAAAAAAQABAAEAAAACAQAAAAABAAIAAAIBAQABAAAAAAABAAIAAAEAAQEAAAAAAQACAAIAAQAAAwEAAQABAAEBAQABAAECAQABAAEAAAABAQACAAABAgIBAAABAQIBAgEBAgAAAAEAAQAAAAABAAABAgIAAgEAAAAAAAABAAEAAAABAAAAAQAAAQECAAABAQACAAEBAQEABAAAAQAAAAEAAAEAAAABAwEAAAABAAEAAAACAAACBQECAAEBAAEBAAEBAAIAAwEEAQACAAAAAgIAAAABAAAAAwEBAAABAAEAAAACAQIBAAEBAQEAAQEAAAEAAAABAAIBAgIBAAEAAAAAAQACAAEAAQAAAgIAAgEBAQADAAAAAAEBAAAAAAABAAEBAgABAAEBAAAAAAECAgEEAwAAAAEAAQAAAAAAAAEBAwAAAQIAAQABAAIAAQEEAQEEAAABAQAAAAIBAQABAAACAAEBAAAAAQADAAEAAgEAAQACAQABAgAAAQAAAQAAAAABAAABAAEAAgEBAAAAAQEAAQABAQACAAABAAECAAAAAgEBAQEAAQEBAQACAAABAAEBAQABAAEAAQABAgACAgECAgEAAAAAAQABAAEAAQAAAQEABAEAAgEAAQABAQAAAQEAAAMBAAECAwAAAQACAAABAAAAAAEBAAECAAAAAQAAAQABAQAAAAEAAgAAAgECAgICAQEBAgAAAAIDAQACAQABAQEAAQABAQEAAwABAAAAAAAAAAIAAAACAAEAAAABAAEBAQIBAAEAAQAAAAAAAQEAAAEAAAEAAQABAQABAAIAAQEAAQABAAMAAQABAAAABAAAAQEBAAAAAgAAAQEBAAAAAQEBAgABAAIAAQAAAAABAQEBAAEBAQABAAEBAQABAAEBAAIBAAACAAAAAQAAAQIAAAECAQEBAQAAAAAAAAEAAAACAQAAAQABAgABAAEAAQABAQABAAEDAAABAQIBAgEBAQAAAAAAAAEAAgAAAAAABAACAQACAAAAAAEAAQABAQEAAgIAAQAAAAACAAAAAAABAAEAAgAAAAAAAAAAAAIBAAABAAEAAgIBAAABAAAAAQABAQABAgEBAQAAAAEAAAABAgAEAgAAAQABAgABAQADAQAAAAAAAgAAAQECAAEDAAAAAAEBAwAAAAECAAEAAQEBAQEAAQAAAQEBAQEBAgIBAAEAAAAAAQAAAQEAAAAAAQADAAAAAQACAAAAAgAAAQEBAAEAAQEBAQEBAAECAgMCAQECAAAAAAAAAAEAAgMBAgEBAAABAAEAAwEBAAEAAAIAAQAAAAEBAAIAAAEAAQABAAAAAAQAAAAAAQAAAQMAAAABAAABAQAAAgABAQEAAAIAAAIAAQACAQABAAADAAABAQAAAgECAgABAgEBAAAAAQIAAQABAAECAQEAAQACAQABAgMAAQAAAAAAAAAAAAEBAAAAAAACAAECAAIBAAAAAQEBAAEBAQIDAQIDAAABAAAAAAABAQAAAQMBAQEAAAAAAAABAAAAAAEAAQABAAIAAAIBAwAAAQAAAAAAAQAAAAACAAIBAQIBAAAAAAAAAAAAAQABAAEAAQABAAEDAAEAAQAAAQABAQACAQIDAAEBAQAAAQEAAAEAAgECAAABAAIAAQAAAAABAAAAAAAAAQEAAQEBAQAAAQAAAQABAAIBAAAAAQAAAAACAQECAAAAAAAAAAEBAgAAAAEAAQEBAgEAAAMAAQEAAQEAAAABAAEAAQEAAAECAQEBAQEAAAABAQAAAAACAQACAAEBAgABAAIAAAAAAQAAAAAAAQAAAAEAAQEAAAABAAAAAgABAwEBAAEBAAIAAQABAAICAwEBAQABAAIBAwEAAQMAAAABAAEBAAIBAQAAAQEAAQAAAAEAAgEAAQAAAQEAAAABAQAAAQEBAgABAAEAAgAAAQAAAQABAAIBAQIAAAEBBAECAAAAAwIBAQAAAAACAAAAAgAAAQAAAAAEAgEAAAABAQEAAAAAAgABAAEAAgEAAAEAAQACAAABAAACAAECAAAAAwIBAAIFAgECAQIAAQEBAAACAQAAAAEAAQEAAQEAAQEAAAEBAQEAAgIAAQACAQMAAQAAAAEAAQEDAgQAAAEBAAEAAQEAAAEAAAAAAAEDAQEBAAABAAEAAQAAAAECAAEBAAAAAQABAAMBAAEAAQABAQAAAAEBAQAAAgAAAQICAAMBAAABAgACAAIBAgEBAQEBAQECAQABAAACAAAAAQAAAgACAAAAAgEAAAABAgEBAAAAAAAAAAEBAQEBAAAAAAAAAAECAAECAAABAAEBAQABAAIAAQABAAEAAAEBAQEAAQEAAQEBAQAAAAAAAAABAAEBAAEAAQABAAIAAQAAAQAAAAEAAAIAAQAAAQEAAAAAAQAAAQAAAAEAAQAAAAEAAAEAAAABAAAAAQMCAQEAAAECAQEBAQIAAAAAAgABAAAAAAABAQABAAECAQABAgEAAQABAQEAAAEAAQEAAAAAAAEBAgQAAAEAAAQAAQAAAAEAAQEBAQAAAAEAAAACAwIAAQABAgAAAAECAAABAAAAAAEAAAMAAQMCAAEBAQIAAQEBAAAAAAICAgABAAEAAQEAAAAAAQEBAAEAAQAAAAACAAIAAQEAAwACAAAAAgEAAQEAAAEBAQADAgAAAAAAAAIAAQEAAAEAAAAAAAAAAQEAAQEAAAEAAAEAAAAAAQAAAQEAAQQAAAAAAAEBAQABAAEAAAEAAQABAgAAAAECAAABAgABAQIBAAEAAAABAQAAAQIAAAIBAAABAAAAAQECAAEBAQIBAAABAAAAAgACAQAAAAIBAQAAAQAAAAIAAAECAAEBAAIAAQAAAAAAAAAAAQABAgMAAAAAAAABAQEBAQAAAAABAAEAAAIAAQECAAEAAAAAAAABAAEBAQAAAAAAAAABAgEAAAAAAAACAQEAAAAAAgABAAEBAAICAQABAQIBAAABAQECAQEAAAABAAABAQAAAgAAAQEBAgEAAQEAAQEAAwEBAAEAAQEAAAAAAQAAAAEBAwAAAAAABAAAAQAAAQEBAAIAAAECAwAAAAABAQEAAQAAAAEAAAACAAEBAgQAAAABAgMAAQEAAAADAAABAAAAAAAAAAEBAgIBAwABAgIAAAAAAQEBBAACAAABAAEAAAAAAAAAAQEAAQEAAQICAQABAQIAAQABAQABAQAAAAQAAAADAAICAQEAAAABAAECAAABAgAAAAMBAAABAgAAAAACAQEAAgEAAQEBAAIEAAEAAQAAAAAAAQEDAAEABAAAAQEBAQAAAgABAAEBAwIAAAEBAAECAAAAAQACAQACAAABAAAAAQAAAQABAAAAAwEBAgAAAAAAAAIAAQABAQABAQEBAAEAAAABAAECAAACAAEAAQACAgAAAQABAAIAAAAAAAAAAAABAQADAAABAQABAAAAAAEAAQAAAQABAgACAAMAAAEBAQABAQEBAQAAAQEAAAABAAABAAEBAAECAgIAAAABAQAAAgAEAAABAAICAgAAAQABAAEBAQICAAIBAQEAAQAAAQAAAQABAQEAAAAAAQEBAAEAAAIBAgEAAAABAAABAQEAAAECAAEAAAAEAAEAAgAAAAAAAQAAAQIAAAEAAQIAAgAAAQIBAQACAwABAQEBAAAAAAMAAgAAAQAAAAAAAAABAQABAQEAAAABAQIBAgEBAAABAQABAQEAAAEBAQECAQEAAAABAAEAAQEAAAEAAQAAAQABAAABAQEBAwAAAAABAAEAAAIBAQIAAAEAAQEAAgAAAAAAAAEAAQAAAgIBAAEBAAEBAAABAAABAAIAAAAAAAABAAAAAAABAAABAAECAQAAAQEBAAEAAAACAAABAQAAAAIDAAEAAgEBAAAAAgEBAQEBAQEAAQMAAAEAAQEAAQAAAAAAAQABAQAAAAABAAICAgEAAQECAAAAAAIAAAACAQEDAAAAAQAAAQAAAQAAAAABAQAAAAIBAQABAAAAAAAAAAEAAAAAAAABAQABAAABAAEAAAABAAIAAQEBAAEAAAEDAAICAQEAAgAAAAEAAAEAAAAAAgMAAQEAAQEBAQABAQEAAQIAAAECAgEBAQMAAAEBAQAAAgIBAAEBAAAAAQAAAQACAQAAAAAAAAEBAgEAAQIAAAMCAQEBAQEBAQACAQEAAAAAAAADAQAAAAACAAIAAQAAAAABAAABAQIAAQADAQABAAMAAQEAAAABAQAAAAACAAEAAgAAAQAAAgAAAAMBAAAAAwAAAAICAgACAQACAAEDAAEAAQAAAAABAAEDAAEDAQAAAAEAAAAAAgIAAAEAAQAAAwEBAAIBAAAAAAABAAEAAgEBAAIAAQIAAQEAAAABAQEBAQABAAEBAAAAAAAAAAIBAAEAAAACAQAAAQABAQECAgAAAAEAAAAAAAADAgEAAAABAAEBAAAAAQAAAAABAQEBAAAAAQACAQEAAQMAAAABAAEBAQMBAQABAQIAAAICAQAAAAABAAIEAAICAAEAAAAAAQMAAAAAAAAAAAAAAAECAAEAAAECAAEAAgEAAQEBAAAAAAABAAAAAAEAAQEBAQACAQABAAACAAAAAQEAAAICAQACAgACAwACAAABAAAAAQACAgEAAQEBAAABAAEAAAAAAAECAAAAAAEAAgABAwABAQEAAgAAAAMBAQACAAQBAgAAAQMBAQABAAEAAAIAAQECAAADAAAAAAIAAAIAAAAAAQIAAAACAQMBAAEBAAAAAQABAAADAAAAAgEAAgEAAgADAAAAAAEBAAEAAQIBAAEAAAABAAQCAgEBAAEBAAABAQICAQAAAwEBAQAAAQABAQEAAQEEAQEBAAAAAAABAAIAAAAAAgMAAwAAAAMAAgIDAAABAQQAAQAAAAAAAAEAAQACAAAAAwEAAgICAAEAAAABAAAAAQAAAQMCAAECAAEAAAAAAAEAAQIAAQAAAAABAAAAAAABAAAAAAMCAQAAAAAAAAABAAADAAAAAAABAwEAAQEBAAACAAAAAAAAAAABAAAAAQECAQABAAIAAAEBAAAAAQIBAQEAAAIBAAEBAAABAQEBAQAAAQEBAAAAAQEBAAAEAAEAAQEAAAABAAEBAAEAAAAAAQEBAQEBAAABAQABAAACAAABAAAAAgEBAAAAAQEAAAEAAAAAAAICAAAAAwIAAQABAQABAAAAAAEAAAABAQACAgABAAEBAAAAAAIAAAAAAQAAAQIBAAAAAAAAAAABAQEBAAAAAAAAAAABAAABAQEAAAABAgABAAAEAQACAQMAAAAAAAEAAgAAAQEAAAEAAQAAAgEAAgEAAQEAAAABAQAAAAAAAAIBAAAAAQAAAgICAAIAAAAAAAAAAQAAAAEAAAAAAAEAAAAAAAAAAwEAAAICAQAEAgEBAAACAAEAAQEBAAAAAQACAQABAQAAAQABAAAAAAEAAAEAAQABAAAAAQABAgACAAEAAgIAAAEAAQEAAQIBAQEAAgAAAAAAAAABAgACAQACAQEBAAEBAgECAQIBAQIDAAEAAgAAAQAAAAIAAAAAAAACAAAAAAEAAAADAQAAAAEAAAEAAQIAAQEAAAAAAQEAAAEBAAAAAwACAAAAAAIBAAEAAQABAgEBAAACAQAAAAAAAgIAAAAEAAAAAAAAAAEAAAAAAAABAQABAAAAAQEAAQABAAABAAAAAQAAAQACAAEAAAIAAQEAAAEBAgECAgEBAAABAAAAAgIAAAADAAAAAQAAAgEBAAEAAAAAAQEBAgAAAQABAgACAAEBAAAAAQAAAAABAAEBAQAAAQAAAgEDAAEAAAAAAQACAAAAAQIAAgEAAQEAAQABAAEAAAQAAQABAAAAAQABAAEAAQAAAwEBAgAAAAACAgABAQEBAQABAAEAAQABAAEAAAABAAABAAAAAQAAAAABAQEAAgEDAQACAAAAAwEBAAIAAAEAAgABAQABAAACAAACAQABAAEAAAADAAECAQEAAQEBAAAAAQABAQEAAQAAAgEAAwEAAQMAAAAAAAIAAQEAAAEAAAADAAEAAgECAAAAAAABAAABAAEAAQMBAQACAQEAAQEAAAAAAQEBAAAAAQEAAAEBAAEBAQAAAAAAAAECAgIBAAAAAQEAAQABAQEAAAACAAEBAQAAAQABAAEAAQAAAQACAAICAgIAAAAAAgEAAAAAAAABAQACAAIAAAABAAEAAQQAAAABAAAAAAIAAQEAAQAAAAABAAEAAAAAAAEAAQAAAQABAQAAAAAAAAAAAQIAAQIAAAABAQEBAAMAAAEAAgAAAQEAAAAAAQABAwEAAQAAAQADAAABAAACAAECAAEBAAEAAQABAQEBAAABAAACAgEAAQAAAAECAAAAAQABAgICAAABAQABAAIAAAAAAQAAAgACAAEAAAEAAwABAAMBAQIBAQABAAABAQIBAQAAAQABAQMBAwEAAAIAAQAAAAAAAQEAAQAAAAAAAgIAAAAAAAABAQAAAAAAAgEBAAABAgADAAEAAAIAAAEAAAEBAQADAAAAAAICAAAAAQIAAQIBAAEBAAAAAwEBAQEAAQADAQAAAAMAAAIAAgABAAECAgIDAAEBAAEBAQAAAAIDAAEBAAEAAAEAAQAAAgEEAAAAAgAAAAEAAgAAAQEBAAEBAAEBAQAAAAEAAAABAQABAQAAAAAAAAAAAAABAQAAAgABAAABAgEBAQIBAwABAAIAAAEAAAAAAAAAAQEBAAIAAQEAAAACAAIAAAEAAgECAAAAAQEAAAIAAQEAAQAAAAACAAIAAAAAAQAAAQECAgABAQIAAQIAAAIBAAAAAQABAQECAQEAAAAAAQEAAgEBAAEAAAABAgABAQEAAAEAAAABAQABAAAAAAABAQACAAAAAQEAAAAAAgEBAAACAQEAAgADAQEBAQICAQAAAAABAAAAAQAAAgAAAAACAAEAAAEAAAECAQAAAgABAgACAAACAAAAAQEAAAAAAgAAAAEAAAABAAAAAAECAAEAAQEAAAABAAABAAAAAAAAAQAAAQABAAEAAAABAQEAAQABAQABAgEBAQABAQAAAQIAAAEBAQABAAECAAACAAIBAAMBAAABAAEDAQABAAIBAAECAQABAgECAAAAAQIBAAIBAAIBAQABAgABAAIBAAICAQABAQMBAgAAAQEAAQABAAABAQAAAAAAAAABAAAAAAEBAQADAAEAAQAAAgABAAABAgIAAAABAAEAAQEAAgAAAAEBAQEDAAADAQQBAAEAAAAAAAABAAEAAQEBAAABAQEAAAEBAQABAAADAgAAAAEAAAEAAQIBAQECAAAAAQEAAgICAAIDAQIAAAEAAAACAQAAAAEBAQABAQEAAAAAAQEBAQAAAAEAAAEAAAABAQEBAQAAAAEAAAABAAEBAQEAAAMAAAEBAAAAAQAAAQECAAEAAwEAAAEAAAIDAAEAAAABAQAAAAAAAQAAAAAAAQABAAAAAQEBAQACAAACAAIAAAIAAAAAAQABAQEABAAAAAABAAAAAAAAAQAAAgAAAAAAAgAAAAAAAAAAAQEAAAEAAQACAQABAAEAAAEBAAAAAQAAAQABAAAAAAABAAAAAAEBAwEAAAABAQAAAAACAAIBAgAAAQEAAAABAQECAQEAAAABAAAAAAEAAgEAAgEAAQAAAQEBAAAAAAEAAAABAQAAAAEAAQAFAwABAQAAAAACAgAAAQACAAABAQIDAwAAAQABAAEBAQIAAgAAAAEAAAIAAQEBAQAAAQMAAAICAAACAgEAAQABAAACAQEAAwAAAAEBAQIAAQECAQAAAAAAAQAAAAEAAAEAAQIAAAEAAAAAAgEAAAEBAAEAAgEAAAABAQACAQIBAQABAAECAgACAQAAAAEAAwAAAAABAQAAAgIBAAAAAQEBAQEAAQEAAgEAAAAAAQEBAQIAAQIAAAABAAADAAABAAACAQAAAAAAAQECAQEAAwEAAAEBAAEAAAABAQEAAAACAQACAAABAQABAAIAAQEBAAIAAAAAAgAAAAICAAAAAAEBAAEAAAIAAAEAAQABAQEBAAEAAgAAAgEEAAECAAEAAgAAAAAAAgIBAQIBAAQAAAAAAAIAAQAAAwEAAAAAAAEAAwEAAgMAAAACAQABAAICAAAAAQEBAQICAQEBAgABAAAAAgACAAACAQQCAAACAQIBAQEAAQABAAAAAAEAAQEAAgQAAQEBAQAAAAAAAAEAAQAAAAEBAAAAAAABAQIAAQABAgIBAQEBAAAEAAEAAQICAQABAQABAAEAAAAAAAAAAAAAAQADAQABAQABAQECAgAAAgACAQACAAQCAAAAAQECAAEBAQMAAAIBAAAAAAAAAAIAAAABAQMAAAADAAAAAQIAAAABAAEAAAABAgAAAAIAAwABAAABAAEBAQAAAQICAwAAAwEBAgEBAAAAAQAAAAIAAQAAAAEEAQUAAgIAAQABAgAAAAACAAACAwAAAQEAAQICAAEBAAEBAQEBAAAAAQICAAEBAAAAAAEAAAAAAAEBAAEAAAIBAwABAgEAAAAAAAACAAEBAAAAAQMCAQAAAAABAAABAQEAAQEAAAABAQEAAAABAQECAQABAgAAAgAAAAAAAAIBAwABAAAAAgABAQABAgEAAAIAAQEAAAEAAQIBAQEAAgAAAAABAAEAAQEBAQABAwIAAAEDAAAAAAABAgIAAAEDAQAAAAEAAQEBAAEBAQAAAAEBAQACAAICAQACAAABAAAAAAAAAAACAQAAAQMBAgABAAADAgECAQIAAgEAAQAAAQEAAQEAAAEDAQAAAAEBAQAAAAMBAAABAQIBAgEAAQABAQABAgECAAABAgEAAAABAAAAAAADAQIBAAIAAgAAAgEBAQABAQEAAAACAAEAAAIBAQEBAQEAAAAAAAEAAAAAAAMBAAAAAwAAAAECAAEAAAEBAQECAAEBAAAAAAAAAAEBAQIAAgABAQEAAAAAAAIAAAAAAAEAAQIAAQEAAAICAAECAAMAAQIBAAABAQAAAQEBAAAAAQAAAQEAAAIBAQEBAAABAAABAAMAAQAAAAABAQAAAQAAAAEAAAEAAgAAAQEBAAQBAgABAAACAAEAAAABAAACAQEBAgAAAQABAQAAAQABAAEDAQABAgABAgAAAAAAAAEBAQAAAQAAAQEAAAABAQEAAQIBAQEAAQECAAIAAQABAQAAAQABAAAAAAECAAABAwABAAEBAgAAAQADAAEAAQIAAAAAAAABAQEAAAABAQEBAQAAAAABAAEAAAEAAAIBAQABAAABAwAAAgABAAECAQAAAQMBAAICAQABAAICAQEAAgEBAgEBAAAAAQEAAQABAgIAAAAAAQIAAAAAAgEAAAABAQAAAQIBAgABAAAAAAABAAIBAQEAAQAAAQAAAQEAAQABAgABAQIBAAEBAgABAQEAAAACAgACAwAAAAEAAQMAAQEAAQEAAwAAAAACAgABAAEAAAEBAAAAAAAAAAIBAAICAAEBAAABAQAAAAECAQECAAECAQAAAAAAAQIAAAEAAAAAAgECAAEEAQAAAAEBAAIAAAAAAAECAAEBAAAAAQEAAQAAAAEBAAABAQEAAQEDAQAAAQAAAgABAAAAAAABAAACAAEAAAAAAQEBAAABAAABAQEAAAAAAQECAAEAAAEAAAADAAEAAQADAQEAAQABAQAAAAAEAQEAAgIFAAEBAAAAAQABAAABAAIAAQABAQIDAAEBAAEBAQAAAQAAAAEBAAAAAAACAAEAAAABAQEAAAABAgECAQAAAwABAAAAAAAAAAEAAQEAAgACAAEAAAABAAAAAQAAAAABAQEBAAAAAQACAAADAQACAQEBAAIBAgIBAAABAQEAAAIAAAECAAEAAQIBAQAAAAEBAAABAAAAAQABAAAAAQEBAgEBAAEBAAEBAgABAQEBAAABAQABAAQAAAEAAAABAQAAAQEAAQEAAQAAAQEAAAECAQAAAAABAAEAAAAAAgECAAACAAIAAQEAAAIAAgEAAQEAAQADAAAAAAEBAQACAgIAAQAAAQEAAAAAAgAAAQEBAAAAAAEAAAADAAABAQAAAAEAAAICAAEAAAABAAACAAEBAAIAAAAAAgEAAAAAAAMAAAAAAQEAAAIAAAABAQAAAQABAQABAgEAAQAFAAEBAAEBAQABAgICAQEBAQACAQEAAAEAAAEBAQEAAAAAAQECAAIBAgAAAAACAAABAAABAAEAAgEAAAEBAQEAAAEAAAEBAAIBAAABBQEAAQABAgABAQAAAgMBAAAAAAIAAQEBAAAAAAAAAQAAAAIAAAACAgAAAAAAAAABAAEAAAABAQEAAAEBAQAAAQAEAwABAAEBAAEBAAECAAIAAgABAAEAAgEAAAECAAACAQABAQAAAQIAAQEBAQECAgEBAQABAAAAAQECAAIAAQAAAgICAAAAAAEBAAABAAEAAAEBAAAAAQEBAAIAAAAAAgAAAAEBAQABAAIBAwEBAgECAQEAAQEAAQABAAABAAECAgEBAQABAAACAAACAQACAAEAAAABAAAAAQIAAQABAAEBAgEAAAMBAAICAgABAAABAAIBAQIAAAAAAgACAgUAAgEAAAAAAQACAAEBAQEAAAEAAgEBAAICAgAAAgMBAAEAAAAAAQAAAQACAgEBAAABAAIAAAAAAAEBAAEBAAABAAABAQIAAQEABAMAAgECAAAAAQAAAQECAAABAAAAAAABAAEAAgAAAQAAAgABAQACAAAAAAABAQEBAQEBAwEAAQABAAABAAACAQEAAAIAAQEBAAABAAABAAIAAgIBAAEAAgABAQAAAQAAAAECAQEBAAEAAQAAAQAAAAABAgEBAQACAAEBAQABAAEAAQABAAEBAAACAQEBAAAAAAEAAQEBAQAAAAEAAQIBAAABAgIAAQICAAAAAQAAAQAAAAEDAgACAQMAAwIAAgEAAAABAAEBAAAAAAEAAQAAAQABAQEBAQAAAAAAAAEAAQAAAwEAAQICAQECAAABAgABAQAAAgABAAEAAAEAAAEABAIAAQIAAQEAAwEAAQAAAAAAAQICAQICAAEAAgIBAAACAQAAAAEBAAABAQECAAEAAAEAAQIBAQAAAAAAAQABAAIAAQABAQAAAQAAAQABAQAAAAADAQAAAgABAAABAAAAAgAAAwAAAQEAAAIAAQIBAAEBAQABAQEBAAACAgEAAQEBAAAAAAIAAQEAAgEAAAEAAAAAAAEAAAAAAgABAQEAAAEAAAAAAAICAQEBAQECAAEBAQECAQACAQABAQAAAQEBAAABAAACAAEAAAEAAAIAAAEBAQEBAAEAAgABAgEBAQEBAQEAAAAAAAEBAQAAAQMAAQIAAwIBAAEBAAECAQAAAAMBAAEBAAABAAABAgAAAQEAAAEBAgEAAgACAQEAAAEAAwABAwABAAABAAMAAQEDAAEAAQABAAEAAAIBAAABAQEBAQAAAQAAAQMAAAAAAQEAAAEAAQABAAIBAAABAAAAAAECAQEDAQABAQABAAEBAgIBAQEAAQIAAQADAAAAAwABAAEAAAEAAQEBAAIAAQECAAACAAAABAABAAEBAgABAgEAAAACAAMABAAAAgEBAQECAAEBAAAAAAAAAAEAAAAAAAEAAQIAAQEAAQIBAQAAAAECAAIBAAAAAAIBAQEBAAEBAAAAAAAAAQIBAAEAAAAAAAAAAgABAAAABAABAAAAAAEBAQEAAgEBAAABAAAAAAAAAgIAAAEAAQEAAAEAAAIBAQEBAgIAAQEBAQIAAQAAAQAAAAABAQEBAAEBAAACAAAAAQABAgABAAIAAAEBAgAAAAEBAAECAAIBAQAAAAEAAAAAAQEAAAAAAAACAAAAAQICAAABAQACAQABAQABAgABAAEAAwAAAQABAAAAAgAAAwEAAAEBAAAAAAIBAAEAAgIAAAABAQEAAAEBAAEAAQAAAQABAgEAAQAAAAEAAQIAAQABAQIAAAAAAwACAQAAAAABAQACAAEBAQACAAEAAgAAAQEAAAABAwAAAgABAAABAwEAAQABAQABAQAAAAEAAAAAAAACAAABAAAAAAAAAAEAAAAAAQAAAAEAAAAAAgICAQECAAMAAgEBAgAAAAACAQIAAAADAgEBAAEBAQAAAQADAAAAAAABAgMAAQEAAgADAgAAAgAAAQAAAAAAAQEAAgABAQAAAAAAAwABAgIBAAABAAAAAAIAAAEAAAEAAQABAAABAAEBAQECAQEAAAABAgABAAAAAAACAQIAAQEAAAADAQABAQEAAQIAAAMAAAAAAQEBAAICAwEAAAMCAAIAAQAAAwEBAAEAAAEAAgAAAAADAAAAAQECAQAAAwABAQIAAAIAAAIBAAIBAAAAAgEAAQABAQAAAAAAAQIBAAEBAQIAAQACAAADAQACAQEAAQABAAABAAAAAgEBAAACAAEAAAABAAABAQIAAQACAwABAAEEAAIBAAIBAQABAQABAAAAAQAAAAAAAAAAAgEAAQAAAwEAAgIBAAACAgABAQAAAAAAAQABAQAAAQAAAAEAAAIDAAEBAQEBAQECAAAAAAAAAAABAQECAgAAAQEAAAAAAAECAQABAQAAAAEAAAABAAEBAAABAAEBAgEBAgIAAAEAAAEAAAIAAAEBAAIAAQAAAAAAAQEAAQAAAAABAQACAgEAAAEAAAEAAAEAAgEDAQABAAABAAABAAABAgACAAIBAQMCAAABAQAAAAAAAQIAAAEBAAABAAAAAQEBAAAAAQABAQEAAAEBAAEAAAABAAACAQEAAAEAAAABAQABAQAAAQADAgAAAAABAQABAQABAQIAAQAAAQAAAAAAAwAAAwAAAAABAAEAAAEAAAEDAgABAQAAAAAAAQEAAgABAAEAAgAAAAEAAAABAQEAAAABAAABAAIBAQAAAQAAAAABAwMAAQACAQEAAQABAAIDAAMAAQAAAAEAAAEBAQEBAAEAAQEAAQABAAIAAAIAAQEAAAECAAEBAwEBAgMAAAAAAQEAAAABAQEBAAEAAAMBAAEAAQIBAAAFAAMAAwAAAAMCAQEBAwAAAQEBAAIAAwEAAgECAgMAAAMAAAAAAQABAQIAAQABAgABAQACAAABAQADAAMAAAAAAAIAAAAAAAIBAwAAAQECAAAAAQAAAQMCAQIBAAIAAAABAQECAQEAAAECAAEABAACAgABAAABAQEBBAACAQAAAAEAAgAAAAIAAAAAAQIAAAAAAgACAAEAAAMAAQIBAAAAAQEBAgAAAAEAAAABAAADAQEAAAACAAACAAAAAwABAAMBAQAAAQEAAAABAAEBAAACAwMAAAABAAIBAAECAQEBAQACAAEBAQAAAAABAAABAQAAAQEAAAEBAQEAAQEAAAAAAAMAAAEAAAABAAACAgAAAAACAAABAgEBAQMBAQABAAAAAQEAAAABAAEAAAIAAAEAAAEBAAEAAQAAAgICAAABAAABAAICAAIAAQAAAgACAQMAAQAAAgAAAAAAAQEBAgEAAAMBAQEBAQEBAQECAQEDAQACAAABAQEBAAAAAAEAAAAAAAABAQABAwECAAAAAAABAAIBAAABAQEAAgIAAAEBAAEAAAACAAIAAQAAAAABAQEAAAABAQAAAwECAAIEAQABAAAAAgABAQABAAABAQAAAAAAAQEBAAEBAAIBAQECAAEBAQABAAAAAQACBAEBAAMBAAACAAAAAAAAAQAAAAAAAgEAAAAAAQEBAAECAgIBAQAAAQAAAQABAgAAAQIDAQEAAAACAgICAQEAAAICAQABAAABAAIBAAAAAAAAAAAAAQAAAQAAAQEBAwAAAgEBAgIBAQACAQEAAAICAgIAAAAAAAAAAgEAAQAAAAAAAAEAAgEAAAEAAQAAAQABAAMCAQABAQEAAAEAAAIAAAIAAQIBAAABAAAAAQABAAABAgIDAAAAAgEAAAAAAQMBAQIBAgABAAABAwABAQEAAQABAQICAwEBAAACAAAAAAEAAAAAAAIBAQAEAAEAAQEBAAAAAAEBAgAAAA==\"},\"xaxis\":\"x\",\"yaxis\":\"y\",\"type\":\"histogram\"}],                        {\"template\":{\"data\":{\"histogram2dcontour\":[{\"type\":\"histogram2dcontour\",\"colorbar\":{\"outlinewidth\":0,\"ticks\":\"\"},\"colorscale\":[[0.0,\"#0d0887\"],[0.1111111111111111,\"#46039f\"],[0.2222222222222222,\"#7201a8\"],[0.3333333333333333,\"#9c179e\"],[0.4444444444444444,\"#bd3786\"],[0.5555555555555556,\"#d8576b\"],[0.6666666666666666,\"#ed7953\"],[0.7777777777777778,\"#fb9f3a\"],[0.8888888888888888,\"#fdca26\"],[1.0,\"#f0f921\"]]}],\"choropleth\":[{\"type\":\"choropleth\",\"colorbar\":{\"outlinewidth\":0,\"ticks\":\"\"}}],\"histogram2d\":[{\"type\":\"histogram2d\",\"colorbar\":{\"outlinewidth\":0,\"ticks\":\"\"},\"colorscale\":[[0.0,\"#0d0887\"],[0.1111111111111111,\"#46039f\"],[0.2222222222222222,\"#7201a8\"],[0.3333333333333333,\"#9c179e\"],[0.4444444444444444,\"#bd3786\"],[0.5555555555555556,\"#d8576b\"],[0.6666666666666666,\"#ed7953\"],[0.7777777777777778,\"#fb9f3a\"],[0.8888888888888888,\"#fdca26\"],[1.0,\"#f0f921\"]]}],\"heatmap\":[{\"type\":\"heatmap\",\"colorbar\":{\"outlinewidth\":0,\"ticks\":\"\"},\"colorscale\":[[0.0,\"#0d0887\"],[0.1111111111111111,\"#46039f\"],[0.2222222222222222,\"#7201a8\"],[0.3333333333333333,\"#9c179e\"],[0.4444444444444444,\"#bd3786\"],[0.5555555555555556,\"#d8576b\"],[0.6666666666666666,\"#ed7953\"],[0.7777777777777778,\"#fb9f3a\"],[0.8888888888888888,\"#fdca26\"],[1.0,\"#f0f921\"]]}],\"contourcarpet\":[{\"type\":\"contourcarpet\",\"colorbar\":{\"outlinewidth\":0,\"ticks\":\"\"}}],\"contour\":[{\"type\":\"contour\",\"colorbar\":{\"outlinewidth\":0,\"ticks\":\"\"},\"colorscale\":[[0.0,\"#0d0887\"],[0.1111111111111111,\"#46039f\"],[0.2222222222222222,\"#7201a8\"],[0.3333333333333333,\"#9c179e\"],[0.4444444444444444,\"#bd3786\"],[0.5555555555555556,\"#d8576b\"],[0.6666666666666666,\"#ed7953\"],[0.7777777777777778,\"#fb9f3a\"],[0.8888888888888888,\"#fdca26\"],[1.0,\"#f0f921\"]]}],\"surface\":[{\"type\":\"surface\",\"colorbar\":{\"outlinewidth\":0,\"ticks\":\"\"},\"colorscale\":[[0.0,\"#0d0887\"],[0.1111111111111111,\"#46039f\"],[0.2222222222222222,\"#7201a8\"],[0.3333333333333333,\"#9c179e\"],[0.4444444444444444,\"#bd3786\"],[0.5555555555555556,\"#d8576b\"],[0.6666666666666666,\"#ed7953\"],[0.7777777777777778,\"#fb9f3a\"],[0.8888888888888888,\"#fdca26\"],[1.0,\"#f0f921\"]]}],\"mesh3d\":[{\"type\":\"mesh3d\",\"colorbar\":{\"outlinewidth\":0,\"ticks\":\"\"}}],\"scatter\":[{\"fillpattern\":{\"fillmode\":\"overlay\",\"size\":10,\"solidity\":0.2},\"type\":\"scatter\"}],\"parcoords\":[{\"type\":\"parcoords\",\"line\":{\"colorbar\":{\"outlinewidth\":0,\"ticks\":\"\"}}}],\"scatterpolargl\":[{\"type\":\"scatterpolargl\",\"marker\":{\"colorbar\":{\"outlinewidth\":0,\"ticks\":\"\"}}}],\"bar\":[{\"error_x\":{\"color\":\"#2a3f5f\"},\"error_y\":{\"color\":\"#2a3f5f\"},\"marker\":{\"line\":{\"color\":\"white\",\"width\":0.5},\"pattern\":{\"fillmode\":\"overlay\",\"size\":10,\"solidity\":0.2}},\"type\":\"bar\"}],\"scattergeo\":[{\"type\":\"scattergeo\",\"marker\":{\"colorbar\":{\"outlinewidth\":0,\"ticks\":\"\"}}}],\"scatterpolar\":[{\"type\":\"scatterpolar\",\"marker\":{\"colorbar\":{\"outlinewidth\":0,\"ticks\":\"\"}}}],\"histogram\":[{\"marker\":{\"pattern\":{\"fillmode\":\"overlay\",\"size\":10,\"solidity\":0.2}},\"type\":\"histogram\"}],\"scattergl\":[{\"type\":\"scattergl\",\"marker\":{\"colorbar\":{\"outlinewidth\":0,\"ticks\":\"\"}}}],\"scatter3d\":[{\"type\":\"scatter3d\",\"line\":{\"colorbar\":{\"outlinewidth\":0,\"ticks\":\"\"}},\"marker\":{\"colorbar\":{\"outlinewidth\":0,\"ticks\":\"\"}}}],\"scattermap\":[{\"type\":\"scattermap\",\"marker\":{\"colorbar\":{\"outlinewidth\":0,\"ticks\":\"\"}}}],\"scattermapbox\":[{\"type\":\"scattermapbox\",\"marker\":{\"colorbar\":{\"outlinewidth\":0,\"ticks\":\"\"}}}],\"scatterternary\":[{\"type\":\"scatterternary\",\"marker\":{\"colorbar\":{\"outlinewidth\":0,\"ticks\":\"\"}}}],\"scattercarpet\":[{\"type\":\"scattercarpet\",\"marker\":{\"colorbar\":{\"outlinewidth\":0,\"ticks\":\"\"}}}],\"carpet\":[{\"aaxis\":{\"endlinecolor\":\"#2a3f5f\",\"gridcolor\":\"#C8D4E3\",\"linecolor\":\"#C8D4E3\",\"minorgridcolor\":\"#C8D4E3\",\"startlinecolor\":\"#2a3f5f\"},\"baxis\":{\"endlinecolor\":\"#2a3f5f\",\"gridcolor\":\"#C8D4E3\",\"linecolor\":\"#C8D4E3\",\"minorgridcolor\":\"#C8D4E3\",\"startlinecolor\":\"#2a3f5f\"},\"type\":\"carpet\"}],\"table\":[{\"cells\":{\"fill\":{\"color\":\"#EBF0F8\"},\"line\":{\"color\":\"white\"}},\"header\":{\"fill\":{\"color\":\"#C8D4E3\"},\"line\":{\"color\":\"white\"}},\"type\":\"table\"}],\"barpolar\":[{\"marker\":{\"line\":{\"color\":\"white\",\"width\":0.5},\"pattern\":{\"fillmode\":\"overlay\",\"size\":10,\"solidity\":0.2}},\"type\":\"barpolar\"}],\"pie\":[{\"automargin\":true,\"type\":\"pie\"}]},\"layout\":{\"autotypenumbers\":\"strict\",\"colorway\":[\"#636efa\",\"#EF553B\",\"#00cc96\",\"#ab63fa\",\"#FFA15A\",\"#19d3f3\",\"#FF6692\",\"#B6E880\",\"#FF97FF\",\"#FECB52\"],\"font\":{\"color\":\"#2a3f5f\"},\"hovermode\":\"closest\",\"hoverlabel\":{\"align\":\"left\"},\"paper_bgcolor\":\"white\",\"plot_bgcolor\":\"white\",\"polar\":{\"bgcolor\":\"white\",\"angularaxis\":{\"gridcolor\":\"#EBF0F8\",\"linecolor\":\"#EBF0F8\",\"ticks\":\"\"},\"radialaxis\":{\"gridcolor\":\"#EBF0F8\",\"linecolor\":\"#EBF0F8\",\"ticks\":\"\"}},\"ternary\":{\"bgcolor\":\"white\",\"aaxis\":{\"gridcolor\":\"#DFE8F3\",\"linecolor\":\"#A2B1C6\",\"ticks\":\"\"},\"baxis\":{\"gridcolor\":\"#DFE8F3\",\"linecolor\":\"#A2B1C6\",\"ticks\":\"\"},\"caxis\":{\"gridcolor\":\"#DFE8F3\",\"linecolor\":\"#A2B1C6\",\"ticks\":\"\"}},\"coloraxis\":{\"colorbar\":{\"outlinewidth\":0,\"ticks\":\"\"}},\"colorscale\":{\"sequential\":[[0.0,\"#0d0887\"],[0.1111111111111111,\"#46039f\"],[0.2222222222222222,\"#7201a8\"],[0.3333333333333333,\"#9c179e\"],[0.4444444444444444,\"#bd3786\"],[0.5555555555555556,\"#d8576b\"],[0.6666666666666666,\"#ed7953\"],[0.7777777777777778,\"#fb9f3a\"],[0.8888888888888888,\"#fdca26\"],[1.0,\"#f0f921\"]],\"sequentialminus\":[[0.0,\"#0d0887\"],[0.1111111111111111,\"#46039f\"],[0.2222222222222222,\"#7201a8\"],[0.3333333333333333,\"#9c179e\"],[0.4444444444444444,\"#bd3786\"],[0.5555555555555556,\"#d8576b\"],[0.6666666666666666,\"#ed7953\"],[0.7777777777777778,\"#fb9f3a\"],[0.8888888888888888,\"#fdca26\"],[1.0,\"#f0f921\"]],\"diverging\":[[0,\"#8e0152\"],[0.1,\"#c51b7d\"],[0.2,\"#de77ae\"],[0.3,\"#f1b6da\"],[0.4,\"#fde0ef\"],[0.5,\"#f7f7f7\"],[0.6,\"#e6f5d0\"],[0.7,\"#b8e186\"],[0.8,\"#7fbc41\"],[0.9,\"#4d9221\"],[1,\"#276419\"]]},\"xaxis\":{\"gridcolor\":\"#EBF0F8\",\"linecolor\":\"#EBF0F8\",\"ticks\":\"\",\"title\":{\"standoff\":15},\"zerolinecolor\":\"#EBF0F8\",\"automargin\":true,\"zerolinewidth\":2},\"yaxis\":{\"gridcolor\":\"#EBF0F8\",\"linecolor\":\"#EBF0F8\",\"ticks\":\"\",\"title\":{\"standoff\":15},\"zerolinecolor\":\"#EBF0F8\",\"automargin\":true,\"zerolinewidth\":2},\"scene\":{\"xaxis\":{\"backgroundcolor\":\"white\",\"gridcolor\":\"#DFE8F3\",\"linecolor\":\"#EBF0F8\",\"showbackground\":true,\"ticks\":\"\",\"zerolinecolor\":\"#EBF0F8\",\"gridwidth\":2},\"yaxis\":{\"backgroundcolor\":\"white\",\"gridcolor\":\"#DFE8F3\",\"linecolor\":\"#EBF0F8\",\"showbackground\":true,\"ticks\":\"\",\"zerolinecolor\":\"#EBF0F8\",\"gridwidth\":2},\"zaxis\":{\"backgroundcolor\":\"white\",\"gridcolor\":\"#DFE8F3\",\"linecolor\":\"#EBF0F8\",\"showbackground\":true,\"ticks\":\"\",\"zerolinecolor\":\"#EBF0F8\",\"gridwidth\":2}},\"shapedefaults\":{\"line\":{\"color\":\"#2a3f5f\"}},\"annotationdefaults\":{\"arrowcolor\":\"#2a3f5f\",\"arrowhead\":0,\"arrowwidth\":1},\"geo\":{\"bgcolor\":\"white\",\"landcolor\":\"white\",\"subunitcolor\":\"#C8D4E3\",\"showland\":true,\"showlakes\":true,\"lakecolor\":\"white\"},\"title\":{\"x\":0.05},\"mapbox\":{\"style\":\"light\"}}},\"xaxis\":{\"anchor\":\"y\",\"domain\":[0.0,1.0],\"title\":{\"text\":\"Number of Courses of Antibiotics\"}},\"yaxis\":{\"anchor\":\"x\",\"domain\":[0.0,1.0],\"title\":{\"text\":\"Count\"}},\"legend\":{\"title\":{\"text\":\"\"},\"tracegroupgap\":0},\"title\":{\"text\":\"Distribution of Antibiotic Courses Prescribed in Infancy\\u003cbr\\u003eSex = male, Birth Year = 2008\",\"x\":0.5,\"y\":0.95},\"barmode\":\"relative\",\"margin\":{\"t\":50},\"showlegend\":false},                        {\"responsive\": true}                    )                };            </script>        </div>"
      ]
     },
     "metadata": {},
     "output_type": "display_data"
    }
   ],
   "source": [
    "n_abx = np.random.negative_binomial(r, p, size=100000)\n",
    "fig = px.histogram(\n",
    "    n_abx,\n",
    "    nbins=10,\n",
    "    title=f\"Distribution of Antibiotic Courses Prescribed in Infancy<br>Sex = {sex}, Birth Year = {year}\"\n",
    ")\n",
    "fig.update_xaxes(title_text=\"Number of Courses of Antibiotics\")\n",
    "fig.update_yaxes(title_text=\"Count\")\n",
    "fig.update_layout(\n",
    "    legend_title_text=\"\",\n",
    "    title_x=0.5,\n",
    "    title_y=0.95,\n",
    "    margin=dict(t=50), # Adjust top margin for title\n",
    "    showlegend=False\n",
    ")\n",
    "fig.show(config=config)"
   ]
  },
  {
   "cell_type": "markdown",
   "id": "852a10e8",
   "metadata": {},
   "source": [
    "## Example: Visualize Multiple Years / Sexes"
   ]
  },
  {
   "cell_type": "markdown",
   "id": "57828805",
   "metadata": {},
   "source": [
    "The example above was just the distribution for a single year and sex; we can visualize\n",
    "multiple years / sexes together:"
   ]
  },
  {
   "cell_type": "code",
   "execution_count": null,
   "id": "1c2e7a29",
   "metadata": {},
   "outputs": [],
   "source": [
    "def compute_abx_distribution_parameters(sex, year, β_0, β_s, β_t, β_h, β_th, θ):\n",
    "    η = (\n",
    "        β_0 + β_s * sex + β_t * year +\n",
    "        β_h * heaviside(year, 2005) +\n",
    "        β_th * heaviside(year, 2005) * year\n",
    "    )\n",
    "    µ = np.exp(η)\n",
    "    µ = max(µ, 0.05)  # Ensure µ is greater than 0.05\n",
    "    p = θ / (θ + µ)\n",
    "    return p\n",
    "    "
   ]
  },
  {
   "cell_type": "markdown",
   "id": "cabc9a69",
   "metadata": {},
   "source": [
    "Let's create a dataframe with even years from `2000` to `2018`:"
   ]
  },
  {
   "cell_type": "code",
   "execution_count": 183,
   "id": "2f317169",
   "metadata": {},
   "outputs": [
    {
     "data": {
      "text/html": [
       "<div>\n",
       "<style scoped>\n",
       "    .dataframe tbody tr th:only-of-type {\n",
       "        vertical-align: middle;\n",
       "    }\n",
       "\n",
       "    .dataframe tbody tr th {\n",
       "        vertical-align: top;\n",
       "    }\n",
       "\n",
       "    .dataframe thead th {\n",
       "        text-align: right;\n",
       "    }\n",
       "</style>\n",
       "<table border=\"1\" class=\"dataframe\">\n",
       "  <thead>\n",
       "    <tr style=\"text-align: right;\">\n",
       "      <th></th>\n",
       "      <th>sex</th>\n",
       "      <th>year</th>\n",
       "    </tr>\n",
       "  </thead>\n",
       "  <tbody>\n",
       "    <tr>\n",
       "      <th>0</th>\n",
       "      <td>1</td>\n",
       "      <td>2000</td>\n",
       "    </tr>\n",
       "    <tr>\n",
       "      <th>1</th>\n",
       "      <td>1</td>\n",
       "      <td>2002</td>\n",
       "    </tr>\n",
       "    <tr>\n",
       "      <th>2</th>\n",
       "      <td>1</td>\n",
       "      <td>2004</td>\n",
       "    </tr>\n",
       "    <tr>\n",
       "      <th>3</th>\n",
       "      <td>1</td>\n",
       "      <td>2006</td>\n",
       "    </tr>\n",
       "    <tr>\n",
       "      <th>4</th>\n",
       "      <td>1</td>\n",
       "      <td>2008</td>\n",
       "    </tr>\n",
       "  </tbody>\n",
       "</table>\n",
       "</div>"
      ],
      "text/plain": [
       "   sex  year\n",
       "0    1  2000\n",
       "1    1  2002\n",
       "2    1  2004\n",
       "3    1  2006\n",
       "4    1  2008"
      ]
     },
     "execution_count": 183,
     "metadata": {},
     "output_type": "execute_result"
    }
   ],
   "source": [
    "sexes = [1, 2]\n",
    "years = np.arange(2000, 2018, step=2)\n",
    "df_pred = pd.DataFrame(\n",
    "    data=list(itertools.product(sexes, years)),\n",
    "    columns=[\"sex\", \"year\"],\n",
    "    dtype='Int64'\n",
    ")\n",
    "df_pred.head()"
   ]
  },
  {
   "cell_type": "markdown",
   "id": "9f73e65f",
   "metadata": {},
   "source": [
    "Next, let's find $p$ and $r$ for each year / sex combination:"
   ]
  },
  {
   "cell_type": "code",
   "execution_count": 185,
   "id": "b398a4ce",
   "metadata": {},
   "outputs": [
    {
     "data": {
      "text/html": [
       "<div>\n",
       "<style scoped>\n",
       "    .dataframe tbody tr th:only-of-type {\n",
       "        vertical-align: middle;\n",
       "    }\n",
       "\n",
       "    .dataframe tbody tr th {\n",
       "        vertical-align: top;\n",
       "    }\n",
       "\n",
       "    .dataframe thead th {\n",
       "        text-align: right;\n",
       "    }\n",
       "</style>\n",
       "<table border=\"1\" class=\"dataframe\">\n",
       "  <thead>\n",
       "    <tr style=\"text-align: right;\">\n",
       "      <th></th>\n",
       "      <th>sex</th>\n",
       "      <th>year</th>\n",
       "      <th>p</th>\n",
       "      <th>r</th>\n",
       "    </tr>\n",
       "  </thead>\n",
       "  <tbody>\n",
       "    <tr>\n",
       "      <th>0</th>\n",
       "      <td>1</td>\n",
       "      <td>2000</td>\n",
       "      <td>0.998991</td>\n",
       "      <td>800</td>\n",
       "    </tr>\n",
       "    <tr>\n",
       "      <th>1</th>\n",
       "      <td>1</td>\n",
       "      <td>2002</td>\n",
       "      <td>0.999064</td>\n",
       "      <td>800</td>\n",
       "    </tr>\n",
       "    <tr>\n",
       "      <th>2</th>\n",
       "      <td>1</td>\n",
       "      <td>2004</td>\n",
       "      <td>0.999132</td>\n",
       "      <td>800</td>\n",
       "    </tr>\n",
       "    <tr>\n",
       "      <th>3</th>\n",
       "      <td>1</td>\n",
       "      <td>2006</td>\n",
       "      <td>0.999236</td>\n",
       "      <td>800</td>\n",
       "    </tr>\n",
       "    <tr>\n",
       "      <th>4</th>\n",
       "      <td>1</td>\n",
       "      <td>2008</td>\n",
       "      <td>0.999350</td>\n",
       "      <td>800</td>\n",
       "    </tr>\n",
       "  </tbody>\n",
       "</table>\n",
       "</div>"
      ],
      "text/plain": [
       "   sex  year         p    r\n",
       "0    1  2000  0.998991  800\n",
       "1    1  2002  0.999064  800\n",
       "2    1  2004  0.999132  800\n",
       "3    1  2006  0.999236  800\n",
       "4    1  2008  0.999350  800"
      ]
     },
     "execution_count": 185,
     "metadata": {},
     "output_type": "execute_result"
    }
   ],
   "source": [
    "df_pred[\"p\"] = df_pred.apply(\n",
    "    lambda x: compute_abx_distribution_parameters(x[\"sex\"], x[\"year\"], β_0, β_s, β_t, β_h, β_th, θ),\n",
    "    axis=1\n",
    ")\n",
    "df_pred[\"r\"] = df_pred.apply(\n",
    "    lambda x: r,\n",
    "    axis=1\n",
    ")\n",
    "df_pred.head()"
   ]
  },
  {
   "cell_type": "markdown",
   "id": "19981b76",
   "metadata": {},
   "source": [
    "We now create a second dataframe, which we will use to sample the `Negative Binomial`\n",
    "distribution."
   ]
  },
  {
   "cell_type": "code",
   "execution_count": 186,
   "id": "7b6adcf0",
   "metadata": {},
   "outputs": [
    {
     "data": {
      "text/html": [
       "<div>\n",
       "<style scoped>\n",
       "    .dataframe tbody tr th:only-of-type {\n",
       "        vertical-align: middle;\n",
       "    }\n",
       "\n",
       "    .dataframe tbody tr th {\n",
       "        vertical-align: top;\n",
       "    }\n",
       "\n",
       "    .dataframe thead th {\n",
       "        text-align: right;\n",
       "    }\n",
       "</style>\n",
       "<table border=\"1\" class=\"dataframe\">\n",
       "  <thead>\n",
       "    <tr style=\"text-align: right;\">\n",
       "      <th></th>\n",
       "      <th>sex</th>\n",
       "      <th>year</th>\n",
       "      <th>nabx</th>\n",
       "      <th>p</th>\n",
       "      <th>r</th>\n",
       "    </tr>\n",
       "  </thead>\n",
       "  <tbody>\n",
       "    <tr>\n",
       "      <th>0</th>\n",
       "      <td>1</td>\n",
       "      <td>2000</td>\n",
       "      <td>0</td>\n",
       "      <td>0.998991</td>\n",
       "      <td>800</td>\n",
       "    </tr>\n",
       "    <tr>\n",
       "      <th>1</th>\n",
       "      <td>1</td>\n",
       "      <td>2000</td>\n",
       "      <td>0</td>\n",
       "      <td>0.998991</td>\n",
       "      <td>800</td>\n",
       "    </tr>\n",
       "    <tr>\n",
       "      <th>2</th>\n",
       "      <td>1</td>\n",
       "      <td>2000</td>\n",
       "      <td>0</td>\n",
       "      <td>0.998991</td>\n",
       "      <td>800</td>\n",
       "    </tr>\n",
       "    <tr>\n",
       "      <th>3</th>\n",
       "      <td>1</td>\n",
       "      <td>2000</td>\n",
       "      <td>0</td>\n",
       "      <td>0.998991</td>\n",
       "      <td>800</td>\n",
       "    </tr>\n",
       "    <tr>\n",
       "      <th>4</th>\n",
       "      <td>1</td>\n",
       "      <td>2000</td>\n",
       "      <td>0</td>\n",
       "      <td>0.998991</td>\n",
       "      <td>800</td>\n",
       "    </tr>\n",
       "  </tbody>\n",
       "</table>\n",
       "</div>"
      ],
      "text/plain": [
       "   sex  year  nabx         p    r\n",
       "0    1  2000     0  0.998991  800\n",
       "1    1  2000     0  0.998991  800\n",
       "2    1  2000     0  0.998991  800\n",
       "3    1  2000     0  0.998991  800\n",
       "4    1  2000     0  0.998991  800"
      ]
     },
     "execution_count": 186,
     "metadata": {},
     "output_type": "execute_result"
    }
   ],
   "source": [
    "df_dist = pd.DataFrame(\n",
    "    data=list(itertools.product(sexes, years, np.zeros(1000))),\n",
    "    columns=[\"sex\", \"year\", \"nabx\"],\n",
    "    dtype=int\n",
    ")\n",
    "df_dist = pd.merge(df_dist, df_pred, on=[\"year\", \"sex\"])\n",
    "df_dist.head()"
   ]
  },
  {
   "cell_type": "code",
   "execution_count": 189,
   "id": "71276598",
   "metadata": {},
   "outputs": [
    {
     "data": {
      "text/html": [
       "<div>\n",
       "<style scoped>\n",
       "    .dataframe tbody tr th:only-of-type {\n",
       "        vertical-align: middle;\n",
       "    }\n",
       "\n",
       "    .dataframe tbody tr th {\n",
       "        vertical-align: top;\n",
       "    }\n",
       "\n",
       "    .dataframe thead th {\n",
       "        text-align: right;\n",
       "    }\n",
       "</style>\n",
       "<table border=\"1\" class=\"dataframe\">\n",
       "  <thead>\n",
       "    <tr style=\"text-align: right;\">\n",
       "      <th></th>\n",
       "      <th>sex</th>\n",
       "      <th>year</th>\n",
       "      <th>nabx</th>\n",
       "      <th>p</th>\n",
       "      <th>r</th>\n",
       "    </tr>\n",
       "  </thead>\n",
       "  <tbody>\n",
       "    <tr>\n",
       "      <th>0</th>\n",
       "      <td>1</td>\n",
       "      <td>2000</td>\n",
       "      <td>1</td>\n",
       "      <td>0.998991</td>\n",
       "      <td>800</td>\n",
       "    </tr>\n",
       "    <tr>\n",
       "      <th>1</th>\n",
       "      <td>1</td>\n",
       "      <td>2000</td>\n",
       "      <td>2</td>\n",
       "      <td>0.998991</td>\n",
       "      <td>800</td>\n",
       "    </tr>\n",
       "    <tr>\n",
       "      <th>2</th>\n",
       "      <td>1</td>\n",
       "      <td>2000</td>\n",
       "      <td>1</td>\n",
       "      <td>0.998991</td>\n",
       "      <td>800</td>\n",
       "    </tr>\n",
       "    <tr>\n",
       "      <th>3</th>\n",
       "      <td>1</td>\n",
       "      <td>2000</td>\n",
       "      <td>3</td>\n",
       "      <td>0.998991</td>\n",
       "      <td>800</td>\n",
       "    </tr>\n",
       "    <tr>\n",
       "      <th>4</th>\n",
       "      <td>1</td>\n",
       "      <td>2000</td>\n",
       "      <td>1</td>\n",
       "      <td>0.998991</td>\n",
       "      <td>800</td>\n",
       "    </tr>\n",
       "  </tbody>\n",
       "</table>\n",
       "</div>"
      ],
      "text/plain": [
       "   sex  year  nabx         p    r\n",
       "0    1  2000     1  0.998991  800\n",
       "1    1  2000     2  0.998991  800\n",
       "2    1  2000     1  0.998991  800\n",
       "3    1  2000     3  0.998991  800\n",
       "4    1  2000     1  0.998991  800"
      ]
     },
     "execution_count": 189,
     "metadata": {},
     "output_type": "execute_result"
    }
   ],
   "source": [
    "grouped_df = df_dist.groupby([\"sex\", \"year\"])\n",
    "df_dist[\"nabx\"] = grouped_df.apply(\n",
    "    lambda x: np.random.negative_binomial(x[\"r\"], x[\"p\"], size=len(x)), include_groups=False\n",
    ").explode().astype(int).values\n",
    "df_dist.head()"
   ]
  },
  {
   "cell_type": "markdown",
   "id": "983fa9cf",
   "metadata": {},
   "source": [
    "Now we can visualize our results:"
   ]
  },
  {
   "cell_type": "code",
   "execution_count": null,
   "id": "d1d8ce4a",
   "metadata": {},
   "outputs": [
    {
     "data": {
      "text/html": [
       "<div>            <script src=\"https://cdnjs.cloudflare.com/ajax/libs/mathjax/2.7.5/MathJax.js?config=TeX-AMS-MML_SVG\"></script><script type=\"text/javascript\">if (window.MathJax && window.MathJax.Hub && window.MathJax.Hub.Config) {window.MathJax.Hub.Config({SVG: {font: \"STIX-Web\"}});}</script>                <script type=\"text/javascript\">window.PlotlyConfig = {MathJaxConfig: 'local'};</script>\n",
       "        <script charset=\"utf-8\" src=\"https://cdn.plot.ly/plotly-3.0.1.min.js\"></script>                <div id=\"ed97fa30-d084-498c-a3ea-a8ad6f2195b7\" class=\"plotly-graph-div\" style=\"height:1000px; width:850px;\"></div>            <script type=\"text/javascript\">                window.PLOTLYENV=window.PLOTLYENV || {};                                if (document.getElementById(\"ed97fa30-d084-498c-a3ea-a8ad6f2195b7\")) {                    Plotly.newPlot(                        \"ed97fa30-d084-498c-a3ea-a8ad6f2195b7\",                        [{\"alignmentgroup\":\"True\",\"bingroup\":\"x\",\"hovertemplate\":\"sex=1\\u003cbr\\u003eyear=2000\\u003cbr\\u003enabx=%{x}\\u003cbr\\u003ecount=%{y}\\u003cextra\\u003e\\u003c\\u002fextra\\u003e\",\"legendgroup\":\"1\",\"marker\":{\"color\":\"#f39c12\",\"pattern\":{\"shape\":\"\"}},\"name\":\"female\",\"nbinsx\":10,\"offsetgroup\":\"1\",\"orientation\":\"v\",\"showlegend\":true,\"x\":{\"dtype\":\"i1\",\"bdata\":\"AQIBAwEAAQECAgMAAAEAAAEAAAABAAEBAAABAQACAAEAAAIBAQADAAABAQABAQEAAgAAAAAAAQADAAEBAAAAAQAAAAABAAAAAgEAAAEAAgIBAQEBAAAAAAEBBAAAAgEAAQICAQAAAAIAAAIBAgIBAgABAQECAQABAAACAQABAQACAQAAAQAAAQABAgAAAQECAwAAAQABAQEAAwEAAAMAAQEAAAABAgECAAEBAQACAAEBAAACAQICAAABAAAAAAECAAEAAQMAAAAAAAEAAgECAAIBAQACAAEAAgAAAQEAAQACAQAAAQIAAAABAAAAAQECAQAAAAECAQABAQAAAAAAAQAAAAABAAEAAAEAAAABAgABAgACAAAAAAABAQIAAQABAQAAAAABAgIAAAACAQEAAQIAAQEBAAICAAAAAAIAAAEAAgIBAgAAAAAAAQIAAAACAAAAAAACAQEAAAECAQAAAQAAAAECAQABAgACAwACAQADAQEAAQEBAgAAAAEAAgACAAIBAQAAAgABAgABAAEBAQABAgICAAEAAQEBAQEAAAEAAgEAAQACAgEBAAEAAAABAAAAAQACAQECAQEAAwACAQEBAAAAAAEBAQECAAAAAAABAAABAgAAAAEBAQABAAMAAQACAQADAAAAAQABAQEAAQACAQABAAIBAQYAAAEAAQECAAADAQEBAAIBAQIAAQEAAQEAAQABAQABAQEBAgEAAAABAgEBAAACAQEBAQAAAgIAAAACAQABAQAAAgAAAAEAAAAAAQEBAAAAAAIAAAEAAAAAAQAAAAAAAwECAQIAAQEAAQAAAAEAAAIAAAEAAQAAAQABAAIAAQIAAAAAAgMAAQIBAgAAAQMBAgEBAgEBAQABAgACAQAAAgEBAAECAwEAAQEBAAEAAAEBAgABAQABAQAAAAEBAQECAAABAQEAAQEBAQECAAEAAAECAAEAAQEBAQEAAQABAAAAAAAAAQEBAQEAAQIBAAABAAAAAQEAAgABAgAEAwEAAAAEAAIBAQMBAAEBAQAAAAABAQEAAAAAAAAAAAAAAAAAAQABAQEDAAEAAAEAAgEBAQABAAEBAAAAAQABAAEAAQIAAAAAAgEAAQMAAwABAAIBAgABAgIAAAEAAQABAQEAAAABAQACAAAAAgEDAgEBAAEBAQIBAAEAAgAAAQEAAAABAAECAQABAAAAAAEBAwICAQABAAEBAAEAAAAAAAAAAAEAAAABAwABAAEAAQIAAAEBAwEAAQMBAAECAAAABAAAAAAAAwECAAEAAgABAQIAAAAAAQAAAAIAAAIAAAEAAAACAQEBAQEAAAEAAAEBAgABAQ==\"},\"xaxis\":\"x7\",\"yaxis\":\"y7\",\"type\":\"histogram\"},{\"alignmentgroup\":\"True\",\"bingroup\":\"x\",\"hovertemplate\":\"sex=1\\u003cbr\\u003eyear=2002\\u003cbr\\u003enabx=%{x}\\u003cbr\\u003ecount=%{y}\\u003cextra\\u003e\\u003c\\u002fextra\\u003e\",\"legendgroup\":\"1\",\"marker\":{\"color\":\"#f39c12\",\"pattern\":{\"shape\":\"\"}},\"name\":\"female\",\"nbinsx\":10,\"offsetgroup\":\"1\",\"orientation\":\"v\",\"showlegend\":false,\"x\":{\"dtype\":\"i1\",\"bdata\":\"AQABAQAAAAAAAAAAAQABAAEAAQACAQAAAAAAAQEAAQABAgEBAQMCAgACAAEAAQEBAAEAAQACAAAAAAEBAQIBAAAAAQIAAwIBAQAAAQQCAgAAAQIAAQABAAEAAgEAAAAAAQEBAQEBAAEBAQACAgACAAAAAAABAAADAQABAAEAAAQBAQAAAQIBAAMAAAAAAQAAAQABAAEBAQECAAEBAAEAAgAAAQABAAIAAAIBAgEBAAECAQMAAAAAAQAAAAABAAABAAEBAQEBAQEAAQEAAAECAAIAAQEAAQAAAAAAAAABAgEDAQAAAAACAQADAQEBAQAAAgIBAAEAAAEAAAABAAECAwAAAAEBAAEBAgADAAECAQIBAQACAwIAAAACAAEBAAIBAQEBAQEBAQABAAACAQAAAAEAAAAAAAIBAAABAAEAAgIDAAECAQMDAQEAAAEBAQEBAAEAAAEAAAAAAgABAAAAAQAAAQEBAgABAAEBAgIAAAAAAAMAAAEBAQAAAAEAAAEAAQEAAAAAAAAAAQECAQEAAAAAAwEAAAEBAgMAAgEDAAAAAAIAAQAAAQACAAQBAAMAAAABAQIAAQAAAAAAAAAAAAEBAAEAAgEBAAEAAgADAAEBAAACAAABAQABAAABAAEAAAIAAAAAAQAAAQABAAEEAAEBAQAAAAQAAQAAAgAAAwEAAQEBAgAAAgAAAgEBAAEAAQEEAgIAAAACAQEBAAAAAAACAQMCAQIAAAAAAAAAAAIBAAEBAAABAAABAQIDAAAAAQABAgIAAAABAAACAQEAAQABAQIAAAEBAQEBAAADAgEBAAABAQADAAEAAQABAQEBAAABAgEAAAEBAAEAAAAAAAEBAQIBAgABAwACAAEAAgAAAQMBAQAAAAEBAQEAAgADAgACAQACAQEBAQAAAgEBAQEAAAABAQAAAQIBAwEBAAIAAQEAAAAAAQEAAQEAAwABAQAAAgECAAICAQAAAAACAgACAQABAAABAgABAQAAAQAAAAMAAAAAAAMAAAMCAAECAgEBAAEAAAMCAQAAAAEAAAAAAQEBAAEAAgABAwIAAQEAAAEBAgEAAQABAgAAAgAAAgIBAAACAQICAQIAAAACAAEBAQAAAgAAAQAAAAAAAAEBAgIBAQAAAgEAAAAAAQAAAAEAAAEAAgADAQAAAAABAQECAQECAAMAAAIAAAACAQAAAAECAQABAAABAAAAAQEAAAIAAwAAAAABAAIBAQAAAAECAQEAAAABAgABAAEBAQABAQABAAABAAACAAABAQAAAAABAgEBAAABAAIBAQEAAAAAAAEAAgABAgAAAAEAAAABAAEAAQEBAQ==\"},\"xaxis\":\"x8\",\"yaxis\":\"y8\",\"type\":\"histogram\"},{\"alignmentgroup\":\"True\",\"bingroup\":\"x\",\"hovertemplate\":\"sex=1\\u003cbr\\u003eyear=2004\\u003cbr\\u003enabx=%{x}\\u003cbr\\u003ecount=%{y}\\u003cextra\\u003e\\u003c\\u002fextra\\u003e\",\"legendgroup\":\"1\",\"marker\":{\"color\":\"#f39c12\",\"pattern\":{\"shape\":\"\"}},\"name\":\"female\",\"nbinsx\":10,\"offsetgroup\":\"1\",\"orientation\":\"v\",\"showlegend\":false,\"x\":{\"dtype\":\"i1\",\"bdata\":\"AAEBAQEAAAEBAQEAAAAAAQEBAAACAQMBAAECAQABAAACAAAAAAABAAAAAQACAQEAAQIDAAECAQECAQAAAAECAAEAAAECAgEBAAEBAAEAAQEAAgAAAQEDAQAABAAAAAAAAAEBAAEAAAABAgECAAEBAgEBAQACAQAAAQAAAAAAAQABAAAAAAIBAAEBAQACAQIBAgECAQMAAAAAAQABAQACAAACAAABAgEAAQIBAAEDAQQAAAEAAgAAAAEAAQABAAAAAQEAAAABAQEBAAEAAQIBAQAAAQEAAAEAAQIAAAIAAAACAAAAAQEBAQABAAECAQIBAQMBAAABAAABAAAAAAABAAACAQEAAAIAAAABAAEBAQEAAQADAAMAAgABAAEAAgAAAQACAQABAAIBAAEBAQEBAwAAAQEAAAEBAQAAAAAAAQICAQAAAAEAAAABAAICAQIBAQAAAAACAQEBBQABAAECAAEAAQEAAQABAAEAAAEAAAEAAAABAgACAAAAAQABAQMAAQECAQACAAABAAMBAQAAAAIAAQAAAQAAAgACAgEAAAIAAAAAAAICAQEFAAADAQABAwEAAAAAAAABAAAAAgABAQACAAACAQAAAQEBAAEBAAEBAAAAAQEAAAAAAQMDAQAAAgEBAAABAAAAAAMAAAECAAAABAAAAAAAAAEAAgACAAABAAAAAQACAQAAAAAAAAEAAQEAAAEAAAEAAQIAAAABAAEAAAEBAQEBAQACAgEBAQIBAQEAAAABAQIAAAAAAQAAAQABAAEBAAIAAAEAAAABAgACAgADAgECAAAAAAAAAQIAAAACAQABAQAAAAAAAAABAAIAAAEDAQIBAAABAAAAAAEBAgACAAABAQABAAECAQEDAAIAAQAAAAAAAQABAAABAAAAAQMBAQEAAAAAAQECAAABAAEAAQABAgEAAAABAAEBAQAAAQAAAQAAAgEBAgIBAgABAAAAAAAAAgIBAAEAAAABAQAAAAAAAAAAAAEAAQABAQEBAAAAAQADAwEBAAEBAAEAAAABAAAAAAEAAAEAAQEAAQAAAAAEAAEAAgAAAQABAAABAAAAAQEBAQEBAAIAAAICAAAAAAAAAAIAAQABAAABAAABAAECAAAAAAAAAQIAAgAAAQIAAQEDAAABAAEAAAMCAAEBAgEBAAACAQADAAAAAAAAAAAAAQAAAAEBAAABAQACAQAAAAAAAQECAgAAAAAAAAABAgABAQABAAEAAAMAAAAAAAEAAQABAQEAAQEBAgABAAAAAQABAAAAAQIBAAIBAAEBAgAAAQEAAAIAAAEAAAAAAAABAAIBAgEAAgAAAgAAAAACAA==\"},\"xaxis\":\"x9\",\"yaxis\":\"y9\",\"type\":\"histogram\"},{\"alignmentgroup\":\"True\",\"bingroup\":\"x\",\"hovertemplate\":\"sex=1\\u003cbr\\u003eyear=2006\\u003cbr\\u003enabx=%{x}\\u003cbr\\u003ecount=%{y}\\u003cextra\\u003e\\u003c\\u002fextra\\u003e\",\"legendgroup\":\"1\",\"marker\":{\"color\":\"#f39c12\",\"pattern\":{\"shape\":\"\"}},\"name\":\"female\",\"nbinsx\":10,\"offsetgroup\":\"1\",\"orientation\":\"v\",\"showlegend\":false,\"x\":{\"dtype\":\"i1\",\"bdata\":\"AAEAAAEBAAIAAAEAAAEBAgEAAQEBAQIAAAIBAgEAAQECAQABAAEAAgABAAABAQEAAgAAAAEAAAABAAABAQAAAAAAAgMAAAEBAQAAAAIBAAEDAAAAAQEAAAAAAQEAAAEBAgEBAAEBAAAAAQAAAQEAAQABAAIBAAAAAAAAAAIBAAAAAAIAAAABAQEAAAIAAAABAQEAAQAAAQAAAAABAQAAAAICAQABAAEAAAMBAAABAQABAAAAAQEAAQIAAQABAAEAAAAAAgABAAAAAgACAQEAAAEBAAAAAAIAAAABAQABAgEAAQAAAAAAAAECAAACAgAAAQAAAQECAgIDAgAAAAEAAwAAAgEAAAAABAAAAQAAAAEBAAAAAAAAAgAAAQABAAAAAAEAAAEBAQAAAAAAAgEAAQAAAAAAAQEBAAAAAQIBAAABAAAAAQAAAQAAAAEAAAEBAAAAAwAAAQEAAAACAAEBAAAAAQABAQAAAgACAQEAAQAAAAABAAAAAgQBAAAAAAEDAQAAAAAAAQABAgEAAgAAAQAAAAAAAAEAAQECAQEAAgEAAQEBAgAAAAECAQABAAEBAAAAAgEAAQAAAAACAAIAAQEAAAAAAAECAAEAAAACAQIAAQEAAAEAAAECAgAEAgMABAAAAAEAAQACAAACAAAAAQAAAQAAAAAAAAAAAAEAAQIBAAACAQACAgEAAQABAAEBAQEAAgEBAAACAAADAAEBAAEBAAEAAAIBAQEBAQEBAwEAAAAAAgEBAQAAAAEBAAAAAAEAAAAAAAACAAIAAQEAAAEAAAACAQABAAABAgAAAAIBAAABAAEBAAADAQMAAQIAAgAAAQAAAAADAQAAAAAAAQEAAAEBAQMBAQABAAAAAQEAAAAAAQACAAIAAAEBAgAAAAABAAAAAAEAAAAAAQABAgEBAAAAAAEBAAABAQIBAAAAAQABAQIAAwAAAAABAAACAAEAAgAAAAEAAAMAAAAAAAEAAAAAAQEBAAABAQEAAQABAgEAAAAAAQEBAgIAAAAAAAABAAAAAAAAAAAAAAEAAQAAAQEAAAEAAQEBAgECAQEAAAECAgEBAAAAAQECAAABAQIAAAEAAQAAAAECAQABAQAAAgAAAQABAAEAAAEAAQAAAAEAAgABAQEAAQEAAQABAAEAAQAAAAAAAAAAAAECAQEAAAAAAgIBAAAAAAAAAgABAAABAAEDAQACAgABAAMBAAIAAAEAAAMAAQEAAAIAAAABAAEBAAEAAwMCAAECAAAAAAAAAwIAAAEAAAEAAAEAAAAAAAABAAACAQAAAAADAQIBAAIAAAAAAgAAAAIAAgABAQIAAAAAAg==\"},\"xaxis\":\"x4\",\"yaxis\":\"y4\",\"type\":\"histogram\"},{\"alignmentgroup\":\"True\",\"bingroup\":\"x\",\"hovertemplate\":\"sex=1\\u003cbr\\u003eyear=2008\\u003cbr\\u003enabx=%{x}\\u003cbr\\u003ecount=%{y}\\u003cextra\\u003e\\u003c\\u002fextra\\u003e\",\"legendgroup\":\"1\",\"marker\":{\"color\":\"#f39c12\",\"pattern\":{\"shape\":\"\"}},\"name\":\"female\",\"nbinsx\":10,\"offsetgroup\":\"1\",\"orientation\":\"v\",\"showlegend\":false,\"x\":{\"dtype\":\"i1\",\"bdata\":\"AAEAAAABAQAAAAMBAAEAAAEAAgABAAABAAEAAQAAAAAAAAEDAAABAAABAQABAAEAAAABAAABAAEAAQAAAAAAAgMCAAABAAAAAAAAAQAAAAAAAQEAAAAAAAAAAAEAAAAAAAEBAQEAAgECAAAAAAAAAgAAAAMAAAIAAAEAAAABAQAAAQMAAQAAAQAAAAAAAAEAAQEAAQADAAAAAAEBAAABBAIBAAAAAQAAAQMAAgMAAQICAQEAAAEAAgAAAAAAAQIAAQEAAQABAAEAAAABAAACAAEAAQABAwAAAAABAQEBAQAAAAAAAAABAAAEAAAAAQAAAAACAAAAAAABAgAAAQEAAQAAAAIAAQAAAAABAAAAAAABAAABAQABAAAAAAAAAAIAAAABAQIBAAAAAgAAAgEAAAECAAAAAAAAAQEBAQAAAQEAAQAAAAAAAAEAAAABAgABAAABAQAAAAAAAAABAgEBAQIBAAACAgEAAQAAAQAAAAEAAQEAAAABAgABAAIAAAEBAAEAAAAAAAABAQEAAQAAAQABAAEBAQABAQEBAQAAAAAAAAEAAAAAAAABAAAAAAAAAQEBAQABAAAAAAAAAQIAAAIAAAEAAQAAAAAAAQAAAQAAAQAAAQAAAAAAAQABAAAAAAEBAAIAAAAAAAAAAAIBAAAAAAEAAQEAAQACAQECAwEAAQAAAAEAAAAAAAABAAAAAQAAAQAAAAABAQAAAQABAgAAAAAAAwAAAAAAAAABAQAAAAMBAQAAAAAAAgEAAAABAQAAAAABAgABAAADAAEBAAEAAAAAAAAAAQEAAAAAAAEAAAABAgEAAAAAAAEABAABAQAAAAAAAQEAAQEAAAAAAAAAAgAAAgEBAgEAAAAAAQEAAAEAAQIBAQAAAAEAAAAAAQABAQAAAAAAAQEAAgABAQACAQAAAgACAAAAAAAAAAAAAQEAAAIAAQEBAAEAAAECAAAAAAAAAAAAAQAAAAEAAAACAAIBAAEAAQAAAAEBAgIAAAABAwEBAAAAAAAAAAIAAAAAAAABAAABAQABAAABAQABAAAAAAAAAAEBAQEBAQEDAAEAAwAAAAECAAEAAAEAAQAAAQAAAAEBAAEBAAAAAAAAAAABAQABAAABAAAAAAIAAAAAAgABAQEDAAIAAAEBAAEAAAABAQMAAAABAQEDAQEAAgEBAAACAAABAAIBAAEAAAEAAAACAgABAAECAAABAAEAAAABAAEAAAAAAQEAAAEAAAAAAQAAAQEBAAABAgAAAQABAAEAAQEAAAEAAAACAAAAAAAAAQAAAQEBAAABAAEAAAAAAAAAAAABAAAAAAAAAAAAAQABAA==\"},\"xaxis\":\"x5\",\"yaxis\":\"y5\",\"type\":\"histogram\"},{\"alignmentgroup\":\"True\",\"bingroup\":\"x\",\"hovertemplate\":\"sex=1\\u003cbr\\u003eyear=2010\\u003cbr\\u003enabx=%{x}\\u003cbr\\u003ecount=%{y}\\u003cextra\\u003e\\u003c\\u002fextra\\u003e\",\"legendgroup\":\"1\",\"marker\":{\"color\":\"#f39c12\",\"pattern\":{\"shape\":\"\"}},\"name\":\"female\",\"nbinsx\":10,\"offsetgroup\":\"1\",\"orientation\":\"v\",\"showlegend\":false,\"x\":{\"dtype\":\"i1\",\"bdata\":\"AAAAAAAAAgAAAAEAAAAAAAAAAAAAAAAAAgAAAAABAAAAAQAAAgAAAQEAAAAAAQEBAQECAQIAAAIAAAAAAAEBAQAAAAAAAAEAAAAAAAEAAAECAQAAAAACAAAAAAABAgABAAEAAAAAAAAAAQIAAQAEAAAAAAEAAQAAAQEAAQAAAAEBAAAAAQAAAQEAAAAAAAEBAAAAAgAAAAAAAAAAAAABAQEAAQABAAAAAAAAAAEBAAEBAQABAQEAAAAAAQIAAQACAAEBAgEAAQAAAAIAAAAAAAAAAAAAAAAAAQEDAAECAAABAAAAAAAAAAAAAAAAAAEAAAAAAAAAAAEBAAAAAAAAAQABAAAAAAEBAgAAAAIAAAEAAAEAAAAAAAEAAAMAAAAAAAAAAQAAAAAAAgEAAgAAAQAAAAECAAAAAQAAAAABAAABAQAAAQEAAAAAAAAAAQIAAwEAAAEAAAABAQIAAAAAAQABAAAAAgACAAAAAAEAAAAAAAABAQECAwAAAAIBAAABAAAEAgAAAQEAAAAAAAAAAAIAAAAAAAAAAAICAAEBAgABAAEAAAAAAAEAAAEBAAABAQEAAQIBAAAAAAAAAQAAAQEAAAEAAAEBAAABAQAAAAABAQABAAIAAAEBAAAAAAEAAQABAAAAAAAAAQECAAABAAAAAAEAAQACAAABAQAAAAADAAABAAEAAAAAAgAAAAAAAAAAAAEAAAABAgAAAAAAAAABAAEBAAABAAAAAQECAQICAAADAQIAAAACAAECAAAAAAAAAQABAAAAAAECAAABAAAAAAABAQMBAAECAAAAAAAAAAMAAAABAAEAAQEAAAAAAQEAAAEAAAAAAQAAAQABAAABAAAAAAABAAAAAQACAAAAAAABAAEAAAADAAAAAQAAAAACAQAAAAAAAAAAAAAAAAABAQAAAAEAAAABAAEBAAIAAAABAgABAAABAAAAAQEBAAIAAQECAQAAAAABAAEAAgEBAAEBAAABAAAAAAEAAAABAQACAgAAAQABAAAAAQAAAQEAAQIAAAEBAAAAAAMAAAAAAAEBAAABAQIAAQEAAAIBAgAAAAACAAAAAAAAAQABAAABAAECAAEAAQAAAAAAAQAAAAABAAEAAQAAAQABAgABAAABAAEBAQABAAAAAQEDAAEAAAAAAQAAAAACAAAAAAABAAECAQEAAAEAAAIAAAAAAQAAAAAAAAUAAAAAAAIAAAEAAQEAAAEBAQAAAAABAAEAAQAAAAAAAAAAAAIAAAEAAAADAQAAAAIAAAEAAAABAQIBAAAAAAIBAQAAAAIAAAAAAAIAAAIAAQABAQABAAEAAQAAAQAAAA==\"},\"xaxis\":\"x6\",\"yaxis\":\"y6\",\"type\":\"histogram\"},{\"alignmentgroup\":\"True\",\"bingroup\":\"x\",\"hovertemplate\":\"sex=1\\u003cbr\\u003eyear=2012\\u003cbr\\u003enabx=%{x}\\u003cbr\\u003ecount=%{y}\\u003cextra\\u003e\\u003c\\u002fextra\\u003e\",\"legendgroup\":\"1\",\"marker\":{\"color\":\"#f39c12\",\"pattern\":{\"shape\":\"\"}},\"name\":\"female\",\"nbinsx\":10,\"offsetgroup\":\"1\",\"orientation\":\"v\",\"showlegend\":false,\"x\":{\"dtype\":\"i1\",\"bdata\":\"AgAAAAAAAAAAAAAAAAAAAAAAAAAAAAABAAABAQAAAAIAAQAAAQEBAAIAAAEAAAEBAAABAAAAAAABAAAAAQABAAECAQAAAAEAAQAAAAAAAQEAAAABAwEAAAEAAAIAAAEAAAAAAAEAAAAAAAAAAAAAAAEAAQACAgAAAAAAAQAAAAECAAABAAAAAQEAAAECAAAAAAEBAAAAAAABAQAAAQAAAAAAAAAAAAABAAAAAQABAgABAAEBAAIAAAIBAQIAAAEAAQAAAAAAAQAAAAABAAABAQABAAAAAAAAAAABAAABAQEBAAAAAQEAAAAAAAABAAAAAAAAAQAAAQAAAQAAAAEAAQABAAEBAAAAAQAAAAAAAQAAAAEAAAAAAQABAQAAAAIBAQEAAAAAAAABAAAAAAEBAQABAAEAAAIAAAEAAAEAAAAAAAAAAAAAAAABAAAAAAEAAAACAgAAAAEAAAIAAQAAAAAAAAAAAQACAAEBAAAAAgAAAAABAwABAQEAAQAAAQEBAQEAAAEAAQEAAAAAAAAAAAAAAAIBAAAAAgAAAAABAgAAAQAAAwABAQABAAACAQAAAQEAAAAAAgAAAQEAAQABAQAAAQAAAQABAgEBAQICAQABAAAAAQIAAAEAAAABAQAAAAEBAQAAAAEAAAAAAAABAQAAAAABAAEBAAAAAQAAAAAAAAEBAAAAAAAAAQABAAIAAAAAAAEAAAEAAAAAAAAAAAAAAgAAAAABAAAAAAAAAQEAAQEAAAAAAAABAAAAAAEAAQEBAAMBAAEAAAAAAAAAAQABAQAAAQAAAQABAgEBAAEAAAABAAAAAAEAAAAAAQAAAAAAAAAAAQAAAAEBAQEAAAEBAAAAAQABAAABAAAAAAABAAAAAAAAAAABAAEAAAABAAAAAAEBAAEBAAEAAAAAAQEAAAECAQAAAAAAAAAAAAECAQEBAQAAAQABAQAAAQAAAQAAAAABAQAAAAECAAEBAQAAAQAAAQIBAAABAAABAgAAAAAAAQIAAAAAAQEAAAMAAQAAAAEAAAEAAAAAAAAAAAAAAAEAAQEAAAAAAAAAAAABAAABAgAAAAAAAAAAAQEBAQAAAgABAgAAAAAAAAACAAAAAAAAAAIBAAAAAAABAQABAAAAAAABAAAAAAAAAAAAAAAAAwAAAAEAAQEAAAAAAQABAAAAAAAAAAAAAAABAAABAgEBAQACAAAAAQACAAAAAAEAAAABAQEAAAAAAAAAAQAAAQAAAAIAAQEAAAEAAAAAAgEAAQEAAAEAAQEBAAIAAAAAAAAAAAAAAAABAQABAAAAAAEAAAMAAAABAAEBAAABAQABAAAAAA==\"},\"xaxis\":\"x\",\"yaxis\":\"y\",\"type\":\"histogram\"},{\"alignmentgroup\":\"True\",\"bingroup\":\"x\",\"hovertemplate\":\"sex=1\\u003cbr\\u003eyear=2014\\u003cbr\\u003enabx=%{x}\\u003cbr\\u003ecount=%{y}\\u003cextra\\u003e\\u003c\\u002fextra\\u003e\",\"legendgroup\":\"1\",\"marker\":{\"color\":\"#f39c12\",\"pattern\":{\"shape\":\"\"}},\"name\":\"female\",\"nbinsx\":10,\"offsetgroup\":\"1\",\"orientation\":\"v\",\"showlegend\":false,\"x\":{\"dtype\":\"i1\",\"bdata\":\"AAEAAAAAAQAAAQEAAAAAAAAAAgEAAAAAAAAAAAEAAAABAQAAAgAAAAICAAAAAAAAAAIBAAEBAAAAAAAAAQACAQABAAABAAAAAAEAAAEBAQAAAQAAAQEAAAEBAAEAAAABAAACAAEBAAAAAAEAAAAAAQAAAAEBAAABAAAAAAIAAAAAAAEBAQAAAAAAAAABAQAAAAAAAAACAAAAAAAAAAAAAAAAAAAAAAABAAABAgEAAAEAAQABAAAAAQEAAAAAAAAAAAAAAAAAAAAAAAEAAAACAQAAAQAAAAEAAQEAAAIBAAAAAAACAAAAAAAAAgAAAAABAAEAAAABAQABAAAAAAAAAAAAAgAAAgAAAAABAQAAAQAAAQAAAQAAAQABAAEBAAAAAAEBAAAAAAEAAQEBAAAAAAECAQABAgABAAEBAAAAAAAAAAAAAQEAAAABAAAAAAAAAAAAAAABAAACAAAAAAEAAAAAAQAAAAABAAEAAgAAAQAAAQAAAAABAAABAAEBAQAAAAAAAQEAAQAAAAEAAAABAAAAAQEBAAEAAAAAAAAAAAAAAQAAAAAAAAAAAQAAAAEBAAAAAAAAAAAAAAAAAAACAgEAAAIAAAAAAAABAAAAAAEAAAAAAAAAAAABAAAAAAAAAgEAAAAAAAAAAQEAAQEAAAAAAAACAAAAAAACAAAAAAIAAQEAAQEAAAAAAAABAAEAAAABAAAAAAABAQAAAAABAAAAAAAAAQAAAAAAAAEAAAEBAAAAAAAAAAEAAQEAAAABAAEAAQEAAQAAAAAAAAAAAAABAAAAAAACAAABAAAAAAAAAQAAAAAAAAAAAAEAAAABAAABAAAAAAABAAIAAQEAAAEAAAABAgEAAAAAAQAAAAEAAQAAAAABAQAAAQAAAAACAAAAAAEAAQAAAAAAAAAAAAAAAAAAAAABAAAAAAEAAAAAAAAAAAEAAAAAAAABAAACAAIAAAAAAAEBAAAAAAAAAAEBAAAAAAAAAAAAAAABAAAAAAAAAQIAAAAAAAAAAAAAAAEAAAEAAAAAAAEBAAAAAAEAAAEAAAAAAAABAAAAAAAAAQAAAAAAAAEAAAEAAAECAgEAAQABAAAAAQAAAAAAAAABAAABAAAAAAEAAAABAAAAAAABAQABAAABAAAAAgAAAQAAAAAAAAEAAAAAAQIAAQAAAAABAAAAAAEAAAEAAAABAAEAAAEAAAEAAAAAAAEBAAECAAABAAAAAAEBAAABAAEAAAABAQAAAQAAAAIAAQAAAgAAAAAAAAABAAEAAAEAAAEBAAEDAAEBAQEBAAEBAQEAAAEAAQABAAACAAAAAAACAQIBAAABAA==\"},\"xaxis\":\"x2\",\"yaxis\":\"y2\",\"type\":\"histogram\"},{\"alignmentgroup\":\"True\",\"bingroup\":\"x\",\"hovertemplate\":\"sex=1\\u003cbr\\u003eyear=2016\\u003cbr\\u003enabx=%{x}\\u003cbr\\u003ecount=%{y}\\u003cextra\\u003e\\u003c\\u002fextra\\u003e\",\"legendgroup\":\"1\",\"marker\":{\"color\":\"#f39c12\",\"pattern\":{\"shape\":\"\"}},\"name\":\"female\",\"nbinsx\":10,\"offsetgroup\":\"1\",\"orientation\":\"v\",\"showlegend\":false,\"x\":{\"dtype\":\"i1\",\"bdata\":\"AQEAAAAAAAAAAAAAAAAAAQAAAQAAAAEBAAAAAAEAAAABAQAAAAEAAAABAQAAAAEAAQAAAAEAAAAAAAAAAAEAAAAAAAABAAAAAAAAAAEAAAAAAAAAAAEBAAEAAAABAQAAAAAAAAEAAAAAAAABAAAAAAAAAAEBAAEBAwABAAABAgAAAAAAAAAAAQAAAAIAAAAAAAAAAAAAAAAAAAIAAAAAAAAAAAEAAAAAAAAAAAABAAEAAAAAAAABAAAAAAACAAAAAwAAAAEAAAABAAEBAAEBAAAAAAAAAAAAAAABAAAAAAEAAAAAAAAAAAABAQAAAAAAAQAAAQAAAAEAAQAAAAABAQAAAAAAAAAAAAEAAQEAAAABAQAAAAABAAAAAAABAAABAAABAAEAAAAAAAAAAAAAAAAAAQABAAAAAAEAAAEBAAABAAEAAQAAAAABAAEAAAEAAQIAAQEAAAAAAAABAAAAAAAAAAAAAAEAAAAAAAAAAQAAAQEAAAAAAAAAAAAAAAAAAAECAAMAAAAAAAAAAAABAAEAAQABAAAAAAAAAQAAAAAAAAAAAAAAAQAAAQAAAAAAAAABAQAAAAAAAAAAAAAAAAAAAAABAQEAAQABAAAAAAEAAQAAAAAAAAABAQAAAAAAAAAAAQEAAAABAAAAAAEBAAAAAAAAAgAAAAABAAAAAQAAAAAAAQABAQAAAQEAAAAAAAAAAQAAAAAAAAEBAAAAAAEAAAAAAAABAAAAAAAAAAAAAQABAAAAAQABAAABAAABAAABAAAAAAIAAAAAAAABAAEAAQEAAAAAAAAAAAEAAAAAAAAAAQACAAABAAEBAAAAAAAAAAABAAAAAQEAAAAAAAABAAAAAQIAAAAAAAAAAAAAAAAAAAAAAAIAAAAAAAAAAgEAAAABAAAAAQAAAAABAQEBAAEAAAEAAAABAAAAAAAAAAEBAQEAAAEAAAAAAAEBAAAAAAAAAAAAAAAAAAABAAEAAQEBAAEBAAABAAEAAAEBAAAAAQABAAEAAAABAAABAAABAAAAAAAAAAAAAAABAQAAAAEBAQAAAQEAAAAAAAEBAQAAAQAAAQAAAAABAAAAAAABAAEBAAAAAAAAAAAAAAABAAEAAAAAAAIAAQABAAAAAAAAAgAAAAAAAAAAAQEBAAAAAQAAAQAAAQAAAAABAQABAAAAAAABAAEAAAAAAAAAAQAAAQAAAQAAAQEAAAAAAAEBAAAAAAEAAAAAAAEAAQABAQEAAAAAAQACAAAAAAAAAAAAAAAAAAEAAAAAAQAAAAAAAAAAAAABAAABAAAAAQEBAAAAAAECAAAAAAAAAAIAAAACAAAAAA==\"},\"xaxis\":\"x3\",\"yaxis\":\"y3\",\"type\":\"histogram\"},{\"alignmentgroup\":\"True\",\"bingroup\":\"x\",\"hovertemplate\":\"sex=2\\u003cbr\\u003eyear=2000\\u003cbr\\u003enabx=%{x}\\u003cbr\\u003ecount=%{y}\\u003cextra\\u003e\\u003c\\u002fextra\\u003e\",\"legendgroup\":\"2\",\"marker\":{\"color\":\"#09bfc4\",\"pattern\":{\"shape\":\"\"}},\"name\":\"male\",\"nbinsx\":10,\"offsetgroup\":\"2\",\"orientation\":\"v\",\"showlegend\":true,\"x\":{\"dtype\":\"i1\",\"bdata\":\"AQECAgIBAAAAAAAEAgACAgEAAQAAAQAAAAIAAgEBAQEBAgEBAAMBAAIBAQEDAQACAQEAAQACAAEAAAABAQABAwMAAAECAQAAAQABAAEAAgACAQEAAAEBAgABAAACAAAAAAICAAAAAQIAAgEAAQQDAwADAgACBAAAAAEBAwABAgABAQABAwEBAQIAAgAAAQAAAAAABAABAAMBAgAAAQEBAAECAQICAQIDBAEAAgECAAEAAQICAAABAQAAAAAAAQACAQEBAQABAAADAQEBAAMAAQEBAgIDAAIBAAEAAwABAAEBAgMABAABAgIBAAABAAABAAEBAwEAAAEDAQEAAgECAgEBAAIBAAACAQEAAgACAQEAAQEBAAAAAQIBAAEDAQEDAQECAgEBAQEBAQEBAAEBAQEAAQICAgEBAgEBAQIABAECAQABAQACAQABAQABAAICAAACAQAAAAEAAgIBAQEAAAABAQIBAAACAgEBAgEEAgMAAgEEAAABAQACAAMCAQIDAAACAAAAAAABAgIBAQIBAgMBAwMAAQMCAAEBAQEBAAAEAAIAAgEBAgECAQECAgABAAAAAAAAAgIDAQMBAwEAAAABAAADAAAFAgEAAAEBAQEBAAABAAABAwMBAQEAAgEBAAAABAACAQEAAQACAAIAAgMAAgABAQAAAAAEAQEBAgMDAgABAwAAAQMCAAABAQIAAQEAAwMBAAAAAQIAAQACAAABAAABAAIAAQAAAAEBAAACAQACAgEAAQABAAADAQAAAQEABAABAAECAgADAwEAAQIAAQIAAQIAAQICAAECAgIBAQEBAAEBAQMBAgEBAAACAwEAAQEAAQABAgMBAAIAAQABAgQAAQABAQEBAQEAAgECAgEBAgACAQEDAgEAAQEBAQEBAQIAAQICAAABAAIBAQEDAgACAgAEAgQAAwEAAQEBAgABAQECAgEAAAEAAwEDAAEAAAEDAgIAAQEAAAEBAQEBAAAAAQIAAQACAgEAAgIAAwIBAAEAAAAAAAMCAAAEAQABAQAAAAICAgADAQABAAICAQAAAAIBAQICAAEBAQIBAAABAQABAgABAQEAAQEBAQQCAQIBAQECAQEBAQACAQICAQADAAMBAQECAQECAAICAgEAAAADAwEBAgEAAQAAAgYDAQIAAAECAQABAAABAAEBAAIAAQEBAAADAgEAAAECAQEAAQIBAAEBAgACAQAAAAAAAQABAAEBAgAAAQEAAQACAQAAAgYBAQACAQAAAwICAQAAAQMCAAEBAgEBAAEBAQIAAAIBAgEDAgEAAQABAAABAAIBAAEBAAECAAMBAAEDAAABAQEAAA==\"},\"xaxis\":\"x7\",\"yaxis\":\"y7\",\"type\":\"histogram\"},{\"alignmentgroup\":\"True\",\"bingroup\":\"x\",\"hovertemplate\":\"sex=2\\u003cbr\\u003eyear=2002\\u003cbr\\u003enabx=%{x}\\u003cbr\\u003ecount=%{y}\\u003cextra\\u003e\\u003c\\u002fextra\\u003e\",\"legendgroup\":\"2\",\"marker\":{\"color\":\"#09bfc4\",\"pattern\":{\"shape\":\"\"}},\"name\":\"male\",\"nbinsx\":10,\"offsetgroup\":\"2\",\"orientation\":\"v\",\"showlegend\":false,\"x\":{\"dtype\":\"i1\",\"bdata\":\"AAAAAwIAAgEBBAABAAEAAQECAQEBAgEAAQEBAAEBAwEBAAAAAAEAAAADAQABAAIAAgECAQIBAAACAQICAAAAAQAEAgAAAAACAQECAQACAgEDAQIBAQEAAAACAAAAAQEAAAABAAEBAAEBAAABAgEAAAECAAACAgIBAQIBAgAAAgEAAQEBAAEAAQABAgEAAAEBAQIBAAEBAQECAQIBAAEAAAACAAABAAAAAAEBAAAAAQEDAQECBAABAgEAAAAAAAMDAAICAQABAgICAAEBAAEBAQABAwAAAgAAAQEBAAEBAQACAQEAAQACAQACAgIBAAABAQEAAQACAAIAAAIEAQIDAQAEAQEAAgMCAAABAQAAAAAAAwICAQAAAAAAAAIAAAADAAEBAgEBAwIAAAIBAQABAgABAAACAAIAAgEAAAABAAEBAgABBAECAAABAQEAAwEBAQEBAQACAAAAAQEDAAMBAgIAAQABAAICAQEAAQEBAQACAgABAwEAAgIAAQACAgEAAQACAAECAQEBAwEAAAIAAQEAAQECAAIAAAICAgACAQAAAAEAAAMAAwECAAEAAgIBAQABAwAAAgAAAAAEAgEAAAAAAgAAAgACAQABAQEAAQECAgMBAAEAAQECAgACAQEBAQEBBAACAgIAAgEAAAEBAgABAQACAQEAAQABAAMAAQEAAQIDAAABAwACAQACAQECAAMCAAAAAQEAAAABAAEAAAICAAAAAAAAAAACAQIDAAACAQEDAAECAgEBAQACAQEDAAECAQADAAECAAIBAgIBAAEAAQEBAAAAAQEAAgEBAAEBAAADAQEBAwEBAgMAAAIBAgMAAQABAwABAQECAQAAAAEBAgAAAAIBAQIAAQIBAgAAAQMBAQABAQIBAQABAQEBAQAAAQABAQEAAgAAAQABAAEEAQEBAgEEAQADAAEBAgIAAgABBAIAAQABAAEAAQABAAAAAAEBAQIAAQIDAAEAAgEAAgEBAAACAQECAQECBQEAAQABAgAFAwIAAAAAAAIBAQEBAAEAAQIBAgAAAQABAQABAAABAQEAAQAAAgIAAgAAAwAAAQIAAQACAwEAAAICAQEBAAABAQEBAQEBAAIBAAAAAQADAAAFAQQCAAACAAEAAQACAAEAAQIBAgMBAgABAAAAAAIBAAIAAAEBAQICAgABAgMAAAEBAAAAAAIAAAEAAQACAgMBAQABAgIAAQECAQACAAIAAAEBAgEAAAEAAgACAAIAAAAAAAACAAIBAQECAAEAAAABAAABAQACAAEAAQABAQIAAwAAAgAAAAIBAgMAAQEBAgAAAwEBAAAABAECAAABAAAAAQ==\"},\"xaxis\":\"x8\",\"yaxis\":\"y8\",\"type\":\"histogram\"},{\"alignmentgroup\":\"True\",\"bingroup\":\"x\",\"hovertemplate\":\"sex=2\\u003cbr\\u003eyear=2004\\u003cbr\\u003enabx=%{x}\\u003cbr\\u003ecount=%{y}\\u003cextra\\u003e\\u003c\\u002fextra\\u003e\",\"legendgroup\":\"2\",\"marker\":{\"color\":\"#09bfc4\",\"pattern\":{\"shape\":\"\"}},\"name\":\"male\",\"nbinsx\":10,\"offsetgroup\":\"2\",\"orientation\":\"v\",\"showlegend\":false,\"x\":{\"dtype\":\"i1\",\"bdata\":\"AgECAgABAAAAAgABAAEAAQEBAQICAgEAAAADAgAAAgEBAAECAQECAAIDAQECAgIAAQAAAwAAAAABAQAAAAEBAAABAwADAQABAAEBAQABAAEBAAEAAgIBAAECAAAAAwEBAAEAAAEBAAABAAEBAgEBAgEBAAAAAgEAAAIBAAECAAIAAQEDAAABAQABAAICAAIBAQABAAQCAAIBAQEDAgABAAIBAAEAAAIAAAICAQAAAQEBAQEBAQAEAAEBAAIAAAECAQEAAAEBAQEBAAIBBAACAAIBAQEBAQEBAAACAAEAAAEBAAEAAgAAAQIAAgAAAgAAAQECAAEAAwEAAQABAAECAQIBAgIBAgEAAQABBAICAAAAAQEBAQEAAQACAQIBAQIBAAACAgAAAAECAgABAQEAAAQAAAICAAEBAQIBAQABAAEDAgABAAEAAAIBAAEBAQEAAgIBAAIAAQEAAAACAwACAQAAAQAAAQAAAAEAAAEDAQEAAgAAAAAAAAACAQEAAQACAAIAAAEAAAECAAIBAQABAQEBAQQBAAMCAAMBAQEBAQEAAAACAAEBAQABAQABAAACAAEAAAAAAAEAAQEBAAABAAAAAgIBAAECAQAAAAEBAAEAAAMAAQABAQEAAAABAAIAAQIAAQIBAAACAwEBAAIBAAAAAAAAAwECAAMAAAABAgABAQACAQEAAQACAQQBAQICAAEBAAABAQABAgAAAQABAQIAAAAAAwAAAQMCAAABAQACAAEAAAABAQEBAQABAwECAAAAAQABAgEBAwECAgABAAICAAEAAQEAAAABAQECAAABAAADAQABAQICAwABAgEAAAEBAgECAgABAAACAQEBAQEAAAECAAIAAAMAAQEBAAACAQABAQAAAAIAAQEAAAIBAAIBAQEBAAEAAAAAAAEAAAECAgQBAQAAAgEBAAEBAAAAAAEDAQEAAQIBAgIAAgAAAgABAAQBAgICAQIBAAEAAQEBAgAAAQAAAQABAAACAAMBAQQCAgABAQABAAIAAgABAQABAQABAQEAAQIAAQIAAAACAAEBAwEAAAACAQEBAgAAAQECAQABAAEBAAIAAAEBAAEBAQABAAAAAgEDAAAAAAMBAAEBAAEBAgAEAgEBAQEBAAIAAAEDAQIAAQABAwAAAQEBAAADAQMCAAEDAAEBAAACAgAAAwACAQECBAACAAEAAgACAQEAAwACAAECAAEBAwIBAQACAQAAAAAAAQEAAAADAAMAAgACAQAAAAEBAAMAAQIAAAEAAgAAAgEBAQIAAAAAAgABAgEBAgIBAgEAAAEAAAICAQEBAAEAAQEBAgECAQEBAQACAA==\"},\"xaxis\":\"x9\",\"yaxis\":\"y9\",\"type\":\"histogram\"},{\"alignmentgroup\":\"True\",\"bingroup\":\"x\",\"hovertemplate\":\"sex=2\\u003cbr\\u003eyear=2006\\u003cbr\\u003enabx=%{x}\\u003cbr\\u003ecount=%{y}\\u003cextra\\u003e\\u003c\\u002fextra\\u003e\",\"legendgroup\":\"2\",\"marker\":{\"color\":\"#09bfc4\",\"pattern\":{\"shape\":\"\"}},\"name\":\"male\",\"nbinsx\":10,\"offsetgroup\":\"2\",\"orientation\":\"v\",\"showlegend\":false,\"x\":{\"dtype\":\"i1\",\"bdata\":\"AAAAAQECAAAAAAIBAwABAQIAAQEDAAADAAACAQABAQIAAAEDAgMBAAABAAEAAAAAAAEBAAAAAQAAAwECAAEBAgEAAAMBAgEAAwEBAAEAAAAAAQEBAAEBAQAAAQABAAECAQECAQAAAgICAQABAQEAAgIBAAIAAQABAQEBBAIBAAAAAgAAAAIAAAADAAEAAQAAAAABAQEAAQAAAQADAgEAAAACAAEAAQAAAAABAAEBAgABAAEAAAIAAQAAAAEAAAIBAQIBAQMAAAECAAEBAAABAAEBAQIAAgAAAgECAQMCAAEBAAEAAQIAAQIAAQEAAAEAAAQCAQABAQEBAAEAAQIDAgEAAQIAAAADAQABAQABAgADAQIBAwAAAQEAAAAAAgAAAAADAAABAgEAAAECAgABAgABAAICAQAAAAEBAQEAAAEBAAACAwIEAAIBAAEBAgIBAQEBAAEAAAEDAAABAQIAAQAAAAEAAQEAAAIBAQEAAgEAAwEBAAAAAQEAAAABAgEAAgAAAgAAAAICAAICAQAAAgIAAAIAAAABAQABAQABAQEAAAABAAEAAAEBAAABAQADAAEBAAAAAgAAAQAEAAEAAQAAAgABAQECAQECAAIAAAAAAQADAAAAAQAAAQEAAQEAAQIAAAMAAQIBAAECAAECAAABAAIAAAIBAAAAAAABAgECAQABAAACAAABAQAAAgEAAQIAAAACAQEAAQICAAABAAEBAQEAAAACAgIAAQABAQACAwAAAQEAAQIAAAIBAgAAAAABAAAAAgIBAQIAAQEAAgABAQECAAEAAQEBAAQCAAAAAgABAQICAAECAAAAAAEAAAAAAgEAAAAAAgEBAAECAAAAAAEAAAAAAAAAAAAAAgEBAQACAgAAAAEAAQIAAQABAAADAQECAgACAAECAQAAAQEBAAABAAAAAAACAQABAQACAQABAQEAAgMAAgEBAQIAAAIDAAAAAwMAAQEAAAABAgEBAQACAQEAAAAABAIBAwIBAAABAQEAAAEBAgABAQABAAIBAQABAAACAAEAAAEAAAAAAwABAgACAAEAAAIAAgIBAgABAAABAQAAAgEAAAAAAQABAAABAQICAAEABQIAAAAAAQIAAAIAAAAAAAAAAQAAAgMBAAECAgEAAQIAAAIBAQEAAQABAAMAAAEAAgIAAAABAgECAAEAAAEDAQEAAAEAAgABAAEEAAABAQEAAAEAAgEAAAEAAAAAAAABAAIBAAAAAAECAQECAAABAAECAQABAQEBAgICAAEAAQEAAgABAAEAAQEBAQABAAEAAQABAAEABAEBAgEAAgAAAAIAAAIAAAEBAQABAA==\"},\"xaxis\":\"x4\",\"yaxis\":\"y4\",\"type\":\"histogram\"},{\"alignmentgroup\":\"True\",\"bingroup\":\"x\",\"hovertemplate\":\"sex=2\\u003cbr\\u003eyear=2008\\u003cbr\\u003enabx=%{x}\\u003cbr\\u003ecount=%{y}\\u003cextra\\u003e\\u003c\\u002fextra\\u003e\",\"legendgroup\":\"2\",\"marker\":{\"color\":\"#09bfc4\",\"pattern\":{\"shape\":\"\"}},\"name\":\"male\",\"nbinsx\":10,\"offsetgroup\":\"2\",\"orientation\":\"v\",\"showlegend\":false,\"x\":{\"dtype\":\"i1\",\"bdata\":\"AAEBAQIAAgAAAAICAAAAAAEAAQAAAAIBAAEAAAECAAEAAAAAAgEAAgEAAAEBAAEAAQAAAAAAAAEDAQEAAgABAAEBAAEAAQACAAIAAAABAAAAAQEAAgACAAACAAABAAAAAQECAQEDAgAAAgMBAQEBAAAAAAABAAAAAQEBAAIAAQAAAwEAAAEBAAAAAgIAAAAAAAAAAgIDAgEAAQEAAAACAAECAAAAAgABAAEAAQAAAAAAAAEAAAAAAQMBAAICAgAAAAAAAQAAAAACAgACAQABAAEBAgIBAQEBAAABAAACAQABAAEBAAABAAAAAQAAAAEBAgEAAAEBAgAAAQAAAQEAAAAAAAAAAAAAAgABAQAAAAEAAQEBAQAAAQAAAAABAAAAAQAAAgECAAAAAAAAAAAAAQIBAQIBAQAAAQAAAQEBAAEAAQAAAgIBAAABAAACAAEBAAAAAAAAAwAAAQEAAgAAAAEAAAABAgAAAgECAgEAAAAAAQEAAwAAAAEBAAAAAQAAAAIAAQIBAgEAAQABAAAABAEAAAAAAAIBAAABAAEAAQAAAAAAAAAAAgEBAQIBAQEBAAEAAQABAQEAAAACAQAAAAEAAAIAAQIAAQAAAQAAAgEAAQIBAQAAAAEAAQEAAgABAQIBAQEBAAIAAQIBAAAAAAACAAAAAAEAAAABAgEBAQABAQABAQABAgAAAQAAAAEAAAMCAQAAAQMAAAEBAAABAgABAAIAAQABAQEBAAAAAAABAQABAgIAAQEAAQABAQIAAAAAAAAAAAEAAQAAAAQBAQEBAAABAAAAAgIAAQAAAAEBAQACAQEAAAABAQABAQABAAACAAECAgECAAAAAAACAAABAAABAwAAAAAAAgAAAgEAAQAAAQAAAAMBAAEAAQEBAgAAAAEAAQABAQMBAAEAAQABAAEAAgAAAAECAQAAAAEAAAEAAQACAwABAAABAQABAQABAgEBAQEBAAADAQABAQEAAQEAAgAAAAEBAQABAAECAQAAAAEBAQIBAAAAAAICAAABAgABAQMBAQACAAEAAQABAQEAAAEAAQAAAQAAAgABAQAAAAYBAAAAAQAAAgABAwAAAAEAAQAAAAEAAQEBAAEDAQAAAQAAAgABAAEAAAAAAQABAgABAAEAAAEAAQABAQEAAAEBAQACAgAAAAIAAQAAAQACAAABAQEAAQIDAQAAAgAAAAABAAAAAQEBAgMAAQIAAgAAAQAAAAICAQEAAAIDAQAAAQADAAACAQAEAAACAAEAAQABAAMAAQIAAgIBAQEAAgEBAQECAAAAAgIBAAABAAMBAQAAAgAAAgEAAAEAAQABAgAAAA==\"},\"xaxis\":\"x5\",\"yaxis\":\"y5\",\"type\":\"histogram\"},{\"alignmentgroup\":\"True\",\"bingroup\":\"x\",\"hovertemplate\":\"sex=2\\u003cbr\\u003eyear=2010\\u003cbr\\u003enabx=%{x}\\u003cbr\\u003ecount=%{y}\\u003cextra\\u003e\\u003c\\u002fextra\\u003e\",\"legendgroup\":\"2\",\"marker\":{\"color\":\"#09bfc4\",\"pattern\":{\"shape\":\"\"}},\"name\":\"male\",\"nbinsx\":10,\"offsetgroup\":\"2\",\"orientation\":\"v\",\"showlegend\":false,\"x\":{\"dtype\":\"i1\",\"bdata\":\"AQEAAAEAAQIBAAEAAAABAgAAAQIBAgABAAEAAAAAAAAAAAAAAAIBAQAAAQIAAQACAAIBAAAAAAABAAEBAAAAAAEAAgAAAAMAAwEBAgEAAAIBAAAAAAEAAQEAAQAAAAAAAgABAgAAAQAAAAAAAQEAAAEAAAEBAQAAAAEAAAIAAQEAAQEAAAAAAAEAAAIBAQIBAAEAAQEDAwEBAAEAAAEBAAABAAIAAAACAQACAQAAAgABAQABAQECAAEAAQACAAEBAAABAAAAAAEAAAAAAAAAAAABAQABAwACAAABAAEAAgAAAgEBAAEAAAEAAAIAAAAAAQABAgAAAAABAAEAAQABAAEAAQABAQABAAAAAAABAQAAAgEAAAAAAQEAAQEAAgECAAADAAIAAQEAAQEBAQECAgIBAAABAAACAQAAAAEAAQAAAAABAQAAAAABAwECAAABAwEAAAEBAQABAQEAAAEAAAABAAAAAQAAAQACAQEBAQEAAAACAgAAAAABAQMBAAEAAQAAAAAAAAAAAAEBAAAAAAEAAAEDAAAAAQAAAAAAAAEBAwEAAAIBAAEAAQAAAgEBAQACAQABAAECAQAAAQAAAAEBAgEBAAAAAAABAAEAAAAAAAEAAwABAQAAAAEAAAEBAAAAAAAAAAEAAAAAAAEBAQACAAIAAAAAAQAAAAABAAAAAQIAAAAAAAABAQIBAAAAAAABAAABAgIAAAIDAAIBAQEDAQABAAAAAAAAAQEAAAEAAQAAAAIAAQEAAAAAAQEAAQABAwABAAACAQEAAAABAAAAAAAAAgADAAEBAAEBAgAAAQAAAAEDAAABAQAAAQAAAgECAQAAAQIAAQABAAEAAAADAQAAAgABAAAAAQACAQABAQAAAQEBAQAAAQABAAEBAAABAAMAAAAAAQABAQEAAQAAAQAAAAIAAAEAAAIAAgAAAgEBAAABAQEAAAACAAEBAQEAAAEBAQEBAAAAAAACAAEAAQEAAAAAAAAAAQAAAAAAAQEAAQAAAQAAAQEBAAMAAAEAAQEAAAAAAAECAAIAAAECAAEAAAEBAAECAwAAAQEDAAAAAgAAAAEAAAAAAAAAAAIAAAAAAAAAAAICAAAAAQAAAAEAAAAAAQAAAAIAAQABAAIAAAABAQEBAQACAQIBAAABAAAAAQEAAAACAQAAAgAAAQAAAAABAAABAQAAAQEAAAECAQAAAAACAAIBBAACAQAAAAEAAgAAAQABAAEBAAAAAQAAAAACAQABAQAAAgAAAQADAAACAAACAAIAAAAAAQEAAAABAQABAAIBAgAAAAABAAEAAAABAAAAAAAAAQICAAIAAQABAQ==\"},\"xaxis\":\"x6\",\"yaxis\":\"y6\",\"type\":\"histogram\"},{\"alignmentgroup\":\"True\",\"bingroup\":\"x\",\"hovertemplate\":\"sex=2\\u003cbr\\u003eyear=2012\\u003cbr\\u003enabx=%{x}\\u003cbr\\u003ecount=%{y}\\u003cextra\\u003e\\u003c\\u002fextra\\u003e\",\"legendgroup\":\"2\",\"marker\":{\"color\":\"#09bfc4\",\"pattern\":{\"shape\":\"\"}},\"name\":\"male\",\"nbinsx\":10,\"offsetgroup\":\"2\",\"orientation\":\"v\",\"showlegend\":false,\"x\":{\"dtype\":\"i1\",\"bdata\":\"AAEBAAABAAABAAAAAAAAAwAAAQEAAQABAQABAAAAAAACAwAAAAIAAQEAAAEBAQABAQABAQAAAQAAAgAAAAAAAAABAAAAAQEBAAAAAAAAAAAAAQEBAAAAAAEDAQAAAAECAgAAAAEBAAEAAwAAAAAAAAEAAAABAQABAQEAAAEBAAAAAAAAAAABAQEAAgAAAAABAQABAQABAAEAAAEAAgAAAQIAAAABAAEBAQEAAAABAQIAAQAAAwABAQEAAQEAAgAAAAEAAAABAQAAAAEAAAEAAAABAQAAAQABAAIAAQAAAAABAQAAAAIAAAIAAAABAAEBAAABAQEAAQECAAABAAEAAAAAAAABAAACAAADAAEBAAAAAQAAAAMAAQAAAAAAAAACAAMBAAABAAEAAQEAAAAAAgAAAAAAAAAAAAEAAQEAAgABAAEAAAABAAIAAAAAAQABAAABAAEAAAADAAAAAAABAAAAAwAAAAACAQAAAAAAAAEBAAABAAAAAAABAAIAAAABAQAAAQMCAAEAAAAAAAAAAAEAAQEAAAAAAQABAAEBAAEAAAABAAEBAQEAAAEAAAEBAQABAAEAAQEBAAAAAAEBAAAAAAAAAgEBAAAAAAAAAQECAAIAAAIBAgIAAAIAAQAAAAAAAAAABAABAAEAAAABAQEAAAIBAgABAAAAAAAAAAAAAQEBAAAAAAAAAAABAQEAAAAAAAEAAAEAAAAAAAAAAAABAQEBAAABAAAAAAAAAQEBAQIAAAEBAQAAAQEAAAEAAAACAQEBAAEAAAEAAAACAAAAAQAAAQECAAABAQAAAQEAAAABAQACAAAAAQAAAAAAAQEAAQAAAAAAAAAAAQAAAAAAAAEAAQEDAAAAAgIAAAABAAAAAwIBAAAAAAEAAQAAAAAAAQAAAAEAAAAAAAEAAAEAAAMAAQACAAAAAAEAAQABAQAAAQEBAQAAAAEAAAAAAAAAAAACAAAAAAABAQEAAAAAAAEAAQIAAQAAAgEBAAEAAQEAAAABAQAAAgMAAAAAAgAAAAAAAQAAAQABAAECAAAAAAEBAQAAAQEAAAAAAAABAQEAAQAAAgAAAQAAAAEAAAABAAAAAAEAAgABAAAAAAIAAAEAAAABAQEDAQEBAAAAAAAAAQEAAAIBAQIBAAECAAABAAEAAAABAAAAAAAAAgEAAAAAAQAAAAACAgACAAAAAgEAAAEAAQABAAAAAAEBAAAAAQABAAAAAQEAAQEAAAAAAAAAAQEBAQEAAAEAAQEBAQEAAAEAAAABAAABAAEAAAABAQAAAAEBAAEBAgEAAAABAAAAAAAAAQAAAgEBAQEBAwIAAQAAAA==\"},\"xaxis\":\"x\",\"yaxis\":\"y\",\"type\":\"histogram\"},{\"alignmentgroup\":\"True\",\"bingroup\":\"x\",\"hovertemplate\":\"sex=2\\u003cbr\\u003eyear=2014\\u003cbr\\u003enabx=%{x}\\u003cbr\\u003ecount=%{y}\\u003cextra\\u003e\\u003c\\u002fextra\\u003e\",\"legendgroup\":\"2\",\"marker\":{\"color\":\"#09bfc4\",\"pattern\":{\"shape\":\"\"}},\"name\":\"male\",\"nbinsx\":10,\"offsetgroup\":\"2\",\"orientation\":\"v\",\"showlegend\":false,\"x\":{\"dtype\":\"i1\",\"bdata\":\"AAAAAAAAAAABAQEBAAEAAAIBAgAAAAAAAAACAAAAAAEAAAAAAAABAQABAAAAAAEAAAAAAAAAAgEAAAEAAQABAQAAAAAAAAAAAAEAAAIBAAACAAABAQAAAAABAAAAAAABAAEAAQAAAQACAAAAAQAAAAEAAgIBAAEAAAAAAAAAAgAAAQAAAAAAAAEAAAAAAAACAAAAAQAAAAEAAAABAAAAAAAAAAEAAAAAAAEAAAAAAAABAQAAAwEAAAABAAACAAABAAAAAgAAAAAAAAAAAAAAAAECAQABAAABAAABAAEAAAADAAAAAgAAAAAAAAAAAAEAAAEAAAAAAAEAAAAAAAEAAAAAAQEBAQAAAAAAAAEBAAEAAgAAAQEBAQIAAAAAAAAAAAABAAABAAAAAQAAAQADAAAAAAEAAAABAAAAAQAAAAABAQAAAAAAAAABAAEBAAAAAAAAAAAAAAIAAAAAAAAAAQAAAAIAAAEAAQAAAAAAAAEAAAABAAEAAAEAAAAAAAEAAAAAAAABAAAAAAAAAAEAAAEAAAABAAAAAQABAAEBAAAAAAAAAAEAAQAAAAAAAAAAAAAAAAABAAAAAQACAAEAAAECAAAAAQABAQABAQAAAAAAAQAAAQAAAQEAAQEAAAEAAAAAAAEBAAIAAAABAAEAAAABAAAAAAAAAQAAAAAAAAAAAAEAAQABAAEAAQEAAAAAAAEBAwACAAAAAAAAAQAAAAEAAQACAQEAAAEBAAAAAAAAAAAAAAEAAAEAAAABAAAAAAABAAEAAAABAQEAAQAAAgAAAAAAAQAAAAEAAAAAAAECAgEAAAECAwEBAQEAAQABAgABAQAAAAIAAQAAAQAAAAACAQAAAAACAAEAAAAAAAIAAQIAAAAAAAEAAAAAAQABAAABAAIAAQEAAAACAQAAAAAAAAEAAQAAAQEBAAAAAAEAAAEAAQAAAAABAQAAAAADAAAAAAAAAAABAAEAAQABAAEAAgAAAQAAAAABAQEAAQABAgEAAAAAAQABAQEAAQAAAAACAAAAAAEAAAIAAAIAAAIBAAAAAQAAAAMAAAIAAQEBAAAAAAAAAQEBAgAAAAAAAAEAAQAAAQECAAAAAQAAAAABAQAAAAIAAAAAAAAAAAAAAAEAAAAAAQAAAAABAAAAAAEAAAAAAAAAAAABAAAAAAABAAEAAAEAAAEAAAABAAABAAACAQAAAgEBAAAAAQEBAQAAAAIAAAEBAQEAAAAAAQECAQAAAAAAAQAAAAEAAAEAAQAAAAAAAQAAAAABAAABAQIAAAACAgAAAQAAAAEAAAEAAAABAAAAAAEAAQAAAQEBAAEAAAIAAA==\"},\"xaxis\":\"x2\",\"yaxis\":\"y2\",\"type\":\"histogram\"},{\"alignmentgroup\":\"True\",\"bingroup\":\"x\",\"hovertemplate\":\"sex=2\\u003cbr\\u003eyear=2016\\u003cbr\\u003enabx=%{x}\\u003cbr\\u003ecount=%{y}\\u003cextra\\u003e\\u003c\\u002fextra\\u003e\",\"legendgroup\":\"2\",\"marker\":{\"color\":\"#09bfc4\",\"pattern\":{\"shape\":\"\"}},\"name\":\"male\",\"nbinsx\":10,\"offsetgroup\":\"2\",\"orientation\":\"v\",\"showlegend\":false,\"x\":{\"dtype\":\"i1\",\"bdata\":\"AQAAAQAAAgAAAAIBAAAAAAEAAAAAAAAAAAEBAQEBAAAAAAIAAAAAAAAAAAAAAQABAAEAAAAAAQABAAABAQEAAAAAAgAAAQABAQEBAAABAAABAQEAAAEBAQABAAEBAQABAAAAAAEBAAAAAAEAAQECAAAAAQAAAQAAAQAAAAEAAQAAAQEEAAEAAAABAAAAAAAAAAEAAAAAAAABAAEAAAEAAAAAAAEAAAMAAAAAAAAAAwEAAAAAAAEAAQAAAgECAAAAAAAAAQAAAQAAAgABAAEBAQECAAAAAAAAAAAAAAAAAAAAAAAAAAAAAAABAAABAAAAAAAAAgABAAABAQEAAQAAAAEAAAIAAAIAAAAAAQAAAgEAAAEBAAEBAAEAAQEBAQABAAEBAgEAAwEAAAABAQABAQAAAAAAAQAAAAEAAAABAQEAAQACAAAAAAEAAQAAAAAAAQAAAAAAAQIAAAAAAAAAAAEBAQAAAQMAAAEAAQEAAAAAAQEAAQIAAAAAAAAAAAABAgEBAAAAAAAAAAABAAAAAAAAAAIAAAAAAQABAAAAAQABAAAAAAEAAAAAAAAAAAEAAAAAAAIAAAAAAAEAAAAAAAAAAAAAAAAAAAAAAAAAAQAAAQABAAEBAAAAAAAAAQEAAAABAAAAAQABAgAAAAABAAAAAAACAAABAAABAQABAAEAAAAAAAAAAAEAAAAAAQIAAAAAAAAAAQAAAQAAAAEAAAAAAAEAAAAAAAABAAABAAEAAgAAAQAAAAAAAAABAAAAAAAAAAEAAAEAAAAAAAAAAAIAAAAAAAAAAAEAAAACAAAAAAABAAAAAAECAAAAAQABAAEAAAAAAAEAAAABAAABAAAAAAAAAQEAAAIAAAEAAAABAAAAAAAAAAAAAAAAAQEAAAABAAABAQEBAAABAAABAAABAAEAAAAAAQAAAAAAAAAAAQAAAAEAAAABAQAAAQABAAABAQABAAAAAAACAAEAAAEBAAEBAAABAAEAAQABAAAAAQAAAAABAQIAAAAAAAAAAQIAAAEAAQAAAAAAAAEAAAEAAAAAAQEBAAACAAABAQAAAAABAAAAAAEAAAAAAAAAAQAAAAAAAQAAAAAAAAACAAABAQAAAAACAAAAAQAAAQAAAAABAAAAAQEAAAEAAAAAAAAAAAAAAAABAQEAAAAAAAAAAQAAAAAAAAEAAQEAAAAAAAABAAAAAAAAAAAAAQAAAAAAAQEBAQABAQAAAAAAAAIBAAAAAAAAAAAAAQEBAAEAAAAAAQAAAQEAAAAAAAABAQAAAAABAQAAAAAAAQAAAAAAAAAAAAIAAAEAAAAAAgAAAAACAAEAAA==\"},\"xaxis\":\"x3\",\"yaxis\":\"y3\",\"type\":\"histogram\"}],                        {\"template\":{\"data\":{\"histogram2dcontour\":[{\"type\":\"histogram2dcontour\",\"colorbar\":{\"outlinewidth\":0,\"ticks\":\"\"},\"colorscale\":[[0.0,\"#0d0887\"],[0.1111111111111111,\"#46039f\"],[0.2222222222222222,\"#7201a8\"],[0.3333333333333333,\"#9c179e\"],[0.4444444444444444,\"#bd3786\"],[0.5555555555555556,\"#d8576b\"],[0.6666666666666666,\"#ed7953\"],[0.7777777777777778,\"#fb9f3a\"],[0.8888888888888888,\"#fdca26\"],[1.0,\"#f0f921\"]]}],\"choropleth\":[{\"type\":\"choropleth\",\"colorbar\":{\"outlinewidth\":0,\"ticks\":\"\"}}],\"histogram2d\":[{\"type\":\"histogram2d\",\"colorbar\":{\"outlinewidth\":0,\"ticks\":\"\"},\"colorscale\":[[0.0,\"#0d0887\"],[0.1111111111111111,\"#46039f\"],[0.2222222222222222,\"#7201a8\"],[0.3333333333333333,\"#9c179e\"],[0.4444444444444444,\"#bd3786\"],[0.5555555555555556,\"#d8576b\"],[0.6666666666666666,\"#ed7953\"],[0.7777777777777778,\"#fb9f3a\"],[0.8888888888888888,\"#fdca26\"],[1.0,\"#f0f921\"]]}],\"heatmap\":[{\"type\":\"heatmap\",\"colorbar\":{\"outlinewidth\":0,\"ticks\":\"\"},\"colorscale\":[[0.0,\"#0d0887\"],[0.1111111111111111,\"#46039f\"],[0.2222222222222222,\"#7201a8\"],[0.3333333333333333,\"#9c179e\"],[0.4444444444444444,\"#bd3786\"],[0.5555555555555556,\"#d8576b\"],[0.6666666666666666,\"#ed7953\"],[0.7777777777777778,\"#fb9f3a\"],[0.8888888888888888,\"#fdca26\"],[1.0,\"#f0f921\"]]}],\"contourcarpet\":[{\"type\":\"contourcarpet\",\"colorbar\":{\"outlinewidth\":0,\"ticks\":\"\"}}],\"contour\":[{\"type\":\"contour\",\"colorbar\":{\"outlinewidth\":0,\"ticks\":\"\"},\"colorscale\":[[0.0,\"#0d0887\"],[0.1111111111111111,\"#46039f\"],[0.2222222222222222,\"#7201a8\"],[0.3333333333333333,\"#9c179e\"],[0.4444444444444444,\"#bd3786\"],[0.5555555555555556,\"#d8576b\"],[0.6666666666666666,\"#ed7953\"],[0.7777777777777778,\"#fb9f3a\"],[0.8888888888888888,\"#fdca26\"],[1.0,\"#f0f921\"]]}],\"surface\":[{\"type\":\"surface\",\"colorbar\":{\"outlinewidth\":0,\"ticks\":\"\"},\"colorscale\":[[0.0,\"#0d0887\"],[0.1111111111111111,\"#46039f\"],[0.2222222222222222,\"#7201a8\"],[0.3333333333333333,\"#9c179e\"],[0.4444444444444444,\"#bd3786\"],[0.5555555555555556,\"#d8576b\"],[0.6666666666666666,\"#ed7953\"],[0.7777777777777778,\"#fb9f3a\"],[0.8888888888888888,\"#fdca26\"],[1.0,\"#f0f921\"]]}],\"mesh3d\":[{\"type\":\"mesh3d\",\"colorbar\":{\"outlinewidth\":0,\"ticks\":\"\"}}],\"scatter\":[{\"fillpattern\":{\"fillmode\":\"overlay\",\"size\":10,\"solidity\":0.2},\"type\":\"scatter\"}],\"parcoords\":[{\"type\":\"parcoords\",\"line\":{\"colorbar\":{\"outlinewidth\":0,\"ticks\":\"\"}}}],\"scatterpolargl\":[{\"type\":\"scatterpolargl\",\"marker\":{\"colorbar\":{\"outlinewidth\":0,\"ticks\":\"\"}}}],\"bar\":[{\"error_x\":{\"color\":\"#2a3f5f\"},\"error_y\":{\"color\":\"#2a3f5f\"},\"marker\":{\"line\":{\"color\":\"white\",\"width\":0.5},\"pattern\":{\"fillmode\":\"overlay\",\"size\":10,\"solidity\":0.2}},\"type\":\"bar\"}],\"scattergeo\":[{\"type\":\"scattergeo\",\"marker\":{\"colorbar\":{\"outlinewidth\":0,\"ticks\":\"\"}}}],\"scatterpolar\":[{\"type\":\"scatterpolar\",\"marker\":{\"colorbar\":{\"outlinewidth\":0,\"ticks\":\"\"}}}],\"histogram\":[{\"marker\":{\"pattern\":{\"fillmode\":\"overlay\",\"size\":10,\"solidity\":0.2}},\"type\":\"histogram\"}],\"scattergl\":[{\"type\":\"scattergl\",\"marker\":{\"colorbar\":{\"outlinewidth\":0,\"ticks\":\"\"}}}],\"scatter3d\":[{\"type\":\"scatter3d\",\"line\":{\"colorbar\":{\"outlinewidth\":0,\"ticks\":\"\"}},\"marker\":{\"colorbar\":{\"outlinewidth\":0,\"ticks\":\"\"}}}],\"scattermap\":[{\"type\":\"scattermap\",\"marker\":{\"colorbar\":{\"outlinewidth\":0,\"ticks\":\"\"}}}],\"scattermapbox\":[{\"type\":\"scattermapbox\",\"marker\":{\"colorbar\":{\"outlinewidth\":0,\"ticks\":\"\"}}}],\"scatterternary\":[{\"type\":\"scatterternary\",\"marker\":{\"colorbar\":{\"outlinewidth\":0,\"ticks\":\"\"}}}],\"scattercarpet\":[{\"type\":\"scattercarpet\",\"marker\":{\"colorbar\":{\"outlinewidth\":0,\"ticks\":\"\"}}}],\"carpet\":[{\"aaxis\":{\"endlinecolor\":\"#2a3f5f\",\"gridcolor\":\"#C8D4E3\",\"linecolor\":\"#C8D4E3\",\"minorgridcolor\":\"#C8D4E3\",\"startlinecolor\":\"#2a3f5f\"},\"baxis\":{\"endlinecolor\":\"#2a3f5f\",\"gridcolor\":\"#C8D4E3\",\"linecolor\":\"#C8D4E3\",\"minorgridcolor\":\"#C8D4E3\",\"startlinecolor\":\"#2a3f5f\"},\"type\":\"carpet\"}],\"table\":[{\"cells\":{\"fill\":{\"color\":\"#EBF0F8\"},\"line\":{\"color\":\"white\"}},\"header\":{\"fill\":{\"color\":\"#C8D4E3\"},\"line\":{\"color\":\"white\"}},\"type\":\"table\"}],\"barpolar\":[{\"marker\":{\"line\":{\"color\":\"white\",\"width\":0.5},\"pattern\":{\"fillmode\":\"overlay\",\"size\":10,\"solidity\":0.2}},\"type\":\"barpolar\"}],\"pie\":[{\"automargin\":true,\"type\":\"pie\"}]},\"layout\":{\"autotypenumbers\":\"strict\",\"colorway\":[\"#636efa\",\"#EF553B\",\"#00cc96\",\"#ab63fa\",\"#FFA15A\",\"#19d3f3\",\"#FF6692\",\"#B6E880\",\"#FF97FF\",\"#FECB52\"],\"font\":{\"color\":\"#2a3f5f\"},\"hovermode\":\"closest\",\"hoverlabel\":{\"align\":\"left\"},\"paper_bgcolor\":\"white\",\"plot_bgcolor\":\"white\",\"polar\":{\"bgcolor\":\"white\",\"angularaxis\":{\"gridcolor\":\"#EBF0F8\",\"linecolor\":\"#EBF0F8\",\"ticks\":\"\"},\"radialaxis\":{\"gridcolor\":\"#EBF0F8\",\"linecolor\":\"#EBF0F8\",\"ticks\":\"\"}},\"ternary\":{\"bgcolor\":\"white\",\"aaxis\":{\"gridcolor\":\"#DFE8F3\",\"linecolor\":\"#A2B1C6\",\"ticks\":\"\"},\"baxis\":{\"gridcolor\":\"#DFE8F3\",\"linecolor\":\"#A2B1C6\",\"ticks\":\"\"},\"caxis\":{\"gridcolor\":\"#DFE8F3\",\"linecolor\":\"#A2B1C6\",\"ticks\":\"\"}},\"coloraxis\":{\"colorbar\":{\"outlinewidth\":0,\"ticks\":\"\"}},\"colorscale\":{\"sequential\":[[0.0,\"#0d0887\"],[0.1111111111111111,\"#46039f\"],[0.2222222222222222,\"#7201a8\"],[0.3333333333333333,\"#9c179e\"],[0.4444444444444444,\"#bd3786\"],[0.5555555555555556,\"#d8576b\"],[0.6666666666666666,\"#ed7953\"],[0.7777777777777778,\"#fb9f3a\"],[0.8888888888888888,\"#fdca26\"],[1.0,\"#f0f921\"]],\"sequentialminus\":[[0.0,\"#0d0887\"],[0.1111111111111111,\"#46039f\"],[0.2222222222222222,\"#7201a8\"],[0.3333333333333333,\"#9c179e\"],[0.4444444444444444,\"#bd3786\"],[0.5555555555555556,\"#d8576b\"],[0.6666666666666666,\"#ed7953\"],[0.7777777777777778,\"#fb9f3a\"],[0.8888888888888888,\"#fdca26\"],[1.0,\"#f0f921\"]],\"diverging\":[[0,\"#8e0152\"],[0.1,\"#c51b7d\"],[0.2,\"#de77ae\"],[0.3,\"#f1b6da\"],[0.4,\"#fde0ef\"],[0.5,\"#f7f7f7\"],[0.6,\"#e6f5d0\"],[0.7,\"#b8e186\"],[0.8,\"#7fbc41\"],[0.9,\"#4d9221\"],[1,\"#276419\"]]},\"xaxis\":{\"gridcolor\":\"#EBF0F8\",\"linecolor\":\"#EBF0F8\",\"ticks\":\"\",\"title\":{\"standoff\":15},\"zerolinecolor\":\"#EBF0F8\",\"automargin\":true,\"zerolinewidth\":2},\"yaxis\":{\"gridcolor\":\"#EBF0F8\",\"linecolor\":\"#EBF0F8\",\"ticks\":\"\",\"title\":{\"standoff\":15},\"zerolinecolor\":\"#EBF0F8\",\"automargin\":true,\"zerolinewidth\":2},\"scene\":{\"xaxis\":{\"backgroundcolor\":\"white\",\"gridcolor\":\"#DFE8F3\",\"linecolor\":\"#EBF0F8\",\"showbackground\":true,\"ticks\":\"\",\"zerolinecolor\":\"#EBF0F8\",\"gridwidth\":2},\"yaxis\":{\"backgroundcolor\":\"white\",\"gridcolor\":\"#DFE8F3\",\"linecolor\":\"#EBF0F8\",\"showbackground\":true,\"ticks\":\"\",\"zerolinecolor\":\"#EBF0F8\",\"gridwidth\":2},\"zaxis\":{\"backgroundcolor\":\"white\",\"gridcolor\":\"#DFE8F3\",\"linecolor\":\"#EBF0F8\",\"showbackground\":true,\"ticks\":\"\",\"zerolinecolor\":\"#EBF0F8\",\"gridwidth\":2}},\"shapedefaults\":{\"line\":{\"color\":\"#2a3f5f\"}},\"annotationdefaults\":{\"arrowcolor\":\"#2a3f5f\",\"arrowhead\":0,\"arrowwidth\":1},\"geo\":{\"bgcolor\":\"white\",\"landcolor\":\"white\",\"subunitcolor\":\"#C8D4E3\",\"showland\":true,\"showlakes\":true,\"lakecolor\":\"white\"},\"title\":{\"x\":0.05},\"mapbox\":{\"style\":\"light\"}}},\"xaxis\":{\"anchor\":\"y\",\"domain\":[0.0,0.31999999999999995],\"title\":{\"text\":\"Number of Courses of Antibiotics\",\"font\":{\"size\":12}},\"nticks\":10,\"showticklabels\":true},\"yaxis\":{\"anchor\":\"x\",\"domain\":[0.0,0.26666666666666666],\"title\":{\"text\":\"Count\"}},\"xaxis2\":{\"anchor\":\"y2\",\"domain\":[0.33999999999999997,0.6599999999999999],\"matches\":\"x\",\"title\":{\"text\":\"Number of Courses of Antibiotics\",\"font\":{\"size\":12}},\"nticks\":10,\"showticklabels\":true},\"yaxis2\":{\"anchor\":\"x2\",\"domain\":[0.0,0.26666666666666666],\"matches\":\"y\",\"showticklabels\":false},\"xaxis3\":{\"anchor\":\"y3\",\"domain\":[0.6799999999999999,0.9999999999999999],\"matches\":\"x\",\"title\":{\"text\":\"Number of Courses of Antibiotics\",\"font\":{\"size\":12}},\"nticks\":10,\"showticklabels\":true},\"yaxis3\":{\"anchor\":\"x3\",\"domain\":[0.0,0.26666666666666666],\"matches\":\"y\",\"showticklabels\":false},\"xaxis4\":{\"anchor\":\"y4\",\"domain\":[0.0,0.31999999999999995],\"matches\":\"x\",\"showticklabels\":true,\"nticks\":10},\"yaxis4\":{\"anchor\":\"x4\",\"domain\":[0.3666666666666667,0.6333333333333333],\"matches\":\"y\",\"title\":{\"text\":\"Count\"}},\"xaxis5\":{\"anchor\":\"y5\",\"domain\":[0.33999999999999997,0.6599999999999999],\"matches\":\"x\",\"showticklabels\":true,\"nticks\":10},\"yaxis5\":{\"anchor\":\"x5\",\"domain\":[0.3666666666666667,0.6333333333333333],\"matches\":\"y\",\"showticklabels\":false},\"xaxis6\":{\"anchor\":\"y6\",\"domain\":[0.6799999999999999,0.9999999999999999],\"matches\":\"x\",\"showticklabels\":true,\"nticks\":10},\"yaxis6\":{\"anchor\":\"x6\",\"domain\":[0.3666666666666667,0.6333333333333333],\"matches\":\"y\",\"showticklabels\":false},\"xaxis7\":{\"anchor\":\"y7\",\"domain\":[0.0,0.31999999999999995],\"matches\":\"x\",\"showticklabels\":true,\"nticks\":10},\"yaxis7\":{\"anchor\":\"x7\",\"domain\":[0.7333333333333334,1.0],\"matches\":\"y\",\"title\":{\"text\":\"Count\"}},\"xaxis8\":{\"anchor\":\"y8\",\"domain\":[0.33999999999999997,0.6599999999999999],\"matches\":\"x\",\"showticklabels\":true,\"nticks\":10},\"yaxis8\":{\"anchor\":\"x8\",\"domain\":[0.7333333333333334,1.0],\"matches\":\"y\",\"showticklabels\":false},\"xaxis9\":{\"anchor\":\"y9\",\"domain\":[0.6799999999999999,0.9999999999999999],\"matches\":\"x\",\"showticklabels\":true,\"nticks\":10},\"yaxis9\":{\"anchor\":\"x9\",\"domain\":[0.7333333333333334,1.0],\"matches\":\"y\",\"showticklabels\":false},\"annotations\":[{\"font\":{},\"showarrow\":false,\"text\":\"Year: 2012\",\"x\":0.15999999999999998,\"xanchor\":\"center\",\"xref\":\"paper\",\"y\":0.26666666666666666,\"yanchor\":\"bottom\",\"yref\":\"paper\"},{\"font\":{},\"showarrow\":false,\"text\":\"Year: 2014\",\"x\":0.49999999999999994,\"xanchor\":\"center\",\"xref\":\"paper\",\"y\":0.26666666666666666,\"yanchor\":\"bottom\",\"yref\":\"paper\"},{\"font\":{},\"showarrow\":false,\"text\":\"Year: 2016\",\"x\":0.8399999999999999,\"xanchor\":\"center\",\"xref\":\"paper\",\"y\":0.26666666666666666,\"yanchor\":\"bottom\",\"yref\":\"paper\"},{\"font\":{},\"showarrow\":false,\"text\":\"Year: 2006\",\"x\":0.15999999999999998,\"xanchor\":\"center\",\"xref\":\"paper\",\"y\":0.6333333333333333,\"yanchor\":\"bottom\",\"yref\":\"paper\"},{\"font\":{},\"showarrow\":false,\"text\":\"Year: 2008\",\"x\":0.49999999999999994,\"xanchor\":\"center\",\"xref\":\"paper\",\"y\":0.6333333333333333,\"yanchor\":\"bottom\",\"yref\":\"paper\"},{\"font\":{},\"showarrow\":false,\"text\":\"Year: 2010\",\"x\":0.8399999999999999,\"xanchor\":\"center\",\"xref\":\"paper\",\"y\":0.6333333333333333,\"yanchor\":\"bottom\",\"yref\":\"paper\"},{\"font\":{},\"showarrow\":false,\"text\":\"Year: 2000\",\"x\":0.15999999999999998,\"xanchor\":\"center\",\"xref\":\"paper\",\"y\":1.0,\"yanchor\":\"bottom\",\"yref\":\"paper\"},{\"font\":{},\"showarrow\":false,\"text\":\"Year: 2002\",\"x\":0.49999999999999994,\"xanchor\":\"center\",\"xref\":\"paper\",\"y\":1.0,\"yanchor\":\"bottom\",\"yref\":\"paper\"},{\"font\":{},\"showarrow\":false,\"text\":\"Year: 2004\",\"x\":0.8399999999999999,\"xanchor\":\"center\",\"xref\":\"paper\",\"y\":1.0,\"yanchor\":\"bottom\",\"yref\":\"paper\"}],\"legend\":{\"title\":{\"text\":\"\"},\"tracegroupgap\":0},\"title\":{\"text\":\"Distribution of Antibiotic Courses Prescribed in Infancy\",\"x\":0.5,\"y\":0.95},\"barmode\":\"group\",\"height\":1000,\"width\":850,\"margin\":{\"t\":150},\"showlegend\":true},                        {\"responsive\": true}                    )                };            </script>        </div>"
      ]
     },
     "metadata": {},
     "output_type": "display_data"
    }
   ],
   "source": [
    "color_map={\n",
    "    2: \"#09bfc4\",\n",
    "    1: \"#f39c12\",\n",
    "}\n",
    "\n",
    "fig = px.histogram(\n",
    "    df_dist,\n",
    "    x=\"nabx\",\n",
    "    facet_col=\"year\",\n",
    "    facet_col_wrap=3,\n",
    "    color=\"sex\",\n",
    "    nbins=10,\n",
    "    title=f\"Distribution of Antibiotic Courses Prescribed in Infancy\",\n",
    "    height=1000,\n",
    "    width=850,\n",
    "    facet_row_spacing=0.1,\n",
    "    color_discrete_map=color_map,\n",
    "    barmode=\"group\"\n",
    ")\n",
    "fig.for_each_trace(lambda t: t.update(name=\"female\" if t.name == \"1\" else \"male\"))\n",
    "fig.for_each_annotation(lambda a: a.update(text=a.text.replace(\"year=\", \"Year: \")))\n",
    "fig.update_xaxes(\n",
    "    title_text=\"Number of Courses of Antibiotics\",\n",
    "    nticks=10,\n",
    "    row=1,\n",
    "    title=dict(font=dict(size=12))\n",
    ")\n",
    "fig.update_xaxes(showticklabels=True, nticks=10)\n",
    "fig.update_yaxes(title_text=\"Count\", col=1)\n",
    "fig.update_layout(\n",
    "    legend_title_text=\"\",\n",
    "    title_x=0.5,\n",
    "    title_y=0.95,\n",
    "    margin=dict(t=150), # Adjust top margin for title\n",
    "    showlegend=True\n",
    ")\n",
    "fig.show(config=config)"
   ]
  }
 ],
 "metadata": {
  "kernelspec": {
   "display_name": "env",
   "language": "python",
   "name": "python3"
  },
  "language_info": {
   "codemirror_mode": {
    "name": "ipython",
    "version": 3
   },
   "file_extension": ".py",
   "mimetype": "text/x-python",
   "name": "python",
   "nbconvert_exporter": "python",
   "pygments_lexer": "ipython3",
   "version": "3.10.11"
  }
 },
 "nbformat": 4,
 "nbformat_minor": 5
}
