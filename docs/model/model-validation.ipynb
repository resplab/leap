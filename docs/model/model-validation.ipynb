{
 "cells": [
  {
   "cell_type": "markdown",
   "id": "84617f4c",
   "metadata": {},
   "source": [
    "# LEAP Model Validation\n",
    "\n",
    "This notebook presents validation results for the LEAP (Lifetime Exposures and Asthma outcomes Projection) model. The objective is to compare key simulated outputs from the current pythonic version to observed targets. The taregts include demographic trends, asthma prevalence and incidence, risk factor distributions, and asthma-related health outcomes.\n",
    "\n",
    "A large sample run of LEAP was used to generate all of the data files used in this notebook.\n"
   ]
  },
  {
   "cell_type": "markdown",
   "id": "533319c0",
   "metadata": {},
   "source": [
    "## Notebook setup"
   ]
  },
  {
   "cell_type": "markdown",
   "id": "164c2bab",
   "metadata": {},
   "source": [
    "### Environment setup"
   ]
  },
  {
   "cell_type": "code",
   "execution_count": 10,
   "id": "abcdabac",
   "metadata": {},
   "outputs": [],
   "source": [
    "# Environment setup\n",
    "import os\n",
    "import numpy as np\n",
    "import pandas as pd\n",
    "import matplotlib.pyplot as plt\n",
    "from pathlib import Path"
   ]
  },
  {
   "cell_type": "markdown",
   "id": "0217ce60",
   "metadata": {},
   "source": [
    "### Running Simulation to Obtain Data\n",
    "\n",
    "*Currently, simulations at a sufficient size to get meaningful results take too long to run practically in the notebook. So calling simulation.run() in the Jupyter notebook and using the generated outcome_matrix object for analysis is infeasible. Instead, run it seperately from the command line and use the outputted csvs.*\n",
    "\n",
    "To run the simulation, open a terminal:\n",
    "\n",
    "```sh\n",
    "leap\n",
    "    --run-simulation\n",
    "    --path-output PATH/TO/SAVE/OUTPUT/\n",
    "    --province PROVINCE\n",
    "    --max-age MAX_AGE\n",
    "    --min-year STARTING_YEAR\n",
    "    --time-horizon SIMULATION_LENGTH\n",
    "    --population-growth-type GROWTH_TYPE\n",
    "    --num-births-initial N_BIRTHS\n",
    "    --ignore-pollution\n",
    "```\n",
    "\n",
    "**NOTE**: The default simulation folder naming scheme is:\n",
    "\n",
    "`./leap_output/PROVINCE-MAX_AGE-STARTING_YEAR-SIMULATION_LENGTH-GROWTH_TYPE-N_BIRTHS`\n",
    "\n",
    "For instance, if the model was run with the following parameters:\n",
    "\n",
    "```json\n",
    "\"parameters\": {\n",
    "        \"province\": \"CA\",\n",
    "        \"max_age\": 100,\n",
    "        \"min_year\": 2001,\n",
    "        \"time_horizon\": 15,\n",
    "        \"population_growth_type\": \"M3\",\n",
    "        \"num_births_initial\": 5000,\n",
    "        \"pollution ignored\": true,\n",
    "        \"max_year\": 2015\n",
    "    }\n",
    "```\n",
    "\n",
    "Then the deafult folder name would be:\n",
    "\n",
    "``./leap_output/CA-100-2001-15-M3-5000``"
   ]
  },
  {
   "cell_type": "markdown",
   "id": "1efc624f",
   "metadata": {},
   "source": [
    "### Constants and Parameters"
   ]
  },
  {
   "cell_type": "code",
   "execution_count": 11,
   "id": "868fea86",
   "metadata": {},
   "outputs": [],
   "source": [
    "# Constants for this notebook\n",
    "notebook_path = Path(os.getcwd())\n",
    "LEAP_ROOT = notebook_path.parent.parent\n",
    "DATA_FOLDER = LEAP_ROOT / \"leap\" / \"processed_data\"\n",
    "\n",
    "# Simulation parameters\n",
    "RUN_BUNDLE_NAME = \"CA-110-2001-30-M3-5\"  # REPLACE WITH YOUR DESIRED SIMULATION RUN\n",
    "PROVINCE = \"\"\n",
    "MAX_AGE = 0\n",
    "STARTING_YEAR = \"\"\n",
    "SIMULATION_LENGTH = 0\n",
    "GROWTH_TYPE = \"\"\n",
    "N_BIRTHS = 0\n",
    "\n",
    "OUTPUT_FOLDER = LEAP_ROOT / \"output\" # REPLACE WITH PATH TO THE FOLDER STORING YOUR LEAP OUTPUTS\n",
    "RUN_BUNDLE_FOLDER = OUTPUT_FOLDER / RUN_BUNDLE_NAME"
   ]
  },
  {
   "cell_type": "markdown",
   "id": "a2c412d5",
   "metadata": {},
   "source": [
    "# Figures"
   ]
  },
  {
   "cell_type": "markdown",
   "id": "78804816",
   "metadata": {},
   "source": [
    "## Mortality"
   ]
  },
  {
   "cell_type": "markdown",
   "id": "71a43362",
   "metadata": {},
   "source": [
    "### Load Data"
   ]
  },
  {
   "cell_type": "code",
   "execution_count": null,
   "id": "a090d6e6",
   "metadata": {},
   "outputs": [],
   "source": [
    "# Read obsereved StatsCanada asthma prevalence data\n",
    "target_mortality_raw_df = pd.read_csv(DATA_FOLDER / \"life_table.csv\")\n",
    "\n",
    "# Read mortality data from simulation\n",
    "model_mortality_raw_df = pd.read_csv(RUN_BUNDLE_FOLDER / \"outcome_matrix_death.csv\")\n",
    "\n",
    "# Read population data from simulation\n",
    "model_alive_raw_df = pd.read_csv(RUN_BUNDLE_FOLDER / \"outcome_matrix_alive.csv\")"
   ]
  },
  {
   "cell_type": "markdown",
   "id": "fd4ec1ae",
   "metadata": {},
   "source": [
    "### Process Data"
   ]
  },
  {
   "cell_type": "code",
   "execution_count": null,
   "id": "0630d713",
   "metadata": {},
   "outputs": [],
   "source": [
    "# Filter by ages under 80 years for the figure\n",
    "target_mortality_df = target_mortality_raw_df[target_mortality_raw_df[\"age\"] <= 80]\n",
    "# Filter by chosen province\n",
    "target_mortality_df = target_mortality_df[target_mortality_df[\"province\"] == PROVINCE]\n",
    "\n",
    "# Filter by ages under 80 years for the figure\n",
    "model_mortality_df = model_mortality_raw_df[model_mortality_raw_df[\"age\"] <= 80]\n",
    "# Merge model_mortality_df with model_alive_df to get n_alive for each row\n",
    "model_mortality_df = model_mortality_df.merge(model_alive_raw_df, on=[\"year\", \"age\", \"sex\"])\n",
    "# Calculate mortality rate as n_deaths / n_alive\n",
    "model_mortality_df[\"prob_death\"] = model_mortality_df[\"n_deaths\"] / model_mortality_df[\"n_alive\"]"
   ]
  },
  {
   "cell_type": "markdown",
   "id": "ed0375c3",
   "metadata": {},
   "source": [
    "### Visualize Data"
   ]
  },
  {
   "cell_type": "code",
   "execution_count": null,
   "id": "e31583a4",
   "metadata": {},
   "outputs": [],
   "source": []
  }
 ],
 "metadata": {
  "kernelspec": {
   "display_name": "Python 3",
   "language": "python",
   "name": "python3"
  },
  "language_info": {
   "codemirror_mode": {
    "name": "ipython",
    "version": 3
   },
   "file_extension": ".py",
   "mimetype": "text/x-python",
   "name": "python",
   "nbconvert_exporter": "python",
   "pygments_lexer": "ipython3",
   "version": "3.10.12"
  }
 },
 "nbformat": 4,
 "nbformat_minor": 5
}
