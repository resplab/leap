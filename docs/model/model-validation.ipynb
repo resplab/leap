{
 "cells": [
  {
   "cell_type": "markdown",
   "id": "84617f4c",
   "metadata": {},
   "source": [
    "# LEAP Model Validation\n",
    "\n",
    "This notebook presents validation results for the LEAP (Lifetime Exposures and Asthma outcomes Projection) model. The objective is to compare key simulated outputs from the current pythonic version to observed targets. The taregts include demographic trends, asthma prevalence and incidence, risk factor distributions, and asthma-related health outcomes.\n",
    "\n",
    "A large sample run of LEAP was used to generate all of the data files used in this notebook.\n"
   ]
  },
  {
   "cell_type": "markdown",
   "id": "533319c0",
   "metadata": {},
   "source": [
    "## Notebook setup"
   ]
  },
  {
   "cell_type": "markdown",
   "id": "164c2bab",
   "metadata": {},
   "source": [
    "### Environment setup"
   ]
  },
  {
   "cell_type": "code",
   "execution_count": null,
   "id": "abcdabac",
   "metadata": {},
   "outputs": [],
   "source": [
    "# Environment setup\n",
    "import numpy as np\n",
    "import pandas as pd\n",
    "import matplotlib.pyplot as plt"
   ]
  },
  {
   "cell_type": "markdown",
   "id": "0217ce60",
   "metadata": {},
   "source": [
    "### Running Simulation to Obtain Data\n",
    "\n",
    "*Currently, simulations at a sufficient size to get meaningful results take too long to run practically in the notebook. So calling simulation.run() in the Jupyter notebook and using the generated outcome_matrix object for analysis is infeasible. Instead, run it seperately from the command line and use the outputted csvs.*\n",
    "\n",
    "To run the simulation, open a terminal:\n",
    "\n",
    "```sh\n",
    "leap\n",
    "    --run-simulation\n",
    "    --path-output PATH/TO/SAVE/OUTPUT/\n",
    "    --province PROVINCE\n",
    "    --max-age MAX_AGE\n",
    "    --min-year STARTING_YEAR\n",
    "    --time-horizon SIMULATION_LENGTH\n",
    "    --population-growth-type GROWTH_TYPE\n",
    "    --num-births-initial N_BIRTHS\n",
    "    --ignore-pollution\n",
    "```\n",
    "\n",
    "**NOTE**: The default simulation folder naming scheme is:\n",
    "\n",
    "`./leap_output/PROVINCE-MAX_AGE-STARTING_YEAR-SIMULATION_LENGTH-GROWTH_TYPE-N_BIRTHS`\n",
    "\n",
    "For instance, if the model was run with the following parameters:\n",
    "\n",
    "```json\n",
    "\"parameters\": {\n",
    "        \"province\": \"CA\",\n",
    "        \"max_age\": 100,\n",
    "        \"min_year\": 2001,\n",
    "        \"time_horizon\": 15,\n",
    "        \"population_growth_type\": \"M3\",\n",
    "        \"num_births_initial\": 5000,\n",
    "        \"pollution ignored\": true,\n",
    "        \"max_year\": 2015\n",
    "    }\n",
    "```\n",
    "\n",
    "Then the deafult folder name would be:\n",
    "\n",
    "``./leap_output/CA-100-2001-15-M3-5000``"
   ]
  },
  {
   "cell_type": "markdown",
   "id": "1efc624f",
   "metadata": {},
   "source": [
    "### Simulation parameters"
   ]
  },
  {
   "cell_type": "code",
   "execution_count": null,
   "id": "868fea86",
   "metadata": {},
   "outputs": [],
   "source": [
    "# Simulation parameters\n",
    "RUN_BUNDLE_NAME = \"\"  # REPLACE WITH YOUR DESIRED SIMULATION RUN\n",
    "PROVINCE = \"\"\n",
    "MAX_AGE = 0\n",
    "STARTING_YEAR = \"\"\n",
    "SIMULATION_LENGTH = 0\n",
    "GROWTH_TYPE = \"\"\n",
    "N_BIRTHS = 0"
   ]
  }
 ],
 "metadata": {
  "kernelspec": {
   "display_name": "Python 3",
   "language": "python",
   "name": "python3"
  },
  "language_info": {
   "name": "python",
   "version": "3.10.12"
  }
 },
 "nbformat": 4,
 "nbformat_minor": 5
}
