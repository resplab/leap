{
 "cells": [
  {
   "cell_type": "markdown",
   "id": "84617f4c",
   "metadata": {},
   "source": [
    "# LEAP Model Validation\n",
    "\n",
    "This notebook presents validation results for the `LEAP(Lifetime Exposures and Asthma outcomes Projection)`\n",
    "model. The objective is to compare key simulated outputs from the current pythonic version to\n",
    "observed targets. The taregts include demographic trends, asthma prevalence and incidence,\n",
    "risk factor distributions, and asthma-related health outcomes.\n",
    "\n",
    "A large sample run of `LEAP` was used to generate all of the data files used in this notebook.\n"
   ]
  },
  {
   "cell_type": "markdown",
   "id": "533319c0",
   "metadata": {},
   "source": [
    "## Notebook setup"
   ]
  },
  {
   "cell_type": "markdown",
   "id": "164c2bab",
   "metadata": {},
   "source": [
    "### Environment setup"
   ]
  },
  {
   "cell_type": "code",
   "execution_count": 195,
   "id": "abcdabac",
   "metadata": {},
   "outputs": [
    {
     "name": "stdout",
     "output_type": "stream",
     "text": [
      "The autoreload extension is already loaded. To reload it, use:\n",
      "  %reload_ext autoreload\n"
     ]
    }
   ],
   "source": [
    "# Environment setup\n",
    "%load_ext autoreload\n",
    "%autoreload 2\n",
    "\n",
    "import plotly.io as pio\n",
    "# pio.renderers.default = \"sphinx_gallery\"\n",
    "import plotly.express as px\n",
    "import os\n",
    "import numpy as np\n",
    "import pandas as pd\n",
    "import matplotlib.pyplot as plt\n",
    "from pathlib import Path\n",
    "from leap.data_generation.exacerbation_data import load_population_data\n",
    "from leap.utils import get_data_path"
   ]
  },
  {
   "cell_type": "code",
   "execution_count": 2,
   "id": "369e6830",
   "metadata": {},
   "outputs": [],
   "source": [
    "# Plot Settings\n",
    "plt.rcParams[\"axes.titlesize\"] = 12\n",
    "plt.rcParams[\"figure.titlesize\"] = 16\n",
    "pio.templates.default = \"plotly_white\"\n",
    "config = {\n",
    "    'toImageButtonOptions': {\n",
    "        'format': 'png',\n",
    "        'height': 600,\n",
    "        'width': 1000,\n",
    "        'scale': 2\n",
    "    }\n",
    "}"
   ]
  },
  {
   "cell_type": "markdown",
   "id": "0217ce60",
   "metadata": {},
   "source": [
    "### Running Simulation to Obtain Data\n",
    "\n",
    "*Currently, simulations at a sufficient size to get meaningful results take too long to run*\n",
    "*practically in the notebook. So calling simulation.run() in the Jupyter notebook and using the*\n",
    "*generated outcome_matrix object for analysis is infeasible. Instead, run it seperately from the*\n",
    "*command line and use the outputted csvs.*\n",
    "\n",
    "To run the simulation, open a terminal:\n",
    "\n",
    "```sh\n",
    "leap\n",
    "    --run-simulation\n",
    "    --path-output PATH/TO/SAVE/OUTPUT/\n",
    "    --province PROVINCE\n",
    "    --max-age MAX_AGE\n",
    "    --min-year STARTING_YEAR\n",
    "    --time-horizon SIMULATION_LENGTH\n",
    "    --population-growth-type GROWTH_TYPE\n",
    "    --num-births-initial N_BIRTHS\n",
    "    --ignore-pollution\n",
    "```\n",
    "\n",
    "**NOTE**: The default simulation folder naming scheme is:\n",
    "\n",
    "`./leap_output/PROVINCE-MAX_AGE-STARTING_YEAR-SIMULATION_LENGTH-GROWTH_TYPE-N_BIRTHS`\n",
    "\n",
    "For instance, if the model was run with the following parameters:\n",
    "\n",
    "```json\n",
    "\"parameters\": {\n",
    "        \"province\": \"CA\",\n",
    "        \"max_age\": 100,\n",
    "        \"min_year\": 2001,\n",
    "        \"time_horizon\": 15,\n",
    "        \"population_growth_type\": \"M3\",\n",
    "        \"num_births_initial\": 5000,\n",
    "        \"pollution ignored\": true,\n",
    "        \"max_year\": 2015\n",
    "    }\n",
    "```\n",
    "\n",
    "Then the deafult folder name would be:\n",
    "\n",
    "``./leap_output/CA-100-2001-15-M3-5000``"
   ]
  },
  {
   "cell_type": "markdown",
   "id": "1efc624f",
   "metadata": {},
   "source": [
    "### Constants and Parameters"
   ]
  },
  {
   "cell_type": "code",
   "execution_count": 3,
   "id": "868fea86",
   "metadata": {},
   "outputs": [
    {
     "name": "stdout",
     "output_type": "stream",
     "text": [
      "Run bundle folder found at leap/sample_leap_output\n"
     ]
    }
   ],
   "source": [
    "# Constants for this notebook\n",
    "notebook_path = Path(os.getcwd())\n",
    "LEAP_ROOT = notebook_path.parent.parent\n",
    "\n",
    "# Simulation parameters\n",
    "RUN_BUNDLE_NAME = \"sample_leap_output\"\n",
    "PROVINCE = \"CA\"\n",
    "MAX_AGE = 110\n",
    "STARTING_YEAR = 2001\n",
    "SIMULATION_LENGTH = 30\n",
    "GROWTH_TYPE = \"M3\"\n",
    "N_BIRTHS = 5000\n",
    "\n",
    "# Replace with the path to the folder containing your LEAP output csvs\n",
    "RUN_BUNDLE_FOLDER = LEAP_ROOT / \"leap\" / \"sample_leap_output\"\n",
    "\n",
    "if RUN_BUNDLE_FOLDER.exists():\n",
    "    print(f\"Run bundle folder found at {RUN_BUNDLE_FOLDER.relative_to(LEAP_ROOT)}\")\n",
    "else:\n",
    "    raise FileNotFoundError(f\"!! Run bundle folder does not exist {RUN_BUNDLE_FOLDER}\")"
   ]
  },
  {
   "cell_type": "markdown",
   "id": "78804816",
   "metadata": {},
   "source": [
    "## Mortality Figure\n",
    "\n",
    "Mortality by sex (left: males; right: females) for the model (grey solid) and Statistics\n",
    "Canada (black dashed)."
   ]
  },
  {
   "cell_type": "markdown",
   "id": "71a43362",
   "metadata": {},
   "source": [
    "### Load Data"
   ]
  },
  {
   "cell_type": "code",
   "execution_count": 220,
   "id": "a090d6e6",
   "metadata": {},
   "outputs": [],
   "source": [
    "# Read observed StatCan mortality data\n",
    "target_mortality_df_raw = pd.read_csv(get_data_path(\"processed_data/life_table.csv\"))\n",
    "\n",
    "# Read mortality data from simulation\n",
    "model_mortality_df_raw = pd.read_csv(RUN_BUNDLE_FOLDER / \"outcome_matrix_death.csv\")\n",
    "\n",
    "# Read population data from simulation\n",
    "model_alive_df_raw = pd.read_csv(RUN_BUNDLE_FOLDER / \"outcome_matrix_alive.csv\")"
   ]
  },
  {
   "cell_type": "markdown",
   "id": "fd4ec1ae",
   "metadata": {},
   "source": [
    "### Process Data"
   ]
  },
  {
   "cell_type": "code",
   "execution_count": 221,
   "id": "0630d713",
   "metadata": {},
   "outputs": [],
   "source": [
    "# Filter by ages under 80 years for the figure\n",
    "target_mortality_df = target_mortality_df_raw[target_mortality_df_raw[\"age\"] <= 80]\n",
    "# Filter by chosen province\n",
    "target_mortality_df = target_mortality_df[target_mortality_df[\"province\"] == PROVINCE]\n",
    "\n",
    "# Filter by ages under 80 years for the figure\n",
    "model_mortality_df = model_mortality_df_raw[model_mortality_df_raw[\"age\"] <= 80]\n",
    "# Merge model_mortality_df with model_alive_df to get n_alive for each row\n",
    "model_mortality_df = model_mortality_df.merge(model_alive_df_raw, on=[\"year\", \"age\", \"sex\"])\n",
    "# Calculate mortality rate as n_deaths / n_alive\n",
    "model_mortality_df[\"prob_death\"] = model_mortality_df[\"n_deaths\"] / model_mortality_df[\"n_alive\"]"
   ]
  },
  {
   "cell_type": "markdown",
   "id": "ed0375c3",
   "metadata": {},
   "source": [
    "### Visualize Data"
   ]
  },
  {
   "cell_type": "code",
   "execution_count": 222,
   "id": "55342c32",
   "metadata": {},
   "outputs": [
    {
     "data": {
      "application/vnd.plotly.v1+json": {
       "config": {
        "plotlyServerURL": "https://plot.ly",
        "toImageButtonOptions": {
         "format": "png",
         "height": 600,
         "scale": 2,
         "width": 1000
        }
       },
       "data": [
        {
         "hovertemplate": "sex=F<br>year=2001<br>age=%{x}<br>Probability of dying between ages x and x+1=%{y}<extra></extra>",
         "legendgroup": "",
         "line": {
          "color": "#999999",
          "dash": "solid"
         },
         "marker": {
          "symbol": "circle"
         },
         "mode": "lines",
         "name": "model",
         "orientation": "v",
         "showlegend": true,
         "type": "scatter",
         "x": {
          "bdata": "AAECAwQFBgcICQoLDA0ODxAREhMUFRYXGBkaGxwdHh8gISIjJCUmJygpKissLS4vMDEyMzQ1Njc4OTo7PD0+P0BBQkNERUZHSElKS0xNTk9Q",
          "dtype": "i1"
         },
         "xaxis": "x7",
         "y": {
          "bdata": "txBLEsaMdz/WrVqOtVcpP8TzybKRqyk/AAAAAAAAAAAAAAAAAAAAAAAAAAAAAAAAZ7qgH48XJj8AAAAAAAAAAE+7jhmVvDU/AAAAAAAAAAACjkX4x+k+P9EE5WOdjiQ/u6Vr6NKYJT8AAAAAAAAAAFcQkyuIyTU/LMWt4c8XJT/VoVNsmhJFP8vAhByrAkA/AAAAAAAAAADSnTc55gNFP6HUkKQsXzQ/SGTLvTW4ND+YzLnl2us0P6WxomoY5D8/QgEiVAdxNT8ffat5rAslP0gS1ZC/LDU/w8vB8bpCJT8wtr25tAxAP2MiSuaUMDQ/arBH8OxwIz+kL9vv4/c8PwYYYIABBkg/fVpOayVaMz+qwTRLLygzP0judvk210o/NQ8Jydh8VD/NFcAvrrVPP1endst5tUM/l4fX14D7Rz9O02wlB6hXP8FiIYpkY0Q//9kDHWOmSD/qzv9RrnNEP5+pXHe82FI/xCvHfYKzVz/Ol+I4631TP1Hm6ydtVVY/bfxS5va7Wz8kejlIbTNYP6x+dAaBl18/vKM19WAEZD/5aqceSllwP25Dap9uMmM/NTKKNYP/aT8K+zqIJjFsP2PpS0p0MHQ/+SJRauxhdj9g0YFFBxZtP8a+C8VAKHM/pGsetd92dj+qurtYggd4P5oe93xEsH8/BpayXZ8VgT+dhJh7nvmDPzcCUtqNgIQ/BkLtC4Tahz/u55HYAZWKP4GCMHFdL4k/n59o55XcjD8SW1N5+amNPzjjWiSoqZA/mD+yAPNHlj8Czqb5x2SZP0pl4rh3bJo/2LgwBSkjnj9xR+1bdRWfP6HkTtHCGaA/z3j0Bsk+oz8GvSBtFqClP4ZckQrlXqg/",
          "dtype": "f8"
         },
         "yaxis": "y7"
        },
        {
         "hovertemplate": "sex=F<br>year=2010<br>age=%{x}<br>Probability of dying between ages x and x+1=%{y}<extra></extra>",
         "legendgroup": "",
         "line": {
          "color": "#999999",
          "dash": "solid"
         },
         "marker": {
          "symbol": "circle"
         },
         "mode": "lines",
         "name": "",
         "orientation": "v",
         "showlegend": false,
         "type": "scatter",
         "x": {
          "bdata": "AAECAwQFBgcICQoLDA0ODxAREhMUFRYXGBkaGxwdHh8gISIjJCUmJygpKissLS4vMDEyMzQ1Njc4OTo7PD0+P0BBQkNERUZHSElKS0xNTk9Q",
          "dtype": "i1"
         },
         "xaxis": "x8",
         "y": {
          "bdata": "8xL1/OH6bj8AAAAAAAAAAAAAAAAAAAAAOnox6rp0Jz/ep7L50XE4PwAAAAAAAAAAAAAAAAAAAAA2SGh9B5UoPwAAAAAAAAAARGEuyBKIKD8AAAAAAAAAAE2rCRANzSc/AAAAAAAAAAAAAAAAAAAAACzFreHPFzU/NPR0W11FND+nZUe9VR40PxVKaSddlj0/PTIj6QPhTD/cl7XsINk7P7J3kX6dUzI/L87ZZwLzMj8AAAAAAAAAAFArCjqnSCM/W+NjIMqARz/oyERKK5hCPy6W7FmNITw/BZMCiV9OMj8cCM0bCM07P3VTpJOoq0Y/AlBgThXUOz81MA+R5yw8P2M0iw72/kI/RfSW/BQwMz/IKvI48C08P5/LedjUcjw/QBhSUu1HIz8xDtR/30tNPxHHIFdJoFI/PcbtsHluRj8fi0WRMr1YP2uKAeyU7UE/5vIkp5L8Tz9QTYvDnNpWP+q+oB2zulc/MvH9DJeWRz/Gv33pHjVTPzxqBZdouFw/3a9oIOyhYD9/M/x5lgNLPyWL7+pfFFo/+P+oxMphXj+ckQ18BVlYPzg7+dKcNFs/enMIbuVJXj/n6Bo1W3tuP96j6mDwmm4/YFovpQoxbD/xf/nWfQ9yP/F/+dZ9D3I/1ycCcjjicT+TzDgCCWF+P68uu7GIo3M/x7yCyEsNdz9ve6SHe012P51M3laXa4I/vWVxPMP3hD9zx/6dLcKBP5+zYamKBYo/Iqp5w2sUij/XBzKL1bqEP7SjSxJelY4/9LVoNUvniz+6RMGXpUuUP2piRh0DIZE/hgbNquWUlT/hwDIdPPSUPw+63ng+xJc/6bb5AQ5Mmz+2zaMBg8WkPwbUM5Xrjqc/",
          "dtype": "f8"
         },
         "yaxis": "y8"
        },
        {
         "hovertemplate": "sex=F<br>year=2015<br>age=%{x}<br>Probability of dying between ages x and x+1=%{y}<extra></extra>",
         "legendgroup": "",
         "line": {
          "color": "#999999",
          "dash": "solid"
         },
         "marker": {
          "symbol": "circle"
         },
         "mode": "lines",
         "name": "",
         "orientation": "v",
         "showlegend": false,
         "type": "scatter",
         "x": {
          "bdata": "AAECAwQFBgcICQoLDA0ODxAREhMUFRYXGBkaGxwdHh8gISIjJCUmJygpKissLS4vMDEyMzQ1Njc4OTo7PD0+P0BBQkNERUZHSElKS0xNTk9Q",
          "dtype": "i1"
         },
         "xaxis": "x9",
         "y": {
          "bdata": "j9fts5SbcT+hsqdQDQg3PwAAAAAAAAAAAAAAAAAAAAAtMkROPZ0mPwAAAAAAAAAAAAAAAAAAAAAAAAAAAAAAAAAAAAAAAAAAAAAAAAAAAAAAAAAAAAAAAEIBLKGF9yY/AAAAAAAAAADytpOE29wmPwAAAAAAAAAAOp2XlGsaJj8AAAAAAAAAAD2vnX2lmiU/9yxB1sUeRT9W2Qc54csjP8kQUokxA0M/QJQgBgchIz/jQHGgOFA8PwAAAAAAAAAAkQjd5ux3Rj85n5LF1bhBP/Klj2VDiDs/xzdDa/fhRj/srdqIEmQiP9M1bz0w3zE/qOfcbXDBMT8ZdX2VOtUxPzXsyVnQHjo/FakQjMcHRj8Jbr153A5KP4qcu0BVqCE/mICZyLHcQT9Imgn3oTUyP4VJbeKmDVc/iUeKqb6HRj+B02e4UUEyP1sw8eEklkI/08DGXWccPD+UcPFBowJLP27zIloen1M/ZtZO4v01Sj8Wbs8BXTtaP9EQ03N0j1g/TgIqT5fRWj8D1Av8DsVdP/djZz9JlmI/nQfYUdLvZD9hyIEmptFmPwiagmw6gGI/1kOi7r9mYD8VUAEVUAFlPwfEVvF3Um0/eT7Bq2liaz95RrPHly9qP6ZrFLXhX28/60UH0ql3cD8DVTINMYFwP0Z7Zil5wXQ/hNqznN63ez+pJPXeFW96PxQ4gRM4gYM/m7hvzBcwgT8JFtYw6/yIP4wj+JJa84g/hs8GkWoKij8bkBqQGpCKP8CkvAeGN4w/vzQ53rcskD/wp8GfBn+KPw0ndV8eW5E/0Bh3CI+ukj+tT+CjhKKWP/tZ8L/pXJw/R2IsmMBvoT9oMmE2eyajP6Vzh/oQPqM/",
          "dtype": "f8"
         },
         "yaxis": "y9"
        },
        {
         "hovertemplate": "sex=F<br>year=2020<br>age=%{x}<br>Probability of dying between ages x and x+1=%{y}<extra></extra>",
         "legendgroup": "",
         "line": {
          "color": "#999999",
          "dash": "solid"
         },
         "marker": {
          "symbol": "circle"
         },
         "mode": "lines",
         "name": "",
         "orientation": "v",
         "showlegend": false,
         "type": "scatter",
         "x": {
          "bdata": "AAECAwQFBgcICQoLDA0ODxAREhMUFRYXGBkaGxwdHh8gISIjJCUmJygpKissLS4vMDEyMzQ1Njc4OTo7PD0+P0BBQkNERUZHSElKS0xNTk9Q",
          "dtype": "i1"
         },
         "xaxis": "x10",
         "y": {
          "bdata": "AlyrP61hcT+eqfj0MgwnP0zoWorjMyc/uBBj3k20Jj8AAAAAAAAAAAAAAAAAAAAAAAAAAAAAAABVVVVVVVUlPwAAAAAAAAAAAAAAAAAAAAAAAAAAAAAAAAAAAAAAAAAA6BkZvImYND8AAAAAAAAAAKVuodCc4yU/AAAAAAAAAAClFVe42oQlPwAAAAAAAAAAy2JRAAyFPj+IeLycEBIjPwXgGAnAMTI/zeNJjfaxOz8NRLcdB08yP5FL7TH8NEI/pZ5v18OZIT867HomSKc5PyVdgvA5wDk/UmbV+AV7OT8AAAAAAAAAADTxUwEWSEg/iQSQ3NokUj+MAfSc/8JIP+CbHykcb0Q/06y0ZMPuRD88wSXVCmREP3s/l1AZgkQ/2r3Moz2cQD9QELQ4kn5SP6y9JeuAoEQ/Lzefd8v7TD+p4FlQkjo5P4Han8frI1E/N4tl6RvrRT95CoqkmBNPP0wh6y/m91U/MomcJCGqWD8yyhtVavxYPxyNlJOItlQ/OZ+SxdW4UT9p2CaTgQJaP6M1Lxb4TF4/HPtzsnaOYz8GhalX7sthP7Hl0vtBumo//mkX7GEbZD/MLvnWFbRmP8xaFqqsQmE/m7Oaol39Zj+IaMwsfKVwP95msMN0WW8/1sPuVnmycz+SppNGpN9zP1V+hEwewmw/658z49CKej9sFi1Bqh59P42DCZCminw/OWlz+XJWgj9giZKivq+FPy/pLLVfm38/qHN7LTnEhT9f5UEX6p2JP/tgZ8jMWoc/B6CkDN7/jD+dorqDk7iKP2wk9PdVupA/Rt8rUuWukz9AgKrjEp6WP17PJaTmgpg/l5rKlxMBnz+t8odanl6dPxAFZPfVQaQ/",
          "dtype": "f8"
         },
         "yaxis": "y10"
        },
        {
         "hovertemplate": "sex=F<br>year=2025<br>age=%{x}<br>Probability of dying between ages x and x+1=%{y}<extra></extra>",
         "legendgroup": "",
         "line": {
          "color": "#999999",
          "dash": "solid"
         },
         "marker": {
          "symbol": "circle"
         },
         "mode": "lines",
         "name": "",
         "orientation": "v",
         "showlegend": false,
         "type": "scatter",
         "x": {
          "bdata": "AAECAwQFBgcICQoLDA0ODxAREhMUFRYXGBkaGxwdHh8gISIjJCUmJygpKissLS4vMDEyMzQ1Njc4OTo7PD0+P0BBQkNERUZHSElKS0xNTk9Q",
          "dtype": "i1"
         },
         "xaxis": "x11",
         "y": {
          "bdata": "J30M3VcRbz9yMpok2iYmP5ihHcYXDSY/AAAAAAAAAAC83kZ/KCQ3P/DrZ7UMwyU/AAAAAAAAAACqZAyqLpUlPwAAAAAAAAAAAAAAAAAAAAAAAAAAAAAAAOp7lgqvnCQ/OcoDkf1sJD9bv1Kg1q8kPwAAAAAAAAAAAAAAAAAAAAAAAAAAAAAAAAAAAAAAAAAArzUs6HNfMj/Z5DeK9ro7PwRu4tpkZSI/McTvd0FXOz/TtKgPP75PP/pO5ljtBCI/+k7mWO0EIj/vsIjDjVAxPz3vg819KTo/+cV9/AlGQT9cg91GSksxP6PjeRMuu0A/AIYB6PlfSD/Ordb9RWlIP3GLicCFLkA/d8ymABHURz+mtkV+owk/P4UkvwnizS4/lTR+Hs5pPz+1ThrTtZlTP55BiqTREkQ/ROBn9tedRz/WIndPj7xPPwP2k93KOkQ/z1ME6x3hPz/KUfB7MBJUP1xI48faLlg/3vm0X/SNRD+nKamPYQRXP99bHZ75pVc/mBiIaEI8Wj/Xs50HPX9jPxRPKu0PumE/0SM8RfaVXz8VSVVC3qxkP41XXINfD2Y/yh4Bg5k+bD/WKKeddGdiPzY+Cycv/Gc/TgIqT5fRaj+WRo+oINtwP3cwiZ0X9G4/5OKwpa7abT88mMbGc2JxP3S4Pzvv4nE/LAhXIWFWfD/dAXUaF950P/KYhyPuq3g/ZBnwSrZjeT+tL3vV0dKAPwBGca2+YYA/hD5Lxmurgj+DJxQRuGuFPxdg8hZg8oY/p9NHDeHXiT+FKtGQ68CQP3Xg6+btk4s/+M9NwniElj9BuLzs8N2RPxrDhGy4x5Q/IZ4B3OB0lz9UnUaLoxGePx5c9oaeVJ8/",
          "dtype": "f8"
         },
         "yaxis": "y11"
        },
        {
         "hovertemplate": "sex=F<br>year=2030<br>age=%{x}<br>Probability of dying between ages x and x+1=%{y}<extra></extra>",
         "legendgroup": "",
         "line": {
          "color": "#999999",
          "dash": "solid"
         },
         "marker": {
          "symbol": "circle"
         },
         "mode": "lines",
         "name": "",
         "orientation": "v",
         "showlegend": false,
         "type": "scatter",
         "x": {
          "bdata": "AAECAwQFBgcICQoLDA0ODxAREhMUFRYXGBkaGxwdHh8gISIjJCUmJygpKissLS4vMDEyMzQ1Njc4OTo7PD0+P0BBQkNERUZHSElKS0xNTk9Q",
          "dtype": "i1"
         },
         "xaxis": "x12",
         "y": {
          "bdata": "VI2HYNBGZz/iclEuc7IlP1CMrGMQaCU/AAAAAAAAAAAAAAAAAAAAAAAAAAAAAAAAefz+8CHDJD8AAAAAAAAAAAAAAAAAAAAAAAAAAAAAAACSerSEUuI+P2lVz76qJDQ/AAAAAAAAAAAAAAAAAAAAAAAAAAAAAAAAAAAAAAAAAACY22dvm/EyP0Z6a2fAYjI/bWw7ITIGIj8AAAAAAAAAAPmiJOJFsCA/jNcv1niYMD+cPPUsiEEwP4gi6rzIlUA/JBMKjJrKOT+2QZIbYwM6P7YPzDLfyDk/Bo7hJMYSQT8dRDOomukwP/1qpK2E7UA/VlcB9mhZMD+vQHe7UItEPwiG3sl0KzA/HiJa4Cc0QD+ub5uahXEvP18c8vnVYy4/sU3V9ASTHj/7EJV26KkuP0xberg0LU4/gdQoYF1FRj98ZCoF61BUPyxMAbTopVY/ceQB4BRHPj92BkPOpztZP9gFpYhChk4/8VppwbIQRz9dbE7iW69VP211AcLKVjc/FLc/g6qXWz+KX/E6feRZPwDHAeT4b1w/D4WtGecfXz+n2MtLS0ZkP219gcLS1lc/UXjZuLZBXj+ggnm4HGhpPwT3EdxHcF8/lj7NKy9aYj/p6X82vcZiP3yCvNAphnI/Iff4qh2Tcz/PAsEAU4NsPzxYrBrfVnE/A8576YMOej+OeILpom57PxsM6hN3GXw/NAoU1KyBfT+GUELcLY97P8JXKXDkX4I/uAeDIs+1hj8mkzYPAmaDPykHlRFLeYg/6dhwuBaOjD91y6itRVSMP1zJIzMr7JQ/bI0IIAnhij8B3G0wOC2TPz4Ts0BTNpY/OPgWNtoBmT9KH752gr+bP8IwyazWJZ4/",
          "dtype": "f8"
         },
         "yaxis": "y12"
        },
        {
         "hovertemplate": "sex=M<br>year=2001<br>age=%{x}<br>Probability of dying between ages x and x+1=%{y}<extra></extra>",
         "legendgroup": "",
         "line": {
          "color": "#999999",
          "dash": "solid"
         },
         "marker": {
          "symbol": "circle"
         },
         "mode": "lines",
         "name": "",
         "orientation": "v",
         "showlegend": false,
         "type": "scatter",
         "x": {
          "bdata": "AAECAwQFBgcICQoLDA0ODxAREhMUFRYXGBkaGxwdHh8gISIjJCUmJygpKissLS4vMDEyMzQ1Njc4OTo7PD0+P0BBQkNERUZHSElKS0xNTk9Q",
          "dtype": "i1"
         },
         "xaxis": "x",
         "y": {
          "bdata": "SOvIjGMbfT9LdAPVT5AoPyEr0fqDsTc/AAAAAAAAAADHBuY4+zwmPwAAAAAAAAAAcpwxc2AvJT8AAAAAAAAAAAAAAAAAAAAAAAAAAAAAAACRtg+C6OkjPwAAAAAAAAAAtlNrWKcVND/E95OfVhQ1P+UDbrCBWTQ/t7ltpZgDND/iKkYlCYNNPwWM5xE1Ej0/HdX+JoPjPT9uDEFnroUzP4ilU1fHiEg/57rKNuw4PT9mrQteII5RP5n4bOGr7VE/1bmChUwfPj8vzQCXuoREPwn1rjmfgk4/NSeBuFBzUj9tlMjHHdZRPwwLhf88vT4//VfkXGJRIz9obuJ6H8hMPziGc6L9TE0/kw4E7GvZTD9zoyc5yDVHP1jTUpA5FkY/OMDCcDKyUj8aZfLOgvhTP/uHc30mcVc/uB7LDQHKWT8cBRN17qJXPwpNErHfYlc/lUDnt3lIXD9kJxxYz7pmP7zs4diG0mE/cTKDhgi8Zj/HOuBg0FNgPyoBcS/vY10/Rkuq+T7ZZz/H7EjnprtvP1FZXia1IGQ/sPQa0JJ2dj+wIJkwGeB1P5qXaiA/2XI/HUP+fdErdz9F9aCRd/52Pxc3YX5Xi3s/EhiBERiBgT+TNLOpWFOAP9JKIXqL1Ic/lg1i1vhJgT/lAskUdU+KP1FdyvcDLYk/6MeSV84piz+F9hLaS2iPPzVIKrgKkI8/1DV8S6hAkj/Vm1BGiOeUPzjcsSGEN5Q/EN1MvZIjmD/je/kvNXWXP6BWuvzdRp0/GBL54X0hoT/a3m9GUiqhP6+vFmHdSaU/oEMjhsUxoz9Nhv85XAysP6o3+7v/baw/P+6g2Xxarj8JqZZ1oO2uPwQYCrrt1rM/",
          "dtype": "f8"
         },
         "yaxis": "y"
        },
        {
         "hovertemplate": "sex=M<br>year=2010<br>age=%{x}<br>Probability of dying between ages x and x+1=%{y}<extra></extra>",
         "legendgroup": "",
         "line": {
          "color": "#999999",
          "dash": "solid"
         },
         "marker": {
          "symbol": "circle"
         },
         "mode": "lines",
         "name": "",
         "orientation": "v",
         "showlegend": false,
         "type": "scatter",
         "x": {
          "bdata": "AAECAwQFBgcICQoLDA0ODxAREhMUFRYXGBkaGxwdHh8gISIjJCUmJygpKissLS4vMDEyMzQ1Njc4OTo7PD0+P0BBQkNERUZHSElKS0xNTk9Q",
          "dtype": "i1"
         },
         "xaxis": "x2",
         "y": {
          "bdata": "gt3RbaC3eT+0vu4oDOw1P7vwJnIdzUA/t+H+mhXnJj/fNtL7lkEnPyqtf6vxqic/AAAAAAAAAAAAAAAAAAAAAMvecV46ric/AAAAAAAAAAAAAAAAAAAAAAAAAAAAAAAAiAMt3prIJT8AAAAAAAAAAIKd//q+sjM/wh+SSu1PIz9F9Jb8FDBDP/DCQfT4Ljw/88giFg5mMj+szR0cmP5RP0aB5AQTpFE/P4CnZf2CRj8llshQjf0yP6N9yoxOeUI/UVSrcibPTz9GpNcy3vNRPzjKlBI980E/iRCjYhNeSz8F4BgJwDFCPxVedvQzWTs/gEgBIgWIVD9Gp1tV/xFaP77i5jTN6kw/OPxRVMeaUD+/d63GwptVP0W9Na4mn0c/dsK131JXSD9fa+nf38RHP00VVCOFzTw/YywbnKXHWD8kNK2zvglZP96r1qP/pVs/2mr36XjFVD8fymMXINJRPxqAGYAZgFk/ppl9A1j0YD+8fRtdp2ZhP+tR86tUVl4/EKiOvbVhaj/ds+I4bztiP879NPl57mo/W4dqiZD8ZT+zCCgabbJuPyBdgXQF0nU/yQsZZqdWcz9tGk9sZVZ3PwWga16VLHI/mObfKqaXdz8uwQlG3Tl1PwkY6TkDZHw/8MXVDzoqgD+WwgIU0at9PwUUOQoocoQ/oEbMqxffgT/TnPvW2U2JPxzHcRzHcYw/oD2OqgD8hz/HLgEMbeySPxnHANbboJE/7Wcn1MuXkj+YDvqMSsOUP1OwNvTGZpo/Rz52UAVAlz/9LAPKlQ2ZP+IRGckCwZw/POlpFT+XoD99qFuc7N6iPxPhSUHy56U/QhGKUIQipD/IT+RRIaakP8S+FU477Ks/",
          "dtype": "f8"
         },
         "yaxis": "y2"
        },
        {
         "hovertemplate": "sex=M<br>year=2015<br>age=%{x}<br>Probability of dying between ages x and x+1=%{y}<extra></extra>",
         "legendgroup": "",
         "line": {
          "color": "#999999",
          "dash": "solid"
         },
         "marker": {
          "symbol": "circle"
         },
         "mode": "lines",
         "name": "",
         "orientation": "v",
         "showlegend": false,
         "type": "scatter",
         "x": {
          "bdata": "AAECAwQFBgcICQoLDA0ODxAREhMUFRYXGBkaGxwdHh8gISIjJCUmJygpKissLS4vMDEyMzQ1Njc4OTo7PD0+P0BBQkNERUZHSElKS0xNTk9Q",
          "dtype": "i1"
         },
         "xaxis": "x3",
         "y": {
          "bdata": "Y6+4Y2dkbz/BqkxrVfc1P212R2GBvSU/W9VZGFsmQD8AAAAAAAAAAAAAAAAAAAAAAAAAAAAAAAAAAAAAAAAAAN7FniRF2iU/8cAwiBshJj/Pci0YT4wmP/lAie3RZiY/bLH74WqAJj9iIeLJc30mPwAAAAAAAAAA5gfA/ACYPz/RBOVjnY40P6PevYqMuT4/YBMANgFgQz+az5AAcKBGP+oiuXOlhTo/nESOD2VfSj/RjOWQGWhRP22pehggizk/UEDTBNfrQD/tW9apRSRJP6EbjVk9J04/ms2xJVl2Rj9vfW9OjnFKP/MEdyRmXU4/5or+qssHSj/d4jZL9a5VP4Fs6co7RVo/3kMM/GEqOj8TFN10vWU6Py8vrMBpfUo/PxiOcwX0Rj8HQNOLs1FePz5gVzyldFI/1P4LRTwWTD/Sst23USRQP7KnPMRcaFU/CzVBdDriSz+TTPMydopePwPztffr5FM/kstc1bRiVj9NZkCdw7tWPyZIpxkwGmE/M+jN+GG2YT/OujnP62BpP5OZD0Mf32Y/RJDrFLceaj/YoYYd72JuP2T0AKkQO3I/8Q3MTQfxcT8pOvl6C951P03bqjx0xXQ/pu8na+Mqcj+8i86R9z11P70QKBAvvH4/kH/bGPkZeT/OnNKLeoZ7PxT7OkGxr4M/4cWQn/YLhD+Rvs3SKZyHPzgNNbAkDIY/l1IIPWpgiD8tSiJ0VVmKP1ijppsVf48/H+qhHuqhjj/BeCv7HFKTP1n41pD8oJA/Qcn6nTOXmj+KBVVOaXiaP6A5De68SJ0/3hBEd6rdoD9YaITg4AKgP5nXhEIYSKc/8oMlUAippz9BvQFQYE6lP9UMGT20U60/",
          "dtype": "f8"
         },
         "yaxis": "y3"
        },
        {
         "hovertemplate": "sex=M<br>year=2020<br>age=%{x}<br>Probability of dying between ages x and x+1=%{y}<extra></extra>",
         "legendgroup": "",
         "line": {
          "color": "#999999",
          "dash": "solid"
         },
         "marker": {
          "symbol": "circle"
         },
         "mode": "lines",
         "name": "",
         "orientation": "v",
         "showlegend": false,
         "type": "scatter",
         "x": {
          "bdata": "AAECAwQFBgcICQoLDA0ODxAREhMUFRYXGBkaGxwdHh8gISIjJCUmJygpKissLS4vMDEyMzQ1Njc4OTo7PD0+P0BBQkNERUZHSElKS0xNTk9Q",
          "dtype": "i1"
         },
         "xaxis": "x4",
         "y": {
          "bdata": "kBz/WyNMej+YR00tYb0mPxbr0Yn5wzU/AAAAAAAAAADDYvqOSfskPwAAAAAAAAAAAAAAAAAAAAAAAAAAAAAAAMoxYp/4MiQ/Vt5ryvM6JD86MR0dFAk0PwAAAAAAAAAAAAAAAAAAAADt1WzQz9o0P2Iu7IhnDSU/R7TADYU1NT9HrTntAf0kPwAAAAAAAAAAXaeM9Rv3Iz/QtXdKGfo6P1Oxx2YLVkU/snJ1gKxcTT+r07fmfGFNP8Rt5h9KaVI/gAH0XwD9Rz8g+IEf+IFPP6IjFnja3lk/zGRd0Q2wVz/tWIEw0o5VPwa2U4ZahVE/Y04jGGTmWj8ga4BbKM5XP5lhnRyoe1Y/W4P3BhVSSD/xL/gmmhFhP+GVDl8/Klw/FSAA9LwTXj+J02OaPYpcPwWTAolfTlI/HTVe7OznVD/wB/wBf8BfP+GHwStk0FM/w/3XlORVXz+JApG1scphP4hwYJO9AWk/UrnkAgIRYj/yBkDeAMhbPwQQQAABBHA/XgYQIVZ3aT+sjUsLrKZsP3eNdzjfGG4/6FS8XnuGcD88klUbK4xsPxxuI9oMO3Y/Ca/uFmW4cj/foyzdsTVwP9tBX544I3g/IO31m7zYdT8GouaQljh/P3phm1/f53g/YVBT7gh7ej9VaKCWd0F+P4veIg7qsXc/ALNFnIfDhT/91sGZaLiFP4WqxHzCAoI/FDuxEzuxhz8YBv43eFyJP3Ubb/1975A/QMcnd3trkT8WyU0veCKQPxh6oRd6oZc/ZnXauAEPlT++U3igM5yZPwXah3yHEaA/2NRZkr38nT8mXhjQKWKjP0OgQpoGQqQ/GtMDHvH0oj9GF1100UWnP/BRqqODyak/",
          "dtype": "f8"
         },
         "yaxis": "y4"
        },
        {
         "hovertemplate": "sex=M<br>year=2025<br>age=%{x}<br>Probability of dying between ages x and x+1=%{y}<extra></extra>",
         "legendgroup": "",
         "line": {
          "color": "#999999",
          "dash": "solid"
         },
         "marker": {
          "symbol": "circle"
         },
         "mode": "lines",
         "name": "",
         "orientation": "v",
         "showlegend": false,
         "type": "scatter",
         "x": {
          "bdata": "AAECAwQFBgcICQoLDA0ODxAREhMUFRYXGBkaGxwdHh8gISIjJCUmJygpKissLS4vMDEyMzQ1Njc4OTo7PD0+P0BBQkNERUZHSElKS0xNTk9Q",
          "dtype": "i1"
         },
         "xaxis": "x5",
         "y": {
          "bdata": "hpL8xJLScz9hUQEcExYlP4Cm/FUl6iQ/AAAAAAAAAAAAAAAAAAAAAAAAAAAAAAAAAAAAAAAAAAAAAAAAAAAAAAAAAAAAAAAAZl8nL3XrIz8AAAAAAAAAAMf4HobDxSM/AAAAAAAAAAAdgN8knfQ8PwAAAAAAAAAAPdEGjQ/eIj9NWWeQPa8yP+nEKT9y8Ts/MPT5UM/kMT+gUz1ujDlOPz7KKlRBOTE/0S0m9Xa4OT8HHD/1nzRBPweo/RT2Y0E/sWPXnk6bST8cbM6bx5xQP1+T/L3cO0A/UUhU5oyWVD/dHxA1ZrlaP0rg0V+LEEg/RDiPjda1UT8VJ1Zh+KlDP5+OVNRja2E/c3aC9pQ4Uz+O7JY2SiBRP7naULYfQFg/PhVVcD3rWj/Doamp8JpXP/k+8y9ulVU/ycBuld+eYD9OIPqjs1NfPyVzTVUen1k/B6+lQo/uUz+OGPo+YP1bP78zLMlzb1A/FVQBQ9waXz8RAAmt5VJhPzmAwgrRGWc/rmN4YP2rcT/QgGT0I4RlP1c/ssvvvmg/FfuswgPHcD9oL7K9MvNmP69TX68V9XQ/Mtr+YNtccj8I5JdDptx4P4sNWb45EXM/JebRDLbBdz+o8OpcprR3P9VosY4smng/KA6hOITigD9geb7noOB/PwAAAAAAAIE/+HzQTY1ogj9dVgyU8EaDP9FSbTcyUoQ/GwYkbqMqhT+xB5YbQl6QP2wEdt/RYJA/0Tl7feddiz+/5rbFmFaTPwgPwaGsQ5M/9B33oIYIlz/z3CxgmY2XP3wHfqZFJJs/HqpKe5xRoj8EwHW1DCqfPyolEGW4j6E/RbAngxBIoj/fZx+GLQSjPzAji/kzN60/",
          "dtype": "f8"
         },
         "yaxis": "y5"
        },
        {
         "hovertemplate": "sex=M<br>year=2030<br>age=%{x}<br>Probability of dying between ages x and x+1=%{y}<extra></extra>",
         "legendgroup": "",
         "line": {
          "color": "#999999",
          "dash": "solid"
         },
         "marker": {
          "symbol": "circle"
         },
         "mode": "lines",
         "name": "",
         "orientation": "v",
         "showlegend": false,
         "type": "scatter",
         "x": {
          "bdata": "AAECAwQFBgcICQoLDA0ODxAREhMUFRYXGBkaGxwdHh8gISIjJCUmJygpKissLS4vMDEyMzQ1Njc4OTo7PD0+P0BBQkNERUZHSElKS0xNTk9Q",
          "dtype": "i1"
         },
         "xaxis": "x6",
         "y": {
          "bdata": "tZ0/MzrQcD/pF0frSmckPzg762UyhyQ/AAAAAAAAAAAAAAAAAAAAAEQg7n3xziM/vNQfmErHIz+i2u1IY6QjPwAAAAAAAAAAAAAAAAAAAACnlpQxoY4jP/42ajZ5sDM/AAAAAAAAAAAKRy6WXd0iPyjYzKu07CI/ZctZPOFFMj/NyKON9GI7PwAAAAAAAAAAlvuqh98cOT+qcxeWwANIP/Ilo+RyOEc/QIRUiq35Hj87srPGA/U/P0BeW6eFCTA/VqLvK4IkVD/YvFzovMtWPzQTzAmsFEk/NyKk0LYSVz84XQ5jHvxAP7u9xlyD5EQ/A/aT3co6VD+SG7mRG7lRP0OOl8u7yVc/i+W7PfRvSz80Q0tZLzJRPylRzqDIRVg/cdp9h3XoTT9VV+U7RItNPxi9E/DwNl8/n5RwIYbHVz869ToQe81TP+FI0otox10/v8Ulx7ieXD98Wet6bfpkP5DRMAEZDWM/8uetNoc8Yj++ThqlJjlHP0Jdkuk6bFk/pat9f3y1Zj96Ix8S63VmP664s1gusGc/6Sl3/GQoYD/dybYIG3JrP5K6gaKrBWU/9ya4RBOicT/u3YYcyDRjPxB67eQ6zHY/V3oXky/Ncz/JTg/gc192Pzji/DdPf3k/qbSBhIaOdz/gyFYIizR4P+nnfUH7f3k/tAQmQWvPgj+X5azzlE+CPwkkAbmNQII/q2Zvxp9Jhz/ez5tMrvqDP/egiiNv84o/FnKCQaJ+jj+OcqN/r6WMPwUteHbjdZM/0kb8yLPylj9mTIQ7rh2RP/ne4DKuv5c/RLNBADo0mz9/AgsnhsqdP7CIWQn8MKI/DOHvvAfEoD+WN/fS45GjP42gKCcQ/aE/",
          "dtype": "f8"
         },
         "yaxis": "y6"
        },
        {
         "hovertemplate": "sex=F<br>year=2001<br>age=%{x}<br>Probability of dying between ages x and x+1=%{y}<extra></extra>",
         "legendgroup": "",
         "line": {
          "color": "black",
          "dash": "dash"
         },
         "marker": {
          "symbol": "circle"
         },
         "mode": "lines",
         "name": "target",
         "orientation": "v",
         "showlegend": true,
         "type": "scatter",
         "x": {
          "bdata": "AAECAwQFBgcICQoLDA0ODxAREhMUFRYXGBkaGxwdHh8gISIjJCUmJygpKissLS4vMDEyMzQ1Njc4OTo7PD0+P0BBQkNERUZHSElKS0xNTk9Q",
          "dtype": "i1"
         },
         "xaxis": "x7",
         "y": {
          "bdata": "txBLEsaMdz/WrVqOtVcpP8TzybKRqyk/AAAAAAAAAAAAAAAAAAAAAAAAAAAAAAAAZ7qgH48XJj8AAAAAAAAAAE+7jhmVvDU/AAAAAAAAAAACjkX4x+k+P9EE5WOdjiQ/u6Vr6NKYJT8AAAAAAAAAAFcQkyuIyTU/LMWt4c8XJT/VoVNsmhJFP8vAhByrAkA/AAAAAAAAAADSnTc55gNFP6HUkKQsXzQ/SGTLvTW4ND+YzLnl2us0P6WxomoY5D8/QgEiVAdxNT8ffat5rAslP0gS1ZC/LDU/w8vB8bpCJT8wtr25tAxAP2MiSuaUMDQ/arBH8OxwIz+kL9vv4/c8PwYYYIABBkg/fVpOayVaMz+qwTRLLygzP0judvk210o/NQ8Jydh8VD/NFcAvrrVPP1endst5tUM/l4fX14D7Rz9O02wlB6hXP8FiIYpkY0Q//9kDHWOmSD/qzv9RrnNEP5+pXHe82FI/xCvHfYKzVz/Ol+I4631TP1Hm6ydtVVY/bfxS5va7Wz8kejlIbTNYP6x+dAaBl18/vKM19WAEZD/5aqceSllwP25Dap9uMmM/NTKKNYP/aT8K+zqIJjFsP2PpS0p0MHQ/+SJRauxhdj9g0YFFBxZtP8a+C8VAKHM/pGsetd92dj+qurtYggd4P5oe93xEsH8/BpayXZ8VgT+dhJh7nvmDPzcCUtqNgIQ/BkLtC4Tahz/u55HYAZWKP4GCMHFdL4k/n59o55XcjD8SW1N5+amNPzjjWiSoqZA/mD+yAPNHlj8Czqb5x2SZP0pl4rh3bJo/2LgwBSkjnj9xR+1bdRWfP6HkTtHCGaA/z3j0Bsk+oz8GvSBtFqClP4ZckQrlXqg/",
          "dtype": "f8"
         },
         "yaxis": "y7"
        },
        {
         "hovertemplate": "sex=F<br>year=2010<br>age=%{x}<br>Probability of dying between ages x and x+1=%{y}<extra></extra>",
         "legendgroup": "",
         "line": {
          "color": "black",
          "dash": "dash"
         },
         "marker": {
          "symbol": "circle"
         },
         "mode": "lines",
         "name": "",
         "orientation": "v",
         "showlegend": false,
         "type": "scatter",
         "x": {
          "bdata": "AAECAwQFBgcICQoLDA0ODxAREhMUFRYXGBkaGxwdHh8gISIjJCUmJygpKissLS4vMDEyMzQ1Njc4OTo7PD0+P0BBQkNERUZHSElKS0xNTk9Q",
          "dtype": "i1"
         },
         "xaxis": "x8",
         "y": {
          "bdata": "8xL1/OH6bj8AAAAAAAAAAAAAAAAAAAAAOnox6rp0Jz/ep7L50XE4PwAAAAAAAAAAAAAAAAAAAAA2SGh9B5UoPwAAAAAAAAAARGEuyBKIKD8AAAAAAAAAAE2rCRANzSc/AAAAAAAAAAAAAAAAAAAAACzFreHPFzU/NPR0W11FND+nZUe9VR40PxVKaSddlj0/PTIj6QPhTD/cl7XsINk7P7J3kX6dUzI/L87ZZwLzMj8AAAAAAAAAAFArCjqnSCM/W+NjIMqARz/oyERKK5hCPy6W7FmNITw/BZMCiV9OMj8cCM0bCM07P3VTpJOoq0Y/AlBgThXUOz81MA+R5yw8P2M0iw72/kI/RfSW/BQwMz/IKvI48C08P5/LedjUcjw/QBhSUu1HIz8xDtR/30tNPxHHIFdJoFI/PcbtsHluRj8fi0WRMr1YP2uKAeyU7UE/5vIkp5L8Tz9QTYvDnNpWP+q+oB2zulc/MvH9DJeWRz/Gv33pHjVTPzxqBZdouFw/3a9oIOyhYD9/M/x5lgNLPyWL7+pfFFo/+P+oxMphXj+ckQ18BVlYPzg7+dKcNFs/enMIbuVJXj/n6Bo1W3tuP96j6mDwmm4/YFovpQoxbD/xf/nWfQ9yP/F/+dZ9D3I/1ycCcjjicT+TzDgCCWF+P68uu7GIo3M/x7yCyEsNdz9ve6SHe012P51M3laXa4I/vWVxPMP3hD9zx/6dLcKBP5+zYamKBYo/Iqp5w2sUij/XBzKL1bqEP7SjSxJelY4/9LVoNUvniz+6RMGXpUuUP2piRh0DIZE/hgbNquWUlT/hwDIdPPSUPw+63ng+xJc/6bb5AQ5Mmz+2zaMBg8WkPwbUM5Xrjqc/",
          "dtype": "f8"
         },
         "yaxis": "y8"
        },
        {
         "hovertemplate": "sex=F<br>year=2015<br>age=%{x}<br>Probability of dying between ages x and x+1=%{y}<extra></extra>",
         "legendgroup": "",
         "line": {
          "color": "black",
          "dash": "dash"
         },
         "marker": {
          "symbol": "circle"
         },
         "mode": "lines",
         "name": "",
         "orientation": "v",
         "showlegend": false,
         "type": "scatter",
         "x": {
          "bdata": "AAECAwQFBgcICQoLDA0ODxAREhMUFRYXGBkaGxwdHh8gISIjJCUmJygpKissLS4vMDEyMzQ1Njc4OTo7PD0+P0BBQkNERUZHSElKS0xNTk9Q",
          "dtype": "i1"
         },
         "xaxis": "x9",
         "y": {
          "bdata": "j9fts5SbcT+hsqdQDQg3PwAAAAAAAAAAAAAAAAAAAAAtMkROPZ0mPwAAAAAAAAAAAAAAAAAAAAAAAAAAAAAAAAAAAAAAAAAAAAAAAAAAAAAAAAAAAAAAAEIBLKGF9yY/AAAAAAAAAADytpOE29wmPwAAAAAAAAAAOp2XlGsaJj8AAAAAAAAAAD2vnX2lmiU/9yxB1sUeRT9W2Qc54csjP8kQUokxA0M/QJQgBgchIz/jQHGgOFA8PwAAAAAAAAAAkQjd5ux3Rj85n5LF1bhBP/Klj2VDiDs/xzdDa/fhRj/srdqIEmQiP9M1bz0w3zE/qOfcbXDBMT8ZdX2VOtUxPzXsyVnQHjo/FakQjMcHRj8Jbr153A5KP4qcu0BVqCE/mICZyLHcQT9Imgn3oTUyP4VJbeKmDVc/iUeKqb6HRj+B02e4UUEyP1sw8eEklkI/08DGXWccPD+UcPFBowJLP27zIloen1M/ZtZO4v01Sj8Wbs8BXTtaP9EQ03N0j1g/TgIqT5fRWj8D1Av8DsVdP/djZz9JlmI/nQfYUdLvZD9hyIEmptFmPwiagmw6gGI/1kOi7r9mYD8VUAEVUAFlPwfEVvF3Um0/eT7Bq2liaz95RrPHly9qP6ZrFLXhX28/60UH0ql3cD8DVTINMYFwP0Z7Zil5wXQ/hNqznN63ez+pJPXeFW96PxQ4gRM4gYM/m7hvzBcwgT8JFtYw6/yIP4wj+JJa84g/hs8GkWoKij8bkBqQGpCKP8CkvAeGN4w/vzQ53rcskD/wp8GfBn+KPw0ndV8eW5E/0Bh3CI+ukj+tT+CjhKKWP/tZ8L/pXJw/R2IsmMBvoT9oMmE2eyajP6Vzh/oQPqM/",
          "dtype": "f8"
         },
         "yaxis": "y9"
        },
        {
         "hovertemplate": "sex=F<br>year=2020<br>age=%{x}<br>Probability of dying between ages x and x+1=%{y}<extra></extra>",
         "legendgroup": "",
         "line": {
          "color": "black",
          "dash": "dash"
         },
         "marker": {
          "symbol": "circle"
         },
         "mode": "lines",
         "name": "",
         "orientation": "v",
         "showlegend": false,
         "type": "scatter",
         "x": {
          "bdata": "AAECAwQFBgcICQoLDA0ODxAREhMUFRYXGBkaGxwdHh8gISIjJCUmJygpKissLS4vMDEyMzQ1Njc4OTo7PD0+P0BBQkNERUZHSElKS0xNTk9Q",
          "dtype": "i1"
         },
         "xaxis": "x10",
         "y": {
          "bdata": "AlyrP61hcT+eqfj0MgwnP0zoWorjMyc/uBBj3k20Jj8AAAAAAAAAAAAAAAAAAAAAAAAAAAAAAABVVVVVVVUlPwAAAAAAAAAAAAAAAAAAAAAAAAAAAAAAAAAAAAAAAAAA6BkZvImYND8AAAAAAAAAAKVuodCc4yU/AAAAAAAAAAClFVe42oQlPwAAAAAAAAAAy2JRAAyFPj+IeLycEBIjPwXgGAnAMTI/zeNJjfaxOz8NRLcdB08yP5FL7TH8NEI/pZ5v18OZIT867HomSKc5PyVdgvA5wDk/UmbV+AV7OT8AAAAAAAAAADTxUwEWSEg/iQSQ3NokUj+MAfSc/8JIP+CbHykcb0Q/06y0ZMPuRD88wSXVCmREP3s/l1AZgkQ/2r3Moz2cQD9QELQ4kn5SP6y9JeuAoEQ/Lzefd8v7TD+p4FlQkjo5P4Han8frI1E/N4tl6RvrRT95CoqkmBNPP0wh6y/m91U/MomcJCGqWD8yyhtVavxYPxyNlJOItlQ/OZ+SxdW4UT9p2CaTgQJaP6M1Lxb4TF4/HPtzsnaOYz8GhalX7sthP7Hl0vtBumo//mkX7GEbZD/MLvnWFbRmP8xaFqqsQmE/m7Oaol39Zj+IaMwsfKVwP95msMN0WW8/1sPuVnmycz+SppNGpN9zP1V+hEwewmw/658z49CKej9sFi1Bqh59P42DCZCminw/OWlz+XJWgj9giZKivq+FPy/pLLVfm38/qHN7LTnEhT9f5UEX6p2JP/tgZ8jMWoc/B6CkDN7/jD+dorqDk7iKP2wk9PdVupA/Rt8rUuWukz9AgKrjEp6WP17PJaTmgpg/l5rKlxMBnz+t8odanl6dPxAFZPfVQaQ/",
          "dtype": "f8"
         },
         "yaxis": "y10"
        },
        {
         "hovertemplate": "sex=F<br>year=2025<br>age=%{x}<br>Probability of dying between ages x and x+1=%{y}<extra></extra>",
         "legendgroup": "",
         "line": {
          "color": "black",
          "dash": "dash"
         },
         "marker": {
          "symbol": "circle"
         },
         "mode": "lines",
         "name": "",
         "orientation": "v",
         "showlegend": false,
         "type": "scatter",
         "x": {
          "bdata": "AAECAwQFBgcICQoLDA0ODxAREhMUFRYXGBkaGxwdHh8gISIjJCUmJygpKissLS4vMDEyMzQ1Njc4OTo7PD0+P0BBQkNERUZHSElKS0xNTk9Q",
          "dtype": "i1"
         },
         "xaxis": "x11",
         "y": {
          "bdata": "J30M3VcRbz9yMpok2iYmP5ihHcYXDSY/AAAAAAAAAAC83kZ/KCQ3P/DrZ7UMwyU/AAAAAAAAAACqZAyqLpUlPwAAAAAAAAAAAAAAAAAAAAAAAAAAAAAAAOp7lgqvnCQ/OcoDkf1sJD9bv1Kg1q8kPwAAAAAAAAAAAAAAAAAAAAAAAAAAAAAAAAAAAAAAAAAArzUs6HNfMj/Z5DeK9ro7PwRu4tpkZSI/McTvd0FXOz/TtKgPP75PP/pO5ljtBCI/+k7mWO0EIj/vsIjDjVAxPz3vg819KTo/+cV9/AlGQT9cg91GSksxP6PjeRMuu0A/AIYB6PlfSD/Ordb9RWlIP3GLicCFLkA/d8ymABHURz+mtkV+owk/P4UkvwnizS4/lTR+Hs5pPz+1ThrTtZlTP55BiqTREkQ/ROBn9tedRz/WIndPj7xPPwP2k93KOkQ/z1ME6x3hPz/KUfB7MBJUP1xI48faLlg/3vm0X/SNRD+nKamPYQRXP99bHZ75pVc/mBiIaEI8Wj/Xs50HPX9jPxRPKu0PumE/0SM8RfaVXz8VSVVC3qxkP41XXINfD2Y/yh4Bg5k+bD/WKKeddGdiPzY+Cycv/Gc/TgIqT5fRaj+WRo+oINtwP3cwiZ0X9G4/5OKwpa7abT88mMbGc2JxP3S4Pzvv4nE/LAhXIWFWfD/dAXUaF950P/KYhyPuq3g/ZBnwSrZjeT+tL3vV0dKAPwBGca2+YYA/hD5Lxmurgj+DJxQRuGuFPxdg8hZg8oY/p9NHDeHXiT+FKtGQ68CQP3Xg6+btk4s/+M9NwniElj9BuLzs8N2RPxrDhGy4x5Q/IZ4B3OB0lz9UnUaLoxGePx5c9oaeVJ8/",
          "dtype": "f8"
         },
         "yaxis": "y11"
        },
        {
         "hovertemplate": "sex=F<br>year=2030<br>age=%{x}<br>Probability of dying between ages x and x+1=%{y}<extra></extra>",
         "legendgroup": "",
         "line": {
          "color": "black",
          "dash": "dash"
         },
         "marker": {
          "symbol": "circle"
         },
         "mode": "lines",
         "name": "",
         "orientation": "v",
         "showlegend": false,
         "type": "scatter",
         "x": {
          "bdata": "AAECAwQFBgcICQoLDA0ODxAREhMUFRYXGBkaGxwdHh8gISIjJCUmJygpKissLS4vMDEyMzQ1Njc4OTo7PD0+P0BBQkNERUZHSElKS0xNTk9Q",
          "dtype": "i1"
         },
         "xaxis": "x12",
         "y": {
          "bdata": "VI2HYNBGZz/iclEuc7IlP1CMrGMQaCU/AAAAAAAAAAAAAAAAAAAAAAAAAAAAAAAAefz+8CHDJD8AAAAAAAAAAAAAAAAAAAAAAAAAAAAAAACSerSEUuI+P2lVz76qJDQ/AAAAAAAAAAAAAAAAAAAAAAAAAAAAAAAAAAAAAAAAAACY22dvm/EyP0Z6a2fAYjI/bWw7ITIGIj8AAAAAAAAAAPmiJOJFsCA/jNcv1niYMD+cPPUsiEEwP4gi6rzIlUA/JBMKjJrKOT+2QZIbYwM6P7YPzDLfyDk/Bo7hJMYSQT8dRDOomukwP/1qpK2E7UA/VlcB9mhZMD+vQHe7UItEPwiG3sl0KzA/HiJa4Cc0QD+ub5uahXEvP18c8vnVYy4/sU3V9ASTHj/7EJV26KkuP0xberg0LU4/gdQoYF1FRj98ZCoF61BUPyxMAbTopVY/ceQB4BRHPj92BkPOpztZP9gFpYhChk4/8VppwbIQRz9dbE7iW69VP211AcLKVjc/FLc/g6qXWz+KX/E6feRZPwDHAeT4b1w/D4WtGecfXz+n2MtLS0ZkP219gcLS1lc/UXjZuLZBXj+ggnm4HGhpPwT3EdxHcF8/lj7NKy9aYj/p6X82vcZiP3yCvNAphnI/Iff4qh2Tcz/PAsEAU4NsPzxYrBrfVnE/A8576YMOej+OeILpom57PxsM6hN3GXw/NAoU1KyBfT+GUELcLY97P8JXKXDkX4I/uAeDIs+1hj8mkzYPAmaDPykHlRFLeYg/6dhwuBaOjD91y6itRVSMP1zJIzMr7JQ/bI0IIAnhij8B3G0wOC2TPz4Ts0BTNpY/OPgWNtoBmT9KH752gr+bP8IwyazWJZ4/",
          "dtype": "f8"
         },
         "yaxis": "y12"
        },
        {
         "hovertemplate": "sex=M<br>year=2001<br>age=%{x}<br>Probability of dying between ages x and x+1=%{y}<extra></extra>",
         "legendgroup": "",
         "line": {
          "color": "black",
          "dash": "dash"
         },
         "marker": {
          "symbol": "circle"
         },
         "mode": "lines",
         "name": "",
         "orientation": "v",
         "showlegend": false,
         "type": "scatter",
         "x": {
          "bdata": "AAECAwQFBgcICQoLDA0ODxAREhMUFRYXGBkaGxwdHh8gISIjJCUmJygpKissLS4vMDEyMzQ1Njc4OTo7PD0+P0BBQkNERUZHSElKS0xNTk9Q",
          "dtype": "i1"
         },
         "xaxis": "x",
         "y": {
          "bdata": "SOvIjGMbfT9LdAPVT5AoPyEr0fqDsTc/AAAAAAAAAADHBuY4+zwmPwAAAAAAAAAAcpwxc2AvJT8AAAAAAAAAAAAAAAAAAAAAAAAAAAAAAACRtg+C6OkjPwAAAAAAAAAAtlNrWKcVND/E95OfVhQ1P+UDbrCBWTQ/t7ltpZgDND/iKkYlCYNNPwWM5xE1Ej0/HdX+JoPjPT9uDEFnroUzP4ilU1fHiEg/57rKNuw4PT9mrQteII5RP5n4bOGr7VE/1bmChUwfPj8vzQCXuoREPwn1rjmfgk4/NSeBuFBzUj9tlMjHHdZRPwwLhf88vT4//VfkXGJRIz9obuJ6H8hMPziGc6L9TE0/kw4E7GvZTD9zoyc5yDVHP1jTUpA5FkY/OMDCcDKyUj8aZfLOgvhTP/uHc30mcVc/uB7LDQHKWT8cBRN17qJXPwpNErHfYlc/lUDnt3lIXD9kJxxYz7pmP7zs4diG0mE/cTKDhgi8Zj/HOuBg0FNgPyoBcS/vY10/Rkuq+T7ZZz/H7EjnprtvP1FZXia1IGQ/sPQa0JJ2dj+wIJkwGeB1P5qXaiA/2XI/HUP+fdErdz9F9aCRd/52Pxc3YX5Xi3s/EhiBERiBgT+TNLOpWFOAP9JKIXqL1Ic/lg1i1vhJgT/lAskUdU+KP1FdyvcDLYk/6MeSV84piz+F9hLaS2iPPzVIKrgKkI8/1DV8S6hAkj/Vm1BGiOeUPzjcsSGEN5Q/EN1MvZIjmD/je/kvNXWXP6BWuvzdRp0/GBL54X0hoT/a3m9GUiqhP6+vFmHdSaU/oEMjhsUxoz9Nhv85XAysP6o3+7v/baw/P+6g2Xxarj8JqZZ1oO2uPwQYCrrt1rM/",
          "dtype": "f8"
         },
         "yaxis": "y"
        },
        {
         "hovertemplate": "sex=M<br>year=2010<br>age=%{x}<br>Probability of dying between ages x and x+1=%{y}<extra></extra>",
         "legendgroup": "",
         "line": {
          "color": "black",
          "dash": "dash"
         },
         "marker": {
          "symbol": "circle"
         },
         "mode": "lines",
         "name": "",
         "orientation": "v",
         "showlegend": false,
         "type": "scatter",
         "x": {
          "bdata": "AAECAwQFBgcICQoLDA0ODxAREhMUFRYXGBkaGxwdHh8gISIjJCUmJygpKissLS4vMDEyMzQ1Njc4OTo7PD0+P0BBQkNERUZHSElKS0xNTk9Q",
          "dtype": "i1"
         },
         "xaxis": "x2",
         "y": {
          "bdata": "gt3RbaC3eT+0vu4oDOw1P7vwJnIdzUA/t+H+mhXnJj/fNtL7lkEnPyqtf6vxqic/AAAAAAAAAAAAAAAAAAAAAMvecV46ric/AAAAAAAAAAAAAAAAAAAAAAAAAAAAAAAAiAMt3prIJT8AAAAAAAAAAIKd//q+sjM/wh+SSu1PIz9F9Jb8FDBDP/DCQfT4Ljw/88giFg5mMj+szR0cmP5RP0aB5AQTpFE/P4CnZf2CRj8llshQjf0yP6N9yoxOeUI/UVSrcibPTz9GpNcy3vNRPzjKlBI980E/iRCjYhNeSz8F4BgJwDFCPxVedvQzWTs/gEgBIgWIVD9Gp1tV/xFaP77i5jTN6kw/OPxRVMeaUD+/d63GwptVP0W9Na4mn0c/dsK131JXSD9fa+nf38RHP00VVCOFzTw/YywbnKXHWD8kNK2zvglZP96r1qP/pVs/2mr36XjFVD8fymMXINJRPxqAGYAZgFk/ppl9A1j0YD+8fRtdp2ZhP+tR86tUVl4/EKiOvbVhaj/ds+I4bztiP879NPl57mo/W4dqiZD8ZT+zCCgabbJuPyBdgXQF0nU/yQsZZqdWcz9tGk9sZVZ3PwWga16VLHI/mObfKqaXdz8uwQlG3Tl1PwkY6TkDZHw/8MXVDzoqgD+WwgIU0at9PwUUOQoocoQ/oEbMqxffgT/TnPvW2U2JPxzHcRzHcYw/oD2OqgD8hz/HLgEMbeySPxnHANbboJE/7Wcn1MuXkj+YDvqMSsOUP1OwNvTGZpo/Rz52UAVAlz/9LAPKlQ2ZP+IRGckCwZw/POlpFT+XoD99qFuc7N6iPxPhSUHy56U/QhGKUIQipD/IT+RRIaakP8S+FU477Ks/",
          "dtype": "f8"
         },
         "yaxis": "y2"
        },
        {
         "hovertemplate": "sex=M<br>year=2015<br>age=%{x}<br>Probability of dying between ages x and x+1=%{y}<extra></extra>",
         "legendgroup": "",
         "line": {
          "color": "black",
          "dash": "dash"
         },
         "marker": {
          "symbol": "circle"
         },
         "mode": "lines",
         "name": "",
         "orientation": "v",
         "showlegend": false,
         "type": "scatter",
         "x": {
          "bdata": "AAECAwQFBgcICQoLDA0ODxAREhMUFRYXGBkaGxwdHh8gISIjJCUmJygpKissLS4vMDEyMzQ1Njc4OTo7PD0+P0BBQkNERUZHSElKS0xNTk9Q",
          "dtype": "i1"
         },
         "xaxis": "x3",
         "y": {
          "bdata": "Y6+4Y2dkbz/BqkxrVfc1P212R2GBvSU/W9VZGFsmQD8AAAAAAAAAAAAAAAAAAAAAAAAAAAAAAAAAAAAAAAAAAN7FniRF2iU/8cAwiBshJj/Pci0YT4wmP/lAie3RZiY/bLH74WqAJj9iIeLJc30mPwAAAAAAAAAA5gfA/ACYPz/RBOVjnY40P6PevYqMuT4/YBMANgFgQz+az5AAcKBGP+oiuXOlhTo/nESOD2VfSj/RjOWQGWhRP22pehggizk/UEDTBNfrQD/tW9apRSRJP6EbjVk9J04/ms2xJVl2Rj9vfW9OjnFKP/MEdyRmXU4/5or+qssHSj/d4jZL9a5VP4Fs6co7RVo/3kMM/GEqOj8TFN10vWU6Py8vrMBpfUo/PxiOcwX0Rj8HQNOLs1FePz5gVzyldFI/1P4LRTwWTD/Sst23USRQP7KnPMRcaFU/CzVBdDriSz+TTPMydopePwPztffr5FM/kstc1bRiVj9NZkCdw7tWPyZIpxkwGmE/M+jN+GG2YT/OujnP62BpP5OZD0Mf32Y/RJDrFLceaj/YoYYd72JuP2T0AKkQO3I/8Q3MTQfxcT8pOvl6C951P03bqjx0xXQ/pu8na+Mqcj+8i86R9z11P70QKBAvvH4/kH/bGPkZeT/OnNKLeoZ7PxT7OkGxr4M/4cWQn/YLhD+Rvs3SKZyHPzgNNbAkDIY/l1IIPWpgiD8tSiJ0VVmKP1ijppsVf48/H+qhHuqhjj/BeCv7HFKTP1n41pD8oJA/Qcn6nTOXmj+KBVVOaXiaP6A5De68SJ0/3hBEd6rdoD9YaITg4AKgP5nXhEIYSKc/8oMlUAippz9BvQFQYE6lP9UMGT20U60/",
          "dtype": "f8"
         },
         "yaxis": "y3"
        },
        {
         "hovertemplate": "sex=M<br>year=2020<br>age=%{x}<br>Probability of dying between ages x and x+1=%{y}<extra></extra>",
         "legendgroup": "",
         "line": {
          "color": "black",
          "dash": "dash"
         },
         "marker": {
          "symbol": "circle"
         },
         "mode": "lines",
         "name": "",
         "orientation": "v",
         "showlegend": false,
         "type": "scatter",
         "x": {
          "bdata": "AAECAwQFBgcICQoLDA0ODxAREhMUFRYXGBkaGxwdHh8gISIjJCUmJygpKissLS4vMDEyMzQ1Njc4OTo7PD0+P0BBQkNERUZHSElKS0xNTk9Q",
          "dtype": "i1"
         },
         "xaxis": "x4",
         "y": {
          "bdata": "kBz/WyNMej+YR00tYb0mPxbr0Yn5wzU/AAAAAAAAAADDYvqOSfskPwAAAAAAAAAAAAAAAAAAAAAAAAAAAAAAAMoxYp/4MiQ/Vt5ryvM6JD86MR0dFAk0PwAAAAAAAAAAAAAAAAAAAADt1WzQz9o0P2Iu7IhnDSU/R7TADYU1NT9HrTntAf0kPwAAAAAAAAAAXaeM9Rv3Iz/QtXdKGfo6P1Oxx2YLVkU/snJ1gKxcTT+r07fmfGFNP8Rt5h9KaVI/gAH0XwD9Rz8g+IEf+IFPP6IjFnja3lk/zGRd0Q2wVz/tWIEw0o5VPwa2U4ZahVE/Y04jGGTmWj8ga4BbKM5XP5lhnRyoe1Y/W4P3BhVSSD/xL/gmmhFhP+GVDl8/Klw/FSAA9LwTXj+J02OaPYpcPwWTAolfTlI/HTVe7OznVD/wB/wBf8BfP+GHwStk0FM/w/3XlORVXz+JApG1scphP4hwYJO9AWk/UrnkAgIRYj/yBkDeAMhbPwQQQAABBHA/XgYQIVZ3aT+sjUsLrKZsP3eNdzjfGG4/6FS8XnuGcD88klUbK4xsPxxuI9oMO3Y/Ca/uFmW4cj/foyzdsTVwP9tBX544I3g/IO31m7zYdT8GouaQljh/P3phm1/f53g/YVBT7gh7ej9VaKCWd0F+P4veIg7qsXc/ALNFnIfDhT/91sGZaLiFP4WqxHzCAoI/FDuxEzuxhz8YBv43eFyJP3Ubb/1975A/QMcnd3trkT8WyU0veCKQPxh6oRd6oZc/ZnXauAEPlT++U3igM5yZPwXah3yHEaA/2NRZkr38nT8mXhjQKWKjP0OgQpoGQqQ/GtMDHvH0oj9GF1100UWnP/BRqqODyak/",
          "dtype": "f8"
         },
         "yaxis": "y4"
        },
        {
         "hovertemplate": "sex=M<br>year=2025<br>age=%{x}<br>Probability of dying between ages x and x+1=%{y}<extra></extra>",
         "legendgroup": "",
         "line": {
          "color": "black",
          "dash": "dash"
         },
         "marker": {
          "symbol": "circle"
         },
         "mode": "lines",
         "name": "",
         "orientation": "v",
         "showlegend": false,
         "type": "scatter",
         "x": {
          "bdata": "AAECAwQFBgcICQoLDA0ODxAREhMUFRYXGBkaGxwdHh8gISIjJCUmJygpKissLS4vMDEyMzQ1Njc4OTo7PD0+P0BBQkNERUZHSElKS0xNTk9Q",
          "dtype": "i1"
         },
         "xaxis": "x5",
         "y": {
          "bdata": "hpL8xJLScz9hUQEcExYlP4Cm/FUl6iQ/AAAAAAAAAAAAAAAAAAAAAAAAAAAAAAAAAAAAAAAAAAAAAAAAAAAAAAAAAAAAAAAAZl8nL3XrIz8AAAAAAAAAAMf4HobDxSM/AAAAAAAAAAAdgN8knfQ8PwAAAAAAAAAAPdEGjQ/eIj9NWWeQPa8yP+nEKT9y8Ts/MPT5UM/kMT+gUz1ujDlOPz7KKlRBOTE/0S0m9Xa4OT8HHD/1nzRBPweo/RT2Y0E/sWPXnk6bST8cbM6bx5xQP1+T/L3cO0A/UUhU5oyWVD/dHxA1ZrlaP0rg0V+LEEg/RDiPjda1UT8VJ1Zh+KlDP5+OVNRja2E/c3aC9pQ4Uz+O7JY2SiBRP7naULYfQFg/PhVVcD3rWj/Doamp8JpXP/k+8y9ulVU/ycBuld+eYD9OIPqjs1NfPyVzTVUen1k/B6+lQo/uUz+OGPo+YP1bP78zLMlzb1A/FVQBQ9waXz8RAAmt5VJhPzmAwgrRGWc/rmN4YP2rcT/QgGT0I4RlP1c/ssvvvmg/FfuswgPHcD9oL7K9MvNmP69TX68V9XQ/Mtr+YNtccj8I5JdDptx4P4sNWb45EXM/JebRDLbBdz+o8OpcprR3P9VosY4smng/KA6hOITigD9geb7noOB/PwAAAAAAAIE/+HzQTY1ogj9dVgyU8EaDP9FSbTcyUoQ/GwYkbqMqhT+xB5YbQl6QP2wEdt/RYJA/0Tl7feddiz+/5rbFmFaTPwgPwaGsQ5M/9B33oIYIlz/z3CxgmY2XP3wHfqZFJJs/HqpKe5xRoj8EwHW1DCqfPyolEGW4j6E/RbAngxBIoj/fZx+GLQSjPzAji/kzN60/",
          "dtype": "f8"
         },
         "yaxis": "y5"
        },
        {
         "hovertemplate": "sex=M<br>year=2030<br>age=%{x}<br>Probability of dying between ages x and x+1=%{y}<extra></extra>",
         "legendgroup": "",
         "line": {
          "color": "black",
          "dash": "dash"
         },
         "marker": {
          "symbol": "circle"
         },
         "mode": "lines",
         "name": "",
         "orientation": "v",
         "showlegend": false,
         "type": "scatter",
         "x": {
          "bdata": "AAECAwQFBgcICQoLDA0ODxAREhMUFRYXGBkaGxwdHh8gISIjJCUmJygpKissLS4vMDEyMzQ1Njc4OTo7PD0+P0BBQkNERUZHSElKS0xNTk9Q",
          "dtype": "i1"
         },
         "xaxis": "x6",
         "y": {
          "bdata": "tZ0/MzrQcD/pF0frSmckPzg762UyhyQ/AAAAAAAAAAAAAAAAAAAAAEQg7n3xziM/vNQfmErHIz+i2u1IY6QjPwAAAAAAAAAAAAAAAAAAAACnlpQxoY4jP/42ajZ5sDM/AAAAAAAAAAAKRy6WXd0iPyjYzKu07CI/ZctZPOFFMj/NyKON9GI7PwAAAAAAAAAAlvuqh98cOT+qcxeWwANIP/Ilo+RyOEc/QIRUiq35Hj87srPGA/U/P0BeW6eFCTA/VqLvK4IkVD/YvFzovMtWPzQTzAmsFEk/NyKk0LYSVz84XQ5jHvxAP7u9xlyD5EQ/A/aT3co6VD+SG7mRG7lRP0OOl8u7yVc/i+W7PfRvSz80Q0tZLzJRPylRzqDIRVg/cdp9h3XoTT9VV+U7RItNPxi9E/DwNl8/n5RwIYbHVz869ToQe81TP+FI0otox10/v8Ulx7ieXD98Wet6bfpkP5DRMAEZDWM/8uetNoc8Yj++ThqlJjlHP0Jdkuk6bFk/pat9f3y1Zj96Ix8S63VmP664s1gusGc/6Sl3/GQoYD/dybYIG3JrP5K6gaKrBWU/9ya4RBOicT/u3YYcyDRjPxB67eQ6zHY/V3oXky/Ncz/JTg/gc192Pzji/DdPf3k/qbSBhIaOdz/gyFYIizR4P+nnfUH7f3k/tAQmQWvPgj+X5azzlE+CPwkkAbmNQII/q2Zvxp9Jhz/ez5tMrvqDP/egiiNv84o/FnKCQaJ+jj+OcqN/r6WMPwUteHbjdZM/0kb8yLPylj9mTIQ7rh2RP/ne4DKuv5c/RLNBADo0mz9/AgsnhsqdP7CIWQn8MKI/DOHvvAfEoD+WN/fS45GjP42gKCcQ/aE/",
          "dtype": "f8"
         },
         "yaxis": "y6"
        }
       ],
       "layout": {
        "annotations": [
         {
          "font": {},
          "showarrow": false,
          "text": "year=2001",
          "x": 0.07333333333333333,
          "xanchor": "center",
          "xref": "paper",
          "y": 1,
          "yanchor": "bottom",
          "yref": "paper"
         },
         {
          "font": {},
          "showarrow": false,
          "text": "year=2010",
          "x": 0.24,
          "xanchor": "center",
          "xref": "paper",
          "y": 1,
          "yanchor": "bottom",
          "yref": "paper"
         },
         {
          "font": {},
          "showarrow": false,
          "text": "year=2015",
          "x": 0.4066666666666666,
          "xanchor": "center",
          "xref": "paper",
          "y": 1,
          "yanchor": "bottom",
          "yref": "paper"
         },
         {
          "font": {},
          "showarrow": false,
          "text": "year=2020",
          "x": 0.5733333333333334,
          "xanchor": "center",
          "xref": "paper",
          "y": 1,
          "yanchor": "bottom",
          "yref": "paper"
         },
         {
          "font": {},
          "showarrow": false,
          "text": "year=2025",
          "x": 0.74,
          "xanchor": "center",
          "xref": "paper",
          "y": 1,
          "yanchor": "bottom",
          "yref": "paper"
         },
         {
          "font": {},
          "showarrow": false,
          "text": "year=2030",
          "x": 0.9066666666666667,
          "xanchor": "center",
          "xref": "paper",
          "y": 1,
          "yanchor": "bottom",
          "yref": "paper"
         },
         {
          "font": {},
          "showarrow": false,
          "text": "sex=M",
          "textangle": 90,
          "x": 0.98,
          "xanchor": "left",
          "xref": "paper",
          "y": 0.2125,
          "yanchor": "middle",
          "yref": "paper"
         },
         {
          "font": {},
          "showarrow": false,
          "text": "sex=F",
          "textangle": 90,
          "x": 0.98,
          "xanchor": "left",
          "xref": "paper",
          "y": 0.7875,
          "yanchor": "middle",
          "yref": "paper"
         }
        ],
        "height": 800,
        "legend": {
         "title": {
          "text": ""
         },
         "tracegroupgap": 0
        },
        "margin": {
         "t": 150
        },
        "showlegend": true,
        "template": {
         "data": {
          "bar": [
           {
            "error_x": {
             "color": "#2a3f5f"
            },
            "error_y": {
             "color": "#2a3f5f"
            },
            "marker": {
             "line": {
              "color": "white",
              "width": 0.5
             },
             "pattern": {
              "fillmode": "overlay",
              "size": 10,
              "solidity": 0.2
             }
            },
            "type": "bar"
           }
          ],
          "barpolar": [
           {
            "marker": {
             "line": {
              "color": "white",
              "width": 0.5
             },
             "pattern": {
              "fillmode": "overlay",
              "size": 10,
              "solidity": 0.2
             }
            },
            "type": "barpolar"
           }
          ],
          "carpet": [
           {
            "aaxis": {
             "endlinecolor": "#2a3f5f",
             "gridcolor": "#C8D4E3",
             "linecolor": "#C8D4E3",
             "minorgridcolor": "#C8D4E3",
             "startlinecolor": "#2a3f5f"
            },
            "baxis": {
             "endlinecolor": "#2a3f5f",
             "gridcolor": "#C8D4E3",
             "linecolor": "#C8D4E3",
             "minorgridcolor": "#C8D4E3",
             "startlinecolor": "#2a3f5f"
            },
            "type": "carpet"
           }
          ],
          "choropleth": [
           {
            "colorbar": {
             "outlinewidth": 0,
             "ticks": ""
            },
            "type": "choropleth"
           }
          ],
          "contour": [
           {
            "colorbar": {
             "outlinewidth": 0,
             "ticks": ""
            },
            "colorscale": [
             [
              0,
              "#0d0887"
             ],
             [
              0.1111111111111111,
              "#46039f"
             ],
             [
              0.2222222222222222,
              "#7201a8"
             ],
             [
              0.3333333333333333,
              "#9c179e"
             ],
             [
              0.4444444444444444,
              "#bd3786"
             ],
             [
              0.5555555555555556,
              "#d8576b"
             ],
             [
              0.6666666666666666,
              "#ed7953"
             ],
             [
              0.7777777777777778,
              "#fb9f3a"
             ],
             [
              0.8888888888888888,
              "#fdca26"
             ],
             [
              1,
              "#f0f921"
             ]
            ],
            "type": "contour"
           }
          ],
          "contourcarpet": [
           {
            "colorbar": {
             "outlinewidth": 0,
             "ticks": ""
            },
            "type": "contourcarpet"
           }
          ],
          "heatmap": [
           {
            "colorbar": {
             "outlinewidth": 0,
             "ticks": ""
            },
            "colorscale": [
             [
              0,
              "#0d0887"
             ],
             [
              0.1111111111111111,
              "#46039f"
             ],
             [
              0.2222222222222222,
              "#7201a8"
             ],
             [
              0.3333333333333333,
              "#9c179e"
             ],
             [
              0.4444444444444444,
              "#bd3786"
             ],
             [
              0.5555555555555556,
              "#d8576b"
             ],
             [
              0.6666666666666666,
              "#ed7953"
             ],
             [
              0.7777777777777778,
              "#fb9f3a"
             ],
             [
              0.8888888888888888,
              "#fdca26"
             ],
             [
              1,
              "#f0f921"
             ]
            ],
            "type": "heatmap"
           }
          ],
          "histogram": [
           {
            "marker": {
             "pattern": {
              "fillmode": "overlay",
              "size": 10,
              "solidity": 0.2
             }
            },
            "type": "histogram"
           }
          ],
          "histogram2d": [
           {
            "colorbar": {
             "outlinewidth": 0,
             "ticks": ""
            },
            "colorscale": [
             [
              0,
              "#0d0887"
             ],
             [
              0.1111111111111111,
              "#46039f"
             ],
             [
              0.2222222222222222,
              "#7201a8"
             ],
             [
              0.3333333333333333,
              "#9c179e"
             ],
             [
              0.4444444444444444,
              "#bd3786"
             ],
             [
              0.5555555555555556,
              "#d8576b"
             ],
             [
              0.6666666666666666,
              "#ed7953"
             ],
             [
              0.7777777777777778,
              "#fb9f3a"
             ],
             [
              0.8888888888888888,
              "#fdca26"
             ],
             [
              1,
              "#f0f921"
             ]
            ],
            "type": "histogram2d"
           }
          ],
          "histogram2dcontour": [
           {
            "colorbar": {
             "outlinewidth": 0,
             "ticks": ""
            },
            "colorscale": [
             [
              0,
              "#0d0887"
             ],
             [
              0.1111111111111111,
              "#46039f"
             ],
             [
              0.2222222222222222,
              "#7201a8"
             ],
             [
              0.3333333333333333,
              "#9c179e"
             ],
             [
              0.4444444444444444,
              "#bd3786"
             ],
             [
              0.5555555555555556,
              "#d8576b"
             ],
             [
              0.6666666666666666,
              "#ed7953"
             ],
             [
              0.7777777777777778,
              "#fb9f3a"
             ],
             [
              0.8888888888888888,
              "#fdca26"
             ],
             [
              1,
              "#f0f921"
             ]
            ],
            "type": "histogram2dcontour"
           }
          ],
          "mesh3d": [
           {
            "colorbar": {
             "outlinewidth": 0,
             "ticks": ""
            },
            "type": "mesh3d"
           }
          ],
          "parcoords": [
           {
            "line": {
             "colorbar": {
              "outlinewidth": 0,
              "ticks": ""
             }
            },
            "type": "parcoords"
           }
          ],
          "pie": [
           {
            "automargin": true,
            "type": "pie"
           }
          ],
          "scatter": [
           {
            "fillpattern": {
             "fillmode": "overlay",
             "size": 10,
             "solidity": 0.2
            },
            "type": "scatter"
           }
          ],
          "scatter3d": [
           {
            "line": {
             "colorbar": {
              "outlinewidth": 0,
              "ticks": ""
             }
            },
            "marker": {
             "colorbar": {
              "outlinewidth": 0,
              "ticks": ""
             }
            },
            "type": "scatter3d"
           }
          ],
          "scattercarpet": [
           {
            "marker": {
             "colorbar": {
              "outlinewidth": 0,
              "ticks": ""
             }
            },
            "type": "scattercarpet"
           }
          ],
          "scattergeo": [
           {
            "marker": {
             "colorbar": {
              "outlinewidth": 0,
              "ticks": ""
             }
            },
            "type": "scattergeo"
           }
          ],
          "scattergl": [
           {
            "marker": {
             "colorbar": {
              "outlinewidth": 0,
              "ticks": ""
             }
            },
            "type": "scattergl"
           }
          ],
          "scattermap": [
           {
            "marker": {
             "colorbar": {
              "outlinewidth": 0,
              "ticks": ""
             }
            },
            "type": "scattermap"
           }
          ],
          "scattermapbox": [
           {
            "marker": {
             "colorbar": {
              "outlinewidth": 0,
              "ticks": ""
             }
            },
            "type": "scattermapbox"
           }
          ],
          "scatterpolar": [
           {
            "marker": {
             "colorbar": {
              "outlinewidth": 0,
              "ticks": ""
             }
            },
            "type": "scatterpolar"
           }
          ],
          "scatterpolargl": [
           {
            "marker": {
             "colorbar": {
              "outlinewidth": 0,
              "ticks": ""
             }
            },
            "type": "scatterpolargl"
           }
          ],
          "scatterternary": [
           {
            "marker": {
             "colorbar": {
              "outlinewidth": 0,
              "ticks": ""
             }
            },
            "type": "scatterternary"
           }
          ],
          "surface": [
           {
            "colorbar": {
             "outlinewidth": 0,
             "ticks": ""
            },
            "colorscale": [
             [
              0,
              "#0d0887"
             ],
             [
              0.1111111111111111,
              "#46039f"
             ],
             [
              0.2222222222222222,
              "#7201a8"
             ],
             [
              0.3333333333333333,
              "#9c179e"
             ],
             [
              0.4444444444444444,
              "#bd3786"
             ],
             [
              0.5555555555555556,
              "#d8576b"
             ],
             [
              0.6666666666666666,
              "#ed7953"
             ],
             [
              0.7777777777777778,
              "#fb9f3a"
             ],
             [
              0.8888888888888888,
              "#fdca26"
             ],
             [
              1,
              "#f0f921"
             ]
            ],
            "type": "surface"
           }
          ],
          "table": [
           {
            "cells": {
             "fill": {
              "color": "#EBF0F8"
             },
             "line": {
              "color": "white"
             }
            },
            "header": {
             "fill": {
              "color": "#C8D4E3"
             },
             "line": {
              "color": "white"
             }
            },
            "type": "table"
           }
          ]
         },
         "layout": {
          "annotationdefaults": {
           "arrowcolor": "#2a3f5f",
           "arrowhead": 0,
           "arrowwidth": 1
          },
          "autotypenumbers": "strict",
          "coloraxis": {
           "colorbar": {
            "outlinewidth": 0,
            "ticks": ""
           }
          },
          "colorscale": {
           "diverging": [
            [
             0,
             "#8e0152"
            ],
            [
             0.1,
             "#c51b7d"
            ],
            [
             0.2,
             "#de77ae"
            ],
            [
             0.3,
             "#f1b6da"
            ],
            [
             0.4,
             "#fde0ef"
            ],
            [
             0.5,
             "#f7f7f7"
            ],
            [
             0.6,
             "#e6f5d0"
            ],
            [
             0.7,
             "#b8e186"
            ],
            [
             0.8,
             "#7fbc41"
            ],
            [
             0.9,
             "#4d9221"
            ],
            [
             1,
             "#276419"
            ]
           ],
           "sequential": [
            [
             0,
             "#0d0887"
            ],
            [
             0.1111111111111111,
             "#46039f"
            ],
            [
             0.2222222222222222,
             "#7201a8"
            ],
            [
             0.3333333333333333,
             "#9c179e"
            ],
            [
             0.4444444444444444,
             "#bd3786"
            ],
            [
             0.5555555555555556,
             "#d8576b"
            ],
            [
             0.6666666666666666,
             "#ed7953"
            ],
            [
             0.7777777777777778,
             "#fb9f3a"
            ],
            [
             0.8888888888888888,
             "#fdca26"
            ],
            [
             1,
             "#f0f921"
            ]
           ],
           "sequentialminus": [
            [
             0,
             "#0d0887"
            ],
            [
             0.1111111111111111,
             "#46039f"
            ],
            [
             0.2222222222222222,
             "#7201a8"
            ],
            [
             0.3333333333333333,
             "#9c179e"
            ],
            [
             0.4444444444444444,
             "#bd3786"
            ],
            [
             0.5555555555555556,
             "#d8576b"
            ],
            [
             0.6666666666666666,
             "#ed7953"
            ],
            [
             0.7777777777777778,
             "#fb9f3a"
            ],
            [
             0.8888888888888888,
             "#fdca26"
            ],
            [
             1,
             "#f0f921"
            ]
           ]
          },
          "colorway": [
           "#636efa",
           "#EF553B",
           "#00cc96",
           "#ab63fa",
           "#FFA15A",
           "#19d3f3",
           "#FF6692",
           "#B6E880",
           "#FF97FF",
           "#FECB52"
          ],
          "font": {
           "color": "#2a3f5f"
          },
          "geo": {
           "bgcolor": "white",
           "lakecolor": "white",
           "landcolor": "white",
           "showlakes": true,
           "showland": true,
           "subunitcolor": "#C8D4E3"
          },
          "hoverlabel": {
           "align": "left"
          },
          "hovermode": "closest",
          "mapbox": {
           "style": "light"
          },
          "paper_bgcolor": "white",
          "plot_bgcolor": "white",
          "polar": {
           "angularaxis": {
            "gridcolor": "#EBF0F8",
            "linecolor": "#EBF0F8",
            "ticks": ""
           },
           "bgcolor": "white",
           "radialaxis": {
            "gridcolor": "#EBF0F8",
            "linecolor": "#EBF0F8",
            "ticks": ""
           }
          },
          "scene": {
           "xaxis": {
            "backgroundcolor": "white",
            "gridcolor": "#DFE8F3",
            "gridwidth": 2,
            "linecolor": "#EBF0F8",
            "showbackground": true,
            "ticks": "",
            "zerolinecolor": "#EBF0F8"
           },
           "yaxis": {
            "backgroundcolor": "white",
            "gridcolor": "#DFE8F3",
            "gridwidth": 2,
            "linecolor": "#EBF0F8",
            "showbackground": true,
            "ticks": "",
            "zerolinecolor": "#EBF0F8"
           },
           "zaxis": {
            "backgroundcolor": "white",
            "gridcolor": "#DFE8F3",
            "gridwidth": 2,
            "linecolor": "#EBF0F8",
            "showbackground": true,
            "ticks": "",
            "zerolinecolor": "#EBF0F8"
           }
          },
          "shapedefaults": {
           "line": {
            "color": "#2a3f5f"
           }
          },
          "ternary": {
           "aaxis": {
            "gridcolor": "#DFE8F3",
            "linecolor": "#A2B1C6",
            "ticks": ""
           },
           "baxis": {
            "gridcolor": "#DFE8F3",
            "linecolor": "#A2B1C6",
            "ticks": ""
           },
           "bgcolor": "white",
           "caxis": {
            "gridcolor": "#DFE8F3",
            "linecolor": "#A2B1C6",
            "ticks": ""
           }
          },
          "title": {
           "x": 0.05
          },
          "xaxis": {
           "automargin": true,
           "gridcolor": "#EBF0F8",
           "linecolor": "#EBF0F8",
           "ticks": "",
           "title": {
            "standoff": 15
           },
           "zerolinecolor": "#EBF0F8",
           "zerolinewidth": 2
          },
          "yaxis": {
           "automargin": true,
           "gridcolor": "#EBF0F8",
           "linecolor": "#EBF0F8",
           "ticks": "",
           "title": {
            "standoff": 15
           },
           "zerolinecolor": "#EBF0F8",
           "zerolinewidth": 2
          }
         }
        },
        "title": {
         "text": "Mortality Graph by Age<br>Province: CA<br>Initial Births in 2001: 5000<br>Projection Scenario: M3",
         "x": 0.5,
         "y": 0.95
        },
        "xaxis": {
         "anchor": "y",
         "domain": [
          0,
          0.14666666666666667
         ],
         "title": {
          "text": "Age (years)"
         }
        },
        "xaxis10": {
         "anchor": "y10",
         "domain": [
          0.5,
          0.6466666666666667
         ],
         "matches": "x",
         "showticklabels": false,
         "title": {
          "text": "Age (years)"
         }
        },
        "xaxis11": {
         "anchor": "y11",
         "domain": [
          0.6666666666666666,
          0.8133333333333332
         ],
         "matches": "x",
         "showticklabels": false,
         "title": {
          "text": "Age (years)"
         }
        },
        "xaxis12": {
         "anchor": "y12",
         "domain": [
          0.8333333333333334,
          0.98
         ],
         "matches": "x",
         "showticklabels": false,
         "title": {
          "text": "Age (years)"
         }
        },
        "xaxis2": {
         "anchor": "y2",
         "domain": [
          0.16666666666666666,
          0.31333333333333335
         ],
         "matches": "x",
         "title": {
          "text": "Age (years)"
         }
        },
        "xaxis3": {
         "anchor": "y3",
         "domain": [
          0.3333333333333333,
          0.48
         ],
         "matches": "x",
         "title": {
          "text": "Age (years)"
         }
        },
        "xaxis4": {
         "anchor": "y4",
         "domain": [
          0.5,
          0.6466666666666667
         ],
         "matches": "x",
         "title": {
          "text": "Age (years)"
         }
        },
        "xaxis5": {
         "anchor": "y5",
         "domain": [
          0.6666666666666666,
          0.8133333333333332
         ],
         "matches": "x",
         "title": {
          "text": "Age (years)"
         }
        },
        "xaxis6": {
         "anchor": "y6",
         "domain": [
          0.8333333333333334,
          0.98
         ],
         "matches": "x",
         "title": {
          "text": "Age (years)"
         }
        },
        "xaxis7": {
         "anchor": "y7",
         "domain": [
          0,
          0.14666666666666667
         ],
         "matches": "x",
         "showticklabels": false,
         "title": {
          "text": "Age (years)"
         }
        },
        "xaxis8": {
         "anchor": "y8",
         "domain": [
          0.16666666666666666,
          0.31333333333333335
         ],
         "matches": "x",
         "showticklabels": false,
         "title": {
          "text": "Age (years)"
         }
        },
        "xaxis9": {
         "anchor": "y9",
         "domain": [
          0.3333333333333333,
          0.48
         ],
         "matches": "x",
         "showticklabels": false,
         "title": {
          "text": "Age (years)"
         }
        },
        "yaxis": {
         "anchor": "x",
         "domain": [
          0,
          0.425
         ],
         "title": {
          "text": "Probability of dying between ages x and x+1"
         }
        },
        "yaxis10": {
         "anchor": "x10",
         "domain": [
          0.575,
          1
         ],
         "matches": "y",
         "showticklabels": false
        },
        "yaxis11": {
         "anchor": "x11",
         "domain": [
          0.575,
          1
         ],
         "matches": "y",
         "showticklabels": false
        },
        "yaxis12": {
         "anchor": "x12",
         "domain": [
          0.575,
          1
         ],
         "matches": "y",
         "showticklabels": false
        },
        "yaxis2": {
         "anchor": "x2",
         "domain": [
          0,
          0.425
         ],
         "matches": "y",
         "showticklabels": false
        },
        "yaxis3": {
         "anchor": "x3",
         "domain": [
          0,
          0.425
         ],
         "matches": "y",
         "showticklabels": false
        },
        "yaxis4": {
         "anchor": "x4",
         "domain": [
          0,
          0.425
         ],
         "matches": "y",
         "showticklabels": false
        },
        "yaxis5": {
         "anchor": "x5",
         "domain": [
          0,
          0.425
         ],
         "matches": "y",
         "showticklabels": false
        },
        "yaxis6": {
         "anchor": "x6",
         "domain": [
          0,
          0.425
         ],
         "matches": "y",
         "showticklabels": false
        },
        "yaxis7": {
         "anchor": "x7",
         "domain": [
          0.575,
          1
         ],
         "matches": "y",
         "title": {
          "text": "Probability of dying between ages x and x+1"
         }
        },
        "yaxis8": {
         "anchor": "x8",
         "domain": [
          0.575,
          1
         ],
         "matches": "y",
         "showticklabels": false
        },
        "yaxis9": {
         "anchor": "x9",
         "domain": [
          0.575,
          1
         ],
         "matches": "y",
         "showticklabels": false
        }
       }
      }
     },
     "metadata": {},
     "output_type": "display_data"
    }
   ],
   "source": [
    "df = model_mortality_df.copy()\n",
    "YEARS = [STARTING_YEAR, 2010, 2015, 2020, 2025, 2030]\n",
    "df = df[df[\"year\"].isin(YEARS)].reset_index(drop=True)\n",
    "fig = px.line(\n",
    "    df,\n",
    "    x=\"age\",\n",
    "    y=\"prob_death\",\n",
    "    facet_col=\"year\",\n",
    "    facet_row=\"sex\",\n",
    "    title=f\"Mortality Graph by Age<br>\"\n",
    "    + f\"Province: {PROVINCE}<br>\"\n",
    "    + f\"Initial Births in {STARTING_YEAR}: {N_BIRTHS}<br>\"\n",
    "    + f\"Projection Scenario: {GROWTH_TYPE}\",\n",
    "    labels={\"prob_death\": \"Probability of dying between ages x and x+1\"},\n",
    "    color_discrete_sequence=[\"#999999\"],\n",
    "    height=800,\n",
    "    facet_row_spacing=0.15\n",
    ")\n",
    "fig_target = px.line(\n",
    "    df,\n",
    "    x=\"age\",\n",
    "    y=\"prob_death\",\n",
    "    facet_col=\"year\",\n",
    "    facet_row=\"sex\",\n",
    "    labels={\"prob_death\": \"Probability of dying between ages x and x+1\"},\n",
    "    color_discrete_sequence=[\"black\"],\n",
    "    line_dash_sequence=[\"dash\"],\n",
    "    height=800,\n",
    "    facet_row_spacing=0.15\n",
    ")\n",
    "fig.add_traces(\n",
    "    fig_target.data\n",
    ")\n",
    "\n",
    "fig.data[0].update(showlegend=True, name=\"model\")\n",
    "fig.data[len(YEARS)*2].update(showlegend=True, name=\"target\")\n",
    "fig.update_xaxes(title_text=\"Age (years)\")\n",
    "fig.update_layout(\n",
    "    legend_title_text=\"\",\n",
    "    title_x=0.5,\n",
    "    title_y=0.95,\n",
    "    margin=dict(t=150), # Adjust top margin for title\n",
    "    showlegend=True\n",
    ")\n",
    "fig.show(config=config)"
   ]
  },
  {
   "cell_type": "markdown",
   "id": "5db31da8",
   "metadata": {},
   "source": [
    "## Population Pyramid Figure\n",
    "\n",
    "Population by age across selected years from the model (grey solid) and from Statistics\n",
    "Canada (black dashed)."
   ]
  },
  {
   "cell_type": "markdown",
   "id": "bfb4afc2",
   "metadata": {},
   "source": [
    "### Load Data"
   ]
  },
  {
   "cell_type": "code",
   "execution_count": 130,
   "id": "d9da8f87",
   "metadata": {},
   "outputs": [],
   "source": [
    "# Read population data from StatCan\n",
    "target_pop_df_raw = load_population_data(\n",
    "    province=PROVINCE,\n",
    "    starting_year=STARTING_YEAR,\n",
    "    projection_scenario=GROWTH_TYPE,\n",
    "    min_age=0,\n",
    "    max_age=MAX_AGE,\n",
    "    max_year=STARTING_YEAR + SIMULATION_LENGTH - 1\n",
    ")\n",
    "\n",
    "# Read population data from simulation\n",
    "model_pop_df_raw = pd.read_csv(RUN_BUNDLE_FOLDER / \"outcome_matrix_alive.csv\")"
   ]
  },
  {
   "cell_type": "markdown",
   "id": "d4febfc7",
   "metadata": {},
   "source": [
    "### Process Data"
   ]
  },
  {
   "cell_type": "code",
   "execution_count": null,
   "id": "9981437c",
   "metadata": {},
   "outputs": [],
   "source": [
    "# Rename target column for clarity\n",
    "target_pop_df = target_pop_df_raw.rename(columns={\"n\": \"n_alive_target\"})\n",
    "\n",
    "# Filter to only include dates after chosen starting year\n",
    "model_pop_df = model_pop_df_raw[model_pop_df_raw[\"year\"] >= STARTING_YEAR]\n",
    "# Rename model column for clarity\n",
    "model_pop_df = model_pop_df.rename(columns={\"n_alive\": \"n_alive_model\"})\n",
    "\n",
    "# Merge the filtered Canada population data and simulation population data\n",
    "population_df = pd.merge(target_pop_df, model_pop_df, on=[\"year\", \"age\", \"sex\"])\n",
    "\n",
    "# Calculate the scale factor to set the initial population in the model to match the target\n",
    "total_target = population_df.groupby([\"year\"])[\"n_alive_target\"].agg(\"sum\").reset_index()\n",
    "total_target = total_target[total_target[\"year\"] == STARTING_YEAR][\"n_alive_target\"].values[0]\n",
    "total_model = population_df.groupby([\"year\"])[\"n_alive_model\"].agg(\"sum\").reset_index()\n",
    "total_model = total_model[total_model[\"year\"] == STARTING_YEAR][\"n_alive_model\"].values[0]\n",
    "scale_factor = total_target / total_model\n",
    "population_df[\"n_alive_model\"] *= scale_factor\n",
    "population_df.reset_index(inplace=True, drop=True)\n",
    "\n",
    "# Sum over the sex column\n",
    "population_df = population_df.groupby([\"year\", \"age\"]).agg(\n",
    "    n_alive_target=(\"n_alive_target\", \"sum\"),\n",
    "    n_alive_model=(\"n_alive_model\", \"sum\")\n",
    ").reset_index()"
   ]
  },
  {
   "cell_type": "markdown",
   "id": "4a07a630",
   "metadata": {},
   "source": [
    "### Visualize Data"
   ]
  },
  {
   "cell_type": "code",
   "execution_count": 194,
   "id": "76ea9e01",
   "metadata": {},
   "outputs": [
    {
     "data": {
      "application/vnd.plotly.v1+json": {
       "config": {
        "plotlyServerURL": "https://plot.ly",
        "toImageButtonOptions": {
         "format": "png",
         "height": 600,
         "scale": 2,
         "width": 1000
        }
       },
       "data": [
        {
         "hovertemplate": "year=2001<br>age=%{x}<br>Population=%{y}<extra></extra>",
         "legendgroup": "",
         "line": {
          "color": "#999999",
          "dash": "solid"
         },
         "marker": {
          "symbol": "circle"
         },
         "mode": "lines",
         "name": "model",
         "orientation": "v",
         "showlegend": true,
         "type": "scatter",
         "x": {
          "bdata": "AAECAwQFBgcICQoLDA0ODxAREhMUFRYXGBkaGxwdHh8gISIjJCUmJygpKissLS4vMDEyMzQ1Njc4OTo7PD0+P0BBQkNERUZHSElKS0xNTk9QUVJTVFVWV1hZWltcXV5fYGFiY2Q=",
          "dtype": "i1"
         },
         "xaxis": "x4",
         "y": {
          "bdata": "3EWJZcgRFEGH1fSSjjkVQVwwMEDHfBVBv45XmH4LFkFREPy6QecWQeoudc3u/BdB3Ts7Khp7GEGisRqeiaYYQWeUdHujIhlBxU7YLmvCGUHAF4/zJSQaQSrFLErCRRpBrsynBbhwGUHDe9IQHNYYQXwdlFlcKRlBOLhm7ZbHGUEOnzh8HwUaQYB8MFn7DxpBJrTuOygGGkGodkJSzSgaQWEYBJsNfBpBxrRj4w9eGkFKKVkIsNkZQbJwa6qnXxlBMqco3/yHGUEfqp/ik3sZQe5nBqDihBlBE/yM5A8CGUHiJm4LCVwZQVTeWrs5CBpBgDAa/6RSG0EW8PYRs4EbQSJQqx4yVBtBvLNL1i9yG0FImBsJCRQcQRFHjE9sxx1BYiNpxbUKIEFOugmreaIgQbHxgYqu3SBBfnAMDNueIEFZ+6E/U8sgQa0mD208myBBakzUlu8+IEGkSl5BMBkgQbokVm43lh9BRujBkbykHkGvnE6dXnseQeOvpWawdB1B4vu7wAYyHEH7VZklYDsbQcDxg8Z6xRpBNplKdfEdGkEU1oG3ZKMZQYY/EHaQqBlB7G71VOg5GUEMimo/KPIVQXou0UkQdRRBuu86EebnE0FElIq8xUwTQal8AF8e7BFBaQet8Z42EUG5030f6R8QQXJgjALTTQ9BEChw18YdDkFryF4wQN8MQVjL1TPX0gxBsMARM1vwC0FN9W9x+RALQX6kgx1VWAtBZAomMQISC0HgTsHPYqQKQSlfoZUdqglBsryBBP4cCEFqiz0v74MHQWa/JsalTAZBU+io9ueeBUF+Rv4MsGkEQcyGOFmqWANBnqjiM+8TAkGKZOr6hhUBQSaEldPOEP9ARp8Kvg7J+0BGz2MmaL72QARAm16aKvRAOJ8IgkLh8UBES9PoF3HwQILdFPBI4OxAwnvSEBzW6EDP5dRYST/kQI0PnVR8ueBAyqaFeQT02kAYFxkuWNjUQFwlyxUf7s9AyT6yLbFuyEBzKSkO07XBQHuyYYdgwrpAlIZmF7uUsUDksgTtWFapQFi11k4rzqBA/VawFFozlUBSzOsE69ahQA==",
          "dtype": "f8"
         },
         "yaxis": "y4"
        },
        {
         "hovertemplate": "year=2010<br>age=%{x}<br>Population=%{y}<extra></extra>",
         "legendgroup": "",
         "line": {
          "color": "#999999",
          "dash": "solid"
         },
         "marker": {
          "symbol": "circle"
         },
         "mode": "lines",
         "name": "",
         "orientation": "v",
         "showlegend": false,
         "type": "scatter",
         "x": {
          "bdata": "AAECAwQFBgcICQoLDA0ODxAREhMUFRYXGBkaGxwdHh8gISIjJCUmJygpKissLS4vMDEyMzQ1Njc4OTo7PD0+P0BBQkNERUZHSElKS0xNTk9QUVJTVFVWV1hZWltcXV5fYGFiY2Q=",
          "dtype": "i1"
         },
         "xaxis": "x5",
         "y": {
          "bdata": "nniJy5UeF0EtCAxYZGQXQQL2zJvyVhdBEOkGP8fYFkGEBDcM7jYWQTxAbaCJ7hVBLMiL0GonFkHg65ShZuoVQWXGFXurARZBnKWDrUYyFkEws76xWQgXQbQBqalOJRdBQXIPvnfBF0HQ24Ydm6gYQW4LPj7i/RlBNOeoZvbEGkHhuzs5DfUaQbgPiDFAgxtBLN+hpBAkHEGq1ybpGvkcQVilygYsdB1BerSpHg+sHEEyFuvfVcIbQWE5aKphDxxBZCuKQFalHEHuFkkoNfwcQciozRCz3RxBqtcm6Rr5HEGcCvhy8dUcQeTOwd5VHh1Bz9gnl/LGHEHWLo1K3Q4cQThGRWaVqxtBeOGjAMC/G0HMeYuXU+AbQdxe59Ac+BtBl0XQvq1TG0F0XPzTdXobQZQHmM5iABxBnnCDJ5ZxHUFmkRX1+kAdQSoO5B1wIR1BV8vVM9fSHEG9QSpPLlYdQUltab4G6h5BjlVoRaS2IEGDNJB0RywhQV4zj8ZvXiFBOJ5kNmvsIEENs9TyezIhQVWdqYuL2SBB52pkCKVyIEEOsjCnpD0gQZg7goP/vB9B/ATcrbKyHkFU1AyAi3EeQWzBb3s6Kh1BSCuhn17DG0GMKkNXf4kaQXxkA5ZbGxpB2N7mwSl+GUE6iSR0N8oYQfZJAjUdxxhBeJ/b4ReZGEErFKIqweQUQcI+sQ/LehNBLBJakxL7EkFCVAo1zA8SQfbDKWAekBBBsNzOJFi4D0E0w+XQ+U8NQfJUgRiATwxB3jaUDMOvCkFMZ5H4+iwJQcaT/9O7yghBfojGK1iQB0Ee+1xaQQQGQaLczOiL0AVBioCn7IPdBEEEQJtemioEQQSMsbjw5wJBUoV8yOvkAEFLDrMFrQkAQYh66d8yGv1A+GN3j2ul+kBnBpYCpT73QIdoeink6PRAu8fnTIyf8kBLey1vV1rwQDoe8qE7Y+pA923Fyhk85kBBsXhWdwbfQMNVx+Nwd9lA6stIn/JC00BbvffJy2jNQAqRWfQtp8VAmm9RYfuLwEBahX3m0di1QI89yfzHsqxAHeRGhpsHoEASsr4haC6sQA==",
          "dtype": "f8"
         },
         "yaxis": "y5"
        },
        {
         "hovertemplate": "year=2015<br>age=%{x}<br>Population=%{y}<extra></extra>",
         "legendgroup": "",
         "line": {
          "color": "#999999",
          "dash": "solid"
         },
         "marker": {
          "symbol": "circle"
         },
         "mode": "lines",
         "name": "",
         "orientation": "v",
         "showlegend": false,
         "type": "scatter",
         "x": {
          "bdata": "AAECAwQFBgcICQoLDA0ODxAREhMUFRYXGBkaGxwdHh8gISIjJCUmJygpKissLS4vMDEyMzQ1Njc4OTo7PD0+P0BBQkNERUZHSElKS0xNTk9QUVJTVFVWV1hZWltcXV5fYGFiY2Q=",
          "dtype": "i1"
         },
         "xaxis": "x6",
         "y": {
          "bdata": "XDJ413VmF0EiNO4sNYwXQSW5lVl/0RdBOLYeVujdF0GO2pzOy/gXQV6RFNcUTRhB0mcd/+qiGEHBgsHFIYsYQXIhI2rTCBhBbqNq8o54F0GG1zwqPSMXQaUVXrt/WBdByP4xprcxF0FINe/aDFoXQQTv3ebsoRdB2Jd3hSqMGEHwpT6QLdgYQWR8R7gDLhlBjUlfzyQzGkEI/bxu3v8bQYBRfg755RxBgFF+DvnlHEF+MmKWUzwdQdzsxUkb3B1Bzm31xPZfHkHKwkJrAbweQcp70y4Cyh1BmV9FGfwxHUFy0q2J1GkdQRJAnZpmEh5Bri/UM7QqHkHi/QNYtRseQRhR26gAUh5BZtiEMfoyHkFJk3TrsUgeQaR60oAq/B1BlkcYVlw9HUG8256aibocQRpIpFxMsxxBbuCL89/THEGEaavRmNocQYgzeqMzKBxBvoZR9H5eHEEUGErWDMocQVLb+zSRJh5BBnNuJD3vHUG6lnf1OLIdQTI3T++pVR1Bh8hH0TfBHUFiezDJCTYfQbgh3BDuxiBBIbBd7+Q+IUGgoE8zEmohQcZ6oWhn5CBBiNhTGTcbIUGgxlpgvcggQe7giX8MWSBBRN5Yf20gIEEQ3Fl9cGAfQStOZKVpXh5B2dSYhnvnHUFMij2f/akcQYp4oUiEMBtB/rncQlbtGUGCLtJn9mgZQflhL/i8uxhBIBXStI/iF0FEijyBF7YXQdAnnXfxZRdBZldTelLHE0F7vw5JtzoSQRhh5/D/qxFB8R9muy6hEEEw8idKWU0OQQjXsUEzoQxB1BQY8I4wCkHu+os2ODQJQcNabgHIQgdBdl0Tw29yBUGyernlVfYEQZgsclNZbQNBlPPggGXlAUEdmDAsRUoBQS7Jor9kHwBB0hioHuwD/kCiGe7p3Cv7QAtFQ5rX6fZAtf9gEqA79UCA0ExXUXryQKSiJUWERO9AOUT9zubB6UAEGpAx78vkQI3Dhvol/OFAaI/NXUxX20D9VrAUWjPVQCSBG3aFQdBAEBJx8hoZwkDLDlnFV3m9QINr82hHxK5Alia0Rgiqq0Dj4l1Vsku0QA==",
          "dtype": "f8"
         },
         "yaxis": "y6"
        },
        {
         "hovertemplate": "year=2020<br>age=%{x}<br>Population=%{y}<extra></extra>",
         "legendgroup": "",
         "line": {
          "color": "#999999",
          "dash": "solid"
         },
         "marker": {
          "symbol": "circle"
         },
         "mode": "lines",
         "name": "",
         "orientation": "v",
         "showlegend": false,
         "type": "scatter",
         "x": {
          "bdata": "AAECAwQFBgcICQoLDA0ODxAREhMUFRYXGBkaGxwdHh8gISIjJCUmJygpKissLS4vMDEyMzQ1Njc4OTo7PD0+P0BBQkNERUZHSElKS0xNTk9QUVJTVFVWV1hZWltcXV5fYGFiY2Q=",
          "dtype": "i1"
         },
         "xaxis": "x",
         "y": {
          "bdata": "UaOBUZeWFkFYrdCqKyEXQTe9DQvukhdB9/ujQxggGEHn8Dzdo6kYQU6GrXCg1hhByhinAAYQGUFspbKJPWIZQTzvryjcZRlBGHpFXFSSGUEmR3TSfbUZQY3c5GV64hlBPFwqkoa2GUHu+os2ODQZQRUbqVy1qxhBeStyw2eTGEGOIQwLy+oYQXuR/XcMLxlBK8UsSsJFGkH0TZJjepocQVoLVrvQDx5BmjJLN0seHkGTdlrPuzoeQW9uamzetx5BdFmdTc2YH0GgMjF+kCQgQQbPkMaSBiBBWNvhe9YsIEG8WCVMM2UgQb+XAYhVrSBBKP/T7cnRIEE0IKy+JlwgQUA6ldp9MSBBvTF207ARIEHWhQjP21ogQTjEb2MWSyBB4M2PGLs4IEG2u1BcSSsgQXF8Lh0vKCBBTMwFvqXQH0GE0X4d7F8fQZiHmN1Veh5BZmsKyE/iHUHKe9MuAsodQZEQzxoXnx1BctKtidRpHUE9nvKwLt0cQco0ZPIC2BxB9CeHNs87HUFJk3TrsUgeQfaGIzZuIh5B5Ki2saq/HUHq3//s710dQc6TAPKhvh1BgEzX8KEaH0Hg9D6RPYwgQbwyGh+IBiFBbWWlpWYoIUE00/EY+akgQVwTzwLzvyBB5t7NJlV4IEEEQ/rkQgwgQTjWa3ZCeR9B1ArKtOCZHkGYQCmhVogdQUjfikUIBh1BaPxHx/anG0FmT03WUhoaQY4hDAvL6hhBwImweidAGEHEU39Mwo0XQWzQZNQ/jBZBVtrKjNw0FkGk++hgMXoVQb5ymqaBQxJBep6qOWOnEEGjD6CuLpUPQaaZ7vjPpQ1BdIIHASHZCkFgiiUiD5gIQSiwXg3LMgZBIl+gdze2BEGXUn2ABMwCQQYWAAOS+ABBfFBMSF4AAEEGv4R+k6z8QN3vJNDDvflAqJoF6Mmd90B6LtFJEHX0QMhNp4a20PFAfM4eeV2K7kBG8Mc1vFHoQKjFtzLMx+RAp6n6QM//4EAmbX//KBTZQI1RZXMk4NNAggMgHfQ+zECoEc6MIoXDQFpVJH5447pATOMAu6rfskAA9/1Dp0i/QA==",
          "dtype": "f8"
         },
         "yaxis": "y"
        },
        {
         "hovertemplate": "year=2025<br>age=%{x}<br>Population=%{y}<extra></extra>",
         "legendgroup": "",
         "line": {
          "color": "#999999",
          "dash": "solid"
         },
         "marker": {
          "symbol": "circle"
         },
         "mode": "lines",
         "name": "",
         "orientation": "v",
         "showlegend": false,
         "type": "scatter",
         "x": {
          "bdata": "AAECAwQFBgcICQoLDA0ODxAREhMUFRYXGBkaGxwdHh8gISIjJCUmJygpKissLS4vMDEyMzQ1Njc4OTo7PD0+P0BBQkNERUZHSElKS0xNTk9QUVJTVFVWV1hZWltcXV5fYGFiY2Q=",
          "dtype": "i1"
         },
         "xaxis": "x2",
         "y": {
          "bdata": "e0qOOw09GEHyxFoI04EYQXL7Fz0oqhhBEHflt8W8GEHiKxUpYCcXQeK586FeCxlBX9iDExQ/GUF8ig7DBnoZQVBZs47vwhlBhqyK3zr5GUG7c8tONjUaQdD86izvOxpBWFwTM36YGkECrP7YSoMaQc6+sjyk6BpBVh7bQjNFG0F6bTriD7obQY/QTpMdYhxBUpSM+JE0HUEypMlYVKYdQbXys1BJwx1BMhFEwv72HUEZcPcgpvsdQR4Uu8WV6h1B8uJfkX4zHkG+zwjILDofQQcgaRXhfB9Bmlqe+6RmH0E8ei8bMmgfQROcvzy8KSBByJm94AyOIEEmeizBf4wgQeqpQETHuiBBIP0XlRLxIEGuRs8wuTkhQT+os4//diFB6lyGnpkIIUFssl9LlNogQXkSFFgTrSBByAY4SrfeIEEUdrQPEcsgQTsDTJ84kyBBrSYPbTybIEGE5jGDQoUgQZgwdSXZQyBBHeRGhpsHIEHeLEbRFBkfQSaqoAB6bx5BmjJLN0seHkF+gMCHWOMdQRuPE5lLpR1BksJwKRL4HEHi1bCTW9McQYC++HejNh1BtNOX2KMZHkHYSAKlK+0dQciCwuMHfx1BLCYR4Q8WHUFFNNjrEmIdQRi+VRKroh5Bl+qpNLFGIEEu6WKD4b0gQSi5CP2h1CBBlV4TU2FMIEG+5Lstg18gQVgNnlJ/+R9BYnswyQk2H0FA14ODImUeQaD8GQnmax1BeLuY0xRhHEF+Ef6G/6gbQZBhjJLEJxpBZKJS5a6MGEHY443fgEkXQdYQiMExXRZBSTOnQ15wFUFKeM7orngUQRhcQNOo4BNBiGYykjX/EkEcFgNdRNQPQd5X+BsXQwxBpuqrcH0uCkEoPj2GyRYIQRiEk5cCKQVB4BZH7GgUA0Hm3s0mVXgAQRoDfbf7qv1AOUT9zubB+UAL2MgwLZn2QKh+SPbM1fNAEPEM48aF8EDX4C5Z2GfrQEY83o8SD+dAbEA+xJK+4kCcK1yCRWneQJzz4Z5L2dZAVdQMgItxzkBUBGbo5GbJQCQ1BRwvhMFAWoV95tHYtUBfbmgwEtDEQA==",
          "dtype": "f8"
         },
         "yaxis": "y2"
        },
        {
         "hovertemplate": "year=2030<br>age=%{x}<br>Population=%{y}<extra></extra>",
         "legendgroup": "",
         "line": {
          "color": "#999999",
          "dash": "solid"
         },
         "marker": {
          "symbol": "circle"
         },
         "mode": "lines",
         "name": "",
         "orientation": "v",
         "showlegend": false,
         "type": "scatter",
         "x": {
          "bdata": "AAECAwQFBgcICQoLDA0ODxAREhMUFRYXGBkaGxwdHh8gISIjJCUmJygpKissLS4vMDEyMzQ1Njc4OTo7PD0+P0BBQkNERUZHSElKS0xNTk9QUVJTVFVWV1hZWltcXV5fYGFiY2Q=",
          "dtype": "i1"
         },
         "xaxis": "x3",
         "y": {
          "bdata": "NFnK7ffgGEHYcWxYfy0ZQUY3N3K7QxlBphC3nSiNGUEiL0cP3sAZQWA+D8i42hlBqQLZMx0jGkFzHHxMfD0aQeidN85HNxpBvN79IDKcGEFnSF4hTWUaQbY8ghPxlhpBj6/qg8nOGkEcs9YuSBobQUzWU/lTZxtByGFe1LPrG0GgtarM5nkcQU/p2Z6ckB1BIgbdW4qAHkGuxKFhuMMfQXCj3ZWxeyBBVnb6EgmGIEF0AdZJeW0gQbEXjbdZPCBBkgso/b/TH0Hs+XRHPjwfQez5dEc+PB9B//b9Q6dIH0GOGQZnyz0fQdr1/JXPeh9Bl+qpNLFGIEFaGr63+HQgQRCrQfKeiCBBUEagjMmcIEFzTzQ7fhQhQazh58frkiFBx5phLOSCIUFk0GO2WZghQZyv0ej0yCFBScovrDP2IUE7JLCujCYiQUgX6lFhqCFBLKsqk5ZqIUEkyIqyhDMhQaT+R+fZWyFBf9aXwH86IUGsB/P0lvEgQXsLJaMN+CBBLBcBsWnGIEEYrf1KVmkgQXDwlzvfLSBBFIAdImBPH0HWlmCWMJQeQXxhpA+zOR5BUeLq6ZbbHUGoJYXaH6AdQVInEo/n4xxBlOGMobehHEECFNIknggdQT9x+M59yR1B7vA9+4mdHUGIeunfMhodQYwlnDkovhxBDFxZbn3mHEFwIAx72RAeQS+H9Xdd5h9BfL3GsQhRIEHV+XHti2AgQRqRWzD6jh9BMjKo0VKKH0F4tvG1vZUeQRwbqnqbnx1BkMlf3hetHEF44aMAwL8bQeT5cylYSBpBcbbwl9ehGUGTfmBzu+cXQW97Fy41MBZB1u8jst3JFEEATnnIpZQTQU4CHTNQiRJBaQet8Z42EUHkUjdFBX4QQbbFuW6Yrw5B2v0COs8nCUEs7pb9FYYFQX2SFGcGJwNBYmrYAbX8AEHK7fS1A+b7QNBuDLTwV/hAoeFzBuOb80DixqBjtYPwQN7JGaMYX+pAjgVPGc4i5UDcA8FGIOvgQNCPcMNE69lA4nqKCV/G0UBA4dG+0PvJQP3u3MgGrsJAWlUkfnjjukCUVg2vYZ/GQA==",
          "dtype": "f8"
         },
         "yaxis": "y3"
        },
        {
         "hovertemplate": "year=2001<br>age=%{x}<br>Population=%{y}<extra></extra>",
         "legendgroup": "",
         "line": {
          "color": "black",
          "dash": "dash"
         },
         "marker": {
          "symbol": "circle"
         },
         "mode": "lines",
         "name": "target",
         "orientation": "v",
         "showlegend": true,
         "type": "scatter",
         "x": {
          "bdata": "AAECAwQFBgcICQoLDA0ODxAREhMUFRYXGBkaGxwdHh8gISIjJCUmJygpKissLS4vMDEyMzQ1Njc4OTo7PD0+P0BBQkNERUZHSElKS0xNTk9QUVJTVFVWV1hZWltcXV5fYGFiY2Q=",
          "dtype": "i1"
         },
         "xaxis": "x4",
         "y": {
          "bdata": "LgMFAKpEBQB7VQUAfHgFACKvBQDw8wUAhRMGAA4eBgAbPQYAeWQGAEF9BgAahQYAilAGABkqBgD7PgYAJGYGAFF2BgB3eAYAr3UGAK5+BgBxkwYAsIsGAF9rBgA3TQYAjVYGAHBTBgA5VgYAwDUGAFJMBgBjdgYAEMgGAIjUBgCdyQYAotAGAJ34BgA8ZQcAqfgHANBDCAAkYQgANUIIAOBYCAAWQAgAvxIIAOUACADw2QcAxp4HAImTBwA5UgcAUAMHAJnGBgB3qAYAsoEGAF1kBgC3YwYAHV0GAIB4BQAsGwUAcvkEAJbRBADDewQAIU0EAOEJBABF7AMA28YDAHigAwBjnwMAdYQDAOlpAwCscgMAkmwDALleAwAnQQMAnBIDALQAAwB02wIAisYCADWjAgAegAIA01gCAEc8AgBPDAIAa9cBAC2FAQCSWQEACTkBAD4cAQCOBAEAtt8AAMm7AADxmAAAyXwAAKdkAADJTgAAoD4AAFkuAACxIgAAiBgAALQRAAA2DAAANwgAAMENAAA=",
          "dtype": "i4"
         },
         "yaxis": "y4"
        },
        {
         "hovertemplate": "year=2010<br>age=%{x}<br>Population=%{y}<extra></extra>",
         "legendgroup": "",
         "line": {
          "color": "black",
          "dash": "dash"
         },
         "marker": {
          "symbol": "circle"
         },
         "mode": "lines",
         "name": "",
         "orientation": "v",
         "showlegend": false,
         "type": "scatter",
         "x": {
          "bdata": "AAECAwQFBgcICQoLDA0ODxAREhMUFRYXGBkaGxwdHh8gISIjJCUmJygpKissLS4vMDEyMzQ1Njc4OTo7PD0+P0BBQkNERUZHSElKS0xNTk9QUVJTVFVWV1hZWltcXV5fYGFiY2Q=",
          "dtype": "i1"
         },
         "xaxis": "x5",
         "y": {
          "bdata": "C8QFAHjOBQDLzgUACq0FAMiBBQCPcQUA94EFAPdqBQCbcwUAp4IFAAm1BQDXvAUAhuYFAPMcBgBfbwYAa58GANmwBgBu0QYAIfsGANczBwBwUgcAQBoHAH/kBgDb+AYAJiQHAM02BwCzMAcAoi0HAHAlBwD0PQcAHCUHAAf6BgAx4QYAROgGAEruBgBQ9QYA3MgGACPUBgC/8AYALlAHAIlGBwAROgcALS8HALJGBwB1tAcAZUwIAPqMCAAfoQgAOmcIAFeKCACPYAgAZiwIAHUXCAAO6QcAH6UHAIiUBwAyQwcA8ugGAHKfBgDOgQYAQVoGAEU0BgCrMQYAVD8GALQ7BQCb4QQAnr0EAEOJBAAnLgQAYAEEABO2AwBWkQMArmQDAFozAwDNIgMAAf4CAGDVAgCEzAIAb7QCAJqbAgBGcAIApToCADQZAgDG6QEALcYBAAOcAQD9bwEA4EEBAMAdAQDJ9AAA5soAAGqTAAD2cwAANF0AACNIAAC6OAAA8SkAAAQdAACDFAAAtwwAAG4WAAA=",
          "dtype": "i4"
         },
         "yaxis": "y5"
        },
        {
         "hovertemplate": "year=2015<br>age=%{x}<br>Population=%{y}<extra></extra>",
         "legendgroup": "",
         "line": {
          "color": "black",
          "dash": "dash"
         },
         "marker": {
          "symbol": "circle"
         },
         "mode": "lines",
         "name": "",
         "orientation": "v",
         "showlegend": false,
         "type": "scatter",
         "x": {
          "bdata": "AAECAwQFBgcICQoLDA0ODxAREhMUFRYXGBkaGxwdHh8gISIjJCUmJygpKissLS4vMDEyMzQ1Njc4OTo7PD0+P0BBQkNERUZHSElKS0xNTk9QUVJTVFVWV1hZWltcXV5fYGFiY2Q=",
          "dtype": "i1"
         },
         "xaxis": "x6",
         "y": {
          "bdata": "ltQFAL3ZBQAw5gUAG+wFABDuBQC5DAYAyRgGAIIeBgBh9wUA7dEFALW8BQBU0AUAtLoFAI7GBQDa3QUAfRcGACsiBgCNRgYAPIAGAC/vBgCRIQcAhisHANNEBwBfawcAm5AHANWlBwAlaAcA8joHAOxLBwCcfQcAi4UHAKeFBwCzggcArXcHAMOFBwDNbwcAUkUHAHMmBwDBJwcARysHANsuBwB2AwcAfAgHAD8kBwBUfAcAoXIHALhfBwAgUQcAbWEHAA3NBwD/WQgAbpUIALikCABGZAgACoAIACtXCAAYIQgAtAkIAKzSBwDmkAcAEHgHAKQjBwB6yAYAI34GADdYBgAQKgYAEP8FAML1BQAY9QUAoPUEAMSVBADtbwQAmzYEAF7YAwDiogMA51kDAHIuAwAA/gIAfMgCABixAgAnggIAZFYCAE9CAgCxHwIAkfwBANDKAQAQkwEAPG4BAPs9AQDDFgEAce8AALPIAABsowAAHoQAAN9nAAChTgAAwzMAAOgjAAC9GAAA4xEAAOceAAA=",
          "dtype": "i4"
         },
         "yaxis": "y6"
        },
        {
         "hovertemplate": "year=2020<br>age=%{x}<br>Population=%{y}<extra></extra>",
         "legendgroup": "",
         "line": {
          "color": "black",
          "dash": "dash"
         },
         "marker": {
          "symbol": "circle"
         },
         "mode": "lines",
         "name": "",
         "orientation": "v",
         "showlegend": false,
         "type": "scatter",
         "x": {
          "bdata": "AAECAwQFBgcICQoLDA0ODxAREhMUFRYXGBkaGxwdHh8gISIjJCUmJygpKissLS4vMDEyMzQ1Njc4OTo7PD0+P0BBQkNERUZHSElKS0xNTk9QUVJTVFVWV1hZWltcXV5fYGFiY2Q=",
          "dtype": "i1"
         },
         "xaxis": "x",
         "y": {
          "bdata": "qaIFAI+6BQDy2gUAafkFAL0ZBgD/KAYARTYGALhFBgCATQYACksGAAtoBgCrbgYATmwGAJZEBgAQIAYAcxYGAFoyBgAmOQYAz38GAL4SBwDucwcAl3YHAKuCBwDzoAcANNoHALr4BwDD8wcAjAkIAPolCACeSggAQVsIAJ4lCABL+wcAjgMIAG0oCADzJQgA9xsIACQKCACv9QcABOkHAP7NBwBblwcA6HAHAO9nBwDyYAcAxFgHAAUyBwC8LAcA3kQHAMmEBwDIgAcA2WYHAM5VBwCtZQcAGMgHABJDCABPfAgADoYIAPlOCAAtVQgA1jEIAEb8BwA53QcAYKUHANVlBwAxQQcA3ewGAGaRBgBGRQYAyRIGANHgBQCOsAUAJ5sFADx8BQAZoAQAlToEAOcFBADnxAMAEmwDAM4rAwAn4wIApq4CAK14AgDGPwIAAhwCAFDnAQCluQEAOpgBAM1tAQAWRgEAyxMBAJzjAAD4wAAA85oAALF8AADdYQAAiUsAAEk2AACKJgAAMRsAAMktAAA=",
          "dtype": "i4"
         },
         "yaxis": "y"
        },
        {
         "hovertemplate": "year=2025<br>age=%{x}<br>Population=%{y}<extra></extra>",
         "legendgroup": "",
         "line": {
          "color": "black",
          "dash": "dash"
         },
         "marker": {
          "symbol": "circle"
         },
         "mode": "lines",
         "name": "",
         "orientation": "v",
         "showlegend": false,
         "type": "scatter",
         "x": {
          "bdata": "AAECAwQFBgcICQoLDA0ODxAREhMUFRYXGBkaGxwdHh8gISIjJCUmJygpKissLS4vMDEyMzQ1Njc4OTo7PD0+P0BBQkNERUZHSElKS0xNTk9QUVJTVFVWV1hZWltcXV5fYGFiY2Q=",
          "dtype": "i1"
         },
         "xaxis": "x2",
         "y": {
          "bdata": "ewoGAD8UBgBnHgYAKygGAIwxBgAYPAYA3EUGAEtdBgA0YQYAnHEGAPt6BgDAhAYAQJEGAHSZBgCHngYAD8sGAN/rBgD4GQcAADoHABRYBwAsbQcAL30HAABsBwBrcwcAGIEHAHuzBwC80gcAm88HABTVBwBMBggAvy0IADgzCADUSwgApGwIAIiSCACApAgAHHIIALRICAAsTggATGoIALRhCAB4UggAzzsIAIslCACIFQgAHPUHAKO9BwCrkgcAC4MHAMR1BwBQZwcAyDoHANcvBwBgQwcA930HACh2BwAHWgcA5EYHAMdTBwAvrwcAKCUIAORZCABbXwgAgCcIAHMpCABwAAgAZ8cHAOihBwAwZAcAqB4HAPTwBgBImAYAyzcGADTkBQCbqQUAdG0FAGw0BQB7EAUAvOQEAPcSBAC4qAMAnGoDAB8jAwBUxwIAk4ICAJQ3AgBg/QEAK8MBAJOIAQAAXgEA0yoBAFf8AABo2AAATLMAAOyQAABTbwAAz1IAABs+AAAjLAAAQB8AANw3AAA=",
          "dtype": "i4"
         },
         "yaxis": "y2"
        },
        {
         "hovertemplate": "year=2030<br>age=%{x}<br>Population=%{y}<extra></extra>",
         "legendgroup": "",
         "line": {
          "color": "black",
          "dash": "dash"
         },
         "marker": {
          "symbol": "circle"
         },
         "mode": "lines",
         "name": "",
         "orientation": "v",
         "showlegend": false,
         "type": "scatter",
         "x": {
          "bdata": "AAECAwQFBgcICQoLDA0ODxAREhMUFRYXGBkaGxwdHh8gISIjJCUmJygpKissLS4vMDEyMzQ1Njc4OTo7PD0+P0BBQkNERUZHSElKS0xNTk9QUVJTVFVWV1hZWltcXV5fYGFiY2Q=",
          "dtype": "i1"
         },
         "xaxis": "x3",
         "y": {
          "bdata": "8DEGAE87BgAIRwYAv1IGAHdeBgD4agYAFHcGADuBBgA4igYApJEGAEiYBgAkngYAc7IGAFu2BgDMzQYAXOgGAD8OBwAjTQcAK58HAETmBwCILggApDoIAFg2CABUDQgA7OMHACTKBwDTzgcAg7oHADO/BwCnzQcAFAcIABgwCADoNwgA7EcIAMh/CACUqQgAGK0IAHS/CAAQ2AgAzPMIAGT8CAD4wggAGJQIAFCTCADMqAgALJkIAOiCCADUZAgAv0YIAIguCAATBwgAI8oHAESbBwBXhwcAi3YHAPdkBwBQNQcAPycHAEM3BwD0bQcAy2MHAIBGBwAEMQcA/zkHAIuPBwAk/AcAcykIAIAnCADI6QcAv+IHALOyBwA/cgcAX0MHABD9BgDwrgYA6HUGAAgVBgBXrAUAxE8FAHMJBQDMwAQA4HoEAMBFBAD7CQQAEEcDAAfcAgBUlQIAX0gCALPvAQArqgEAE2MBAG8qAQBP9QAAfMQAAMSfAABwewAAwF0AAHtHAAD0MwAAHCUAAJ9BAAA=",
          "dtype": "i4"
         },
         "yaxis": "y3"
        }
       ],
       "layout": {
        "annotations": [
         {
          "font": {},
          "showarrow": false,
          "text": "year=2020",
          "x": 0.15999999999999998,
          "xanchor": "center",
          "xref": "paper",
          "y": 0.425,
          "yanchor": "bottom",
          "yref": "paper"
         },
         {
          "font": {},
          "showarrow": false,
          "text": "year=2025",
          "x": 0.49999999999999994,
          "xanchor": "center",
          "xref": "paper",
          "y": 0.425,
          "yanchor": "bottom",
          "yref": "paper"
         },
         {
          "font": {},
          "showarrow": false,
          "text": "year=2030",
          "x": 0.8399999999999999,
          "xanchor": "center",
          "xref": "paper",
          "y": 0.425,
          "yanchor": "bottom",
          "yref": "paper"
         },
         {
          "font": {},
          "showarrow": false,
          "text": "year=2001",
          "x": 0.15999999999999998,
          "xanchor": "center",
          "xref": "paper",
          "y": 1,
          "yanchor": "bottom",
          "yref": "paper"
         },
         {
          "font": {},
          "showarrow": false,
          "text": "year=2010",
          "x": 0.49999999999999994,
          "xanchor": "center",
          "xref": "paper",
          "y": 1,
          "yanchor": "bottom",
          "yref": "paper"
         },
         {
          "font": {},
          "showarrow": false,
          "text": "year=2015",
          "x": 0.8399999999999999,
          "xanchor": "center",
          "xref": "paper",
          "y": 1,
          "yanchor": "bottom",
          "yref": "paper"
         }
        ],
        "height": 800,
        "legend": {
         "title": {
          "text": ""
         },
         "tracegroupgap": 0
        },
        "margin": {
         "t": 150
        },
        "showlegend": true,
        "template": {
         "data": {
          "bar": [
           {
            "error_x": {
             "color": "#2a3f5f"
            },
            "error_y": {
             "color": "#2a3f5f"
            },
            "marker": {
             "line": {
              "color": "white",
              "width": 0.5
             },
             "pattern": {
              "fillmode": "overlay",
              "size": 10,
              "solidity": 0.2
             }
            },
            "type": "bar"
           }
          ],
          "barpolar": [
           {
            "marker": {
             "line": {
              "color": "white",
              "width": 0.5
             },
             "pattern": {
              "fillmode": "overlay",
              "size": 10,
              "solidity": 0.2
             }
            },
            "type": "barpolar"
           }
          ],
          "carpet": [
           {
            "aaxis": {
             "endlinecolor": "#2a3f5f",
             "gridcolor": "#C8D4E3",
             "linecolor": "#C8D4E3",
             "minorgridcolor": "#C8D4E3",
             "startlinecolor": "#2a3f5f"
            },
            "baxis": {
             "endlinecolor": "#2a3f5f",
             "gridcolor": "#C8D4E3",
             "linecolor": "#C8D4E3",
             "minorgridcolor": "#C8D4E3",
             "startlinecolor": "#2a3f5f"
            },
            "type": "carpet"
           }
          ],
          "choropleth": [
           {
            "colorbar": {
             "outlinewidth": 0,
             "ticks": ""
            },
            "type": "choropleth"
           }
          ],
          "contour": [
           {
            "colorbar": {
             "outlinewidth": 0,
             "ticks": ""
            },
            "colorscale": [
             [
              0,
              "#0d0887"
             ],
             [
              0.1111111111111111,
              "#46039f"
             ],
             [
              0.2222222222222222,
              "#7201a8"
             ],
             [
              0.3333333333333333,
              "#9c179e"
             ],
             [
              0.4444444444444444,
              "#bd3786"
             ],
             [
              0.5555555555555556,
              "#d8576b"
             ],
             [
              0.6666666666666666,
              "#ed7953"
             ],
             [
              0.7777777777777778,
              "#fb9f3a"
             ],
             [
              0.8888888888888888,
              "#fdca26"
             ],
             [
              1,
              "#f0f921"
             ]
            ],
            "type": "contour"
           }
          ],
          "contourcarpet": [
           {
            "colorbar": {
             "outlinewidth": 0,
             "ticks": ""
            },
            "type": "contourcarpet"
           }
          ],
          "heatmap": [
           {
            "colorbar": {
             "outlinewidth": 0,
             "ticks": ""
            },
            "colorscale": [
             [
              0,
              "#0d0887"
             ],
             [
              0.1111111111111111,
              "#46039f"
             ],
             [
              0.2222222222222222,
              "#7201a8"
             ],
             [
              0.3333333333333333,
              "#9c179e"
             ],
             [
              0.4444444444444444,
              "#bd3786"
             ],
             [
              0.5555555555555556,
              "#d8576b"
             ],
             [
              0.6666666666666666,
              "#ed7953"
             ],
             [
              0.7777777777777778,
              "#fb9f3a"
             ],
             [
              0.8888888888888888,
              "#fdca26"
             ],
             [
              1,
              "#f0f921"
             ]
            ],
            "type": "heatmap"
           }
          ],
          "histogram": [
           {
            "marker": {
             "pattern": {
              "fillmode": "overlay",
              "size": 10,
              "solidity": 0.2
             }
            },
            "type": "histogram"
           }
          ],
          "histogram2d": [
           {
            "colorbar": {
             "outlinewidth": 0,
             "ticks": ""
            },
            "colorscale": [
             [
              0,
              "#0d0887"
             ],
             [
              0.1111111111111111,
              "#46039f"
             ],
             [
              0.2222222222222222,
              "#7201a8"
             ],
             [
              0.3333333333333333,
              "#9c179e"
             ],
             [
              0.4444444444444444,
              "#bd3786"
             ],
             [
              0.5555555555555556,
              "#d8576b"
             ],
             [
              0.6666666666666666,
              "#ed7953"
             ],
             [
              0.7777777777777778,
              "#fb9f3a"
             ],
             [
              0.8888888888888888,
              "#fdca26"
             ],
             [
              1,
              "#f0f921"
             ]
            ],
            "type": "histogram2d"
           }
          ],
          "histogram2dcontour": [
           {
            "colorbar": {
             "outlinewidth": 0,
             "ticks": ""
            },
            "colorscale": [
             [
              0,
              "#0d0887"
             ],
             [
              0.1111111111111111,
              "#46039f"
             ],
             [
              0.2222222222222222,
              "#7201a8"
             ],
             [
              0.3333333333333333,
              "#9c179e"
             ],
             [
              0.4444444444444444,
              "#bd3786"
             ],
             [
              0.5555555555555556,
              "#d8576b"
             ],
             [
              0.6666666666666666,
              "#ed7953"
             ],
             [
              0.7777777777777778,
              "#fb9f3a"
             ],
             [
              0.8888888888888888,
              "#fdca26"
             ],
             [
              1,
              "#f0f921"
             ]
            ],
            "type": "histogram2dcontour"
           }
          ],
          "mesh3d": [
           {
            "colorbar": {
             "outlinewidth": 0,
             "ticks": ""
            },
            "type": "mesh3d"
           }
          ],
          "parcoords": [
           {
            "line": {
             "colorbar": {
              "outlinewidth": 0,
              "ticks": ""
             }
            },
            "type": "parcoords"
           }
          ],
          "pie": [
           {
            "automargin": true,
            "type": "pie"
           }
          ],
          "scatter": [
           {
            "fillpattern": {
             "fillmode": "overlay",
             "size": 10,
             "solidity": 0.2
            },
            "type": "scatter"
           }
          ],
          "scatter3d": [
           {
            "line": {
             "colorbar": {
              "outlinewidth": 0,
              "ticks": ""
             }
            },
            "marker": {
             "colorbar": {
              "outlinewidth": 0,
              "ticks": ""
             }
            },
            "type": "scatter3d"
           }
          ],
          "scattercarpet": [
           {
            "marker": {
             "colorbar": {
              "outlinewidth": 0,
              "ticks": ""
             }
            },
            "type": "scattercarpet"
           }
          ],
          "scattergeo": [
           {
            "marker": {
             "colorbar": {
              "outlinewidth": 0,
              "ticks": ""
             }
            },
            "type": "scattergeo"
           }
          ],
          "scattergl": [
           {
            "marker": {
             "colorbar": {
              "outlinewidth": 0,
              "ticks": ""
             }
            },
            "type": "scattergl"
           }
          ],
          "scattermap": [
           {
            "marker": {
             "colorbar": {
              "outlinewidth": 0,
              "ticks": ""
             }
            },
            "type": "scattermap"
           }
          ],
          "scattermapbox": [
           {
            "marker": {
             "colorbar": {
              "outlinewidth": 0,
              "ticks": ""
             }
            },
            "type": "scattermapbox"
           }
          ],
          "scatterpolar": [
           {
            "marker": {
             "colorbar": {
              "outlinewidth": 0,
              "ticks": ""
             }
            },
            "type": "scatterpolar"
           }
          ],
          "scatterpolargl": [
           {
            "marker": {
             "colorbar": {
              "outlinewidth": 0,
              "ticks": ""
             }
            },
            "type": "scatterpolargl"
           }
          ],
          "scatterternary": [
           {
            "marker": {
             "colorbar": {
              "outlinewidth": 0,
              "ticks": ""
             }
            },
            "type": "scatterternary"
           }
          ],
          "surface": [
           {
            "colorbar": {
             "outlinewidth": 0,
             "ticks": ""
            },
            "colorscale": [
             [
              0,
              "#0d0887"
             ],
             [
              0.1111111111111111,
              "#46039f"
             ],
             [
              0.2222222222222222,
              "#7201a8"
             ],
             [
              0.3333333333333333,
              "#9c179e"
             ],
             [
              0.4444444444444444,
              "#bd3786"
             ],
             [
              0.5555555555555556,
              "#d8576b"
             ],
             [
              0.6666666666666666,
              "#ed7953"
             ],
             [
              0.7777777777777778,
              "#fb9f3a"
             ],
             [
              0.8888888888888888,
              "#fdca26"
             ],
             [
              1,
              "#f0f921"
             ]
            ],
            "type": "surface"
           }
          ],
          "table": [
           {
            "cells": {
             "fill": {
              "color": "#EBF0F8"
             },
             "line": {
              "color": "white"
             }
            },
            "header": {
             "fill": {
              "color": "#C8D4E3"
             },
             "line": {
              "color": "white"
             }
            },
            "type": "table"
           }
          ]
         },
         "layout": {
          "annotationdefaults": {
           "arrowcolor": "#2a3f5f",
           "arrowhead": 0,
           "arrowwidth": 1
          },
          "autotypenumbers": "strict",
          "coloraxis": {
           "colorbar": {
            "outlinewidth": 0,
            "ticks": ""
           }
          },
          "colorscale": {
           "diverging": [
            [
             0,
             "#8e0152"
            ],
            [
             0.1,
             "#c51b7d"
            ],
            [
             0.2,
             "#de77ae"
            ],
            [
             0.3,
             "#f1b6da"
            ],
            [
             0.4,
             "#fde0ef"
            ],
            [
             0.5,
             "#f7f7f7"
            ],
            [
             0.6,
             "#e6f5d0"
            ],
            [
             0.7,
             "#b8e186"
            ],
            [
             0.8,
             "#7fbc41"
            ],
            [
             0.9,
             "#4d9221"
            ],
            [
             1,
             "#276419"
            ]
           ],
           "sequential": [
            [
             0,
             "#0d0887"
            ],
            [
             0.1111111111111111,
             "#46039f"
            ],
            [
             0.2222222222222222,
             "#7201a8"
            ],
            [
             0.3333333333333333,
             "#9c179e"
            ],
            [
             0.4444444444444444,
             "#bd3786"
            ],
            [
             0.5555555555555556,
             "#d8576b"
            ],
            [
             0.6666666666666666,
             "#ed7953"
            ],
            [
             0.7777777777777778,
             "#fb9f3a"
            ],
            [
             0.8888888888888888,
             "#fdca26"
            ],
            [
             1,
             "#f0f921"
            ]
           ],
           "sequentialminus": [
            [
             0,
             "#0d0887"
            ],
            [
             0.1111111111111111,
             "#46039f"
            ],
            [
             0.2222222222222222,
             "#7201a8"
            ],
            [
             0.3333333333333333,
             "#9c179e"
            ],
            [
             0.4444444444444444,
             "#bd3786"
            ],
            [
             0.5555555555555556,
             "#d8576b"
            ],
            [
             0.6666666666666666,
             "#ed7953"
            ],
            [
             0.7777777777777778,
             "#fb9f3a"
            ],
            [
             0.8888888888888888,
             "#fdca26"
            ],
            [
             1,
             "#f0f921"
            ]
           ]
          },
          "colorway": [
           "#636efa",
           "#EF553B",
           "#00cc96",
           "#ab63fa",
           "#FFA15A",
           "#19d3f3",
           "#FF6692",
           "#B6E880",
           "#FF97FF",
           "#FECB52"
          ],
          "font": {
           "color": "#2a3f5f"
          },
          "geo": {
           "bgcolor": "white",
           "lakecolor": "white",
           "landcolor": "white",
           "showlakes": true,
           "showland": true,
           "subunitcolor": "#C8D4E3"
          },
          "hoverlabel": {
           "align": "left"
          },
          "hovermode": "closest",
          "mapbox": {
           "style": "light"
          },
          "paper_bgcolor": "white",
          "plot_bgcolor": "white",
          "polar": {
           "angularaxis": {
            "gridcolor": "#EBF0F8",
            "linecolor": "#EBF0F8",
            "ticks": ""
           },
           "bgcolor": "white",
           "radialaxis": {
            "gridcolor": "#EBF0F8",
            "linecolor": "#EBF0F8",
            "ticks": ""
           }
          },
          "scene": {
           "xaxis": {
            "backgroundcolor": "white",
            "gridcolor": "#DFE8F3",
            "gridwidth": 2,
            "linecolor": "#EBF0F8",
            "showbackground": true,
            "ticks": "",
            "zerolinecolor": "#EBF0F8"
           },
           "yaxis": {
            "backgroundcolor": "white",
            "gridcolor": "#DFE8F3",
            "gridwidth": 2,
            "linecolor": "#EBF0F8",
            "showbackground": true,
            "ticks": "",
            "zerolinecolor": "#EBF0F8"
           },
           "zaxis": {
            "backgroundcolor": "white",
            "gridcolor": "#DFE8F3",
            "gridwidth": 2,
            "linecolor": "#EBF0F8",
            "showbackground": true,
            "ticks": "",
            "zerolinecolor": "#EBF0F8"
           }
          },
          "shapedefaults": {
           "line": {
            "color": "#2a3f5f"
           }
          },
          "ternary": {
           "aaxis": {
            "gridcolor": "#DFE8F3",
            "linecolor": "#A2B1C6",
            "ticks": ""
           },
           "baxis": {
            "gridcolor": "#DFE8F3",
            "linecolor": "#A2B1C6",
            "ticks": ""
           },
           "bgcolor": "white",
           "caxis": {
            "gridcolor": "#DFE8F3",
            "linecolor": "#A2B1C6",
            "ticks": ""
           }
          },
          "title": {
           "x": 0.05
          },
          "xaxis": {
           "automargin": true,
           "gridcolor": "#EBF0F8",
           "linecolor": "#EBF0F8",
           "ticks": "",
           "title": {
            "standoff": 15
           },
           "zerolinecolor": "#EBF0F8",
           "zerolinewidth": 2
          },
          "yaxis": {
           "automargin": true,
           "gridcolor": "#EBF0F8",
           "linecolor": "#EBF0F8",
           "ticks": "",
           "title": {
            "standoff": 15
           },
           "zerolinecolor": "#EBF0F8",
           "zerolinewidth": 2
          }
         }
        },
        "title": {
         "text": "Population Pyramid Comparison<br>Province: CA<br>Initial Births in 2001: 5000<br>Projection Scenario: M3",
         "x": 0.5,
         "y": 0.95
        },
        "xaxis": {
         "anchor": "y",
         "domain": [
          0,
          0.31999999999999995
         ],
         "title": {
          "text": "Age (years)"
         }
        },
        "xaxis2": {
         "anchor": "y2",
         "domain": [
          0.33999999999999997,
          0.6599999999999999
         ],
         "matches": "x",
         "title": {
          "text": "Age (years)"
         }
        },
        "xaxis3": {
         "anchor": "y3",
         "domain": [
          0.6799999999999999,
          0.9999999999999999
         ],
         "matches": "x",
         "title": {
          "text": "Age (years)"
         }
        },
        "xaxis4": {
         "anchor": "y4",
         "domain": [
          0,
          0.31999999999999995
         ],
         "matches": "x",
         "showticklabels": false,
         "title": {
          "text": "Age (years)"
         }
        },
        "xaxis5": {
         "anchor": "y5",
         "domain": [
          0.33999999999999997,
          0.6599999999999999
         ],
         "matches": "x",
         "showticklabels": false,
         "title": {
          "text": "Age (years)"
         }
        },
        "xaxis6": {
         "anchor": "y6",
         "domain": [
          0.6799999999999999,
          0.9999999999999999
         ],
         "matches": "x",
         "showticklabels": false,
         "title": {
          "text": "Age (years)"
         }
        },
        "yaxis": {
         "anchor": "x",
         "domain": [
          0,
          0.425
         ],
         "title": {
          "text": "Population"
         }
        },
        "yaxis2": {
         "anchor": "x2",
         "domain": [
          0,
          0.425
         ],
         "matches": "y",
         "showticklabels": false
        },
        "yaxis3": {
         "anchor": "x3",
         "domain": [
          0,
          0.425
         ],
         "matches": "y",
         "showticklabels": false
        },
        "yaxis4": {
         "anchor": "x4",
         "domain": [
          0.575,
          1
         ],
         "matches": "y",
         "title": {
          "text": "Population"
         }
        },
        "yaxis5": {
         "anchor": "x5",
         "domain": [
          0.575,
          1
         ],
         "matches": "y",
         "showticklabels": false
        },
        "yaxis6": {
         "anchor": "x6",
         "domain": [
          0.575,
          1
         ],
         "matches": "y",
         "showticklabels": false
        }
       }
      }
     },
     "metadata": {},
     "output_type": "display_data"
    }
   ],
   "source": [
    "df = population_df.copy()\n",
    "YEARS = [STARTING_YEAR, 2010, 2015, 2020, 2025, 2030]\n",
    "df = df[df[\"year\"].isin(YEARS)].reset_index(drop=True)\n",
    "fig = px.line(\n",
    "    df,\n",
    "    x=\"age\",\n",
    "    y=\"n_alive_model\",\n",
    "    facet_col=\"year\",\n",
    "    facet_col_wrap=3,\n",
    "    title=f\"Population Pyramid Comparison<br>\"\n",
    "    + f\"Province: {PROVINCE}<br>\"\n",
    "    + f\"Initial Births in {STARTING_YEAR}: {N_BIRTHS}<br>\"\n",
    "    + f\"Projection Scenario: {GROWTH_TYPE}\",\n",
    "    labels={\"n_alive_model\": \"Population\"},\n",
    "    color_discrete_sequence=[\"#999999\"],\n",
    "    height=800,\n",
    "    facet_row_spacing=0.15\n",
    ")\n",
    "fig_target = px.line(\n",
    "    df,\n",
    "    x=\"age\",\n",
    "    y=\"n_alive_target\",\n",
    "    facet_col=\"year\",\n",
    "    facet_col_wrap=3,\n",
    "    labels={\"n_alive_target\": \"Population\"},\n",
    "    color_discrete_sequence=[\"black\"],\n",
    "    line_dash_sequence=[\"dash\"],\n",
    "    height=800,\n",
    "    facet_row_spacing=0.15\n",
    ")\n",
    "fig.add_traces(\n",
    "    fig_target.data\n",
    ")\n",
    "\n",
    "fig.data[0].update(showlegend=True, name=\"model\")\n",
    "fig.data[len(YEARS)].update(showlegend=True, name=\"target\")\n",
    "fig.update_xaxes(title_text=\"Age (years)\")\n",
    "fig.update_layout(\n",
    "    legend_title_text=\"\",\n",
    "    title_x=0.5,\n",
    "    title_y=0.95,\n",
    "    margin=dict(t=150), # Adjust top margin for title\n",
    "    showlegend=True\n",
    ")\n",
    "fig.show(config=config)"
   ]
  },
  {
   "cell_type": "markdown",
   "id": "57372309",
   "metadata": {},
   "source": [
    "## Infant Antibiotic Exposure Figure\n",
    "\n",
    "Rate of infant antibiotic prescriptions by sex (red: females; blue: males) for simulated\n",
    "(solid) and target (dotted) values from the model and the population-based administrative\n",
    "database, respectively, with the floor rate of 50 per 1000 (purple)."
   ]
  },
  {
   "cell_type": "markdown",
   "id": "0f6a8a06",
   "metadata": {},
   "source": [
    "### Load Data"
   ]
  },
  {
   "cell_type": "code",
   "execution_count": 11,
   "id": "8481d0b5",
   "metadata": {},
   "outputs": [],
   "source": [
    "# Load antibiotic data from BC Ministry of Health\n",
    "target_abx_df = pd.read_csv(get_data_path(\"processed_data/InfantAbxBC.csv\"))\n",
    "\n",
    "# Load antibiotic data from simulation\n",
    "model_abx_df_raw = pd.read_csv(RUN_BUNDLE_FOLDER / \"outcome_matrix_antibiotic_exposure.csv\")\n",
    "\n",
    "# Load additional simulation data for population comparisson\n",
    "model_infant_alive_df_raw =pd.read_csv(RUN_BUNDLE_FOLDER / \"outcome_matrix_alive.csv\")\n",
    "model_infant_death_df_raw = pd.read_csv(RUN_BUNDLE_FOLDER / \"outcome_matrix_death.csv\")\n",
    "model_infant_emigration_df_raw = pd.read_csv(RUN_BUNDLE_FOLDER / \"outcome_matrix_emigration.csv\")"
   ]
  },
  {
   "cell_type": "markdown",
   "id": "906d126d",
   "metadata": {},
   "source": [
    "### Process Data"
   ]
  },
  {
   "cell_type": "code",
   "execution_count": 12,
   "id": "8d508935",
   "metadata": {},
   "outputs": [],
   "source": [
    "# Merge all datasets on Year, Sex, and Age\n",
    "model_abx_df = model_abx_df_raw.rename(columns={'n_antibiotic_exposure': 'n'}).merge(\n",
    "    model_infant_alive_df_raw, on=['year', 'sex', 'age']\n",
    ").merge(\n",
    "    model_infant_death_df_raw, on=['year', 'sex', 'age']\n",
    ").merge(\n",
    "    model_infant_emigration_df_raw, on=['year', 'sex', 'age']\n",
    ")\n",
    "\n",
    "# Filter for age 0\n",
    "model_abx_df = model_abx_df[model_abx_df['age'] == 0].copy()\n",
    "\n",
    "# Compute total population (N) and rate per 1000\n",
    "model_abx_df[\"N\"] = model_abx_df[\"n_alive\"] + model_abx_df[\"n_deaths\"] + model_abx_df[\"n_emigrants\"]\n",
    "model_abx_df[\"rate\"] = (model_abx_df[\"n\"] / model_abx_df[\"N\"]) * 1000\n",
    "\n",
    "# Map sex values for labelling\n",
    "model_abx_df[\"sex\"] = model_abx_df[\"sex\"].map({\"F\": \"Female\", \"M\": \"Male\"})"
   ]
  },
  {
   "cell_type": "markdown",
   "id": "96ee8a10",
   "metadata": {},
   "source": [
    "### Visualize Data"
   ]
  },
  {
   "cell_type": "code",
   "execution_count": 13,
   "id": "ffb07a7e",
   "metadata": {},
   "outputs": [
    {
     "data": {
      "image/png": "[encoded data removed]",
      "text/plain": [
       "<Figure size 1000x600 with 1 Axes>"
      ]
     },
     "metadata": {},
     "output_type": "display_data"
    }
   ],
   "source": [
    "# Define colors to plot for different sexs\n",
    "sex_colour_dict = {\"Male\": \"#09bfc4\", \"Female\": \"#f86d63\"}\n",
    "\n",
    "\n",
    "plt.figure(figsize=(10, 6))\n",
    "\n",
    "# Plot inftant abx data from simulation\n",
    "for sex in [\"Male\", \"Female\"]:\n",
    "    subset = model_abx_df[model_abx_df[\"sex\"] == sex]\n",
    "    plt.plot(subset[\"year\"], subset[\"rate\"],\n",
    "             label=f\"Model - {sex}\", color=sex_colour_dict[sex])\n",
    "\n",
    "# Plot target infant abx data\n",
    "for sex in [\"Male\", \"Female\"]:\n",
    "    subset = target_abx_df[target_abx_df[\"sex\"] == sex]\n",
    "    plt.plot(subset[\"year\"], subset[\"rate\"], linestyle=\"dashed\",\n",
    "             label=f\"Target - {sex}\", color=sex_colour_dict[sex])\n",
    "\n",
    "# Add horizontal reference line\n",
    "plt.axhline(y=50, color=\"purple\", linestyle=\"dashed\", label=\"Threshold (50 per 1000)\")\n",
    "\n",
    "# Labels, legend, and formatting\n",
    "plt.xlabel(\"Year\")\n",
    "plt.ylabel(\"Number of courses of antibiotics in the first year of life (per 1000)\")\n",
    "plt.ylim(0, 1199)\n",
    "plt.legend()\n",
    "plt.title(\"Comparison of Model & Target Antibiotic Exposure Rates\")\n",
    "\n",
    "plt.show()"
   ]
  },
  {
   "cell_type": "markdown",
   "id": "fd23a07c",
   "metadata": {},
   "source": [
    "## Asthma Control Level Figure\n",
    "\n",
    "Asthma control levels by the model (solid) and target (dashed):\n",
    "\n",
    "1. <span style=\"color: blue;\">blue: well-controlled</span>\n",
    "2. <span style=\"color: orange;\">orange: partially-controlled</span>\n",
    "3. <span style=\"color: red;\">red: uncontrolled</span>"
   ]
  },
  {
   "cell_type": "markdown",
   "id": "60fbb00c",
   "metadata": {},
   "source": [
    "### Load Data"
   ]
  },
  {
   "cell_type": "code",
   "execution_count": 17,
   "id": "c2d38cf4",
   "metadata": {},
   "outputs": [],
   "source": [
    "# Read in simulation control data\n",
    "df_model_control = pd.read_csv(RUN_BUNDLE_FOLDER / \"outcome_matrix_control.csv\")"
   ]
  },
  {
   "cell_type": "markdown",
   "id": "9b7e2912",
   "metadata": {},
   "source": [
    "### Process Data"
   ]
  },
  {
   "cell_type": "code",
   "execution_count": 18,
   "id": "bc7edbe4",
   "metadata": {},
   "outputs": [],
   "source": [
    "# Validation parameters\n",
    "TARGET_CONTROL = {\n",
    "    \"uncontrolled\": 0.18,\n",
    "    \"partially_controlled\": 0.47,\n",
    "    \"well_controlled\": 0.35\n",
    "}\n",
    "\n",
    "categories = [\"uncontrolled\", \"partially_controlled\", \"well_controlled\"]\n",
    "\n",
    "df_model_control = df_model_control.groupby([\"year\", \"level\"])\n",
    "\n",
    "# Sum over the probabilities for each control level and year\n",
    "df_model_control = df_model_control.aggregate({\n",
    "    \"prob\": \"sum\"\n",
    "}).reset_index().pivot(index=\"year\", columns=\"level\", values=\"prob\").rename(\n",
    "    columns={0: \"well_controlled\", 1: \"partially_controlled\", 2: \"uncontrolled\"}\n",
    ").reset_index().rename_axis(None, axis=1)\n",
    "\n",
    "# Normalize by year\n",
    "df_model_control[\"total\"] = df_model_control.apply(\n",
    "    lambda x: x[\"uncontrolled\"] + x[\"partially_controlled\"] + x[\"well_controlled\"], axis=1\n",
    ")\n",
    "for level in categories:\n",
    "    df_model_control[level] /= df_model_control[\"total\"]\n",
    "\n",
    "# Melt the DataFrame to long format for plotting\n",
    "df_model_control = df_model_control.melt(\n",
    "    id_vars=[\"year\"],\n",
    "    value_vars=categories,\n",
    "    var_name=\"control_level\",\n",
    "    value_name=\"prob\"\n",
    ")"
   ]
  },
  {
   "cell_type": "markdown",
   "id": "0f145cd3",
   "metadata": {},
   "source": [
    "### Visualize Data"
   ]
  },
  {
   "cell_type": "code",
   "execution_count": 19,
   "id": "574010a7",
   "metadata": {},
   "outputs": [
    {
     "data": {
      "application/vnd.plotly.v1+json": {
       "config": {
        "plotlyServerURL": "https://plot.ly",
        "toImageButtonOptions": {
         "format": "png",
         "height": 600,
         "scale": 2,
         "width": 1000
        }
       },
       "data": [
        {
         "hovertemplate": "control_level=uncontrolled<br>year=%{x}<br>prob=%{y}<extra></extra>",
         "legendgroup": "uncontrolled",
         "line": {
          "color": "red",
          "dash": "solid"
         },
         "marker": {
          "symbol": "circle"
         },
         "mode": "lines",
         "name": "uncontrolled model",
         "orientation": "v",
         "showlegend": true,
         "type": "scatter",
         "x": {
          "bdata": "0QfSB9MH1AfVB9YH1wfYB9kH2gfbB9wH3QfeB98H4AfhB+IH4wfkB+UH5gfnB+gH6QfqB+sH7AftB+4H",
          "dtype": "i2"
         },
         "xaxis": "x",
         "y": {
          "bdata": "fG7xcQlqxz/Em+xwOXPHP5WXCCG6Zcc/h9Yus1tuxz+InQa6tXHHP81r88k6f8c/yjjHXjyDxz+QiAzD24LHP3VgYRMRhsc/7ClJ2FyNxz9EgS3aJJTHP4+JjVkhisc/NS4IJTyOxz/jXCfwRoXHP4VNkqHGfMc/ECPpDpN4xz+a0nrIpHvHPx2w4uV/ecc/HwR3KH12xz8D2grxQ2/HP+FkN/VkYcc/03tu9J5Wxz9aWVY/QE7HP1EnvtA2Qcc/gCOYGRI2xz8SyLJYiTDHP6f0ucufM8c/ubVbdq0xxz/dMDgHQyrHP4DL7ycnKsc/",
          "dtype": "f8"
         },
         "yaxis": "y"
        },
        {
         "hovertemplate": "control_level=partially_controlled<br>year=%{x}<br>prob=%{y}<extra></extra>",
         "legendgroup": "partially_controlled",
         "line": {
          "color": "darkorange",
          "dash": "solid"
         },
         "marker": {
          "symbol": "circle"
         },
         "mode": "lines",
         "name": "partially controlled model",
         "orientation": "v",
         "showlegend": true,
         "type": "scatter",
         "x": {
          "bdata": "0QfSB9MH1AfVB9YH1wfYB9kH2gfbB9wH3QfeB98H4AfhB+IH4wfkB+UH5gfnB+gH6QfqB+sH7AftB+4H",
          "dtype": "i2"
         },
         "xaxis": "x",
         "y": {
          "bdata": "MNNDyc8p3j/8Zr5sbS3eP5WPVo27K94/JFKsn1wu3j+qnU0C0zPeP0zfi03lN94/ysJ01HI93j8GfBD0eTveP4TT+c9UN94/4Dm3z0o33j/ZHph2yzneP9X/iOcuNd4/63n7tM023j+4XjddeDTeP8t9WQ3PMN4/1xyRs6su3j+Y2yAA0CreP010qCDJKN4/XlRLuwUo3j+3D7m0LSXePxm5aV3XIt4/n9uGxGob3j/clr/aCBfeP1jXdlr9EN4/pZVTGKsH3j/SV2UizgPePz+law31Ad4/sApElrn83T/n4Q80xfjdP7AaQdKN990/",
          "dtype": "f8"
         },
         "yaxis": "y"
        },
        {
         "hovertemplate": "control_level=well_controlled<br>year=%{x}<br>prob=%{y}<extra></extra>",
         "legendgroup": "well_controlled",
         "line": {
          "color": "blue",
          "dash": "solid"
         },
         "marker": {
          "symbol": "circle"
         },
         "mode": "lines",
         "name": "well controlled model",
         "orientation": "v",
         "showlegend": true,
         "type": "scatter",
         "x": {
          "bdata": "0QfSB9MH1AfVB9YH1wfYB9kH2gfbB9wH3QfeB98H4AfhB+IH4wfkB+UH5gfnB+gH6QfqB+sH7AftB+4H",
          "dtype": "i2"
         },
         "xaxis": "x",
         "y": {
          "bdata": "knXDfSsh1j8gS8va9RjWP58kJWJnIdY/mkK8hnUa1j+SE68gUhPWP85qek19CNY/0qAn/O4A1j+yP2kqGAPWP0N8VaaiBdY/KzEkxAYC1j+GIFEcIvzVP2Q7sGvABdY/+26AOBQC1j/W8rQq5AjWP3Jb3aHNENY/o1H6xAoV1j8au6GbXRfWP6MzZux2GtY/kil5sLsc1j9Ig8FSMCPWP3eU+id2LNY/duZBwUU51j92PJUF10HWPwEVKj1nTtY/mljg2ktd1j8jREEx7WPWP25gtww7ZNY/dRqOrm9q1j+rBVRIGXLWP47/xplec9Y/",
          "dtype": "f8"
         },
         "yaxis": "y"
        }
       ],
       "layout": {
        "legend": {
         "title": {
          "text": "Control Level"
         },
         "tracegroupgap": 0
        },
        "shapes": [
         {
          "line": {
           "color": "red",
           "dash": "dash"
          },
          "name": "uncontrolled target",
          "showlegend": true,
          "type": "line",
          "x0": 0,
          "x1": 1,
          "xref": "x domain",
          "y0": 0.18,
          "y1": 0.18,
          "yref": "y"
         },
         {
          "line": {
           "color": "darkorange",
           "dash": "dash"
          },
          "name": "partially controlled target",
          "showlegend": true,
          "type": "line",
          "x0": 0,
          "x1": 1,
          "xref": "x domain",
          "y0": 0.47,
          "y1": 0.47,
          "yref": "y"
         },
         {
          "line": {
           "color": "blue",
           "dash": "dash"
          },
          "name": "well controlled target",
          "showlegend": true,
          "type": "line",
          "x0": 0,
          "x1": 1,
          "xref": "x domain",
          "y0": 0.35,
          "y1": 0.35,
          "yref": "y"
         }
        ],
        "template": {
         "data": {
          "bar": [
           {
            "error_x": {
             "color": "#2a3f5f"
            },
            "error_y": {
             "color": "#2a3f5f"
            },
            "marker": {
             "line": {
              "color": "white",
              "width": 0.5
             },
             "pattern": {
              "fillmode": "overlay",
              "size": 10,
              "solidity": 0.2
             }
            },
            "type": "bar"
           }
          ],
          "barpolar": [
           {
            "marker": {
             "line": {
              "color": "white",
              "width": 0.5
             },
             "pattern": {
              "fillmode": "overlay",
              "size": 10,
              "solidity": 0.2
             }
            },
            "type": "barpolar"
           }
          ],
          "carpet": [
           {
            "aaxis": {
             "endlinecolor": "#2a3f5f",
             "gridcolor": "#C8D4E3",
             "linecolor": "#C8D4E3",
             "minorgridcolor": "#C8D4E3",
             "startlinecolor": "#2a3f5f"
            },
            "baxis": {
             "endlinecolor": "#2a3f5f",
             "gridcolor": "#C8D4E3",
             "linecolor": "#C8D4E3",
             "minorgridcolor": "#C8D4E3",
             "startlinecolor": "#2a3f5f"
            },
            "type": "carpet"
           }
          ],
          "choropleth": [
           {
            "colorbar": {
             "outlinewidth": 0,
             "ticks": ""
            },
            "type": "choropleth"
           }
          ],
          "contour": [
           {
            "colorbar": {
             "outlinewidth": 0,
             "ticks": ""
            },
            "colorscale": [
             [
              0,
              "#0d0887"
             ],
             [
              0.1111111111111111,
              "#46039f"
             ],
             [
              0.2222222222222222,
              "#7201a8"
             ],
             [
              0.3333333333333333,
              "#9c179e"
             ],
             [
              0.4444444444444444,
              "#bd3786"
             ],
             [
              0.5555555555555556,
              "#d8576b"
             ],
             [
              0.6666666666666666,
              "#ed7953"
             ],
             [
              0.7777777777777778,
              "#fb9f3a"
             ],
             [
              0.8888888888888888,
              "#fdca26"
             ],
             [
              1,
              "#f0f921"
             ]
            ],
            "type": "contour"
           }
          ],
          "contourcarpet": [
           {
            "colorbar": {
             "outlinewidth": 0,
             "ticks": ""
            },
            "type": "contourcarpet"
           }
          ],
          "heatmap": [
           {
            "colorbar": {
             "outlinewidth": 0,
             "ticks": ""
            },
            "colorscale": [
             [
              0,
              "#0d0887"
             ],
             [
              0.1111111111111111,
              "#46039f"
             ],
             [
              0.2222222222222222,
              "#7201a8"
             ],
             [
              0.3333333333333333,
              "#9c179e"
             ],
             [
              0.4444444444444444,
              "#bd3786"
             ],
             [
              0.5555555555555556,
              "#d8576b"
             ],
             [
              0.6666666666666666,
              "#ed7953"
             ],
             [
              0.7777777777777778,
              "#fb9f3a"
             ],
             [
              0.8888888888888888,
              "#fdca26"
             ],
             [
              1,
              "#f0f921"
             ]
            ],
            "type": "heatmap"
           }
          ],
          "histogram": [
           {
            "marker": {
             "pattern": {
              "fillmode": "overlay",
              "size": 10,
              "solidity": 0.2
             }
            },
            "type": "histogram"
           }
          ],
          "histogram2d": [
           {
            "colorbar": {
             "outlinewidth": 0,
             "ticks": ""
            },
            "colorscale": [
             [
              0,
              "#0d0887"
             ],
             [
              0.1111111111111111,
              "#46039f"
             ],
             [
              0.2222222222222222,
              "#7201a8"
             ],
             [
              0.3333333333333333,
              "#9c179e"
             ],
             [
              0.4444444444444444,
              "#bd3786"
             ],
             [
              0.5555555555555556,
              "#d8576b"
             ],
             [
              0.6666666666666666,
              "#ed7953"
             ],
             [
              0.7777777777777778,
              "#fb9f3a"
             ],
             [
              0.8888888888888888,
              "#fdca26"
             ],
             [
              1,
              "#f0f921"
             ]
            ],
            "type": "histogram2d"
           }
          ],
          "histogram2dcontour": [
           {
            "colorbar": {
             "outlinewidth": 0,
             "ticks": ""
            },
            "colorscale": [
             [
              0,
              "#0d0887"
             ],
             [
              0.1111111111111111,
              "#46039f"
             ],
             [
              0.2222222222222222,
              "#7201a8"
             ],
             [
              0.3333333333333333,
              "#9c179e"
             ],
             [
              0.4444444444444444,
              "#bd3786"
             ],
             [
              0.5555555555555556,
              "#d8576b"
             ],
             [
              0.6666666666666666,
              "#ed7953"
             ],
             [
              0.7777777777777778,
              "#fb9f3a"
             ],
             [
              0.8888888888888888,
              "#fdca26"
             ],
             [
              1,
              "#f0f921"
             ]
            ],
            "type": "histogram2dcontour"
           }
          ],
          "mesh3d": [
           {
            "colorbar": {
             "outlinewidth": 0,
             "ticks": ""
            },
            "type": "mesh3d"
           }
          ],
          "parcoords": [
           {
            "line": {
             "colorbar": {
              "outlinewidth": 0,
              "ticks": ""
             }
            },
            "type": "parcoords"
           }
          ],
          "pie": [
           {
            "automargin": true,
            "type": "pie"
           }
          ],
          "scatter": [
           {
            "fillpattern": {
             "fillmode": "overlay",
             "size": 10,
             "solidity": 0.2
            },
            "type": "scatter"
           }
          ],
          "scatter3d": [
           {
            "line": {
             "colorbar": {
              "outlinewidth": 0,
              "ticks": ""
             }
            },
            "marker": {
             "colorbar": {
              "outlinewidth": 0,
              "ticks": ""
             }
            },
            "type": "scatter3d"
           }
          ],
          "scattercarpet": [
           {
            "marker": {
             "colorbar": {
              "outlinewidth": 0,
              "ticks": ""
             }
            },
            "type": "scattercarpet"
           }
          ],
          "scattergeo": [
           {
            "marker": {
             "colorbar": {
              "outlinewidth": 0,
              "ticks": ""
             }
            },
            "type": "scattergeo"
           }
          ],
          "scattergl": [
           {
            "marker": {
             "colorbar": {
              "outlinewidth": 0,
              "ticks": ""
             }
            },
            "type": "scattergl"
           }
          ],
          "scattermap": [
           {
            "marker": {
             "colorbar": {
              "outlinewidth": 0,
              "ticks": ""
             }
            },
            "type": "scattermap"
           }
          ],
          "scattermapbox": [
           {
            "marker": {
             "colorbar": {
              "outlinewidth": 0,
              "ticks": ""
             }
            },
            "type": "scattermapbox"
           }
          ],
          "scatterpolar": [
           {
            "marker": {
             "colorbar": {
              "outlinewidth": 0,
              "ticks": ""
             }
            },
            "type": "scatterpolar"
           }
          ],
          "scatterpolargl": [
           {
            "marker": {
             "colorbar": {
              "outlinewidth": 0,
              "ticks": ""
             }
            },
            "type": "scatterpolargl"
           }
          ],
          "scatterternary": [
           {
            "marker": {
             "colorbar": {
              "outlinewidth": 0,
              "ticks": ""
             }
            },
            "type": "scatterternary"
           }
          ],
          "surface": [
           {
            "colorbar": {
             "outlinewidth": 0,
             "ticks": ""
            },
            "colorscale": [
             [
              0,
              "#0d0887"
             ],
             [
              0.1111111111111111,
              "#46039f"
             ],
             [
              0.2222222222222222,
              "#7201a8"
             ],
             [
              0.3333333333333333,
              "#9c179e"
             ],
             [
              0.4444444444444444,
              "#bd3786"
             ],
             [
              0.5555555555555556,
              "#d8576b"
             ],
             [
              0.6666666666666666,
              "#ed7953"
             ],
             [
              0.7777777777777778,
              "#fb9f3a"
             ],
             [
              0.8888888888888888,
              "#fdca26"
             ],
             [
              1,
              "#f0f921"
             ]
            ],
            "type": "surface"
           }
          ],
          "table": [
           {
            "cells": {
             "fill": {
              "color": "#EBF0F8"
             },
             "line": {
              "color": "white"
             }
            },
            "header": {
             "fill": {
              "color": "#C8D4E3"
             },
             "line": {
              "color": "white"
             }
            },
            "type": "table"
           }
          ]
         },
         "layout": {
          "annotationdefaults": {
           "arrowcolor": "#2a3f5f",
           "arrowhead": 0,
           "arrowwidth": 1
          },
          "autotypenumbers": "strict",
          "coloraxis": {
           "colorbar": {
            "outlinewidth": 0,
            "ticks": ""
           }
          },
          "colorscale": {
           "diverging": [
            [
             0,
             "#8e0152"
            ],
            [
             0.1,
             "#c51b7d"
            ],
            [
             0.2,
             "#de77ae"
            ],
            [
             0.3,
             "#f1b6da"
            ],
            [
             0.4,
             "#fde0ef"
            ],
            [
             0.5,
             "#f7f7f7"
            ],
            [
             0.6,
             "#e6f5d0"
            ],
            [
             0.7,
             "#b8e186"
            ],
            [
             0.8,
             "#7fbc41"
            ],
            [
             0.9,
             "#4d9221"
            ],
            [
             1,
             "#276419"
            ]
           ],
           "sequential": [
            [
             0,
             "#0d0887"
            ],
            [
             0.1111111111111111,
             "#46039f"
            ],
            [
             0.2222222222222222,
             "#7201a8"
            ],
            [
             0.3333333333333333,
             "#9c179e"
            ],
            [
             0.4444444444444444,
             "#bd3786"
            ],
            [
             0.5555555555555556,
             "#d8576b"
            ],
            [
             0.6666666666666666,
             "#ed7953"
            ],
            [
             0.7777777777777778,
             "#fb9f3a"
            ],
            [
             0.8888888888888888,
             "#fdca26"
            ],
            [
             1,
             "#f0f921"
            ]
           ],
           "sequentialminus": [
            [
             0,
             "#0d0887"
            ],
            [
             0.1111111111111111,
             "#46039f"
            ],
            [
             0.2222222222222222,
             "#7201a8"
            ],
            [
             0.3333333333333333,
             "#9c179e"
            ],
            [
             0.4444444444444444,
             "#bd3786"
            ],
            [
             0.5555555555555556,
             "#d8576b"
            ],
            [
             0.6666666666666666,
             "#ed7953"
            ],
            [
             0.7777777777777778,
             "#fb9f3a"
            ],
            [
             0.8888888888888888,
             "#fdca26"
            ],
            [
             1,
             "#f0f921"
            ]
           ]
          },
          "colorway": [
           "#636efa",
           "#EF553B",
           "#00cc96",
           "#ab63fa",
           "#FFA15A",
           "#19d3f3",
           "#FF6692",
           "#B6E880",
           "#FF97FF",
           "#FECB52"
          ],
          "font": {
           "color": "#2a3f5f"
          },
          "geo": {
           "bgcolor": "white",
           "lakecolor": "white",
           "landcolor": "white",
           "showlakes": true,
           "showland": true,
           "subunitcolor": "#C8D4E3"
          },
          "hoverlabel": {
           "align": "left"
          },
          "hovermode": "closest",
          "mapbox": {
           "style": "light"
          },
          "paper_bgcolor": "white",
          "plot_bgcolor": "white",
          "polar": {
           "angularaxis": {
            "gridcolor": "#EBF0F8",
            "linecolor": "#EBF0F8",
            "ticks": ""
           },
           "bgcolor": "white",
           "radialaxis": {
            "gridcolor": "#EBF0F8",
            "linecolor": "#EBF0F8",
            "ticks": ""
           }
          },
          "scene": {
           "xaxis": {
            "backgroundcolor": "white",
            "gridcolor": "#DFE8F3",
            "gridwidth": 2,
            "linecolor": "#EBF0F8",
            "showbackground": true,
            "ticks": "",
            "zerolinecolor": "#EBF0F8"
           },
           "yaxis": {
            "backgroundcolor": "white",
            "gridcolor": "#DFE8F3",
            "gridwidth": 2,
            "linecolor": "#EBF0F8",
            "showbackground": true,
            "ticks": "",
            "zerolinecolor": "#EBF0F8"
           },
           "zaxis": {
            "backgroundcolor": "white",
            "gridcolor": "#DFE8F3",
            "gridwidth": 2,
            "linecolor": "#EBF0F8",
            "showbackground": true,
            "ticks": "",
            "zerolinecolor": "#EBF0F8"
           }
          },
          "shapedefaults": {
           "line": {
            "color": "#2a3f5f"
           }
          },
          "ternary": {
           "aaxis": {
            "gridcolor": "#DFE8F3",
            "linecolor": "#A2B1C6",
            "ticks": ""
           },
           "baxis": {
            "gridcolor": "#DFE8F3",
            "linecolor": "#A2B1C6",
            "ticks": ""
           },
           "bgcolor": "white",
           "caxis": {
            "gridcolor": "#DFE8F3",
            "linecolor": "#A2B1C6",
            "ticks": ""
           }
          },
          "title": {
           "x": 0.05
          },
          "xaxis": {
           "automargin": true,
           "gridcolor": "#EBF0F8",
           "linecolor": "#EBF0F8",
           "ticks": "",
           "title": {
            "standoff": 15
           },
           "zerolinecolor": "#EBF0F8",
           "zerolinewidth": 2
          },
          "yaxis": {
           "automargin": true,
           "gridcolor": "#EBF0F8",
           "linecolor": "#EBF0F8",
           "ticks": "",
           "title": {
            "standoff": 15
           },
           "zerolinecolor": "#EBF0F8",
           "zerolinewidth": 2
          }
         }
        },
        "title": {
         "text": "Asthma Control over Time",
         "x": 0.5,
         "y": 0.95
        },
        "xaxis": {
         "anchor": "y",
         "domain": [
          0,
          1
         ],
         "title": {
          "text": "Year"
         }
        },
        "yaxis": {
         "anchor": "x",
         "domain": [
          0,
          1
         ],
         "range": [
          0,
          1
         ],
         "title": {
          "text": "Proportion of Time Spent in Asthma Control Level"
         }
        }
       }
      }
     },
     "metadata": {},
     "output_type": "display_data"
    }
   ],
   "source": [
    "color_map={\n",
    "    \"well_controlled\": \"blue\",\n",
    "    \"partially_controlled\": \"darkorange\",\n",
    "    \"uncontrolled\": \"red\"\n",
    "}\n",
    "\n",
    "fig = px.line(\n",
    "    df_model_control,\n",
    "    x=\"year\",\n",
    "    y=\"prob\",\n",
    "    color=\"control_level\",\n",
    "    title=\"Asthma Control over Time\",\n",
    "    color_discrete_map=color_map\n",
    ")\n",
    "\n",
    "fig.for_each_trace(lambda t: t.update(name=t.name.replace(\"_\", \" \") + \" model\"))\n",
    "for level in categories:\n",
    "    fig.add_hline(\n",
    "        y=TARGET_CONTROL[level],\n",
    "        line_dash=\"dash\",\n",
    "        line_color=color_map[level],\n",
    "        showlegend=True,\n",
    "        name=level.replace(\"_\", \" \") + \" target\"\n",
    "    )\n",
    "\n",
    "fig.update_xaxes(title_text=\"Year\")\n",
    "fig.update_yaxes(title_text=\"Proportion of Time Spent in Asthma Control Level\", range=[0, 1])\n",
    "fig.update_layout(\n",
    "    legend_title_text=\"Control Level\",\n",
    "    title_x=0.5,\n",
    "    title_y=0.95\n",
    ")\n",
    "fig.show(config=config)"
   ]
  },
  {
   "cell_type": "markdown",
   "id": "eb2bbbeb",
   "metadata": {},
   "source": [
    "## Asthma Exacerbation Severity Figure\n",
    "\n",
    "Simulated (solid) and target (dotted) asthma exacerbation severity levels:\n",
    "\n",
    "1. <span style=\"color: blue;\">blue: mild</span>\n",
    "2. <span style=\"color: green;\">green: moderate</span>\n",
    "3. <span style=\"color: orange;\">orange: severe</span>\n",
    "4. <span style=\"color: red;\">red: very severe</span>"
   ]
  },
  {
   "cell_type": "markdown",
   "id": "de7a662b",
   "metadata": {},
   "source": [
    "### Load Data"
   ]
  },
  {
   "cell_type": "code",
   "execution_count": 20,
   "id": "570d2180",
   "metadata": {},
   "outputs": [],
   "source": [
    "# Read in simulation control data\n",
    "df_model_exac_severity = pd.read_csv(\n",
    "    RUN_BUNDLE_FOLDER / \"outcome_matrix_exacerbation_by_severity.csv\"\n",
    ")"
   ]
  },
  {
   "cell_type": "markdown",
   "id": "46b57f3a",
   "metadata": {},
   "source": [
    "### Process Data"
   ]
  },
  {
   "cell_type": "code",
   "execution_count": 21,
   "id": "44d56050",
   "metadata": {},
   "outputs": [],
   "source": [
    "# Validation parameters\n",
    "TARGET_EXAC_SEVERITY = {\n",
    "    \"mild\": 0.495,\n",
    "    \"moderate\": 0.195,\n",
    "    \"severe\": 0.283,\n",
    "    \"very_severe\": 0.026\n",
    "}\n",
    "\n",
    "categories = [\"mild\", \"moderate\", \"severe\", \"very_severe\"]\n",
    "\n",
    "df_model_exac_severity = df_model_exac_severity.groupby([\"year\", \"severity\"])\n",
    "\n",
    "# Sum over the probabilities for each exacerbation severity and year\n",
    "df_model_exac_severity = df_model_exac_severity.aggregate({\n",
    "    \"p_exacerbations\": \"sum\"\n",
    "}).reset_index().pivot(index=\"year\", columns=\"severity\", values=\"p_exacerbations\").rename(\n",
    "    columns={0: \"mild\", 1: \"moderate\", 2: \"severe\", 3: \"very_severe\"}\n",
    ").reset_index().rename_axis(None, axis=1)\n",
    "\n",
    "# Normalize by year\n",
    "df_model_exac_severity[\"total\"] = df_model_exac_severity.apply(\n",
    "    lambda x: x[\"mild\"] + x[\"moderate\"] + x[\"severe\"] + x[\"very_severe\"], axis=1\n",
    ")\n",
    "\n",
    "for severity in categories:\n",
    "    df_model_exac_severity[severity] /= df_model_exac_severity[\"total\"]\n",
    "\n",
    "# Melt the DataFrame to long format for plotting\n",
    "df_model_exac_severity = df_model_exac_severity.melt(\n",
    "    id_vars=[\"year\"],\n",
    "    value_vars=categories,\n",
    "    var_name=\"severity\",\n",
    "    value_name=\"p_exacerbation\"\n",
    ")\n",
    "    "
   ]
  },
  {
   "cell_type": "markdown",
   "id": "b2b6ac17",
   "metadata": {},
   "source": [
    "### Visualize Data"
   ]
  },
  {
   "cell_type": "code",
   "execution_count": 22,
   "id": "982d58cd",
   "metadata": {},
   "outputs": [
    {
     "data": {
      "application/vnd.plotly.v1+json": {
       "config": {
        "plotlyServerURL": "https://plot.ly",
        "toImageButtonOptions": {
         "format": "png",
         "height": 600,
         "scale": 2,
         "width": 1000
        }
       },
       "data": [
        {
         "hovertemplate": "severity=mild<br>year=%{x}<br>p_exacerbation=%{y}<extra></extra>",
         "legendgroup": "mild",
         "line": {
          "color": "blue",
          "dash": "solid"
         },
         "marker": {
          "symbol": "circle"
         },
         "mode": "lines",
         "name": "mild model",
         "orientation": "v",
         "showlegend": true,
         "type": "scatter",
         "x": {
          "bdata": "0QfSB9MH1AfVB9YH1wfYB9kH2gfbB9wH3QfeB98H4AfhB+IH4wfkB+UH5gfnB+gH6QfqB+sH7AftB+4H",
          "dtype": "i2"
         },
         "xaxis": "x",
         "y": {
          "bdata": "9gn2CfYJ4D9yxndZBJjfP7nHK+vQjt8/3G7IvQJY3z/rl8fR+yTfPxofIBpWYd8/48Gkgbm93z8N95sYU3zfPxcsxR7YQt8/Z2Upgqj83z/GpgmhTgPfP6DQ++UBeN8/wHhCeqRc3z/lbv+5uhTgP/MTvGqhlN8/mJP9D0ul3z9lUM9vUKHfPyBx+t5KNd8/MPZ+DqQN3z86Kibl1NDfP0AG+UObrN8/4ju/m9IX3z8oF8Czi8jfPwz0/MJAz98/An+R0bY33z+SbU21SOjfP1yevxRkiN8/7+yqTpYh3z/gJJ30HIDfP0kcexd7jt8/",
          "dtype": "f8"
         },
         "yaxis": "y"
        },
        {
         "hovertemplate": "severity=moderate<br>year=%{x}<br>p_exacerbation=%{y}<extra></extra>",
         "legendgroup": "moderate",
         "line": {
          "color": "green",
          "dash": "solid"
         },
         "marker": {
          "symbol": "circle"
         },
         "mode": "lines",
         "name": "moderate model",
         "orientation": "v",
         "showlegend": true,
         "type": "scatter",
         "x": {
          "bdata": "0QfSB9MH1AfVB9YH1wfYB9kH2gfbB9wH3QfeB98H4AfhB+IH4wfkB+UH5gfnB+gH6QfqB+sH7AftB+4H",
          "dtype": "i2"
         },
         "xaxis": "x",
         "y": {
          "bdata": "iHeId4h3yD9gdNSrps7IP3Yg+y3vhcg/0B5Yd+k7yT8Xgm0wP2TJP9uuBWuDPsk/BH4Yl/BKyD/fhhoN95vIP0RLzwBkPsk/yAOrhDCNyD8Zh4mlNrHJP2VOynqMsMg/gGdHIXM7yD/UoZHB4ejIPzU/wasWSsk/mI7O+o8OyT9PTQSVBRrIP5Fr2SmACMo/TwiM35IHyj+Z4nSZ4nTJP01pculGNck/MV8tpanPyD+xPK9aIvzIP+GxhxMee8g/EG7BVCtOyT8YfTNId5rIP19vVdhtqMg/uArsgW5iyT8Z+yrCu0LJP99c9DNQuck/",
          "dtype": "f8"
         },
         "yaxis": "y"
        },
        {
         "hovertemplate": "severity=severe<br>year=%{x}<br>p_exacerbation=%{y}<extra></extra>",
         "legendgroup": "severe",
         "line": {
          "color": "darkorange",
          "dash": "solid"
         },
         "marker": {
          "symbol": "circle"
         },
         "mode": "lines",
         "name": "severe model",
         "orientation": "v",
         "showlegend": true,
         "type": "scatter",
         "x": {
          "bdata": "0QfSB9MH1AfVB9YH1wfYB9kH2gfbB9wH3QfeB98H4AfhB+IH4wfkB+UH5gfnB+gH6QfqB+sH7AftB+4H",
          "dtype": "i2"
         },
         "xaxis": "x",
         "y": {
          "bdata": "Kh9zsZf60T9UnlqnlGXSP6Oru4+2WNI/sU3sCIES0j+LC2gtEnLSP1LOp4HdNdI/pyySE7pf0j8lK1nJSlbSP+PRQMUoK9I/jCLKcojb0T8+GWocaz3SP7hL/hxAbNI/TZtuFXG20j+ZT2bbV2LRP9n07B0aINI/WbVVMaj10T+DL5h01GzSPyMbg6HO+NE/rz/csRA60j/isKThsKTRP7IpMLa+49E/X1OrDjKs0j/jqY17OM7RP3cjInc3ItI/cqMdUTxU0j+CyQaGXBTSP5rKWLuWXtI/KyZpbBhL0j9Sq2AqGvfRPzq/LNBr8NE/",
          "dtype": "f8"
         },
         "yaxis": "y"
        },
        {
         "hovertemplate": "severity=very_severe<br>year=%{x}<br>p_exacerbation=%{y}<extra></extra>",
         "legendgroup": "very_severe",
         "line": {
          "color": "red",
          "dash": "solid"
         },
         "marker": {
          "symbol": "circle"
         },
         "mode": "lines",
         "name": "very severe model",
         "orientation": "v",
         "showlegend": true,
         "type": "scatter",
         "x": {
          "bdata": "0QfSB9MH1AfVB9YH1wfYB9kH2gfbB9wH3QfeB98H4AfhB+IH4wfkB+UH5gfnB+gH6QfqB+sH7AftB+4H",
          "dtype": "i2"
         },
         "xaxis": "x",
         "y": {
          "bdata": "WxLJ7X9bmz+qEDaUOrGZP5LGr+EOWJ0/tkDz2Xd4nz/ot5mJJm2bP3KyU+uqmJw/RifN80HRmz/fpdl3afadP0TGJbnRLJ8/mmJvi2wTnj/yxnf8rmqeP0/HC/p7N5w/KIOz+g3znD81GyD9HPyfP5t5ZReSY5o/LPxWFEzcnT8Il2URhU2eP07fW6lm2pw/nF/s/RxImz9yOavHjgCdP3G22REpUJ0/bRLsL2hCnT/KCao1qrKeP7z40MGLD50/RGgCL3PPnD8DpiAJ8mGbP6D1zTvkTJw/mnheP6Ahnj8eJMv+r3aeP9Vg3+UPR5o/",
          "dtype": "f8"
         },
         "yaxis": "y"
        }
       ],
       "layout": {
        "legend": {
         "title": {
          "text": "Exacerbation Severity"
         },
         "tracegroupgap": 0
        },
        "shapes": [
         {
          "line": {
           "color": "blue",
           "dash": "dash"
          },
          "name": "mild target",
          "showlegend": true,
          "type": "line",
          "x0": 0,
          "x1": 1,
          "xref": "x domain",
          "y0": 0.495,
          "y1": 0.495,
          "yref": "y"
         },
         {
          "line": {
           "color": "green",
           "dash": "dash"
          },
          "name": "moderate target",
          "showlegend": true,
          "type": "line",
          "x0": 0,
          "x1": 1,
          "xref": "x domain",
          "y0": 0.195,
          "y1": 0.195,
          "yref": "y"
         },
         {
          "line": {
           "color": "darkorange",
           "dash": "dash"
          },
          "name": "severe target",
          "showlegend": true,
          "type": "line",
          "x0": 0,
          "x1": 1,
          "xref": "x domain",
          "y0": 0.283,
          "y1": 0.283,
          "yref": "y"
         },
         {
          "line": {
           "color": "red",
           "dash": "dash"
          },
          "name": "very severe target",
          "showlegend": true,
          "type": "line",
          "x0": 0,
          "x1": 1,
          "xref": "x domain",
          "y0": 0.026,
          "y1": 0.026,
          "yref": "y"
         }
        ],
        "template": {
         "data": {
          "bar": [
           {
            "error_x": {
             "color": "#2a3f5f"
            },
            "error_y": {
             "color": "#2a3f5f"
            },
            "marker": {
             "line": {
              "color": "white",
              "width": 0.5
             },
             "pattern": {
              "fillmode": "overlay",
              "size": 10,
              "solidity": 0.2
             }
            },
            "type": "bar"
           }
          ],
          "barpolar": [
           {
            "marker": {
             "line": {
              "color": "white",
              "width": 0.5
             },
             "pattern": {
              "fillmode": "overlay",
              "size": 10,
              "solidity": 0.2
             }
            },
            "type": "barpolar"
           }
          ],
          "carpet": [
           {
            "aaxis": {
             "endlinecolor": "#2a3f5f",
             "gridcolor": "#C8D4E3",
             "linecolor": "#C8D4E3",
             "minorgridcolor": "#C8D4E3",
             "startlinecolor": "#2a3f5f"
            },
            "baxis": {
             "endlinecolor": "#2a3f5f",
             "gridcolor": "#C8D4E3",
             "linecolor": "#C8D4E3",
             "minorgridcolor": "#C8D4E3",
             "startlinecolor": "#2a3f5f"
            },
            "type": "carpet"
           }
          ],
          "choropleth": [
           {
            "colorbar": {
             "outlinewidth": 0,
             "ticks": ""
            },
            "type": "choropleth"
           }
          ],
          "contour": [
           {
            "colorbar": {
             "outlinewidth": 0,
             "ticks": ""
            },
            "colorscale": [
             [
              0,
              "#0d0887"
             ],
             [
              0.1111111111111111,
              "#46039f"
             ],
             [
              0.2222222222222222,
              "#7201a8"
             ],
             [
              0.3333333333333333,
              "#9c179e"
             ],
             [
              0.4444444444444444,
              "#bd3786"
             ],
             [
              0.5555555555555556,
              "#d8576b"
             ],
             [
              0.6666666666666666,
              "#ed7953"
             ],
             [
              0.7777777777777778,
              "#fb9f3a"
             ],
             [
              0.8888888888888888,
              "#fdca26"
             ],
             [
              1,
              "#f0f921"
             ]
            ],
            "type": "contour"
           }
          ],
          "contourcarpet": [
           {
            "colorbar": {
             "outlinewidth": 0,
             "ticks": ""
            },
            "type": "contourcarpet"
           }
          ],
          "heatmap": [
           {
            "colorbar": {
             "outlinewidth": 0,
             "ticks": ""
            },
            "colorscale": [
             [
              0,
              "#0d0887"
             ],
             [
              0.1111111111111111,
              "#46039f"
             ],
             [
              0.2222222222222222,
              "#7201a8"
             ],
             [
              0.3333333333333333,
              "#9c179e"
             ],
             [
              0.4444444444444444,
              "#bd3786"
             ],
             [
              0.5555555555555556,
              "#d8576b"
             ],
             [
              0.6666666666666666,
              "#ed7953"
             ],
             [
              0.7777777777777778,
              "#fb9f3a"
             ],
             [
              0.8888888888888888,
              "#fdca26"
             ],
             [
              1,
              "#f0f921"
             ]
            ],
            "type": "heatmap"
           }
          ],
          "histogram": [
           {
            "marker": {
             "pattern": {
              "fillmode": "overlay",
              "size": 10,
              "solidity": 0.2
             }
            },
            "type": "histogram"
           }
          ],
          "histogram2d": [
           {
            "colorbar": {
             "outlinewidth": 0,
             "ticks": ""
            },
            "colorscale": [
             [
              0,
              "#0d0887"
             ],
             [
              0.1111111111111111,
              "#46039f"
             ],
             [
              0.2222222222222222,
              "#7201a8"
             ],
             [
              0.3333333333333333,
              "#9c179e"
             ],
             [
              0.4444444444444444,
              "#bd3786"
             ],
             [
              0.5555555555555556,
              "#d8576b"
             ],
             [
              0.6666666666666666,
              "#ed7953"
             ],
             [
              0.7777777777777778,
              "#fb9f3a"
             ],
             [
              0.8888888888888888,
              "#fdca26"
             ],
             [
              1,
              "#f0f921"
             ]
            ],
            "type": "histogram2d"
           }
          ],
          "histogram2dcontour": [
           {
            "colorbar": {
             "outlinewidth": 0,
             "ticks": ""
            },
            "colorscale": [
             [
              0,
              "#0d0887"
             ],
             [
              0.1111111111111111,
              "#46039f"
             ],
             [
              0.2222222222222222,
              "#7201a8"
             ],
             [
              0.3333333333333333,
              "#9c179e"
             ],
             [
              0.4444444444444444,
              "#bd3786"
             ],
             [
              0.5555555555555556,
              "#d8576b"
             ],
             [
              0.6666666666666666,
              "#ed7953"
             ],
             [
              0.7777777777777778,
              "#fb9f3a"
             ],
             [
              0.8888888888888888,
              "#fdca26"
             ],
             [
              1,
              "#f0f921"
             ]
            ],
            "type": "histogram2dcontour"
           }
          ],
          "mesh3d": [
           {
            "colorbar": {
             "outlinewidth": 0,
             "ticks": ""
            },
            "type": "mesh3d"
           }
          ],
          "parcoords": [
           {
            "line": {
             "colorbar": {
              "outlinewidth": 0,
              "ticks": ""
             }
            },
            "type": "parcoords"
           }
          ],
          "pie": [
           {
            "automargin": true,
            "type": "pie"
           }
          ],
          "scatter": [
           {
            "fillpattern": {
             "fillmode": "overlay",
             "size": 10,
             "solidity": 0.2
            },
            "type": "scatter"
           }
          ],
          "scatter3d": [
           {
            "line": {
             "colorbar": {
              "outlinewidth": 0,
              "ticks": ""
             }
            },
            "marker": {
             "colorbar": {
              "outlinewidth": 0,
              "ticks": ""
             }
            },
            "type": "scatter3d"
           }
          ],
          "scattercarpet": [
           {
            "marker": {
             "colorbar": {
              "outlinewidth": 0,
              "ticks": ""
             }
            },
            "type": "scattercarpet"
           }
          ],
          "scattergeo": [
           {
            "marker": {
             "colorbar": {
              "outlinewidth": 0,
              "ticks": ""
             }
            },
            "type": "scattergeo"
           }
          ],
          "scattergl": [
           {
            "marker": {
             "colorbar": {
              "outlinewidth": 0,
              "ticks": ""
             }
            },
            "type": "scattergl"
           }
          ],
          "scattermap": [
           {
            "marker": {
             "colorbar": {
              "outlinewidth": 0,
              "ticks": ""
             }
            },
            "type": "scattermap"
           }
          ],
          "scattermapbox": [
           {
            "marker": {
             "colorbar": {
              "outlinewidth": 0,
              "ticks": ""
             }
            },
            "type": "scattermapbox"
           }
          ],
          "scatterpolar": [
           {
            "marker": {
             "colorbar": {
              "outlinewidth": 0,
              "ticks": ""
             }
            },
            "type": "scatterpolar"
           }
          ],
          "scatterpolargl": [
           {
            "marker": {
             "colorbar": {
              "outlinewidth": 0,
              "ticks": ""
             }
            },
            "type": "scatterpolargl"
           }
          ],
          "scatterternary": [
           {
            "marker": {
             "colorbar": {
              "outlinewidth": 0,
              "ticks": ""
             }
            },
            "type": "scatterternary"
           }
          ],
          "surface": [
           {
            "colorbar": {
             "outlinewidth": 0,
             "ticks": ""
            },
            "colorscale": [
             [
              0,
              "#0d0887"
             ],
             [
              0.1111111111111111,
              "#46039f"
             ],
             [
              0.2222222222222222,
              "#7201a8"
             ],
             [
              0.3333333333333333,
              "#9c179e"
             ],
             [
              0.4444444444444444,
              "#bd3786"
             ],
             [
              0.5555555555555556,
              "#d8576b"
             ],
             [
              0.6666666666666666,
              "#ed7953"
             ],
             [
              0.7777777777777778,
              "#fb9f3a"
             ],
             [
              0.8888888888888888,
              "#fdca26"
             ],
             [
              1,
              "#f0f921"
             ]
            ],
            "type": "surface"
           }
          ],
          "table": [
           {
            "cells": {
             "fill": {
              "color": "#EBF0F8"
             },
             "line": {
              "color": "white"
             }
            },
            "header": {
             "fill": {
              "color": "#C8D4E3"
             },
             "line": {
              "color": "white"
             }
            },
            "type": "table"
           }
          ]
         },
         "layout": {
          "annotationdefaults": {
           "arrowcolor": "#2a3f5f",
           "arrowhead": 0,
           "arrowwidth": 1
          },
          "autotypenumbers": "strict",
          "coloraxis": {
           "colorbar": {
            "outlinewidth": 0,
            "ticks": ""
           }
          },
          "colorscale": {
           "diverging": [
            [
             0,
             "#8e0152"
            ],
            [
             0.1,
             "#c51b7d"
            ],
            [
             0.2,
             "#de77ae"
            ],
            [
             0.3,
             "#f1b6da"
            ],
            [
             0.4,
             "#fde0ef"
            ],
            [
             0.5,
             "#f7f7f7"
            ],
            [
             0.6,
             "#e6f5d0"
            ],
            [
             0.7,
             "#b8e186"
            ],
            [
             0.8,
             "#7fbc41"
            ],
            [
             0.9,
             "#4d9221"
            ],
            [
             1,
             "#276419"
            ]
           ],
           "sequential": [
            [
             0,
             "#0d0887"
            ],
            [
             0.1111111111111111,
             "#46039f"
            ],
            [
             0.2222222222222222,
             "#7201a8"
            ],
            [
             0.3333333333333333,
             "#9c179e"
            ],
            [
             0.4444444444444444,
             "#bd3786"
            ],
            [
             0.5555555555555556,
             "#d8576b"
            ],
            [
             0.6666666666666666,
             "#ed7953"
            ],
            [
             0.7777777777777778,
             "#fb9f3a"
            ],
            [
             0.8888888888888888,
             "#fdca26"
            ],
            [
             1,
             "#f0f921"
            ]
           ],
           "sequentialminus": [
            [
             0,
             "#0d0887"
            ],
            [
             0.1111111111111111,
             "#46039f"
            ],
            [
             0.2222222222222222,
             "#7201a8"
            ],
            [
             0.3333333333333333,
             "#9c179e"
            ],
            [
             0.4444444444444444,
             "#bd3786"
            ],
            [
             0.5555555555555556,
             "#d8576b"
            ],
            [
             0.6666666666666666,
             "#ed7953"
            ],
            [
             0.7777777777777778,
             "#fb9f3a"
            ],
            [
             0.8888888888888888,
             "#fdca26"
            ],
            [
             1,
             "#f0f921"
            ]
           ]
          },
          "colorway": [
           "#636efa",
           "#EF553B",
           "#00cc96",
           "#ab63fa",
           "#FFA15A",
           "#19d3f3",
           "#FF6692",
           "#B6E880",
           "#FF97FF",
           "#FECB52"
          ],
          "font": {
           "color": "#2a3f5f"
          },
          "geo": {
           "bgcolor": "white",
           "lakecolor": "white",
           "landcolor": "white",
           "showlakes": true,
           "showland": true,
           "subunitcolor": "#C8D4E3"
          },
          "hoverlabel": {
           "align": "left"
          },
          "hovermode": "closest",
          "mapbox": {
           "style": "light"
          },
          "paper_bgcolor": "white",
          "plot_bgcolor": "white",
          "polar": {
           "angularaxis": {
            "gridcolor": "#EBF0F8",
            "linecolor": "#EBF0F8",
            "ticks": ""
           },
           "bgcolor": "white",
           "radialaxis": {
            "gridcolor": "#EBF0F8",
            "linecolor": "#EBF0F8",
            "ticks": ""
           }
          },
          "scene": {
           "xaxis": {
            "backgroundcolor": "white",
            "gridcolor": "#DFE8F3",
            "gridwidth": 2,
            "linecolor": "#EBF0F8",
            "showbackground": true,
            "ticks": "",
            "zerolinecolor": "#EBF0F8"
           },
           "yaxis": {
            "backgroundcolor": "white",
            "gridcolor": "#DFE8F3",
            "gridwidth": 2,
            "linecolor": "#EBF0F8",
            "showbackground": true,
            "ticks": "",
            "zerolinecolor": "#EBF0F8"
           },
           "zaxis": {
            "backgroundcolor": "white",
            "gridcolor": "#DFE8F3",
            "gridwidth": 2,
            "linecolor": "#EBF0F8",
            "showbackground": true,
            "ticks": "",
            "zerolinecolor": "#EBF0F8"
           }
          },
          "shapedefaults": {
           "line": {
            "color": "#2a3f5f"
           }
          },
          "ternary": {
           "aaxis": {
            "gridcolor": "#DFE8F3",
            "linecolor": "#A2B1C6",
            "ticks": ""
           },
           "baxis": {
            "gridcolor": "#DFE8F3",
            "linecolor": "#A2B1C6",
            "ticks": ""
           },
           "bgcolor": "white",
           "caxis": {
            "gridcolor": "#DFE8F3",
            "linecolor": "#A2B1C6",
            "ticks": ""
           }
          },
          "title": {
           "x": 0.05
          },
          "xaxis": {
           "automargin": true,
           "gridcolor": "#EBF0F8",
           "linecolor": "#EBF0F8",
           "ticks": "",
           "title": {
            "standoff": 15
           },
           "zerolinecolor": "#EBF0F8",
           "zerolinewidth": 2
          },
          "yaxis": {
           "automargin": true,
           "gridcolor": "#EBF0F8",
           "linecolor": "#EBF0F8",
           "ticks": "",
           "title": {
            "standoff": 15
           },
           "zerolinecolor": "#EBF0F8",
           "zerolinewidth": 2
          }
         }
        },
        "title": {
         "text": "Exacerbation Severity over Time",
         "x": 0.5,
         "y": 0.95
        },
        "xaxis": {
         "anchor": "y",
         "domain": [
          0,
          1
         ],
         "title": {
          "text": "Year"
         }
        },
        "yaxis": {
         "anchor": "x",
         "domain": [
          0,
          1
         ],
         "range": [
          0,
          1
         ],
         "title": {
          "text": "Proportion of Exacerbations by Severity"
         }
        }
       }
      }
     },
     "metadata": {},
     "output_type": "display_data"
    }
   ],
   "source": [
    "color_map={\n",
    "    \"mild\": \"blue\",\n",
    "    \"moderate\": \"green\",\n",
    "    \"severe\": \"darkorange\",\n",
    "    \"very_severe\": \"red\"\n",
    "}\n",
    "fig = px.line(\n",
    "    df_model_exac_severity,\n",
    "    x=\"year\",\n",
    "    y=\"p_exacerbation\",\n",
    "    color=\"severity\",\n",
    "    title=\"Exacerbation Severity over Time\",\n",
    "    color_discrete_map=color_map\n",
    ")\n",
    "\n",
    "fig.for_each_trace(lambda t: t.update(name=t.name.replace(\"_\", \" \") + \" model\"))\n",
    "for severity in categories:\n",
    "    fig.add_hline(\n",
    "        y=TARGET_EXAC_SEVERITY[severity],\n",
    "        line_dash=\"dash\",\n",
    "        line_color=color_map[severity],\n",
    "        showlegend=True,\n",
    "        name=severity.replace(\"_\", \" \") + \" target\"\n",
    "    )\n",
    "\n",
    "fig.update_xaxes(title_text=\"Year\")\n",
    "fig.update_yaxes(title_text=\"Proportion of Exacerbations by Severity\", range=[0, 1])\n",
    "fig.update_layout(\n",
    "    legend_title_text=\"Exacerbation Severity\",\n",
    "    title_x=0.5,\n",
    "    title_y=0.95\n",
    ")\n",
    "fig.show(config=config)"
   ]
  },
  {
   "cell_type": "markdown",
   "id": "ce9503c5",
   "metadata": {},
   "source": [
    "## Very Severe (Hospitalizations) Figure\n",
    "\n",
    "Comparison of simulated (grey solid) and target (black dotted) very severe asthma\n",
    "exacerbations (asthma-related hospital admissions) per `100 000` general population by sex (left:\n",
    "females; right: males) across years."
   ]
  },
  {
   "cell_type": "markdown",
   "id": "3ccece2a",
   "metadata": {},
   "source": [
    "### Load Data"
   ]
  },
  {
   "cell_type": "code",
   "execution_count": 54,
   "id": "074a1b6c",
   "metadata": {},
   "outputs": [],
   "source": [
    "# Load in hospitalization from target (CIHI)\n",
    "target_hosp_df_raw = pd.read_csv(\n",
    "    get_data_path(f\"original_data/asthma_hosp/{PROVINCE}/tab1_rate.csv\")\n",
    ")\n",
    "\n",
    "# Load hospitalization data from simulation\n",
    "model_hosp_df_raw = pd.read_csv(RUN_BUNDLE_FOLDER / \"outcome_matrix_exacerbation_hospital.csv\")"
   ]
  },
  {
   "cell_type": "markdown",
   "id": "001a8ce4",
   "metadata": {},
   "source": [
    "### Process Data"
   ]
  },
  {
   "cell_type": "code",
   "execution_count": 55,
   "id": "82294b35",
   "metadata": {},
   "outputs": [],
   "source": [
    "target_hosp_df = target_hosp_df_raw[[\"fiscal_year\", \"F\", \"M\"]]\n",
    "\n",
    "# Rename fiscal_year to match model\n",
    "target_hosp_df = target_hosp_df.rename(columns={\"fiscal_year\": \"year\"})\n",
    "\n",
    "# Filter fo years larger than starting year\n",
    "target_hosp_df = target_hosp_df[target_hosp_df[\"year\"] >= STARTING_YEAR]\n",
    "\n",
    "# Melt DF to combine M and F columns into sex column\n",
    "target_hosp_df = target_hosp_df.melt(id_vars='year', var_name='sex', value_name='rate')\n",
    "\n",
    "# Drop missing or non-positive rows\n",
    "target_hosp_df = target_hosp_df.dropna(subset=[\"rate\"])\n",
    "\n",
    "# Get total population in model for current year, age, sex\n",
    "model_hosp_df = model_hosp_df_raw.merge(model_alive_df_raw, on=[\"year\", \"age\", \"sex\"])\n",
    "\n",
    "# Group columns to get some\n",
    "model_hosp_df = model_hosp_df.groupby([\"year\", \"sex\"]).sum().reset_index()\n",
    "\n",
    "# Compute rate per 100,000\n",
    "model_hosp_df[\"h_rate\"] = model_hosp_df[\"n_hospitalizations\"] / model_hosp_df[\"n_alive\"] * 100000"
   ]
  },
  {
   "cell_type": "markdown",
   "id": "0598e1b6",
   "metadata": {},
   "source": [
    "### Visualize Data"
   ]
  },
  {
   "cell_type": "code",
   "execution_count": 57,
   "id": "57ddb3f1",
   "metadata": {},
   "outputs": [
    {
     "data": {
      "application/vnd.plotly.v1+json": {
       "config": {
        "plotlyServerURL": "https://plot.ly",
        "toImageButtonOptions": {
         "format": "png",
         "height": 600,
         "scale": 2,
         "width": 1000
        }
       },
       "data": [
        {
         "hovertemplate": "sex=F<br>year=%{x}<br>Rate of hospitalizations per 100 000=%{y}<extra></extra>",
         "legendgroup": "",
         "line": {
          "color": "#999999",
          "dash": "solid"
         },
         "marker": {
          "symbol": "circle"
         },
         "mode": "lines",
         "name": "model",
         "orientation": "v",
         "showlegend": true,
         "type": "scatter",
         "x": {
          "bdata": "0QfSB9MH1AfVB9YH1wfYB9kH2gfbB9wH3QfeB98H4AfhB+IH4wfkB+UH5gfnB+gH6QfqB+sH7AftB+4H",
          "dtype": "i2"
         },
         "xaxis": "x",
         "y": {
          "bdata": "qUOkaKqWWEDqiTNTSaNPQBWcNlybBVFAZ5eAYi7GT0D9PJXygKdQQE835Q3K1EhATOdOO+UYRkA8ssvQ/LBDQHBMSeu0fEZAEk2cCklaQ0ABQb4+9gNCQICbJSphW0FA7nfh1xV3QUCGm6nTvq5CQFeSl4VKHj5AjqAB8hHMQUAO7RwmncJCQCbAaNLtGEFA5kIqMOONQUDXbHdGafQ/QEypFDiYeEBA/1gcgzmpQUCIKjlszpFCQIuk5H9EIUFAkBsTFyOfQEBn4qm7tHNAQHjUS6xKLUFA3Yu3bpRTQUC9K6T387FDQMlxB1xOD0BA",
          "dtype": "f8"
         },
         "yaxis": "y"
        },
        {
         "hovertemplate": "sex=M<br>year=%{x}<br>Rate of hospitalizations per 100 000=%{y}<extra></extra>",
         "legendgroup": "",
         "line": {
          "color": "#999999",
          "dash": "solid"
         },
         "marker": {
          "symbol": "circle"
         },
         "mode": "lines",
         "name": "",
         "orientation": "v",
         "showlegend": false,
         "type": "scatter",
         "x": {
          "bdata": "0QfSB9MH1AfVB9YH1wfYB9kH2gfbB9wH3QfeB98H4AfhB+IH4wfkB+UH5gfnB+gH6QfqB+sH7AftB+4H",
          "dtype": "i2"
         },
         "xaxis": "x2",
         "y": {
          "bdata": "LA32LjJXUEAfGeQ7Yt9FQIWM72FkbEhAknrxHUimS0DWYOlHtKVHQKwg1O2YMUNA2NWXyZRKPUB7BVCavZtBQIUsRBPwoD5Abeyxt1lDP0AugXu2HwM9QCseQtnrhTtAFhuOudtdPEA5NN2dlC5CQOgf/5g5vjdArFsGUMWIO0BfOD1a3r47QDj/O9w8xzxA3wezoDjAN0DaQReTHGA/QFWm4tRgrz9A6m6YLqT4O0ASYnWLQhk/QMbjGog7FjxAvDcYIQrRPEArQCRoUbg4QEHuyKG39jlAONb96VTXO0DK6N7fEgE5QHuEmtJiLjdA",
          "dtype": "f8"
         },
         "yaxis": "y2"
        },
        {
         "hovertemplate": "sex=F<br>year=%{x}<br>rate=%{y}<extra></extra>",
         "legendgroup": "",
         "line": {
          "color": "black",
          "dash": "dash"
         },
         "marker": {
          "symbol": "circle"
         },
         "mode": "lines",
         "name": "target",
         "orientation": "v",
         "showlegend": true,
         "type": "scatter",
         "x": {
          "bdata": "0QfSB9MH1AfVB9YH1wfYB9kH2gfbB9wH3QfeB98H4AfhBw==",
          "dtype": "i2"
         },
         "xaxis": "x",
         "y": {
          "bdata": "gVVjK+LYXUAR4DTXL7tTQJJi46AxBVNAZNv7Ff4RUkB26yzLTxtTQAml5rCN8kxAfxRUZzGiR0DwBoaHMcBGQK8SEKldxERARtvrYPdBQ0Ahc2FUc9ZBQCEralG8k0FA07471gLKQEDJLmsD2uFBQAWQ0cx4R0BAma1Zq4UjQEBTNAkYIQZBQA==",
          "dtype": "f8"
         },
         "yaxis": "y"
        },
        {
         "hovertemplate": "sex=M<br>year=%{x}<br>rate=%{y}<extra></extra>",
         "legendgroup": "",
         "line": {
          "color": "black",
          "dash": "dash"
         },
         "marker": {
          "symbol": "circle"
         },
         "mode": "lines",
         "name": "",
         "orientation": "v",
         "showlegend": false,
         "type": "scatter",
         "x": {
          "bdata": "0QfSB9MH1AfVB9YH1wfYB9kH2gfbB9wH3QfeB98H4AfhBw==",
          "dtype": "i2"
         },
         "xaxis": "x2",
         "y": {
          "bdata": "kPVNJDQSWkCPR1b/b/FTQBL3OmTzVVJAldIPXtohUkBKwZYfPuVTQO3WAA5CXU1AHr2zYDX0R0A9nF+AaxNHQDI2cK+rtkNAULru2uISQ0AiiRJUvdpAQIL1dpYWl0BAhAs4BvasPkBrASCwantAQKoavDDJKzxAFV/x7O2aPkDkETiaelY/QA==",
          "dtype": "f8"
         },
         "yaxis": "y2"
        }
       ],
       "layout": {
        "annotations": [
         {
          "font": {},
          "showarrow": false,
          "text": "sex=F",
          "x": 0.245,
          "xanchor": "center",
          "xref": "paper",
          "y": 1,
          "yanchor": "bottom",
          "yref": "paper"
         },
         {
          "font": {},
          "showarrow": false,
          "text": "sex=M",
          "x": 0.755,
          "xanchor": "center",
          "xref": "paper",
          "y": 1,
          "yanchor": "bottom",
          "yref": "paper"
         }
        ],
        "legend": {
         "title": {
          "text": ""
         },
         "tracegroupgap": 0
        },
        "showlegend": true,
        "template": {
         "data": {
          "bar": [
           {
            "error_x": {
             "color": "#2a3f5f"
            },
            "error_y": {
             "color": "#2a3f5f"
            },
            "marker": {
             "line": {
              "color": "white",
              "width": 0.5
             },
             "pattern": {
              "fillmode": "overlay",
              "size": 10,
              "solidity": 0.2
             }
            },
            "type": "bar"
           }
          ],
          "barpolar": [
           {
            "marker": {
             "line": {
              "color": "white",
              "width": 0.5
             },
             "pattern": {
              "fillmode": "overlay",
              "size": 10,
              "solidity": 0.2
             }
            },
            "type": "barpolar"
           }
          ],
          "carpet": [
           {
            "aaxis": {
             "endlinecolor": "#2a3f5f",
             "gridcolor": "#C8D4E3",
             "linecolor": "#C8D4E3",
             "minorgridcolor": "#C8D4E3",
             "startlinecolor": "#2a3f5f"
            },
            "baxis": {
             "endlinecolor": "#2a3f5f",
             "gridcolor": "#C8D4E3",
             "linecolor": "#C8D4E3",
             "minorgridcolor": "#C8D4E3",
             "startlinecolor": "#2a3f5f"
            },
            "type": "carpet"
           }
          ],
          "choropleth": [
           {
            "colorbar": {
             "outlinewidth": 0,
             "ticks": ""
            },
            "type": "choropleth"
           }
          ],
          "contour": [
           {
            "colorbar": {
             "outlinewidth": 0,
             "ticks": ""
            },
            "colorscale": [
             [
              0,
              "#0d0887"
             ],
             [
              0.1111111111111111,
              "#46039f"
             ],
             [
              0.2222222222222222,
              "#7201a8"
             ],
             [
              0.3333333333333333,
              "#9c179e"
             ],
             [
              0.4444444444444444,
              "#bd3786"
             ],
             [
              0.5555555555555556,
              "#d8576b"
             ],
             [
              0.6666666666666666,
              "#ed7953"
             ],
             [
              0.7777777777777778,
              "#fb9f3a"
             ],
             [
              0.8888888888888888,
              "#fdca26"
             ],
             [
              1,
              "#f0f921"
             ]
            ],
            "type": "contour"
           }
          ],
          "contourcarpet": [
           {
            "colorbar": {
             "outlinewidth": 0,
             "ticks": ""
            },
            "type": "contourcarpet"
           }
          ],
          "heatmap": [
           {
            "colorbar": {
             "outlinewidth": 0,
             "ticks": ""
            },
            "colorscale": [
             [
              0,
              "#0d0887"
             ],
             [
              0.1111111111111111,
              "#46039f"
             ],
             [
              0.2222222222222222,
              "#7201a8"
             ],
             [
              0.3333333333333333,
              "#9c179e"
             ],
             [
              0.4444444444444444,
              "#bd3786"
             ],
             [
              0.5555555555555556,
              "#d8576b"
             ],
             [
              0.6666666666666666,
              "#ed7953"
             ],
             [
              0.7777777777777778,
              "#fb9f3a"
             ],
             [
              0.8888888888888888,
              "#fdca26"
             ],
             [
              1,
              "#f0f921"
             ]
            ],
            "type": "heatmap"
           }
          ],
          "histogram": [
           {
            "marker": {
             "pattern": {
              "fillmode": "overlay",
              "size": 10,
              "solidity": 0.2
             }
            },
            "type": "histogram"
           }
          ],
          "histogram2d": [
           {
            "colorbar": {
             "outlinewidth": 0,
             "ticks": ""
            },
            "colorscale": [
             [
              0,
              "#0d0887"
             ],
             [
              0.1111111111111111,
              "#46039f"
             ],
             [
              0.2222222222222222,
              "#7201a8"
             ],
             [
              0.3333333333333333,
              "#9c179e"
             ],
             [
              0.4444444444444444,
              "#bd3786"
             ],
             [
              0.5555555555555556,
              "#d8576b"
             ],
             [
              0.6666666666666666,
              "#ed7953"
             ],
             [
              0.7777777777777778,
              "#fb9f3a"
             ],
             [
              0.8888888888888888,
              "#fdca26"
             ],
             [
              1,
              "#f0f921"
             ]
            ],
            "type": "histogram2d"
           }
          ],
          "histogram2dcontour": [
           {
            "colorbar": {
             "outlinewidth": 0,
             "ticks": ""
            },
            "colorscale": [
             [
              0,
              "#0d0887"
             ],
             [
              0.1111111111111111,
              "#46039f"
             ],
             [
              0.2222222222222222,
              "#7201a8"
             ],
             [
              0.3333333333333333,
              "#9c179e"
             ],
             [
              0.4444444444444444,
              "#bd3786"
             ],
             [
              0.5555555555555556,
              "#d8576b"
             ],
             [
              0.6666666666666666,
              "#ed7953"
             ],
             [
              0.7777777777777778,
              "#fb9f3a"
             ],
             [
              0.8888888888888888,
              "#fdca26"
             ],
             [
              1,
              "#f0f921"
             ]
            ],
            "type": "histogram2dcontour"
           }
          ],
          "mesh3d": [
           {
            "colorbar": {
             "outlinewidth": 0,
             "ticks": ""
            },
            "type": "mesh3d"
           }
          ],
          "parcoords": [
           {
            "line": {
             "colorbar": {
              "outlinewidth": 0,
              "ticks": ""
             }
            },
            "type": "parcoords"
           }
          ],
          "pie": [
           {
            "automargin": true,
            "type": "pie"
           }
          ],
          "scatter": [
           {
            "fillpattern": {
             "fillmode": "overlay",
             "size": 10,
             "solidity": 0.2
            },
            "type": "scatter"
           }
          ],
          "scatter3d": [
           {
            "line": {
             "colorbar": {
              "outlinewidth": 0,
              "ticks": ""
             }
            },
            "marker": {
             "colorbar": {
              "outlinewidth": 0,
              "ticks": ""
             }
            },
            "type": "scatter3d"
           }
          ],
          "scattercarpet": [
           {
            "marker": {
             "colorbar": {
              "outlinewidth": 0,
              "ticks": ""
             }
            },
            "type": "scattercarpet"
           }
          ],
          "scattergeo": [
           {
            "marker": {
             "colorbar": {
              "outlinewidth": 0,
              "ticks": ""
             }
            },
            "type": "scattergeo"
           }
          ],
          "scattergl": [
           {
            "marker": {
             "colorbar": {
              "outlinewidth": 0,
              "ticks": ""
             }
            },
            "type": "scattergl"
           }
          ],
          "scattermap": [
           {
            "marker": {
             "colorbar": {
              "outlinewidth": 0,
              "ticks": ""
             }
            },
            "type": "scattermap"
           }
          ],
          "scattermapbox": [
           {
            "marker": {
             "colorbar": {
              "outlinewidth": 0,
              "ticks": ""
             }
            },
            "type": "scattermapbox"
           }
          ],
          "scatterpolar": [
           {
            "marker": {
             "colorbar": {
              "outlinewidth": 0,
              "ticks": ""
             }
            },
            "type": "scatterpolar"
           }
          ],
          "scatterpolargl": [
           {
            "marker": {
             "colorbar": {
              "outlinewidth": 0,
              "ticks": ""
             }
            },
            "type": "scatterpolargl"
           }
          ],
          "scatterternary": [
           {
            "marker": {
             "colorbar": {
              "outlinewidth": 0,
              "ticks": ""
             }
            },
            "type": "scatterternary"
           }
          ],
          "surface": [
           {
            "colorbar": {
             "outlinewidth": 0,
             "ticks": ""
            },
            "colorscale": [
             [
              0,
              "#0d0887"
             ],
             [
              0.1111111111111111,
              "#46039f"
             ],
             [
              0.2222222222222222,
              "#7201a8"
             ],
             [
              0.3333333333333333,
              "#9c179e"
             ],
             [
              0.4444444444444444,
              "#bd3786"
             ],
             [
              0.5555555555555556,
              "#d8576b"
             ],
             [
              0.6666666666666666,
              "#ed7953"
             ],
             [
              0.7777777777777778,
              "#fb9f3a"
             ],
             [
              0.8888888888888888,
              "#fdca26"
             ],
             [
              1,
              "#f0f921"
             ]
            ],
            "type": "surface"
           }
          ],
          "table": [
           {
            "cells": {
             "fill": {
              "color": "#EBF0F8"
             },
             "line": {
              "color": "white"
             }
            },
            "header": {
             "fill": {
              "color": "#C8D4E3"
             },
             "line": {
              "color": "white"
             }
            },
            "type": "table"
           }
          ]
         },
         "layout": {
          "annotationdefaults": {
           "arrowcolor": "#2a3f5f",
           "arrowhead": 0,
           "arrowwidth": 1
          },
          "autotypenumbers": "strict",
          "coloraxis": {
           "colorbar": {
            "outlinewidth": 0,
            "ticks": ""
           }
          },
          "colorscale": {
           "diverging": [
            [
             0,
             "#8e0152"
            ],
            [
             0.1,
             "#c51b7d"
            ],
            [
             0.2,
             "#de77ae"
            ],
            [
             0.3,
             "#f1b6da"
            ],
            [
             0.4,
             "#fde0ef"
            ],
            [
             0.5,
             "#f7f7f7"
            ],
            [
             0.6,
             "#e6f5d0"
            ],
            [
             0.7,
             "#b8e186"
            ],
            [
             0.8,
             "#7fbc41"
            ],
            [
             0.9,
             "#4d9221"
            ],
            [
             1,
             "#276419"
            ]
           ],
           "sequential": [
            [
             0,
             "#0d0887"
            ],
            [
             0.1111111111111111,
             "#46039f"
            ],
            [
             0.2222222222222222,
             "#7201a8"
            ],
            [
             0.3333333333333333,
             "#9c179e"
            ],
            [
             0.4444444444444444,
             "#bd3786"
            ],
            [
             0.5555555555555556,
             "#d8576b"
            ],
            [
             0.6666666666666666,
             "#ed7953"
            ],
            [
             0.7777777777777778,
             "#fb9f3a"
            ],
            [
             0.8888888888888888,
             "#fdca26"
            ],
            [
             1,
             "#f0f921"
            ]
           ],
           "sequentialminus": [
            [
             0,
             "#0d0887"
            ],
            [
             0.1111111111111111,
             "#46039f"
            ],
            [
             0.2222222222222222,
             "#7201a8"
            ],
            [
             0.3333333333333333,
             "#9c179e"
            ],
            [
             0.4444444444444444,
             "#bd3786"
            ],
            [
             0.5555555555555556,
             "#d8576b"
            ],
            [
             0.6666666666666666,
             "#ed7953"
            ],
            [
             0.7777777777777778,
             "#fb9f3a"
            ],
            [
             0.8888888888888888,
             "#fdca26"
            ],
            [
             1,
             "#f0f921"
            ]
           ]
          },
          "colorway": [
           "#636efa",
           "#EF553B",
           "#00cc96",
           "#ab63fa",
           "#FFA15A",
           "#19d3f3",
           "#FF6692",
           "#B6E880",
           "#FF97FF",
           "#FECB52"
          ],
          "font": {
           "color": "#2a3f5f"
          },
          "geo": {
           "bgcolor": "white",
           "lakecolor": "white",
           "landcolor": "white",
           "showlakes": true,
           "showland": true,
           "subunitcolor": "#C8D4E3"
          },
          "hoverlabel": {
           "align": "left"
          },
          "hovermode": "closest",
          "mapbox": {
           "style": "light"
          },
          "paper_bgcolor": "white",
          "plot_bgcolor": "white",
          "polar": {
           "angularaxis": {
            "gridcolor": "#EBF0F8",
            "linecolor": "#EBF0F8",
            "ticks": ""
           },
           "bgcolor": "white",
           "radialaxis": {
            "gridcolor": "#EBF0F8",
            "linecolor": "#EBF0F8",
            "ticks": ""
           }
          },
          "scene": {
           "xaxis": {
            "backgroundcolor": "white",
            "gridcolor": "#DFE8F3",
            "gridwidth": 2,
            "linecolor": "#EBF0F8",
            "showbackground": true,
            "ticks": "",
            "zerolinecolor": "#EBF0F8"
           },
           "yaxis": {
            "backgroundcolor": "white",
            "gridcolor": "#DFE8F3",
            "gridwidth": 2,
            "linecolor": "#EBF0F8",
            "showbackground": true,
            "ticks": "",
            "zerolinecolor": "#EBF0F8"
           },
           "zaxis": {
            "backgroundcolor": "white",
            "gridcolor": "#DFE8F3",
            "gridwidth": 2,
            "linecolor": "#EBF0F8",
            "showbackground": true,
            "ticks": "",
            "zerolinecolor": "#EBF0F8"
           }
          },
          "shapedefaults": {
           "line": {
            "color": "#2a3f5f"
           }
          },
          "ternary": {
           "aaxis": {
            "gridcolor": "#DFE8F3",
            "linecolor": "#A2B1C6",
            "ticks": ""
           },
           "baxis": {
            "gridcolor": "#DFE8F3",
            "linecolor": "#A2B1C6",
            "ticks": ""
           },
           "bgcolor": "white",
           "caxis": {
            "gridcolor": "#DFE8F3",
            "linecolor": "#A2B1C6",
            "ticks": ""
           }
          },
          "title": {
           "x": 0.05
          },
          "xaxis": {
           "automargin": true,
           "gridcolor": "#EBF0F8",
           "linecolor": "#EBF0F8",
           "ticks": "",
           "title": {
            "standoff": 15
           },
           "zerolinecolor": "#EBF0F8",
           "zerolinewidth": 2
          },
          "yaxis": {
           "automargin": true,
           "gridcolor": "#EBF0F8",
           "linecolor": "#EBF0F8",
           "ticks": "",
           "title": {
            "standoff": 15
           },
           "zerolinecolor": "#EBF0F8",
           "zerolinewidth": 2
          }
         }
        },
        "title": {
         "text": "Rate of Hospitalizations due to Asthma per Year",
         "x": 0.5,
         "y": 0.95
        },
        "xaxis": {
         "anchor": "y",
         "domain": [
          0,
          0.49
         ],
         "title": {
          "text": "Year"
         }
        },
        "xaxis2": {
         "anchor": "y2",
         "domain": [
          0.51,
          1
         ],
         "matches": "x",
         "title": {
          "text": "Year"
         }
        },
        "yaxis": {
         "anchor": "x",
         "domain": [
          0,
          1
         ],
         "title": {
          "text": "Rate of hospitalizations per 100 000"
         }
        },
        "yaxis2": {
         "anchor": "x2",
         "domain": [
          0,
          1
         ],
         "matches": "y",
         "showticklabels": false
        }
       }
      }
     },
     "metadata": {},
     "output_type": "display_data"
    }
   ],
   "source": [
    "fig = px.line(\n",
    "    model_hosp_df,\n",
    "    x=\"year\",\n",
    "    y=\"h_rate\",\n",
    "    facet_col=\"sex\",\n",
    "    title=\"Rate of Hospitalizations due to Asthma per Year\",\n",
    "    labels={\"h_rate\": \"Rate of hospitalizations per 100 000\"},\n",
    "    color_discrete_sequence=[\"#999999\"]\n",
    ")\n",
    "fig_target = px.line(\n",
    "    target_hosp_df,\n",
    "    x=\"year\",\n",
    "    y=\"rate\",\n",
    "    facet_col=\"sex\",\n",
    "    color_discrete_sequence=[\"black\"],\n",
    "    line_dash_sequence=[\"dash\"]\n",
    ")\n",
    "fig.add_traces(\n",
    "    fig_target.data\n",
    ")\n",
    "\n",
    "fig.data[0].update(showlegend=True, name=\"model\")\n",
    "fig.data[2].update(showlegend=True, name=\"target\")\n",
    "fig.update_xaxes(title_text=\"Year\")\n",
    "fig.update_layout(\n",
    "    legend_title_text=\"\",\n",
    "    title_x=0.5,\n",
    "    title_y=0.95,\n",
    "    showlegend=True\n",
    ")\n",
    "fig.show(config=config)"
   ]
  }
 ],
 "metadata": {
  "kernelspec": {
   "display_name": "env",
   "language": "python",
   "name": "python3"
  },
  "language_info": {
   "codemirror_mode": {
    "name": "ipython",
    "version": 3
   },
   "file_extension": ".py",
   "mimetype": "text/x-python",
   "name": "python",
   "nbconvert_exporter": "python",
   "pygments_lexer": "ipython3",
   "version": "3.10.11"
  }
 },
 "nbformat": 4,
 "nbformat_minor": 5
}
