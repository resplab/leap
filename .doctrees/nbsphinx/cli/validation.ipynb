{
 "cells": [
  {
   "cell_type": "markdown",
   "id": "84617f4c",
   "metadata": {},
   "source": [
    "# LEAP Model Validation\n",
    "\n",
    "This notebook presents validation results for the `LEAP(Lifetime Exposures and Asthma outcomes Projection)`\n",
    "model. The objective is to compare key simulated outputs from the current pythonic version to\n",
    "observed targets. The taregts include demographic trends, asthma prevalence and incidence,\n",
    "risk factor distributions, and asthma-related health outcomes.\n",
    "\n",
    "A large sample run of `LEAP` was used to generate all of the data files used in this notebook.\n"
   ]
  },
  {
   "cell_type": "markdown",
   "id": "533319c0",
   "metadata": {},
   "source": [
    "## Notebook setup"
   ]
  },
  {
   "cell_type": "markdown",
   "id": "164c2bab",
   "metadata": {},
   "source": [
    "### Environment setup"
   ]
  },
  {
   "cell_type": "code",
   "execution_count": 1,
   "id": "abcdabac",
   "metadata": {
    "execution": {
     "iopub.execute_input": "2025-08-30T21:58:51.980563Z",
     "iopub.status.busy": "2025-08-30T21:58:51.980289Z",
     "iopub.status.idle": "2025-08-30T21:58:52.813196Z",
     "shell.execute_reply": "2025-08-30T21:58:52.812579Z"
    }
   },
   "outputs": [],
   "source": [
    "# Environment setup\n",
    "%load_ext autoreload\n",
    "%autoreload 2\n",
    "\n",
    "import plotly.io as pio\n",
    "pio.renderers.default = \"sphinx_gallery\" # comment this line out if using VSCode\n",
    "import plotly.express as px\n",
    "import os\n",
    "import pandas as pd\n",
    "from pathlib import Path\n",
    "from leap.data_generation.exacerbation_data import load_population_data\n",
    "from leap.utils import get_data_path"
   ]
  },
  {
   "cell_type": "code",
   "execution_count": 2,
   "id": "369e6830",
   "metadata": {
    "execution": {
     "iopub.execute_input": "2025-08-30T21:58:52.815553Z",
     "iopub.status.busy": "2025-08-30T21:58:52.815280Z",
     "iopub.status.idle": "2025-08-30T21:58:52.972739Z",
     "shell.execute_reply": "2025-08-30T21:58:52.972146Z"
    }
   },
   "outputs": [],
   "source": [
    "# Plot Settings\n",
    "pio.templates.default = \"plotly_white\"\n",
    "config = {\n",
    "    'toImageButtonOptions': {\n",
    "        'format': 'png',\n",
    "        'scale': 2\n",
    "    }\n",
    "}"
   ]
  },
  {
   "cell_type": "markdown",
   "id": "0217ce60",
   "metadata": {},
   "source": [
    "### Running Simulation to Obtain Data\n",
    "\n",
    "*Currently, simulations at a sufficient size to get meaningful results take too long to run*\n",
    "*practically in the notebook. So calling simulation.run() in the Jupyter notebook and using the*\n",
    "*generated outcome_matrix object for analysis is infeasible. Instead, run it seperately from the*\n",
    "*command line and use the outputted csvs.*\n",
    "\n",
    "To run the simulation, open a terminal:\n",
    "\n",
    "```sh\n",
    "leap\n",
    "    --run-simulation\n",
    "    --path-output PATH/TO/SAVE/OUTPUT/\n",
    "    --province PROVINCE\n",
    "    --max-age MAX_AGE\n",
    "    --min-year STARTING_YEAR\n",
    "    --time-horizon SIMULATION_LENGTH\n",
    "    --population-growth-type GROWTH_TYPE\n",
    "    --num-births-initial N_BIRTHS\n",
    "    --ignore-pollution\n",
    "```\n",
    "\n",
    "**NOTE**: The default simulation folder naming scheme is:\n",
    "\n",
    "`./leap_output/PROVINCE-MAX_AGE-STARTING_YEAR-SIMULATION_LENGTH-GROWTH_TYPE-N_BIRTHS`\n",
    "\n",
    "For instance, if the model was run with the following parameters:\n",
    "\n",
    "```json\n",
    "\"parameters\": {\n",
    "        \"province\": \"CA\",\n",
    "        \"max_age\": 100,\n",
    "        \"min_year\": 2001,\n",
    "        \"time_horizon\": 15,\n",
    "        \"population_growth_type\": \"M3\",\n",
    "        \"num_births_initial\": 5000,\n",
    "        \"pollution ignored\": true,\n",
    "        \"max_year\": 2015\n",
    "    }\n",
    "```\n",
    "\n",
    "Then the deafult folder name would be:\n",
    "\n",
    "``./leap_output/CA-100-2001-15-M3-5000``"
   ]
  },
  {
   "cell_type": "markdown",
   "id": "1efc624f",
   "metadata": {},
   "source": [
    "### Constants and Parameters"
   ]
  },
  {
   "cell_type": "code",
   "execution_count": 3,
   "id": "868fea86",
   "metadata": {
    "execution": {
     "iopub.execute_input": "2025-08-30T21:58:52.975058Z",
     "iopub.status.busy": "2025-08-30T21:58:52.974830Z",
     "iopub.status.idle": "2025-08-30T21:58:52.993295Z",
     "shell.execute_reply": "2025-08-30T21:58:52.992617Z"
    }
   },
   "outputs": [
    {
     "name": "stdout",
     "output_type": "stream",
     "text": [
      "Run bundle folder found at leap/sample_leap_output\n"
     ]
    }
   ],
   "source": [
    "# Constants for this notebook\n",
    "notebook_path = Path(os.getcwd())\n",
    "LEAP_ROOT = notebook_path.parent.parent\n",
    "\n",
    "# Simulation parameters\n",
    "RUN_BUNDLE_NAME = \"sample_leap_output\"\n",
    "PROVINCE = \"CA\"\n",
    "MAX_AGE = 110\n",
    "STARTING_YEAR = 2001\n",
    "SIMULATION_LENGTH = 30\n",
    "GROWTH_TYPE = \"M3\"\n",
    "N_BIRTHS = 5000\n",
    "\n",
    "# Replace with the path to the folder containing your LEAP output csvs\n",
    "RUN_BUNDLE_FOLDER = LEAP_ROOT / \"leap\" / \"sample_leap_output\"\n",
    "\n",
    "if RUN_BUNDLE_FOLDER.exists():\n",
    "    print(f\"Run bundle folder found at {RUN_BUNDLE_FOLDER.relative_to(LEAP_ROOT)}\")\n",
    "else:\n",
    "    raise FileNotFoundError(f\"!! Run bundle folder does not exist {RUN_BUNDLE_FOLDER}\")"
   ]
  },
  {
   "cell_type": "markdown",
   "id": "55f3d23c",
   "metadata": {},
   "source": [
    "## Population Pyramid Figure\n",
    "\n",
    "Population by age across selected years from the model (grey solid) and from Statistics\n",
    "Canada (black dashed)."
   ]
  },
  {
   "cell_type": "markdown",
   "id": "fbd68a31",
   "metadata": {},
   "source": [
    "### Load Data"
   ]
  },
  {
   "cell_type": "code",
   "execution_count": 4,
   "id": "b5de8740",
   "metadata": {
    "execution": {
     "iopub.execute_input": "2025-08-30T21:58:52.995271Z",
     "iopub.status.busy": "2025-08-30T21:58:52.995077Z",
     "iopub.status.idle": "2025-08-30T21:58:54.150333Z",
     "shell.execute_reply": "2025-08-30T21:58:54.149671Z"
    }
   },
   "outputs": [],
   "source": [
    "# Read population data from StatCan\n",
    "target_pop_df_raw = load_population_data(\n",
    "    province=PROVINCE,\n",
    "    starting_year=STARTING_YEAR,\n",
    "    projection_scenario=GROWTH_TYPE,\n",
    "    min_age=0,\n",
    "    max_age=MAX_AGE,\n",
    "    max_year=STARTING_YEAR + SIMULATION_LENGTH - 1\n",
    ")\n",
    "\n",
    "# Read population data from simulation\n",
    "model_pop_df_raw = pd.read_csv(RUN_BUNDLE_FOLDER / \"outcome_matrix_alive.csv\")"
   ]
  },
  {
   "cell_type": "markdown",
   "id": "8e0341aa",
   "metadata": {},
   "source": [
    "### Process Data"
   ]
  },
  {
   "cell_type": "code",
   "execution_count": 5,
   "id": "64635f87",
   "metadata": {
    "execution": {
     "iopub.execute_input": "2025-08-30T21:58:54.152468Z",
     "iopub.status.busy": "2025-08-30T21:58:54.152271Z",
     "iopub.status.idle": "2025-08-30T21:58:54.182246Z",
     "shell.execute_reply": "2025-08-30T21:58:54.181682Z"
    }
   },
   "outputs": [],
   "source": [
    "# Rename target column for clarity\n",
    "target_pop_df = target_pop_df_raw.rename(columns={\"n\": \"n_alive_target\"})\n",
    "\n",
    "# Filter to only include dates after chosen starting year\n",
    "model_pop_df = model_pop_df_raw[model_pop_df_raw[\"year\"] >= STARTING_YEAR]\n",
    "# Rename model column for clarity\n",
    "model_pop_df = model_pop_df.rename(columns={\"n_alive\": \"n_alive_model\"})\n",
    "\n",
    "# Merge the filtered Canada population data and simulation population data\n",
    "population_df = pd.merge(target_pop_df, model_pop_df, on=[\"year\", \"age\", \"sex\"])\n",
    "\n",
    "# Calculate the scale factor to set the initial population in the model to match the target\n",
    "total_target = population_df.groupby([\"year\"])[\"n_alive_target\"].agg(\"sum\").reset_index()\n",
    "total_target = total_target[total_target[\"year\"] == STARTING_YEAR][\"n_alive_target\"].values[0]\n",
    "total_model = population_df.groupby([\"year\"])[\"n_alive_model\"].agg(\"sum\").reset_index()\n",
    "total_model = total_model[total_model[\"year\"] == STARTING_YEAR][\"n_alive_model\"].values[0]\n",
    "scale_factor = total_target / total_model\n",
    "population_df[\"n_alive_model\"] *= scale_factor\n",
    "population_df.reset_index(inplace=True, drop=True)\n",
    "\n",
    "# Sum over the sex column\n",
    "population_df = population_df.groupby([\"year\", \"age\"]).agg(\n",
    "    n_alive_target=(\"n_alive_target\", \"sum\"),\n",
    "    n_alive_model=(\"n_alive_model\", \"sum\")\n",
    ").reset_index()"
   ]
  },
  {
   "cell_type": "markdown",
   "id": "a55d4e5e",
   "metadata": {},
   "source": [
    "### Visualize Data"
   ]
  },
  {
   "cell_type": "code",
   "execution_count": 6,
   "id": "2b8b3ab9",
   "metadata": {
    "execution": {
     "iopub.execute_input": "2025-08-30T21:58:54.184124Z",
     "iopub.status.busy": "2025-08-30T21:58:54.183936Z",
     "iopub.status.idle": "2025-08-30T21:58:54.406618Z",
     "shell.execute_reply": "2025-08-30T21:58:54.406017Z"
    }
   },
   "outputs": [
    {
     "data": {
      "text/html": [
       "<div>            <script src=\"https://cdnjs.cloudflare.com/ajax/libs/mathjax/2.7.5/MathJax.js?config=TeX-AMS-MML_SVG\"></script><script type=\"text/javascript\">if (window.MathJax && window.MathJax.Hub && window.MathJax.Hub.Config) {window.MathJax.Hub.Config({SVG: {font: \"STIX-Web\"}});}</script>                <script type=\"text/javascript\">window.PlotlyConfig = {MathJaxConfig: 'local'};</script>\n",
       "        <script charset=\"utf-8\" src=\"https://cdn.plot.ly/plotly-3.1.0.min.js\" integrity=\"sha256-Ei4740bWZhaUTQuD6q9yQlgVCMPBz6CZWhevDYPv93A=\" crossorigin=\"anonymous\"></script>                <div id=\"43da56f5-7651-4b3e-9c82-5d74d1229c34\" class=\"plotly-graph-div\" style=\"height:1000px; width:850px;\"></div>            <script type=\"text/javascript\">                window.PLOTLYENV=window.PLOTLYENV || {};                                if (document.getElementById(\"43da56f5-7651-4b3e-9c82-5d74d1229c34\")) {                    Plotly.newPlot(                        \"43da56f5-7651-4b3e-9c82-5d74d1229c34\",                        [{\"hovertemplate\":\"year=2001\\u003cbr\\u003eage=%{x}\\u003cbr\\u003ePopulation=%{y}\\u003cextra\\u003e\\u003c\\u002fextra\\u003e\",\"legendgroup\":\"\",\"line\":{\"color\":\"#999999\",\"dash\":\"solid\"},\"marker\":{\"symbol\":\"circle\"},\"mode\":\"lines\",\"name\":\"model\",\"orientation\":\"v\",\"showlegend\":true,\"x\":{\"dtype\":\"i1\",\"bdata\":\"AAECAwQFBgcICQoLDA0ODxAREhMUFRYXGBkaGxwdHh8gISIjJCUmJygpKissLS4vMDEyMzQ1Njc4OTo7PD0+P0BBQkNERUZHSElKS0xNTk9QUVJTVFVWV1hZWltcXV5fYGFiY2Q=\"},\"xaxis\":\"x5\",\"y\":{\"dtype\":\"f8\",\"bdata\":\"3EWJZcgRFEGH1fSSjjkVQVwwMEDHfBVBv45XmH4LFkFREPy6QecWQeoudc3u\\u002fBdB3Ts7Khp7GEGisRqeiaYYQWeUdHujIhlBxU7YLmvCGUHAF4\\u002fzJSQaQSrFLErCRRpBrsynBbhwGUHDe9IQHNYYQXwdlFlcKRlBOLhm7ZbHGUEOnzh8HwUaQYB8MFn7DxpBJrTuOygGGkGodkJSzSgaQWEYBJsNfBpBxrRj4w9eGkFKKVkIsNkZQbJwa6qnXxlBMqco3\\u002fyHGUEfqp\\u002fik3sZQe5nBqDihBlBE\\u002fyM5A8CGUHiJm4LCVwZQVTeWrs5CBpBgDAa\\u002f6RSG0EW8PYRs4EbQSJQqx4yVBtBvLNL1i9yG0FImBsJCRQcQRFHjE9sxx1BYiNpxbUKIEFOugmreaIgQbHxgYqu3SBBfnAMDNueIEFZ+6E\\u002fU8sgQa0mD208myBBakzUlu8+IEGkSl5BMBkgQbokVm43lh9BRujBkbykHkGvnE6dXnseQeOvpWawdB1B4vu7wAYyHEH7VZklYDsbQcDxg8Z6xRpBNplKdfEdGkEU1oG3ZKMZQYY\\u002fEHaQqBlB7G71VOg5GUEMimo\\u002fKPIVQXou0UkQdRRBuu86EebnE0FElIq8xUwTQal8AF8e7BFBaQet8Z42EUG5030f6R8QQXJgjALTTQ9BEChw18YdDkFryF4wQN8MQVjL1TPX0gxBsMARM1vwC0FN9W9x+RALQX6kgx1VWAtBZAomMQISC0HgTsHPYqQKQSlfoZUdqglBsryBBP4cCEFqiz0v74MHQWa\\u002fJsalTAZBU+io9ueeBUF+Rv4MsGkEQcyGOFmqWANBnqjiM+8TAkGKZOr6hhUBQSaEldPOEP9ARp8Kvg7J+0BGz2MmaL72QARAm16aKvRAOJ8IgkLh8UBES9PoF3HwQILdFPBI4OxAwnvSEBzW6EDP5dRYST\\u002fkQI0PnVR8ueBAyqaFeQT02kAYFxkuWNjUQFwlyxUf7s9AyT6yLbFuyEBzKSkO07XBQHuyYYdgwrpAlIZmF7uUsUDksgTtWFapQFi11k4rzqBA\\u002fVawFFozlUBSzOsE69ahQA==\"},\"yaxis\":\"y5\",\"type\":\"scatter\"},{\"hovertemplate\":\"year=2010\\u003cbr\\u003eage=%{x}\\u003cbr\\u003ePopulation=%{y}\\u003cextra\\u003e\\u003c\\u002fextra\\u003e\",\"legendgroup\":\"\",\"line\":{\"color\":\"#999999\",\"dash\":\"solid\"},\"marker\":{\"symbol\":\"circle\"},\"mode\":\"lines\",\"name\":\"\",\"orientation\":\"v\",\"showlegend\":false,\"x\":{\"dtype\":\"i1\",\"bdata\":\"AAECAwQFBgcICQoLDA0ODxAREhMUFRYXGBkaGxwdHh8gISIjJCUmJygpKissLS4vMDEyMzQ1Njc4OTo7PD0+P0BBQkNERUZHSElKS0xNTk9QUVJTVFVWV1hZWltcXV5fYGFiY2Q=\"},\"xaxis\":\"x6\",\"y\":{\"dtype\":\"f8\",\"bdata\":\"nniJy5UeF0EtCAxYZGQXQQL2zJvyVhdBEOkGP8fYFkGEBDcM7jYWQTxAbaCJ7hVBLMiL0GonFkHg65ShZuoVQWXGFXurARZBnKWDrUYyFkEws76xWQgXQbQBqalOJRdBQXIPvnfBF0HQ24Ydm6gYQW4LPj7i\\u002fRlBNOeoZvbEGkHhuzs5DfUaQbgPiDFAgxtBLN+hpBAkHEGq1ybpGvkcQVilygYsdB1BerSpHg+sHEEyFuvfVcIbQWE5aKphDxxBZCuKQFalHEHuFkkoNfwcQciozRCz3RxBqtcm6Rr5HEGcCvhy8dUcQeTOwd5VHh1Bz9gnl\\u002fLGHEHWLo1K3Q4cQThGRWaVqxtBeOGjAMC\\u002fG0HMeYuXU+AbQdxe59Ac+BtBl0XQvq1TG0F0XPzTdXobQZQHmM5iABxBnnCDJ5ZxHUFmkRX1+kAdQSoO5B1wIR1BV8vVM9fSHEG9QSpPLlYdQUltab4G6h5BjlVoRaS2IEGDNJB0RywhQV4zj8ZvXiFBOJ5kNmvsIEENs9TyezIhQVWdqYuL2SBB52pkCKVyIEEOsjCnpD0gQZg7goP\\u002fvB9B\\u002fATcrbKyHkFU1AyAi3EeQWzBb3s6Kh1BSCuhn17DG0GMKkNXf4kaQXxkA5ZbGxpB2N7mwSl+GUE6iSR0N8oYQfZJAjUdxxhBeJ\\u002fb4ReZGEErFKIqweQUQcI+sQ\\u002fLehNBLBJakxL7EkFCVAo1zA8SQfbDKWAekBBBsNzOJFi4D0E0w+XQ+U8NQfJUgRiATwxB3jaUDMOvCkFMZ5H4+iwJQcaT\\u002f9O7yghBfojGK1iQB0Ee+1xaQQQGQaLczOiL0AVBioCn7IPdBEEEQJtemioEQQSMsbjw5wJBUoV8yOvkAEFLDrMFrQkAQYh66d8yGv1A+GN3j2ul+kBnBpYCpT73QIdoeink6PRAu8fnTIyf8kBLey1vV1rwQDoe8qE7Y+pA923Fyhk85kBBsXhWdwbfQMNVx+Nwd9lA6stIn\\u002fJC00BbvffJy2jNQAqRWfQtp8VAmm9RYfuLwEBahX3m0di1QI89yfzHsqxAHeRGhpsHoEASsr4haC6sQA==\"},\"yaxis\":\"y6\",\"type\":\"scatter\"},{\"hovertemplate\":\"year=2015\\u003cbr\\u003eage=%{x}\\u003cbr\\u003ePopulation=%{y}\\u003cextra\\u003e\\u003c\\u002fextra\\u003e\",\"legendgroup\":\"\",\"line\":{\"color\":\"#999999\",\"dash\":\"solid\"},\"marker\":{\"symbol\":\"circle\"},\"mode\":\"lines\",\"name\":\"\",\"orientation\":\"v\",\"showlegend\":false,\"x\":{\"dtype\":\"i1\",\"bdata\":\"AAECAwQFBgcICQoLDA0ODxAREhMUFRYXGBkaGxwdHh8gISIjJCUmJygpKissLS4vMDEyMzQ1Njc4OTo7PD0+P0BBQkNERUZHSElKS0xNTk9QUVJTVFVWV1hZWltcXV5fYGFiY2Q=\"},\"xaxis\":\"x3\",\"y\":{\"dtype\":\"f8\",\"bdata\":\"XDJ413VmF0EiNO4sNYwXQSW5lVl\\u002f0RdBOLYeVujdF0GO2pzOy\\u002fgXQV6RFNcUTRhB0mcd\\u002f+qiGEHBgsHFIYsYQXIhI2rTCBhBbqNq8o54F0GG1zwqPSMXQaUVXrt\\u002fWBdByP4xprcxF0FINe\\u002faDFoXQQTv3ebsoRdB2Jd3hSqMGEHwpT6QLdgYQWR8R7gDLhlBjUlfzyQzGkEI\\u002fbxu3v8bQYBRfg755RxBgFF+DvnlHEF+MmKWUzwdQdzsxUkb3B1Bzm31xPZfHkHKwkJrAbweQcp70y4Cyh1BmV9FGfwxHUFy0q2J1GkdQRJAnZpmEh5Bri\\u002fUM7QqHkHi\\u002fQNYtRseQRhR26gAUh5BZtiEMfoyHkFJk3TrsUgeQaR60oAq\\u002fB1BlkcYVlw9HUG8256aibocQRpIpFxMsxxBbuCL89\\u002fTHEGEaavRmNocQYgzeqMzKBxBvoZR9H5eHEEUGErWDMocQVLb+zSRJh5BBnNuJD3vHUG6lnf1OLIdQTI3T++pVR1Bh8hH0TfBHUFiezDJCTYfQbgh3BDuxiBBIbBd7+Q+IUGgoE8zEmohQcZ6oWhn5CBBiNhTGTcbIUGgxlpgvcggQe7giX8MWSBBRN5Yf20gIEEQ3Fl9cGAfQStOZKVpXh5B2dSYhnvnHUFMij2f\\u002fakcQYp4oUiEMBtB\\u002frncQlbtGUGCLtJn9mgZQflhL\\u002fi8uxhBIBXStI\\u002fiF0FEijyBF7YXQdAnnXfxZRdBZldTelLHE0F7vw5JtzoSQRhh5\\u002fD\\u002fqxFB8R9muy6hEEEw8idKWU0OQQjXsUEzoQxB1BQY8I4wCkHu+os2ODQJQcNabgHIQgdBdl0Tw29yBUGyernlVfYEQZgsclNZbQNBlPPggGXlAUEdmDAsRUoBQS7Jor9kHwBB0hioHuwD\\u002fkCiGe7p3Cv7QAtFQ5rX6fZAtf9gEqA79UCA0ExXUXryQKSiJUWERO9AOUT9zubB6UAEGpAx78vkQI3Dhvol\\u002fOFAaI\\u002fNXUxX20D9VrAUWjPVQCSBG3aFQdBAEBJx8hoZwkDLDlnFV3m9QINr82hHxK5Alia0Rgiqq0Dj4l1Vsku0QA==\"},\"yaxis\":\"y3\",\"type\":\"scatter\"},{\"hovertemplate\":\"year=2020\\u003cbr\\u003eage=%{x}\\u003cbr\\u003ePopulation=%{y}\\u003cextra\\u003e\\u003c\\u002fextra\\u003e\",\"legendgroup\":\"\",\"line\":{\"color\":\"#999999\",\"dash\":\"solid\"},\"marker\":{\"symbol\":\"circle\"},\"mode\":\"lines\",\"name\":\"\",\"orientation\":\"v\",\"showlegend\":false,\"x\":{\"dtype\":\"i1\",\"bdata\":\"AAECAwQFBgcICQoLDA0ODxAREhMUFRYXGBkaGxwdHh8gISIjJCUmJygpKissLS4vMDEyMzQ1Njc4OTo7PD0+P0BBQkNERUZHSElKS0xNTk9QUVJTVFVWV1hZWltcXV5fYGFiY2Q=\"},\"xaxis\":\"x4\",\"y\":{\"dtype\":\"f8\",\"bdata\":\"UaOBUZeWFkFYrdCqKyEXQTe9DQvukhdB9\\u002fujQxggGEHn8Dzdo6kYQU6GrXCg1hhByhinAAYQGUFspbKJPWIZQTzvryjcZRlBGHpFXFSSGUEmR3TSfbUZQY3c5GV64hlBPFwqkoa2GUHu+os2ODQZQRUbqVy1qxhBeStyw2eTGEGOIQwLy+oYQXuR\\u002fXcMLxlBK8UsSsJFGkH0TZJjepocQVoLVrvQDx5BmjJLN0seHkGTdlrPuzoeQW9uamzetx5BdFmdTc2YH0GgMjF+kCQgQQbPkMaSBiBBWNvhe9YsIEG8WCVMM2UgQb+XAYhVrSBBKP\\u002fT7cnRIEE0IKy+JlwgQUA6ldp9MSBBvTF207ARIEHWhQjP21ogQTjEb2MWSyBB4M2PGLs4IEG2u1BcSSsgQXF8Lh0vKCBBTMwFvqXQH0GE0X4d7F8fQZiHmN1Veh5BZmsKyE\\u002fiHUHKe9MuAsodQZEQzxoXnx1BctKtidRpHUE9nvKwLt0cQco0ZPIC2BxB9CeHNs87HUFJk3TrsUgeQfaGIzZuIh5B5Ki2saq\\u002fHUHq3\\u002f\\u002fs710dQc6TAPKhvh1BgEzX8KEaH0Hg9D6RPYwgQbwyGh+IBiFBbWWlpWYoIUE00\\u002fEY+akgQVwTzwLzvyBB5t7NJlV4IEEEQ\\u002frkQgwgQTjWa3ZCeR9B1ArKtOCZHkGYQCmhVogdQUjfikUIBh1BaPxHx\\u002fanG0FmT03WUhoaQY4hDAvL6hhBwImweidAGEHEU39Mwo0XQWzQZNQ\\u002fjBZBVtrKjNw0FkGk++hgMXoVQb5ymqaBQxJBep6qOWOnEEGjD6CuLpUPQaaZ7vjPpQ1BdIIHASHZCkFgiiUiD5gIQSiwXg3LMgZBIl+gdze2BEGXUn2ABMwCQQYWAAOS+ABBfFBMSF4AAEEGv4R+k6z8QN3vJNDDvflAqJoF6Mmd90B6LtFJEHX0QMhNp4a20PFAfM4eeV2K7kBG8Mc1vFHoQKjFtzLMx+RAp6n6QM\\u002f\\u002f4EAmbX\\u002f\\u002fKBTZQI1RZXMk4NNAggMgHfQ+zECoEc6MIoXDQFpVJH5447pATOMAu6rfskAA9\\u002f1Dp0i\\u002fQA==\"},\"yaxis\":\"y4\",\"type\":\"scatter\"},{\"hovertemplate\":\"year=2025\\u003cbr\\u003eage=%{x}\\u003cbr\\u003ePopulation=%{y}\\u003cextra\\u003e\\u003c\\u002fextra\\u003e\",\"legendgroup\":\"\",\"line\":{\"color\":\"#999999\",\"dash\":\"solid\"},\"marker\":{\"symbol\":\"circle\"},\"mode\":\"lines\",\"name\":\"\",\"orientation\":\"v\",\"showlegend\":false,\"x\":{\"dtype\":\"i1\",\"bdata\":\"AAECAwQFBgcICQoLDA0ODxAREhMUFRYXGBkaGxwdHh8gISIjJCUmJygpKissLS4vMDEyMzQ1Njc4OTo7PD0+P0BBQkNERUZHSElKS0xNTk9QUVJTVFVWV1hZWltcXV5fYGFiY2Q=\"},\"xaxis\":\"x\",\"y\":{\"dtype\":\"f8\",\"bdata\":\"e0qOOw09GEHyxFoI04EYQXL7Fz0oqhhBEHflt8W8GEHiKxUpYCcXQeK586FeCxlBX9iDExQ\\u002fGUF8ig7DBnoZQVBZs47vwhlBhqyK3zr5GUG7c8tONjUaQdD86izvOxpBWFwTM36YGkECrP7YSoMaQc6+sjyk6BpBVh7bQjNFG0F6bTriD7obQY\\u002fQTpMdYhxBUpSM+JE0HUEypMlYVKYdQbXys1BJwx1BMhFEwv72HUEZcPcgpvsdQR4Uu8WV6h1B8uJfkX4zHkG+zwjILDofQQcgaRXhfB9Bmlqe+6RmH0E8ei8bMmgfQROcvzy8KSBByJm94AyOIEEmeizBf4wgQeqpQETHuiBBIP0XlRLxIEGuRs8wuTkhQT+os4\\u002f\\u002fdiFB6lyGnpkIIUFssl9LlNogQXkSFFgTrSBByAY4SrfeIEEUdrQPEcsgQTsDTJ84kyBBrSYPbTybIEGE5jGDQoUgQZgwdSXZQyBBHeRGhpsHIEHeLEbRFBkfQSaqoAB6bx5BmjJLN0seHkF+gMCHWOMdQRuPE5lLpR1BksJwKRL4HEHi1bCTW9McQYC++HejNh1BtNOX2KMZHkHYSAKlK+0dQciCwuMHfx1BLCYR4Q8WHUFFNNjrEmIdQRi+VRKroh5Bl+qpNLFGIEEu6WKD4b0gQSi5CP2h1CBBlV4TU2FMIEG+5Lstg18gQVgNnlJ\\u002f+R9BYnswyQk2H0FA14ODImUeQaD8GQnmax1BeLuY0xRhHEF+Ef6G\\u002f6gbQZBhjJLEJxpBZKJS5a6MGEHY443fgEkXQdYQiMExXRZBSTOnQ15wFUFKeM7orngUQRhcQNOo4BNBiGYykjX\\u002fEkEcFgNdRNQPQd5X+BsXQwxBpuqrcH0uCkEoPj2GyRYIQRiEk5cCKQVB4BZH7GgUA0Hm3s0mVXgAQRoDfbf7qv1AOUT9zubB+UAL2MgwLZn2QKh+SPbM1fNAEPEM48aF8EDX4C5Z2GfrQEY83o8SD+dAbEA+xJK+4kCcK1yCRWneQJzz4Z5L2dZAVdQMgItxzkBUBGbo5GbJQCQ1BRwvhMFAWoV95tHYtUBfbmgwEtDEQA==\"},\"yaxis\":\"y\",\"type\":\"scatter\"},{\"hovertemplate\":\"year=2030\\u003cbr\\u003eage=%{x}\\u003cbr\\u003ePopulation=%{y}\\u003cextra\\u003e\\u003c\\u002fextra\\u003e\",\"legendgroup\":\"\",\"line\":{\"color\":\"#999999\",\"dash\":\"solid\"},\"marker\":{\"symbol\":\"circle\"},\"mode\":\"lines\",\"name\":\"\",\"orientation\":\"v\",\"showlegend\":false,\"x\":{\"dtype\":\"i1\",\"bdata\":\"AAECAwQFBgcICQoLDA0ODxAREhMUFRYXGBkaGxwdHh8gISIjJCUmJygpKissLS4vMDEyMzQ1Njc4OTo7PD0+P0BBQkNERUZHSElKS0xNTk9QUVJTVFVWV1hZWltcXV5fYGFiY2Q=\"},\"xaxis\":\"x2\",\"y\":{\"dtype\":\"f8\",\"bdata\":\"NFnK7ffgGEHYcWxYfy0ZQUY3N3K7QxlBphC3nSiNGUEiL0cP3sAZQWA+D8i42hlBqQLZMx0jGkFzHHxMfD0aQeidN85HNxpBvN79IDKcGEFnSF4hTWUaQbY8ghPxlhpBj6\\u002fqg8nOGkEcs9YuSBobQUzWU\\u002flTZxtByGFe1LPrG0GgtarM5nkcQU\\u002fp2Z6ckB1BIgbdW4qAHkGuxKFhuMMfQXCj3ZWxeyBBVnb6EgmGIEF0AdZJeW0gQbEXjbdZPCBBkgso\\u002fb\\u002fTH0Hs+XRHPjwfQez5dEc+PB9B\\u002f\\u002fb9Q6dIH0GOGQZnyz0fQdr1\\u002fJXPeh9Bl+qpNLFGIEFaGr63+HQgQRCrQfKeiCBBUEagjMmcIEFzTzQ7fhQhQazh58frkiFBx5phLOSCIUFk0GO2WZghQZyv0ej0yCFBScovrDP2IUE7JLCujCYiQUgX6lFhqCFBLKsqk5ZqIUEkyIqyhDMhQaT+R+fZWyFBf9aXwH86IUGsB\\u002fP0lvEgQXsLJaMN+CBBLBcBsWnGIEEYrf1KVmkgQXDwlzvfLSBBFIAdImBPH0HWlmCWMJQeQXxhpA+zOR5BUeLq6ZbbHUGoJYXaH6AdQVInEo\\u002fn4xxBlOGMobehHEECFNIknggdQT9x+M59yR1B7vA9+4mdHUGIeunfMhodQYwlnDkovhxBDFxZbn3mHEFwIAx72RAeQS+H9Xdd5h9BfL3GsQhRIEHV+XHti2AgQRqRWzD6jh9BMjKo0VKKH0F4tvG1vZUeQRwbqnqbnx1BkMlf3hetHEF44aMAwL8bQeT5cylYSBpBcbbwl9ehGUGTfmBzu+cXQW97Fy41MBZB1u8jst3JFEEATnnIpZQTQU4CHTNQiRJBaQet8Z42EUHkUjdFBX4QQbbFuW6Yrw5B2v0COs8nCUEs7pb9FYYFQX2SFGcGJwNBYmrYAbX8AEHK7fS1A+b7QNBuDLTwV\\u002fhAoeFzBuOb80DixqBjtYPwQN7JGaMYX+pAjgVPGc4i5UDcA8FGIOvgQNCPcMNE69lA4nqKCV\\u002fG0UBA4dG+0PvJQP3u3MgGrsJAWlUkfnjjukCUVg2vYZ\\u002fGQA==\"},\"yaxis\":\"y2\",\"type\":\"scatter\"},{\"hovertemplate\":\"year=2001\\u003cbr\\u003eage=%{x}\\u003cbr\\u003ePopulation=%{y}\\u003cextra\\u003e\\u003c\\u002fextra\\u003e\",\"legendgroup\":\"\",\"line\":{\"color\":\"black\",\"dash\":\"dash\"},\"marker\":{\"symbol\":\"circle\"},\"mode\":\"lines\",\"name\":\"target\",\"orientation\":\"v\",\"showlegend\":true,\"x\":{\"dtype\":\"i1\",\"bdata\":\"AAECAwQFBgcICQoLDA0ODxAREhMUFRYXGBkaGxwdHh8gISIjJCUmJygpKissLS4vMDEyMzQ1Njc4OTo7PD0+P0BBQkNERUZHSElKS0xNTk9QUVJTVFVWV1hZWltcXV5fYGFiY2Q=\"},\"xaxis\":\"x5\",\"y\":{\"dtype\":\"i4\",\"bdata\":\"LgMFAKpEBQB7VQUAfHgFACKvBQDw8wUAhRMGAA4eBgAbPQYAeWQGAEF9BgAahQYAilAGABkqBgD7PgYAJGYGAFF2BgB3eAYAr3UGAK5+BgBxkwYAsIsGAF9rBgA3TQYAjVYGAHBTBgA5VgYAwDUGAFJMBgBjdgYAEMgGAIjUBgCdyQYAotAGAJ34BgA8ZQcAqfgHANBDCAAkYQgANUIIAOBYCAAWQAgAvxIIAOUACADw2QcAxp4HAImTBwA5UgcAUAMHAJnGBgB3qAYAsoEGAF1kBgC3YwYAHV0GAIB4BQAsGwUAcvkEAJbRBADDewQAIU0EAOEJBABF7AMA28YDAHigAwBjnwMAdYQDAOlpAwCscgMAkmwDALleAwAnQQMAnBIDALQAAwB02wIAisYCADWjAgAegAIA01gCAEc8AgBPDAIAa9cBAC2FAQCSWQEACTkBAD4cAQCOBAEAtt8AAMm7AADxmAAAyXwAAKdkAADJTgAAoD4AAFkuAACxIgAAiBgAALQRAAA2DAAANwgAAMENAAA=\"},\"yaxis\":\"y5\",\"type\":\"scatter\"},{\"hovertemplate\":\"year=2010\\u003cbr\\u003eage=%{x}\\u003cbr\\u003ePopulation=%{y}\\u003cextra\\u003e\\u003c\\u002fextra\\u003e\",\"legendgroup\":\"\",\"line\":{\"color\":\"black\",\"dash\":\"dash\"},\"marker\":{\"symbol\":\"circle\"},\"mode\":\"lines\",\"name\":\"\",\"orientation\":\"v\",\"showlegend\":false,\"x\":{\"dtype\":\"i1\",\"bdata\":\"AAECAwQFBgcICQoLDA0ODxAREhMUFRYXGBkaGxwdHh8gISIjJCUmJygpKissLS4vMDEyMzQ1Njc4OTo7PD0+P0BBQkNERUZHSElKS0xNTk9QUVJTVFVWV1hZWltcXV5fYGFiY2Q=\"},\"xaxis\":\"x6\",\"y\":{\"dtype\":\"i4\",\"bdata\":\"C8QFAHjOBQDLzgUACq0FAMiBBQCPcQUA94EFAPdqBQCbcwUAp4IFAAm1BQDXvAUAhuYFAPMcBgBfbwYAa58GANmwBgBu0QYAIfsGANczBwBwUgcAQBoHAH\\u002fkBgDb+AYAJiQHAM02BwCzMAcAoi0HAHAlBwD0PQcAHCUHAAf6BgAx4QYAROgGAEruBgBQ9QYA3MgGACPUBgC\\u002f8AYALlAHAIlGBwAROgcALS8HALJGBwB1tAcAZUwIAPqMCAAfoQgAOmcIAFeKCACPYAgAZiwIAHUXCAAO6QcAH6UHAIiUBwAyQwcA8ugGAHKfBgDOgQYAQVoGAEU0BgCrMQYAVD8GALQ7BQCb4QQAnr0EAEOJBAAnLgQAYAEEABO2AwBWkQMArmQDAFozAwDNIgMAAf4CAGDVAgCEzAIAb7QCAJqbAgBGcAIApToCADQZAgDG6QEALcYBAAOcAQD9bwEA4EEBAMAdAQDJ9AAA5soAAGqTAAD2cwAANF0AACNIAAC6OAAA8SkAAAQdAACDFAAAtwwAAG4WAAA=\"},\"yaxis\":\"y6\",\"type\":\"scatter\"},{\"hovertemplate\":\"year=2015\\u003cbr\\u003eage=%{x}\\u003cbr\\u003ePopulation=%{y}\\u003cextra\\u003e\\u003c\\u002fextra\\u003e\",\"legendgroup\":\"\",\"line\":{\"color\":\"black\",\"dash\":\"dash\"},\"marker\":{\"symbol\":\"circle\"},\"mode\":\"lines\",\"name\":\"\",\"orientation\":\"v\",\"showlegend\":false,\"x\":{\"dtype\":\"i1\",\"bdata\":\"AAECAwQFBgcICQoLDA0ODxAREhMUFRYXGBkaGxwdHh8gISIjJCUmJygpKissLS4vMDEyMzQ1Njc4OTo7PD0+P0BBQkNERUZHSElKS0xNTk9QUVJTVFVWV1hZWltcXV5fYGFiY2Q=\"},\"xaxis\":\"x3\",\"y\":{\"dtype\":\"i4\",\"bdata\":\"ltQFAL3ZBQAw5gUAG+wFABDuBQC5DAYAyRgGAIIeBgBh9wUA7dEFALW8BQBU0AUAtLoFAI7GBQDa3QUAfRcGACsiBgCNRgYAPIAGAC\\u002fvBgCRIQcAhisHANNEBwBfawcAm5AHANWlBwAlaAcA8joHAOxLBwCcfQcAi4UHAKeFBwCzggcArXcHAMOFBwDNbwcAUkUHAHMmBwDBJwcARysHANsuBwB2AwcAfAgHAD8kBwBUfAcAoXIHALhfBwAgUQcAbWEHAA3NBwD\\u002fWQgAbpUIALikCABGZAgACoAIACtXCAAYIQgAtAkIAKzSBwDmkAcAEHgHAKQjBwB6yAYAI34GADdYBgAQKgYAEP8FAML1BQAY9QUAoPUEAMSVBADtbwQAmzYEAF7YAwDiogMA51kDAHIuAwAA\\u002fgIAfMgCABixAgAnggIAZFYCAE9CAgCxHwIAkfwBANDKAQAQkwEAPG4BAPs9AQDDFgEAce8AALPIAABsowAAHoQAAN9nAAChTgAAwzMAAOgjAAC9GAAA4xEAAOceAAA=\"},\"yaxis\":\"y3\",\"type\":\"scatter\"},{\"hovertemplate\":\"year=2020\\u003cbr\\u003eage=%{x}\\u003cbr\\u003ePopulation=%{y}\\u003cextra\\u003e\\u003c\\u002fextra\\u003e\",\"legendgroup\":\"\",\"line\":{\"color\":\"black\",\"dash\":\"dash\"},\"marker\":{\"symbol\":\"circle\"},\"mode\":\"lines\",\"name\":\"\",\"orientation\":\"v\",\"showlegend\":false,\"x\":{\"dtype\":\"i1\",\"bdata\":\"AAECAwQFBgcICQoLDA0ODxAREhMUFRYXGBkaGxwdHh8gISIjJCUmJygpKissLS4vMDEyMzQ1Njc4OTo7PD0+P0BBQkNERUZHSElKS0xNTk9QUVJTVFVWV1hZWltcXV5fYGFiY2Q=\"},\"xaxis\":\"x4\",\"y\":{\"dtype\":\"i4\",\"bdata\":\"qaIFAI+6BQDy2gUAafkFAL0ZBgD\\u002fKAYARTYGALhFBgCATQYACksGAAtoBgCrbgYATmwGAJZEBgAQIAYAcxYGAFoyBgAmOQYAz38GAL4SBwDucwcAl3YHAKuCBwDzoAcANNoHALr4BwDD8wcAjAkIAPolCACeSggAQVsIAJ4lCABL+wcAjgMIAG0oCADzJQgA9xsIACQKCACv9QcABOkHAP7NBwBblwcA6HAHAO9nBwDyYAcAxFgHAAUyBwC8LAcA3kQHAMmEBwDIgAcA2WYHAM5VBwCtZQcAGMgHABJDCABPfAgADoYIAPlOCAAtVQgA1jEIAEb8BwA53QcAYKUHANVlBwAxQQcA3ewGAGaRBgBGRQYAyRIGANHgBQCOsAUAJ5sFADx8BQAZoAQAlToEAOcFBADnxAMAEmwDAM4rAwAn4wIApq4CAK14AgDGPwIAAhwCAFDnAQCluQEAOpgBAM1tAQAWRgEAyxMBAJzjAAD4wAAA85oAALF8AADdYQAAiUsAAEk2AACKJgAAMRsAAMktAAA=\"},\"yaxis\":\"y4\",\"type\":\"scatter\"},{\"hovertemplate\":\"year=2025\\u003cbr\\u003eage=%{x}\\u003cbr\\u003ePopulation=%{y}\\u003cextra\\u003e\\u003c\\u002fextra\\u003e\",\"legendgroup\":\"\",\"line\":{\"color\":\"black\",\"dash\":\"dash\"},\"marker\":{\"symbol\":\"circle\"},\"mode\":\"lines\",\"name\":\"\",\"orientation\":\"v\",\"showlegend\":false,\"x\":{\"dtype\":\"i1\",\"bdata\":\"AAECAwQFBgcICQoLDA0ODxAREhMUFRYXGBkaGxwdHh8gISIjJCUmJygpKissLS4vMDEyMzQ1Njc4OTo7PD0+P0BBQkNERUZHSElKS0xNTk9QUVJTVFVWV1hZWltcXV5fYGFiY2Q=\"},\"xaxis\":\"x\",\"y\":{\"dtype\":\"i4\",\"bdata\":\"ewoGAD8UBgBnHgYAKygGAIwxBgAYPAYA3EUGAEtdBgA0YQYAnHEGAPt6BgDAhAYAQJEGAHSZBgCHngYAD8sGAN\\u002frBgD4GQcAADoHABRYBwAsbQcAL30HAABsBwBrcwcAGIEHAHuzBwC80gcAm88HABTVBwBMBggAvy0IADgzCADUSwgApGwIAIiSCACApAgAHHIIALRICAAsTggATGoIALRhCAB4UggAzzsIAIslCACIFQgAHPUHAKO9BwCrkgcAC4MHAMR1BwBQZwcAyDoHANcvBwBgQwcA930HACh2BwAHWgcA5EYHAMdTBwAvrwcAKCUIAORZCABbXwgAgCcIAHMpCABwAAgAZ8cHAOihBwAwZAcAqB4HAPTwBgBImAYAyzcGADTkBQCbqQUAdG0FAGw0BQB7EAUAvOQEAPcSBAC4qAMAnGoDAB8jAwBUxwIAk4ICAJQ3AgBg\\u002fQEAK8MBAJOIAQAAXgEA0yoBAFf8AABo2AAATLMAAOyQAABTbwAAz1IAABs+AAAjLAAAQB8AANw3AAA=\"},\"yaxis\":\"y\",\"type\":\"scatter\"},{\"hovertemplate\":\"year=2030\\u003cbr\\u003eage=%{x}\\u003cbr\\u003ePopulation=%{y}\\u003cextra\\u003e\\u003c\\u002fextra\\u003e\",\"legendgroup\":\"\",\"line\":{\"color\":\"black\",\"dash\":\"dash\"},\"marker\":{\"symbol\":\"circle\"},\"mode\":\"lines\",\"name\":\"\",\"orientation\":\"v\",\"showlegend\":false,\"x\":{\"dtype\":\"i1\",\"bdata\":\"AAECAwQFBgcICQoLDA0ODxAREhMUFRYXGBkaGxwdHh8gISIjJCUmJygpKissLS4vMDEyMzQ1Njc4OTo7PD0+P0BBQkNERUZHSElKS0xNTk9QUVJTVFVWV1hZWltcXV5fYGFiY2Q=\"},\"xaxis\":\"x2\",\"y\":{\"dtype\":\"i4\",\"bdata\":\"8DEGAE87BgAIRwYAv1IGAHdeBgD4agYAFHcGADuBBgA4igYApJEGAEiYBgAkngYAc7IGAFu2BgDMzQYAXOgGAD8OBwAjTQcAK58HAETmBwCILggApDoIAFg2CABUDQgA7OMHACTKBwDTzgcAg7oHADO\\u002fBwCnzQcAFAcIABgwCADoNwgA7EcIAMh\\u002fCACUqQgAGK0IAHS\\u002fCAAQ2AgAzPMIAGT8CAD4wggAGJQIAFCTCADMqAgALJkIAOiCCADUZAgAv0YIAIguCAATBwgAI8oHAESbBwBXhwcAi3YHAPdkBwBQNQcAPycHAEM3BwD0bQcAy2MHAIBGBwAEMQcA\\u002fzkHAIuPBwAk\\u002fAcAcykIAIAnCADI6QcAv+IHALOyBwA\\u002fcgcAX0MHABD9BgDwrgYA6HUGAAgVBgBXrAUAxE8FAHMJBQDMwAQA4HoEAMBFBAD7CQQAEEcDAAfcAgBUlQIAX0gCALPvAQArqgEAE2MBAG8qAQBP9QAAfMQAAMSfAABwewAAwF0AAHtHAAD0MwAAHCUAAJ9BAAA=\"},\"yaxis\":\"y2\",\"type\":\"scatter\"}],                        {\"template\":{\"data\":{\"histogram2dcontour\":[{\"type\":\"histogram2dcontour\",\"colorbar\":{\"outlinewidth\":0,\"ticks\":\"\"},\"colorscale\":[[0.0,\"#0d0887\"],[0.1111111111111111,\"#46039f\"],[0.2222222222222222,\"#7201a8\"],[0.3333333333333333,\"#9c179e\"],[0.4444444444444444,\"#bd3786\"],[0.5555555555555556,\"#d8576b\"],[0.6666666666666666,\"#ed7953\"],[0.7777777777777778,\"#fb9f3a\"],[0.8888888888888888,\"#fdca26\"],[1.0,\"#f0f921\"]]}],\"choropleth\":[{\"type\":\"choropleth\",\"colorbar\":{\"outlinewidth\":0,\"ticks\":\"\"}}],\"histogram2d\":[{\"type\":\"histogram2d\",\"colorbar\":{\"outlinewidth\":0,\"ticks\":\"\"},\"colorscale\":[[0.0,\"#0d0887\"],[0.1111111111111111,\"#46039f\"],[0.2222222222222222,\"#7201a8\"],[0.3333333333333333,\"#9c179e\"],[0.4444444444444444,\"#bd3786\"],[0.5555555555555556,\"#d8576b\"],[0.6666666666666666,\"#ed7953\"],[0.7777777777777778,\"#fb9f3a\"],[0.8888888888888888,\"#fdca26\"],[1.0,\"#f0f921\"]]}],\"heatmap\":[{\"type\":\"heatmap\",\"colorbar\":{\"outlinewidth\":0,\"ticks\":\"\"},\"colorscale\":[[0.0,\"#0d0887\"],[0.1111111111111111,\"#46039f\"],[0.2222222222222222,\"#7201a8\"],[0.3333333333333333,\"#9c179e\"],[0.4444444444444444,\"#bd3786\"],[0.5555555555555556,\"#d8576b\"],[0.6666666666666666,\"#ed7953\"],[0.7777777777777778,\"#fb9f3a\"],[0.8888888888888888,\"#fdca26\"],[1.0,\"#f0f921\"]]}],\"contourcarpet\":[{\"type\":\"contourcarpet\",\"colorbar\":{\"outlinewidth\":0,\"ticks\":\"\"}}],\"contour\":[{\"type\":\"contour\",\"colorbar\":{\"outlinewidth\":0,\"ticks\":\"\"},\"colorscale\":[[0.0,\"#0d0887\"],[0.1111111111111111,\"#46039f\"],[0.2222222222222222,\"#7201a8\"],[0.3333333333333333,\"#9c179e\"],[0.4444444444444444,\"#bd3786\"],[0.5555555555555556,\"#d8576b\"],[0.6666666666666666,\"#ed7953\"],[0.7777777777777778,\"#fb9f3a\"],[0.8888888888888888,\"#fdca26\"],[1.0,\"#f0f921\"]]}],\"surface\":[{\"type\":\"surface\",\"colorbar\":{\"outlinewidth\":0,\"ticks\":\"\"},\"colorscale\":[[0.0,\"#0d0887\"],[0.1111111111111111,\"#46039f\"],[0.2222222222222222,\"#7201a8\"],[0.3333333333333333,\"#9c179e\"],[0.4444444444444444,\"#bd3786\"],[0.5555555555555556,\"#d8576b\"],[0.6666666666666666,\"#ed7953\"],[0.7777777777777778,\"#fb9f3a\"],[0.8888888888888888,\"#fdca26\"],[1.0,\"#f0f921\"]]}],\"mesh3d\":[{\"type\":\"mesh3d\",\"colorbar\":{\"outlinewidth\":0,\"ticks\":\"\"}}],\"scatter\":[{\"fillpattern\":{\"fillmode\":\"overlay\",\"size\":10,\"solidity\":0.2},\"type\":\"scatter\"}],\"parcoords\":[{\"type\":\"parcoords\",\"line\":{\"colorbar\":{\"outlinewidth\":0,\"ticks\":\"\"}}}],\"scatterpolargl\":[{\"type\":\"scatterpolargl\",\"marker\":{\"colorbar\":{\"outlinewidth\":0,\"ticks\":\"\"}}}],\"bar\":[{\"error_x\":{\"color\":\"#2a3f5f\"},\"error_y\":{\"color\":\"#2a3f5f\"},\"marker\":{\"line\":{\"color\":\"white\",\"width\":0.5},\"pattern\":{\"fillmode\":\"overlay\",\"size\":10,\"solidity\":0.2}},\"type\":\"bar\"}],\"scattergeo\":[{\"type\":\"scattergeo\",\"marker\":{\"colorbar\":{\"outlinewidth\":0,\"ticks\":\"\"}}}],\"scatterpolar\":[{\"type\":\"scatterpolar\",\"marker\":{\"colorbar\":{\"outlinewidth\":0,\"ticks\":\"\"}}}],\"histogram\":[{\"marker\":{\"pattern\":{\"fillmode\":\"overlay\",\"size\":10,\"solidity\":0.2}},\"type\":\"histogram\"}],\"scattergl\":[{\"type\":\"scattergl\",\"marker\":{\"colorbar\":{\"outlinewidth\":0,\"ticks\":\"\"}}}],\"scatter3d\":[{\"type\":\"scatter3d\",\"line\":{\"colorbar\":{\"outlinewidth\":0,\"ticks\":\"\"}},\"marker\":{\"colorbar\":{\"outlinewidth\":0,\"ticks\":\"\"}}}],\"scattermap\":[{\"type\":\"scattermap\",\"marker\":{\"colorbar\":{\"outlinewidth\":0,\"ticks\":\"\"}}}],\"scattermapbox\":[{\"type\":\"scattermapbox\",\"marker\":{\"colorbar\":{\"outlinewidth\":0,\"ticks\":\"\"}}}],\"scatterternary\":[{\"type\":\"scatterternary\",\"marker\":{\"colorbar\":{\"outlinewidth\":0,\"ticks\":\"\"}}}],\"scattercarpet\":[{\"type\":\"scattercarpet\",\"marker\":{\"colorbar\":{\"outlinewidth\":0,\"ticks\":\"\"}}}],\"carpet\":[{\"aaxis\":{\"endlinecolor\":\"#2a3f5f\",\"gridcolor\":\"#C8D4E3\",\"linecolor\":\"#C8D4E3\",\"minorgridcolor\":\"#C8D4E3\",\"startlinecolor\":\"#2a3f5f\"},\"baxis\":{\"endlinecolor\":\"#2a3f5f\",\"gridcolor\":\"#C8D4E3\",\"linecolor\":\"#C8D4E3\",\"minorgridcolor\":\"#C8D4E3\",\"startlinecolor\":\"#2a3f5f\"},\"type\":\"carpet\"}],\"table\":[{\"cells\":{\"fill\":{\"color\":\"#EBF0F8\"},\"line\":{\"color\":\"white\"}},\"header\":{\"fill\":{\"color\":\"#C8D4E3\"},\"line\":{\"color\":\"white\"}},\"type\":\"table\"}],\"barpolar\":[{\"marker\":{\"line\":{\"color\":\"white\",\"width\":0.5},\"pattern\":{\"fillmode\":\"overlay\",\"size\":10,\"solidity\":0.2}},\"type\":\"barpolar\"}],\"pie\":[{\"automargin\":true,\"type\":\"pie\"}]},\"layout\":{\"autotypenumbers\":\"strict\",\"colorway\":[\"#636efa\",\"#EF553B\",\"#00cc96\",\"#ab63fa\",\"#FFA15A\",\"#19d3f3\",\"#FF6692\",\"#B6E880\",\"#FF97FF\",\"#FECB52\"],\"font\":{\"color\":\"#2a3f5f\"},\"hovermode\":\"closest\",\"hoverlabel\":{\"align\":\"left\"},\"paper_bgcolor\":\"white\",\"plot_bgcolor\":\"white\",\"polar\":{\"bgcolor\":\"white\",\"angularaxis\":{\"gridcolor\":\"#EBF0F8\",\"linecolor\":\"#EBF0F8\",\"ticks\":\"\"},\"radialaxis\":{\"gridcolor\":\"#EBF0F8\",\"linecolor\":\"#EBF0F8\",\"ticks\":\"\"}},\"ternary\":{\"bgcolor\":\"white\",\"aaxis\":{\"gridcolor\":\"#DFE8F3\",\"linecolor\":\"#A2B1C6\",\"ticks\":\"\"},\"baxis\":{\"gridcolor\":\"#DFE8F3\",\"linecolor\":\"#A2B1C6\",\"ticks\":\"\"},\"caxis\":{\"gridcolor\":\"#DFE8F3\",\"linecolor\":\"#A2B1C6\",\"ticks\":\"\"}},\"coloraxis\":{\"colorbar\":{\"outlinewidth\":0,\"ticks\":\"\"}},\"colorscale\":{\"sequential\":[[0.0,\"#0d0887\"],[0.1111111111111111,\"#46039f\"],[0.2222222222222222,\"#7201a8\"],[0.3333333333333333,\"#9c179e\"],[0.4444444444444444,\"#bd3786\"],[0.5555555555555556,\"#d8576b\"],[0.6666666666666666,\"#ed7953\"],[0.7777777777777778,\"#fb9f3a\"],[0.8888888888888888,\"#fdca26\"],[1.0,\"#f0f921\"]],\"sequentialminus\":[[0.0,\"#0d0887\"],[0.1111111111111111,\"#46039f\"],[0.2222222222222222,\"#7201a8\"],[0.3333333333333333,\"#9c179e\"],[0.4444444444444444,\"#bd3786\"],[0.5555555555555556,\"#d8576b\"],[0.6666666666666666,\"#ed7953\"],[0.7777777777777778,\"#fb9f3a\"],[0.8888888888888888,\"#fdca26\"],[1.0,\"#f0f921\"]],\"diverging\":[[0,\"#8e0152\"],[0.1,\"#c51b7d\"],[0.2,\"#de77ae\"],[0.3,\"#f1b6da\"],[0.4,\"#fde0ef\"],[0.5,\"#f7f7f7\"],[0.6,\"#e6f5d0\"],[0.7,\"#b8e186\"],[0.8,\"#7fbc41\"],[0.9,\"#4d9221\"],[1,\"#276419\"]]},\"xaxis\":{\"gridcolor\":\"#EBF0F8\",\"linecolor\":\"#EBF0F8\",\"ticks\":\"\",\"title\":{\"standoff\":15},\"zerolinecolor\":\"#EBF0F8\",\"automargin\":true,\"zerolinewidth\":2},\"yaxis\":{\"gridcolor\":\"#EBF0F8\",\"linecolor\":\"#EBF0F8\",\"ticks\":\"\",\"title\":{\"standoff\":15},\"zerolinecolor\":\"#EBF0F8\",\"automargin\":true,\"zerolinewidth\":2},\"scene\":{\"xaxis\":{\"backgroundcolor\":\"white\",\"gridcolor\":\"#DFE8F3\",\"linecolor\":\"#EBF0F8\",\"showbackground\":true,\"ticks\":\"\",\"zerolinecolor\":\"#EBF0F8\",\"gridwidth\":2},\"yaxis\":{\"backgroundcolor\":\"white\",\"gridcolor\":\"#DFE8F3\",\"linecolor\":\"#EBF0F8\",\"showbackground\":true,\"ticks\":\"\",\"zerolinecolor\":\"#EBF0F8\",\"gridwidth\":2},\"zaxis\":{\"backgroundcolor\":\"white\",\"gridcolor\":\"#DFE8F3\",\"linecolor\":\"#EBF0F8\",\"showbackground\":true,\"ticks\":\"\",\"zerolinecolor\":\"#EBF0F8\",\"gridwidth\":2}},\"shapedefaults\":{\"line\":{\"color\":\"#2a3f5f\"}},\"annotationdefaults\":{\"arrowcolor\":\"#2a3f5f\",\"arrowhead\":0,\"arrowwidth\":1},\"geo\":{\"bgcolor\":\"white\",\"landcolor\":\"white\",\"subunitcolor\":\"#C8D4E3\",\"showland\":true,\"showlakes\":true,\"lakecolor\":\"white\"},\"title\":{\"x\":0.05},\"mapbox\":{\"style\":\"light\"}}},\"xaxis\":{\"anchor\":\"y\",\"domain\":[0.0,0.475],\"title\":{\"text\":\"Age (years)\"},\"nticks\":6},\"yaxis\":{\"anchor\":\"x\",\"domain\":[0.0,0.26666666666666666],\"title\":{\"text\":\"Population\"}},\"xaxis2\":{\"anchor\":\"y2\",\"domain\":[0.525,1.0],\"matches\":\"x\",\"title\":{\"text\":\"Age (years)\"},\"nticks\":6},\"yaxis2\":{\"anchor\":\"x2\",\"domain\":[0.0,0.26666666666666666],\"matches\":\"y\",\"showticklabels\":false},\"xaxis3\":{\"anchor\":\"y3\",\"domain\":[0.0,0.475],\"matches\":\"x\",\"showticklabels\":false,\"title\":{\"text\":\"Age (years)\"},\"nticks\":6},\"yaxis3\":{\"anchor\":\"x3\",\"domain\":[0.3666666666666667,0.6333333333333333],\"matches\":\"y\",\"title\":{\"text\":\"Population\"}},\"xaxis4\":{\"anchor\":\"y4\",\"domain\":[0.525,1.0],\"matches\":\"x\",\"showticklabels\":false,\"title\":{\"text\":\"Age (years)\"},\"nticks\":6},\"yaxis4\":{\"anchor\":\"x4\",\"domain\":[0.3666666666666667,0.6333333333333333],\"matches\":\"y\",\"showticklabels\":false},\"xaxis5\":{\"anchor\":\"y5\",\"domain\":[0.0,0.475],\"matches\":\"x\",\"showticklabels\":false,\"title\":{\"text\":\"Age (years)\"},\"nticks\":6},\"yaxis5\":{\"anchor\":\"x5\",\"domain\":[0.7333333333333334,1.0],\"matches\":\"y\",\"title\":{\"text\":\"Population\"}},\"xaxis6\":{\"anchor\":\"y6\",\"domain\":[0.525,1.0],\"matches\":\"x\",\"showticklabels\":false,\"title\":{\"text\":\"Age (years)\"},\"nticks\":6},\"yaxis6\":{\"anchor\":\"x6\",\"domain\":[0.7333333333333334,1.0],\"matches\":\"y\",\"showticklabels\":false},\"annotations\":[{\"font\":{},\"showarrow\":false,\"text\":\"year=2025\",\"x\":0.2375,\"xanchor\":\"center\",\"xref\":\"paper\",\"y\":0.26666666666666666,\"yanchor\":\"bottom\",\"yref\":\"paper\"},{\"font\":{},\"showarrow\":false,\"text\":\"year=2030\",\"x\":0.7625,\"xanchor\":\"center\",\"xref\":\"paper\",\"y\":0.26666666666666666,\"yanchor\":\"bottom\",\"yref\":\"paper\"},{\"font\":{},\"showarrow\":false,\"text\":\"year=2015\",\"x\":0.2375,\"xanchor\":\"center\",\"xref\":\"paper\",\"y\":0.6333333333333333,\"yanchor\":\"bottom\",\"yref\":\"paper\"},{\"font\":{},\"showarrow\":false,\"text\":\"year=2020\",\"x\":0.7625,\"xanchor\":\"center\",\"xref\":\"paper\",\"y\":0.6333333333333333,\"yanchor\":\"bottom\",\"yref\":\"paper\"},{\"font\":{},\"showarrow\":false,\"text\":\"year=2001\",\"x\":0.2375,\"xanchor\":\"center\",\"xref\":\"paper\",\"y\":1.0,\"yanchor\":\"bottom\",\"yref\":\"paper\"},{\"font\":{},\"showarrow\":false,\"text\":\"year=2010\",\"x\":0.7625,\"xanchor\":\"center\",\"xref\":\"paper\",\"y\":1.0,\"yanchor\":\"bottom\",\"yref\":\"paper\"}],\"legend\":{\"tracegroupgap\":0,\"title\":{\"text\":\"\"}},\"title\":{\"text\":\"Population Pyramid Comparison\\u003cbr\\u003eProvince: CA\\u003cbr\\u003eInitial Births in 2001: 5000\\u003cbr\\u003eProjection Scenario: M3\",\"x\":0.5,\"y\":0.95},\"height\":1000,\"width\":850,\"margin\":{\"t\":150},\"showlegend\":true},                        {\"toImageButtonOptions\": {\"format\": \"png\", \"scale\": 2}, \"responsive\": true}                    )                };            </script>        </div>"
      ]
     },
     "metadata": {},
     "output_type": "display_data"
    }
   ],
   "source": [
    "df = population_df.copy()\n",
    "YEARS = [STARTING_YEAR, 2010, 2015, 2020, 2025, 2030]\n",
    "df = df[df[\"year\"].isin(YEARS)].reset_index(drop=True)\n",
    "fig = px.line(\n",
    "    df,\n",
    "    x=\"age\",\n",
    "    y=\"n_alive_model\",\n",
    "    facet_col=\"year\",\n",
    "    facet_col_wrap=2,\n",
    "    title=f\"Population Pyramid Comparison<br>\"\n",
    "    + f\"Province: {PROVINCE}<br>\"\n",
    "    + f\"Initial Births in {STARTING_YEAR}: {N_BIRTHS}<br>\"\n",
    "    + f\"Projection Scenario: {GROWTH_TYPE}\",\n",
    "    labels={\"n_alive_model\": \"Population\"},\n",
    "    color_discrete_sequence=[\"#999999\"],\n",
    "    height=1000,\n",
    "    width=850,\n",
    "    facet_row_spacing=0.1,\n",
    "    facet_col_spacing=0.05\n",
    ")\n",
    "fig_target = px.line(\n",
    "    df,\n",
    "    x=\"age\",\n",
    "    y=\"n_alive_target\",\n",
    "    facet_col=\"year\",\n",
    "    facet_col_wrap=2,\n",
    "    labels={\"n_alive_target\": \"Population\"},\n",
    "    color_discrete_sequence=[\"black\"],\n",
    "    line_dash_sequence=[\"dash\"],\n",
    "    height=1000,\n",
    "    width=850,\n",
    "    facet_row_spacing=0.1,\n",
    "    facet_col_spacing=0.05\n",
    ")\n",
    "fig.add_traces(\n",
    "    fig_target.data\n",
    ")\n",
    "\n",
    "fig.data[0].update(showlegend=True, name=\"model\")\n",
    "fig.data[len(YEARS)].update(showlegend=True, name=\"target\")\n",
    "fig.update_xaxes(title_text=\"Age (years)\", nticks=6)\n",
    "fig.update_layout(\n",
    "    legend_title_text=\"\",\n",
    "    title_x=0.5,\n",
    "    title_y=0.95,\n",
    "    margin=dict(t=150), # Adjust top margin for title\n",
    "    showlegend=True\n",
    ")\n",
    "fig.show(config=config)"
   ]
  },
  {
   "cell_type": "markdown",
   "id": "78804816",
   "metadata": {},
   "source": [
    "## Mortality Figure\n",
    "\n",
    "Mortality by sex (left: males; right: females) for the model (grey solid) and Statistics\n",
    "Canada (black dashed)."
   ]
  },
  {
   "cell_type": "markdown",
   "id": "71a43362",
   "metadata": {},
   "source": [
    "### Load Data"
   ]
  },
  {
   "cell_type": "code",
   "execution_count": 7,
   "id": "a090d6e6",
   "metadata": {
    "execution": {
     "iopub.execute_input": "2025-08-30T21:58:54.408522Z",
     "iopub.status.busy": "2025-08-30T21:58:54.408332Z",
     "iopub.status.idle": "2025-08-30T21:58:54.441329Z",
     "shell.execute_reply": "2025-08-30T21:58:54.440696Z"
    }
   },
   "outputs": [],
   "source": [
    "# Read observed StatCan mortality data\n",
    "target_mortality_df_raw = pd.read_csv(get_data_path(\"processed_data/life_table.csv\"))\n",
    "\n",
    "# Read mortality data from simulation\n",
    "model_mortality_df_raw = pd.read_csv(RUN_BUNDLE_FOLDER / \"outcome_matrix_death.csv\")\n",
    "\n",
    "# Read population data from simulation\n",
    "model_alive_df_raw = pd.read_csv(RUN_BUNDLE_FOLDER / \"outcome_matrix_alive.csv\")"
   ]
  },
  {
   "cell_type": "markdown",
   "id": "fd4ec1ae",
   "metadata": {},
   "source": [
    "### Process Data"
   ]
  },
  {
   "cell_type": "code",
   "execution_count": 8,
   "id": "0630d713",
   "metadata": {
    "execution": {
     "iopub.execute_input": "2025-08-30T21:58:54.443376Z",
     "iopub.status.busy": "2025-08-30T21:58:54.443185Z",
     "iopub.status.idle": "2025-08-30T21:58:54.467169Z",
     "shell.execute_reply": "2025-08-30T21:58:54.466629Z"
    }
   },
   "outputs": [],
   "source": [
    "# Filter by ages under 80 years for the figure\n",
    "target_mortality_df = target_mortality_df_raw[target_mortality_df_raw[\"age\"] <= 80]\n",
    "# Filter by chosen province\n",
    "target_mortality_df = target_mortality_df[target_mortality_df[\"province\"] == PROVINCE]\n",
    "\n",
    "# Filter by ages under 80 years for the figure\n",
    "model_mortality_df = model_mortality_df_raw[model_mortality_df_raw[\"age\"] <= 80]\n",
    "# Merge model_mortality_df with model_alive_df to get n_alive for each row\n",
    "model_mortality_df = model_mortality_df.merge(model_alive_df_raw, on=[\"year\", \"age\", \"sex\"])\n",
    "# Calculate mortality rate as n_deaths / n_alive\n",
    "model_mortality_df[\"prob_death\"] = model_mortality_df[\"n_deaths\"] / model_mortality_df[\"n_alive\"]"
   ]
  },
  {
   "cell_type": "markdown",
   "id": "ed0375c3",
   "metadata": {},
   "source": [
    "### Visualize Data"
   ]
  },
  {
   "cell_type": "code",
   "execution_count": 9,
   "id": "55342c32",
   "metadata": {
    "execution": {
     "iopub.execute_input": "2025-08-30T21:58:54.469141Z",
     "iopub.status.busy": "2025-08-30T21:58:54.468941Z",
     "iopub.status.idle": "2025-08-30T21:58:54.837289Z",
     "shell.execute_reply": "2025-08-30T21:58:54.836550Z"
    }
   },
   "outputs": [
    {
     "data": {
      "text/html": [
       "<div>            <script src=\"https://cdnjs.cloudflare.com/ajax/libs/mathjax/2.7.5/MathJax.js?config=TeX-AMS-MML_SVG\"></script><script type=\"text/javascript\">if (window.MathJax && window.MathJax.Hub && window.MathJax.Hub.Config) {window.MathJax.Hub.Config({SVG: {font: \"STIX-Web\"}});}</script>                <script type=\"text/javascript\">window.PlotlyConfig = {MathJaxConfig: 'local'};</script>\n",
       "        <script charset=\"utf-8\" src=\"https://cdn.plot.ly/plotly-3.1.0.min.js\" integrity=\"sha256-Ei4740bWZhaUTQuD6q9yQlgVCMPBz6CZWhevDYPv93A=\" crossorigin=\"anonymous\"></script>                <div id=\"e77692b8-3f59-4480-826c-5568ff3f20a5\" class=\"plotly-graph-div\" style=\"height:800px; width:100%;\"></div>            <script type=\"text/javascript\">                window.PLOTLYENV=window.PLOTLYENV || {};                                if (document.getElementById(\"e77692b8-3f59-4480-826c-5568ff3f20a5\")) {                    Plotly.newPlot(                        \"e77692b8-3f59-4480-826c-5568ff3f20a5\",                        [{\"hovertemplate\":\"sex=F\\u003cbr\\u003eyear=2001\\u003cbr\\u003eage=%{x}\\u003cbr\\u003eProbability of dying between ages x and x+1=%{y}\\u003cextra\\u003e\\u003c\\u002fextra\\u003e\",\"legendgroup\":\"\",\"line\":{\"color\":\"#999999\",\"dash\":\"solid\"},\"marker\":{\"symbol\":\"circle\"},\"mode\":\"lines\",\"name\":\"model\",\"orientation\":\"v\",\"showlegend\":true,\"x\":{\"dtype\":\"i1\",\"bdata\":\"AAECAwQFBgcICQoLDA0ODxAREhMUFRYXGBkaGxwdHh8gISIjJCUmJygpKissLS4vMDEyMzQ1Njc4OTo7PD0+P0BBQkNERUZHSElKS0xNTk9Q\"},\"xaxis\":\"x7\",\"y\":{\"dtype\":\"f8\",\"bdata\":\"txBLEsaMdz\\u002fWrVqOtVcpP8TzybKRqyk\\u002fAAAAAAAAAAAAAAAAAAAAAAAAAAAAAAAAZ7qgH48XJj8AAAAAAAAAAE+7jhmVvDU\\u002fAAAAAAAAAAACjkX4x+k+P9EE5WOdjiQ\\u002fu6Vr6NKYJT8AAAAAAAAAAFcQkyuIyTU\\u002fLMWt4c8XJT\\u002fVoVNsmhJFP8vAhByrAkA\\u002fAAAAAAAAAADSnTc55gNFP6HUkKQsXzQ\\u002fSGTLvTW4ND+YzLnl2us0P6WxomoY5D8\\u002fQgEiVAdxNT8ffat5rAslP0gS1ZC\\u002fLDU\\u002fw8vB8bpCJT8wtr25tAxAP2MiSuaUMDQ\\u002farBH8OxwIz+kL9vv4\\u002fc8PwYYYIABBkg\\u002ffVpOayVaMz+qwTRLLygzP0judvk210o\\u002fNQ8Jydh8VD\\u002fNFcAvrrVPP1endst5tUM\\u002fl4fX14D7Rz9O02wlB6hXP8FiIYpkY0Q\\u002f\\u002f9kDHWOmSD\\u002fqzv9RrnNEP5+pXHe82FI\\u002fxCvHfYKzVz\\u002fOl+I4631TP1Hm6ydtVVY\\u002fbfxS5va7Wz8kejlIbTNYP6x+dAaBl18\\u002fvKM19WAEZD\\u002f5aqceSllwP25Dap9uMmM\\u002fNTKKNYP\\u002faT8K+zqIJjFsP2PpS0p0MHQ\\u002f+SJRauxhdj9g0YFFBxZtP8a+C8VAKHM\\u002fpGsetd92dj+qurtYggd4P5oe93xEsH8\\u002fBpayXZ8VgT+dhJh7nvmDPzcCUtqNgIQ\\u002fBkLtC4Tahz\\u002fu55HYAZWKP4GCMHFdL4k\\u002fn59o55XcjD8SW1N5+amNPzjjWiSoqZA\\u002fmD+yAPNHlj8Czqb5x2SZP0pl4rh3bJo\\u002f2LgwBSkjnj9xR+1bdRWfP6HkTtHCGaA\\u002fz3j0Bsk+oz8GvSBtFqClP4ZckQrlXqg\\u002f\"},\"yaxis\":\"y7\",\"type\":\"scatter\"},{\"hovertemplate\":\"sex=F\\u003cbr\\u003eyear=2010\\u003cbr\\u003eage=%{x}\\u003cbr\\u003eProbability of dying between ages x and x+1=%{y}\\u003cextra\\u003e\\u003c\\u002fextra\\u003e\",\"legendgroup\":\"\",\"line\":{\"color\":\"#999999\",\"dash\":\"solid\"},\"marker\":{\"symbol\":\"circle\"},\"mode\":\"lines\",\"name\":\"\",\"orientation\":\"v\",\"showlegend\":false,\"x\":{\"dtype\":\"i1\",\"bdata\":\"AAECAwQFBgcICQoLDA0ODxAREhMUFRYXGBkaGxwdHh8gISIjJCUmJygpKissLS4vMDEyMzQ1Njc4OTo7PD0+P0BBQkNERUZHSElKS0xNTk9Q\"},\"xaxis\":\"x8\",\"y\":{\"dtype\":\"f8\",\"bdata\":\"8xL1\\u002fOH6bj8AAAAAAAAAAAAAAAAAAAAAOnox6rp0Jz\\u002fep7L50XE4PwAAAAAAAAAAAAAAAAAAAAA2SGh9B5UoPwAAAAAAAAAARGEuyBKIKD8AAAAAAAAAAE2rCRANzSc\\u002fAAAAAAAAAAAAAAAAAAAAACzFreHPFzU\\u002fNPR0W11FND+nZUe9VR40PxVKaSddlj0\\u002fPTIj6QPhTD\\u002fcl7XsINk7P7J3kX6dUzI\\u002fL87ZZwLzMj8AAAAAAAAAAFArCjqnSCM\\u002fW+NjIMqARz\\u002foyERKK5hCPy6W7FmNITw\\u002fBZMCiV9OMj8cCM0bCM07P3VTpJOoq0Y\\u002fAlBgThXUOz81MA+R5yw8P2M0iw72\\u002fkI\\u002fRfSW\\u002fBQwMz\\u002fIKvI48C08P5\\u002fLedjUcjw\\u002fQBhSUu1HIz8xDtR\\u002f30tNPxHHIFdJoFI\\u002fPcbtsHluRj8fi0WRMr1YP2uKAeyU7UE\\u002f5vIkp5L8Tz9QTYvDnNpWP+q+oB2zulc\\u002fMvH9DJeWRz\\u002fGv33pHjVTPzxqBZdouFw\\u002f3a9oIOyhYD9\\u002fM\\u002fx5lgNLPyWL7+pfFFo\\u002f+P+oxMphXj+ckQ18BVlYPzg7+dKcNFs\\u002fenMIbuVJXj\\u002fn6Bo1W3tuP96j6mDwmm4\\u002fYFovpQoxbD\\u002fxf\\u002fnWfQ9yP\\u002fF\\u002f+dZ9D3I\\u002f1ycCcjjicT+TzDgCCWF+P68uu7GIo3M\\u002fx7yCyEsNdz9ve6SHe012P51M3laXa4I\\u002fvWVxPMP3hD9zx\\u002f6dLcKBP5+zYamKBYo\\u002fIqp5w2sUij\\u002fXBzKL1bqEP7SjSxJelY4\\u002f9LVoNUvniz+6RMGXpUuUP2piRh0DIZE\\u002fhgbNquWUlT\\u002fhwDIdPPSUPw+63ng+xJc\\u002f6bb5AQ5Mmz+2zaMBg8WkPwbUM5Xrjqc\\u002f\"},\"yaxis\":\"y8\",\"type\":\"scatter\"},{\"hovertemplate\":\"sex=F\\u003cbr\\u003eyear=2015\\u003cbr\\u003eage=%{x}\\u003cbr\\u003eProbability of dying between ages x and x+1=%{y}\\u003cextra\\u003e\\u003c\\u002fextra\\u003e\",\"legendgroup\":\"\",\"line\":{\"color\":\"#999999\",\"dash\":\"solid\"},\"marker\":{\"symbol\":\"circle\"},\"mode\":\"lines\",\"name\":\"\",\"orientation\":\"v\",\"showlegend\":false,\"x\":{\"dtype\":\"i1\",\"bdata\":\"AAECAwQFBgcICQoLDA0ODxAREhMUFRYXGBkaGxwdHh8gISIjJCUmJygpKissLS4vMDEyMzQ1Njc4OTo7PD0+P0BBQkNERUZHSElKS0xNTk9Q\"},\"xaxis\":\"x9\",\"y\":{\"dtype\":\"f8\",\"bdata\":\"j9fts5SbcT+hsqdQDQg3PwAAAAAAAAAAAAAAAAAAAAAtMkROPZ0mPwAAAAAAAAAAAAAAAAAAAAAAAAAAAAAAAAAAAAAAAAAAAAAAAAAAAAAAAAAAAAAAAEIBLKGF9yY\\u002fAAAAAAAAAADytpOE29wmPwAAAAAAAAAAOp2XlGsaJj8AAAAAAAAAAD2vnX2lmiU\\u002f9yxB1sUeRT9W2Qc54csjP8kQUokxA0M\\u002fQJQgBgchIz\\u002fjQHGgOFA8PwAAAAAAAAAAkQjd5ux3Rj85n5LF1bhBP\\u002fKlj2VDiDs\\u002fxzdDa\\u002ffhRj\\u002fsrdqIEmQiP9M1bz0w3zE\\u002fqOfcbXDBMT8ZdX2VOtUxPzXsyVnQHjo\\u002fFakQjMcHRj8Jbr153A5KP4qcu0BVqCE\\u002fmICZyLHcQT9Imgn3oTUyP4VJbeKmDVc\\u002fiUeKqb6HRj+B02e4UUEyP1sw8eEklkI\\u002f08DGXWccPD+UcPFBowJLP27zIloen1M\\u002fZtZO4v01Sj8Wbs8BXTtaP9EQ03N0j1g\\u002fTgIqT5fRWj8D1Av8DsVdP\\u002fdjZz9JlmI\\u002fnQfYUdLvZD9hyIEmptFmPwiagmw6gGI\\u002f1kOi7r9mYD8VUAEVUAFlPwfEVvF3Um0\\u002feT7Bq2liaz95RrPHly9qP6ZrFLXhX28\\u002f60UH0ql3cD8DVTINMYFwP0Z7Zil5wXQ\\u002fhNqznN63ez+pJPXeFW96PxQ4gRM4gYM\\u002fm7hvzBcwgT8JFtYw6\\u002fyIP4wj+JJa84g\\u002fhs8GkWoKij8bkBqQGpCKP8CkvAeGN4w\\u002fvzQ53rcskD\\u002fwp8GfBn+KPw0ndV8eW5E\\u002f0Bh3CI+ukj+tT+CjhKKWP\\u002ftZ8L\\u002fpXJw\\u002fR2IsmMBvoT9oMmE2eyajP6Vzh\\u002foQPqM\\u002f\"},\"yaxis\":\"y9\",\"type\":\"scatter\"},{\"hovertemplate\":\"sex=F\\u003cbr\\u003eyear=2020\\u003cbr\\u003eage=%{x}\\u003cbr\\u003eProbability of dying between ages x and x+1=%{y}\\u003cextra\\u003e\\u003c\\u002fextra\\u003e\",\"legendgroup\":\"\",\"line\":{\"color\":\"#999999\",\"dash\":\"solid\"},\"marker\":{\"symbol\":\"circle\"},\"mode\":\"lines\",\"name\":\"\",\"orientation\":\"v\",\"showlegend\":false,\"x\":{\"dtype\":\"i1\",\"bdata\":\"AAECAwQFBgcICQoLDA0ODxAREhMUFRYXGBkaGxwdHh8gISIjJCUmJygpKissLS4vMDEyMzQ1Njc4OTo7PD0+P0BBQkNERUZHSElKS0xNTk9Q\"},\"xaxis\":\"x10\",\"y\":{\"dtype\":\"f8\",\"bdata\":\"AlyrP61hcT+eqfj0MgwnP0zoWorjMyc\\u002fuBBj3k20Jj8AAAAAAAAAAAAAAAAAAAAAAAAAAAAAAABVVVVVVVUlPwAAAAAAAAAAAAAAAAAAAAAAAAAAAAAAAAAAAAAAAAAA6BkZvImYND8AAAAAAAAAAKVuodCc4yU\\u002fAAAAAAAAAAClFVe42oQlPwAAAAAAAAAAy2JRAAyFPj+IeLycEBIjPwXgGAnAMTI\\u002fzeNJjfaxOz8NRLcdB08yP5FL7TH8NEI\\u002fpZ5v18OZIT867HomSKc5PyVdgvA5wDk\\u002fUmbV+AV7OT8AAAAAAAAAADTxUwEWSEg\\u002fiQSQ3NokUj+MAfSc\\u002f8JIP+CbHykcb0Q\\u002f06y0ZMPuRD88wSXVCmREP3s\\u002fl1AZgkQ\\u002f2r3Moz2cQD9QELQ4kn5SP6y9JeuAoEQ\\u002fLzefd8v7TD+p4FlQkjo5P4Han8frI1E\\u002fN4tl6RvrRT95CoqkmBNPP0wh6y\\u002fm91U\\u002fMomcJCGqWD8yyhtVavxYPxyNlJOItlQ\\u002fOZ+SxdW4UT9p2CaTgQJaP6M1Lxb4TF4\\u002fHPtzsnaOYz8GhalX7sthP7Hl0vtBumo\\u002f\\u002fmkX7GEbZD\\u002fMLvnWFbRmP8xaFqqsQmE\\u002fm7Oaol39Zj+IaMwsfKVwP95msMN0WW8\\u002f1sPuVnmycz+SppNGpN9zP1V+hEwewmw\\u002f658z49CKej9sFi1Bqh59P42DCZCminw\\u002fOWlz+XJWgj9giZKivq+FPy\\u002fpLLVfm38\\u002fqHN7LTnEhT9f5UEX6p2JP\\u002ftgZ8jMWoc\\u002fB6CkDN7\\u002fjD+dorqDk7iKP2wk9PdVupA\\u002fRt8rUuWukz9AgKrjEp6WP17PJaTmgpg\\u002fl5rKlxMBnz+t8odanl6dPxAFZPfVQaQ\\u002f\"},\"yaxis\":\"y10\",\"type\":\"scatter\"},{\"hovertemplate\":\"sex=F\\u003cbr\\u003eyear=2025\\u003cbr\\u003eage=%{x}\\u003cbr\\u003eProbability of dying between ages x and x+1=%{y}\\u003cextra\\u003e\\u003c\\u002fextra\\u003e\",\"legendgroup\":\"\",\"line\":{\"color\":\"#999999\",\"dash\":\"solid\"},\"marker\":{\"symbol\":\"circle\"},\"mode\":\"lines\",\"name\":\"\",\"orientation\":\"v\",\"showlegend\":false,\"x\":{\"dtype\":\"i1\",\"bdata\":\"AAECAwQFBgcICQoLDA0ODxAREhMUFRYXGBkaGxwdHh8gISIjJCUmJygpKissLS4vMDEyMzQ1Njc4OTo7PD0+P0BBQkNERUZHSElKS0xNTk9Q\"},\"xaxis\":\"x11\",\"y\":{\"dtype\":\"f8\",\"bdata\":\"J30M3VcRbz9yMpok2iYmP5ihHcYXDSY\\u002fAAAAAAAAAAC83kZ\\u002fKCQ3P\\u002fDrZ7UMwyU\\u002fAAAAAAAAAACqZAyqLpUlPwAAAAAAAAAAAAAAAAAAAAAAAAAAAAAAAOp7lgqvnCQ\\u002fOcoDkf1sJD9bv1Kg1q8kPwAAAAAAAAAAAAAAAAAAAAAAAAAAAAAAAAAAAAAAAAAArzUs6HNfMj\\u002fZ5DeK9ro7PwRu4tpkZSI\\u002fMcTvd0FXOz\\u002fTtKgPP75PP\\u002fpO5ljtBCI\\u002f+k7mWO0EIj\\u002fvsIjDjVAxPz3vg819KTo\\u002f+cV9\\u002fAlGQT9cg91GSksxP6PjeRMuu0A\\u002fAIYB6PlfSD\\u002fOrdb9RWlIP3GLicCFLkA\\u002fd8ymABHURz+mtkV+owk\\u002fP4UkvwnizS4\\u002flTR+Hs5pPz+1ThrTtZlTP55BiqTREkQ\\u002fROBn9tedRz\\u002fWIndPj7xPPwP2k93KOkQ\\u002fz1ME6x3hPz\\u002fKUfB7MBJUP1xI48faLlg\\u002f3vm0X\\u002fSNRD+nKamPYQRXP99bHZ75pVc\\u002fmBiIaEI8Wj\\u002fXs50HPX9jPxRPKu0PumE\\u002f0SM8RfaVXz8VSVVC3qxkP41XXINfD2Y\\u002fyh4Bg5k+bD\\u002fWKKeddGdiPzY+Cycv\\u002fGc\\u002fTgIqT5fRaj+WRo+oINtwP3cwiZ0X9G4\\u002f5OKwpa7abT88mMbGc2JxP3S4Pzvv4nE\\u002fLAhXIWFWfD\\u002fdAXUaF950P\\u002fKYhyPuq3g\\u002fZBnwSrZjeT+tL3vV0dKAPwBGca2+YYA\\u002fhD5Lxmurgj+DJxQRuGuFPxdg8hZg8oY\\u002fp9NHDeHXiT+FKtGQ68CQP3Xg6+btk4s\\u002f+M9NwniElj9BuLzs8N2RPxrDhGy4x5Q\\u002fIZ4B3OB0lz9UnUaLoxGePx5c9oaeVJ8\\u002f\"},\"yaxis\":\"y11\",\"type\":\"scatter\"},{\"hovertemplate\":\"sex=F\\u003cbr\\u003eyear=2030\\u003cbr\\u003eage=%{x}\\u003cbr\\u003eProbability of dying between ages x and x+1=%{y}\\u003cextra\\u003e\\u003c\\u002fextra\\u003e\",\"legendgroup\":\"\",\"line\":{\"color\":\"#999999\",\"dash\":\"solid\"},\"marker\":{\"symbol\":\"circle\"},\"mode\":\"lines\",\"name\":\"\",\"orientation\":\"v\",\"showlegend\":false,\"x\":{\"dtype\":\"i1\",\"bdata\":\"AAECAwQFBgcICQoLDA0ODxAREhMUFRYXGBkaGxwdHh8gISIjJCUmJygpKissLS4vMDEyMzQ1Njc4OTo7PD0+P0BBQkNERUZHSElKS0xNTk9Q\"},\"xaxis\":\"x12\",\"y\":{\"dtype\":\"f8\",\"bdata\":\"VI2HYNBGZz\\u002ficlEuc7IlP1CMrGMQaCU\\u002fAAAAAAAAAAAAAAAAAAAAAAAAAAAAAAAAefz+8CHDJD8AAAAAAAAAAAAAAAAAAAAAAAAAAAAAAACSerSEUuI+P2lVz76qJDQ\\u002fAAAAAAAAAAAAAAAAAAAAAAAAAAAAAAAAAAAAAAAAAACY22dvm\\u002fEyP0Z6a2fAYjI\\u002fbWw7ITIGIj8AAAAAAAAAAPmiJOJFsCA\\u002fjNcv1niYMD+cPPUsiEEwP4gi6rzIlUA\\u002fJBMKjJrKOT+2QZIbYwM6P7YPzDLfyDk\\u002fBo7hJMYSQT8dRDOomukwP\\u002f1qpK2E7UA\\u002fVlcB9mhZMD+vQHe7UItEPwiG3sl0KzA\\u002fHiJa4Cc0QD+ub5uahXEvP18c8vnVYy4\\u002fsU3V9ASTHj\\u002f7EJV26KkuP0xberg0LU4\\u002fgdQoYF1FRj98ZCoF61BUPyxMAbTopVY\\u002fceQB4BRHPj92BkPOpztZP9gFpYhChk4\\u002f8VppwbIQRz9dbE7iW69VP211AcLKVjc\\u002fFLc\\u002fg6qXWz+KX\\u002fE6feRZPwDHAeT4b1w\\u002fD4WtGecfXz+n2MtLS0ZkP219gcLS1lc\\u002fUXjZuLZBXj+ggnm4HGhpPwT3EdxHcF8\\u002flj7NKy9aYj\\u002fp6X82vcZiP3yCvNAphnI\\u002fIff4qh2Tcz\\u002fPAsEAU4NsPzxYrBrfVnE\\u002fA8576YMOej+OeILpom57PxsM6hN3GXw\\u002fNAoU1KyBfT+GUELcLY97P8JXKXDkX4I\\u002fuAeDIs+1hj8mkzYPAmaDPykHlRFLeYg\\u002f6dhwuBaOjD91y6itRVSMP1zJIzMr7JQ\\u002fbI0IIAnhij8B3G0wOC2TPz4Ts0BTNpY\\u002fOPgWNtoBmT9KH752gr+bP8IwyazWJZ4\\u002f\"},\"yaxis\":\"y12\",\"type\":\"scatter\"},{\"hovertemplate\":\"sex=M\\u003cbr\\u003eyear=2001\\u003cbr\\u003eage=%{x}\\u003cbr\\u003eProbability of dying between ages x and x+1=%{y}\\u003cextra\\u003e\\u003c\\u002fextra\\u003e\",\"legendgroup\":\"\",\"line\":{\"color\":\"#999999\",\"dash\":\"solid\"},\"marker\":{\"symbol\":\"circle\"},\"mode\":\"lines\",\"name\":\"\",\"orientation\":\"v\",\"showlegend\":false,\"x\":{\"dtype\":\"i1\",\"bdata\":\"AAECAwQFBgcICQoLDA0ODxAREhMUFRYXGBkaGxwdHh8gISIjJCUmJygpKissLS4vMDEyMzQ1Njc4OTo7PD0+P0BBQkNERUZHSElKS0xNTk9Q\"},\"xaxis\":\"x\",\"y\":{\"dtype\":\"f8\",\"bdata\":\"SOvIjGMbfT9LdAPVT5AoPyEr0fqDsTc\\u002fAAAAAAAAAADHBuY4+zwmPwAAAAAAAAAAcpwxc2AvJT8AAAAAAAAAAAAAAAAAAAAAAAAAAAAAAACRtg+C6OkjPwAAAAAAAAAAtlNrWKcVND\\u002fE95OfVhQ1P+UDbrCBWTQ\\u002ft7ltpZgDND\\u002fiKkYlCYNNPwWM5xE1Ej0\\u002fHdX+JoPjPT9uDEFnroUzP4ilU1fHiEg\\u002f57rKNuw4PT9mrQteII5RP5n4bOGr7VE\\u002f1bmChUwfPj8vzQCXuoREPwn1rjmfgk4\\u002fNSeBuFBzUj9tlMjHHdZRPwwLhf88vT4\\u002f\\u002fVfkXGJRIz9obuJ6H8hMPziGc6L9TE0\\u002fkw4E7GvZTD9zoyc5yDVHP1jTUpA5FkY\\u002fOMDCcDKyUj8aZfLOgvhTP\\u002fuHc30mcVc\\u002fuB7LDQHKWT8cBRN17qJXPwpNErHfYlc\\u002flUDnt3lIXD9kJxxYz7pmP7zs4diG0mE\\u002fcTKDhgi8Zj\\u002fHOuBg0FNgPyoBcS\\u002fvY10\\u002fRkuq+T7ZZz\\u002fH7EjnprtvP1FZXia1IGQ\\u002fsPQa0JJ2dj+wIJkwGeB1P5qXaiA\\u002f2XI\\u002fHUP+fdErdz9F9aCRd\\u002f52Pxc3YX5Xi3s\\u002fEhiBERiBgT+TNLOpWFOAP9JKIXqL1Ic\\u002flg1i1vhJgT\\u002flAskUdU+KP1FdyvcDLYk\\u002f6MeSV84piz+F9hLaS2iPPzVIKrgKkI8\\u002f1DV8S6hAkj\\u002fVm1BGiOeUPzjcsSGEN5Q\\u002fEN1MvZIjmD\\u002fje\\u002fkvNXWXP6BWuvzdRp0\\u002fGBL54X0hoT\\u002fa3m9GUiqhP6+vFmHdSaU\\u002foEMjhsUxoz9Nhv85XAysP6o3+7v\\u002fbaw\\u002fP+6g2Xxarj8JqZZ1oO2uPwQYCrrt1rM\\u002f\"},\"yaxis\":\"y\",\"type\":\"scatter\"},{\"hovertemplate\":\"sex=M\\u003cbr\\u003eyear=2010\\u003cbr\\u003eage=%{x}\\u003cbr\\u003eProbability of dying between ages x and x+1=%{y}\\u003cextra\\u003e\\u003c\\u002fextra\\u003e\",\"legendgroup\":\"\",\"line\":{\"color\":\"#999999\",\"dash\":\"solid\"},\"marker\":{\"symbol\":\"circle\"},\"mode\":\"lines\",\"name\":\"\",\"orientation\":\"v\",\"showlegend\":false,\"x\":{\"dtype\":\"i1\",\"bdata\":\"AAECAwQFBgcICQoLDA0ODxAREhMUFRYXGBkaGxwdHh8gISIjJCUmJygpKissLS4vMDEyMzQ1Njc4OTo7PD0+P0BBQkNERUZHSElKS0xNTk9Q\"},\"xaxis\":\"x2\",\"y\":{\"dtype\":\"f8\",\"bdata\":\"gt3RbaC3eT+0vu4oDOw1P7vwJnIdzUA\\u002ft+H+mhXnJj\\u002ffNtL7lkEnPyqtf6vxqic\\u002fAAAAAAAAAAAAAAAAAAAAAMvecV46ric\\u002fAAAAAAAAAAAAAAAAAAAAAAAAAAAAAAAAiAMt3prIJT8AAAAAAAAAAIKd\\u002f\\u002fq+sjM\\u002fwh+SSu1PIz9F9Jb8FDBDP\\u002fDCQfT4Ljw\\u002f88giFg5mMj+szR0cmP5RP0aB5AQTpFE\\u002fP4CnZf2CRj8llshQjf0yP6N9yoxOeUI\\u002fUVSrcibPTz9GpNcy3vNRPzjKlBI980E\\u002fiRCjYhNeSz8F4BgJwDFCPxVedvQzWTs\\u002fgEgBIgWIVD9Gp1tV\\u002fxFaP77i5jTN6kw\\u002fOPxRVMeaUD+\\u002fd63GwptVP0W9Na4mn0c\\u002fdsK131JXSD9fa+nf38RHP00VVCOFzTw\\u002fYywbnKXHWD8kNK2zvglZP96r1qP\\u002fpVs\\u002f2mr36XjFVD8fymMXINJRPxqAGYAZgFk\\u002fppl9A1j0YD+8fRtdp2ZhP+tR86tUVl4\\u002fEKiOvbVhaj\\u002fds+I4bztiP879NPl57mo\\u002fW4dqiZD8ZT+zCCgabbJuPyBdgXQF0nU\\u002fyQsZZqdWcz9tGk9sZVZ3PwWga16VLHI\\u002fmObfKqaXdz8uwQlG3Tl1PwkY6TkDZHw\\u002f8MXVDzoqgD+WwgIU0at9PwUUOQoocoQ\\u002foEbMqxffgT\\u002fTnPvW2U2JPxzHcRzHcYw\\u002foD2OqgD8hz\\u002fHLgEMbeySPxnHANbboJE\\u002f7Wcn1MuXkj+YDvqMSsOUP1OwNvTGZpo\\u002fRz52UAVAlz\\u002f9LAPKlQ2ZP+IRGckCwZw\\u002fPOlpFT+XoD99qFuc7N6iPxPhSUHy56U\\u002fQhGKUIQipD\\u002fIT+RRIaakP8S+FU477Ks\\u002f\"},\"yaxis\":\"y2\",\"type\":\"scatter\"},{\"hovertemplate\":\"sex=M\\u003cbr\\u003eyear=2015\\u003cbr\\u003eage=%{x}\\u003cbr\\u003eProbability of dying between ages x and x+1=%{y}\\u003cextra\\u003e\\u003c\\u002fextra\\u003e\",\"legendgroup\":\"\",\"line\":{\"color\":\"#999999\",\"dash\":\"solid\"},\"marker\":{\"symbol\":\"circle\"},\"mode\":\"lines\",\"name\":\"\",\"orientation\":\"v\",\"showlegend\":false,\"x\":{\"dtype\":\"i1\",\"bdata\":\"AAECAwQFBgcICQoLDA0ODxAREhMUFRYXGBkaGxwdHh8gISIjJCUmJygpKissLS4vMDEyMzQ1Njc4OTo7PD0+P0BBQkNERUZHSElKS0xNTk9Q\"},\"xaxis\":\"x3\",\"y\":{\"dtype\":\"f8\",\"bdata\":\"Y6+4Y2dkbz\\u002fBqkxrVfc1P212R2GBvSU\\u002fW9VZGFsmQD8AAAAAAAAAAAAAAAAAAAAAAAAAAAAAAAAAAAAAAAAAAN7FniRF2iU\\u002f8cAwiBshJj\\u002fPci0YT4wmP\\u002flAie3RZiY\\u002fbLH74WqAJj9iIeLJc30mPwAAAAAAAAAA5gfA\\u002fACYPz\\u002fRBOVjnY40P6PevYqMuT4\\u002fYBMANgFgQz+az5AAcKBGP+oiuXOlhTo\\u002fnESOD2VfSj\\u002fRjOWQGWhRP22pehggizk\\u002fUEDTBNfrQD\\u002ftW9apRSRJP6EbjVk9J04\\u002fms2xJVl2Rj9vfW9OjnFKP\\u002fMEdyRmXU4\\u002f5or+qssHSj\\u002fd4jZL9a5VP4Fs6co7RVo\\u002f3kMM\\u002fGEqOj8TFN10vWU6Py8vrMBpfUo\\u002fPxiOcwX0Rj8HQNOLs1FePz5gVzyldFI\\u002f1P4LRTwWTD\\u002fSst23USRQP7KnPMRcaFU\\u002fCzVBdDriSz+TTPMydopePwPztffr5FM\\u002fkstc1bRiVj9NZkCdw7tWPyZIpxkwGmE\\u002fM+jN+GG2YT\\u002fOujnP62BpP5OZD0Mf32Y\\u002fRJDrFLceaj\\u002fYoYYd72JuP2T0AKkQO3I\\u002f8Q3MTQfxcT8pOvl6C951P03bqjx0xXQ\\u002fpu8na+Mqcj+8i86R9z11P70QKBAvvH4\\u002fkH\\u002fbGPkZeT\\u002fOnNKLeoZ7PxT7OkGxr4M\\u002f4cWQn\\u002fYLhD+Rvs3SKZyHPzgNNbAkDIY\\u002fl1IIPWpgiD8tSiJ0VVmKP1ijppsVf48\\u002fH+qhHuqhjj\\u002fBeCv7HFKTP1n41pD8oJA\\u002fQcn6nTOXmj+KBVVOaXiaP6A5De68SJ0\\u002f3hBEd6rdoD9YaITg4AKgP5nXhEIYSKc\\u002f8oMlUAippz9BvQFQYE6lP9UMGT20U60\\u002f\"},\"yaxis\":\"y3\",\"type\":\"scatter\"},{\"hovertemplate\":\"sex=M\\u003cbr\\u003eyear=2020\\u003cbr\\u003eage=%{x}\\u003cbr\\u003eProbability of dying between ages x and x+1=%{y}\\u003cextra\\u003e\\u003c\\u002fextra\\u003e\",\"legendgroup\":\"\",\"line\":{\"color\":\"#999999\",\"dash\":\"solid\"},\"marker\":{\"symbol\":\"circle\"},\"mode\":\"lines\",\"name\":\"\",\"orientation\":\"v\",\"showlegend\":false,\"x\":{\"dtype\":\"i1\",\"bdata\":\"AAECAwQFBgcICQoLDA0ODxAREhMUFRYXGBkaGxwdHh8gISIjJCUmJygpKissLS4vMDEyMzQ1Njc4OTo7PD0+P0BBQkNERUZHSElKS0xNTk9Q\"},\"xaxis\":\"x4\",\"y\":{\"dtype\":\"f8\",\"bdata\":\"kBz\\u002fWyNMej+YR00tYb0mPxbr0Yn5wzU\\u002fAAAAAAAAAADDYvqOSfskPwAAAAAAAAAAAAAAAAAAAAAAAAAAAAAAAMoxYp\\u002f4MiQ\\u002fVt5ryvM6JD86MR0dFAk0PwAAAAAAAAAAAAAAAAAAAADt1WzQz9o0P2Iu7IhnDSU\\u002fR7TADYU1NT9HrTntAf0kPwAAAAAAAAAAXaeM9Rv3Iz\\u002fQtXdKGfo6P1Oxx2YLVkU\\u002fsnJ1gKxcTT+r07fmfGFNP8Rt5h9KaVI\\u002fgAH0XwD9Rz8g+IEf+IFPP6IjFnja3lk\\u002fzGRd0Q2wVz\\u002ftWIEw0o5VPwa2U4ZahVE\\u002fY04jGGTmWj8ga4BbKM5XP5lhnRyoe1Y\\u002fW4P3BhVSSD\\u002fxL\\u002fgmmhFhP+GVDl8\\u002fKlw\\u002fFSAA9LwTXj+J02OaPYpcPwWTAolfTlI\\u002fHTVe7OznVD\\u002fwB\\u002fwBf8BfP+GHwStk0FM\\u002fw\\u002f3XlORVXz+JApG1scphP4hwYJO9AWk\\u002fUrnkAgIRYj\\u002fyBkDeAMhbPwQQQAABBHA\\u002fXgYQIVZ3aT+sjUsLrKZsP3eNdzjfGG4\\u002f6FS8XnuGcD88klUbK4xsPxxuI9oMO3Y\\u002fCa\\u002fuFmW4cj\\u002ffoyzdsTVwP9tBX544I3g\\u002fIO31m7zYdT8GouaQljh\\u002fP3phm1\\u002ff53g\\u002fYVBT7gh7ej9VaKCWd0F+P4veIg7qsXc\\u002fALNFnIfDhT\\u002f91sGZaLiFP4WqxHzCAoI\\u002fFDuxEzuxhz8YBv43eFyJP3Ubb\\u002f1975A\\u002fQMcnd3trkT8WyU0veCKQPxh6oRd6oZc\\u002fZnXauAEPlT++U3igM5yZPwXah3yHEaA\\u002f2NRZkr38nT8mXhjQKWKjP0OgQpoGQqQ\\u002fGtMDHvH0oj9GF1100UWnP\\u002fBRqqODyak\\u002f\"},\"yaxis\":\"y4\",\"type\":\"scatter\"},{\"hovertemplate\":\"sex=M\\u003cbr\\u003eyear=2025\\u003cbr\\u003eage=%{x}\\u003cbr\\u003eProbability of dying between ages x and x+1=%{y}\\u003cextra\\u003e\\u003c\\u002fextra\\u003e\",\"legendgroup\":\"\",\"line\":{\"color\":\"#999999\",\"dash\":\"solid\"},\"marker\":{\"symbol\":\"circle\"},\"mode\":\"lines\",\"name\":\"\",\"orientation\":\"v\",\"showlegend\":false,\"x\":{\"dtype\":\"i1\",\"bdata\":\"AAECAwQFBgcICQoLDA0ODxAREhMUFRYXGBkaGxwdHh8gISIjJCUmJygpKissLS4vMDEyMzQ1Njc4OTo7PD0+P0BBQkNERUZHSElKS0xNTk9Q\"},\"xaxis\":\"x5\",\"y\":{\"dtype\":\"f8\",\"bdata\":\"hpL8xJLScz9hUQEcExYlP4Cm\\u002fFUl6iQ\\u002fAAAAAAAAAAAAAAAAAAAAAAAAAAAAAAAAAAAAAAAAAAAAAAAAAAAAAAAAAAAAAAAAZl8nL3XrIz8AAAAAAAAAAMf4HobDxSM\\u002fAAAAAAAAAAAdgN8knfQ8PwAAAAAAAAAAPdEGjQ\\u002feIj9NWWeQPa8yP+nEKT9y8Ts\\u002fMPT5UM\\u002fkMT+gUz1ujDlOPz7KKlRBOTE\\u002f0S0m9Xa4OT8HHD\\u002f1nzRBPweo\\u002fRT2Y0E\\u002fsWPXnk6bST8cbM6bx5xQP1+T\\u002fL3cO0A\\u002fUUhU5oyWVD\\u002fdHxA1ZrlaP0rg0V+LEEg\\u002fRDiPjda1UT8VJ1Zh+KlDP5+OVNRja2E\\u002fc3aC9pQ4Uz+O7JY2SiBRP7naULYfQFg\\u002fPhVVcD3rWj\\u002fDoamp8JpXP\\u002fk+8y9ulVU\\u002fycBuld+eYD9OIPqjs1NfPyVzTVUen1k\\u002fB6+lQo\\u002fuUz+OGPo+YP1bP78zLMlzb1A\\u002fFVQBQ9waXz8RAAmt5VJhPzmAwgrRGWc\\u002frmN4YP2rcT\\u002fQgGT0I4RlP1c\\u002fssvvvmg\\u002fFfuswgPHcD9oL7K9MvNmP69TX68V9XQ\\u002fMtr+YNtccj8I5JdDptx4P4sNWb45EXM\\u002fJebRDLbBdz+o8OpcprR3P9VosY4smng\\u002fKA6hOITigD9geb7noOB\\u002fPwAAAAAAAIE\\u002f+HzQTY1ogj9dVgyU8EaDP9FSbTcyUoQ\\u002fGwYkbqMqhT+xB5YbQl6QP2wEdt\\u002fRYJA\\u002f0Tl7feddiz+\\u002f5rbFmFaTPwgPwaGsQ5M\\u002f9B33oIYIlz\\u002fz3CxgmY2XP3wHfqZFJJs\\u002fHqpKe5xRoj8EwHW1DCqfPyolEGW4j6E\\u002fRbAngxBIoj\\u002ffZx+GLQSjPzAji\\u002fkzN60\\u002f\"},\"yaxis\":\"y5\",\"type\":\"scatter\"},{\"hovertemplate\":\"sex=M\\u003cbr\\u003eyear=2030\\u003cbr\\u003eage=%{x}\\u003cbr\\u003eProbability of dying between ages x and x+1=%{y}\\u003cextra\\u003e\\u003c\\u002fextra\\u003e\",\"legendgroup\":\"\",\"line\":{\"color\":\"#999999\",\"dash\":\"solid\"},\"marker\":{\"symbol\":\"circle\"},\"mode\":\"lines\",\"name\":\"\",\"orientation\":\"v\",\"showlegend\":false,\"x\":{\"dtype\":\"i1\",\"bdata\":\"AAECAwQFBgcICQoLDA0ODxAREhMUFRYXGBkaGxwdHh8gISIjJCUmJygpKissLS4vMDEyMzQ1Njc4OTo7PD0+P0BBQkNERUZHSElKS0xNTk9Q\"},\"xaxis\":\"x6\",\"y\":{\"dtype\":\"f8\",\"bdata\":\"tZ0\\u002fMzrQcD\\u002fpF0frSmckPzg762UyhyQ\\u002fAAAAAAAAAAAAAAAAAAAAAEQg7n3xziM\\u002fvNQfmErHIz+i2u1IY6QjPwAAAAAAAAAAAAAAAAAAAACnlpQxoY4jP\\u002f42ajZ5sDM\\u002fAAAAAAAAAAAKRy6WXd0iPyjYzKu07CI\\u002fZctZPOFFMj\\u002fNyKON9GI7PwAAAAAAAAAAlvuqh98cOT+qcxeWwANIP\\u002fIlo+RyOEc\\u002fQIRUiq35Hj87srPGA\\u002fU\\u002fP0BeW6eFCTA\\u002fVqLvK4IkVD\\u002fYvFzovMtWPzQTzAmsFEk\\u002fNyKk0LYSVz84XQ5jHvxAP7u9xlyD5EQ\\u002fA\\u002faT3co6VD+SG7mRG7lRP0OOl8u7yVc\\u002fi+W7PfRvSz80Q0tZLzJRPylRzqDIRVg\\u002fcdp9h3XoTT9VV+U7RItNPxi9E\\u002fDwNl8\\u002fn5RwIYbHVz869ToQe81TP+FI0otox10\\u002fv8Ulx7ieXD98Wet6bfpkP5DRMAEZDWM\\u002f8uetNoc8Yj++ThqlJjlHP0Jdkuk6bFk\\u002fpat9f3y1Zj96Ix8S63VmP664s1gusGc\\u002f6Sl3\\u002fGQoYD\\u002fdybYIG3JrP5K6gaKrBWU\\u002f9ya4RBOicT\\u002fu3YYcyDRjPxB67eQ6zHY\\u002fV3oXky\\u002fNcz\\u002fJTg\\u002fgc192Pzji\\u002fDdPf3k\\u002fqbSBhIaOdz\\u002fgyFYIizR4P+nnfUH7f3k\\u002ftAQmQWvPgj+X5azzlE+CPwkkAbmNQII\\u002fq2Zvxp9Jhz\\u002fez5tMrvqDP\\u002fegiiNv84o\\u002fFnKCQaJ+jj+OcqN\\u002fr6WMPwUteHbjdZM\\u002f0kb8yLPylj9mTIQ7rh2RP\\u002fne4DKuv5c\\u002fRLNBADo0mz9\\u002fAgsnhsqdP7CIWQn8MKI\\u002fDOHvvAfEoD+WN\\u002ffS45GjP42gKCcQ\\u002faE\\u002f\"},\"yaxis\":\"y6\",\"type\":\"scatter\"},{\"hovertemplate\":\"sex=M\\u003cbr\\u003eyear=2001\\u003cbr\\u003eage=%{x}\\u003cbr\\u003eProbability of dying between ages x and x+1=%{y}\\u003cextra\\u003e\\u003c\\u002fextra\\u003e\",\"legendgroup\":\"\",\"line\":{\"color\":\"black\",\"dash\":\"dash\"},\"marker\":{\"symbol\":\"circle\"},\"mode\":\"lines\",\"name\":\"target\",\"orientation\":\"v\",\"showlegend\":true,\"x\":{\"dtype\":\"i1\",\"bdata\":\"AAECAwQFBgcICQoLDA0ODxAREhMUFRYXGBkaGxwdHh8gISIjJCUmJygpKissLS4vMDEyMzQ1Njc4OTo7PD0+P0BBQkNERUZHSElKS0xNTk9Q\"},\"xaxis\":\"x7\",\"y\":{\"dtype\":\"f8\",\"bdata\":\"hCo1e6AVeD\\u002fHuriNBvA2P4vgfyvZsTE\\u002fS7A4nPnVLD8P1v85zJcnP2EyVTAqqSM\\u002fQ8U4fxMKIT9pHVVNEHUfP0uwOJz51Rw\\u002fS7A4nPnVHD9LsDic+dUcP2kdVU0QdR8\\u002f0vvG155ZIj+eDI6SV+coP0PFOH8TCjE\\u002fngyOklfnOD\\u002fS+8bXnllCP2tI3GPpQ0c\\u002fLUMc6+I2Sj+8eapDboZLPwOV8e8zLkw\\u002fS7A4nPnVTD9LsDic+dVMP0uwOJz51Uw\\u002fA5Xx7zMuTD+8eapDboZLPxjshm2LMks\\u002fGOyGbYsySz+8eapDboZLPwOV8e8zLkw\\u002f7j1cctwpTT9+dOrKZ3lOP1gczvxqDlA\\u002foDcVqTC2UD\\u002fnUlxV9l1RPwE1tWytL1I\\u002fGhcOhGQBUz8FwHgGDf1TP8Iv9fOmIlU\\u002f9fOmIhXGVj\\u002f6fmq8dJNYP6KXUSy3tFo\\u002fHXdKB+v\\u002fXD875Ga4AZ9fPxWMSuoENGE\\u002fSFD8GHPXYj9N27+y0qRkPyMtlbcjnGY\\u002fNSkF3V7SaD+Bzw8jhEdrP3EDPj+MEG4\\u002fguLHmLuWcD9qGD4ipkRyP9eGinH+JnQ\\u002fF7zoK0gzdj\\u002fcKR2s\\u002f3N4P5KzsKcd\\u002fno\\u002fzXUaaam8fT\\u002f8qfHSTWKAP+PfZ1w4EII\\u002fnNzvUBTogz\\u002fcEU4LXvSFP8dGIF7XL4g\\u002f7iWN0Tqqij9Pr5RliGONP+ONzCN\\u002fMJA\\u002f8IrgfyvZkT\\u002fPTgZHyauTP+317o\\u002f3qpU\\u002f\\u002fvFetTLhlz9wXwfOGVGaP4qT+x2KAp0\\u002fTI47pYP1nz\\u002frbp7qkJuhP7prCfmgZ6M\\u002f\\u002fdmPFJFhpT\\u002fHgOz17o+nP4V80LNZ9ak\\u002ftLCnHf6arD\\u002fBOSNKe4OvP7HEA8qmXLE\\u002f\"},\"yaxis\":\"y7\",\"type\":\"scatter\"},{\"hovertemplate\":\"sex=M\\u003cbr\\u003eyear=2010\\u003cbr\\u003eage=%{x}\\u003cbr\\u003eProbability of dying between ages x and x+1=%{y}\\u003cextra\\u003e\\u003c\\u002fextra\\u003e\",\"legendgroup\":\"\",\"line\":{\"color\":\"black\",\"dash\":\"dash\"},\"marker\":{\"symbol\":\"circle\"},\"mode\":\"lines\",\"name\":\"\",\"orientation\":\"v\",\"showlegend\":false,\"x\":{\"dtype\":\"i1\",\"bdata\":\"AAECAwQFBgcICQoLDA0ODxAREhMUFRYXGBkaGxwdHh8gISIjJCUmJygpKissLS4vMDEyMzQ1Njc4OTo7PD0+P0BBQkNERUZHSElKS0xNTk9Q\"},\"xaxis\":\"x8\",\"y\":{\"dtype\":\"f8\",\"bdata\":\"gJ9x4UBIdj8P1v85zJc3P9rmxvSEJS4\\u002f8WjjiLX4JD9pHVVNEHUfPw\\u002fW\\u002fznMlxc\\u002f8WjjiLX4FD\\u002fS+8bXnlkSP9L7xteeWRI\\u002f0vvG155ZEj\\u002fxaOOItfgUPw\\u002fW\\u002fznMlxc\\u002fS7A4nPnVHD\\u002fS+8bXnlkiP54MjpJX5yg\\u002f0vvG155ZMj8tQxzr4jY6P6A3FakwtkA\\u002fYTJVMCqpQz84hCo1e6BFP2tI3GPpQ0c\\u002f+n5qvHSTSD\\u002flJ9U+HY9JP4m1+BQA40k\\u002f5SfVPh2PST+eDI6SV+dIP\\u002fp+arx0k0g\\u002f+n5qvHSTSD\\u002f6fmq8dJNIP54MjpJX50g\\u002fQZqxaDo7ST+JtfgUAONJP3ReY5eo3ko\\u002fvHmqQ26GSz9LsDic+dVMP9rmxvSEJU4\\u002fDat4I\\u002fPITz9y\\u002fiYUIuBQPy9uowG8BVI\\u002fkGtDxTh\\u002fUz+U9gZfmExVP2tI3GPpQ1c\\u002fE2HD0ytlWT9fB84ZUdpbP3506spneV4\\u002fN1SM8zehYD8BNbVsrS9iPzP5Zpsb02M\\u002foWez6nO1ZT94uYjvxKxnPyDSb18Hzmk\\u002fA5Xx7zMubD+4HoXrUbhuPwkbnl4py3A\\u002f0vvG155Zcj9uowG8BRJ0P9wRTgte9HU\\u002fG0esxacAeD+WJqWg20t6P5Y+dEF9y3w\\u002fhnKiXYWUfz9YqDXNO06BPxoXDoRkAYM\\u002frUz4pX7ehD\\u002ftgVZgyOqGP40o7Q2+MIk\\u002fjkC8rl+wiz9+dOrKZ3mOPy7iOzHrxZA\\u002f8FAU6BN5kj\\u002fwoq8gzViUP+RJ0jWTb5Y\\u002fOWItPgXAmD81QdR9AFKbP7QfKSLDKp4\\u002ffqmfNxWpoD+YNEbrqGqiP8vbEU4LXqQ\\u002fJ2a9GMqJpj+JDKt4I\\u002fOoP2yyRj1Eo6s\\u002f\"},\"yaxis\":\"y8\",\"type\":\"scatter\"},{\"hovertemplate\":\"sex=M\\u003cbr\\u003eyear=2015\\u003cbr\\u003eage=%{x}\\u003cbr\\u003eProbability of dying between ages x and x+1=%{y}\\u003cextra\\u003e\\u003c\\u002fextra\\u003e\",\"legendgroup\":\"\",\"line\":{\"color\":\"black\",\"dash\":\"dash\"},\"marker\":{\"symbol\":\"circle\"},\"mode\":\"lines\",\"name\":\"\",\"orientation\":\"v\",\"showlegend\":false,\"x\":{\"dtype\":\"i1\",\"bdata\":\"AAECAwQFBgcICQoLDA0ODxAREhMUFRYXGBkaGxwdHh8gISIjJCUmJygpKissLS4vMDEyMzQ1Njc4OTo7PD0+P0BBQkNERUZHSElKS0xNTk9Q\"},\"xaxis\":\"x9\",\"y\":{\"dtype\":\"f8\",\"bdata\":\"J4i6D0Bqcz\\u002fxaOOItfg0P9rmxvSEJS4\\u002fgJ9x4UBIJj9DxTh\\u002fEwohP0uwOJz51Rw\\u002fD9b\\u002fOcyXFz8P1v85zJcXP\\u002fFo44i1+BQ\\u002f8WjjiLX4FD\\u002fxaOOItfgUPw\\u002fW\\u002fznMlxc\\u002fS7A4nPnVHD9DxTh\\u002fEwohP4CfceFASCY\\u002f2ubG9IQlLj+pTZzc71A0P+Un1T4djzk\\u002faR1VTRB1Pz92ieqtga1CPziEKjV7oEU\\u002fsmMjEK\\u002frRz\\u002flJ9U+HY9JP9DQP8HFiko\\u002fdF5jl6jeSj90XmOXqN5KP3ReY5eo3ko\\u002fGOyGbYsySz+8eapDboZLPwOV8e8zLkw\\u002fS7A4nPnVTD82WaMeotFNP3506spneU4\\u002fxY8xdy0hTz8Nq3gj88hPP1gczvxqDlA\\u002f\\u002fKnx0k1iUD9y\\u002fiYUIuBQP4vgfyvZsVE\\u002fSFD8GHPXUj97FK5H4XpUP4CfceFASFY\\u002fVvFG5pE\\u002fWD\\u002fQ0D\\u002fBxYpaP0uwOJz51Vw\\u002faR1VTRB1Xz+sqME0DB9hP3aJ6q2BrWI\\u002fqU2c3O9QZD8XvOgrSDNmP+0NvjCZKmg\\u002flialoNtLaj956SYxCKxsP5dWQ+IeS28\\u002f+Db92Y8UcT92ieqtga1yPxIxJZLoZXQ\\u002fNBE2PL1Sdj\\u002fcKR2s\\u002f3N4P1cJFoczv3o\\u002fwARu3c1TfT8yVTAqqROAP\\u002fw1WaMeooE\\u002fmN2Th4Vagz\\u002fghEIEHEKFP65kx0YgXoc\\u002f3bWEfNCziT9GsdzSakiMP5\\u002fIk6RrJo8\\u002fYRqGj4gpkT9EF9S3zOmSP61M+KV+3pQ\\u002fnbryWZ4Hlz\\u002fI0ocuqG+ZPwfOGVHaG5w\\u002fER5tHLEWnz\\u002ff\\u002ffFetTKhP5j6eVORCqM\\u002f1y\\u002fYDdsWpT8bgXhdv2CnPz0nvW987ak\\u002f\"},\"yaxis\":\"y9\",\"type\":\"scatter\"},{\"hovertemplate\":\"sex=M\\u003cbr\\u003eyear=2020\\u003cbr\\u003eage=%{x}\\u003cbr\\u003eProbability of dying between ages x and x+1=%{y}\\u003cextra\\u003e\\u003c\\u002fextra\\u003e\",\"legendgroup\":\"\",\"line\":{\"color\":\"black\",\"dash\":\"dash\"},\"marker\":{\"symbol\":\"circle\"},\"mode\":\"lines\",\"name\":\"\",\"orientation\":\"v\",\"showlegend\":false,\"x\":{\"dtype\":\"i1\",\"bdata\":\"AAECAwQFBgcICQoLDA0ODxAREhMUFRYXGBkaGxwdHh8gISIjJCUmJygpKissLS4vMDEyMzQ1Njc4OTo7PD0+P0BBQkNERUZHSElKS0xNTk9Q\"},\"xaxis\":\"x10\",\"y\":{\"dtype\":\"f8\",\"bdata\":\"N2xblNkgcz\\u002f8qfHSTWIwPw\\u002fW\\u002fznMlyc\\u002f0vvG155ZIj9LsDic+dUcPw\\u002fW\\u002fznMlxc\\u002f8WjjiLX4FD\\u002fxaOOItfgUP\\u002fFo44i1+BQ\\u002f8WjjiLX4FD\\u002fxaOOItfgUPw\\u002fW\\u002fznMlxc\\u002fS7A4nPnVHD\\u002fS+8bXnlkiPw\\u002fW\\u002fznMlyc\\u002faR1VTRB1Lz84hCo1e6A1P7x5qkNuhjs\\u002foDcVqTC2QD9hMlUwKqlDPyMtlbcjnEY\\u002f5SfVPh2PST8DlfHvMy5MPyECDqFKzU4\\u002f\\u002fKnx0k1iUD8VjErqBDRRPy9uowG8BVI\\u002fSFD8GHPXUj9hMlUwKqlTP6lNnNzvUFQ\\u002f8WjjiLX4VD84hCo1e6BVP67YX3ZPHlY\\u002fIy2VtyOcVj+Zgcr49xlXPz0P7s7abVc\\u002fsmMjEK\\u002frVz\\u002f6fmq8dJNYPxNhw9MrZVk\\u002f0NA\\u002fwcWKWj8xzt+EQgRcP2SSkbOwp10\\u002faR1VTRB1Xz+gNxWpMLZgP\\u002fTDCOHRxmE\\u002fsTOFzmvsYj9AahMn9ztkP6Fns+pztWU\\u002fa0jcY+lDZz9v05\\u002f9SBFpP91B7Eyh82o\\u002f7j1cctwpbT9pHVVNEHVvP49TdCSX\\u002f3A\\u002fh22LMhtkcj9RTrSrkPJzPziEKjV7oHU\\u002f8YCyKVd4dz98REyJJHp5P45AvK5fsHs\\u002f2ubG9IQlfj+wG7YtymyAP+xRuB6F64E\\u002fHhZqTfOOgz8joS3nUlyFP9QrZRniWIc\\u002f5SfVPh2PiT9XlX1XBP+LP97lIr4Ts44\\u002fl8XE5uPakD+kwthCkIOSP8vbEU4LXpQ\\u002fChFwCFVqlj8X1LfM6bKYP8xdS8gHPZs\\u002fcQM+P4wQnj9cGyrG+ZugP3am0HmNXaI\\u002fTfilft5UpD+6SQwCK4emPwfwFkhQ\\u002fKg\\u002f\"},\"yaxis\":\"y10\",\"type\":\"scatter\"},{\"hovertemplate\":\"sex=M\\u003cbr\\u003eyear=2025\\u003cbr\\u003eage=%{x}\\u003cbr\\u003eProbability of dying between ages x and x+1=%{y}\\u003cextra\\u003e\\u003c\\u002fextra\\u003e\",\"legendgroup\":\"\",\"line\":{\"color\":\"black\",\"dash\":\"dash\"},\"marker\":{\"symbol\":\"circle\"},\"mode\":\"lines\",\"name\":\"\",\"orientation\":\"v\",\"showlegend\":false,\"x\":{\"dtype\":\"i1\",\"bdata\":\"AAECAwQFBgcICQoLDA0ODxAREhMUFRYXGBkaGxwdHh8gISIjJCUmJygpKissLS4vMDEyMzQ1Njc4OTo7PD0+P0BBQkNERUZHSElKS0xNTk9Q\"},\"xaxis\":\"x11\",\"y\":{\"dtype\":\"f8\",\"bdata\":\"kCSwliHBcT8QMKf+m2cuP1OLqKEr5CU\\u002fKUTlYckGIT8+PV3OgcEaP0YvIlEi5BU\\u002fd4DV6nJ1Ez93gNXqcnUTP3eA1epydRM\\u002fd4DV6nJ1Ez93gNXqcnUTP0YvIlEi5BU\\u002fPj1dzoHBGj8pROVhyQYhP1OLqKEr5CU\\u002f8Hh6dEIwLT9ozvA5NhE0P+Zo9+FPijk\\u002f8f1WMm4DPz\\u002fNv4qVSD5CP\\u002f5vHGbc+kQ\\u002fnIjjinK3Rz8JzP\\u002fYMiZKP62SNP70lEw\\u002fUX9FzwdoTj\\u002f2\\u002f5byQu1PP3AB+GY\\u002fuVA\\u002fvoWosN17UT+dTl1WfD5SPxU4yLYu2lI\\u002fMW4XUuF1Uz\\u002f4FEsolBFUP\\u002fbOl29ahlQ\\u002faigF2CD7VD\\u002fyLZNh529VP50LBCXBvVU\\u002fGKjI5YcyVj8Z4AHFO85WP8+p2+7ckFc\\u002ftPgMxFihWD8N2TDfr\\u002f9ZP5\\u002f88JP1hFs\\u002fWra+UCoxXT\\u002fD3BePTgRfP2OOw2kxf2A\\u002fgi3S1rOPYT8uzj8NJsdiP5riyL2IJWQ\\u002fB7IaOGWXZT8PCPseq0NnP2hGHklsA2k\\u002f6XK8HRERaz\\u002fjjxleMzJtP6J8L3DEjW8\\u002f7f3wKuMRcT9K7AAX2oNyPzAyEAQME3Q\\u002fxMzbCjfJdT\\u002fVne4cXaZ3PyWhy3s9tHk\\u002f+0vlbJj8ez\\u002fl9LjTcX9+Pyt4S+lFo4A\\u002f8C2O9\\u002fUogj\\u002fIXWNWq9WDP0XRtTtJroU\\u002fV7NxkpO8hz82p3DHkACKPzF+5wkIhIw\\u002fkMU4RcNQjz8iadg0ZzORP6KBTy7d7JI\\u002fAk2M4MzUlD+48vP9A\\u002fWWP3GWF5ZyUpk\\u002f2PxzdX30mz\\u002f0O9YBAOWeP7MF52G1FaE\\u002fLngO+kXroj8ku1iHLPikP7FniJ3cQ6c\\u002f\"},\"yaxis\":\"y11\",\"type\":\"scatter\"},{\"hovertemplate\":\"sex=M\\u003cbr\\u003eyear=2030\\u003cbr\\u003eage=%{x}\\u003cbr\\u003eProbability of dying between ages x and x+1=%{y}\\u003cextra\\u003e\\u003c\\u002fextra\\u003e\",\"legendgroup\":\"\",\"line\":{\"color\":\"black\",\"dash\":\"dash\"},\"marker\":{\"symbol\":\"circle\"},\"mode\":\"lines\",\"name\":\"\",\"orientation\":\"v\",\"showlegend\":false,\"x\":{\"dtype\":\"i1\",\"bdata\":\"AAECAwQFBgcICQoLDA0ODxAREhMUFRYXGBkaGxwdHh8gISIjJCUmJygpKissLS4vMDEyMzQ1Njc4OTo7PD0+P0BBQkNERUZHSElKS0xNTk9Q\"},\"xaxis\":\"x12\",\"y\":{\"dtype\":\"f8\",\"bdata\":\"cxsDoJJ6cD8fnUgVPDYsP\\u002fVYFlf1TyQ\\u002fgPA+dMeYHz\\u002fhDbFacdMYP2r7mK3kTxQ\\u002f9ikI9R4OEj\\u002f2KQj1Hg4SP\\u002fYpCPUeDhI\\u002f9ikI9R4OEj\\u002f2KQj1Hg4SP2r7mK3kTxQ\\u002f4Q2xWnHTGD+A8D50x5gfP\\u002fVYFlf1TyQ\\u002fvZdo7lUVKz9j7Blaup4yP2ro9BHSsjc\\u002fOsHZHvLGPD8sfG5Aje1AP8OHCZyld0M\\u002fbkRIIsIBRj+DEBgZpkNIP7IIvlqNhUo\\u002f+2Qb9fw2TD8GLUG1MKBNPwBNqb5lCU8\\u002fjsOqCE45UD+MzaPW6e1QPwNr9fFmflE\\u002f+xSmduQOUj++PrZkYp9SP+hPaRzBC1M\\u002fVYpiDyB4Uz\\u002fbHKI9f+RTP4LJutK+LFQ\\u002fKF\\u002fFYx6ZVD\\u002fW2QgsnilVP0sIj3o+3lU\\u002fdvIg\\u002fR\\u002fbVj\\u002fg\\u002f2TIQyBYPyYoWHGKiVk\\u002fp8GevfQWWz\\u002fg1aSGg8hcPw1Hn7k3nl4\\u002ftY7GKwlMYD840hZ4G21hPwkuE\\u002f5TsmI\\u002fE1H1ZqIJZD9mwBtrK5dlP8vz4vXMNmc\\u002f9530zr8eaT83VswLzxhrP\\u002fvUnIwiSW0\\u002fEdOT6b2vbz\\u002fUI1u0XC9xP1j6sgUDonI\\u002flT\\u002fqAd84dD8+CUsk9PN1P0FXt5lR3Hc\\u002f6O3jYAj7eT\\u002fL68pxH1B8P3k+PSKr5H4\\u002faC07rFrcgD++9qlXq2qCP2WBCZfVIYQ\\u002fw4yL9PAKhj9MC673CCaIPwe6zwg7fIo\\u002fH29VeqkWjT829gW+afWPP+HmbppdlZE\\u002f+dkIsF9bkz95f6hD5FWVPxp3l3yQiZc\\u002fkorsLVb9mT9zbP4yd7qcP52VEpP6x58\\u002fggttNuaZoT\\u002fmK3nproOjP4cCLgxkqKU\\u002f\"},\"yaxis\":\"y12\",\"type\":\"scatter\"},{\"hovertemplate\":\"sex=F\\u003cbr\\u003eyear=2001\\u003cbr\\u003eage=%{x}\\u003cbr\\u003eProbability of dying between ages x and x+1=%{y}\\u003cextra\\u003e\\u003c\\u002fextra\\u003e\",\"legendgroup\":\"\",\"line\":{\"color\":\"black\",\"dash\":\"dash\"},\"marker\":{\"symbol\":\"circle\"},\"mode\":\"lines\",\"name\":\"\",\"orientation\":\"v\",\"showlegend\":false,\"x\":{\"dtype\":\"i1\",\"bdata\":\"AAECAwQFBgcICQoLDA0ODxAREhMUFRYXGBkaGxwdHh8gISIjJCUmJygpKissLS4vMDEyMzQ1Njc4OTo7PD0+P0BBQkNERUZHSElKS0xNTk9Q\"},\"xaxis\":\"x\",\"y\":{\"dtype\":\"f8\",\"bdata\":\"sTOFzmvscj9hMlUwKqkzP9rmxvSEJS4\\u002fngyOklfnKD9hMlUwKqkjP0PFOH8TCiE\\u002faR1VTRB1Hz9LsDic+dUcPy1DHOviNho\\u002fLUMc6+I2Gj8tQxzr4jYaPy1DHOviNho\\u002fS7A4nPnVHD\\u002fS+8bXnlkiP4CfceFASCY\\u002fS7A4nPnVLD\\u002fS+8bXnlkyP\\u002fFo44i1+DQ\\u002fOIQqNXugNT\\u002fxaOOItfg0P6lNnNzvUDQ\\u002fYTJVMCqpMz9hMlUwKqkzP6lNnNzvUDQ\\u002fqU2c3O9QND\\u002fxaOOItfg0P4CfceFASDY\\u002fx7q4jQbwNj9W8UbmkT84P54MjpJX5zg\\u002fdF5jl6jeOj8DlfHvMy48P9rmxvSEJT4\\u002f\\u002fKnx0k1iQD+L4H8r2bFBP2EyVTAqqUM\\u002flPYGX5hMRT8P1v85zJdHP4m1+BQA40k\\u002fA5Xx7zMuTD8hAg6hSs1OP3L+JhQi4FA\\u002fpMLYQpCDUj+pTZzc71BUP67YX3ZPHlY\\u002fVvFG5pE\\u002fWD\\u002f\\u002fCS5W1GBaP0uwOJz51Vw\\u002faR1VTRB1Xz8VjErqBDRhP99sc2N6wmI\\u002fexSuR+F6ZD\\u002fogvqWOV1mPyi4WFGDaWg\\u002fopdRLLe0aj9XIeUn1T5tP1gczvxqDnA\\u002fbosyG2SScT8JM23\\u002fykpzP3ehuU4jLXU\\u002fa0jcY+lDdz\\u002flJ9U+HY95P08jLZW3I3w\\u002f88gfDDz3fj8e\\u002fpqsUQ+BP5TeN772zII\\u002fkPeqlQm\\u002fhD8TSfQyiuWGP6p9Oh4zUIk\\u002ffVwbKsb5iz8ZkL3e\\u002ffGOPxnFckurIZE\\u002fQN6rVib8kj\\u002fsL7snDwuVP9QrZRniWJc\\u002fPSe9b3ztmT8DWyVYHM6cP6SqCaLuA6A\\u002fqDXNO07RoT\\u002fXo3A9CtejP0G8rl+wG6Y\\u002f\"},\"yaxis\":\"y\",\"type\":\"scatter\"},{\"hovertemplate\":\"sex=F\\u003cbr\\u003eyear=2010\\u003cbr\\u003eage=%{x}\\u003cbr\\u003eProbability of dying between ages x and x+1=%{y}\\u003cextra\\u003e\\u003c\\u002fextra\\u003e\",\"legendgroup\":\"\",\"line\":{\"color\":\"black\",\"dash\":\"dash\"},\"marker\":{\"symbol\":\"circle\"},\"mode\":\"lines\",\"name\":\"\",\"orientation\":\"v\",\"showlegend\":false,\"x\":{\"dtype\":\"i1\",\"bdata\":\"AAECAwQFBgcICQoLDA0ODxAREhMUFRYXGBkaGxwdHh8gISIjJCUmJygpKissLS4vMDEyMzQ1Njc4OTo7PD0+P0BBQkNERUZHSElKS0xNTk9Q\"},\"xaxis\":\"x2\",\"y\":{\"dtype\":\"f8\",\"bdata\":\"8FAU6BN5cj\\u002fa5sb0hCUuP4CfceFASCY\\u002fQ8U4fxMKIT8tQxzr4jYaPw\\u002fW\\u002fznMlxc\\u002f8WjjiLX4FD\\u002fS+8bXnlkSP9L7xteeWRI\\u002f0vvG155ZEj\\u002fS+8bXnlkSP\\u002fFo44i1+BQ\\u002fD9b\\u002fOcyXFz8tQxzr4jYaP0PFOH8TCiE\\u002fgJ9x4UBIJj9LsDic+dUsP0PFOH8TCjE\\u002fGhcOhGQBMz9hMlUwKqkzP2EyVTAqqTM\\u002fqU2c3O9QND+pTZzc71A0P2EyVTAqqTM\\u002fYTJVMCqpMz9hMlUwKqkzP2EyVTAqqTM\\u002fqU2c3O9QND\\u002fxaOOItfg0P4CfceFASDY\\u002fVvFG5pE\\u002fOD8tQxzr4jY6P0uwOJz51Tw\\u002fIQIOoUrNPj\\u002f8qfHSTWJAP+dSXFX2XUE\\u002f0vvG155ZQj9hMlUwKqlDP5T2Bl+YTEU\\u002fa0jcY+lDRz+JtfgUAONJP0uwOJz51Uw\\u002fWBzO\\u002fGoOUD+L4H8r2bFRP2EyVTAqqVM\\u002fOIQqNXugVT\\u002fgnBGlvcFXP1t8CoDxDFo\\u002fpyIVxhaCXD\\u002fzyB8MPPdePwkbnl4py2A\\u002fahg+IqZEYj8z+WabG9NjP8+goX+Ci2U\\u002fPQ\\u002fuztptZz98REyJJHppP\\u002fYjRWRYxWs\\u002frK3YX3ZPbj\\u002fOcAM+P4xwP5hRLLe0GnI\\u002ff4eiQJ\\u002fIcz\\u002ft9e6P96p1P+CcEaW9wXc\\u002fD+7O2m0Xej956SYxCKx8P9IA3gIJin8\\u002f51JcVfZdgT83bFuU2SCDP+j2ksZoHYU\\u002f+vIC7KNThz9GmQ0yyciJP4Fbd\\u002fNUh4w\\u002fYKsEi8OZjz9M\\u002fbypSIWRP9v5fmq8dJM\\u002fy2d5HtydlT\\u002fQuHAgJAuYPzFCeLRxxJo\\u002fEJIFTODWnT\\u002fa\\u002fpWVJqWgP9cXCW05l6I\\u002f\"},\"yaxis\":\"y2\",\"type\":\"scatter\"},{\"hovertemplate\":\"sex=F\\u003cbr\\u003eyear=2015\\u003cbr\\u003eage=%{x}\\u003cbr\\u003eProbability of dying between ages x and x+1=%{y}\\u003cextra\\u003e\\u003c\\u002fextra\\u003e\",\"legendgroup\":\"\",\"line\":{\"color\":\"black\",\"dash\":\"dash\"},\"marker\":{\"symbol\":\"circle\"},\"mode\":\"lines\",\"name\":\"\",\"orientation\":\"v\",\"showlegend\":false,\"x\":{\"dtype\":\"i1\",\"bdata\":\"AAECAwQFBgcICQoLDA0ODxAREhMUFRYXGBkaGxwdHh8gISIjJCUmJygpKissLS4vMDEyMzQ1Njc4OTo7PD0+P0BBQkNERUZHSElKS0xNTk9Q\"},\"xaxis\":\"x3\",\"y\":{\"dtype\":\"f8\",\"bdata\":\"M+GX+nlTcT\\u002f8qfHSTWIwP4CfceFASCY\\u002faR1VTRB1Hz8P1v85zJcXP\\u002fFo44i1+BQ\\u002f0vvG155ZEj9pHVVNEHUPP9L7xteeWRI\\u002f0vvG155ZEj\\u002fxaOOItfgUPw\\u002fW\\u002fznMlxc\\u002fS7A4nPnVHD9pHVVNEHUfP2EyVTAqqSM\\u002fgJ9x4UBIJj8tQxzr4jYqP9rmxvSEJS4\\u002fQ8U4fxMKMT8aFw6EZAEzP6lNnNzvUDQ\\u002fOIQqNXugNT+An3HhQEg2P8e6uI0G8DY\\u002fx7q4jQbwNj8P1v85zJc3Pw\\u002fW\\u002fznMlzc\\u002fVvFG5pE\\u002fOD+eDI6SV+c4Py1DHOviNjo\\u002fvHmqQ26GOz+Sy39Iv309PyECDqFKzT4\\u002fWBzO\\u002fGoOQD+gNxWpMLZAP0PFOH8TCkE\\u002fi+B\\u002fK9mxQT92ieqtga1CPwXAeAYN\\u002fUM\\u002f3BFOC170RT9W8UbmkT9IP3ReY5eo3ko\\u002fNlmjHqLRTT\\u002fOcAM+P4xQP9L7xteeWVI\\u002f14aKcf4mVD+u2F92Tx5WP1bxRuaRP1g\\u002f0NA\\u002fwcWKWj8dd0oH6\\u002f9cP2kdVU0QdV8\\u002frKjBNAwfYT8NpmH4iJhiP6lNnNzvUGQ\\u002frthfdk8eZj+EKjV7oBVoP\\u002f8JLlbUYGo\\u002fS7A4nPnVbD\\u002fSAN4CCYpvP8r9DkWBPnE\\u002fsTOFzmvscj9qMA3DR8R0P\\u002fXzpiIVxnY\\u002fb9Of\\u002fUgReT9w626e6pB7P2AfnbryWX4\\u002fenB31m67gD8WGLK61XOCPzj4wmSqYIQ\\u002fukkMAiuHhj94RfC\\u002fleyIPyVdM\\u002flmm4s\\u002fm8k329yYjj+1GhL3WPqQP7VsrS8S2pI\\u002fFjCBW3fzlD+M1lHVBFGXP4V80LNZ9Zk\\u002fjswjfzDwnD\\u002f4ja89sySgP2X8+4wLB6I\\u002f\"},\"yaxis\":\"y3\",\"type\":\"scatter\"},{\"hovertemplate\":\"sex=F\\u003cbr\\u003eyear=2020\\u003cbr\\u003eage=%{x}\\u003cbr\\u003eProbability of dying between ages x and x+1=%{y}\\u003cextra\\u003e\\u003c\\u002fextra\\u003e\",\"legendgroup\":\"\",\"line\":{\"color\":\"black\",\"dash\":\"dash\"},\"marker\":{\"symbol\":\"circle\"},\"mode\":\"lines\",\"name\":\"\",\"orientation\":\"v\",\"showlegend\":false,\"x\":{\"dtype\":\"i1\",\"bdata\":\"AAECAwQFBgcICQoLDA0ODxAREhMUFRYXGBkaGxwdHh8gISIjJCUmJygpKissLS4vMDEyMzQ1Njc4OTo7PD0+P0BBQkNERUZHSElKS0xNTk9Q\"},\"xaxis\":\"x4\",\"y\":{\"dtype\":\"f8\",\"bdata\":\"k8ZoHVVNcD8tQxzr4jYqP2EyVTAqqSM\\u002faR1VTRB1Hz8P1v85zJcXP\\u002fFo44i1+BQ\\u002f0vvG155ZEj9pHVVNEHUPP2kdVU0QdQ8\\u002faR1VTRB1Dz9pHVVNEHUPP2kdVU0QdQ8\\u002f0vvG155ZEj8P1v85zJcXP2kdVU0QdR8\\u002f8WjjiLX4JD9LsDic+dUsP4vgfyvZsTE\\u002fYTJVMCqpMz\\u002fxaOOItfg0P4CfceFASDY\\u002fD9b\\u002fOcyXNz9W8UbmkT84P+Un1T4djzk\\u002fvHmqQ26GOz9LsDic+dU8P9rmxvSEJT4\\u002faR1VTRB1Pz+gNxWpMLZAP+dSXFX2XUE\\u002f0vvG155ZQj++pDFaR1VDPwXAeAYN\\u002fUM\\u002f8WjjiLX4RD84hCo1e6BFPyMtlbcjnEY\\u002fa0jcY+lDRz9W8UbmkT9IP+Un1T4dj0k\\u002fGOyGbYsySz\\u002fuPVxy3ClNP2kdVU0QdU8\\u002fQ8U4fxMKUT\\u002fS+8bXnllSPzP5Zpsb01M\\u002flPYGX5hMVT+Zgcr49xlXP54MjpJX51g\\u002fRiV1ApoIWz\\u002fuPVxy3CldP2kdVU0QdV8\\u002fQ8U4fxMKYT+kwthCkINiP26jAbwFEmQ\\u002fCks8oGzKZT94uYjvxKxnPyDSb18Hzmk\\u002fmrFoOjsZbD+4HoXrUbhuP1Sp2QOtwHA\\u002f0vvG155Zcj9uowG8BRJ0P5CDEmba\\u002fnU\\u002f7Q2+MJkqeD\\u002fQ0D\\u002fBxYp6P6OvIM1YNH0\\u002fMlUwKqkTgD9lGeJYF7eBPx4Wak3zjoM\\u002fXkvIBz2bhT\\u002fYKsHicOaHP0ImGTkLe4o\\u002fmz3QCgxZjT8mqrcGtkqQP5hRLLe0GpI\\u002famrZWl8klD93LSEf9GyWP+EoeXWOAZk\\u002f7rH0oQvqmz\\u002fBVgkWhzOfP4fEPZY+dKE\\u002f\"},\"yaxis\":\"y4\",\"type\":\"scatter\"},{\"hovertemplate\":\"sex=F\\u003cbr\\u003eyear=2025\\u003cbr\\u003eage=%{x}\\u003cbr\\u003eProbability of dying between ages x and x+1=%{y}\\u003cextra\\u003e\\u003c\\u002fextra\\u003e\",\"legendgroup\":\"\",\"line\":{\"color\":\"black\",\"dash\":\"dash\"},\"marker\":{\"symbol\":\"circle\"},\"mode\":\"lines\",\"name\":\"\",\"orientation\":\"v\",\"showlegend\":false,\"x\":{\"dtype\":\"i1\",\"bdata\":\"AAECAwQFBgcICQoLDA0ODxAREhMUFRYXGBkaGxwdHh8gISIjJCUmJygpKissLS4vMDEyMzQ1Njc4OTo7PD0+P0BBQkNERUZHSElKS0xNTk9Q\"},\"xaxis\":\"x5\",\"y\":{\"dtype\":\"f8\",\"bdata\":\"LTrIoCl0bj+Ay2Tus3ooPz7rOPcCXCI\\u002fFYz46wBgHT\\u002fpduTS\\u002fQcWP3HMnoxSlRM\\u002fy5m5fKciET\\u002fPr2lG+V8NP8+vaUb5Xw0\\u002fz69pRvlfDT\\u002fPr2lG+V8NP8+vaUb5Xw0\\u002fy5m5fKciET\\u002fpduTS\\u002fQcWPxWM+OsAYB0\\u002f+catWFmVIz\\u002fjpWLcYe0qP6eAlkULhjA\\u002fbyL26Q5cMj\\u002fH49nwZpUzP8zGHi6\\u002fzjQ\\u002frdnEoRcINj98Wfzvw6Q2P65ONLUc3jc\\u002f+b7+QiK0OT\\u002fRHiqQe+06P0r1thPVJjw\\u002fjlClzS5gPT9j0YHKNTY\\u002fP0cbMgbIN0A\\u002fTYSX6ssiQT9Z8ioM0A1CPxO835l9qkI\\u002f6LxqIYKVQz+a\\u002fhnzLzJEP5TUnOA0HUU\\u002fgbpG9uK5RT\\u002f8p8FJ6KRGP1NBPBhF3kc\\u002fKkpKs\\u002fllST+e2uSABjxLP6ShavtrYE0\\u002fpzSgsSrTTz+aYHeN9SJRP1aYvsyCg1I\\u002fNwBeHxHkUz8DXg9s+ZJVP6gVFlTjQVc\\u002f\\u002fVBaYSg\\u002fWT96WSetbzxbPwTJ8VnmYF0\\u002fPQ1fT7rTXz8WhuxpdkphP0IZSb6ovmI\\u002fRdW3lAtaZD\\u002fuoHfDnxxmPwqJiJf9GWg\\u002fRTgyC48+aj+osTTLhLFsP5NOMluxS28\\u002fVXtQb+8jcT92KdENcL9yPx5zuaX0i3Q\\u002fy6HVKUyTdj+L\\u002f6P4rMt4P59ICP2zSHs\\u002fzMbJwGUKfj\\u002fb4AxoSo2AP42BFphxRoI\\u002fqA007qwwhD+N6uztz1WGPwGeFz6wv4g\\u002ftAkJrlZuiz+yc+jkbHWOPzIlUa707JA\\u002fDz5vVkvVkj\\u002flYjNVrviUPyaFXoRyY5c\\u002fs5Bc+ggdmj\\u002fbBHR40jGdPwc1k2PhVaA\\u002f\"},\"yaxis\":\"y5\",\"type\":\"scatter\"},{\"hovertemplate\":\"sex=F\\u003cbr\\u003eyear=2030\\u003cbr\\u003eage=%{x}\\u003cbr\\u003eProbability of dying between ages x and x+1=%{y}\\u003cextra\\u003e\\u003c\\u002fextra\\u003e\",\"legendgroup\":\"\",\"line\":{\"color\":\"black\",\"dash\":\"dash\"},\"marker\":{\"symbol\":\"circle\"},\"mode\":\"lines\",\"name\":\"\",\"orientation\":\"v\",\"showlegend\":false,\"x\":{\"dtype\":\"i1\",\"bdata\":\"AAECAwQFBgcICQoLDA0ODxAREhMUFRYXGBkaGxwdHh8gISIjJCUmJygpKissLS4vMDEyMzQ1Njc4OTo7PD0+P0BBQkNERUZHSElKS0xNTk9Q\"},\"xaxis\":\"x6\",\"y\":{\"dtype\":\"f8\",\"bdata\":\"lg5MiddxbD+dj9T96dsmPzpgNU3oJCE\\u002fbLYIlDluGz96OWkBppIUPywR7ZR1SRI\\u002frpWiikUAED+WXBPFK24LP5ZcE8Urbgs\\u002fllwTxStuCz+WXBPFK24LP5ZcE8Urbgs\\u002frpWiikUAED96OWkBppIUP2y2CJQ5bhs\\u002fP6si24FJIj+U0MU1HyUpPyJH4Jwn3C4\\u002f+5zF4P0kMT8FTr9nmkkyPxT97FA3bjM\\u002flttOnNSSND8WbNNmIyU1P3nug0XBSTY\\u002fOoKvy64AOD\\u002fuDOSfTSU5P0u+TdbsSTo\\u002fvMfsboxuOz82x\\u002f+LfCU9Py0FJRodSj4\\u002fmB3BU4cAQD\\u002fP0eyIANxAP2EPbJRRbkE\\u002fr1G+gctJQj88OwIIHdxCP2bze62Xt0M\\u002fcyOFrulJRD8\\u002fOScMZSVFP0N64TQKSkY\\u002fchsJvNm3Rz+t+slZ1G5JP5qGJ+v6bks\\u002fzNT9cU64TT\\u002fC2VWF0gBQPyRU5RAVSlE\\u002f84nHjVmTUj8BFwpYzCVUPwZyRQlCuFU\\u002fd5tJJOiTVz8DoBpNkm9ZP59NC+7Xb1s\\u002fS1al1VG5XT+irc0oASZgPxOCu6GpgWE\\u002fv3snne8BYz8iti+e1KZkPwaNzHungmY\\u002fj1IJfR2DaD\\u002f2bctx1MxqP\\u002fgnpU00O20\\u002fFbfQ6JUCcD+\\u002fduS0EYNxP5PzLqhfMXM\\u002foo4xPawWdT\\u002fSa86W1Cl3P1n8MuUvfXk\\u002fLtC8XcYQfD+ZfVD+yu1+PwZKixlPE4E\\u002fYS6zHqjdgj+dO3lNJd+EP9eRKkT\\u002fIIc\\u002f5luk90WjiT9BjYiqZ3iMP1OxzcoVpY8\\u002fZCcc0ZubkT8g0+xmE5yTPxl7xTWK35U\\u002f0SdaUQltmD\\u002flUS\\u002fxPlCbP\\u002f1DHoWakp4\\u002f\"},\"yaxis\":\"y6\",\"type\":\"scatter\"}],                        {\"template\":{\"data\":{\"histogram2dcontour\":[{\"type\":\"histogram2dcontour\",\"colorbar\":{\"outlinewidth\":0,\"ticks\":\"\"},\"colorscale\":[[0.0,\"#0d0887\"],[0.1111111111111111,\"#46039f\"],[0.2222222222222222,\"#7201a8\"],[0.3333333333333333,\"#9c179e\"],[0.4444444444444444,\"#bd3786\"],[0.5555555555555556,\"#d8576b\"],[0.6666666666666666,\"#ed7953\"],[0.7777777777777778,\"#fb9f3a\"],[0.8888888888888888,\"#fdca26\"],[1.0,\"#f0f921\"]]}],\"choropleth\":[{\"type\":\"choropleth\",\"colorbar\":{\"outlinewidth\":0,\"ticks\":\"\"}}],\"histogram2d\":[{\"type\":\"histogram2d\",\"colorbar\":{\"outlinewidth\":0,\"ticks\":\"\"},\"colorscale\":[[0.0,\"#0d0887\"],[0.1111111111111111,\"#46039f\"],[0.2222222222222222,\"#7201a8\"],[0.3333333333333333,\"#9c179e\"],[0.4444444444444444,\"#bd3786\"],[0.5555555555555556,\"#d8576b\"],[0.6666666666666666,\"#ed7953\"],[0.7777777777777778,\"#fb9f3a\"],[0.8888888888888888,\"#fdca26\"],[1.0,\"#f0f921\"]]}],\"heatmap\":[{\"type\":\"heatmap\",\"colorbar\":{\"outlinewidth\":0,\"ticks\":\"\"},\"colorscale\":[[0.0,\"#0d0887\"],[0.1111111111111111,\"#46039f\"],[0.2222222222222222,\"#7201a8\"],[0.3333333333333333,\"#9c179e\"],[0.4444444444444444,\"#bd3786\"],[0.5555555555555556,\"#d8576b\"],[0.6666666666666666,\"#ed7953\"],[0.7777777777777778,\"#fb9f3a\"],[0.8888888888888888,\"#fdca26\"],[1.0,\"#f0f921\"]]}],\"contourcarpet\":[{\"type\":\"contourcarpet\",\"colorbar\":{\"outlinewidth\":0,\"ticks\":\"\"}}],\"contour\":[{\"type\":\"contour\",\"colorbar\":{\"outlinewidth\":0,\"ticks\":\"\"},\"colorscale\":[[0.0,\"#0d0887\"],[0.1111111111111111,\"#46039f\"],[0.2222222222222222,\"#7201a8\"],[0.3333333333333333,\"#9c179e\"],[0.4444444444444444,\"#bd3786\"],[0.5555555555555556,\"#d8576b\"],[0.6666666666666666,\"#ed7953\"],[0.7777777777777778,\"#fb9f3a\"],[0.8888888888888888,\"#fdca26\"],[1.0,\"#f0f921\"]]}],\"surface\":[{\"type\":\"surface\",\"colorbar\":{\"outlinewidth\":0,\"ticks\":\"\"},\"colorscale\":[[0.0,\"#0d0887\"],[0.1111111111111111,\"#46039f\"],[0.2222222222222222,\"#7201a8\"],[0.3333333333333333,\"#9c179e\"],[0.4444444444444444,\"#bd3786\"],[0.5555555555555556,\"#d8576b\"],[0.6666666666666666,\"#ed7953\"],[0.7777777777777778,\"#fb9f3a\"],[0.8888888888888888,\"#fdca26\"],[1.0,\"#f0f921\"]]}],\"mesh3d\":[{\"type\":\"mesh3d\",\"colorbar\":{\"outlinewidth\":0,\"ticks\":\"\"}}],\"scatter\":[{\"fillpattern\":{\"fillmode\":\"overlay\",\"size\":10,\"solidity\":0.2},\"type\":\"scatter\"}],\"parcoords\":[{\"type\":\"parcoords\",\"line\":{\"colorbar\":{\"outlinewidth\":0,\"ticks\":\"\"}}}],\"scatterpolargl\":[{\"type\":\"scatterpolargl\",\"marker\":{\"colorbar\":{\"outlinewidth\":0,\"ticks\":\"\"}}}],\"bar\":[{\"error_x\":{\"color\":\"#2a3f5f\"},\"error_y\":{\"color\":\"#2a3f5f\"},\"marker\":{\"line\":{\"color\":\"white\",\"width\":0.5},\"pattern\":{\"fillmode\":\"overlay\",\"size\":10,\"solidity\":0.2}},\"type\":\"bar\"}],\"scattergeo\":[{\"type\":\"scattergeo\",\"marker\":{\"colorbar\":{\"outlinewidth\":0,\"ticks\":\"\"}}}],\"scatterpolar\":[{\"type\":\"scatterpolar\",\"marker\":{\"colorbar\":{\"outlinewidth\":0,\"ticks\":\"\"}}}],\"histogram\":[{\"marker\":{\"pattern\":{\"fillmode\":\"overlay\",\"size\":10,\"solidity\":0.2}},\"type\":\"histogram\"}],\"scattergl\":[{\"type\":\"scattergl\",\"marker\":{\"colorbar\":{\"outlinewidth\":0,\"ticks\":\"\"}}}],\"scatter3d\":[{\"type\":\"scatter3d\",\"line\":{\"colorbar\":{\"outlinewidth\":0,\"ticks\":\"\"}},\"marker\":{\"colorbar\":{\"outlinewidth\":0,\"ticks\":\"\"}}}],\"scattermap\":[{\"type\":\"scattermap\",\"marker\":{\"colorbar\":{\"outlinewidth\":0,\"ticks\":\"\"}}}],\"scattermapbox\":[{\"type\":\"scattermapbox\",\"marker\":{\"colorbar\":{\"outlinewidth\":0,\"ticks\":\"\"}}}],\"scatterternary\":[{\"type\":\"scatterternary\",\"marker\":{\"colorbar\":{\"outlinewidth\":0,\"ticks\":\"\"}}}],\"scattercarpet\":[{\"type\":\"scattercarpet\",\"marker\":{\"colorbar\":{\"outlinewidth\":0,\"ticks\":\"\"}}}],\"carpet\":[{\"aaxis\":{\"endlinecolor\":\"#2a3f5f\",\"gridcolor\":\"#C8D4E3\",\"linecolor\":\"#C8D4E3\",\"minorgridcolor\":\"#C8D4E3\",\"startlinecolor\":\"#2a3f5f\"},\"baxis\":{\"endlinecolor\":\"#2a3f5f\",\"gridcolor\":\"#C8D4E3\",\"linecolor\":\"#C8D4E3\",\"minorgridcolor\":\"#C8D4E3\",\"startlinecolor\":\"#2a3f5f\"},\"type\":\"carpet\"}],\"table\":[{\"cells\":{\"fill\":{\"color\":\"#EBF0F8\"},\"line\":{\"color\":\"white\"}},\"header\":{\"fill\":{\"color\":\"#C8D4E3\"},\"line\":{\"color\":\"white\"}},\"type\":\"table\"}],\"barpolar\":[{\"marker\":{\"line\":{\"color\":\"white\",\"width\":0.5},\"pattern\":{\"fillmode\":\"overlay\",\"size\":10,\"solidity\":0.2}},\"type\":\"barpolar\"}],\"pie\":[{\"automargin\":true,\"type\":\"pie\"}]},\"layout\":{\"autotypenumbers\":\"strict\",\"colorway\":[\"#636efa\",\"#EF553B\",\"#00cc96\",\"#ab63fa\",\"#FFA15A\",\"#19d3f3\",\"#FF6692\",\"#B6E880\",\"#FF97FF\",\"#FECB52\"],\"font\":{\"color\":\"#2a3f5f\"},\"hovermode\":\"closest\",\"hoverlabel\":{\"align\":\"left\"},\"paper_bgcolor\":\"white\",\"plot_bgcolor\":\"white\",\"polar\":{\"bgcolor\":\"white\",\"angularaxis\":{\"gridcolor\":\"#EBF0F8\",\"linecolor\":\"#EBF0F8\",\"ticks\":\"\"},\"radialaxis\":{\"gridcolor\":\"#EBF0F8\",\"linecolor\":\"#EBF0F8\",\"ticks\":\"\"}},\"ternary\":{\"bgcolor\":\"white\",\"aaxis\":{\"gridcolor\":\"#DFE8F3\",\"linecolor\":\"#A2B1C6\",\"ticks\":\"\"},\"baxis\":{\"gridcolor\":\"#DFE8F3\",\"linecolor\":\"#A2B1C6\",\"ticks\":\"\"},\"caxis\":{\"gridcolor\":\"#DFE8F3\",\"linecolor\":\"#A2B1C6\",\"ticks\":\"\"}},\"coloraxis\":{\"colorbar\":{\"outlinewidth\":0,\"ticks\":\"\"}},\"colorscale\":{\"sequential\":[[0.0,\"#0d0887\"],[0.1111111111111111,\"#46039f\"],[0.2222222222222222,\"#7201a8\"],[0.3333333333333333,\"#9c179e\"],[0.4444444444444444,\"#bd3786\"],[0.5555555555555556,\"#d8576b\"],[0.6666666666666666,\"#ed7953\"],[0.7777777777777778,\"#fb9f3a\"],[0.8888888888888888,\"#fdca26\"],[1.0,\"#f0f921\"]],\"sequentialminus\":[[0.0,\"#0d0887\"],[0.1111111111111111,\"#46039f\"],[0.2222222222222222,\"#7201a8\"],[0.3333333333333333,\"#9c179e\"],[0.4444444444444444,\"#bd3786\"],[0.5555555555555556,\"#d8576b\"],[0.6666666666666666,\"#ed7953\"],[0.7777777777777778,\"#fb9f3a\"],[0.8888888888888888,\"#fdca26\"],[1.0,\"#f0f921\"]],\"diverging\":[[0,\"#8e0152\"],[0.1,\"#c51b7d\"],[0.2,\"#de77ae\"],[0.3,\"#f1b6da\"],[0.4,\"#fde0ef\"],[0.5,\"#f7f7f7\"],[0.6,\"#e6f5d0\"],[0.7,\"#b8e186\"],[0.8,\"#7fbc41\"],[0.9,\"#4d9221\"],[1,\"#276419\"]]},\"xaxis\":{\"gridcolor\":\"#EBF0F8\",\"linecolor\":\"#EBF0F8\",\"ticks\":\"\",\"title\":{\"standoff\":15},\"zerolinecolor\":\"#EBF0F8\",\"automargin\":true,\"zerolinewidth\":2},\"yaxis\":{\"gridcolor\":\"#EBF0F8\",\"linecolor\":\"#EBF0F8\",\"ticks\":\"\",\"title\":{\"standoff\":15},\"zerolinecolor\":\"#EBF0F8\",\"automargin\":true,\"zerolinewidth\":2},\"scene\":{\"xaxis\":{\"backgroundcolor\":\"white\",\"gridcolor\":\"#DFE8F3\",\"linecolor\":\"#EBF0F8\",\"showbackground\":true,\"ticks\":\"\",\"zerolinecolor\":\"#EBF0F8\",\"gridwidth\":2},\"yaxis\":{\"backgroundcolor\":\"white\",\"gridcolor\":\"#DFE8F3\",\"linecolor\":\"#EBF0F8\",\"showbackground\":true,\"ticks\":\"\",\"zerolinecolor\":\"#EBF0F8\",\"gridwidth\":2},\"zaxis\":{\"backgroundcolor\":\"white\",\"gridcolor\":\"#DFE8F3\",\"linecolor\":\"#EBF0F8\",\"showbackground\":true,\"ticks\":\"\",\"zerolinecolor\":\"#EBF0F8\",\"gridwidth\":2}},\"shapedefaults\":{\"line\":{\"color\":\"#2a3f5f\"}},\"annotationdefaults\":{\"arrowcolor\":\"#2a3f5f\",\"arrowhead\":0,\"arrowwidth\":1},\"geo\":{\"bgcolor\":\"white\",\"landcolor\":\"white\",\"subunitcolor\":\"#C8D4E3\",\"showland\":true,\"showlakes\":true,\"lakecolor\":\"white\"},\"title\":{\"x\":0.05},\"mapbox\":{\"style\":\"light\"}}},\"xaxis\":{\"anchor\":\"y\",\"domain\":[0.0,0.14666666666666667],\"title\":{\"text\":\"Age (years)\"}},\"yaxis\":{\"anchor\":\"x\",\"domain\":[0.0,0.425],\"title\":{\"text\":\"Probability of dying between ages x and x+1\"}},\"xaxis2\":{\"anchor\":\"y2\",\"domain\":[0.16666666666666666,0.31333333333333335],\"matches\":\"x\",\"title\":{\"text\":\"Age (years)\"}},\"yaxis2\":{\"anchor\":\"x2\",\"domain\":[0.0,0.425],\"matches\":\"y\",\"showticklabels\":false},\"xaxis3\":{\"anchor\":\"y3\",\"domain\":[0.3333333333333333,0.48],\"matches\":\"x\",\"title\":{\"text\":\"Age (years)\"}},\"yaxis3\":{\"anchor\":\"x3\",\"domain\":[0.0,0.425],\"matches\":\"y\",\"showticklabels\":false},\"xaxis4\":{\"anchor\":\"y4\",\"domain\":[0.5,0.6466666666666667],\"matches\":\"x\",\"title\":{\"text\":\"Age (years)\"}},\"yaxis4\":{\"anchor\":\"x4\",\"domain\":[0.0,0.425],\"matches\":\"y\",\"showticklabels\":false},\"xaxis5\":{\"anchor\":\"y5\",\"domain\":[0.6666666666666666,0.8133333333333332],\"matches\":\"x\",\"title\":{\"text\":\"Age (years)\"}},\"yaxis5\":{\"anchor\":\"x5\",\"domain\":[0.0,0.425],\"matches\":\"y\",\"showticklabels\":false},\"xaxis6\":{\"anchor\":\"y6\",\"domain\":[0.8333333333333334,0.98],\"matches\":\"x\",\"title\":{\"text\":\"Age (years)\"}},\"yaxis6\":{\"anchor\":\"x6\",\"domain\":[0.0,0.425],\"matches\":\"y\",\"showticklabels\":false},\"xaxis7\":{\"anchor\":\"y7\",\"domain\":[0.0,0.14666666666666667],\"matches\":\"x\",\"showticklabels\":false,\"title\":{\"text\":\"Age (years)\"}},\"yaxis7\":{\"anchor\":\"x7\",\"domain\":[0.575,1.0],\"matches\":\"y\",\"title\":{\"text\":\"Probability of dying between ages x and x+1\"}},\"xaxis8\":{\"anchor\":\"y8\",\"domain\":[0.16666666666666666,0.31333333333333335],\"matches\":\"x\",\"showticklabels\":false,\"title\":{\"text\":\"Age (years)\"}},\"yaxis8\":{\"anchor\":\"x8\",\"domain\":[0.575,1.0],\"matches\":\"y\",\"showticklabels\":false},\"xaxis9\":{\"anchor\":\"y9\",\"domain\":[0.3333333333333333,0.48],\"matches\":\"x\",\"showticklabels\":false,\"title\":{\"text\":\"Age (years)\"}},\"yaxis9\":{\"anchor\":\"x9\",\"domain\":[0.575,1.0],\"matches\":\"y\",\"showticklabels\":false},\"xaxis10\":{\"anchor\":\"y10\",\"domain\":[0.5,0.6466666666666667],\"matches\":\"x\",\"showticklabels\":false,\"title\":{\"text\":\"Age (years)\"}},\"yaxis10\":{\"anchor\":\"x10\",\"domain\":[0.575,1.0],\"matches\":\"y\",\"showticklabels\":false},\"xaxis11\":{\"anchor\":\"y11\",\"domain\":[0.6666666666666666,0.8133333333333332],\"matches\":\"x\",\"showticklabels\":false,\"title\":{\"text\":\"Age (years)\"}},\"yaxis11\":{\"anchor\":\"x11\",\"domain\":[0.575,1.0],\"matches\":\"y\",\"showticklabels\":false},\"xaxis12\":{\"anchor\":\"y12\",\"domain\":[0.8333333333333334,0.98],\"matches\":\"x\",\"showticklabels\":false,\"title\":{\"text\":\"Age (years)\"}},\"yaxis12\":{\"anchor\":\"x12\",\"domain\":[0.575,1.0],\"matches\":\"y\",\"showticklabels\":false},\"annotations\":[{\"font\":{},\"showarrow\":false,\"text\":\"year=2001\",\"x\":0.07333333333333333,\"xanchor\":\"center\",\"xref\":\"paper\",\"y\":1.0,\"yanchor\":\"bottom\",\"yref\":\"paper\"},{\"font\":{},\"showarrow\":false,\"text\":\"year=2010\",\"x\":0.24,\"xanchor\":\"center\",\"xref\":\"paper\",\"y\":1.0,\"yanchor\":\"bottom\",\"yref\":\"paper\"},{\"font\":{},\"showarrow\":false,\"text\":\"year=2015\",\"x\":0.4066666666666666,\"xanchor\":\"center\",\"xref\":\"paper\",\"y\":1.0,\"yanchor\":\"bottom\",\"yref\":\"paper\"},{\"font\":{},\"showarrow\":false,\"text\":\"year=2020\",\"x\":0.5733333333333334,\"xanchor\":\"center\",\"xref\":\"paper\",\"y\":1.0,\"yanchor\":\"bottom\",\"yref\":\"paper\"},{\"font\":{},\"showarrow\":false,\"text\":\"year=2025\",\"x\":0.74,\"xanchor\":\"center\",\"xref\":\"paper\",\"y\":1.0,\"yanchor\":\"bottom\",\"yref\":\"paper\"},{\"font\":{},\"showarrow\":false,\"text\":\"year=2030\",\"x\":0.9066666666666667,\"xanchor\":\"center\",\"xref\":\"paper\",\"y\":1.0,\"yanchor\":\"bottom\",\"yref\":\"paper\"},{\"font\":{},\"showarrow\":false,\"text\":\"sex=M\",\"textangle\":90,\"x\":0.98,\"xanchor\":\"left\",\"xref\":\"paper\",\"y\":0.2125,\"yanchor\":\"middle\",\"yref\":\"paper\"},{\"font\":{},\"showarrow\":false,\"text\":\"sex=F\",\"textangle\":90,\"x\":0.98,\"xanchor\":\"left\",\"xref\":\"paper\",\"y\":0.7875,\"yanchor\":\"middle\",\"yref\":\"paper\"}],\"legend\":{\"tracegroupgap\":0,\"title\":{\"text\":\"\"}},\"title\":{\"text\":\"Mortality Graph by Age\\u003cbr\\u003eProvince: CA\\u003cbr\\u003eInitial Births in 2001: 5000\\u003cbr\\u003eProjection Scenario: M3\",\"x\":0.5,\"y\":0.95},\"height\":800,\"margin\":{\"t\":150},\"showlegend\":true},                        {\"toImageButtonOptions\": {\"format\": \"png\", \"scale\": 2}, \"responsive\": true}                    )                };            </script>        </div>"
      ]
     },
     "metadata": {},
     "output_type": "display_data"
    }
   ],
   "source": [
    "df = model_mortality_df.copy()\n",
    "YEARS = [STARTING_YEAR, 2010, 2015, 2020, 2025, 2030]\n",
    "df = df[df[\"year\"].isin(YEARS)].reset_index(drop=True)\n",
    "df_target = target_mortality_df.copy()\n",
    "df_target = df_target[df_target[\"year\"].isin(YEARS)].reset_index(drop=True)\n",
    "fig = px.line(\n",
    "    df,\n",
    "    x=\"age\",\n",
    "    y=\"prob_death\",\n",
    "    facet_col=\"year\",\n",
    "    facet_row=\"sex\",\n",
    "    title=f\"Mortality Graph by Age<br>\"\n",
    "    + f\"Province: {PROVINCE}<br>\"\n",
    "    + f\"Initial Births in {STARTING_YEAR}: {N_BIRTHS}<br>\"\n",
    "    + f\"Projection Scenario: {GROWTH_TYPE}\",\n",
    "    labels={\"prob_death\": \"Probability of dying between ages x and x+1\"},\n",
    "    color_discrete_sequence=[\"#999999\"],\n",
    "    height=800,\n",
    "    facet_row_spacing=0.15\n",
    ")\n",
    "fig_target = px.line(\n",
    "    df_target,\n",
    "    x=\"age\",\n",
    "    y=\"prob_death\",\n",
    "    facet_col=\"year\",\n",
    "    facet_row=\"sex\",\n",
    "    labels={\"prob_death\": \"Probability of dying between ages x and x+1\"},\n",
    "    color_discrete_sequence=[\"black\"],\n",
    "    line_dash_sequence=[\"dash\"],\n",
    "    height=800,\n",
    "    facet_row_spacing=0.15\n",
    ")\n",
    "fig.add_traces(\n",
    "    fig_target.data\n",
    ")\n",
    "\n",
    "fig.data[0].update(showlegend=True, name=\"model\")\n",
    "fig.data[len(YEARS)*2].update(showlegend=True, name=\"target\")\n",
    "fig.update_xaxes(title_text=\"Age (years)\")\n",
    "fig.update_layout(\n",
    "    legend_title_text=\"\",\n",
    "    title_x=0.5,\n",
    "    title_y=0.95,\n",
    "    margin=dict(t=150), # Adjust top margin for title\n",
    "    showlegend=True\n",
    ")\n",
    "fig.show(config=config)"
   ]
  },
  {
   "cell_type": "markdown",
   "id": "4c785a2d",
   "metadata": {},
   "source": [
    "## Immigration / Emigration Figure"
   ]
  },
  {
   "cell_type": "markdown",
   "id": "0093d1f5",
   "metadata": {},
   "source": [
    "### Load Data"
   ]
  },
  {
   "cell_type": "code",
   "execution_count": 10,
   "id": "1b3d6f66",
   "metadata": {
    "execution": {
     "iopub.execute_input": "2025-08-30T21:58:54.839543Z",
     "iopub.status.busy": "2025-08-30T21:58:54.839340Z",
     "iopub.status.idle": "2025-08-30T21:58:54.860955Z",
     "shell.execute_reply": "2025-08-30T21:58:54.860268Z"
    }
   },
   "outputs": [],
   "source": [
    "# Read mortality data from simulation\n",
    "df_emigration_model = pd.read_csv(RUN_BUNDLE_FOLDER / \"outcome_matrix_emigration.csv\")\n",
    "\n",
    "# Read population data from simulation\n",
    "df_immigration_model = pd.read_csv(RUN_BUNDLE_FOLDER / \"outcome_matrix_immigration.csv\")"
   ]
  },
  {
   "cell_type": "markdown",
   "id": "e3dae8b6",
   "metadata": {},
   "source": [
    "### Visualize Data"
   ]
  },
  {
   "cell_type": "code",
   "execution_count": 11,
   "id": "091a9eb8",
   "metadata": {
    "execution": {
     "iopub.execute_input": "2025-08-30T21:58:54.863275Z",
     "iopub.status.busy": "2025-08-30T21:58:54.863081Z",
     "iopub.status.idle": "2025-08-30T21:58:55.162404Z",
     "shell.execute_reply": "2025-08-30T21:58:55.161710Z"
    }
   },
   "outputs": [
    {
     "data": {
      "text/html": [
       "<div>            <script src=\"https://cdnjs.cloudflare.com/ajax/libs/mathjax/2.7.5/MathJax.js?config=TeX-AMS-MML_SVG\"></script><script type=\"text/javascript\">if (window.MathJax && window.MathJax.Hub && window.MathJax.Hub.Config) {window.MathJax.Hub.Config({SVG: {font: \"STIX-Web\"}});}</script>                <script type=\"text/javascript\">window.PlotlyConfig = {MathJaxConfig: 'local'};</script>\n",
       "        <script charset=\"utf-8\" src=\"https://cdn.plot.ly/plotly-3.1.0.min.js\" integrity=\"sha256-Ei4740bWZhaUTQuD6q9yQlgVCMPBz6CZWhevDYPv93A=\" crossorigin=\"anonymous\"></script>                <div id=\"072f5ac3-38a5-4a58-aee5-9ad4f8a0f69a\" class=\"plotly-graph-div\" style=\"height:800px; width:100%;\"></div>            <script type=\"text/javascript\">                window.PLOTLYENV=window.PLOTLYENV || {};                                if (document.getElementById(\"072f5ac3-38a5-4a58-aee5-9ad4f8a0f69a\")) {                    Plotly.newPlot(                        \"072f5ac3-38a5-4a58-aee5-9ad4f8a0f69a\",                        [{\"hovertemplate\":\"sex=F\\u003cbr\\u003eyear=2001\\u003cbr\\u003eage=%{x}\\u003cbr\\u003eNumber of Emigrants=%{y}\\u003cextra\\u003e\\u003c\\u002fextra\\u003e\",\"legendgroup\":\"\",\"line\":{\"color\":\"blue\",\"dash\":\"solid\"},\"marker\":{\"symbol\":\"circle\"},\"mode\":\"lines\",\"name\":\"emigrants\",\"showlegend\":true,\"x\":{\"dtype\":\"i1\",\"bdata\":\"AAECAwQFBgcICQoLDA0ODxAREhMUFRYXGBkaGxwdHh8gISIjJCUmJygpKissLS4vMDEyMzQ1Njc4OTo7PD0+P0BBQkNERUZHSElKS0xNTk9QUVJTVFVWV1hZWltcXV5fYGFiY2RlZmdoaWprbG1u\"},\"xaxis\":\"x7\",\"y\":{\"dtype\":\"i1\",\"bdata\":\"AAAAAAAAAAAAAAAAAAAAAAAAAAAAAAAAAAAAAAAAAAAAAAAAAAAAAAAAAAAAAAAAAAAAAAAARgAAAAEAAAAAAAABAAADAAYAAAMACQMCABEFDgAACAgeDQ4LCAAAAAAAAAAAAAAAAAAAAAAAAAAA\"},\"yaxis\":\"y7\",\"type\":\"scattergl\"},{\"hovertemplate\":\"sex=F\\u003cbr\\u003eyear=2010\\u003cbr\\u003eage=%{x}\\u003cbr\\u003eNumber of Emigrants=%{y}\\u003cextra\\u003e\\u003c\\u002fextra\\u003e\",\"legendgroup\":\"\",\"line\":{\"color\":\"blue\",\"dash\":\"solid\"},\"marker\":{\"symbol\":\"circle\"},\"mode\":\"lines\",\"name\":\"\",\"showlegend\":false,\"x\":{\"dtype\":\"i1\",\"bdata\":\"AAECAwQFBgcICQoLDA0ODxAREhMUFRYXGBkaGxwdHh8gISIjJCUmJygpKissLS4vMDEyMzQ1Njc4OTo7PD0+P0BBQkNERUZHSElKS0xNTk9QUVJTVFVWV1hZWltcXV5fYGFiY2RlZmdoaWprbG1u\"},\"xaxis\":\"x8\",\"y\":{\"dtype\":\"i1\",\"bdata\":\"AAAAAAAAAAAAAAAAAAAAAAAAAAAAAAAAAAAAAAAAAAAAAAAAAAAAAAAAAAAAAAAAAAAAAAAAAQAJCggEAAAAAAUGAAAAAAAAAAAAAAAAAAACAQUHCRQOCggQBA4NBgIGAggAAAAAAAAAAAAAAAAA\"},\"yaxis\":\"y8\",\"type\":\"scattergl\"},{\"hovertemplate\":\"sex=F\\u003cbr\\u003eyear=2015\\u003cbr\\u003eage=%{x}\\u003cbr\\u003eNumber of Emigrants=%{y}\\u003cextra\\u003e\\u003c\\u002fextra\\u003e\",\"legendgroup\":\"\",\"line\":{\"color\":\"blue\",\"dash\":\"solid\"},\"marker\":{\"symbol\":\"circle\"},\"mode\":\"lines\",\"name\":\"\",\"showlegend\":false,\"x\":{\"dtype\":\"i1\",\"bdata\":\"AAECAwQFBgcICQoLDA0ODxAREhMUFRYXGBkaGxwdHh8gISIjJCUmJygpKissLS4vMDEyMzQ1Njc4OTo7PD0+P0BBQkNERUZHSElKS0xNTk9QUVJTVFVWV1hZWltcXV5fYGFiY2RlZmdoaWprbG1u\"},\"xaxis\":\"x9\",\"y\":{\"dtype\":\"i1\",\"bdata\":\"AAAAAAAAAAAAAAAAAAAAAAAAAAAAAA0BAAAAAAAAAAAAAAAAAAAAAAAAAAAAAAAAAAAAAAAAAAAAAAAAAAAAAAAAAAAAEBAJCxMLFg4NDxARExISEhQXDRMaEA4UFQ8NCAgJAQAAAAAAAAAAAAAA\"},\"yaxis\":\"y9\",\"type\":\"scattergl\"},{\"hovertemplate\":\"sex=F\\u003cbr\\u003eyear=2020\\u003cbr\\u003eage=%{x}\\u003cbr\\u003eNumber of Emigrants=%{y}\\u003cextra\\u003e\\u003c\\u002fextra\\u003e\",\"legendgroup\":\"\",\"line\":{\"color\":\"blue\",\"dash\":\"solid\"},\"marker\":{\"symbol\":\"circle\"},\"mode\":\"lines\",\"name\":\"\",\"showlegend\":false,\"x\":{\"dtype\":\"i1\",\"bdata\":\"AAECAwQFBgcICQoLDA0ODxAREhMUFRYXGBkaGxwdHh8gISIjJCUmJygpKissLS4vMDEyMzQ1Njc4OTo7PD0+P0BBQkNERUZHSElKS0xNTk9QUVJTVFVWV1hZWltcXV5fYGFiY2RlZmdoaWprbG1u\"},\"xaxis\":\"x10\",\"y\":{\"dtype\":\"i1\",\"bdata\":\"AAAAAAAAAAAAAAAAAAAAAAAAAAAAAAAAAAAAAAAAAAAAAAAAAAAAAAAAAAAAAAAAAAAAAAAAAAAAAAAAAAAAAAAAAAAAAAAAAAAAAAAAAAADAwMFBQsJBw8REhMMDBEHBAIFAgAAAAAAAAAAAAAA\"},\"yaxis\":\"y10\",\"type\":\"scattergl\"},{\"hovertemplate\":\"sex=F\\u003cbr\\u003eyear=2025\\u003cbr\\u003eage=%{x}\\u003cbr\\u003eNumber of Emigrants=%{y}\\u003cextra\\u003e\\u003c\\u002fextra\\u003e\",\"legendgroup\":\"\",\"line\":{\"color\":\"blue\",\"dash\":\"solid\"},\"marker\":{\"symbol\":\"circle\"},\"mode\":\"lines\",\"name\":\"\",\"showlegend\":false,\"x\":{\"dtype\":\"i1\",\"bdata\":\"AAECAwQFBgcICQoLDA0ODxAREhMUFRYXGBkaGxwdHh8gISIjJCUmJygpKissLS4vMDEyMzQ1Njc4OTo7PD0+P0BBQkNERUZHSElKS0xNTk9QUVJTVFVWV1hZWltcXV5fYGFiY2RlZmdoaWprbG1u\"},\"xaxis\":\"x11\",\"y\":{\"dtype\":\"i1\",\"bdata\":\"AAAAAAAAAAAAAAAAAAAAAAAAAAAAAAAAAAAAAAAAAAAAAAAAAAAAAAAAAAAAAAAAAAAAAAAAAAAAAAAAAAAAAAAAAAAAAAAAAAAAAAAAAAAAAAAGAwMFAwkJCAsPDgcJCA4FAAAAAAAAAAAAAAAA\"},\"yaxis\":\"y11\",\"type\":\"scattergl\"},{\"hovertemplate\":\"sex=F\\u003cbr\\u003eyear=2030\\u003cbr\\u003eage=%{x}\\u003cbr\\u003eNumber of Emigrants=%{y}\\u003cextra\\u003e\\u003c\\u002fextra\\u003e\",\"legendgroup\":\"\",\"line\":{\"color\":\"blue\",\"dash\":\"solid\"},\"marker\":{\"symbol\":\"circle\"},\"mode\":\"lines\",\"name\":\"\",\"showlegend\":false,\"x\":{\"dtype\":\"i1\",\"bdata\":\"AAECAwQFBgcICQoLDA0ODxAREhMUFRYXGBkaGxwdHh8gISIjJCUmJygpKissLS4vMDEyMzQ1Njc4OTo7PD0+P0BBQkNERUZHSElKS0xNTk9QUVJTVFVWV1hZWltcXV5fYGFiY2RlZmdoaWprbG1u\"},\"xaxis\":\"x12\",\"y\":{\"dtype\":\"i1\",\"bdata\":\"AAAAAAAAAAAAAAAAAAAAAAAAAAAAAAAAAAAAAAAAAAAAAAAAAAAAAAAAAAAAAAAAAAAAAAAAAAAAAAAAAAAAAAAAAAAAAAAAAAAAAAAAAAAAAAAAAwcMDw4UDRkRDBgTDwgFCgAAAAAAAAAAAAAA\"},\"yaxis\":\"y12\",\"type\":\"scattergl\"},{\"hovertemplate\":\"sex=M\\u003cbr\\u003eyear=2001\\u003cbr\\u003eage=%{x}\\u003cbr\\u003eNumber of Emigrants=%{y}\\u003cextra\\u003e\\u003c\\u002fextra\\u003e\",\"legendgroup\":\"\",\"line\":{\"color\":\"blue\",\"dash\":\"solid\"},\"marker\":{\"symbol\":\"circle\"},\"mode\":\"lines\",\"name\":\"\",\"showlegend\":false,\"x\":{\"dtype\":\"i1\",\"bdata\":\"AAECAwQFBgcICQoLDA0ODxAREhMUFRYXGBkaGxwdHh8gISIjJCUmJygpKissLS4vMDEyMzQ1Njc4OTo7PD0+P0BBQkNERUZHSElKS0xNTk9QUVJTVFVWV1hZWltcXV5fYGFiY2RlZmdoaWprbG1u\"},\"xaxis\":\"x\",\"y\":{\"dtype\":\"i1\",\"bdata\":\"AAAAAAAAAAAAAAAAAAAAAAAAAAAAAAAAAAAAAAAAAAAAAAAAAAAAAAAAAAAAAAAAAAAAAAAAUgAAAAMAAAAAAAABAAAABQAAAAAAAAABAAUJCwAFBwYPDwcBAAAAAAAAAAAAAAAAAAAAAAAAAAAA\"},\"yaxis\":\"y\",\"type\":\"scattergl\"},{\"hovertemplate\":\"sex=M\\u003cbr\\u003eyear=2010\\u003cbr\\u003eage=%{x}\\u003cbr\\u003eNumber of Emigrants=%{y}\\u003cextra\\u003e\\u003c\\u002fextra\\u003e\",\"legendgroup\":\"\",\"line\":{\"color\":\"blue\",\"dash\":\"solid\"},\"marker\":{\"symbol\":\"circle\"},\"mode\":\"lines\",\"name\":\"\",\"showlegend\":false,\"x\":{\"dtype\":\"i1\",\"bdata\":\"AAECAwQFBgcICQoLDA0ODxAREhMUFRYXGBkaGxwdHh8gISIjJCUmJygpKissLS4vMDEyMzQ1Njc4OTo7PD0+P0BBQkNERUZHSElKS0xNTk9QUVJTVFVWV1hZWltcXV5fYGFiY2RlZmdoaWprbG1u\"},\"xaxis\":\"x2\",\"y\":{\"dtype\":\"i1\",\"bdata\":\"AAAAAAAAAAAAAAAAAAAAAAAAAAAAAAAAAAAAAAAAAAAAAAAAAAAAAAAAAAAAAAAAAAAAAAAAAAAAAAAAAAAAAAAAAgAEBAAAAAAAAAQIDAEDBgsVDxMXEg0NBwQFBAYBAAEAAQAAAAAAAAAAAAAA\"},\"yaxis\":\"y2\",\"type\":\"scattergl\"},{\"hovertemplate\":\"sex=M\\u003cbr\\u003eyear=2015\\u003cbr\\u003eage=%{x}\\u003cbr\\u003eNumber of Emigrants=%{y}\\u003cextra\\u003e\\u003c\\u002fextra\\u003e\",\"legendgroup\":\"\",\"line\":{\"color\":\"blue\",\"dash\":\"solid\"},\"marker\":{\"symbol\":\"circle\"},\"mode\":\"lines\",\"name\":\"\",\"showlegend\":false,\"x\":{\"dtype\":\"i1\",\"bdata\":\"AAECAwQFBgcICQoLDA0ODxAREhMUFRYXGBkaGxwdHh8gISIjJCUmJygpKissLS4vMDEyMzQ1Njc4OTo7PD0+P0BBQkNERUZHSElKS0xNTk9QUVJTVFVWV1hZWltcXV5fYGFiY2RlZmdoaWprbG1u\"},\"xaxis\":\"x3\",\"y\":{\"dtype\":\"i1\",\"bdata\":\"AAAAAAAAAAAAAAAAAAAAAAAAAAAAAAAAAAAAAAAAAAAAAAAAAAAAAAAAAAAAAAAAAAAAAAADAAAGAAMJBgUDDgQHDgsAEQkAAAMFCAcDCAEMBwINDA4VDxYHDAkNBwQFAgICAQAAAAAAAAAAAAAA\"},\"yaxis\":\"y3\",\"type\":\"scattergl\"},{\"hovertemplate\":\"sex=M\\u003cbr\\u003eyear=2020\\u003cbr\\u003eage=%{x}\\u003cbr\\u003eNumber of Emigrants=%{y}\\u003cextra\\u003e\\u003c\\u002fextra\\u003e\",\"legendgroup\":\"\",\"line\":{\"color\":\"blue\",\"dash\":\"solid\"},\"marker\":{\"symbol\":\"circle\"},\"mode\":\"lines\",\"name\":\"\",\"showlegend\":false,\"x\":{\"dtype\":\"i1\",\"bdata\":\"AAECAwQFBgcICQoLDA0ODxAREhMUFRYXGBkaGxwdHh8gISIjJCUmJygpKissLS4vMDEyMzQ1Njc4OTo7PD0+P0BBQkNERUZHSElKS0xNTk9QUVJTVFVWV1hZWltcXV5fYGFiY2RlZmdoaWprbG1u\"},\"xaxis\":\"x4\",\"y\":{\"dtype\":\"i1\",\"bdata\":\"AAAAAAAAAAAAAAAAAAAAAAAAAAAAAAAAAAAAAAAAAAAAAAAAAAAAAAAAAAAAAAAAAAAAAAAAAAAAAAAAAAAAAAAAAAAAAAAAAAACAAAAAAEBBQkEBw8HChEREQgDCQMIAQMAAAAAAAAAAAAAAAAA\"},\"yaxis\":\"y4\",\"type\":\"scattergl\"},{\"hovertemplate\":\"sex=M\\u003cbr\\u003eyear=2025\\u003cbr\\u003eage=%{x}\\u003cbr\\u003eNumber of Emigrants=%{y}\\u003cextra\\u003e\\u003c\\u002fextra\\u003e\",\"legendgroup\":\"\",\"line\":{\"color\":\"blue\",\"dash\":\"solid\"},\"marker\":{\"symbol\":\"circle\"},\"mode\":\"lines\",\"name\":\"\",\"showlegend\":false,\"x\":{\"dtype\":\"i1\",\"bdata\":\"AAECAwQFBgcICQoLDA0ODxAREhMUFRYXGBkaGxwdHh8gISIjJCUmJygpKissLS4vMDEyMzQ1Njc4OTo7PD0+P0BBQkNERUZHSElKS0xNTk9QUVJTVFVWV1hZWltcXV5fYGFiY2RlZmdoaWprbG1u\"},\"xaxis\":\"x5\",\"y\":{\"dtype\":\"i1\",\"bdata\":\"AAAAAAAAAAAAAAAAAAAAAAAAAAAAAAAAAAAAAAAAAAAAAAAAAAAAAAAAAAAAAAAAAAAAAAAAAAAAAAAAAAAAAAAAAAAAAAAAAAAAAAAAAAAAAgYNBQsKBggQDQsOAwkJAAIGAQAAAAAAAAAAAAAA\"},\"yaxis\":\"y5\",\"type\":\"scattergl\"},{\"hovertemplate\":\"sex=M\\u003cbr\\u003eyear=2030\\u003cbr\\u003eage=%{x}\\u003cbr\\u003eNumber of Emigrants=%{y}\\u003cextra\\u003e\\u003c\\u002fextra\\u003e\",\"legendgroup\":\"\",\"line\":{\"color\":\"blue\",\"dash\":\"solid\"},\"marker\":{\"symbol\":\"circle\"},\"mode\":\"lines\",\"name\":\"\",\"showlegend\":false,\"x\":{\"dtype\":\"i1\",\"bdata\":\"AAECAwQFBgcICQoLDA0ODxAREhMUFRYXGBkaGxwdHh8gISIjJCUmJygpKissLS4vMDEyMzQ1Njc4OTo7PD0+P0BBQkNERUZHSElKS0xNTk9QUVJTVFVWV1hZWltcXV5fYGFiY2RlZmdoaWprbG1u\"},\"xaxis\":\"x6\",\"y\":{\"dtype\":\"i1\",\"bdata\":\"AAAAAAAAAAAAAAAAAAAAAAAAAAAAAAAAAAAAAAAAAAAAAAAAAAAAAAAAAAAAAAAAAAAAAAAAAAAAAAAAAAAAAAAAAAAAAAAAAAAAAAAAAAACBAQHBhELDhETEhcKFAsHCQYJAgAAAAAAAAAAAAAA\"},\"yaxis\":\"y6\",\"type\":\"scattergl\"},{\"hovertemplate\":\"sex=F\\u003cbr\\u003eyear=2001\\u003cbr\\u003eage=%{x}\\u003cbr\\u003eNumber of Immigrants=%{y}\\u003cextra\\u003e\\u003c\\u002fextra\\u003e\",\"legendgroup\":\"\",\"line\":{\"color\":\"orange\",\"dash\":\"solid\"},\"marker\":{\"symbol\":\"circle\"},\"mode\":\"lines\",\"name\":\"immigrants\",\"showlegend\":true,\"x\":{\"dtype\":\"i1\",\"bdata\":\"AAECAwQFBgcICQoLDA0ODxAREhMUFRYXGBkaGxwdHh8gISIjJCUmJygpKissLS4vMDEyMzQ1Njc4OTo7PD0+P0BBQkNERUZHSElKS0xNTk9QUVJTVFVWV1hZWltcXV5fYGFiY2RlZmdoaWprbG1u\"},\"xaxis\":\"x7\",\"y\":{\"dtype\":\"i1\",\"bdata\":\"AAAAAAAAAAAAAAAAAAAAAAAAAAAAAAAAAAAAAAAAAAAAAAAAAAAAAAAAAAAAAAAAAAAAAAAAAAAAAAAAAAAAAAAAAAAAAAAAAAAAAAAAAAAAAAAAAAAAAAAAAAAAAAAAAAAAAAAAAAAAAAAAAAAA\"},\"yaxis\":\"y7\",\"type\":\"scattergl\"},{\"hovertemplate\":\"sex=F\\u003cbr\\u003eyear=2010\\u003cbr\\u003eage=%{x}\\u003cbr\\u003eNumber of Immigrants=%{y}\\u003cextra\\u003e\\u003c\\u002fextra\\u003e\",\"legendgroup\":\"\",\"line\":{\"color\":\"orange\",\"dash\":\"solid\"},\"marker\":{\"symbol\":\"circle\"},\"mode\":\"lines\",\"name\":\"\",\"showlegend\":false,\"x\":{\"dtype\":\"i1\",\"bdata\":\"AAECAwQFBgcICQoLDA0ODxAREhMUFRYXGBkaGxwdHh8gISIjJCUmJygpKissLS4vMDEyMzQ1Njc4OTo7PD0+P0BBQkNERUZHSElKS0xNTk9QUVJTVFVWV1hZWltcXV5fYGFiY2RlZmdoaWprbG1u\"},\"xaxis\":\"x8\",\"y\":{\"dtype\":\"i2\",\"bdata\":\"AABTAC8AMwBHADgARAAlADoAMAAxADwARABAAEMAVwBZAGUAZwCVAIQAfQBnAGYAeAByAHUAZQCCAHIAaABmAGAAVABXAEYAPwBCAD4AYAAuADYALwAgABQAFAAQAAgACQAgABwAHwAQAAcAAAAAAAAAAAAAAAAAAwACABAALwAAAAAAAQAFAAAABwAMAAoACgAJAAYAAAAAAAMAAAABAAAAAAAAAAAAAAAAAAAAAAAAAAAAAAAAAAAAAAAAAAAAAAAAAAAAAABSAAAAAAAAAAAAAAAAAAAAAAAAAAAA\"},\"yaxis\":\"y8\",\"type\":\"scattergl\"},{\"hovertemplate\":\"sex=F\\u003cbr\\u003eyear=2015\\u003cbr\\u003eage=%{x}\\u003cbr\\u003eNumber of Immigrants=%{y}\\u003cextra\\u003e\\u003c\\u002fextra\\u003e\",\"legendgroup\":\"\",\"line\":{\"color\":\"orange\",\"dash\":\"solid\"},\"marker\":{\"symbol\":\"circle\"},\"mode\":\"lines\",\"name\":\"\",\"showlegend\":false,\"x\":{\"dtype\":\"i1\",\"bdata\":\"AAECAwQFBgcICQoLDA0ODxAREhMUFRYXGBkaGxwdHh8gISIjJCUmJygpKissLS4vMDEyMzQ1Njc4OTo7PD0+P0BBQkNERUZHSElKS0xNTk9QUVJTVFVWV1hZWltcXV5fYGFiY2RlZmdoaWprbG1u\"},\"xaxis\":\"x9\",\"y\":{\"dtype\":\"i2\",\"bdata\":\"AAA6ADwAOAAwAEEAVgBIADYAMABCAEcANwBTAEwAZwCHAFMAdQCXADoADQAAAAAAAgAFAAIAFwAcACYAHwAeACQAIAAbADQAHwAmABsAJgAlABsALAAWAB8ALgAjACYAGQAZAB0AHwAjABAAEQARABAAEgAUABQAGQAYABcAEgALAAkAAgADAAoAAAAAAAAAAAAAAAAAAAAAAAAAAAAAAAAAAAAAAAAAAAAAAAAAAAAAAAAAAAAAAAAAAAAAAAAAAAAAAAAAAAByAAAAAAAAAAAAAAAAAAAAAAAAAAAA\"},\"yaxis\":\"y9\",\"type\":\"scattergl\"},{\"hovertemplate\":\"sex=F\\u003cbr\\u003eyear=2020\\u003cbr\\u003eage=%{x}\\u003cbr\\u003eNumber of Immigrants=%{y}\\u003cextra\\u003e\\u003c\\u002fextra\\u003e\",\"legendgroup\":\"\",\"line\":{\"color\":\"orange\",\"dash\":\"solid\"},\"marker\":{\"symbol\":\"circle\"},\"mode\":\"lines\",\"name\":\"\",\"showlegend\":false,\"x\":{\"dtype\":\"i1\",\"bdata\":\"AAECAwQFBgcICQoLDA0ODxAREhMUFRYXGBkaGxwdHh8gISIjJCUmJygpKissLS4vMDEyMzQ1Njc4OTo7PD0+P0BBQkNERUZHSElKS0xNTk9QUVJTVFVWV1hZWltcXV5fYGFiY2RlZmdoaWprbG1u\"},\"xaxis\":\"x10\",\"y\":{\"dtype\":\"i2\",\"bdata\":\"AABXADkAQABJAD8ARgA+AE4AUQAjADgANwA1AEAAUwBhAGIA6wC9AcIAVQBRAIwAnQCTAKAAoACoALgAnwCpAJMAlACaAIEAYQBMAGQAUwBVAD4AOgA8ACQAJAArACAAGAAZABYAFwAQAA0AEAANAAwADwAOAA0ACwANAA4AGQAJAAwADgAKAAwAEQAJAAUABgAKAAEAAwAEAAQABAAAAAAAAAAAAAAAAAAAAAAAAAAAAAAAAAAAAAAAAAAAAAAAAAAAAAAAAAC7AAAAAAAAAAAAAAAAAAAAAAAAAAAA\"},\"yaxis\":\"y10\",\"type\":\"scattergl\"},{\"hovertemplate\":\"sex=F\\u003cbr\\u003eyear=2025\\u003cbr\\u003eage=%{x}\\u003cbr\\u003eNumber of Immigrants=%{y}\\u003cextra\\u003e\\u003c\\u002fextra\\u003e\",\"legendgroup\":\"\",\"line\":{\"color\":\"orange\",\"dash\":\"solid\"},\"marker\":{\"symbol\":\"circle\"},\"mode\":\"lines\",\"name\":\"\",\"showlegend\":false,\"x\":{\"dtype\":\"i1\",\"bdata\":\"AAECAwQFBgcICQoLDA0ODxAREhMUFRYXGBkaGxwdHh8gISIjJCUmJygpKissLS4vMDEyMzQ1Njc4OTo7PD0+P0BBQkNERUZHSElKS0xNTk9QUVJTVFVWV1hZWltcXV5fYGFiY2RlZmdoaWprbG1u\"},\"xaxis\":\"x11\",\"y\":{\"dtype\":\"i2\",\"bdata\":\"AABdAEsASgBCAFUASAA7AEAAUQBAADEAOQA7AGAAjgCmAP8AWwEWAe4ASABaAE0ASgBmAFcAUwBjAFYAcgB0AG8AYQB2AG4AVgBWAE4AMwA9ADcAOgBAADQALAApAB8AJQAhABYAGAATABQADQAWABAAFQAZABMAFQAYABkAFQAWABcAGQAWABYAGQAMAAwADQAYAA4ACAALAAwAAwAHAAUAAAAAAAAAAAAAAAAAAAAAAAAAAAAAAAAAAAAAAAAAAAAAAAAAAADnAAAAAAAAAAAAAAAAAAAAAAAAAAAA\"},\"yaxis\":\"y11\",\"type\":\"scattergl\"},{\"hovertemplate\":\"sex=F\\u003cbr\\u003eyear=2030\\u003cbr\\u003eage=%{x}\\u003cbr\\u003eNumber of Immigrants=%{y}\\u003cextra\\u003e\\u003c\\u002fextra\\u003e\",\"legendgroup\":\"\",\"line\":{\"color\":\"orange\",\"dash\":\"solid\"},\"marker\":{\"symbol\":\"circle\"},\"mode\":\"lines\",\"name\":\"\",\"showlegend\":false,\"x\":{\"dtype\":\"i1\",\"bdata\":\"AAECAwQFBgcICQoLDA0ODxAREhMUFRYXGBkaGxwdHh8gISIjJCUmJygpKissLS4vMDEyMzQ1Njc4OTo7PD0+P0BBQkNERUZHSElKS0xNTk9QUVJTVFVWV1hZWltcXV5fYGFiY2RlZmdoaWprbG1u\"},\"xaxis\":\"x12\",\"y\":{\"dtype\":\"i2\",\"bdata\":\"AABcAEcAUABRAFMAYQBOAEcATwBEADUAOwBKAGQAigDDAP0AQgEbAfUAYABCAEsAVgBbAFoAaABfAH0AZQB8AHUAfQBpAG4AZABPAEwAOwBDAD4ANwAxADMAKAAmACUAFwATABIAGAANABYAHgAOABYAFQAbABUAIAAXAB8AGQAcABgAEgAWABcAHwARAA8AHAANAA0ACgALAAwACgAEAAIAAwABAAAAAAAAAAAAAAAAAAAAAAAAAAAAAAAAAAAAAAAAAAAAAAAGAQAAAAAAAAAAAAAAAAAAAAAAAAAA\"},\"yaxis\":\"y12\",\"type\":\"scattergl\"},{\"hovertemplate\":\"sex=M\\u003cbr\\u003eyear=2001\\u003cbr\\u003eage=%{x}\\u003cbr\\u003eNumber of Immigrants=%{y}\\u003cextra\\u003e\\u003c\\u002fextra\\u003e\",\"legendgroup\":\"\",\"line\":{\"color\":\"orange\",\"dash\":\"solid\"},\"marker\":{\"symbol\":\"circle\"},\"mode\":\"lines\",\"name\":\"\",\"showlegend\":false,\"x\":{\"dtype\":\"i1\",\"bdata\":\"AAECAwQFBgcICQoLDA0ODxAREhMUFRYXGBkaGxwdHh8gISIjJCUmJygpKissLS4vMDEyMzQ1Njc4OTo7PD0+P0BBQkNERUZHSElKS0xNTk9QUVJTVFVWV1hZWltcXV5fYGFiY2RlZmdoaWprbG1u\"},\"xaxis\":\"x\",\"y\":{\"dtype\":\"i1\",\"bdata\":\"AAAAAAAAAAAAAAAAAAAAAAAAAAAAAAAAAAAAAAAAAAAAAAAAAAAAAAAAAAAAAAAAAAAAAAAAAAAAAAAAAAAAAAAAAAAAAAAAAAAAAAAAAAAAAAAAAAAAAAAAAAAAAAAAAAAAAAAAAAAAAAAAAAAA\"},\"yaxis\":\"y\",\"type\":\"scattergl\"},{\"hovertemplate\":\"sex=M\\u003cbr\\u003eyear=2010\\u003cbr\\u003eage=%{x}\\u003cbr\\u003eNumber of Immigrants=%{y}\\u003cextra\\u003e\\u003c\\u002fextra\\u003e\",\"legendgroup\":\"\",\"line\":{\"color\":\"orange\",\"dash\":\"solid\"},\"marker\":{\"symbol\":\"circle\"},\"mode\":\"lines\",\"name\":\"\",\"showlegend\":false,\"x\":{\"dtype\":\"i1\",\"bdata\":\"AAECAwQFBgcICQoLDA0ODxAREhMUFRYXGBkaGxwdHh8gISIjJCUmJygpKissLS4vMDEyMzQ1Njc4OTo7PD0+P0BBQkNERUZHSElKS0xNTk9QUVJTVFVWV1hZWltcXV5fYGFiY2RlZmdoaWprbG1u\"},\"xaxis\":\"x2\",\"y\":{\"dtype\":\"i2\",\"bdata\":\"AAA9AEAAPABIADwANAAzACUAKgBGADQANwBLAFkAWwBWAGAAjgDIAHcATAA\\u002fAE4ATQAvADEATgBCAFgAbQBcAFQAPABJAD4AJwAgAB4ANwAgACIAEAAJABMAEAAKAAwABAA0ACQAIQAkACcAHwAiABUAEAAPABkAGQAUAB8ANgAMAAAAAAABAAAAAAACAAYADAAHAAkAAwAAAAAAAAAAAAAAAAAAAAAAAAAAAAAAAAAAAAAAAAAAAAAAAAAAAAAAAAAAAAAAAAAOAAAAAAAAAAAAAAAAAAAAAAAAAAAA\"},\"yaxis\":\"y2\",\"type\":\"scattergl\"},{\"hovertemplate\":\"sex=M\\u003cbr\\u003eyear=2015\\u003cbr\\u003eage=%{x}\\u003cbr\\u003eNumber of Immigrants=%{y}\\u003cextra\\u003e\\u003c\\u002fextra\\u003e\",\"legendgroup\":\"\",\"line\":{\"color\":\"orange\",\"dash\":\"solid\"},\"marker\":{\"symbol\":\"circle\"},\"mode\":\"lines\",\"name\":\"\",\"showlegend\":false,\"x\":{\"dtype\":\"i1\",\"bdata\":\"AAECAwQFBgcICQoLDA0ODxAREhMUFRYXGBkaGxwdHh8gISIjJCUmJygpKissLS4vMDEyMzQ1Njc4OTo7PD0+P0BBQkNERUZHSElKS0xNTk9QUVJTVFVWV1hZWltcXV5fYGFiY2RlZmdoaWprbG1u\"},\"xaxis\":\"x3\",\"y\":{\"dtype\":\"i2\",\"bdata\":\"AAA6ADkANQAqAEUANgAsAC8AKAAvADUARQBGAFcAeACGAIIAoADjAG8ALwAiADAANAAcAAkAHAAhACoAOgAeABYAFgAHAAkACgACAAoAAwAPAAkABQANABYADwAIAAQAAAAQAAsADAANAAAAAAAAAAAAAgAAAAAAAAAAAAAAAAAAAAAAAAAAAAgAAAAAAAAAAAAAAAAAAAAAAAAAAAAAAAAAAAAAAAAAAAAAAAAAAAAAAAAAAAAAAAAAAAAAAAAAAAAAAAAAAAAPAAAAAAAAAAAAAAAAAAAAAAAAAAAA\"},\"yaxis\":\"y3\",\"type\":\"scattergl\"},{\"hovertemplate\":\"sex=M\\u003cbr\\u003eyear=2020\\u003cbr\\u003eage=%{x}\\u003cbr\\u003eNumber of Immigrants=%{y}\\u003cextra\\u003e\\u003c\\u002fextra\\u003e\",\"legendgroup\":\"\",\"line\":{\"color\":\"orange\",\"dash\":\"solid\"},\"marker\":{\"symbol\":\"circle\"},\"mode\":\"lines\",\"name\":\"\",\"showlegend\":false,\"x\":{\"dtype\":\"i1\",\"bdata\":\"AAECAwQFBgcICQoLDA0ODxAREhMUFRYXGBkaGxwdHh8gISIjJCUmJygpKissLS4vMDEyMzQ1Njc4OTo7PD0+P0BBQkNERUZHSElKS0xNTk9QUVJTVFVWV1hZWltcXV5fYGFiY2RlZmdoaWprbG1u\"},\"xaxis\":\"x4\",\"y\":{\"dtype\":\"i2\",\"bdata\":\"AABVADoAUQBgAFgAVQBSAEoAUgA3ADcAOQAzAEEAUwBtAHIA9wAJAjMBdwB9ALgAiABtAGMAdgCCAIgAmwCZAI0AigB7AHMAegBtAGMAYwBBAEgAOAAzACsAMAAlAB8AFwAWABIACwANAAgABgACAAMABAAAAAQAAQAEAAMAAwAAAAYABAAHAAgACQAJAAMABAABAAAAAgACAAcAAwAAAAAAAAAAAAAAAAAAAAAAAAAAAAAAAAAAAAAAAAAAAAAAAAAAAAAAAAAsAAAAAAAAAAAAAAAAAAAAAAAAAAAA\"},\"yaxis\":\"y4\",\"type\":\"scattergl\"},{\"hovertemplate\":\"sex=M\\u003cbr\\u003eyear=2025\\u003cbr\\u003eage=%{x}\\u003cbr\\u003eNumber of Immigrants=%{y}\\u003cextra\\u003e\\u003c\\u002fextra\\u003e\",\"legendgroup\":\"\",\"line\":{\"color\":\"orange\",\"dash\":\"solid\"},\"marker\":{\"symbol\":\"circle\"},\"mode\":\"lines\",\"name\":\"\",\"showlegend\":false,\"x\":{\"dtype\":\"i1\",\"bdata\":\"AAECAwQFBgcICQoLDA0ODxAREhMUFRYXGBkaGxwdHh8gISIjJCUmJygpKissLS4vMDEyMzQ1Njc4OTo7PD0+P0BBQkNERUZHSElKS0xNTk9QUVJTVFVWV1hZWltcXV5fYGFiY2RlZmdoaWprbG1u\"},\"xaxis\":\"x5\",\"y\":{\"dtype\":\"i2\",\"bdata\":\"AABVAEsAOABDAFUAWQBQAEgAOwBHAD0AVgBFAG8AgACRAPgAgwGlAQEBeQBQAEIAPwAwACkAJAAoADEATABjAGQAbABlAFAAXwBMAFMANwBKADIAQgAsADkAKgAtACYAGwAVABUAFgAWABMACwALAAkACgAKAAwADgANABAAEQAQAAwADAAJABEAEQAOABgADQAMAAkABwAJAAcABwABAAMAAAAAAAAAAAAAAAAAAAAAAAAAAAAAAAAAAAAAAAAAAAAAAAAAAAAxAAAAAAAAAAAAAAAAAAAAAAAAAAAA\"},\"yaxis\":\"y5\",\"type\":\"scattergl\"},{\"hovertemplate\":\"sex=M\\u003cbr\\u003eyear=2030\\u003cbr\\u003eage=%{x}\\u003cbr\\u003eNumber of Immigrants=%{y}\\u003cextra\\u003e\\u003c\\u002fextra\\u003e\",\"legendgroup\":\"\",\"line\":{\"color\":\"orange\",\"dash\":\"solid\"},\"marker\":{\"symbol\":\"circle\"},\"mode\":\"lines\",\"name\":\"\",\"showlegend\":false,\"x\":{\"dtype\":\"i1\",\"bdata\":\"AAECAwQFBgcICQoLDA0ODxAREhMUFRYXGBkaGxwdHh8gISIjJCUmJygpKissLS4vMDEyMzQ1Njc4OTo7PD0+P0BBQkNERUZHSElKS0xNTk9QUVJTVFVWV1hZWltcXV5fYGFiY2RlZmdoaWprbG1u\"},\"xaxis\":\"x6\",\"y\":{\"dtype\":\"i2\",\"bdata\":\"AAB8AEsARgBdAFUASABOADoAQwA8AD0APwBGAFwAcgC2ACYBiQGmAREBdQA1ADMALAARABgAIgArADcAUwBMAE0AcQBYAGsARgBCAEUAPgBIADMARAA7ADQALgAkACoAFQAUABkAFgAUABAAEgAPAAoADgAbABUADwAUAAoAFgASABEAEwAPABEADwATABEACwAQAA4ACwAMAAYABAADAAAAAAAAAAAAAAAAAAAAAAAAAAAAAAAAAAAAAAAAAAAAAAAAAAAAAAA6AAAAAAAAAAAAAAAAAAAAAAAAAAAA\"},\"yaxis\":\"y6\",\"type\":\"scattergl\"}],                        {\"template\":{\"data\":{\"histogram2dcontour\":[{\"type\":\"histogram2dcontour\",\"colorbar\":{\"outlinewidth\":0,\"ticks\":\"\"},\"colorscale\":[[0.0,\"#0d0887\"],[0.1111111111111111,\"#46039f\"],[0.2222222222222222,\"#7201a8\"],[0.3333333333333333,\"#9c179e\"],[0.4444444444444444,\"#bd3786\"],[0.5555555555555556,\"#d8576b\"],[0.6666666666666666,\"#ed7953\"],[0.7777777777777778,\"#fb9f3a\"],[0.8888888888888888,\"#fdca26\"],[1.0,\"#f0f921\"]]}],\"choropleth\":[{\"type\":\"choropleth\",\"colorbar\":{\"outlinewidth\":0,\"ticks\":\"\"}}],\"histogram2d\":[{\"type\":\"histogram2d\",\"colorbar\":{\"outlinewidth\":0,\"ticks\":\"\"},\"colorscale\":[[0.0,\"#0d0887\"],[0.1111111111111111,\"#46039f\"],[0.2222222222222222,\"#7201a8\"],[0.3333333333333333,\"#9c179e\"],[0.4444444444444444,\"#bd3786\"],[0.5555555555555556,\"#d8576b\"],[0.6666666666666666,\"#ed7953\"],[0.7777777777777778,\"#fb9f3a\"],[0.8888888888888888,\"#fdca26\"],[1.0,\"#f0f921\"]]}],\"heatmap\":[{\"type\":\"heatmap\",\"colorbar\":{\"outlinewidth\":0,\"ticks\":\"\"},\"colorscale\":[[0.0,\"#0d0887\"],[0.1111111111111111,\"#46039f\"],[0.2222222222222222,\"#7201a8\"],[0.3333333333333333,\"#9c179e\"],[0.4444444444444444,\"#bd3786\"],[0.5555555555555556,\"#d8576b\"],[0.6666666666666666,\"#ed7953\"],[0.7777777777777778,\"#fb9f3a\"],[0.8888888888888888,\"#fdca26\"],[1.0,\"#f0f921\"]]}],\"contourcarpet\":[{\"type\":\"contourcarpet\",\"colorbar\":{\"outlinewidth\":0,\"ticks\":\"\"}}],\"contour\":[{\"type\":\"contour\",\"colorbar\":{\"outlinewidth\":0,\"ticks\":\"\"},\"colorscale\":[[0.0,\"#0d0887\"],[0.1111111111111111,\"#46039f\"],[0.2222222222222222,\"#7201a8\"],[0.3333333333333333,\"#9c179e\"],[0.4444444444444444,\"#bd3786\"],[0.5555555555555556,\"#d8576b\"],[0.6666666666666666,\"#ed7953\"],[0.7777777777777778,\"#fb9f3a\"],[0.8888888888888888,\"#fdca26\"],[1.0,\"#f0f921\"]]}],\"surface\":[{\"type\":\"surface\",\"colorbar\":{\"outlinewidth\":0,\"ticks\":\"\"},\"colorscale\":[[0.0,\"#0d0887\"],[0.1111111111111111,\"#46039f\"],[0.2222222222222222,\"#7201a8\"],[0.3333333333333333,\"#9c179e\"],[0.4444444444444444,\"#bd3786\"],[0.5555555555555556,\"#d8576b\"],[0.6666666666666666,\"#ed7953\"],[0.7777777777777778,\"#fb9f3a\"],[0.8888888888888888,\"#fdca26\"],[1.0,\"#f0f921\"]]}],\"mesh3d\":[{\"type\":\"mesh3d\",\"colorbar\":{\"outlinewidth\":0,\"ticks\":\"\"}}],\"scatter\":[{\"fillpattern\":{\"fillmode\":\"overlay\",\"size\":10,\"solidity\":0.2},\"type\":\"scatter\"}],\"parcoords\":[{\"type\":\"parcoords\",\"line\":{\"colorbar\":{\"outlinewidth\":0,\"ticks\":\"\"}}}],\"scatterpolargl\":[{\"type\":\"scatterpolargl\",\"marker\":{\"colorbar\":{\"outlinewidth\":0,\"ticks\":\"\"}}}],\"bar\":[{\"error_x\":{\"color\":\"#2a3f5f\"},\"error_y\":{\"color\":\"#2a3f5f\"},\"marker\":{\"line\":{\"color\":\"white\",\"width\":0.5},\"pattern\":{\"fillmode\":\"overlay\",\"size\":10,\"solidity\":0.2}},\"type\":\"bar\"}],\"scattergeo\":[{\"type\":\"scattergeo\",\"marker\":{\"colorbar\":{\"outlinewidth\":0,\"ticks\":\"\"}}}],\"scatterpolar\":[{\"type\":\"scatterpolar\",\"marker\":{\"colorbar\":{\"outlinewidth\":0,\"ticks\":\"\"}}}],\"histogram\":[{\"marker\":{\"pattern\":{\"fillmode\":\"overlay\",\"size\":10,\"solidity\":0.2}},\"type\":\"histogram\"}],\"scattergl\":[{\"type\":\"scattergl\",\"marker\":{\"colorbar\":{\"outlinewidth\":0,\"ticks\":\"\"}}}],\"scatter3d\":[{\"type\":\"scatter3d\",\"line\":{\"colorbar\":{\"outlinewidth\":0,\"ticks\":\"\"}},\"marker\":{\"colorbar\":{\"outlinewidth\":0,\"ticks\":\"\"}}}],\"scattermap\":[{\"type\":\"scattermap\",\"marker\":{\"colorbar\":{\"outlinewidth\":0,\"ticks\":\"\"}}}],\"scattermapbox\":[{\"type\":\"scattermapbox\",\"marker\":{\"colorbar\":{\"outlinewidth\":0,\"ticks\":\"\"}}}],\"scatterternary\":[{\"type\":\"scatterternary\",\"marker\":{\"colorbar\":{\"outlinewidth\":0,\"ticks\":\"\"}}}],\"scattercarpet\":[{\"type\":\"scattercarpet\",\"marker\":{\"colorbar\":{\"outlinewidth\":0,\"ticks\":\"\"}}}],\"carpet\":[{\"aaxis\":{\"endlinecolor\":\"#2a3f5f\",\"gridcolor\":\"#C8D4E3\",\"linecolor\":\"#C8D4E3\",\"minorgridcolor\":\"#C8D4E3\",\"startlinecolor\":\"#2a3f5f\"},\"baxis\":{\"endlinecolor\":\"#2a3f5f\",\"gridcolor\":\"#C8D4E3\",\"linecolor\":\"#C8D4E3\",\"minorgridcolor\":\"#C8D4E3\",\"startlinecolor\":\"#2a3f5f\"},\"type\":\"carpet\"}],\"table\":[{\"cells\":{\"fill\":{\"color\":\"#EBF0F8\"},\"line\":{\"color\":\"white\"}},\"header\":{\"fill\":{\"color\":\"#C8D4E3\"},\"line\":{\"color\":\"white\"}},\"type\":\"table\"}],\"barpolar\":[{\"marker\":{\"line\":{\"color\":\"white\",\"width\":0.5},\"pattern\":{\"fillmode\":\"overlay\",\"size\":10,\"solidity\":0.2}},\"type\":\"barpolar\"}],\"pie\":[{\"automargin\":true,\"type\":\"pie\"}]},\"layout\":{\"autotypenumbers\":\"strict\",\"colorway\":[\"#636efa\",\"#EF553B\",\"#00cc96\",\"#ab63fa\",\"#FFA15A\",\"#19d3f3\",\"#FF6692\",\"#B6E880\",\"#FF97FF\",\"#FECB52\"],\"font\":{\"color\":\"#2a3f5f\"},\"hovermode\":\"closest\",\"hoverlabel\":{\"align\":\"left\"},\"paper_bgcolor\":\"white\",\"plot_bgcolor\":\"white\",\"polar\":{\"bgcolor\":\"white\",\"angularaxis\":{\"gridcolor\":\"#EBF0F8\",\"linecolor\":\"#EBF0F8\",\"ticks\":\"\"},\"radialaxis\":{\"gridcolor\":\"#EBF0F8\",\"linecolor\":\"#EBF0F8\",\"ticks\":\"\"}},\"ternary\":{\"bgcolor\":\"white\",\"aaxis\":{\"gridcolor\":\"#DFE8F3\",\"linecolor\":\"#A2B1C6\",\"ticks\":\"\"},\"baxis\":{\"gridcolor\":\"#DFE8F3\",\"linecolor\":\"#A2B1C6\",\"ticks\":\"\"},\"caxis\":{\"gridcolor\":\"#DFE8F3\",\"linecolor\":\"#A2B1C6\",\"ticks\":\"\"}},\"coloraxis\":{\"colorbar\":{\"outlinewidth\":0,\"ticks\":\"\"}},\"colorscale\":{\"sequential\":[[0.0,\"#0d0887\"],[0.1111111111111111,\"#46039f\"],[0.2222222222222222,\"#7201a8\"],[0.3333333333333333,\"#9c179e\"],[0.4444444444444444,\"#bd3786\"],[0.5555555555555556,\"#d8576b\"],[0.6666666666666666,\"#ed7953\"],[0.7777777777777778,\"#fb9f3a\"],[0.8888888888888888,\"#fdca26\"],[1.0,\"#f0f921\"]],\"sequentialminus\":[[0.0,\"#0d0887\"],[0.1111111111111111,\"#46039f\"],[0.2222222222222222,\"#7201a8\"],[0.3333333333333333,\"#9c179e\"],[0.4444444444444444,\"#bd3786\"],[0.5555555555555556,\"#d8576b\"],[0.6666666666666666,\"#ed7953\"],[0.7777777777777778,\"#fb9f3a\"],[0.8888888888888888,\"#fdca26\"],[1.0,\"#f0f921\"]],\"diverging\":[[0,\"#8e0152\"],[0.1,\"#c51b7d\"],[0.2,\"#de77ae\"],[0.3,\"#f1b6da\"],[0.4,\"#fde0ef\"],[0.5,\"#f7f7f7\"],[0.6,\"#e6f5d0\"],[0.7,\"#b8e186\"],[0.8,\"#7fbc41\"],[0.9,\"#4d9221\"],[1,\"#276419\"]]},\"xaxis\":{\"gridcolor\":\"#EBF0F8\",\"linecolor\":\"#EBF0F8\",\"ticks\":\"\",\"title\":{\"standoff\":15},\"zerolinecolor\":\"#EBF0F8\",\"automargin\":true,\"zerolinewidth\":2},\"yaxis\":{\"gridcolor\":\"#EBF0F8\",\"linecolor\":\"#EBF0F8\",\"ticks\":\"\",\"title\":{\"standoff\":15},\"zerolinecolor\":\"#EBF0F8\",\"automargin\":true,\"zerolinewidth\":2},\"scene\":{\"xaxis\":{\"backgroundcolor\":\"white\",\"gridcolor\":\"#DFE8F3\",\"linecolor\":\"#EBF0F8\",\"showbackground\":true,\"ticks\":\"\",\"zerolinecolor\":\"#EBF0F8\",\"gridwidth\":2},\"yaxis\":{\"backgroundcolor\":\"white\",\"gridcolor\":\"#DFE8F3\",\"linecolor\":\"#EBF0F8\",\"showbackground\":true,\"ticks\":\"\",\"zerolinecolor\":\"#EBF0F8\",\"gridwidth\":2},\"zaxis\":{\"backgroundcolor\":\"white\",\"gridcolor\":\"#DFE8F3\",\"linecolor\":\"#EBF0F8\",\"showbackground\":true,\"ticks\":\"\",\"zerolinecolor\":\"#EBF0F8\",\"gridwidth\":2}},\"shapedefaults\":{\"line\":{\"color\":\"#2a3f5f\"}},\"annotationdefaults\":{\"arrowcolor\":\"#2a3f5f\",\"arrowhead\":0,\"arrowwidth\":1},\"geo\":{\"bgcolor\":\"white\",\"landcolor\":\"white\",\"subunitcolor\":\"#C8D4E3\",\"showland\":true,\"showlakes\":true,\"lakecolor\":\"white\"},\"title\":{\"x\":0.05},\"mapbox\":{\"style\":\"light\"}}},\"xaxis\":{\"anchor\":\"y\",\"domain\":[0.0,0.14666666666666667],\"title\":{\"text\":\"Age (years)\"}},\"yaxis\":{\"anchor\":\"x\",\"domain\":[0.0,0.425],\"title\":{\"text\":\"Total Emigrants\\u002fImmigrants\"}},\"xaxis2\":{\"anchor\":\"y2\",\"domain\":[0.16666666666666666,0.31333333333333335],\"matches\":\"x\",\"title\":{\"text\":\"Age (years)\"}},\"yaxis2\":{\"anchor\":\"x2\",\"domain\":[0.0,0.425],\"matches\":\"y\",\"showticklabels\":false},\"xaxis3\":{\"anchor\":\"y3\",\"domain\":[0.3333333333333333,0.48],\"matches\":\"x\",\"title\":{\"text\":\"Age (years)\"}},\"yaxis3\":{\"anchor\":\"x3\",\"domain\":[0.0,0.425],\"matches\":\"y\",\"showticklabels\":false},\"xaxis4\":{\"anchor\":\"y4\",\"domain\":[0.5,0.6466666666666667],\"matches\":\"x\",\"title\":{\"text\":\"Age (years)\"}},\"yaxis4\":{\"anchor\":\"x4\",\"domain\":[0.0,0.425],\"matches\":\"y\",\"showticklabels\":false},\"xaxis5\":{\"anchor\":\"y5\",\"domain\":[0.6666666666666666,0.8133333333333332],\"matches\":\"x\",\"title\":{\"text\":\"Age (years)\"}},\"yaxis5\":{\"anchor\":\"x5\",\"domain\":[0.0,0.425],\"matches\":\"y\",\"showticklabels\":false},\"xaxis6\":{\"anchor\":\"y6\",\"domain\":[0.8333333333333334,0.98],\"matches\":\"x\",\"title\":{\"text\":\"Age (years)\"}},\"yaxis6\":{\"anchor\":\"x6\",\"domain\":[0.0,0.425],\"matches\":\"y\",\"showticklabels\":false},\"xaxis7\":{\"anchor\":\"y7\",\"domain\":[0.0,0.14666666666666667],\"matches\":\"x\",\"showticklabels\":false,\"title\":{\"text\":\"Age (years)\"}},\"yaxis7\":{\"anchor\":\"x7\",\"domain\":[0.575,1.0],\"matches\":\"y\",\"title\":{\"text\":\"Total Emigrants\\u002fImmigrants\"}},\"xaxis8\":{\"anchor\":\"y8\",\"domain\":[0.16666666666666666,0.31333333333333335],\"matches\":\"x\",\"showticklabels\":false,\"title\":{\"text\":\"Age (years)\"}},\"yaxis8\":{\"anchor\":\"x8\",\"domain\":[0.575,1.0],\"matches\":\"y\",\"showticklabels\":false},\"xaxis9\":{\"anchor\":\"y9\",\"domain\":[0.3333333333333333,0.48],\"matches\":\"x\",\"showticklabels\":false,\"title\":{\"text\":\"Age (years)\"}},\"yaxis9\":{\"anchor\":\"x9\",\"domain\":[0.575,1.0],\"matches\":\"y\",\"showticklabels\":false},\"xaxis10\":{\"anchor\":\"y10\",\"domain\":[0.5,0.6466666666666667],\"matches\":\"x\",\"showticklabels\":false,\"title\":{\"text\":\"Age (years)\"}},\"yaxis10\":{\"anchor\":\"x10\",\"domain\":[0.575,1.0],\"matches\":\"y\",\"showticklabels\":false},\"xaxis11\":{\"anchor\":\"y11\",\"domain\":[0.6666666666666666,0.8133333333333332],\"matches\":\"x\",\"showticklabels\":false,\"title\":{\"text\":\"Age (years)\"}},\"yaxis11\":{\"anchor\":\"x11\",\"domain\":[0.575,1.0],\"matches\":\"y\",\"showticklabels\":false},\"xaxis12\":{\"anchor\":\"y12\",\"domain\":[0.8333333333333334,0.98],\"matches\":\"x\",\"showticklabels\":false,\"title\":{\"text\":\"Age (years)\"}},\"yaxis12\":{\"anchor\":\"x12\",\"domain\":[0.575,1.0],\"matches\":\"y\",\"showticklabels\":false},\"annotations\":[{\"font\":{},\"showarrow\":false,\"text\":\"year=2001\",\"x\":0.07333333333333333,\"xanchor\":\"center\",\"xref\":\"paper\",\"y\":1.0,\"yanchor\":\"bottom\",\"yref\":\"paper\"},{\"font\":{},\"showarrow\":false,\"text\":\"year=2010\",\"x\":0.24,\"xanchor\":\"center\",\"xref\":\"paper\",\"y\":1.0,\"yanchor\":\"bottom\",\"yref\":\"paper\"},{\"font\":{},\"showarrow\":false,\"text\":\"year=2015\",\"x\":0.4066666666666666,\"xanchor\":\"center\",\"xref\":\"paper\",\"y\":1.0,\"yanchor\":\"bottom\",\"yref\":\"paper\"},{\"font\":{},\"showarrow\":false,\"text\":\"year=2020\",\"x\":0.5733333333333334,\"xanchor\":\"center\",\"xref\":\"paper\",\"y\":1.0,\"yanchor\":\"bottom\",\"yref\":\"paper\"},{\"font\":{},\"showarrow\":false,\"text\":\"year=2025\",\"x\":0.74,\"xanchor\":\"center\",\"xref\":\"paper\",\"y\":1.0,\"yanchor\":\"bottom\",\"yref\":\"paper\"},{\"font\":{},\"showarrow\":false,\"text\":\"year=2030\",\"x\":0.9066666666666667,\"xanchor\":\"center\",\"xref\":\"paper\",\"y\":1.0,\"yanchor\":\"bottom\",\"yref\":\"paper\"},{\"font\":{},\"showarrow\":false,\"text\":\"sex=M\",\"textangle\":90,\"x\":0.98,\"xanchor\":\"left\",\"xref\":\"paper\",\"y\":0.2125,\"yanchor\":\"middle\",\"yref\":\"paper\"},{\"font\":{},\"showarrow\":false,\"text\":\"sex=F\",\"textangle\":90,\"x\":0.98,\"xanchor\":\"left\",\"xref\":\"paper\",\"y\":0.7875,\"yanchor\":\"middle\",\"yref\":\"paper\"}],\"legend\":{\"tracegroupgap\":0,\"title\":{\"text\":\"\"}},\"title\":{\"text\":\"Migration Graph by Age\\u003cbr\\u003eProvince: CA\\u003cbr\\u003eInitial Births in 2001: 5000\\u003cbr\\u003eProjection Scenario: M3\",\"x\":0.5,\"y\":0.95},\"height\":800,\"margin\":{\"t\":150},\"showlegend\":true},                        {\"toImageButtonOptions\": {\"format\": \"png\", \"scale\": 2}, \"responsive\": true}                    )                };            </script>        </div>"
      ]
     },
     "metadata": {},
     "output_type": "display_data"
    }
   ],
   "source": [
    "df = df_emigration_model.copy()\n",
    "YEARS = [STARTING_YEAR, 2010, 2015, 2020, 2025, 2030]\n",
    "df = df[df[\"year\"].isin(YEARS)].reset_index(drop=True)\n",
    "df_im = df_immigration_model.copy()\n",
    "df_im = df_im[df_im[\"year\"].isin(YEARS)].reset_index(drop=True)\n",
    "fig = px.line(\n",
    "    df,\n",
    "    x=\"age\",\n",
    "    y=\"n_emigrants\",\n",
    "    facet_col=\"year\",\n",
    "    facet_row=\"sex\",\n",
    "    title=f\"Migration Graph by Age<br>\"\n",
    "    + f\"Province: {PROVINCE}<br>\"\n",
    "    + f\"Initial Births in {STARTING_YEAR}: {N_BIRTHS}<br>\"\n",
    "    + f\"Projection Scenario: {GROWTH_TYPE}\",\n",
    "    labels={\"n_emigrants\": \"Number of Emigrants\"},\n",
    "    color_discrete_sequence=[\"blue\"],\n",
    "    height=800,\n",
    "    facet_row_spacing=0.15\n",
    ")\n",
    "fig_im = px.line(\n",
    "    df_im,\n",
    "    x=\"age\",\n",
    "    y=\"n_immigrants\",\n",
    "    facet_col=\"year\",\n",
    "    facet_row=\"sex\",\n",
    "    labels={\"n_immigrants\": \"Number of Immigrants\"},\n",
    "    color_discrete_sequence=[\"orange\"],\n",
    "    height=800,\n",
    "    facet_row_spacing=0.15\n",
    ")\n",
    "fig.add_traces(\n",
    "    fig_im.data\n",
    ")\n",
    "\n",
    "fig.data[0].update(showlegend=True, name=\"emigrants\")\n",
    "fig.data[len(YEARS)*2].update(showlegend=True, name=\"immigrants\")\n",
    "fig.update_xaxes(title_text=\"Age (years)\")\n",
    "fig.update_yaxes(title_text=\"Total Emigrants/Immigrants\", col=1)\n",
    "fig.update_layout(\n",
    "    legend_title_text=\"\",\n",
    "    title_x=0.5,\n",
    "    title_y=0.95,\n",
    "    margin=dict(t=150), # Adjust top margin for title\n",
    "    showlegend=True\n",
    ")\n",
    "fig.show(config=config)"
   ]
  },
  {
   "cell_type": "markdown",
   "id": "57372309",
   "metadata": {},
   "source": [
    "## Infant Antibiotic Exposure Figure\n",
    "\n",
    "Rate of infant antibiotic prescriptions by sex (red: females; blue: males) for simulated\n",
    "(solid) and target (dotted) values from the model and the population-based administrative\n",
    "database, respectively, with the floor rate of 50 per 1000 (purple)."
   ]
  },
  {
   "cell_type": "markdown",
   "id": "0f6a8a06",
   "metadata": {},
   "source": [
    "### Load Data"
   ]
  },
  {
   "cell_type": "code",
   "execution_count": 12,
   "id": "8481d0b5",
   "metadata": {
    "execution": {
     "iopub.execute_input": "2025-08-30T21:58:55.164641Z",
     "iopub.status.busy": "2025-08-30T21:58:55.164432Z",
     "iopub.status.idle": "2025-08-30T21:58:55.190393Z",
     "shell.execute_reply": "2025-08-30T21:58:55.189794Z"
    }
   },
   "outputs": [],
   "source": [
    "# Load antibiotic data from BC Ministry of Health\n",
    "target_abx_df = pd.read_csv(get_data_path(\"processed_data/InfantAbxBC.csv\"))\n",
    "target_abx_df[\"sex\"] = target_abx_df[\"sex\"].map({\"Female\": \"F\", \"Male\": \"M\"})\n",
    "\n",
    "# Load antibiotic data from simulation\n",
    "model_abx_df_raw = pd.read_csv(RUN_BUNDLE_FOLDER / \"outcome_matrix_antibiotic_exposure.csv\")\n",
    "\n",
    "# Load additional simulation data for population comparisson\n",
    "model_infant_alive_df_raw =pd.read_csv(RUN_BUNDLE_FOLDER / \"outcome_matrix_alive.csv\")\n",
    "model_infant_death_df_raw = pd.read_csv(RUN_BUNDLE_FOLDER / \"outcome_matrix_death.csv\")\n",
    "model_infant_emigration_df_raw = pd.read_csv(RUN_BUNDLE_FOLDER / \"outcome_matrix_emigration.csv\")\n"
   ]
  },
  {
   "cell_type": "markdown",
   "id": "906d126d",
   "metadata": {},
   "source": [
    "### Process Data"
   ]
  },
  {
   "cell_type": "code",
   "execution_count": 13,
   "id": "8d508935",
   "metadata": {
    "execution": {
     "iopub.execute_input": "2025-08-30T21:58:55.192280Z",
     "iopub.status.busy": "2025-08-30T21:58:55.192084Z",
     "iopub.status.idle": "2025-08-30T21:58:55.218244Z",
     "shell.execute_reply": "2025-08-30T21:58:55.217531Z"
    }
   },
   "outputs": [],
   "source": [
    "# Merge all datasets on Year, Sex, and Age\n",
    "model_abx_df = model_abx_df_raw.rename(columns={'n_antibiotic_exposure': 'n'}).merge(\n",
    "    model_infant_alive_df_raw, on=['year', 'sex', 'age']\n",
    ").merge(\n",
    "    model_infant_death_df_raw, on=['year', 'sex', 'age']\n",
    ").merge(\n",
    "    model_infant_emigration_df_raw, on=['year', 'sex', 'age']\n",
    ")\n",
    "\n",
    "# Filter for age 0\n",
    "model_abx_df = model_abx_df[model_abx_df['age'] == 0].copy()\n",
    "\n",
    "# Compute total population (N) and rate per 1000\n",
    "model_abx_df[\"N\"] = model_abx_df[\"n_alive\"] + model_abx_df[\"n_deaths\"] + model_abx_df[\"n_emigrants\"]\n",
    "model_abx_df[\"rate\"] = (model_abx_df[\"n\"] / model_abx_df[\"N\"]) * 1000"
   ]
  },
  {
   "cell_type": "markdown",
   "id": "96ee8a10",
   "metadata": {},
   "source": [
    "### Visualize Data"
   ]
  },
  {
   "cell_type": "code",
   "execution_count": 14,
   "id": "86052cdb",
   "metadata": {
    "execution": {
     "iopub.execute_input": "2025-08-30T21:58:55.220210Z",
     "iopub.status.busy": "2025-08-30T21:58:55.220014Z",
     "iopub.status.idle": "2025-08-30T21:58:55.333700Z",
     "shell.execute_reply": "2025-08-30T21:58:55.332998Z"
    }
   },
   "outputs": [
    {
     "data": {
      "text/html": [
       "<div>            <script src=\"https://cdnjs.cloudflare.com/ajax/libs/mathjax/2.7.5/MathJax.js?config=TeX-AMS-MML_SVG\"></script><script type=\"text/javascript\">if (window.MathJax && window.MathJax.Hub && window.MathJax.Hub.Config) {window.MathJax.Hub.Config({SVG: {font: \"STIX-Web\"}});}</script>                <script type=\"text/javascript\">window.PlotlyConfig = {MathJaxConfig: 'local'};</script>\n",
       "        <script charset=\"utf-8\" src=\"https://cdn.plot.ly/plotly-3.1.0.min.js\" integrity=\"sha256-Ei4740bWZhaUTQuD6q9yQlgVCMPBz6CZWhevDYPv93A=\" crossorigin=\"anonymous\"></script>                <div id=\"f814088c-bc16-4afd-a176-e80430d1b79c\" class=\"plotly-graph-div\" style=\"height:600px; width:100%;\"></div>            <script type=\"text/javascript\">                window.PLOTLYENV=window.PLOTLYENV || {};                                if (document.getElementById(\"f814088c-bc16-4afd-a176-e80430d1b79c\")) {                    Plotly.newPlot(                        \"f814088c-bc16-4afd-a176-e80430d1b79c\",                        [{\"hovertemplate\":\"sex=F\\u003cbr\\u003eyear=%{x}\\u003cbr\\u003eNumber of courses of antibiotics in the first year of life (per 1000)=%{y}\\u003cextra\\u003e\\u003c\\u002fextra\\u003e\",\"legendgroup\":\"F\",\"line\":{\"color\":\"#f39c12\",\"dash\":\"solid\"},\"marker\":{\"symbol\":\"circle\"},\"mode\":\"lines\",\"name\":\"F (model)\",\"orientation\":\"v\",\"showlegend\":true,\"x\":{\"dtype\":\"i2\",\"bdata\":\"0QfSB9MH1AfVB9YH1wfYB9kH2gfbB9wH3QfeB98H4AfhB+IH4wfkB+UH5gfnB+gH6QfqB+sH7AftB+4H\"},\"xaxis\":\"x\",\"y\":{\"dtype\":\"f8\",\"bdata\":\"0agh3gMriEB\\u002fWe+X9S6HQEQMQa3kL4VALWophKmRhECxhEXOAwGDQJd4rTF8ZoJA1iAumxBrgUAaBLrwoCp\\u002fQK+Fo9KITXtA2mxVisqBekDaItxgIEl4QA2YzZmGFnZA8Fo2nzhxdECYoL+6XmVyQF\\u002ftpw5pBXFAfsLuP2hdcECXMBxJtf1tQGTLW7H3G2tAc4oZ6QB0aEDEgdNlGUxoQLvTUC+PIGZAZtDYr+dZY0DHyKqozOhiQDjxlKwlOV9AwKL2akHQX0D2TlHIqsZdQADj96yCQVpAOZ14La4UV0B3fweXvaFVQAAAAAAAQFNA\"},\"yaxis\":\"y\",\"type\":\"scatter\"},{\"hovertemplate\":\"sex=M\\u003cbr\\u003eyear=%{x}\\u003cbr\\u003eNumber of courses of antibiotics in the first year of life (per 1000)=%{y}\\u003cextra\\u003e\\u003c\\u002fextra\\u003e\",\"legendgroup\":\"M\",\"line\":{\"color\":\"#09bfc4\",\"dash\":\"solid\"},\"marker\":{\"symbol\":\"circle\"},\"mode\":\"lines\",\"name\":\"M (model)\",\"orientation\":\"v\",\"showlegend\":true,\"x\":{\"dtype\":\"i2\",\"bdata\":\"0QfSB9MH1AfVB9YH1wfYB9kH2gfbB9wH3QfeB98H4AfhB+IH4wfkB+UH5gfnB+gH6QfqB+sH7AftB+4H\"},\"xaxis\":\"x\",\"y\":{\"dtype\":\"f8\",\"bdata\":\"6JCEIV4aj0Dt5q1ibOyMQE0Qazn33otAFBurM6PRikAxEHJv5aOIQB1LNBRfcIdA0Z3+QWdPhkAE+rC29veDQLT7JQLtvoJAidM2MS4FgEBPV20XyhmAQGFkCz18En1AipBoN+uBekDQITXBeLt3QKpg9algdXZAHz10Wc18dEC4Y45uihJzQG2kw0Y6nHJA5M9VCbZ9b0As9zTCcq9sQDUf76tER2xAbWOzIaloaUDk3aPEuJ1nQNppjSgz1mRA3lcOF5PxYkDIZ91girxhQCrtFD5JWWBAuB6F61G4XEDJ++tgzEpcQHkr+xxS01lA\"},\"yaxis\":\"y\",\"type\":\"scatter\"},{\"hovertemplate\":\"sex=F\\u003cbr\\u003eyear=%{x}\\u003cbr\\u003eNumber of courses of antibiotics in the first year of life (per 1000)=%{y}\\u003cextra\\u003e\\u003c\\u002fextra\\u003e\",\"legendgroup\":\"F\",\"line\":{\"color\":\"#f39c12\",\"dash\":\"dash\"},\"marker\":{\"symbol\":\"circle\"},\"mode\":\"lines\",\"name\":\"F (target)\",\"orientation\":\"v\",\"showlegend\":true,\"x\":{\"dtype\":\"i2\",\"bdata\":\"0AfRB9IH0wfUB9UH1gfXB9gH2QfaB9sH3AfdB94H3wfgB+EH4gc=\"},\"xaxis\":\"x\",\"y\":{\"dtype\":\"f8\",\"bdata\":\"AAAAAABgiUCF61G4HuuHQClcj8L1UIdArkfhehQghkCPwvUoXPmDQI\\u002fC9ShctYNAw\\u002fUoXI9CgUCPwvUoXNuAQFyPwvUoqH9A16NwPQqPe0DXo3A9Cu96QFK4HoXr9XlAZmZmZmYmd0DXo3A9CjN1QAAAAAAArHJAAAAAAACMcEApXI\\u002fC9QBwQB+F61G4TmxA9ihcj8KVa0A=\"},\"yaxis\":\"y\",\"type\":\"scatter\"},{\"hovertemplate\":\"sex=M\\u003cbr\\u003eyear=%{x}\\u003cbr\\u003eNumber of courses of antibiotics in the first year of life (per 1000)=%{y}\\u003cextra\\u003e\\u003c\\u002fextra\\u003e\",\"legendgroup\":\"M\",\"line\":{\"color\":\"#09bfc4\",\"dash\":\"dash\"},\"marker\":{\"symbol\":\"circle\"},\"mode\":\"lines\",\"name\":\"M (target)\",\"orientation\":\"v\",\"showlegend\":true,\"x\":{\"dtype\":\"i2\",\"bdata\":\"0AfRB9IH0wfUB9UH1gfXB9gH2QfaB9sH3AfdB94H3wfgB+EH4gc=\"},\"xaxis\":\"x\",\"y\":{\"dtype\":\"f8\",\"bdata\":\"j8L1KFxckEBmZmZmZuyOQAAAAAAA+o1AexSuR+FQjEBSuB6F6wGKQGZmZmZmmohAMzMzMzMlhkBI4XoUrh+FQEjhehSum4RAPQrXo3AzgUCkcD0K1yWCQEjhehSuz4BAmpmZmZnRfEDXo3A9CqN7QBSuR+F60HdAuB6F61H4dEBcj8L1KBB0QOF6FK5HyXJAFK5H4XqMcUA=\"},\"yaxis\":\"y\",\"type\":\"scatter\"}],                        {\"template\":{\"data\":{\"histogram2dcontour\":[{\"type\":\"histogram2dcontour\",\"colorbar\":{\"outlinewidth\":0,\"ticks\":\"\"},\"colorscale\":[[0.0,\"#0d0887\"],[0.1111111111111111,\"#46039f\"],[0.2222222222222222,\"#7201a8\"],[0.3333333333333333,\"#9c179e\"],[0.4444444444444444,\"#bd3786\"],[0.5555555555555556,\"#d8576b\"],[0.6666666666666666,\"#ed7953\"],[0.7777777777777778,\"#fb9f3a\"],[0.8888888888888888,\"#fdca26\"],[1.0,\"#f0f921\"]]}],\"choropleth\":[{\"type\":\"choropleth\",\"colorbar\":{\"outlinewidth\":0,\"ticks\":\"\"}}],\"histogram2d\":[{\"type\":\"histogram2d\",\"colorbar\":{\"outlinewidth\":0,\"ticks\":\"\"},\"colorscale\":[[0.0,\"#0d0887\"],[0.1111111111111111,\"#46039f\"],[0.2222222222222222,\"#7201a8\"],[0.3333333333333333,\"#9c179e\"],[0.4444444444444444,\"#bd3786\"],[0.5555555555555556,\"#d8576b\"],[0.6666666666666666,\"#ed7953\"],[0.7777777777777778,\"#fb9f3a\"],[0.8888888888888888,\"#fdca26\"],[1.0,\"#f0f921\"]]}],\"heatmap\":[{\"type\":\"heatmap\",\"colorbar\":{\"outlinewidth\":0,\"ticks\":\"\"},\"colorscale\":[[0.0,\"#0d0887\"],[0.1111111111111111,\"#46039f\"],[0.2222222222222222,\"#7201a8\"],[0.3333333333333333,\"#9c179e\"],[0.4444444444444444,\"#bd3786\"],[0.5555555555555556,\"#d8576b\"],[0.6666666666666666,\"#ed7953\"],[0.7777777777777778,\"#fb9f3a\"],[0.8888888888888888,\"#fdca26\"],[1.0,\"#f0f921\"]]}],\"contourcarpet\":[{\"type\":\"contourcarpet\",\"colorbar\":{\"outlinewidth\":0,\"ticks\":\"\"}}],\"contour\":[{\"type\":\"contour\",\"colorbar\":{\"outlinewidth\":0,\"ticks\":\"\"},\"colorscale\":[[0.0,\"#0d0887\"],[0.1111111111111111,\"#46039f\"],[0.2222222222222222,\"#7201a8\"],[0.3333333333333333,\"#9c179e\"],[0.4444444444444444,\"#bd3786\"],[0.5555555555555556,\"#d8576b\"],[0.6666666666666666,\"#ed7953\"],[0.7777777777777778,\"#fb9f3a\"],[0.8888888888888888,\"#fdca26\"],[1.0,\"#f0f921\"]]}],\"surface\":[{\"type\":\"surface\",\"colorbar\":{\"outlinewidth\":0,\"ticks\":\"\"},\"colorscale\":[[0.0,\"#0d0887\"],[0.1111111111111111,\"#46039f\"],[0.2222222222222222,\"#7201a8\"],[0.3333333333333333,\"#9c179e\"],[0.4444444444444444,\"#bd3786\"],[0.5555555555555556,\"#d8576b\"],[0.6666666666666666,\"#ed7953\"],[0.7777777777777778,\"#fb9f3a\"],[0.8888888888888888,\"#fdca26\"],[1.0,\"#f0f921\"]]}],\"mesh3d\":[{\"type\":\"mesh3d\",\"colorbar\":{\"outlinewidth\":0,\"ticks\":\"\"}}],\"scatter\":[{\"fillpattern\":{\"fillmode\":\"overlay\",\"size\":10,\"solidity\":0.2},\"type\":\"scatter\"}],\"parcoords\":[{\"type\":\"parcoords\",\"line\":{\"colorbar\":{\"outlinewidth\":0,\"ticks\":\"\"}}}],\"scatterpolargl\":[{\"type\":\"scatterpolargl\",\"marker\":{\"colorbar\":{\"outlinewidth\":0,\"ticks\":\"\"}}}],\"bar\":[{\"error_x\":{\"color\":\"#2a3f5f\"},\"error_y\":{\"color\":\"#2a3f5f\"},\"marker\":{\"line\":{\"color\":\"white\",\"width\":0.5},\"pattern\":{\"fillmode\":\"overlay\",\"size\":10,\"solidity\":0.2}},\"type\":\"bar\"}],\"scattergeo\":[{\"type\":\"scattergeo\",\"marker\":{\"colorbar\":{\"outlinewidth\":0,\"ticks\":\"\"}}}],\"scatterpolar\":[{\"type\":\"scatterpolar\",\"marker\":{\"colorbar\":{\"outlinewidth\":0,\"ticks\":\"\"}}}],\"histogram\":[{\"marker\":{\"pattern\":{\"fillmode\":\"overlay\",\"size\":10,\"solidity\":0.2}},\"type\":\"histogram\"}],\"scattergl\":[{\"type\":\"scattergl\",\"marker\":{\"colorbar\":{\"outlinewidth\":0,\"ticks\":\"\"}}}],\"scatter3d\":[{\"type\":\"scatter3d\",\"line\":{\"colorbar\":{\"outlinewidth\":0,\"ticks\":\"\"}},\"marker\":{\"colorbar\":{\"outlinewidth\":0,\"ticks\":\"\"}}}],\"scattermap\":[{\"type\":\"scattermap\",\"marker\":{\"colorbar\":{\"outlinewidth\":0,\"ticks\":\"\"}}}],\"scattermapbox\":[{\"type\":\"scattermapbox\",\"marker\":{\"colorbar\":{\"outlinewidth\":0,\"ticks\":\"\"}}}],\"scatterternary\":[{\"type\":\"scatterternary\",\"marker\":{\"colorbar\":{\"outlinewidth\":0,\"ticks\":\"\"}}}],\"scattercarpet\":[{\"type\":\"scattercarpet\",\"marker\":{\"colorbar\":{\"outlinewidth\":0,\"ticks\":\"\"}}}],\"carpet\":[{\"aaxis\":{\"endlinecolor\":\"#2a3f5f\",\"gridcolor\":\"#C8D4E3\",\"linecolor\":\"#C8D4E3\",\"minorgridcolor\":\"#C8D4E3\",\"startlinecolor\":\"#2a3f5f\"},\"baxis\":{\"endlinecolor\":\"#2a3f5f\",\"gridcolor\":\"#C8D4E3\",\"linecolor\":\"#C8D4E3\",\"minorgridcolor\":\"#C8D4E3\",\"startlinecolor\":\"#2a3f5f\"},\"type\":\"carpet\"}],\"table\":[{\"cells\":{\"fill\":{\"color\":\"#EBF0F8\"},\"line\":{\"color\":\"white\"}},\"header\":{\"fill\":{\"color\":\"#C8D4E3\"},\"line\":{\"color\":\"white\"}},\"type\":\"table\"}],\"barpolar\":[{\"marker\":{\"line\":{\"color\":\"white\",\"width\":0.5},\"pattern\":{\"fillmode\":\"overlay\",\"size\":10,\"solidity\":0.2}},\"type\":\"barpolar\"}],\"pie\":[{\"automargin\":true,\"type\":\"pie\"}]},\"layout\":{\"autotypenumbers\":\"strict\",\"colorway\":[\"#636efa\",\"#EF553B\",\"#00cc96\",\"#ab63fa\",\"#FFA15A\",\"#19d3f3\",\"#FF6692\",\"#B6E880\",\"#FF97FF\",\"#FECB52\"],\"font\":{\"color\":\"#2a3f5f\"},\"hovermode\":\"closest\",\"hoverlabel\":{\"align\":\"left\"},\"paper_bgcolor\":\"white\",\"plot_bgcolor\":\"white\",\"polar\":{\"bgcolor\":\"white\",\"angularaxis\":{\"gridcolor\":\"#EBF0F8\",\"linecolor\":\"#EBF0F8\",\"ticks\":\"\"},\"radialaxis\":{\"gridcolor\":\"#EBF0F8\",\"linecolor\":\"#EBF0F8\",\"ticks\":\"\"}},\"ternary\":{\"bgcolor\":\"white\",\"aaxis\":{\"gridcolor\":\"#DFE8F3\",\"linecolor\":\"#A2B1C6\",\"ticks\":\"\"},\"baxis\":{\"gridcolor\":\"#DFE8F3\",\"linecolor\":\"#A2B1C6\",\"ticks\":\"\"},\"caxis\":{\"gridcolor\":\"#DFE8F3\",\"linecolor\":\"#A2B1C6\",\"ticks\":\"\"}},\"coloraxis\":{\"colorbar\":{\"outlinewidth\":0,\"ticks\":\"\"}},\"colorscale\":{\"sequential\":[[0.0,\"#0d0887\"],[0.1111111111111111,\"#46039f\"],[0.2222222222222222,\"#7201a8\"],[0.3333333333333333,\"#9c179e\"],[0.4444444444444444,\"#bd3786\"],[0.5555555555555556,\"#d8576b\"],[0.6666666666666666,\"#ed7953\"],[0.7777777777777778,\"#fb9f3a\"],[0.8888888888888888,\"#fdca26\"],[1.0,\"#f0f921\"]],\"sequentialminus\":[[0.0,\"#0d0887\"],[0.1111111111111111,\"#46039f\"],[0.2222222222222222,\"#7201a8\"],[0.3333333333333333,\"#9c179e\"],[0.4444444444444444,\"#bd3786\"],[0.5555555555555556,\"#d8576b\"],[0.6666666666666666,\"#ed7953\"],[0.7777777777777778,\"#fb9f3a\"],[0.8888888888888888,\"#fdca26\"],[1.0,\"#f0f921\"]],\"diverging\":[[0,\"#8e0152\"],[0.1,\"#c51b7d\"],[0.2,\"#de77ae\"],[0.3,\"#f1b6da\"],[0.4,\"#fde0ef\"],[0.5,\"#f7f7f7\"],[0.6,\"#e6f5d0\"],[0.7,\"#b8e186\"],[0.8,\"#7fbc41\"],[0.9,\"#4d9221\"],[1,\"#276419\"]]},\"xaxis\":{\"gridcolor\":\"#EBF0F8\",\"linecolor\":\"#EBF0F8\",\"ticks\":\"\",\"title\":{\"standoff\":15},\"zerolinecolor\":\"#EBF0F8\",\"automargin\":true,\"zerolinewidth\":2},\"yaxis\":{\"gridcolor\":\"#EBF0F8\",\"linecolor\":\"#EBF0F8\",\"ticks\":\"\",\"title\":{\"standoff\":15},\"zerolinecolor\":\"#EBF0F8\",\"automargin\":true,\"zerolinewidth\":2},\"scene\":{\"xaxis\":{\"backgroundcolor\":\"white\",\"gridcolor\":\"#DFE8F3\",\"linecolor\":\"#EBF0F8\",\"showbackground\":true,\"ticks\":\"\",\"zerolinecolor\":\"#EBF0F8\",\"gridwidth\":2},\"yaxis\":{\"backgroundcolor\":\"white\",\"gridcolor\":\"#DFE8F3\",\"linecolor\":\"#EBF0F8\",\"showbackground\":true,\"ticks\":\"\",\"zerolinecolor\":\"#EBF0F8\",\"gridwidth\":2},\"zaxis\":{\"backgroundcolor\":\"white\",\"gridcolor\":\"#DFE8F3\",\"linecolor\":\"#EBF0F8\",\"showbackground\":true,\"ticks\":\"\",\"zerolinecolor\":\"#EBF0F8\",\"gridwidth\":2}},\"shapedefaults\":{\"line\":{\"color\":\"#2a3f5f\"}},\"annotationdefaults\":{\"arrowcolor\":\"#2a3f5f\",\"arrowhead\":0,\"arrowwidth\":1},\"geo\":{\"bgcolor\":\"white\",\"landcolor\":\"white\",\"subunitcolor\":\"#C8D4E3\",\"showland\":true,\"showlakes\":true,\"lakecolor\":\"white\"},\"title\":{\"x\":0.05},\"mapbox\":{\"style\":\"light\"}}},\"xaxis\":{\"anchor\":\"y\",\"domain\":[0.0,1.0],\"title\":{\"text\":\"Year\"}},\"yaxis\":{\"anchor\":\"x\",\"domain\":[0.0,1.0],\"title\":{\"text\":\"Number of courses of antibiotics in the first year of life (per 1000)\"}},\"legend\":{\"title\":{\"text\":\"\"},\"tracegroupgap\":0},\"title\":{\"text\":\"Comparison of Model & Target Antibiotic Exposure Rates\\u003cbr\\u003eProvince: CA\\u003cbr\\u003eInitial Births in 2001: 5000\\u003cbr\\u003eProjection Scenario: M3\",\"x\":0.5,\"y\":0.95},\"height\":600,\"shapes\":[{\"line\":{\"color\":\"purple\",\"dash\":\"dash\"},\"name\":\"Threshold (50 per 1000)\",\"showlegend\":true,\"type\":\"line\",\"x0\":0,\"x1\":1,\"xref\":\"x domain\",\"y0\":50,\"y1\":50,\"yref\":\"y\"}],\"margin\":{\"t\":150},\"showlegend\":true},                        {\"toImageButtonOptions\": {\"format\": \"png\", \"scale\": 2}, \"responsive\": true}                    )                };            </script>        </div>"
      ]
     },
     "metadata": {},
     "output_type": "display_data"
    }
   ],
   "source": [
    "color_map={\n",
    "    \"M\": \"#09bfc4\",\n",
    "    \"F\": \"#f39c12\",\n",
    "}\n",
    "\n",
    "fig = px.line(\n",
    "    model_abx_df,\n",
    "    x=\"year\",\n",
    "    y=\"rate\",\n",
    "    title=f\"Comparison of Model & Target Antibiotic Exposure Rates<br>\"\n",
    "    + f\"Province: {PROVINCE}<br>\"\n",
    "    + f\"Initial Births in {STARTING_YEAR}: {N_BIRTHS}<br>\"\n",
    "    + f\"Projection Scenario: {GROWTH_TYPE}\",\n",
    "    labels={\"rate\": \"Number of courses of antibiotics in the first year of life (per 1000)\"},\n",
    "    color=\"sex\",\n",
    "    color_discrete_map=color_map,\n",
    "    height=600\n",
    ")\n",
    "fig.for_each_trace(lambda t: t.update(name=t.name + \" (model)\"))\n",
    "\n",
    "fig_target = px.line(\n",
    "    target_abx_df,\n",
    "    x=\"year\",\n",
    "    y=\"rate\",\n",
    "    labels={\"rate\": \"Number of courses of antibiotics in the first year of life (per 1000)\"},\n",
    "    color=\"sex\",\n",
    "    color_discrete_map=color_map,\n",
    "    line_dash_sequence=[\"dash\"],\n",
    "    height=600\n",
    ")\n",
    "fig_target.for_each_trace(lambda t: t.update(name=t.name + \" (target)\"))\n",
    "fig.add_traces(\n",
    "    fig_target.data\n",
    ")\n",
    "fig.add_hline(\n",
    "    y=50,\n",
    "    line_dash=\"dash\",\n",
    "    line_color=\"purple\",\n",
    "    showlegend=True,\n",
    "    name=\"Threshold (50 per 1000)\"\n",
    ")\n",
    "\n",
    "fig.update_xaxes(title_text=\"Year\")\n",
    "fig.update_layout(\n",
    "    legend_title_text=\"\",\n",
    "    title_x=0.5,\n",
    "    title_y=0.95,\n",
    "    margin=dict(t=150), # Adjust top margin for title\n",
    "    showlegend=True\n",
    ")\n",
    "fig.show(config=config)"
   ]
  },
  {
   "cell_type": "markdown",
   "id": "fd23a07c",
   "metadata": {},
   "source": [
    "## Asthma Control Level Figure\n",
    "\n",
    "Asthma control levels by the model (solid) and target (dashed):\n",
    "\n",
    "1. <span style=\"color: blue;\">blue: well-controlled</span>\n",
    "2. <span style=\"color: orange;\">orange: partially-controlled</span>\n",
    "3. <span style=\"color: red;\">red: uncontrolled</span>"
   ]
  },
  {
   "cell_type": "markdown",
   "id": "60fbb00c",
   "metadata": {},
   "source": [
    "### Load Data"
   ]
  },
  {
   "cell_type": "code",
   "execution_count": 15,
   "id": "c2d38cf4",
   "metadata": {
    "execution": {
     "iopub.execute_input": "2025-08-30T21:58:55.335770Z",
     "iopub.status.busy": "2025-08-30T21:58:55.335566Z",
     "iopub.status.idle": "2025-08-30T21:58:55.358608Z",
     "shell.execute_reply": "2025-08-30T21:58:55.357931Z"
    }
   },
   "outputs": [],
   "source": [
    "# Read in simulation control data\n",
    "df_model_control = pd.read_csv(RUN_BUNDLE_FOLDER / \"outcome_matrix_control.csv\")"
   ]
  },
  {
   "cell_type": "markdown",
   "id": "9b7e2912",
   "metadata": {},
   "source": [
    "### Process Data"
   ]
  },
  {
   "cell_type": "code",
   "execution_count": 16,
   "id": "bc7edbe4",
   "metadata": {
    "execution": {
     "iopub.execute_input": "2025-08-30T21:58:55.360581Z",
     "iopub.status.busy": "2025-08-30T21:58:55.360396Z",
     "iopub.status.idle": "2025-08-30T21:58:55.386978Z",
     "shell.execute_reply": "2025-08-30T21:58:55.386444Z"
    }
   },
   "outputs": [],
   "source": [
    "# Validation parameters\n",
    "TARGET_CONTROL = {\n",
    "    \"uncontrolled\": 0.18,\n",
    "    \"partially_controlled\": 0.47,\n",
    "    \"well_controlled\": 0.35\n",
    "}\n",
    "\n",
    "categories = [\"uncontrolled\", \"partially_controlled\", \"well_controlled\"]\n",
    "\n",
    "df_model_control = df_model_control.groupby([\"year\", \"level\"])\n",
    "\n",
    "# Sum over the probabilities for each control level and year\n",
    "df_model_control = df_model_control.aggregate({\n",
    "    \"prob\": \"sum\"\n",
    "}).reset_index().pivot(index=\"year\", columns=\"level\", values=\"prob\").rename(\n",
    "    columns={0: \"well_controlled\", 1: \"partially_controlled\", 2: \"uncontrolled\"}\n",
    ").reset_index().rename_axis(None, axis=1)\n",
    "\n",
    "# Normalize by year\n",
    "df_model_control[\"total\"] = df_model_control.apply(\n",
    "    lambda x: x[\"uncontrolled\"] + x[\"partially_controlled\"] + x[\"well_controlled\"], axis=1\n",
    ")\n",
    "for level in categories:\n",
    "    df_model_control[level] /= df_model_control[\"total\"]\n",
    "\n",
    "# Melt the DataFrame to long format for plotting\n",
    "df_model_control = df_model_control.melt(\n",
    "    id_vars=[\"year\"],\n",
    "    value_vars=categories,\n",
    "    var_name=\"control_level\",\n",
    "    value_name=\"prob\"\n",
    ")"
   ]
  },
  {
   "cell_type": "markdown",
   "id": "0f145cd3",
   "metadata": {},
   "source": [
    "### Visualize Data"
   ]
  },
  {
   "cell_type": "code",
   "execution_count": 17,
   "id": "574010a7",
   "metadata": {
    "execution": {
     "iopub.execute_input": "2025-08-30T21:58:55.388976Z",
     "iopub.status.busy": "2025-08-30T21:58:55.388760Z",
     "iopub.status.idle": "2025-08-30T21:58:55.476457Z",
     "shell.execute_reply": "2025-08-30T21:58:55.475854Z"
    }
   },
   "outputs": [
    {
     "data": {
      "text/html": [
       "<div>            <script src=\"https://cdnjs.cloudflare.com/ajax/libs/mathjax/2.7.5/MathJax.js?config=TeX-AMS-MML_SVG\"></script><script type=\"text/javascript\">if (window.MathJax && window.MathJax.Hub && window.MathJax.Hub.Config) {window.MathJax.Hub.Config({SVG: {font: \"STIX-Web\"}});}</script>                <script type=\"text/javascript\">window.PlotlyConfig = {MathJaxConfig: 'local'};</script>\n",
       "        <script charset=\"utf-8\" src=\"https://cdn.plot.ly/plotly-3.1.0.min.js\" integrity=\"sha256-Ei4740bWZhaUTQuD6q9yQlgVCMPBz6CZWhevDYPv93A=\" crossorigin=\"anonymous\"></script>                <div id=\"d9337624-8557-41a1-85de-6f096e8de6af\" class=\"plotly-graph-div\" style=\"height:525px; width:100%;\"></div>            <script type=\"text/javascript\">                window.PLOTLYENV=window.PLOTLYENV || {};                                if (document.getElementById(\"d9337624-8557-41a1-85de-6f096e8de6af\")) {                    Plotly.newPlot(                        \"d9337624-8557-41a1-85de-6f096e8de6af\",                        [{\"hovertemplate\":\"control_level=uncontrolled\\u003cbr\\u003eyear=%{x}\\u003cbr\\u003eprob=%{y}\\u003cextra\\u003e\\u003c\\u002fextra\\u003e\",\"legendgroup\":\"uncontrolled\",\"line\":{\"color\":\"red\",\"dash\":\"solid\"},\"marker\":{\"symbol\":\"circle\"},\"mode\":\"lines\",\"name\":\"uncontrolled model\",\"orientation\":\"v\",\"showlegend\":true,\"x\":{\"dtype\":\"i2\",\"bdata\":\"0QfSB9MH1AfVB9YH1wfYB9kH2gfbB9wH3QfeB98H4AfhB+IH4wfkB+UH5gfnB+gH6QfqB+sH7AftB+4H\"},\"xaxis\":\"x\",\"y\":{\"dtype\":\"f8\",\"bdata\":\"fG7xcQlqxz\\u002fEm+xwOXPHP5WXCCG6Zcc\\u002fh9Yus1tuxz+InQa6tXHHP81r88k6f8c\\u002fyjjHXjyDxz+QiAzD24LHP3VgYRMRhsc\\u002f7ClJ2FyNxz9EgS3aJJTHP4+JjVkhisc\\u002fNS4IJTyOxz\\u002fjXCfwRoXHP4VNkqHGfMc\\u002fECPpDpN4xz+a0nrIpHvHPx2w4uV\\u002fecc\\u002fHwR3KH12xz8D2grxQ2\\u002fHP+FkN\\u002fVkYcc\\u002f03tu9J5Wxz9aWVY\\u002fQE7HP1EnvtA2Qcc\\u002fgCOYGRI2xz8SyLJYiTDHP6f0ucufM8c\\u002fubVbdq0xxz\\u002fdMDgHQyrHP4DL7ycnKsc\\u002f\"},\"yaxis\":\"y\",\"type\":\"scatter\"},{\"hovertemplate\":\"control_level=partially_controlled\\u003cbr\\u003eyear=%{x}\\u003cbr\\u003eprob=%{y}\\u003cextra\\u003e\\u003c\\u002fextra\\u003e\",\"legendgroup\":\"partially_controlled\",\"line\":{\"color\":\"darkorange\",\"dash\":\"solid\"},\"marker\":{\"symbol\":\"circle\"},\"mode\":\"lines\",\"name\":\"partially controlled model\",\"orientation\":\"v\",\"showlegend\":true,\"x\":{\"dtype\":\"i2\",\"bdata\":\"0QfSB9MH1AfVB9YH1wfYB9kH2gfbB9wH3QfeB98H4AfhB+IH4wfkB+UH5gfnB+gH6QfqB+sH7AftB+4H\"},\"xaxis\":\"x\",\"y\":{\"dtype\":\"f8\",\"bdata\":\"MNNDyc8p3j\\u002f8Zr5sbS3eP5WPVo27K94\\u002fJFKsn1wu3j+qnU0C0zPeP0zfi03lN94\\u002fysJ01HI93j8GfBD0eTveP4TT+c9UN94\\u002f4Dm3z0o33j\\u002fZHph2yzneP9X\\u002fiOcuNd4\\u002f7Hn7tM023j+4XjddeDTeP8p9WQ3PMN4\\u002f1xyRs6su3j+Y2yAA0CreP010qCDJKN4\\u002fXlRLuwUo3j+3D7m0LSXePxm5aV3XIt4\\u002fn9uGxGob3j\\u002fclr\\u002faCBfeP1jXdlr9EN4\\u002fpZVTGKsH3j\\u002fSV2UizgPePz+law31Ad4\\u002fsApElrn83T\\u002fn4Q80xfjdP7IaQdKN990\\u002f\"},\"yaxis\":\"y\",\"type\":\"scatter\"},{\"hovertemplate\":\"control_level=well_controlled\\u003cbr\\u003eyear=%{x}\\u003cbr\\u003eprob=%{y}\\u003cextra\\u003e\\u003c\\u002fextra\\u003e\",\"legendgroup\":\"well_controlled\",\"line\":{\"color\":\"blue\",\"dash\":\"solid\"},\"marker\":{\"symbol\":\"circle\"},\"mode\":\"lines\",\"name\":\"well controlled model\",\"orientation\":\"v\",\"showlegend\":true,\"x\":{\"dtype\":\"i2\",\"bdata\":\"0QfSB9MH1AfVB9YH1wfYB9kH2gfbB9wH3QfeB98H4AfhB+IH4wfkB+UH5gfnB+gH6QfqB+sH7AftB+4H\"},\"xaxis\":\"x\",\"y\":{\"dtype\":\"f8\",\"bdata\":\"knXDfSsh1j8gS8va9RjWP58kJWJnIdY\\u002fmkK8hnUa1j+SE68gUhPWP85qek19CNY\\u002f0qAn\\u002fO4A1j+yP2kqGAPWP0N8VaaiBdY\\u002fKzEkxAYC1j+GIFEcIvzVP2Q7sGvABdY\\u002f+26AOBQC1j\\u002fW8rQq5AjWP3Nb3aHNENY\\u002fo1H6xAoV1j8au6GbXRfWP6MzZux2GtY\\u002fkil5sLsc1j9Ig8FSMCPWP3eU+id2LNY\\u002fduZBwUU51j92PJUF10HWPwEVKj1nTtY\\u002fmljg2ktd1j8jREEx7WPWP25gtww7ZNY\\u002fdRqOrm9q1j+rBVRIGXLWP47\\u002fxplec9Y\\u002f\"},\"yaxis\":\"y\",\"type\":\"scatter\"}],                        {\"template\":{\"data\":{\"histogram2dcontour\":[{\"type\":\"histogram2dcontour\",\"colorbar\":{\"outlinewidth\":0,\"ticks\":\"\"},\"colorscale\":[[0.0,\"#0d0887\"],[0.1111111111111111,\"#46039f\"],[0.2222222222222222,\"#7201a8\"],[0.3333333333333333,\"#9c179e\"],[0.4444444444444444,\"#bd3786\"],[0.5555555555555556,\"#d8576b\"],[0.6666666666666666,\"#ed7953\"],[0.7777777777777778,\"#fb9f3a\"],[0.8888888888888888,\"#fdca26\"],[1.0,\"#f0f921\"]]}],\"choropleth\":[{\"type\":\"choropleth\",\"colorbar\":{\"outlinewidth\":0,\"ticks\":\"\"}}],\"histogram2d\":[{\"type\":\"histogram2d\",\"colorbar\":{\"outlinewidth\":0,\"ticks\":\"\"},\"colorscale\":[[0.0,\"#0d0887\"],[0.1111111111111111,\"#46039f\"],[0.2222222222222222,\"#7201a8\"],[0.3333333333333333,\"#9c179e\"],[0.4444444444444444,\"#bd3786\"],[0.5555555555555556,\"#d8576b\"],[0.6666666666666666,\"#ed7953\"],[0.7777777777777778,\"#fb9f3a\"],[0.8888888888888888,\"#fdca26\"],[1.0,\"#f0f921\"]]}],\"heatmap\":[{\"type\":\"heatmap\",\"colorbar\":{\"outlinewidth\":0,\"ticks\":\"\"},\"colorscale\":[[0.0,\"#0d0887\"],[0.1111111111111111,\"#46039f\"],[0.2222222222222222,\"#7201a8\"],[0.3333333333333333,\"#9c179e\"],[0.4444444444444444,\"#bd3786\"],[0.5555555555555556,\"#d8576b\"],[0.6666666666666666,\"#ed7953\"],[0.7777777777777778,\"#fb9f3a\"],[0.8888888888888888,\"#fdca26\"],[1.0,\"#f0f921\"]]}],\"contourcarpet\":[{\"type\":\"contourcarpet\",\"colorbar\":{\"outlinewidth\":0,\"ticks\":\"\"}}],\"contour\":[{\"type\":\"contour\",\"colorbar\":{\"outlinewidth\":0,\"ticks\":\"\"},\"colorscale\":[[0.0,\"#0d0887\"],[0.1111111111111111,\"#46039f\"],[0.2222222222222222,\"#7201a8\"],[0.3333333333333333,\"#9c179e\"],[0.4444444444444444,\"#bd3786\"],[0.5555555555555556,\"#d8576b\"],[0.6666666666666666,\"#ed7953\"],[0.7777777777777778,\"#fb9f3a\"],[0.8888888888888888,\"#fdca26\"],[1.0,\"#f0f921\"]]}],\"surface\":[{\"type\":\"surface\",\"colorbar\":{\"outlinewidth\":0,\"ticks\":\"\"},\"colorscale\":[[0.0,\"#0d0887\"],[0.1111111111111111,\"#46039f\"],[0.2222222222222222,\"#7201a8\"],[0.3333333333333333,\"#9c179e\"],[0.4444444444444444,\"#bd3786\"],[0.5555555555555556,\"#d8576b\"],[0.6666666666666666,\"#ed7953\"],[0.7777777777777778,\"#fb9f3a\"],[0.8888888888888888,\"#fdca26\"],[1.0,\"#f0f921\"]]}],\"mesh3d\":[{\"type\":\"mesh3d\",\"colorbar\":{\"outlinewidth\":0,\"ticks\":\"\"}}],\"scatter\":[{\"fillpattern\":{\"fillmode\":\"overlay\",\"size\":10,\"solidity\":0.2},\"type\":\"scatter\"}],\"parcoords\":[{\"type\":\"parcoords\",\"line\":{\"colorbar\":{\"outlinewidth\":0,\"ticks\":\"\"}}}],\"scatterpolargl\":[{\"type\":\"scatterpolargl\",\"marker\":{\"colorbar\":{\"outlinewidth\":0,\"ticks\":\"\"}}}],\"bar\":[{\"error_x\":{\"color\":\"#2a3f5f\"},\"error_y\":{\"color\":\"#2a3f5f\"},\"marker\":{\"line\":{\"color\":\"white\",\"width\":0.5},\"pattern\":{\"fillmode\":\"overlay\",\"size\":10,\"solidity\":0.2}},\"type\":\"bar\"}],\"scattergeo\":[{\"type\":\"scattergeo\",\"marker\":{\"colorbar\":{\"outlinewidth\":0,\"ticks\":\"\"}}}],\"scatterpolar\":[{\"type\":\"scatterpolar\",\"marker\":{\"colorbar\":{\"outlinewidth\":0,\"ticks\":\"\"}}}],\"histogram\":[{\"marker\":{\"pattern\":{\"fillmode\":\"overlay\",\"size\":10,\"solidity\":0.2}},\"type\":\"histogram\"}],\"scattergl\":[{\"type\":\"scattergl\",\"marker\":{\"colorbar\":{\"outlinewidth\":0,\"ticks\":\"\"}}}],\"scatter3d\":[{\"type\":\"scatter3d\",\"line\":{\"colorbar\":{\"outlinewidth\":0,\"ticks\":\"\"}},\"marker\":{\"colorbar\":{\"outlinewidth\":0,\"ticks\":\"\"}}}],\"scattermap\":[{\"type\":\"scattermap\",\"marker\":{\"colorbar\":{\"outlinewidth\":0,\"ticks\":\"\"}}}],\"scattermapbox\":[{\"type\":\"scattermapbox\",\"marker\":{\"colorbar\":{\"outlinewidth\":0,\"ticks\":\"\"}}}],\"scatterternary\":[{\"type\":\"scatterternary\",\"marker\":{\"colorbar\":{\"outlinewidth\":0,\"ticks\":\"\"}}}],\"scattercarpet\":[{\"type\":\"scattercarpet\",\"marker\":{\"colorbar\":{\"outlinewidth\":0,\"ticks\":\"\"}}}],\"carpet\":[{\"aaxis\":{\"endlinecolor\":\"#2a3f5f\",\"gridcolor\":\"#C8D4E3\",\"linecolor\":\"#C8D4E3\",\"minorgridcolor\":\"#C8D4E3\",\"startlinecolor\":\"#2a3f5f\"},\"baxis\":{\"endlinecolor\":\"#2a3f5f\",\"gridcolor\":\"#C8D4E3\",\"linecolor\":\"#C8D4E3\",\"minorgridcolor\":\"#C8D4E3\",\"startlinecolor\":\"#2a3f5f\"},\"type\":\"carpet\"}],\"table\":[{\"cells\":{\"fill\":{\"color\":\"#EBF0F8\"},\"line\":{\"color\":\"white\"}},\"header\":{\"fill\":{\"color\":\"#C8D4E3\"},\"line\":{\"color\":\"white\"}},\"type\":\"table\"}],\"barpolar\":[{\"marker\":{\"line\":{\"color\":\"white\",\"width\":0.5},\"pattern\":{\"fillmode\":\"overlay\",\"size\":10,\"solidity\":0.2}},\"type\":\"barpolar\"}],\"pie\":[{\"automargin\":true,\"type\":\"pie\"}]},\"layout\":{\"autotypenumbers\":\"strict\",\"colorway\":[\"#636efa\",\"#EF553B\",\"#00cc96\",\"#ab63fa\",\"#FFA15A\",\"#19d3f3\",\"#FF6692\",\"#B6E880\",\"#FF97FF\",\"#FECB52\"],\"font\":{\"color\":\"#2a3f5f\"},\"hovermode\":\"closest\",\"hoverlabel\":{\"align\":\"left\"},\"paper_bgcolor\":\"white\",\"plot_bgcolor\":\"white\",\"polar\":{\"bgcolor\":\"white\",\"angularaxis\":{\"gridcolor\":\"#EBF0F8\",\"linecolor\":\"#EBF0F8\",\"ticks\":\"\"},\"radialaxis\":{\"gridcolor\":\"#EBF0F8\",\"linecolor\":\"#EBF0F8\",\"ticks\":\"\"}},\"ternary\":{\"bgcolor\":\"white\",\"aaxis\":{\"gridcolor\":\"#DFE8F3\",\"linecolor\":\"#A2B1C6\",\"ticks\":\"\"},\"baxis\":{\"gridcolor\":\"#DFE8F3\",\"linecolor\":\"#A2B1C6\",\"ticks\":\"\"},\"caxis\":{\"gridcolor\":\"#DFE8F3\",\"linecolor\":\"#A2B1C6\",\"ticks\":\"\"}},\"coloraxis\":{\"colorbar\":{\"outlinewidth\":0,\"ticks\":\"\"}},\"colorscale\":{\"sequential\":[[0.0,\"#0d0887\"],[0.1111111111111111,\"#46039f\"],[0.2222222222222222,\"#7201a8\"],[0.3333333333333333,\"#9c179e\"],[0.4444444444444444,\"#bd3786\"],[0.5555555555555556,\"#d8576b\"],[0.6666666666666666,\"#ed7953\"],[0.7777777777777778,\"#fb9f3a\"],[0.8888888888888888,\"#fdca26\"],[1.0,\"#f0f921\"]],\"sequentialminus\":[[0.0,\"#0d0887\"],[0.1111111111111111,\"#46039f\"],[0.2222222222222222,\"#7201a8\"],[0.3333333333333333,\"#9c179e\"],[0.4444444444444444,\"#bd3786\"],[0.5555555555555556,\"#d8576b\"],[0.6666666666666666,\"#ed7953\"],[0.7777777777777778,\"#fb9f3a\"],[0.8888888888888888,\"#fdca26\"],[1.0,\"#f0f921\"]],\"diverging\":[[0,\"#8e0152\"],[0.1,\"#c51b7d\"],[0.2,\"#de77ae\"],[0.3,\"#f1b6da\"],[0.4,\"#fde0ef\"],[0.5,\"#f7f7f7\"],[0.6,\"#e6f5d0\"],[0.7,\"#b8e186\"],[0.8,\"#7fbc41\"],[0.9,\"#4d9221\"],[1,\"#276419\"]]},\"xaxis\":{\"gridcolor\":\"#EBF0F8\",\"linecolor\":\"#EBF0F8\",\"ticks\":\"\",\"title\":{\"standoff\":15},\"zerolinecolor\":\"#EBF0F8\",\"automargin\":true,\"zerolinewidth\":2},\"yaxis\":{\"gridcolor\":\"#EBF0F8\",\"linecolor\":\"#EBF0F8\",\"ticks\":\"\",\"title\":{\"standoff\":15},\"zerolinecolor\":\"#EBF0F8\",\"automargin\":true,\"zerolinewidth\":2},\"scene\":{\"xaxis\":{\"backgroundcolor\":\"white\",\"gridcolor\":\"#DFE8F3\",\"linecolor\":\"#EBF0F8\",\"showbackground\":true,\"ticks\":\"\",\"zerolinecolor\":\"#EBF0F8\",\"gridwidth\":2},\"yaxis\":{\"backgroundcolor\":\"white\",\"gridcolor\":\"#DFE8F3\",\"linecolor\":\"#EBF0F8\",\"showbackground\":true,\"ticks\":\"\",\"zerolinecolor\":\"#EBF0F8\",\"gridwidth\":2},\"zaxis\":{\"backgroundcolor\":\"white\",\"gridcolor\":\"#DFE8F3\",\"linecolor\":\"#EBF0F8\",\"showbackground\":true,\"ticks\":\"\",\"zerolinecolor\":\"#EBF0F8\",\"gridwidth\":2}},\"shapedefaults\":{\"line\":{\"color\":\"#2a3f5f\"}},\"annotationdefaults\":{\"arrowcolor\":\"#2a3f5f\",\"arrowhead\":0,\"arrowwidth\":1},\"geo\":{\"bgcolor\":\"white\",\"landcolor\":\"white\",\"subunitcolor\":\"#C8D4E3\",\"showland\":true,\"showlakes\":true,\"lakecolor\":\"white\"},\"title\":{\"x\":0.05},\"mapbox\":{\"style\":\"light\"}}},\"xaxis\":{\"anchor\":\"y\",\"domain\":[0.0,1.0],\"title\":{\"text\":\"Year\"}},\"yaxis\":{\"anchor\":\"x\",\"domain\":[0.0,1.0],\"title\":{\"text\":\"Proportion of Time Spent in Asthma Control Level\"},\"range\":[0,1]},\"legend\":{\"title\":{\"text\":\"Control Level\"},\"tracegroupgap\":0},\"title\":{\"text\":\"Asthma Control over Time\",\"x\":0.5,\"y\":0.95},\"shapes\":[{\"line\":{\"color\":\"red\",\"dash\":\"dash\"},\"name\":\"uncontrolled target\",\"showlegend\":true,\"type\":\"line\",\"x0\":0,\"x1\":1,\"xref\":\"x domain\",\"y0\":0.18,\"y1\":0.18,\"yref\":\"y\"},{\"line\":{\"color\":\"darkorange\",\"dash\":\"dash\"},\"name\":\"partially controlled target\",\"showlegend\":true,\"type\":\"line\",\"x0\":0,\"x1\":1,\"xref\":\"x domain\",\"y0\":0.47,\"y1\":0.47,\"yref\":\"y\"},{\"line\":{\"color\":\"blue\",\"dash\":\"dash\"},\"name\":\"well controlled target\",\"showlegend\":true,\"type\":\"line\",\"x0\":0,\"x1\":1,\"xref\":\"x domain\",\"y0\":0.35,\"y1\":0.35,\"yref\":\"y\"}]},                        {\"toImageButtonOptions\": {\"format\": \"png\", \"scale\": 2}, \"responsive\": true}                    )                };            </script>        </div>"
      ]
     },
     "metadata": {},
     "output_type": "display_data"
    }
   ],
   "source": [
    "color_map={\n",
    "    \"well_controlled\": \"blue\",\n",
    "    \"partially_controlled\": \"darkorange\",\n",
    "    \"uncontrolled\": \"red\"\n",
    "}\n",
    "\n",
    "fig = px.line(\n",
    "    df_model_control,\n",
    "    x=\"year\",\n",
    "    y=\"prob\",\n",
    "    color=\"control_level\",\n",
    "    title=\"Asthma Control over Time\",\n",
    "    color_discrete_map=color_map\n",
    ")\n",
    "\n",
    "fig.for_each_trace(lambda t: t.update(name=t.name.replace(\"_\", \" \") + \" model\"))\n",
    "for level in categories:\n",
    "    fig.add_hline(\n",
    "        y=TARGET_CONTROL[level],\n",
    "        line_dash=\"dash\",\n",
    "        line_color=color_map[level],\n",
    "        showlegend=True,\n",
    "        name=level.replace(\"_\", \" \") + \" target\"\n",
    "    )\n",
    "\n",
    "fig.update_xaxes(title_text=\"Year\")\n",
    "fig.update_yaxes(title_text=\"Proportion of Time Spent in Asthma Control Level\", range=[0, 1])\n",
    "fig.update_layout(\n",
    "    legend_title_text=\"Control Level\",\n",
    "    title_x=0.5,\n",
    "    title_y=0.95\n",
    ")\n",
    "fig.show(config=config)"
   ]
  },
  {
   "cell_type": "markdown",
   "id": "eb2bbbeb",
   "metadata": {},
   "source": [
    "## Asthma Exacerbation Severity Figure\n",
    "\n",
    "Simulated (solid) and target (dotted) asthma exacerbation severity levels:\n",
    "\n",
    "1. <span style=\"color: blue;\">blue: mild</span>\n",
    "2. <span style=\"color: green;\">green: moderate</span>\n",
    "3. <span style=\"color: orange;\">orange: severe</span>\n",
    "4. <span style=\"color: red;\">red: very severe</span>"
   ]
  },
  {
   "cell_type": "markdown",
   "id": "de7a662b",
   "metadata": {},
   "source": [
    "### Load Data"
   ]
  },
  {
   "cell_type": "code",
   "execution_count": 18,
   "id": "570d2180",
   "metadata": {
    "execution": {
     "iopub.execute_input": "2025-08-30T21:58:55.478403Z",
     "iopub.status.busy": "2025-08-30T21:58:55.478215Z",
     "iopub.status.idle": "2025-08-30T21:58:55.500809Z",
     "shell.execute_reply": "2025-08-30T21:58:55.500294Z"
    }
   },
   "outputs": [],
   "source": [
    "# Read in simulation control data\n",
    "df_model_exac_severity = pd.read_csv(\n",
    "    RUN_BUNDLE_FOLDER / \"outcome_matrix_exacerbation_by_severity.csv\"\n",
    ")"
   ]
  },
  {
   "cell_type": "markdown",
   "id": "46b57f3a",
   "metadata": {},
   "source": [
    "### Process Data"
   ]
  },
  {
   "cell_type": "code",
   "execution_count": 19,
   "id": "44d56050",
   "metadata": {
    "execution": {
     "iopub.execute_input": "2025-08-30T21:58:55.502708Z",
     "iopub.status.busy": "2025-08-30T21:58:55.502508Z",
     "iopub.status.idle": "2025-08-30T21:58:55.529606Z",
     "shell.execute_reply": "2025-08-30T21:58:55.528944Z"
    }
   },
   "outputs": [],
   "source": [
    "# Validation parameters\n",
    "TARGET_EXAC_SEVERITY = {\n",
    "    \"mild\": 0.495,\n",
    "    \"moderate\": 0.195,\n",
    "    \"severe\": 0.283,\n",
    "    \"very_severe\": 0.026\n",
    "}\n",
    "\n",
    "categories = [\"mild\", \"moderate\", \"severe\", \"very_severe\"]\n",
    "\n",
    "df_model_exac_severity = df_model_exac_severity.groupby([\"year\", \"severity\"])\n",
    "\n",
    "# Sum over the probabilities for each exacerbation severity and year\n",
    "df_model_exac_severity = df_model_exac_severity.aggregate({\n",
    "    \"p_exacerbations\": \"sum\"\n",
    "}).reset_index().pivot(index=\"year\", columns=\"severity\", values=\"p_exacerbations\").rename(\n",
    "    columns={0: \"mild\", 1: \"moderate\", 2: \"severe\", 3: \"very_severe\"}\n",
    ").reset_index().rename_axis(None, axis=1)\n",
    "\n",
    "# Normalize by year\n",
    "df_model_exac_severity[\"total\"] = df_model_exac_severity.apply(\n",
    "    lambda x: x[\"mild\"] + x[\"moderate\"] + x[\"severe\"] + x[\"very_severe\"], axis=1\n",
    ")\n",
    "\n",
    "for severity in categories:\n",
    "    df_model_exac_severity[severity] /= df_model_exac_severity[\"total\"]\n",
    "\n",
    "# Melt the DataFrame to long format for plotting\n",
    "df_model_exac_severity = df_model_exac_severity.melt(\n",
    "    id_vars=[\"year\"],\n",
    "    value_vars=categories,\n",
    "    var_name=\"severity\",\n",
    "    value_name=\"p_exacerbation\"\n",
    ")\n",
    "    "
   ]
  },
  {
   "cell_type": "markdown",
   "id": "b2b6ac17",
   "metadata": {},
   "source": [
    "### Visualize Data"
   ]
  },
  {
   "cell_type": "code",
   "execution_count": 20,
   "id": "982d58cd",
   "metadata": {
    "execution": {
     "iopub.execute_input": "2025-08-30T21:58:55.531714Z",
     "iopub.status.busy": "2025-08-30T21:58:55.531516Z",
     "iopub.status.idle": "2025-08-30T21:58:55.629595Z",
     "shell.execute_reply": "2025-08-30T21:58:55.628868Z"
    }
   },
   "outputs": [
    {
     "data": {
      "text/html": [
       "<div>            <script src=\"https://cdnjs.cloudflare.com/ajax/libs/mathjax/2.7.5/MathJax.js?config=TeX-AMS-MML_SVG\"></script><script type=\"text/javascript\">if (window.MathJax && window.MathJax.Hub && window.MathJax.Hub.Config) {window.MathJax.Hub.Config({SVG: {font: \"STIX-Web\"}});}</script>                <script type=\"text/javascript\">window.PlotlyConfig = {MathJaxConfig: 'local'};</script>\n",
       "        <script charset=\"utf-8\" src=\"https://cdn.plot.ly/plotly-3.1.0.min.js\" integrity=\"sha256-Ei4740bWZhaUTQuD6q9yQlgVCMPBz6CZWhevDYPv93A=\" crossorigin=\"anonymous\"></script>                <div id=\"ac626e94-6498-4b2f-b3b3-e828f9ca51f7\" class=\"plotly-graph-div\" style=\"height:525px; width:100%;\"></div>            <script type=\"text/javascript\">                window.PLOTLYENV=window.PLOTLYENV || {};                                if (document.getElementById(\"ac626e94-6498-4b2f-b3b3-e828f9ca51f7\")) {                    Plotly.newPlot(                        \"ac626e94-6498-4b2f-b3b3-e828f9ca51f7\",                        [{\"hovertemplate\":\"severity=mild\\u003cbr\\u003eyear=%{x}\\u003cbr\\u003ep_exacerbation=%{y}\\u003cextra\\u003e\\u003c\\u002fextra\\u003e\",\"legendgroup\":\"mild\",\"line\":{\"color\":\"blue\",\"dash\":\"solid\"},\"marker\":{\"symbol\":\"circle\"},\"mode\":\"lines\",\"name\":\"mild model\",\"orientation\":\"v\",\"showlegend\":true,\"x\":{\"dtype\":\"i2\",\"bdata\":\"0QfSB9MH1AfVB9YH1wfYB9kH2gfbB9wH3QfeB98H4AfhB+IH4wfkB+UH5gfnB+gH6QfqB+sH7AftB+4H\"},\"xaxis\":\"x\",\"y\":{\"dtype\":\"f8\",\"bdata\":\"9gn2CfYJ4D9yxndZBJjfP7nHK+vQjt8\\u002f3G7IvQJY3z\\u002frl8fR+yTfPxofIBpWYd8\\u002f48Gkgbm93z8N95sYU3zfPxcsxR7YQt8\\u002fZ2Upgqj83z\\u002fGpgmhTgPfP6DQ++UBeN8\\u002fwHhCeqRc3z\\u002flbv+5uhTgP\\u002fMTvGqhlN8\\u002fmJP9D0ul3z9lUM9vUKHfPyBx+t5KNd8\\u002fMPZ+DqQN3z86Kibl1NDfP0AG+UObrN8\\u002f4ju\\u002fm9IX3z8oF8Czi8jfPwz0\\u002fMJAz98\\u002fAn+R0bY33z+SbU21SOjfP1yevxRkiN8\\u002f7+yqTpYh3z\\u002fgJJ30HIDfP0kcexd7jt8\\u002f\"},\"yaxis\":\"y\",\"type\":\"scatter\"},{\"hovertemplate\":\"severity=moderate\\u003cbr\\u003eyear=%{x}\\u003cbr\\u003ep_exacerbation=%{y}\\u003cextra\\u003e\\u003c\\u002fextra\\u003e\",\"legendgroup\":\"moderate\",\"line\":{\"color\":\"green\",\"dash\":\"solid\"},\"marker\":{\"symbol\":\"circle\"},\"mode\":\"lines\",\"name\":\"moderate model\",\"orientation\":\"v\",\"showlegend\":true,\"x\":{\"dtype\":\"i2\",\"bdata\":\"0QfSB9MH1AfVB9YH1wfYB9kH2gfbB9wH3QfeB98H4AfhB+IH4wfkB+UH5gfnB+gH6QfqB+sH7AftB+4H\"},\"xaxis\":\"x\",\"y\":{\"dtype\":\"f8\",\"bdata\":\"iHeId4h3yD9gdNSrps7IP3Yg+y3vhcg\\u002f0B5Yd+k7yT8Xgm0wP2TJP9uuBWuDPsk\\u002fBH4Yl\\u002fBKyD\\u002ffhhoN95vIP0RLzwBkPsk\\u002fyAOrhDCNyD8Zh4mlNrHJP2VOynqMsMg\\u002fgGdHIXM7yD\\u002fUoZHB4ejIPzU\\u002fwasWSsk\\u002fmI7O+o8OyT9PTQSVBRrIP5Fr2SmACMo\\u002fTwiM35IHyj+Z4nSZ4nTJP01pculGNck\\u002fMV8tpanPyD+xPK9aIvzIP+GxhxMee8g\\u002fEG7BVCtOyT8YfTNId5rIP19vVdhtqMg\\u002fuArsgW5iyT8Z+yrCu0LJP99c9DNQuck\\u002f\"},\"yaxis\":\"y\",\"type\":\"scatter\"},{\"hovertemplate\":\"severity=severe\\u003cbr\\u003eyear=%{x}\\u003cbr\\u003ep_exacerbation=%{y}\\u003cextra\\u003e\\u003c\\u002fextra\\u003e\",\"legendgroup\":\"severe\",\"line\":{\"color\":\"darkorange\",\"dash\":\"solid\"},\"marker\":{\"symbol\":\"circle\"},\"mode\":\"lines\",\"name\":\"severe model\",\"orientation\":\"v\",\"showlegend\":true,\"x\":{\"dtype\":\"i2\",\"bdata\":\"0QfSB9MH1AfVB9YH1wfYB9kH2gfbB9wH3QfeB98H4AfhB+IH4wfkB+UH5gfnB+gH6QfqB+sH7AftB+4H\"},\"xaxis\":\"x\",\"y\":{\"dtype\":\"f8\",\"bdata\":\"Kh9zsZf60T9UnlqnlGXSP6Oru4+2WNI\\u002fsU3sCIES0j+LC2gtEnLSP1LOp4HdNdI\\u002fpyySE7pf0j8lK1nJSlbSP+PRQMUoK9I\\u002fjCLKcojb0T8+GWocaz3SP7hL\\u002fhxAbNI\\u002fTZtuFXG20j+ZT2bbV2LRP9n07B0aINI\\u002fWbVVMaj10T+DL5h01GzSPyMbg6HO+NE\\u002frz\\u002fcsRA60j\\u002fisKThsKTRP7IpMLa+49E\\u002fX1OrDjKs0j\\u002fjqY17OM7RP3cjInc3ItI\\u002fcqMdUTxU0j+CyQaGXBTSP5rKWLuWXtI\\u002fKyZpbBhL0j9Sq2AqGvfRPzq\\u002fLNBr8NE\\u002f\"},\"yaxis\":\"y\",\"type\":\"scatter\"},{\"hovertemplate\":\"severity=very_severe\\u003cbr\\u003eyear=%{x}\\u003cbr\\u003ep_exacerbation=%{y}\\u003cextra\\u003e\\u003c\\u002fextra\\u003e\",\"legendgroup\":\"very_severe\",\"line\":{\"color\":\"red\",\"dash\":\"solid\"},\"marker\":{\"symbol\":\"circle\"},\"mode\":\"lines\",\"name\":\"very severe model\",\"orientation\":\"v\",\"showlegend\":true,\"x\":{\"dtype\":\"i2\",\"bdata\":\"0QfSB9MH1AfVB9YH1wfYB9kH2gfbB9wH3QfeB98H4AfhB+IH4wfkB+UH5gfnB+gH6QfqB+sH7AftB+4H\"},\"xaxis\":\"x\",\"y\":{\"dtype\":\"f8\",\"bdata\":\"WxLJ7X9bmz+qEDaUOrGZP5LGr+EOWJ0\\u002ftkDz2Xd4nz\\u002fot5mJJm2bP3KyU+uqmJw\\u002fRifN80HRmz\\u002ffpdl3afadP0TGJbnRLJ8\\u002fmmJvi2wTnj\\u002fyxnf8rmqeP0\\u002fHC\\u002fp7N5w\\u002fKIOz+g3znD81GyD9HPyfP5t5ZReSY5o\\u002fLPxWFEzcnT8Il2URhU2eP07fW6lm2pw\\u002fnF\\u002fs\\u002fRxImz9yOavHjgCdP3G22REpUJ0\\u002fbRLsL2hCnT\\u002fKCao1qrKeP7z40MGLD50\\u002fRGgCL3PPnD8DpiAJ8mGbP6D1zTvkTJw\\u002fmnheP6Ahnj8eJMv+r3aeP9Vg3+UPR5o\\u002f\"},\"yaxis\":\"y\",\"type\":\"scatter\"}],                        {\"template\":{\"data\":{\"histogram2dcontour\":[{\"type\":\"histogram2dcontour\",\"colorbar\":{\"outlinewidth\":0,\"ticks\":\"\"},\"colorscale\":[[0.0,\"#0d0887\"],[0.1111111111111111,\"#46039f\"],[0.2222222222222222,\"#7201a8\"],[0.3333333333333333,\"#9c179e\"],[0.4444444444444444,\"#bd3786\"],[0.5555555555555556,\"#d8576b\"],[0.6666666666666666,\"#ed7953\"],[0.7777777777777778,\"#fb9f3a\"],[0.8888888888888888,\"#fdca26\"],[1.0,\"#f0f921\"]]}],\"choropleth\":[{\"type\":\"choropleth\",\"colorbar\":{\"outlinewidth\":0,\"ticks\":\"\"}}],\"histogram2d\":[{\"type\":\"histogram2d\",\"colorbar\":{\"outlinewidth\":0,\"ticks\":\"\"},\"colorscale\":[[0.0,\"#0d0887\"],[0.1111111111111111,\"#46039f\"],[0.2222222222222222,\"#7201a8\"],[0.3333333333333333,\"#9c179e\"],[0.4444444444444444,\"#bd3786\"],[0.5555555555555556,\"#d8576b\"],[0.6666666666666666,\"#ed7953\"],[0.7777777777777778,\"#fb9f3a\"],[0.8888888888888888,\"#fdca26\"],[1.0,\"#f0f921\"]]}],\"heatmap\":[{\"type\":\"heatmap\",\"colorbar\":{\"outlinewidth\":0,\"ticks\":\"\"},\"colorscale\":[[0.0,\"#0d0887\"],[0.1111111111111111,\"#46039f\"],[0.2222222222222222,\"#7201a8\"],[0.3333333333333333,\"#9c179e\"],[0.4444444444444444,\"#bd3786\"],[0.5555555555555556,\"#d8576b\"],[0.6666666666666666,\"#ed7953\"],[0.7777777777777778,\"#fb9f3a\"],[0.8888888888888888,\"#fdca26\"],[1.0,\"#f0f921\"]]}],\"contourcarpet\":[{\"type\":\"contourcarpet\",\"colorbar\":{\"outlinewidth\":0,\"ticks\":\"\"}}],\"contour\":[{\"type\":\"contour\",\"colorbar\":{\"outlinewidth\":0,\"ticks\":\"\"},\"colorscale\":[[0.0,\"#0d0887\"],[0.1111111111111111,\"#46039f\"],[0.2222222222222222,\"#7201a8\"],[0.3333333333333333,\"#9c179e\"],[0.4444444444444444,\"#bd3786\"],[0.5555555555555556,\"#d8576b\"],[0.6666666666666666,\"#ed7953\"],[0.7777777777777778,\"#fb9f3a\"],[0.8888888888888888,\"#fdca26\"],[1.0,\"#f0f921\"]]}],\"surface\":[{\"type\":\"surface\",\"colorbar\":{\"outlinewidth\":0,\"ticks\":\"\"},\"colorscale\":[[0.0,\"#0d0887\"],[0.1111111111111111,\"#46039f\"],[0.2222222222222222,\"#7201a8\"],[0.3333333333333333,\"#9c179e\"],[0.4444444444444444,\"#bd3786\"],[0.5555555555555556,\"#d8576b\"],[0.6666666666666666,\"#ed7953\"],[0.7777777777777778,\"#fb9f3a\"],[0.8888888888888888,\"#fdca26\"],[1.0,\"#f0f921\"]]}],\"mesh3d\":[{\"type\":\"mesh3d\",\"colorbar\":{\"outlinewidth\":0,\"ticks\":\"\"}}],\"scatter\":[{\"fillpattern\":{\"fillmode\":\"overlay\",\"size\":10,\"solidity\":0.2},\"type\":\"scatter\"}],\"parcoords\":[{\"type\":\"parcoords\",\"line\":{\"colorbar\":{\"outlinewidth\":0,\"ticks\":\"\"}}}],\"scatterpolargl\":[{\"type\":\"scatterpolargl\",\"marker\":{\"colorbar\":{\"outlinewidth\":0,\"ticks\":\"\"}}}],\"bar\":[{\"error_x\":{\"color\":\"#2a3f5f\"},\"error_y\":{\"color\":\"#2a3f5f\"},\"marker\":{\"line\":{\"color\":\"white\",\"width\":0.5},\"pattern\":{\"fillmode\":\"overlay\",\"size\":10,\"solidity\":0.2}},\"type\":\"bar\"}],\"scattergeo\":[{\"type\":\"scattergeo\",\"marker\":{\"colorbar\":{\"outlinewidth\":0,\"ticks\":\"\"}}}],\"scatterpolar\":[{\"type\":\"scatterpolar\",\"marker\":{\"colorbar\":{\"outlinewidth\":0,\"ticks\":\"\"}}}],\"histogram\":[{\"marker\":{\"pattern\":{\"fillmode\":\"overlay\",\"size\":10,\"solidity\":0.2}},\"type\":\"histogram\"}],\"scattergl\":[{\"type\":\"scattergl\",\"marker\":{\"colorbar\":{\"outlinewidth\":0,\"ticks\":\"\"}}}],\"scatter3d\":[{\"type\":\"scatter3d\",\"line\":{\"colorbar\":{\"outlinewidth\":0,\"ticks\":\"\"}},\"marker\":{\"colorbar\":{\"outlinewidth\":0,\"ticks\":\"\"}}}],\"scattermap\":[{\"type\":\"scattermap\",\"marker\":{\"colorbar\":{\"outlinewidth\":0,\"ticks\":\"\"}}}],\"scattermapbox\":[{\"type\":\"scattermapbox\",\"marker\":{\"colorbar\":{\"outlinewidth\":0,\"ticks\":\"\"}}}],\"scatterternary\":[{\"type\":\"scatterternary\",\"marker\":{\"colorbar\":{\"outlinewidth\":0,\"ticks\":\"\"}}}],\"scattercarpet\":[{\"type\":\"scattercarpet\",\"marker\":{\"colorbar\":{\"outlinewidth\":0,\"ticks\":\"\"}}}],\"carpet\":[{\"aaxis\":{\"endlinecolor\":\"#2a3f5f\",\"gridcolor\":\"#C8D4E3\",\"linecolor\":\"#C8D4E3\",\"minorgridcolor\":\"#C8D4E3\",\"startlinecolor\":\"#2a3f5f\"},\"baxis\":{\"endlinecolor\":\"#2a3f5f\",\"gridcolor\":\"#C8D4E3\",\"linecolor\":\"#C8D4E3\",\"minorgridcolor\":\"#C8D4E3\",\"startlinecolor\":\"#2a3f5f\"},\"type\":\"carpet\"}],\"table\":[{\"cells\":{\"fill\":{\"color\":\"#EBF0F8\"},\"line\":{\"color\":\"white\"}},\"header\":{\"fill\":{\"color\":\"#C8D4E3\"},\"line\":{\"color\":\"white\"}},\"type\":\"table\"}],\"barpolar\":[{\"marker\":{\"line\":{\"color\":\"white\",\"width\":0.5},\"pattern\":{\"fillmode\":\"overlay\",\"size\":10,\"solidity\":0.2}},\"type\":\"barpolar\"}],\"pie\":[{\"automargin\":true,\"type\":\"pie\"}]},\"layout\":{\"autotypenumbers\":\"strict\",\"colorway\":[\"#636efa\",\"#EF553B\",\"#00cc96\",\"#ab63fa\",\"#FFA15A\",\"#19d3f3\",\"#FF6692\",\"#B6E880\",\"#FF97FF\",\"#FECB52\"],\"font\":{\"color\":\"#2a3f5f\"},\"hovermode\":\"closest\",\"hoverlabel\":{\"align\":\"left\"},\"paper_bgcolor\":\"white\",\"plot_bgcolor\":\"white\",\"polar\":{\"bgcolor\":\"white\",\"angularaxis\":{\"gridcolor\":\"#EBF0F8\",\"linecolor\":\"#EBF0F8\",\"ticks\":\"\"},\"radialaxis\":{\"gridcolor\":\"#EBF0F8\",\"linecolor\":\"#EBF0F8\",\"ticks\":\"\"}},\"ternary\":{\"bgcolor\":\"white\",\"aaxis\":{\"gridcolor\":\"#DFE8F3\",\"linecolor\":\"#A2B1C6\",\"ticks\":\"\"},\"baxis\":{\"gridcolor\":\"#DFE8F3\",\"linecolor\":\"#A2B1C6\",\"ticks\":\"\"},\"caxis\":{\"gridcolor\":\"#DFE8F3\",\"linecolor\":\"#A2B1C6\",\"ticks\":\"\"}},\"coloraxis\":{\"colorbar\":{\"outlinewidth\":0,\"ticks\":\"\"}},\"colorscale\":{\"sequential\":[[0.0,\"#0d0887\"],[0.1111111111111111,\"#46039f\"],[0.2222222222222222,\"#7201a8\"],[0.3333333333333333,\"#9c179e\"],[0.4444444444444444,\"#bd3786\"],[0.5555555555555556,\"#d8576b\"],[0.6666666666666666,\"#ed7953\"],[0.7777777777777778,\"#fb9f3a\"],[0.8888888888888888,\"#fdca26\"],[1.0,\"#f0f921\"]],\"sequentialminus\":[[0.0,\"#0d0887\"],[0.1111111111111111,\"#46039f\"],[0.2222222222222222,\"#7201a8\"],[0.3333333333333333,\"#9c179e\"],[0.4444444444444444,\"#bd3786\"],[0.5555555555555556,\"#d8576b\"],[0.6666666666666666,\"#ed7953\"],[0.7777777777777778,\"#fb9f3a\"],[0.8888888888888888,\"#fdca26\"],[1.0,\"#f0f921\"]],\"diverging\":[[0,\"#8e0152\"],[0.1,\"#c51b7d\"],[0.2,\"#de77ae\"],[0.3,\"#f1b6da\"],[0.4,\"#fde0ef\"],[0.5,\"#f7f7f7\"],[0.6,\"#e6f5d0\"],[0.7,\"#b8e186\"],[0.8,\"#7fbc41\"],[0.9,\"#4d9221\"],[1,\"#276419\"]]},\"xaxis\":{\"gridcolor\":\"#EBF0F8\",\"linecolor\":\"#EBF0F8\",\"ticks\":\"\",\"title\":{\"standoff\":15},\"zerolinecolor\":\"#EBF0F8\",\"automargin\":true,\"zerolinewidth\":2},\"yaxis\":{\"gridcolor\":\"#EBF0F8\",\"linecolor\":\"#EBF0F8\",\"ticks\":\"\",\"title\":{\"standoff\":15},\"zerolinecolor\":\"#EBF0F8\",\"automargin\":true,\"zerolinewidth\":2},\"scene\":{\"xaxis\":{\"backgroundcolor\":\"white\",\"gridcolor\":\"#DFE8F3\",\"linecolor\":\"#EBF0F8\",\"showbackground\":true,\"ticks\":\"\",\"zerolinecolor\":\"#EBF0F8\",\"gridwidth\":2},\"yaxis\":{\"backgroundcolor\":\"white\",\"gridcolor\":\"#DFE8F3\",\"linecolor\":\"#EBF0F8\",\"showbackground\":true,\"ticks\":\"\",\"zerolinecolor\":\"#EBF0F8\",\"gridwidth\":2},\"zaxis\":{\"backgroundcolor\":\"white\",\"gridcolor\":\"#DFE8F3\",\"linecolor\":\"#EBF0F8\",\"showbackground\":true,\"ticks\":\"\",\"zerolinecolor\":\"#EBF0F8\",\"gridwidth\":2}},\"shapedefaults\":{\"line\":{\"color\":\"#2a3f5f\"}},\"annotationdefaults\":{\"arrowcolor\":\"#2a3f5f\",\"arrowhead\":0,\"arrowwidth\":1},\"geo\":{\"bgcolor\":\"white\",\"landcolor\":\"white\",\"subunitcolor\":\"#C8D4E3\",\"showland\":true,\"showlakes\":true,\"lakecolor\":\"white\"},\"title\":{\"x\":0.05},\"mapbox\":{\"style\":\"light\"}}},\"xaxis\":{\"anchor\":\"y\",\"domain\":[0.0,1.0],\"title\":{\"text\":\"Year\"}},\"yaxis\":{\"anchor\":\"x\",\"domain\":[0.0,1.0],\"title\":{\"text\":\"Proportion of Exacerbations by Severity\"},\"range\":[0,1]},\"legend\":{\"title\":{\"text\":\"Exacerbation Severity\"},\"tracegroupgap\":0},\"title\":{\"text\":\"Exacerbation Severity over Time\",\"x\":0.5,\"y\":0.95},\"shapes\":[{\"line\":{\"color\":\"blue\",\"dash\":\"dash\"},\"name\":\"mild target\",\"showlegend\":true,\"type\":\"line\",\"x0\":0,\"x1\":1,\"xref\":\"x domain\",\"y0\":0.495,\"y1\":0.495,\"yref\":\"y\"},{\"line\":{\"color\":\"green\",\"dash\":\"dash\"},\"name\":\"moderate target\",\"showlegend\":true,\"type\":\"line\",\"x0\":0,\"x1\":1,\"xref\":\"x domain\",\"y0\":0.195,\"y1\":0.195,\"yref\":\"y\"},{\"line\":{\"color\":\"darkorange\",\"dash\":\"dash\"},\"name\":\"severe target\",\"showlegend\":true,\"type\":\"line\",\"x0\":0,\"x1\":1,\"xref\":\"x domain\",\"y0\":0.283,\"y1\":0.283,\"yref\":\"y\"},{\"line\":{\"color\":\"red\",\"dash\":\"dash\"},\"name\":\"very severe target\",\"showlegend\":true,\"type\":\"line\",\"x0\":0,\"x1\":1,\"xref\":\"x domain\",\"y0\":0.026,\"y1\":0.026,\"yref\":\"y\"}]},                        {\"toImageButtonOptions\": {\"format\": \"png\", \"scale\": 2}, \"responsive\": true}                    )                };            </script>        </div>"
      ]
     },
     "metadata": {},
     "output_type": "display_data"
    }
   ],
   "source": [
    "color_map={\n",
    "    \"mild\": \"blue\",\n",
    "    \"moderate\": \"green\",\n",
    "    \"severe\": \"darkorange\",\n",
    "    \"very_severe\": \"red\"\n",
    "}\n",
    "fig = px.line(\n",
    "    df_model_exac_severity,\n",
    "    x=\"year\",\n",
    "    y=\"p_exacerbation\",\n",
    "    color=\"severity\",\n",
    "    title=\"Exacerbation Severity over Time\",\n",
    "    color_discrete_map=color_map\n",
    ")\n",
    "\n",
    "fig.for_each_trace(lambda t: t.update(name=t.name.replace(\"_\", \" \") + \" model\"))\n",
    "for severity in categories:\n",
    "    fig.add_hline(\n",
    "        y=TARGET_EXAC_SEVERITY[severity],\n",
    "        line_dash=\"dash\",\n",
    "        line_color=color_map[severity],\n",
    "        showlegend=True,\n",
    "        name=severity.replace(\"_\", \" \") + \" target\"\n",
    "    )\n",
    "\n",
    "fig.update_xaxes(title_text=\"Year\")\n",
    "fig.update_yaxes(title_text=\"Proportion of Exacerbations by Severity\", range=[0, 1])\n",
    "fig.update_layout(\n",
    "    legend_title_text=\"Exacerbation Severity\",\n",
    "    title_x=0.5,\n",
    "    title_y=0.95\n",
    ")\n",
    "fig.show(config=config)"
   ]
  },
  {
   "cell_type": "markdown",
   "id": "ce9503c5",
   "metadata": {},
   "source": [
    "## Very Severe (Hospitalizations) Figure\n",
    "\n",
    "Comparison of simulated (grey solid) and target (black dotted) very severe asthma\n",
    "exacerbations (asthma-related hospital admissions) per `100 000` general population by sex (left:\n",
    "females; right: males) across years."
   ]
  },
  {
   "cell_type": "markdown",
   "id": "3ccece2a",
   "metadata": {},
   "source": [
    "### Load Data"
   ]
  },
  {
   "cell_type": "code",
   "execution_count": 21,
   "id": "074a1b6c",
   "metadata": {
    "execution": {
     "iopub.execute_input": "2025-08-30T21:58:55.631714Z",
     "iopub.status.busy": "2025-08-30T21:58:55.631511Z",
     "iopub.status.idle": "2025-08-30T21:58:55.658027Z",
     "shell.execute_reply": "2025-08-30T21:58:55.657439Z"
    }
   },
   "outputs": [],
   "source": [
    "# Load in hospitalization from target (CIHI)\n",
    "target_hosp_df_raw = pd.read_csv(\n",
    "    get_data_path(f\"original_data/asthma_hosp/{PROVINCE}/tab1_rate.csv\")\n",
    ")\n",
    "\n",
    "# Load hospitalization data from simulation\n",
    "model_hosp_df_raw = pd.read_csv(RUN_BUNDLE_FOLDER / \"outcome_matrix_exacerbation_hospital.csv\")"
   ]
  },
  {
   "cell_type": "markdown",
   "id": "001a8ce4",
   "metadata": {},
   "source": [
    "### Process Data"
   ]
  },
  {
   "cell_type": "code",
   "execution_count": 22,
   "id": "82294b35",
   "metadata": {
    "execution": {
     "iopub.execute_input": "2025-08-30T21:58:55.660103Z",
     "iopub.status.busy": "2025-08-30T21:58:55.659892Z",
     "iopub.status.idle": "2025-08-30T21:58:55.687370Z",
     "shell.execute_reply": "2025-08-30T21:58:55.686784Z"
    }
   },
   "outputs": [],
   "source": [
    "target_hosp_df = target_hosp_df_raw[[\"fiscal_year\", \"F\", \"M\"]]\n",
    "\n",
    "# Rename fiscal_year to match model\n",
    "target_hosp_df = target_hosp_df.rename(columns={\"fiscal_year\": \"year\"})\n",
    "\n",
    "# Filter fo years larger than starting year\n",
    "target_hosp_df = target_hosp_df[target_hosp_df[\"year\"] >= STARTING_YEAR]\n",
    "\n",
    "# Melt DF to combine M and F columns into sex column\n",
    "target_hosp_df = target_hosp_df.melt(id_vars='year', var_name='sex', value_name='rate')\n",
    "\n",
    "# Drop missing or non-positive rows\n",
    "target_hosp_df = target_hosp_df.dropna(subset=[\"rate\"])\n",
    "\n",
    "# Get total population in model for current year, age, sex\n",
    "model_hosp_df = model_hosp_df_raw.merge(model_alive_df_raw, on=[\"year\", \"age\", \"sex\"])\n",
    "\n",
    "# Group columns to get some\n",
    "model_hosp_df = model_hosp_df.groupby([\"year\", \"sex\"]).sum().reset_index()\n",
    "\n",
    "# Compute rate per 100,000\n",
    "model_hosp_df[\"h_rate\"] = model_hosp_df[\"n_hospitalizations\"] / model_hosp_df[\"n_alive\"] * 100000"
   ]
  },
  {
   "cell_type": "markdown",
   "id": "0598e1b6",
   "metadata": {},
   "source": [
    "### Visualize Data"
   ]
  },
  {
   "cell_type": "code",
   "execution_count": 23,
   "id": "57ddb3f1",
   "metadata": {
    "execution": {
     "iopub.execute_input": "2025-08-30T21:58:55.689411Z",
     "iopub.status.busy": "2025-08-30T21:58:55.689221Z",
     "iopub.status.idle": "2025-08-30T21:58:55.810360Z",
     "shell.execute_reply": "2025-08-30T21:58:55.809649Z"
    }
   },
   "outputs": [
    {
     "data": {
      "text/html": [
       "<div>            <script src=\"https://cdnjs.cloudflare.com/ajax/libs/mathjax/2.7.5/MathJax.js?config=TeX-AMS-MML_SVG\"></script><script type=\"text/javascript\">if (window.MathJax && window.MathJax.Hub && window.MathJax.Hub.Config) {window.MathJax.Hub.Config({SVG: {font: \"STIX-Web\"}});}</script>                <script type=\"text/javascript\">window.PlotlyConfig = {MathJaxConfig: 'local'};</script>\n",
       "        <script charset=\"utf-8\" src=\"https://cdn.plot.ly/plotly-3.1.0.min.js\" integrity=\"sha256-Ei4740bWZhaUTQuD6q9yQlgVCMPBz6CZWhevDYPv93A=\" crossorigin=\"anonymous\"></script>                <div id=\"bac960a2-ac9a-42eb-963e-3c3894874879\" class=\"plotly-graph-div\" style=\"height:525px; width:100%;\"></div>            <script type=\"text/javascript\">                window.PLOTLYENV=window.PLOTLYENV || {};                                if (document.getElementById(\"bac960a2-ac9a-42eb-963e-3c3894874879\")) {                    Plotly.newPlot(                        \"bac960a2-ac9a-42eb-963e-3c3894874879\",                        [{\"hovertemplate\":\"sex=F\\u003cbr\\u003eyear=%{x}\\u003cbr\\u003eRate of hospitalizations per 100 000=%{y}\\u003cextra\\u003e\\u003c\\u002fextra\\u003e\",\"legendgroup\":\"\",\"line\":{\"color\":\"#999999\",\"dash\":\"solid\"},\"marker\":{\"symbol\":\"circle\"},\"mode\":\"lines\",\"name\":\"model\",\"orientation\":\"v\",\"showlegend\":true,\"x\":{\"dtype\":\"i2\",\"bdata\":\"0QfSB9MH1AfVB9YH1wfYB9kH2gfbB9wH3QfeB98H4AfhB+IH4wfkB+UH5gfnB+gH6QfqB+sH7AftB+4H\"},\"xaxis\":\"x\",\"y\":{\"dtype\":\"f8\",\"bdata\":\"qUOkaKqWWEDqiTNTSaNPQBWcNlybBVFAZ5eAYi7GT0D9PJXygKdQQE835Q3K1EhATOdOO+UYRkA8ssvQ\\u002fLBDQHBMSeu0fEZAEk2cCklaQ0ABQb4+9gNCQICbJSphW0FA7nfh1xV3QUCGm6nTvq5CQFeSl4VKHj5AjqAB8hHMQUAO7RwmncJCQCbAaNLtGEFA5kIqMOONQUDXbHdGafQ\\u002fQEypFDiYeEBA\\u002f1gcgzmpQUCIKjlszpFCQIuk5H9EIUFAkBsTFyOfQEBn4qm7tHNAQHjUS6xKLUFA3Yu3bpRTQUC9K6T387FDQMlxB1xOD0BA\"},\"yaxis\":\"y\",\"type\":\"scatter\"},{\"hovertemplate\":\"sex=M\\u003cbr\\u003eyear=%{x}\\u003cbr\\u003eRate of hospitalizations per 100 000=%{y}\\u003cextra\\u003e\\u003c\\u002fextra\\u003e\",\"legendgroup\":\"\",\"line\":{\"color\":\"#999999\",\"dash\":\"solid\"},\"marker\":{\"symbol\":\"circle\"},\"mode\":\"lines\",\"name\":\"\",\"orientation\":\"v\",\"showlegend\":false,\"x\":{\"dtype\":\"i2\",\"bdata\":\"0QfSB9MH1AfVB9YH1wfYB9kH2gfbB9wH3QfeB98H4AfhB+IH4wfkB+UH5gfnB+gH6QfqB+sH7AftB+4H\"},\"xaxis\":\"x2\",\"y\":{\"dtype\":\"f8\",\"bdata\":\"LA32LjJXUEAfGeQ7Yt9FQIWM72FkbEhAknrxHUimS0DWYOlHtKVHQKwg1O2YMUNA2NWXyZRKPUB7BVCavZtBQIUsRBPwoD5Abeyxt1lDP0AugXu2HwM9QCseQtnrhTtAFhuOudtdPEA5NN2dlC5CQOgf\\u002f5g5vjdArFsGUMWIO0BfOD1a3r47QDj\\u002fO9w8xzxA3wezoDjAN0DaQReTHGA\\u002fQFWm4tRgrz9A6m6YLqT4O0ASYnWLQhk\\u002fQMbjGog7FjxAvDcYIQrRPEArQCRoUbg4QEHuyKG39jlAONb96VTXO0DK6N7fEgE5QHuEmtJiLjdA\"},\"yaxis\":\"y2\",\"type\":\"scatter\"},{\"hovertemplate\":\"sex=F\\u003cbr\\u003eyear=%{x}\\u003cbr\\u003erate=%{y}\\u003cextra\\u003e\\u003c\\u002fextra\\u003e\",\"legendgroup\":\"\",\"line\":{\"color\":\"black\",\"dash\":\"dash\"},\"marker\":{\"symbol\":\"circle\"},\"mode\":\"lines\",\"name\":\"target\",\"orientation\":\"v\",\"showlegend\":true,\"x\":{\"dtype\":\"i2\",\"bdata\":\"0QfSB9MH1AfVB9YH1wfYB9kH2gfbB9wH3QfeB98H4AfhBw==\"},\"xaxis\":\"x\",\"y\":{\"dtype\":\"f8\",\"bdata\":\"gVVjK+LYXUAR4DTXL7tTQJJi46AxBVNAZNv7Ff4RUkB26yzLTxtTQAml5rCN8kxAfxRUZzGiR0DwBoaHMcBGQK8SEKldxERARtvrYPdBQ0Ahc2FUc9ZBQCEralG8k0FA07471gLKQEDJLmsD2uFBQAWQ0cx4R0BAma1Zq4UjQEBTNAkYIQZBQA==\"},\"yaxis\":\"y\",\"type\":\"scatter\"},{\"hovertemplate\":\"sex=M\\u003cbr\\u003eyear=%{x}\\u003cbr\\u003erate=%{y}\\u003cextra\\u003e\\u003c\\u002fextra\\u003e\",\"legendgroup\":\"\",\"line\":{\"color\":\"black\",\"dash\":\"dash\"},\"marker\":{\"symbol\":\"circle\"},\"mode\":\"lines\",\"name\":\"\",\"orientation\":\"v\",\"showlegend\":false,\"x\":{\"dtype\":\"i2\",\"bdata\":\"0QfSB9MH1AfVB9YH1wfYB9kH2gfbB9wH3QfeB98H4AfhBw==\"},\"xaxis\":\"x2\",\"y\":{\"dtype\":\"f8\",\"bdata\":\"kPVNJDQSWkCPR1b\\u002fb\\u002fFTQBL3OmTzVVJAldIPXtohUkBKwZYfPuVTQO3WAA5CXU1AHr2zYDX0R0A9nF+AaxNHQDI2cK+rtkNAULru2uISQ0AiiRJUvdpAQIL1dpYWl0BAhQs4BvasPkBrASCwantAQKoavDDJKzxAFV\\u002fx7O2aPkDkETiaelY\\u002fQA==\"},\"yaxis\":\"y2\",\"type\":\"scatter\"}],                        {\"template\":{\"data\":{\"histogram2dcontour\":[{\"type\":\"histogram2dcontour\",\"colorbar\":{\"outlinewidth\":0,\"ticks\":\"\"},\"colorscale\":[[0.0,\"#0d0887\"],[0.1111111111111111,\"#46039f\"],[0.2222222222222222,\"#7201a8\"],[0.3333333333333333,\"#9c179e\"],[0.4444444444444444,\"#bd3786\"],[0.5555555555555556,\"#d8576b\"],[0.6666666666666666,\"#ed7953\"],[0.7777777777777778,\"#fb9f3a\"],[0.8888888888888888,\"#fdca26\"],[1.0,\"#f0f921\"]]}],\"choropleth\":[{\"type\":\"choropleth\",\"colorbar\":{\"outlinewidth\":0,\"ticks\":\"\"}}],\"histogram2d\":[{\"type\":\"histogram2d\",\"colorbar\":{\"outlinewidth\":0,\"ticks\":\"\"},\"colorscale\":[[0.0,\"#0d0887\"],[0.1111111111111111,\"#46039f\"],[0.2222222222222222,\"#7201a8\"],[0.3333333333333333,\"#9c179e\"],[0.4444444444444444,\"#bd3786\"],[0.5555555555555556,\"#d8576b\"],[0.6666666666666666,\"#ed7953\"],[0.7777777777777778,\"#fb9f3a\"],[0.8888888888888888,\"#fdca26\"],[1.0,\"#f0f921\"]]}],\"heatmap\":[{\"type\":\"heatmap\",\"colorbar\":{\"outlinewidth\":0,\"ticks\":\"\"},\"colorscale\":[[0.0,\"#0d0887\"],[0.1111111111111111,\"#46039f\"],[0.2222222222222222,\"#7201a8\"],[0.3333333333333333,\"#9c179e\"],[0.4444444444444444,\"#bd3786\"],[0.5555555555555556,\"#d8576b\"],[0.6666666666666666,\"#ed7953\"],[0.7777777777777778,\"#fb9f3a\"],[0.8888888888888888,\"#fdca26\"],[1.0,\"#f0f921\"]]}],\"contourcarpet\":[{\"type\":\"contourcarpet\",\"colorbar\":{\"outlinewidth\":0,\"ticks\":\"\"}}],\"contour\":[{\"type\":\"contour\",\"colorbar\":{\"outlinewidth\":0,\"ticks\":\"\"},\"colorscale\":[[0.0,\"#0d0887\"],[0.1111111111111111,\"#46039f\"],[0.2222222222222222,\"#7201a8\"],[0.3333333333333333,\"#9c179e\"],[0.4444444444444444,\"#bd3786\"],[0.5555555555555556,\"#d8576b\"],[0.6666666666666666,\"#ed7953\"],[0.7777777777777778,\"#fb9f3a\"],[0.8888888888888888,\"#fdca26\"],[1.0,\"#f0f921\"]]}],\"surface\":[{\"type\":\"surface\",\"colorbar\":{\"outlinewidth\":0,\"ticks\":\"\"},\"colorscale\":[[0.0,\"#0d0887\"],[0.1111111111111111,\"#46039f\"],[0.2222222222222222,\"#7201a8\"],[0.3333333333333333,\"#9c179e\"],[0.4444444444444444,\"#bd3786\"],[0.5555555555555556,\"#d8576b\"],[0.6666666666666666,\"#ed7953\"],[0.7777777777777778,\"#fb9f3a\"],[0.8888888888888888,\"#fdca26\"],[1.0,\"#f0f921\"]]}],\"mesh3d\":[{\"type\":\"mesh3d\",\"colorbar\":{\"outlinewidth\":0,\"ticks\":\"\"}}],\"scatter\":[{\"fillpattern\":{\"fillmode\":\"overlay\",\"size\":10,\"solidity\":0.2},\"type\":\"scatter\"}],\"parcoords\":[{\"type\":\"parcoords\",\"line\":{\"colorbar\":{\"outlinewidth\":0,\"ticks\":\"\"}}}],\"scatterpolargl\":[{\"type\":\"scatterpolargl\",\"marker\":{\"colorbar\":{\"outlinewidth\":0,\"ticks\":\"\"}}}],\"bar\":[{\"error_x\":{\"color\":\"#2a3f5f\"},\"error_y\":{\"color\":\"#2a3f5f\"},\"marker\":{\"line\":{\"color\":\"white\",\"width\":0.5},\"pattern\":{\"fillmode\":\"overlay\",\"size\":10,\"solidity\":0.2}},\"type\":\"bar\"}],\"scattergeo\":[{\"type\":\"scattergeo\",\"marker\":{\"colorbar\":{\"outlinewidth\":0,\"ticks\":\"\"}}}],\"scatterpolar\":[{\"type\":\"scatterpolar\",\"marker\":{\"colorbar\":{\"outlinewidth\":0,\"ticks\":\"\"}}}],\"histogram\":[{\"marker\":{\"pattern\":{\"fillmode\":\"overlay\",\"size\":10,\"solidity\":0.2}},\"type\":\"histogram\"}],\"scattergl\":[{\"type\":\"scattergl\",\"marker\":{\"colorbar\":{\"outlinewidth\":0,\"ticks\":\"\"}}}],\"scatter3d\":[{\"type\":\"scatter3d\",\"line\":{\"colorbar\":{\"outlinewidth\":0,\"ticks\":\"\"}},\"marker\":{\"colorbar\":{\"outlinewidth\":0,\"ticks\":\"\"}}}],\"scattermap\":[{\"type\":\"scattermap\",\"marker\":{\"colorbar\":{\"outlinewidth\":0,\"ticks\":\"\"}}}],\"scattermapbox\":[{\"type\":\"scattermapbox\",\"marker\":{\"colorbar\":{\"outlinewidth\":0,\"ticks\":\"\"}}}],\"scatterternary\":[{\"type\":\"scatterternary\",\"marker\":{\"colorbar\":{\"outlinewidth\":0,\"ticks\":\"\"}}}],\"scattercarpet\":[{\"type\":\"scattercarpet\",\"marker\":{\"colorbar\":{\"outlinewidth\":0,\"ticks\":\"\"}}}],\"carpet\":[{\"aaxis\":{\"endlinecolor\":\"#2a3f5f\",\"gridcolor\":\"#C8D4E3\",\"linecolor\":\"#C8D4E3\",\"minorgridcolor\":\"#C8D4E3\",\"startlinecolor\":\"#2a3f5f\"},\"baxis\":{\"endlinecolor\":\"#2a3f5f\",\"gridcolor\":\"#C8D4E3\",\"linecolor\":\"#C8D4E3\",\"minorgridcolor\":\"#C8D4E3\",\"startlinecolor\":\"#2a3f5f\"},\"type\":\"carpet\"}],\"table\":[{\"cells\":{\"fill\":{\"color\":\"#EBF0F8\"},\"line\":{\"color\":\"white\"}},\"header\":{\"fill\":{\"color\":\"#C8D4E3\"},\"line\":{\"color\":\"white\"}},\"type\":\"table\"}],\"barpolar\":[{\"marker\":{\"line\":{\"color\":\"white\",\"width\":0.5},\"pattern\":{\"fillmode\":\"overlay\",\"size\":10,\"solidity\":0.2}},\"type\":\"barpolar\"}],\"pie\":[{\"automargin\":true,\"type\":\"pie\"}]},\"layout\":{\"autotypenumbers\":\"strict\",\"colorway\":[\"#636efa\",\"#EF553B\",\"#00cc96\",\"#ab63fa\",\"#FFA15A\",\"#19d3f3\",\"#FF6692\",\"#B6E880\",\"#FF97FF\",\"#FECB52\"],\"font\":{\"color\":\"#2a3f5f\"},\"hovermode\":\"closest\",\"hoverlabel\":{\"align\":\"left\"},\"paper_bgcolor\":\"white\",\"plot_bgcolor\":\"white\",\"polar\":{\"bgcolor\":\"white\",\"angularaxis\":{\"gridcolor\":\"#EBF0F8\",\"linecolor\":\"#EBF0F8\",\"ticks\":\"\"},\"radialaxis\":{\"gridcolor\":\"#EBF0F8\",\"linecolor\":\"#EBF0F8\",\"ticks\":\"\"}},\"ternary\":{\"bgcolor\":\"white\",\"aaxis\":{\"gridcolor\":\"#DFE8F3\",\"linecolor\":\"#A2B1C6\",\"ticks\":\"\"},\"baxis\":{\"gridcolor\":\"#DFE8F3\",\"linecolor\":\"#A2B1C6\",\"ticks\":\"\"},\"caxis\":{\"gridcolor\":\"#DFE8F3\",\"linecolor\":\"#A2B1C6\",\"ticks\":\"\"}},\"coloraxis\":{\"colorbar\":{\"outlinewidth\":0,\"ticks\":\"\"}},\"colorscale\":{\"sequential\":[[0.0,\"#0d0887\"],[0.1111111111111111,\"#46039f\"],[0.2222222222222222,\"#7201a8\"],[0.3333333333333333,\"#9c179e\"],[0.4444444444444444,\"#bd3786\"],[0.5555555555555556,\"#d8576b\"],[0.6666666666666666,\"#ed7953\"],[0.7777777777777778,\"#fb9f3a\"],[0.8888888888888888,\"#fdca26\"],[1.0,\"#f0f921\"]],\"sequentialminus\":[[0.0,\"#0d0887\"],[0.1111111111111111,\"#46039f\"],[0.2222222222222222,\"#7201a8\"],[0.3333333333333333,\"#9c179e\"],[0.4444444444444444,\"#bd3786\"],[0.5555555555555556,\"#d8576b\"],[0.6666666666666666,\"#ed7953\"],[0.7777777777777778,\"#fb9f3a\"],[0.8888888888888888,\"#fdca26\"],[1.0,\"#f0f921\"]],\"diverging\":[[0,\"#8e0152\"],[0.1,\"#c51b7d\"],[0.2,\"#de77ae\"],[0.3,\"#f1b6da\"],[0.4,\"#fde0ef\"],[0.5,\"#f7f7f7\"],[0.6,\"#e6f5d0\"],[0.7,\"#b8e186\"],[0.8,\"#7fbc41\"],[0.9,\"#4d9221\"],[1,\"#276419\"]]},\"xaxis\":{\"gridcolor\":\"#EBF0F8\",\"linecolor\":\"#EBF0F8\",\"ticks\":\"\",\"title\":{\"standoff\":15},\"zerolinecolor\":\"#EBF0F8\",\"automargin\":true,\"zerolinewidth\":2},\"yaxis\":{\"gridcolor\":\"#EBF0F8\",\"linecolor\":\"#EBF0F8\",\"ticks\":\"\",\"title\":{\"standoff\":15},\"zerolinecolor\":\"#EBF0F8\",\"automargin\":true,\"zerolinewidth\":2},\"scene\":{\"xaxis\":{\"backgroundcolor\":\"white\",\"gridcolor\":\"#DFE8F3\",\"linecolor\":\"#EBF0F8\",\"showbackground\":true,\"ticks\":\"\",\"zerolinecolor\":\"#EBF0F8\",\"gridwidth\":2},\"yaxis\":{\"backgroundcolor\":\"white\",\"gridcolor\":\"#DFE8F3\",\"linecolor\":\"#EBF0F8\",\"showbackground\":true,\"ticks\":\"\",\"zerolinecolor\":\"#EBF0F8\",\"gridwidth\":2},\"zaxis\":{\"backgroundcolor\":\"white\",\"gridcolor\":\"#DFE8F3\",\"linecolor\":\"#EBF0F8\",\"showbackground\":true,\"ticks\":\"\",\"zerolinecolor\":\"#EBF0F8\",\"gridwidth\":2}},\"shapedefaults\":{\"line\":{\"color\":\"#2a3f5f\"}},\"annotationdefaults\":{\"arrowcolor\":\"#2a3f5f\",\"arrowhead\":0,\"arrowwidth\":1},\"geo\":{\"bgcolor\":\"white\",\"landcolor\":\"white\",\"subunitcolor\":\"#C8D4E3\",\"showland\":true,\"showlakes\":true,\"lakecolor\":\"white\"},\"title\":{\"x\":0.05},\"mapbox\":{\"style\":\"light\"}}},\"xaxis\":{\"anchor\":\"y\",\"domain\":[0.0,0.49],\"title\":{\"text\":\"Year\"}},\"yaxis\":{\"anchor\":\"x\",\"domain\":[0.0,1.0],\"title\":{\"text\":\"Rate of hospitalizations per 100 000\"}},\"xaxis2\":{\"anchor\":\"y2\",\"domain\":[0.51,1.0],\"matches\":\"x\",\"title\":{\"text\":\"Year\"}},\"yaxis2\":{\"anchor\":\"x2\",\"domain\":[0.0,1.0],\"matches\":\"y\",\"showticklabels\":false},\"annotations\":[{\"font\":{},\"showarrow\":false,\"text\":\"sex=F\",\"x\":0.245,\"xanchor\":\"center\",\"xref\":\"paper\",\"y\":1.0,\"yanchor\":\"bottom\",\"yref\":\"paper\"},{\"font\":{},\"showarrow\":false,\"text\":\"sex=M\",\"x\":0.755,\"xanchor\":\"center\",\"xref\":\"paper\",\"y\":1.0,\"yanchor\":\"bottom\",\"yref\":\"paper\"}],\"legend\":{\"tracegroupgap\":0,\"title\":{\"text\":\"\"}},\"title\":{\"text\":\"Rate of Hospitalizations due to Asthma per Year\",\"x\":0.5,\"y\":0.95},\"showlegend\":true},                        {\"toImageButtonOptions\": {\"format\": \"png\", \"scale\": 2}, \"responsive\": true}                    )                };            </script>        </div>"
      ]
     },
     "metadata": {},
     "output_type": "display_data"
    }
   ],
   "source": [
    "fig = px.line(\n",
    "    model_hosp_df,\n",
    "    x=\"year\",\n",
    "    y=\"h_rate\",\n",
    "    facet_col=\"sex\",\n",
    "    title=\"Rate of Hospitalizations due to Asthma per Year\",\n",
    "    labels={\"h_rate\": \"Rate of hospitalizations per 100 000\"},\n",
    "    color_discrete_sequence=[\"#999999\"]\n",
    ")\n",
    "fig_target = px.line(\n",
    "    target_hosp_df,\n",
    "    x=\"year\",\n",
    "    y=\"rate\",\n",
    "    facet_col=\"sex\",\n",
    "    color_discrete_sequence=[\"black\"],\n",
    "    line_dash_sequence=[\"dash\"]\n",
    ")\n",
    "fig.add_traces(\n",
    "    fig_target.data\n",
    ")\n",
    "\n",
    "fig.data[0].update(showlegend=True, name=\"model\")\n",
    "fig.data[2].update(showlegend=True, name=\"target\")\n",
    "fig.update_xaxes(title_text=\"Year\")\n",
    "fig.update_layout(\n",
    "    legend_title_text=\"\",\n",
    "    title_x=0.5,\n",
    "    title_y=0.95,\n",
    "    showlegend=True\n",
    ")\n",
    "fig.show(config=config)"
   ]
  }
 ],
 "metadata": {
  "kernelspec": {
   "display_name": "env",
   "language": "python",
   "name": "python3"
  },
  "language_info": {
   "codemirror_mode": {
    "name": "ipython",
    "version": 3
   },
   "file_extension": ".py",
   "mimetype": "text/x-python",
   "name": "python",
   "nbconvert_exporter": "python",
   "pygments_lexer": "ipython3",
   "version": "3.10.18"
  }
 },
 "nbformat": 4,
 "nbformat_minor": 5
}
